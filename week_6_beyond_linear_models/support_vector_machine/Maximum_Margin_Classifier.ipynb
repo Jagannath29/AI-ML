{
 "cells": [
  {
   "cell_type": "markdown",
   "metadata": {
    "id": "kPluwnbvjF6m"
   },
   "source": [
    "# Maximum Margin Classifier\n",
    "\n"
   ]
  },
  {
   "cell_type": "markdown",
   "metadata": {
    "id": "ukzPl9lRlpaZ"
   },
   "source": [
    "## Learning Objectives\n",
    "\n",
    "After reading this notebook, students will be able to:\n",
    "\n",
    "- Compare different type of decision boundary from different algorithms.\n",
    "- Understand optimum hyperplane, margin and support vectors."
   ]
  },
  {
   "cell_type": "markdown",
   "metadata": {
    "id": "zNjM96tcTyNw"
   },
   "source": [
    "## Recall: Decision Boundary of Different Algorithms\n",
    "\n",
    "The main aim of supervised learning is to correctly identify the learning procedure that can classify previously unseen data patterns.\n",
    "We have already seen the different classifier types in the previous chapter that can linearly separate the data points. Let's recall how KNN, Decision tree creates a decision boundary to separate the data points.\n",
    "\n",
    "\n",
    "<div>\n",
    "  <div align=\"center\">\n",
    "    <figure>\n",
    "     <img src=\"https://i.postimg.cc/YSyg7WKP/image.png\", width=800>\n",
    "     <figcaption>\n",
    "     Figure 1: Decision  Boundaries of Different Algorithms\n",
    "     </figcaption>\n",
    "    </figure>\n",
    "</div>\n",
    "\n",
    "The decision boundary in KNN is highly **non-linear** and **irregular**. It depends directly on the **training data** and the value of **K**. KNN is **sensitive to local data distributions**, meaning small changes in data can lead to different boundaries.  \n",
    "- With a **lower K**, the model tends to **overfit**, creating very complex boundaries.  \n",
    "- With a **higher K**, it becomes **smoother** but may **underfit** the data.\n",
    "\n",
    "The decision boundary of a **Decision Tree** is determined by overlapping orthogonal half-planes (representing the result of each subsequent decision)\n",
    "\n",
    "- Axis-aligned, piecewise constant.\n",
    "\n",
    "- Consists of horizontal and vertical splits (in 2D).\n",
    "\n",
    "- Can only split along one feature at a time, creating rectangular or boxy regions.\n",
    "\n",
    "Whereas in **SVM**, to separate data points, we choose the hyperplane, which has the largest margin among all the other hyperplane.\n",
    "\n",
    "- Linear in feature space, but can be non-linear in input space if using kernel tricks.\n",
    "\n",
    "- Maximizes the margin between classes.\n",
    "\n",
    "- Very clean and smooth boundaries.\n",
    "\n",
    "- Sensitive to the choice of kernel (Linear kernel: Straight line, RBF or Sigmoid Kernel: Curved boundaries)\n",
    "\n",
    "In this section, we will be learning about the working mechanism and boundary conditions of Support Vector Machine."
   ]
  },
  {
   "cell_type": "markdown",
   "metadata": {
    "id": "-9mdzVzByJrm"
   },
   "source": [
    "## Support Vector Machine (SVM)\n",
    "Support Vector Machine (SVM) is a supervised machine learning algorithm that can be used for classification and regression tasks. It aims to find the **optimal hyperplane** that best separates data points of different classes in a high-dimensional space.\n",
    "\n",
    "The core idea of SVM is to **maximize the margin** (the distance between the hyperplane and the nearest data points from each class). These nearest data points are known as **support vectors** and directly affect the placement of hyperplanes. A larger margin is believed to provide better generalization on unseen data."
   ]
  },
  {
   "cell_type": "markdown",
   "metadata": {
    "id": "4BJLBS9ROWND"
   },
   "source": [
    "## Sample Problem\n",
    "\n",
    "For SVM, a line is chosen to separate two different classes. Let's understand the working mechanism of SVM with small problem formulation.\n",
    "\n",
    "**Problem:** Suppose we have a binary data of negative and positive samples in the plane.\n",
    "\n",
    "**Goal:** To separate these data into two groups using the line.\n",
    "\n",
    "**Strategy:** To find the ideal street to separate these data points. The street should be widest as possible. The widest street helps to make our decision. We will see all the derivations onto this.\n",
    "\n",
    "**Intuition:** Lets consider the points near the street as gutters. The gutters on the side of the street help define the working mechanism of SVM.\n",
    "\n",
    "\n",
    "<div align=\"center\">\n",
    "    <figure>\n",
    "     <img src=\"https://i.postimg.cc/nV7Jvfzj/threeline.png\", width=500>\n",
    "     <figcaption>\n",
    "     Figure 3: Three different hyperplanes separating the data points into positives and negatives\n",
    "     </figcaption>\n",
    "    </figure>\n",
    "</div>\n",
    "\n",
    "\n",
    "The figure above shows three lines (hyperplane) to separate the given data points. Among hyperplanes A, B and C, let's find the most suitable line for data points separation.\n",
    "\n",
    "Although line A separates the points correctly and has zero training error problems may arise while testing new data as it lies near the negative sample. So does the line C, which lies near to the positive examples. In the contrary, line B has sufficient space for error as the gap between the line and nearest data points are bigger than the remaining two, making it the most suitable hyperplane for the given problem.\n",
    "\n",
    "\n",
    "This is the principle of **Maximum Margin Classifier**.\n"
   ]
  },
  {
   "cell_type": "markdown",
   "metadata": {
    "id": "U6Gvn4g0J352"
   },
   "source": [
    "## Key Definitions\n",
    "1. **Hyperplane**:  The boundary separating two classes in a dataset.\n",
    "2. **Margin**:  Two lines parallel to the optimal hyperplanes on the two side of the above plot represents the margin.\n",
    "3. **Gutter Variables**:  The points that lie on these two parallel lines are the support vectors.\n",
    "\n",
    "In the above figure, line B is farthest from the nearest data points, hence it is the ideal hyperplane among the three lines.\n",
    "\n",
    "For the geometric view of the line, introducing two vectors *u* and *w*,\n",
    "\n",
    "where, *w* = weight vector perpendicular to the separating hyperplane. It determines the orientation of the hyperplane.\n",
    "\n",
    "*u* = unknown data point that needs to be classified.\n",
    "\n",
    "<div align=\"center\">\n",
    "    <figure>\n",
    "     <img src=\"https://i.postimg.cc/MGJzdNGz/Screenshot-2025-05-30-151736.png\", width=500>\n",
    "     <figcaption>\n",
    "     Figure 4: w and u vector in binary data points\n",
    "     </figcaption>\n",
    "    </figure>\n",
    "</div>\n",
    "\n",
    "The vector w can be scaled further of any length. Now, to find the scalar projection of the vector u onto w, we need to perform the dot product of w and u.\n",
    "\n",
    "$$\\textbf{w}.u$$\n",
    "\n",
    "Measuring whether or not the dot product of w and u is equal to or greater to some constant c, we determine the classification of the unknown point u. If the dot product is greater or equal to the constant, then it crosses the chosen line, indicating that unknown point u is a positive sample. Else the point is a negative sample.\n",
    "\n",
    "$$\\textbf{w}^T.u \\geq c \\rightarrow u_+ \\\\ $$\n",
    "Else,  \n",
    "$$\\textbf{w}^T.u < c \\rightarrow u_- \\\\ $$\n",
    "\n",
    "Now, in many linear classifiers (including SVM), this constant c is replaced by a bias term 𝑏 on the other side of the inequality:\n",
    "$$\\textbf{w}^T.u + b \\geq 0 \\rightarrow u_+ \\\\ $$\n",
    "$$\\textbf{w}^T.u + b < 0 \\rightarrow u_- \\\\ $$\n",
    "\n",
    "These two equations are the same as the value of constant c is equal to -b.\n",
    "\n",
    "\n",
    "\n",
    "<!-- The line B is express in the form of\n",
    "$$\\textbf{w}^Tx + b = 0 \\tag{1}$$\n",
    "\n",
    "For $x \\in \\textbf{R}^2$ we can write the equation of line as\n",
    "\n",
    "$$\\textbf{w}_1x_1+\\textbf{w}_2x_2+b=0 \\tag{2}$$ such that any point lies on the line satisfy the $\\textbf{x}_1 \\text{and} \\ \\textbf{x}_2$ which is  shown in figure below\n",
    "\n",
    "#FIgure\n",
    "\n",
    "In geometry, $y=mx+c$\n",
    "where $m$ is the slope and $c \\ $is the intercept.\n",
    "Since form equation(2),\n",
    "$$x_2 = -\\frac{\\textbf{w}_1}{\\textbf{w}_2}x_1 - \\frac{b}{\\textbf{w}_2} $$\n",
    "\n",
    "But the problem equation (2)  is not the unique line because\n",
    "$$2\\textbf{w}_1x_1+2\\textbf{w}_2x_2+2b=0$$ -->\n"
   ]
  },
  {
   "cell_type": "markdown",
   "metadata": {
    "id": "knjqmUKAIeDB"
   },
   "source": [
    "Now let us consider a linear classifier for binary classification, where:\n",
    "where:\n",
    "\n",
    "- 𝑥 represents the feature vectors\n",
    "- 𝑦∈{−1, +1} represents the class labels We will define a linear classifier for binary classification problem.\n",
    "\n",
    "The decision rule is based on a linear function of the form $$\\textbf{w}^T.x + b$$ where 𝑤 is the weight vector and 𝑏 is the bias term.\n",
    "\n",
    "To correctly classify a point:\n",
    "\n",
    "Positive class (y=+1):\n",
    "\n",
    "$$\\textbf{w}^T.x_+ + b \\geq 1\\\\ $$\n",
    "Negative class (y=-1):\n",
    "\n",
    "$$\\textbf{w}^T.x_- + b \\leq -1\\\\ $$\n",
    "\n",
    "These two conditions can be written collectively as:\n",
    "$$\\textbf y_i({w}^T.x_i + b) \\geq 1\\\\ $$\n",
    "\n",
    "Rewriting the function as,\n",
    "$$\\textbf y_i({w}^T.x_i + b)-1 \\geq 0\\\\ $$\n",
    "\n",
    "For the points that occur exactly on the hyperplane (gutter points),\n",
    "$$\\textbf y_i({w}^T.x_i + b)-1 = 0\\\\ $$\n",
    "\n",
    "**Note:**\n",
    "- We will be using {-1,1} as a label values instead of {0,1}, which is also a common practice.\n"
   ]
  },
  {
   "cell_type": "markdown",
   "metadata": {
    "id": "btAF1gC6TURO"
   },
   "source": [
    "<div align=\"center\">\n",
    "  <figure>\n",
    "    <img src=\"https://i.postimg.cc/sDgCbQmS/gutter.png\" width=\"500\">\n",
    "    <figcaption>\n",
    "      Figure 5: Representation of gutter vector ($x_+$ and $x_-$)\n",
    "    </figcaption>\n",
    "  </figure>\n",
    "</div>\n",
    "\n",
    "The decision boundary (or hyperplane) in a linear classifier is defined by a weight vector $\\mathbf{w}$ and a bias term $b$, and its equation is  \n",
    "$$\\mathbf{w}^\\intercal x + b = 0 \\tag{1}$$\n",
    "\n",
    "Now, imagine two support vectors $x_+$ and $x_-$ that lie on the margins (gutters) of the hyperplane. The margin width (i.e., the width of the street) is the projection of the vector $x_+ - x_-$ onto the unit vector in the direction of $\\mathbf{w}$, which is:  \n",
    "$$\\frac{\\mathbf{w}}{||\\mathbf{w}||}$$\n",
    "\n",
    "The width of the margin is then calculated as:  \n",
    "$$\n",
    "\\text{width} = (x_+ - x_-) \\cdot \\frac{\\mathbf{w}}{||\\mathbf{w}||}\n",
    "$$  \n",
    "$$\n",
    "= \\frac{\\mathbf{w}^\\intercal x_+ - \\mathbf{w}^\\intercal x_-}{||\\mathbf{w}||} \\tag{3}\n",
    "$$\n",
    "\n",
    "Now, in equation (2):  \n",
    "$$y_i(\\mathbf{w}^\\intercal x_i + b) = 1$$\n",
    "\n",
    "If positive, $y_i = 1$:\n",
    "$$\n",
    "\\mathbf{w}^\\intercal x_+ + b = 1 \\tag{4}\n",
    "$$\n",
    "\n",
    "If negative, $y_i = -1$:\n",
    "$$\n",
    "-1(\\mathbf{w}^\\intercal x_- + b) = 1 \\\\\n",
    "-\\mathbf{w}^\\intercal x_- - b = 1 \\\\\n",
    "\\mathbf{w}^\\intercal x_- = -(1 + b) \\tag{5}\n",
    "$$\n",
    "\n",
    "Substituting the values from equations (4) and (5) into equation (3), we get:  \n",
    "$$\n",
    "\\text{width} = \\frac{(1 - b) + (1 + b)}{||\\mathbf{w}||} \\\\\n",
    "= \\frac{2}{||\\mathbf{w}||} \\tag{6}\n",
    "$$\n",
    "\n",
    "Equation (6) reflects the widest street.\n"
   ]
  },
  {
   "cell_type": "markdown",
   "metadata": {
    "id": "AI8GWhkaCApi"
   },
   "source": [
    "Now, our objective is to find a hyperplane that maximizes the width. We can write the equation $(6)$ as,\n",
    "\n",
    "$$\n",
    "\\begin{align}\n",
    "= \\max\\frac{2}{||\\textbf{w}||} \\\\\n",
    "= \\max\\frac{1}{||\\textbf{w}||}\n",
    "\\end{align}\n",
    "$$\n",
    "\n",
    "\n",
    "But just maximizing would not provide us the required hyperplane, as the maximized hyperplane can lie anywhere in the space without actually separating the two classes.\n",
    "\n",
    "To ensure the hyperplane effectively separates the two classes, we introduce a constraint into our optimization problem: the hyperplane must lie between the data points of the two classes. By applying constrained optimization methods, we can then find the optimal hyperplane that maximizes the margin while satisfying this separation constraint."
   ]
  },
  {
   "cell_type": "markdown",
   "metadata": {
    "id": "rmL1Nz1kDYK-"
   },
   "source": [
    "As we mentioned earlier, the class labels $y \\in \\{1, -1\\}$. Now let's suppose, all the points on the negative side ($\\textbf{w}^Tx + b < 0)$ of the hyperplane belong to the negative class ($y = -1$) and, all the points on the positive side ($\\textbf{w}^Tx + b > 0$) of the hyperplane belongs to the positive class ($y = 1$). The \"negative side\" of the hyperplane refers to the region where the value of $(\\textbf{w}^T x + b)$ is negative and vice-versa.\n",
    "\n",
    "To classify each point correctly, the condition to be satisfied is given by,\n",
    "\n",
    "$$\n",
    "y_i \\cdot (\\textbf{w}^Tx_i + b) \\geq 0\n",
    "$$\n",
    "\n",
    "Now, the optimization criterion becomes,\n",
    "$$\n",
    "\\begin{align}\n",
    "&\\max\\frac{1}{||\\textbf{w}||_2}  \\\\\n",
    "&\\text{subject to} \\\n",
    "\\ \\ \\ \\ \\ \\ y_i(W^T \\mathbf x_i + b) \\geq 0 \\\\\n",
    "\\end{align}\n",
    "$$\n",
    "\n"
   ]
  },
  {
   "cell_type": "markdown",
   "metadata": {
    "id": "kK5zn5JsHgWQ"
   },
   "source": [
    "Also we can write as,\n",
    "\n",
    "$$\n",
    "\\begin{align}\n",
    "&\\max\\frac{1}{||\\textbf{w}||_2} \\\\\n",
    "\\Rightarrow &\\min\\||\\textbf{w}|| \\\\\n",
    "\\Rightarrow &\\min\\frac{1}{2}||\\textbf{w}||^2 \\\\\n",
    "\\text{subject to;} \\\\\n",
    "\\ \\ \\ \\ \\ \\ \\ \\ \\ \\ y_i(\\textbf{w}^T x_i + b) \\geq 1 \\ \\tag{7}\\\\\n",
    "\\end{align}\n",
    "$$\n",
    "\n",
    "Solving the equation $(7)$ for the value of $\\textbf{w}$ gives us the solution for the optimal hyperplane of the support vector machine."
   ]
  },
  {
   "cell_type": "markdown",
   "metadata": {
    "id": "_7WRpESVZR5t"
   },
   "source": [
    "By the definition, The margin in the SVM is the distance of the hyperplane to the nearest data points.\n",
    "\n"
   ]
  },
  {
   "cell_type": "markdown",
   "metadata": {
    "id": "89SAAoDWnEM2"
   },
   "source": [
    "## Visualization of Optimal hyperplane using cvxopt library\n",
    "\n",
    "We are going to find an optimal hyperplane by maximizing the equation $(7)$ using a convex optimization library. You can refer to [this](https://courses.csail.mit.edu/6.867/wiki/images/a/a7/Qp-cvxopt.pdf) document to learn in detail."
   ]
  },
  {
   "cell_type": "code",
   "execution_count": null,
   "metadata": {
    "id": "jq5jL3uUoKsP"
   },
   "outputs": [],
   "source": [
    "import numpy as np\n",
    "import matplotlib.pyplot as plt\n",
    "\n",
    "from cvxopt import solvers  # quadratic solvers\n",
    "from cvxopt import matrix"
   ]
  },
  {
   "cell_type": "code",
   "execution_count": null,
   "metadata": {
    "colab": {
     "base_uri": "https://localhost:8080/"
    },
    "executionInfo": {
     "elapsed": 18,
     "status": "ok",
     "timestamp": 1748500044266,
     "user": {
      "displayName": "Ruby Shrestha",
      "userId": "10336774143079926478"
     },
     "user_tz": -345
    },
    "id": "tG5VtTCPoNHf",
    "outputId": "3fdb030d-da80-4e96-b7c9-10f6a5af5c86"
   },
   "outputs": [
    {
     "name": "stdout",
     "output_type": "stream",
     "text": [
      "(6, 3)\n"
     ]
    }
   ],
   "source": [
    "X = np.array([[0,0], [0, 1], [1, 0], [1, 1], [2, 0], [0, 2]]) # data points\n",
    "\n",
    "X_ex = np.hstack((np.ones((X.shape[0], 1)), X))   # reshapes [5,2] point to [1, 5, 2]\n",
    "print(X_ex.shape)\n",
    "\n",
    "numfeatures = 2\n",
    "\n",
    "y = np.array([-1, -1, -1, 1, 1, 1]) # Class labels\n",
    "\n",
    "y = np.reshape(y, (y.shape[0], 1))"
   ]
  },
  {
   "cell_type": "markdown",
   "metadata": {
    "id": "fTC7tWakN0ep"
   },
   "source": [
    "Define Ghpq"
   ]
  },
  {
   "cell_type": "code",
   "execution_count": null,
   "metadata": {
    "id": "8H8e5eFTNz0d"
   },
   "outputs": [],
   "source": [
    "# convert all data to matrix object\n",
    "\n",
    "inequality_constraint = matrix(y * -X_ex, tc='d')\n",
    "rhs_inequality_constraint = matrix(-np.ones((X.shape[0], 1)), tc='d')\n",
    "quadratic_part = matrix(np.identity(numfeatures + 1), tc='d')\n",
    "linear_part = matrix(np.zeros(numfeatures + 1), tc='d')"
   ]
  },
  {
   "cell_type": "code",
   "execution_count": null,
   "metadata": {
    "colab": {
     "base_uri": "https://localhost:8080/"
    },
    "executionInfo": {
     "elapsed": 5,
     "status": "ok",
     "timestamp": 1748500049543,
     "user": {
      "displayName": "Ruby Shrestha",
      "userId": "10336774143079926478"
     },
     "user_tz": -345
    },
    "id": "2RgqkVtXoQdi",
    "outputId": "ce6314f2-6178-44d9-b504-e5935c1fdb45"
   },
   "outputs": [
    {
     "name": "stdout",
     "output_type": "stream",
     "text": [
      "     pcost       dcost       gap    pres   dres\n",
      " 0:  5.6250e-01  3.1042e+00  4e+00  2e+00  2e-15\n",
      " 1:  1.4693e+00  5.1033e+00  3e-01  6e-01  6e-16\n",
      " 2:  9.2454e+00  7.7766e+00  1e+00  5e-16  2e-13\n",
      " 3:  8.5076e+00  8.4879e+00  2e-02  4e-16  1e-14\n",
      " 4:  8.5001e+00  8.4999e+00  2e-04  2e-16  1e-14\n",
      " 5:  8.5000e+00  8.5000e+00  2e-06  3e-16  1e-14\n",
      "Optimal solution found.\n"
     ]
    }
   ],
   "source": [
    "sol = solvers.qp(quadratic_part, linear_part, inequality_constraint, rhs_inequality_constraint) # quadratic solver function with parameters"
   ]
  },
  {
   "cell_type": "code",
   "execution_count": null,
   "metadata": {
    "colab": {
     "base_uri": "https://localhost:8080/",
     "height": 448
    },
    "executionInfo": {
     "elapsed": 449,
     "status": "ok",
     "timestamp": 1748500052479,
     "user": {
      "displayName": "Ruby Shrestha",
      "userId": "10336774143079926478"
     },
     "user_tz": -345
    },
    "id": "RJhW3IZvqH5x",
    "outputId": "0ae84299-0b1b-46a3-ce86-8f135ac6623d"
   },
   "outputs": [
    {
     "data": {
      "text/plain": [
       "[<matplotlib.lines.Line2D at 0x7995ec45c110>]"
      ]
     },
     "execution_count": 5,
     "metadata": {},
     "output_type": "execute_result"
    },
    {
     "data": {
      "image/png": "[encoded data removed]",
      "text/plain": [
       "<Figure size 640x480 with 1 Axes>"
      ]
     },
     "metadata": {},
     "output_type": "display_data"
    }
   ],
   "source": [
    "theta = np.array(sol['x'])\n",
    "\n",
    "# decision boundaries and margins\n",
    "_x = np.arange(-1, 3, 0.2)\n",
    "_y = - (_x * theta[1] + theta[0])/theta[2]\n",
    "_yp = (1 - _x * theta[1] - theta[0])/theta[2]\n",
    "_yn = (-1 - _x * theta[1] - theta[0])/theta[2]\n",
    "\n",
    "plt.scatter(X[:, 0], X[:, 1], c=['r' if _y < 1 else 'b' for _y in y])\n",
    "plt.plot(_x, _y)\n",
    "plt.plot(_x, _yn, c='y', alpha=0.5)\n",
    "plt.plot(_x, _yp, c='y', alpha=0.5)"
   ]
  },
  {
   "cell_type": "markdown",
   "metadata": {
    "id": "WawVGvzgcTwK"
   },
   "source": [
    "In the plot above, the middle line is the optimal hyperplane. Two lines parallel to the optimal hyperplanes on the two side of the above plot represents the margin. The points that lie on these two parallel lines are the support vectors.\n",
    "\n",
    "\n",
    "## Key Takeaways\n",
    "\n",
    "- Hyperplane is a decision boundary that helps to classify,separate, differentiate between different groups of data.\n",
    "\n",
    "-  The margin in the SVM is the distance of the hyperplane to the nearest data points.\n",
    "\n",
    "- Hyperplane with low margin results the high chance of misclassification.\n",
    "\n",
    "- Support vectors are the data points that are closest to the separating hyperplane.\n",
    "\n"
   ]
  }
 ],
 "metadata": {
  "colab": {
   "provenance": [
    {
     "file_id": "1dRPjtp-Nt2pbClOHIUeI-_y7NCiVvS47",
     "timestamp": 1747981139924
    },
    {
     "file_id": "1cErRInoYZYjXbwVHJwY8NvHQE2IabRbg",
     "timestamp": 1600414067839
    },
    {
     "file_id": "17_r0P_cDeJxwSuIxTK28IFcHpWn5P1KJ",
     "timestamp": 1599559081419
    }
   ]
  },
  "kernelspec": {
   "display_name": "Python 3",
   "name": "python3"
  }
 },
 "nbformat": 4,
 "nbformat_minor": 0
}
