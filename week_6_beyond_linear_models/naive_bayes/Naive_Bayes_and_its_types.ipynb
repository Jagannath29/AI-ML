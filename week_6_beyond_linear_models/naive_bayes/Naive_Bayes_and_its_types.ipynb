{
  "cells": [
    {
      "cell_type": "markdown",
      "metadata": {
        "id": "egN4Q1zva_L3"
      },
      "source": [
        "# Naive Bayes\n",
        "\n",
        "\n",
        "\n",
        "## Learning Objective:\n",
        "* Discuss the differences between discriminative and generative learning algorithms.\n",
        "* Recall conditional probabilty and Bayes theorem.\n",
        "* Explain Naive Bayes Classifier.\n",
        "* Discuss the types of Naive Bayes.\n",
        "* Apply naive bayes to solve classification tasks in Python with scikit-learn."
      ]
    },
    {
      "cell_type": "markdown",
      "metadata": {
        "id": "-7qyU49o086Q"
      },
      "source": [
        "In previous chapters, we learned about different classifiers that try to learn the mapping from the input features directly to the target output. For example: logistic regression, decision trees, neural networks and so on. These types of classifiers are known as **discriminative classifiers**. However, there are other classifiers known as generative classifiers that function differently. In this unit, we will be talking about one such generative algorithm named Naive Bayes. But, before we start, let's learn the differences between discriminative and generative classifiers. We will be using an example of fruit classifier to differentiate them. The fruit classifier classifies a fruit as either an apple or an orange.\n"
      ]
    },
    {
      "cell_type": "markdown",
      "metadata": {
        "id": "WYgD_zNcYkp1"
      },
      "source": [
        "## Discriminative Approach"
      ]
    },
    {
      "cell_type": "markdown",
      "metadata": {
        "id": "3ZpAhfE62_JU"
      },
      "source": [
        "Discriminative classifiers use the input features and the corresponding labels in the training set to learn a **decision boundary** that separates the apples and the oranges. Then for a new fruit, it sees which side of the decision boundary the fruit falls in and predicts accordingly. As you can see, learning the decision boundary is analogous to learning the mapping directly from input features to the output class.\n",
        "\n",
        "<figure align=\"center\">\n",
        "       <!-- <img src=\"https://drive.google.com/uc?export=view&id=1JH0O7eZ7gI9RcJc-KdB59Wqf9Kaq8vSy\" height=\"250px\"> -->\n",
        "       <img src=\"https://i.postimg.cc/MZhBmXjk/image.png\" height=\"250px\">\n",
        "       <figcaption>Figure 1: Discriminative Model</figcaption>\n",
        "</figure>\n",
        "\n",
        "\n",
        "\n",
        "\n",
        "\n",
        "\n"
      ]
    },
    {
      "cell_type": "markdown",
      "metadata": {
        "id": "ckfeih4UYnVL"
      },
      "source": [
        "## Generative Approach\n"
      ]
    },
    {
      "cell_type": "markdown",
      "metadata": {
        "id": "0MUFbgdH0h3z"
      },
      "source": [
        "Let’s try a different approach. This time we won't be learning the direct mapping. Instead, we will use the input features belonging to a particular class to learn a **model** for that class. These models represent what a sample belonging to that class looks like. First, looking at the apples, we can learn a model of what the apples look like based on their features. Then, looking at the oranges, we can build a separate model of what the oranges look like based on their features. For a new fruit, we compare it with both: the apple's model as well as the orange's model. We then predict the fruit as a apple if it is more similar to the apple's model or as a orange if it is more similar to the orange's model.\n",
        "\n",
        "<figure align=\"center\">\n",
        "       <!-- <img src=\"https://drive.google.com/uc?export=view&id=1NzXBKn63z58-mTq9JrNZ3G46mmEkXDfK\" height=\"250px\"> -->\n",
        "       <img src=\"https://i.postimg.cc/RCRrcJYh/image.png\" height=\"250px\">\n",
        "       <figcaption>Figure 2: Generative Model</figcaption>\n",
        "   </figure>\n",
        "\n",
        "\n",
        "We can also use the learned model of a class to generate new samples belonging to that class. So these types of models are known as **generative models**. Naive Bayes is an example of such model.\n",
        "\n"
      ]
    },
    {
      "cell_type": "markdown",
      "metadata": {
        "id": "Kx7KRMnb_TzD"
      },
      "source": [
        "Before diving into Naive Bayes, let's recall the basic concepts of **conditional probability** and **Bayes theorem**"
      ]
    },
    {
      "cell_type": "markdown",
      "metadata": {
        "id": "S-OY8jj_XYPH"
      },
      "source": [
        "## Conditional Probability"
      ]
    },
    {
      "cell_type": "markdown",
      "metadata": {
        "id": "6CUVLgAAVwyQ"
      },
      "source": [
        "The conditional probability of an event is the probability of that event occurring given that another event has occurred. Suppose there are two events $A$ and $B$. Then the probability of occurrence of event $A$ given the event $B$ has already occurred is denoted as $P(A|B)$ and defined as:\n",
        "\n",
        "$$P(A|B) = \\frac{P(A \\cap B)}{P(B)}$$\n",
        "where $P (A\\cap B) $ is the probability of both the events $A$ and $B$ occurring.\n",
        "  \n",
        "Note: If the event $A$ is **independent** of event $B$ i.e. the probability of event $A$ is not affected by the event $B$ then $P(A|B) = P(A)$.\n",
        "\n",
        "\n"
      ]
    },
    {
      "cell_type": "markdown",
      "metadata": {
        "id": "VwP0YCRoDrF1"
      },
      "source": [
        "**Example**\n",
        "\n",
        "Let's consider an example. Its monsoon season this time of the year and the probability of raining today is 0.8. Its a weekday, you are working from home so the probability of you going out today is very low, say 0.4. Suppose, the probability of both the events happening *i.e.* raining and you going out is 0.2. What is the probability of you going out given it is raining?\n",
        "\n",
        "Here,\n",
        "\n",
        "$P(\\text{rain}) = 0.8$\n",
        "\n",
        "$P(\\text{out}) = 0.4$\n",
        "\n",
        "$P(\\text{rain} \\cap \\text{out}) = 0.2$\n",
        "\n",
        "$P(\\text{out}|  \\text{rain}) = \\frac{P(\\text{rain} \\cap \\text{out})}{P(\\text{rain})} = \\frac{0.2}{0.8} = 0.25$\n",
        "\n",
        "Thus, the probability of you going out given it is raining is 25\\%. That means you are less likely to go out if it's raining already."
      ]
    },
    {
      "cell_type": "markdown",
      "metadata": {
        "id": "Ixq2_y2_cQaz"
      },
      "source": [
        "## Bayes Theorem"
      ]
    },
    {
      "cell_type": "markdown",
      "metadata": {
        "id": "FENSVvWMecmz"
      },
      "source": [
        "Bayes theorem is an extremely powerful theorem in the field of statistics. It is used to find the probability of a hypothesis given its evidence.\n",
        "\n",
        "According to Bayes' Theorem:  \n",
        "$$\n",
        "P(H|E) = \\frac{P(E|H)\\, P(H)}{P(E)}\n",
        "$$\n",
        "\n",
        "where:\n",
        "\n",
        "- $H$ is the **hypothesis**\n",
        "- $E$ is the **evidence/data** that supports our hypothesis\n",
        "- $P(H|E)$ is the **posterior probability** of the hypothesis given the evidence\n",
        "- $P(H)$ is the **prior probability** of the hypothesis\n",
        "- $P(E)$ is the probability of the evidence\n",
        "- $P(E|H)$ is the **likelihood**: the probability of the evidence given the hypothesis\n",
        "\n",
        "\n",
        "\n",
        "\n"
      ]
    },
    {
      "cell_type": "markdown",
      "metadata": {
        "id": "4fD4SN2rSz1G"
      },
      "source": [
        "**Example**\n",
        "Suppose you are feeling unwell. You search the web and find out that your symptoms match that of a rare disease called Dragon Skin. This disease causes the skin of the patient to be scaled like dragons! You hypothesize that you are suffering from the disease. Here the **hypothesis $(H)$ is that you are suffering from dragon skin and the symptoms are the evidence $(E)$ that supports your hypothesis.**\n",
        "\n"
      ]
    },
    {
      "cell_type": "markdown",
      "metadata": {
        "id": "V1aPuk_NWhSe"
      },
      "source": [
        "You search the web about the dragon skin and come up with the following facts:\n",
        "\n",
        "1. 95 % people show symptoms as yours provided they have dragon skin *ie.* $P(E| H) = 0.95$\n",
        "2. Only 1 among hundred thousand people suffer from dragon skin *ie.* $P(H) = 0.00001$\n",
        "3. The symptoms you have are pretty common like fever and nausea which happens to 1 in every 100 people ie. $P(E) = 0.01$\n"
      ]
    },
    {
      "cell_type": "markdown",
      "metadata": {
        "id": "hnd8nCmOa2ro"
      },
      "source": [
        "After knowing all the facts, you use Bayes Theorem to calculate the probability that you are suffering from dragon skin given the symptoms.\n",
        "\n",
        "$P(H|E) = \\frac{P(E|H)P(H)}{P(E)}= \\frac{0.95 * 0.00001}{0.01} = 0.00095 = 0.95\\%$\n",
        "\n",
        "Hence, there is a very low probability that you are suffering from dragon skin. So you breathe a sigh of relief!"
      ]
    },
    {
      "cell_type": "markdown",
      "metadata": {
        "id": "Xhi0NsU3z5FX"
      },
      "source": [
        "## Naive Bayes Classifier"
      ]
    },
    {
      "cell_type": "markdown",
      "metadata": {
        "id": "gQaktEms0Ssv"
      },
      "source": [
        "You just learned how Bayes Theorem can be used to calculate the probability of a hypothesis being true given its evidence. The same concept can be used to solve the classification problem. In a classification problem, Bayes' theorem can compute the probability that a particular sample falls in a particular class $y$ given it's set of features $x_1, x_2 ... x_i ... x_n$.\n",
        "\n",
        "Relating to the terms in Bayes Theorem, the **hypothesis is that the sample belongs to a particular class and the evidence is the sample's features.** Similarly,\n",
        "\n",
        "$P(H) = P(y)$\n",
        "\n",
        "$P(E) = P(x_1, x_2 ... x_i ... x_n)$\n",
        "\n",
        "$P(E|H) = P(x_1, x_2 ... x_i ... x_n|y)$\n",
        "\n",
        "$P(H|E) = P(y|x_1, x_2 ... x_i ... x_n)$\n",
        "\n",
        "Using Bayes Theorem, for each class $y \\in \\{0,1,2....... k\\}$, we calculate $P(H|E)$ *ie.*\n",
        "\n",
        "$$P(y|x_1, x_2 ... x_i ... x_n) = \\frac{P(x_1, x_2 ... x_i ... x_n|y) \\ P(y)}{P(x_1, x_2 ... x_i ... x_n)} \\ ........(1)$$\n",
        "\n",
        "\\\n",
        "\n",
        "We can write the above expression in a simpler form as:\n",
        "\n",
        "$$P(\\text{class}|\\text{features})=\\frac{P(\\text{features}|\\text{class}) \\ P(\\text{class})}{P(\\text{features})}$$\n",
        "\n",
        "Here the probability of having some features given a particular class ie. $P(\\text{features|class})$ acts as the model for that class using which we calculate $P(\\text{class|features})$.\n",
        "\n",
        "\n"
      ]
    },
    {
      "cell_type": "markdown",
      "metadata": {
        "id": "pafyw4fpByyK"
      },
      "source": [
        "### The Naive Assumption\n",
        "\n",
        "You might be thinking why is the Naive Bayes classifier called 'naive'? Well it is because of the assumption it makes. It assumes that each feature is independent of the other features. This is a naive assumption that is almost never true in reality.\n",
        "\n",
        "An example would be a model to predict whether or not it will rain tomorrow. Suppose the features we use are humidity and cloud coverage. Naive Bayes assumes that the humidity does not depend on cloud coverage and vice versa. This is a pretty big, and often false, assumption. **This is why it is called naive.**\n",
        "\n",
        "When the events are independent of each other, their joint probabilities can be calculated as the product of the probabilities of individual events. As a consequence of this naive assumption, $P(x_1, x_2 ... x_i ... x_n|y)$ can be written as:\n",
        "\n",
        "$$P(x_1, x_2 ... x_i ... x_n|y) = \\prod_i^n P(x_i|y) \\ .........(2)$$\n",
        "\n",
        "\n",
        "\n",
        "\n"
      ]
    },
    {
      "cell_type": "markdown",
      "metadata": {
        "id": "CpMAgll2m6Hu"
      },
      "source": [
        "### Prediction\n",
        "\n",
        "We then predict the $\\text{class}$ that has the highest value of $P(\\text{class}|\\text{features})$ *ie.*\n",
        "\n",
        "$$\\hat{y} = \\operatorname{arg}\\underset{y}{\\operatorname{max}}\\ P(y|x_1, x_2 ... x_i ... x_n)$$\n",
        "\n",
        "\\\n",
        "\n",
        "From $(1)$ and $(2)$ we can write,\n",
        "\n",
        "$$\\hat{y}=\\operatorname{arg}\\underset{y}{\\operatorname{max}}\\  \\frac{\\prod_i^n P(x_i|y) \\ P(y)}{P(x_1, x_2 ... x_i ... x_n)}$$\n",
        "\n",
        "\\\n",
        "\n",
        "When comparing across multiple classes, the denominator $P(x_1, x_2 ... x_i ... x_n)$ is a constant term. So Naive Bayes can be written in a more succinct form as:\n",
        "\n",
        "$$\\hat{y} = \\operatorname{arg}\\underset{y}{\\operatorname{max}}\\  \\prod_i^n P(x_i|y) \\ P(y)$$\n",
        "\n",
        "\n",
        "Hence, Naive Bayes predicts a sample to belong to the class that maximizes the product of probability of getting the sample's features given that class and the prior probability of that class."
      ]
    },
    {
      "cell_type": "markdown",
      "metadata": {
        "id": "ivWpXigHA2rU"
      },
      "source": [
        "**Example: A Simple Naive Bayes Classifier**\n",
        "Let’s understand how Naive Bayes can be used for classification using an example. Consider a classification problem where the input is an SMS message and the output is a binary label classifying the message as spam or not spam.\n",
        "\n",
        "A simple approach would be to see if some words appears in the message at least once, and classify the message based on that. The two most common words that appear frequently in spam messages are \"discount\" and \"cheap\". But then it is not necessary for all the spam messages to contain both the words: some might not contain the word \"discount\", some might not contain the word \"cheap\" and some might not contain both.  It is also not necessary for all the messages that do contain these words to be spam.\n",
        "\n",
        "Suppose that there are 1000 messages in the train set, of which 400 are spam and the others are not. 300 of the 400 spam messages contain the word \"discount\" in them and 260 of them contain the word \"cheap\" in them. Also 90 of the 600 non-spam messages contain the word \"discount\" and 114 of them contain the word \"cheap\" in them.\n",
        "\n",
        "\n",
        "\n"
      ]
    },
    {
      "cell_type": "markdown",
      "metadata": {
        "id": "JltXfn9rhRRx"
      },
      "source": [
        "Let $S$ be an event of a message being spam and $\\bar{S}$ be an event of a message being non-spam. Similary, let $D$ be the event of the word 'Discount' appearing in a message and $C$ be the event of the word \"cheap\" appearing in a message.\n",
        "\n",
        "Then,\n",
        "\n",
        "Probability of getting a spam message, $P(S) = \\frac{400}{1000} = 0.4$\n",
        "\n",
        "Probability of getting a non-spam message, $P(\\bar{S}) = \\frac{600}{1000} = 0.6$\n",
        "\n",
        "Probability of getting the word \"discount\" in a spam message, $P(D|S) = \\frac{300}{400} = 0.75$\n",
        "\n",
        "Probability of getting the word \"cheap\" in a spam message, $P(C|S) = \\frac{260}{400} = 0.65$\n",
        "\n",
        "Probability of getting the word \"discount\" in a non-spam message, $P(D|\\bar{S}) = \\frac{90}{600} = 0.15$\n",
        "\n",
        "Probability of getting the word \"cheap\" in a non-spam message, $P(C|\\bar{S}) = \\frac{114}{600} = 0.19$"
      ]
    },
    {
      "cell_type": "markdown",
      "metadata": {
        "id": "X6RA4D4bLJxS"
      },
      "source": [
        "Consider a test SMS containing the words \"discount\" and \"free\":\n",
        "\n",
        "For class **spam**:\n",
        "$$\n",
        "P(D, C \\mid S)P(S) = P(D \\mid S) \\times P(C \\mid S) \\times P(S) = 0.75 \\times 0.65 \\times 0.4 = 0.195\n",
        "$$\n",
        "\n",
        "For class **non-spam**:\n",
        "$$\n",
        "P(D, C \\mid \\bar{S})P(\\bar{S}) = P(D \\mid \\bar{S}) \\times P(C \\mid \\bar{S}) \\times P(\\bar{S}) = 0.15 \\times 0.19 \\times 0.6 = 0.0171\n",
        "$$\n",
        "\n",
        "Since $0.195 > 0.0171$, the SMS is classified as spam.\n",
        "\n",
        "---\n",
        "\n",
        "**Note:** According to the naive assumption, the fact that a message contains the word \"cheap\" does not influence the probability of it having the word \"discount\" and vice versa. In the real world, a spam message containing the word \"discount\" has higher chances of having the word \"cheap\" too. As a consequence of this assumption, we can write $P(D, C \\mid S)$ as $P(D \\mid S) \\times P(C \\mid S)$."
      ]
    },
    {
      "cell_type": "markdown",
      "metadata": {
        "id": "ydHwmqhfpRQU"
      },
      "source": [
        "### Types of Naive Bayes\n",
        "\n",
        "We know that the Naive Bayes learns a model for each class as $P(\\text{features|class})$. Learning this model depends on the type of the features present in the dataset. There are different types of features: some have continuous values, some have binary 0/1 values, some have values that represent count or frequency and so on. Based on the type of the features, we have several variants of Naive Bayes. Here we will discuss the three most popular variants of Naive Bayes classifier."
      ]
    },
    {
      "cell_type": "markdown",
      "metadata": {
        "id": "tidNIZwopG4k"
      },
      "source": [
        "#### 1. Gaussian Naive Bayes\n",
        "\n",
        "Gaussian Naive Bayes is used when the features of your data are **continuous values** and follow a **normal (Gaussian) distribution**.\n",
        "\n",
        "- **Use Case:** Works well on datasets like the **Iris dataset**, where features are continuous (e.g., petal/sepal length and width).\n",
        "- **Implementation:** [`sklearn.naive_bayes.GaussianNB`](https://scikit-learn.org/stable/modules/generated/sklearn.naive_bayes.GaussianNB.html)\n",
        "\n",
        "\n",
        "#### 2. Bernoulli Naive Bayes\n",
        "\n",
        "Bernoulli Naive Bayes is suitable when features are **binary** (i.e., 0 or 1).\n",
        "\n",
        "- **Use Case:** Ideal for tasks like **spam detection**, where the model only cares whether a word appears (1) or not (0), rather than its frequency.\n",
        "- **Implementation:** [`sklearn.naive_bayes.BernoulliNB`](https://scikit-learn.org/stable/modules/generated/sklearn.naive_bayes.BernoulliNB.html)\n",
        "\n",
        "#### 3. Multinomial Naive Bayes\n",
        "\n",
        "Multinomial Naive Bayes is used when features are **discrete counts or frequencies**.\n",
        "\n",
        "- **Use Case:** Common in **text classification** problems where the model considers **how many times** a word appears (e.g., TF or TF-IDF).\n",
        "- **Implementation:** [`sklearn.naive_bayes.MultinomialNB`](https://scikit-learn.org/stable/modules/generated/sklearn.naive_bayes.MultinomialNB.html)\n",
        "\n",
        "\n",
        "> **Note:**\n",
        ">\n",
        "> **Complement Naive Bayes** is a variant of Multinomial Naive Bayes designed to handle **imbalanced datasets** more effectively, especially in **text classification** tasks.\n",
        ">\n",
        "> Unlike MultinomialNB, it estimates feature weights based on data from **all classes except the target class**, which often improves performance on minority classes.\n",
        ">\n",
        "> **Implementation:** [`sklearn.naive_bayes.ComplementNB`](https://scikit-learn.org/stable/modules/generated/sklearn.naive_bayes.ComplementNB.html)\n",
        "\n",
        "\n",
        "\n"
      ]
    },
    {
      "cell_type": "markdown",
      "metadata": {
        "id": "AVb87tpdyfZq"
      },
      "source": [
        "## Iris Flower Classification\n",
        "\n",
        "Now that you have learned about theory behind Naive Bayes Classifier, let's implement it on a real-world problem using scikit-learn. In this section, you will implement Naive Bayes classifier on the [Iris dataset](https://scikit-learn.org/stable/auto_examples/datasets/plot_iris_dataset.html). We have been using the Iris dataset for quite a while now. We will use the same dataset here as well. The problem is to classify the samples of iris plant into 3 types of species."
      ]
    },
    {
      "cell_type": "code",
      "execution_count": null,
      "metadata": {
        "id": "Q7p3qeUfzwb0"
      },
      "outputs": [],
      "source": [
        "import numpy as np\n",
        "import pandas as pd\n",
        "import matplotlib.pyplot as plt"
      ]
    },
    {
      "cell_type": "markdown",
      "metadata": {
        "id": "iM_GSMUVE_cN"
      },
      "source": [
        "### Loading the dataset"
      ]
    },
    {
      "cell_type": "markdown",
      "metadata": {
        "id": "JvbeYvRtp6FO"
      },
      "source": [
        "Let's load the iris dataset using the [`load_iris`](https://scikit-learn.org/0.16/modules/generated/sklearn.datasets.load_iris.html) function from `sklearn`."
      ]
    },
    {
      "cell_type": "code",
      "execution_count": null,
      "metadata": {
        "id": "Se8Mbt--2CDF"
      },
      "outputs": [],
      "source": [
        "# Import iris dataset from sklearn.datasets\n",
        "from sklearn.datasets import load_iris\n",
        "\n",
        "iris = load_iris()\n",
        "X, y = iris.data, iris.target\n",
        "class_names = iris.target_names"
      ]
    },
    {
      "cell_type": "code",
      "execution_count": null,
      "metadata": {
        "colab": {
          "base_uri": "https://localhost:8080/",
          "height": 430
        },
        "id": "PgoZpw22Uqku",
        "outputId": "75ba79c8-414a-436e-d0d4-5d2eea746071"
      },
      "outputs": [
        {
          "data": {
            "image/png": "[encoded data removed]",
            "text/plain": [
              "<Figure size 640x480 with 1 Axes>"
            ]
          },
          "metadata": {},
          "output_type": "display_data"
        }
      ],
      "source": [
        "_, counts_elements = np.unique(y, return_counts=True)\n",
        "plt.bar(class_names, counts_elements, color=['r', 'g', 'b'])\n",
        "plt.show()"
      ]
    },
    {
      "cell_type": "markdown",
      "metadata": {
        "id": "u5TLxQIQ9XDr"
      },
      "source": [
        "We can see that the dataset has equal number of instances from each class."
      ]
    },
    {
      "cell_type": "markdown",
      "metadata": {
        "id": "RNGmO4kh-jAv"
      },
      "source": [
        "**Splitting the dataset into training set and test set**"
      ]
    },
    {
      "cell_type": "code",
      "execution_count": null,
      "metadata": {
        "id": "dM1cUEP5-8ZS"
      },
      "outputs": [],
      "source": [
        "from sklearn.model_selection import train_test_split\n",
        "\n",
        "X_train, X_test, y_train, y_test = train_test_split(X, y, test_size = 0.20, random_state = 0)"
      ]
    },
    {
      "cell_type": "markdown",
      "metadata": {
        "id": "FElgWBVeXs7W",
        "nbgrader": {
          "grade": false,
          "grade_id": "cell-67d477d7f098302a",
          "locked": true,
          "schema_version": 1,
          "solution": false
        }
      },
      "source": [
        "### Fitting the Gaussian Naive Bayes classifier\n",
        "\n",
        "Now we will fit the Gaussian Naive Bayes Classifier to our training set. You might ask why Gaussian Naive Bayes? Why not Multinomial Naive Bayes or the Bernoulli Naive Bayes. Well, if you recall, whenever the features have continuous values we use the **Gaussian Naive Bayes**.\n",
        "\n",
        "You can import the [`GaussianNB`](https://scikit-learn.org/stable/modules/generated/sklearn.naive_bayes.GaussianNB.html#sklearn.naive_bayes.GaussianNB) from `sklearn.naive_bayes` and fit it directly on your training set.\n",
        "\n",
        "\n"
      ]
    },
    {
      "cell_type": "code",
      "execution_count": null,
      "metadata": {
        "colab": {
          "base_uri": "https://localhost:8080/",
          "height": 80
        },
        "id": "0Okgr6MbXYqO",
        "nbgrader": {
          "grade": false,
          "grade_id": "cell-ce60b0bd324b31de",
          "locked": false,
          "schema_version": 1,
          "solution": true
        },
        "outputId": "f51a8831-6fe3-4332-ca48-cb0dc576b0ed"
      },
      "outputs": [
        {
          "data": {
            "text/html": [
              "<style>#sk-container-id-1 {\n",
              "  /* Definition of color scheme common for light and dark mode */\n",
              "  --sklearn-color-text: #000;\n",
              "  --sklearn-color-text-muted: #666;\n",
              "  --sklearn-color-line: gray;\n",
              "  /* Definition of color scheme for unfitted estimators */\n",
              "  --sklearn-color-unfitted-level-0: #fff5e6;\n",
              "  --sklearn-color-unfitted-level-1: #f6e4d2;\n",
              "  --sklearn-color-unfitted-level-2: #ffe0b3;\n",
              "  --sklearn-color-unfitted-level-3: chocolate;\n",
              "  /* Definition of color scheme for fitted estimators */\n",
              "  --sklearn-color-fitted-level-0: #f0f8ff;\n",
              "  --sklearn-color-fitted-level-1: #d4ebff;\n",
              "  --sklearn-color-fitted-level-2: #b3dbfd;\n",
              "  --sklearn-color-fitted-level-3: cornflowerblue;\n",
              "\n",
              "  /* Specific color for light theme */\n",
              "  --sklearn-color-text-on-default-background: var(--sg-text-color, var(--theme-code-foreground, var(--jp-content-font-color1, black)));\n",
              "  --sklearn-color-background: var(--sg-background-color, var(--theme-background, var(--jp-layout-color0, white)));\n",
              "  --sklearn-color-border-box: var(--sg-text-color, var(--theme-code-foreground, var(--jp-content-font-color1, black)));\n",
              "  --sklearn-color-icon: #696969;\n",
              "\n",
              "  @media (prefers-color-scheme: dark) {\n",
              "    /* Redefinition of color scheme for dark theme */\n",
              "    --sklearn-color-text-on-default-background: var(--sg-text-color, var(--theme-code-foreground, var(--jp-content-font-color1, white)));\n",
              "    --sklearn-color-background: var(--sg-background-color, var(--theme-background, var(--jp-layout-color0, #111)));\n",
              "    --sklearn-color-border-box: var(--sg-text-color, var(--theme-code-foreground, var(--jp-content-font-color1, white)));\n",
              "    --sklearn-color-icon: #878787;\n",
              "  }\n",
              "}\n",
              "\n",
              "#sk-container-id-1 {\n",
              "  color: var(--sklearn-color-text);\n",
              "}\n",
              "\n",
              "#sk-container-id-1 pre {\n",
              "  padding: 0;\n",
              "}\n",
              "\n",
              "#sk-container-id-1 input.sk-hidden--visually {\n",
              "  border: 0;\n",
              "  clip: rect(1px 1px 1px 1px);\n",
              "  clip: rect(1px, 1px, 1px, 1px);\n",
              "  height: 1px;\n",
              "  margin: -1px;\n",
              "  overflow: hidden;\n",
              "  padding: 0;\n",
              "  position: absolute;\n",
              "  width: 1px;\n",
              "}\n",
              "\n",
              "#sk-container-id-1 div.sk-dashed-wrapped {\n",
              "  border: 1px dashed var(--sklearn-color-line);\n",
              "  margin: 0 0.4em 0.5em 0.4em;\n",
              "  box-sizing: border-box;\n",
              "  padding-bottom: 0.4em;\n",
              "  background-color: var(--sklearn-color-background);\n",
              "}\n",
              "\n",
              "#sk-container-id-1 div.sk-container {\n",
              "  /* jupyter's `normalize.less` sets `[hidden] { display: none; }`\n",
              "     but bootstrap.min.css set `[hidden] { display: none !important; }`\n",
              "     so we also need the `!important` here to be able to override the\n",
              "     default hidden behavior on the sphinx rendered scikit-learn.org.\n",
              "     See: https://github.com/scikit-learn/scikit-learn/issues/21755 */\n",
              "  display: inline-block !important;\n",
              "  position: relative;\n",
              "}\n",
              "\n",
              "#sk-container-id-1 div.sk-text-repr-fallback {\n",
              "  display: none;\n",
              "}\n",
              "\n",
              "div.sk-parallel-item,\n",
              "div.sk-serial,\n",
              "div.sk-item {\n",
              "  /* draw centered vertical line to link estimators */\n",
              "  background-image: linear-gradient(var(--sklearn-color-text-on-default-background), var(--sklearn-color-text-on-default-background));\n",
              "  background-size: 2px 100%;\n",
              "  background-repeat: no-repeat;\n",
              "  background-position: center center;\n",
              "}\n",
              "\n",
              "/* Parallel-specific style estimator block */\n",
              "\n",
              "#sk-container-id-1 div.sk-parallel-item::after {\n",
              "  content: \"\";\n",
              "  width: 100%;\n",
              "  border-bottom: 2px solid var(--sklearn-color-text-on-default-background);\n",
              "  flex-grow: 1;\n",
              "}\n",
              "\n",
              "#sk-container-id-1 div.sk-parallel {\n",
              "  display: flex;\n",
              "  align-items: stretch;\n",
              "  justify-content: center;\n",
              "  background-color: var(--sklearn-color-background);\n",
              "  position: relative;\n",
              "}\n",
              "\n",
              "#sk-container-id-1 div.sk-parallel-item {\n",
              "  display: flex;\n",
              "  flex-direction: column;\n",
              "}\n",
              "\n",
              "#sk-container-id-1 div.sk-parallel-item:first-child::after {\n",
              "  align-self: flex-end;\n",
              "  width: 50%;\n",
              "}\n",
              "\n",
              "#sk-container-id-1 div.sk-parallel-item:last-child::after {\n",
              "  align-self: flex-start;\n",
              "  width: 50%;\n",
              "}\n",
              "\n",
              "#sk-container-id-1 div.sk-parallel-item:only-child::after {\n",
              "  width: 0;\n",
              "}\n",
              "\n",
              "/* Serial-specific style estimator block */\n",
              "\n",
              "#sk-container-id-1 div.sk-serial {\n",
              "  display: flex;\n",
              "  flex-direction: column;\n",
              "  align-items: center;\n",
              "  background-color: var(--sklearn-color-background);\n",
              "  padding-right: 1em;\n",
              "  padding-left: 1em;\n",
              "}\n",
              "\n",
              "\n",
              "/* Toggleable style: style used for estimator/Pipeline/ColumnTransformer box that is\n",
              "clickable and can be expanded/collapsed.\n",
              "- Pipeline and ColumnTransformer use this feature and define the default style\n",
              "- Estimators will overwrite some part of the style using the `sk-estimator` class\n",
              "*/\n",
              "\n",
              "/* Pipeline and ColumnTransformer style (default) */\n",
              "\n",
              "#sk-container-id-1 div.sk-toggleable {\n",
              "  /* Default theme specific background. It is overwritten whether we have a\n",
              "  specific estimator or a Pipeline/ColumnTransformer */\n",
              "  background-color: var(--sklearn-color-background);\n",
              "}\n",
              "\n",
              "/* Toggleable label */\n",
              "#sk-container-id-1 label.sk-toggleable__label {\n",
              "  cursor: pointer;\n",
              "  display: flex;\n",
              "  width: 100%;\n",
              "  margin-bottom: 0;\n",
              "  padding: 0.5em;\n",
              "  box-sizing: border-box;\n",
              "  text-align: center;\n",
              "  align-items: start;\n",
              "  justify-content: space-between;\n",
              "  gap: 0.5em;\n",
              "}\n",
              "\n",
              "#sk-container-id-1 label.sk-toggleable__label .caption {\n",
              "  font-size: 0.6rem;\n",
              "  font-weight: lighter;\n",
              "  color: var(--sklearn-color-text-muted);\n",
              "}\n",
              "\n",
              "#sk-container-id-1 label.sk-toggleable__label-arrow:before {\n",
              "  /* Arrow on the left of the label */\n",
              "  content: \"▸\";\n",
              "  float: left;\n",
              "  margin-right: 0.25em;\n",
              "  color: var(--sklearn-color-icon);\n",
              "}\n",
              "\n",
              "#sk-container-id-1 label.sk-toggleable__label-arrow:hover:before {\n",
              "  color: var(--sklearn-color-text);\n",
              "}\n",
              "\n",
              "/* Toggleable content - dropdown */\n",
              "\n",
              "#sk-container-id-1 div.sk-toggleable__content {\n",
              "  max-height: 0;\n",
              "  max-width: 0;\n",
              "  overflow: hidden;\n",
              "  text-align: left;\n",
              "  /* unfitted */\n",
              "  background-color: var(--sklearn-color-unfitted-level-0);\n",
              "}\n",
              "\n",
              "#sk-container-id-1 div.sk-toggleable__content.fitted {\n",
              "  /* fitted */\n",
              "  background-color: var(--sklearn-color-fitted-level-0);\n",
              "}\n",
              "\n",
              "#sk-container-id-1 div.sk-toggleable__content pre {\n",
              "  margin: 0.2em;\n",
              "  border-radius: 0.25em;\n",
              "  color: var(--sklearn-color-text);\n",
              "  /* unfitted */\n",
              "  background-color: var(--sklearn-color-unfitted-level-0);\n",
              "}\n",
              "\n",
              "#sk-container-id-1 div.sk-toggleable__content.fitted pre {\n",
              "  /* unfitted */\n",
              "  background-color: var(--sklearn-color-fitted-level-0);\n",
              "}\n",
              "\n",
              "#sk-container-id-1 input.sk-toggleable__control:checked~div.sk-toggleable__content {\n",
              "  /* Expand drop-down */\n",
              "  max-height: 200px;\n",
              "  max-width: 100%;\n",
              "  overflow: auto;\n",
              "}\n",
              "\n",
              "#sk-container-id-1 input.sk-toggleable__control:checked~label.sk-toggleable__label-arrow:before {\n",
              "  content: \"▾\";\n",
              "}\n",
              "\n",
              "/* Pipeline/ColumnTransformer-specific style */\n",
              "\n",
              "#sk-container-id-1 div.sk-label input.sk-toggleable__control:checked~label.sk-toggleable__label {\n",
              "  color: var(--sklearn-color-text);\n",
              "  background-color: var(--sklearn-color-unfitted-level-2);\n",
              "}\n",
              "\n",
              "#sk-container-id-1 div.sk-label.fitted input.sk-toggleable__control:checked~label.sk-toggleable__label {\n",
              "  background-color: var(--sklearn-color-fitted-level-2);\n",
              "}\n",
              "\n",
              "/* Estimator-specific style */\n",
              "\n",
              "/* Colorize estimator box */\n",
              "#sk-container-id-1 div.sk-estimator input.sk-toggleable__control:checked~label.sk-toggleable__label {\n",
              "  /* unfitted */\n",
              "  background-color: var(--sklearn-color-unfitted-level-2);\n",
              "}\n",
              "\n",
              "#sk-container-id-1 div.sk-estimator.fitted input.sk-toggleable__control:checked~label.sk-toggleable__label {\n",
              "  /* fitted */\n",
              "  background-color: var(--sklearn-color-fitted-level-2);\n",
              "}\n",
              "\n",
              "#sk-container-id-1 div.sk-label label.sk-toggleable__label,\n",
              "#sk-container-id-1 div.sk-label label {\n",
              "  /* The background is the default theme color */\n",
              "  color: var(--sklearn-color-text-on-default-background);\n",
              "}\n",
              "\n",
              "/* On hover, darken the color of the background */\n",
              "#sk-container-id-1 div.sk-label:hover label.sk-toggleable__label {\n",
              "  color: var(--sklearn-color-text);\n",
              "  background-color: var(--sklearn-color-unfitted-level-2);\n",
              "}\n",
              "\n",
              "/* Label box, darken color on hover, fitted */\n",
              "#sk-container-id-1 div.sk-label.fitted:hover label.sk-toggleable__label.fitted {\n",
              "  color: var(--sklearn-color-text);\n",
              "  background-color: var(--sklearn-color-fitted-level-2);\n",
              "}\n",
              "\n",
              "/* Estimator label */\n",
              "\n",
              "#sk-container-id-1 div.sk-label label {\n",
              "  font-family: monospace;\n",
              "  font-weight: bold;\n",
              "  display: inline-block;\n",
              "  line-height: 1.2em;\n",
              "}\n",
              "\n",
              "#sk-container-id-1 div.sk-label-container {\n",
              "  text-align: center;\n",
              "}\n",
              "\n",
              "/* Estimator-specific */\n",
              "#sk-container-id-1 div.sk-estimator {\n",
              "  font-family: monospace;\n",
              "  border: 1px dotted var(--sklearn-color-border-box);\n",
              "  border-radius: 0.25em;\n",
              "  box-sizing: border-box;\n",
              "  margin-bottom: 0.5em;\n",
              "  /* unfitted */\n",
              "  background-color: var(--sklearn-color-unfitted-level-0);\n",
              "}\n",
              "\n",
              "#sk-container-id-1 div.sk-estimator.fitted {\n",
              "  /* fitted */\n",
              "  background-color: var(--sklearn-color-fitted-level-0);\n",
              "}\n",
              "\n",
              "/* on hover */\n",
              "#sk-container-id-1 div.sk-estimator:hover {\n",
              "  /* unfitted */\n",
              "  background-color: var(--sklearn-color-unfitted-level-2);\n",
              "}\n",
              "\n",
              "#sk-container-id-1 div.sk-estimator.fitted:hover {\n",
              "  /* fitted */\n",
              "  background-color: var(--sklearn-color-fitted-level-2);\n",
              "}\n",
              "\n",
              "/* Specification for estimator info (e.g. \"i\" and \"?\") */\n",
              "\n",
              "/* Common style for \"i\" and \"?\" */\n",
              "\n",
              ".sk-estimator-doc-link,\n",
              "a:link.sk-estimator-doc-link,\n",
              "a:visited.sk-estimator-doc-link {\n",
              "  float: right;\n",
              "  font-size: smaller;\n",
              "  line-height: 1em;\n",
              "  font-family: monospace;\n",
              "  background-color: var(--sklearn-color-background);\n",
              "  border-radius: 1em;\n",
              "  height: 1em;\n",
              "  width: 1em;\n",
              "  text-decoration: none !important;\n",
              "  margin-left: 0.5em;\n",
              "  text-align: center;\n",
              "  /* unfitted */\n",
              "  border: var(--sklearn-color-unfitted-level-1) 1pt solid;\n",
              "  color: var(--sklearn-color-unfitted-level-1);\n",
              "}\n",
              "\n",
              ".sk-estimator-doc-link.fitted,\n",
              "a:link.sk-estimator-doc-link.fitted,\n",
              "a:visited.sk-estimator-doc-link.fitted {\n",
              "  /* fitted */\n",
              "  border: var(--sklearn-color-fitted-level-1) 1pt solid;\n",
              "  color: var(--sklearn-color-fitted-level-1);\n",
              "}\n",
              "\n",
              "/* On hover */\n",
              "div.sk-estimator:hover .sk-estimator-doc-link:hover,\n",
              ".sk-estimator-doc-link:hover,\n",
              "div.sk-label-container:hover .sk-estimator-doc-link:hover,\n",
              ".sk-estimator-doc-link:hover {\n",
              "  /* unfitted */\n",
              "  background-color: var(--sklearn-color-unfitted-level-3);\n",
              "  color: var(--sklearn-color-background);\n",
              "  text-decoration: none;\n",
              "}\n",
              "\n",
              "div.sk-estimator.fitted:hover .sk-estimator-doc-link.fitted:hover,\n",
              ".sk-estimator-doc-link.fitted:hover,\n",
              "div.sk-label-container:hover .sk-estimator-doc-link.fitted:hover,\n",
              ".sk-estimator-doc-link.fitted:hover {\n",
              "  /* fitted */\n",
              "  background-color: var(--sklearn-color-fitted-level-3);\n",
              "  color: var(--sklearn-color-background);\n",
              "  text-decoration: none;\n",
              "}\n",
              "\n",
              "/* Span, style for the box shown on hovering the info icon */\n",
              ".sk-estimator-doc-link span {\n",
              "  display: none;\n",
              "  z-index: 9999;\n",
              "  position: relative;\n",
              "  font-weight: normal;\n",
              "  right: .2ex;\n",
              "  padding: .5ex;\n",
              "  margin: .5ex;\n",
              "  width: min-content;\n",
              "  min-width: 20ex;\n",
              "  max-width: 50ex;\n",
              "  color: var(--sklearn-color-text);\n",
              "  box-shadow: 2pt 2pt 4pt #999;\n",
              "  /* unfitted */\n",
              "  background: var(--sklearn-color-unfitted-level-0);\n",
              "  border: .5pt solid var(--sklearn-color-unfitted-level-3);\n",
              "}\n",
              "\n",
              ".sk-estimator-doc-link.fitted span {\n",
              "  /* fitted */\n",
              "  background: var(--sklearn-color-fitted-level-0);\n",
              "  border: var(--sklearn-color-fitted-level-3);\n",
              "}\n",
              "\n",
              ".sk-estimator-doc-link:hover span {\n",
              "  display: block;\n",
              "}\n",
              "\n",
              "/* \"?\"-specific style due to the `<a>` HTML tag */\n",
              "\n",
              "#sk-container-id-1 a.estimator_doc_link {\n",
              "  float: right;\n",
              "  font-size: 1rem;\n",
              "  line-height: 1em;\n",
              "  font-family: monospace;\n",
              "  background-color: var(--sklearn-color-background);\n",
              "  border-radius: 1rem;\n",
              "  height: 1rem;\n",
              "  width: 1rem;\n",
              "  text-decoration: none;\n",
              "  /* unfitted */\n",
              "  color: var(--sklearn-color-unfitted-level-1);\n",
              "  border: var(--sklearn-color-unfitted-level-1) 1pt solid;\n",
              "}\n",
              "\n",
              "#sk-container-id-1 a.estimator_doc_link.fitted {\n",
              "  /* fitted */\n",
              "  border: var(--sklearn-color-fitted-level-1) 1pt solid;\n",
              "  color: var(--sklearn-color-fitted-level-1);\n",
              "}\n",
              "\n",
              "/* On hover */\n",
              "#sk-container-id-1 a.estimator_doc_link:hover {\n",
              "  /* unfitted */\n",
              "  background-color: var(--sklearn-color-unfitted-level-3);\n",
              "  color: var(--sklearn-color-background);\n",
              "  text-decoration: none;\n",
              "}\n",
              "\n",
              "#sk-container-id-1 a.estimator_doc_link.fitted:hover {\n",
              "  /* fitted */\n",
              "  background-color: var(--sklearn-color-fitted-level-3);\n",
              "}\n",
              "</style><div id=\"sk-container-id-1\" class=\"sk-top-container\"><div class=\"sk-text-repr-fallback\"><pre>GaussianNB()</pre><b>In a Jupyter environment, please rerun this cell to show the HTML representation or trust the notebook. <br />On GitHub, the HTML representation is unable to render, please try loading this page with nbviewer.org.</b></div><div class=\"sk-container\" hidden><div class=\"sk-item\"><div class=\"sk-estimator fitted sk-toggleable\"><input class=\"sk-toggleable__control sk-hidden--visually\" id=\"sk-estimator-id-1\" type=\"checkbox\" checked><label for=\"sk-estimator-id-1\" class=\"sk-toggleable__label fitted sk-toggleable__label-arrow\"><div><div>GaussianNB</div></div><div><a class=\"sk-estimator-doc-link fitted\" rel=\"noreferrer\" target=\"_blank\" href=\"https://scikit-learn.org/1.6/modules/generated/sklearn.naive_bayes.GaussianNB.html\">?<span>Documentation for GaussianNB</span></a><span class=\"sk-estimator-doc-link fitted\">i<span>Fitted</span></span></div></label><div class=\"sk-toggleable__content fitted\"><pre>GaussianNB()</pre></div> </div></div></div></div>"
            ],
            "text/plain": [
              "GaussianNB()"
            ]
          },
          "execution_count": 5,
          "metadata": {},
          "output_type": "execute_result"
        }
      ],
      "source": [
        "from sklearn.naive_bayes import GaussianNB\n",
        "\n",
        "gaussian_nb = GaussianNB()\n",
        "gaussian_nb.fit(X_train, y_train)"
      ]
    },
    {
      "cell_type": "markdown",
      "metadata": {
        "id": "S45TT9flg3X_"
      },
      "source": [
        "When we train the Gaussian Naive Bayes, it learns the prior $P(\\text{class})$ for each class and the likelihood $P(\\text{features|class})$ for each feature and class. Learning the prior $P(\\text{class})$ is pretty simple. It is the percentage of a class in the training set. For example, $P(\\textrm{Setosa}) = \\frac{{number\\phantom{.}of \\phantom{.}\\textrm{Setosa}\\phantom{.} samples}}{total\\phantom{.}number \\phantom{.} of\\phantom{.}samples}$.\n",
        "\n",
        "Similarly, to learn the likelihood $P(\\text{features|class})$, it learns the probability distribution of each feature for each class. Learning to compute the likelihood is beyond the scope of this reading material (we rely on sklearn to do this job for now), but we will show the plots of the probability distribution of each feature for each class in the iris dataset and discuss the intuition on how naive bayes uses it."
      ]
    },
    {
      "cell_type": "markdown",
      "metadata": {
        "id": "Ap-FOEVvXfik"
      },
      "source": [
        "The following block of code plots the probability distribution of each feature for the corresponding class."
      ]
    },
    {
      "cell_type": "code",
      "execution_count": null,
      "metadata": {
        "id": "XiCHfQkIfxxE"
      },
      "outputs": [],
      "source": [
        "# Features of each particular class\n",
        "X_setosa = X_train[y_train == 0]\n",
        "X_versicolor = X_train[y_train == 1]\n",
        "X_virginica = X_train[y_train == 2]\n",
        "\n",
        "# List of features\n",
        "features = ['Sepal length', 'Sepal width', 'Petal length', 'Petal width']"
      ]
    },
    {
      "cell_type": "code",
      "execution_count": null,
      "metadata": {
        "id": "zkEoT3NBfjHt"
      },
      "outputs": [],
      "source": [
        "import math\n",
        "import scipy.stats as stats\n",
        "\n",
        "# Function to plot the probability distribution\n",
        "def plot_distribution(ax, x, label):\n",
        "    mean = x.mean()\n",
        "    sigma = x.std()\n",
        "    x = np.linspace(mean - 3*sigma, mean + 3*sigma, 100)\n",
        "    ax.plot(x, stats.norm.pdf(x, mean, sigma), label = label)\n",
        "    ax.legend()\n",
        "    ax.set_xlabel('x')"
      ]
    },
    {
      "cell_type": "code",
      "execution_count": null,
      "metadata": {
        "colab": {
          "base_uri": "https://localhost:8080/",
          "height": 358
        },
        "id": "s-JaGXNUVuba",
        "outputId": "cecd4f2d-4389-4198-c027-f2363155fc3d"
      },
      "outputs": [
        {
          "data": {
            "image/png": "[encoded data removed]",
            "text/plain": [
              "<Figure size 1600x400 with 4 Axes>"
            ]
          },
          "metadata": {},
          "output_type": "display_data"
        }
      ],
      "source": [
        "# Creating subplots\n",
        "fig, ax = plt.subplots(ncols=4, figsize=(16,4))\n",
        "\n",
        "# Plotting the probability distribution of each feature for the corresponding class\n",
        "for i in range(len(features)):\n",
        "  plot_distribution(ax[i], X_setosa[:,i], 'Setosa')\n",
        "  plot_distribution(ax[i], X_versicolor[:,i], 'Versicolor')\n",
        "  plot_distribution(ax[i], X_virginica[:,i], 'Virginica')\n",
        "  ax[i].set_title(features[i])"
      ]
    },
    {
      "cell_type": "markdown",
      "metadata": {
        "id": "Dyfw-F4uR0dJ"
      },
      "source": [
        "Let's look at the probability distribution of **Petal width** to discuss what these distributions actually mean. You can see that the flowers with petal width 0.1cm to 0.5cm have higher probability of belonging to the species Setosa. Similarly, the flowers with petal width 1cm to 1.6cm have higher probability of belonging to the species Versicolor and the flowers with petal width 1.8cm to higher have higher probability of belonging to the species Virginica. From the above plots, we can see that the two features **Petal length** and **Petal width** are very helpful to categorize the flowers. However, Gaussian Naive Bayes uses the probability distributions of all the four features to learn the likelihood $P(\\text{features|class})$."
      ]
    },
    {
      "cell_type": "markdown",
      "metadata": {
        "id": "OYHbbW74sAnE"
      },
      "source": [
        "### Making Predictions\n",
        "\n",
        "Now that we have trained the model, let's make some predictions on the test set. We can use the [`predict_proba`](https://scikit-learn.org/stable/modules/generated/sklearn.naive_bayes.GaussianNB.html#sklearn.naive_bayes.GaussianNB.predict_proba) method of `GaussianNB` object to predict the posterior probability *ie.* $P(y|x_1,x_2,...,x_n)$ for each class $y\\in\\{0,1,2\\}$ for the test set."
      ]
    },
    {
      "cell_type": "code",
      "execution_count": null,
      "metadata": {
        "colab": {
          "base_uri": "https://localhost:8080/",
          "height": 206
        },
        "id": "crBniQcbtF8M",
        "outputId": "5a966c60-85f4-4337-9bf5-82563c703593"
      },
      "outputs": [
        {
          "data": {
            "application/vnd.google.colaboratory.intrinsic+json": {
              "summary": "{\n  \"name\": \"pd\",\n  \"rows\": 5,\n  \"fields\": [\n    {\n      \"column\": \"P(y=0|X)\",\n      \"properties\": {\n        \"dtype\": \"number\",\n        \"std\": 0.5477225575051662,\n        \"min\": 1.585082617468236e-305,\n        \"max\": 1.0,\n        \"num_unique_values\": 4,\n        \"samples\": [\n          1.8264039122446403e-82,\n          1.585082617468236e-305,\n          1.6338078345993915e-232\n        ],\n        \"semantic_type\": \"\",\n        \"description\": \"\"\n      }\n    },\n    {\n      \"column\": \"P(y=1|X)\",\n      \"properties\": {\n        \"dtype\": \"number\",\n        \"std\": 0.44721247522967567,\n        \"min\": 7.102505102233248e-19,\n        \"max\": 0.9999983038160979,\n        \"num_unique_values\": 5,\n        \"samples\": [\n          0.9999983038160979,\n          8.591686551828159e-17,\n          7.102505102233248e-19\n        ],\n        \"semantic_type\": \"\",\n        \"description\": \"\"\n      }\n    },\n    {\n      \"column\": \"P(y=2|X)\",\n      \"properties\": {\n        \"dtype\": \"number\",\n        \"std\": 0.5477213618099238,\n        \"min\": 3.654498005489199e-28,\n        \"max\": 0.999998953509802,\n        \"num_unique_values\": 5,\n        \"samples\": [\n          1.6961839020044634e-06,\n          4.221593741839556e-27,\n          3.654498005489199e-28\n        ],\n        \"semantic_type\": \"\",\n        \"description\": \"\"\n      }\n    }\n  ]\n}",
              "type": "dataframe"
            },
            "text/html": [
              "\n",
              "  <div id=\"df-7dd4dfc9-8c31-47e5-93c9-414a27c0ab9f\" class=\"colab-df-container\">\n",
              "    <div>\n",
              "<style scoped>\n",
              "    .dataframe tbody tr th:only-of-type {\n",
              "        vertical-align: middle;\n",
              "    }\n",
              "\n",
              "    .dataframe tbody tr th {\n",
              "        vertical-align: top;\n",
              "    }\n",
              "\n",
              "    .dataframe thead th {\n",
              "        text-align: right;\n",
              "    }\n",
              "</style>\n",
              "<table border=\"1\" class=\"dataframe\">\n",
              "  <thead>\n",
              "    <tr style=\"text-align: right;\">\n",
              "      <th></th>\n",
              "      <th>P(y=0|X)</th>\n",
              "      <th>P(y=1|X)</th>\n",
              "      <th>P(y=2|X)</th>\n",
              "    </tr>\n",
              "  </thead>\n",
              "  <tbody>\n",
              "    <tr>\n",
              "      <th>0</th>\n",
              "      <td>1.633808e-232</td>\n",
              "      <td>2.188784e-06</td>\n",
              "      <td>9.999978e-01</td>\n",
              "    </tr>\n",
              "    <tr>\n",
              "      <th>1</th>\n",
              "      <td>1.826404e-82</td>\n",
              "      <td>9.999983e-01</td>\n",
              "      <td>1.696184e-06</td>\n",
              "    </tr>\n",
              "    <tr>\n",
              "      <th>2</th>\n",
              "      <td>1.000000e+00</td>\n",
              "      <td>7.102505e-19</td>\n",
              "      <td>3.654498e-28</td>\n",
              "    </tr>\n",
              "    <tr>\n",
              "      <th>3</th>\n",
              "      <td>1.585083e-305</td>\n",
              "      <td>1.046490e-06</td>\n",
              "      <td>9.999990e-01</td>\n",
              "    </tr>\n",
              "    <tr>\n",
              "      <th>4</th>\n",
              "      <td>1.000000e+00</td>\n",
              "      <td>8.591687e-17</td>\n",
              "      <td>4.221594e-27</td>\n",
              "    </tr>\n",
              "  </tbody>\n",
              "</table>\n",
              "</div>\n",
              "    <div class=\"colab-df-buttons\">\n",
              "\n",
              "  <div class=\"colab-df-container\">\n",
              "    <button class=\"colab-df-convert\" onclick=\"convertToInteractive('df-7dd4dfc9-8c31-47e5-93c9-414a27c0ab9f')\"\n",
              "            title=\"Convert this dataframe to an interactive table.\"\n",
              "            style=\"display:none;\">\n",
              "\n",
              "  <svg xmlns=\"http://www.w3.org/2000/svg\" height=\"24px\" viewBox=\"0 -960 960 960\">\n",
              "    <path d=\"M120-120v-720h720v720H120Zm60-500h600v-160H180v160Zm220 220h160v-160H400v160Zm0 220h160v-160H400v160ZM180-400h160v-160H180v160Zm440 0h160v-160H620v160ZM180-180h160v-160H180v160Zm440 0h160v-160H620v160Z\"/>\n",
              "  </svg>\n",
              "    </button>\n",
              "\n",
              "  <style>\n",
              "    .colab-df-container {\n",
              "      display:flex;\n",
              "      gap: 12px;\n",
              "    }\n",
              "\n",
              "    .colab-df-convert {\n",
              "      background-color: #E8F0FE;\n",
              "      border: none;\n",
              "      border-radius: 50%;\n",
              "      cursor: pointer;\n",
              "      display: none;\n",
              "      fill: #1967D2;\n",
              "      height: 32px;\n",
              "      padding: 0 0 0 0;\n",
              "      width: 32px;\n",
              "    }\n",
              "\n",
              "    .colab-df-convert:hover {\n",
              "      background-color: #E2EBFA;\n",
              "      box-shadow: 0px 1px 2px rgba(60, 64, 67, 0.3), 0px 1px 3px 1px rgba(60, 64, 67, 0.15);\n",
              "      fill: #174EA6;\n",
              "    }\n",
              "\n",
              "    .colab-df-buttons div {\n",
              "      margin-bottom: 4px;\n",
              "    }\n",
              "\n",
              "    [theme=dark] .colab-df-convert {\n",
              "      background-color: #3B4455;\n",
              "      fill: #D2E3FC;\n",
              "    }\n",
              "\n",
              "    [theme=dark] .colab-df-convert:hover {\n",
              "      background-color: #434B5C;\n",
              "      box-shadow: 0px 1px 3px 1px rgba(0, 0, 0, 0.15);\n",
              "      filter: drop-shadow(0px 1px 2px rgba(0, 0, 0, 0.3));\n",
              "      fill: #FFFFFF;\n",
              "    }\n",
              "  </style>\n",
              "\n",
              "    <script>\n",
              "      const buttonEl =\n",
              "        document.querySelector('#df-7dd4dfc9-8c31-47e5-93c9-414a27c0ab9f button.colab-df-convert');\n",
              "      buttonEl.style.display =\n",
              "        google.colab.kernel.accessAllowed ? 'block' : 'none';\n",
              "\n",
              "      async function convertToInteractive(key) {\n",
              "        const element = document.querySelector('#df-7dd4dfc9-8c31-47e5-93c9-414a27c0ab9f');\n",
              "        const dataTable =\n",
              "          await google.colab.kernel.invokeFunction('convertToInteractive',\n",
              "                                                    [key], {});\n",
              "        if (!dataTable) return;\n",
              "\n",
              "        const docLinkHtml = 'Like what you see? Visit the ' +\n",
              "          '<a target=\"_blank\" href=https://colab.research.google.com/notebooks/data_table.ipynb>data table notebook</a>'\n",
              "          + ' to learn more about interactive tables.';\n",
              "        element.innerHTML = '';\n",
              "        dataTable['output_type'] = 'display_data';\n",
              "        await google.colab.output.renderOutput(dataTable, element);\n",
              "        const docLink = document.createElement('div');\n",
              "        docLink.innerHTML = docLinkHtml;\n",
              "        element.appendChild(docLink);\n",
              "      }\n",
              "    </script>\n",
              "  </div>\n",
              "\n",
              "\n",
              "    <div id=\"df-36ab7068-cd48-44c8-8b5f-68dc062859f6\">\n",
              "      <button class=\"colab-df-quickchart\" onclick=\"quickchart('df-36ab7068-cd48-44c8-8b5f-68dc062859f6')\"\n",
              "                title=\"Suggest charts\"\n",
              "                style=\"display:none;\">\n",
              "\n",
              "<svg xmlns=\"http://www.w3.org/2000/svg\" height=\"24px\"viewBox=\"0 0 24 24\"\n",
              "     width=\"24px\">\n",
              "    <g>\n",
              "        <path d=\"M19 3H5c-1.1 0-2 .9-2 2v14c0 1.1.9 2 2 2h14c1.1 0 2-.9 2-2V5c0-1.1-.9-2-2-2zM9 17H7v-7h2v7zm4 0h-2V7h2v10zm4 0h-2v-4h2v4z\"/>\n",
              "    </g>\n",
              "</svg>\n",
              "      </button>\n",
              "\n",
              "<style>\n",
              "  .colab-df-quickchart {\n",
              "      --bg-color: #E8F0FE;\n",
              "      --fill-color: #1967D2;\n",
              "      --hover-bg-color: #E2EBFA;\n",
              "      --hover-fill-color: #174EA6;\n",
              "      --disabled-fill-color: #AAA;\n",
              "      --disabled-bg-color: #DDD;\n",
              "  }\n",
              "\n",
              "  [theme=dark] .colab-df-quickchart {\n",
              "      --bg-color: #3B4455;\n",
              "      --fill-color: #D2E3FC;\n",
              "      --hover-bg-color: #434B5C;\n",
              "      --hover-fill-color: #FFFFFF;\n",
              "      --disabled-bg-color: #3B4455;\n",
              "      --disabled-fill-color: #666;\n",
              "  }\n",
              "\n",
              "  .colab-df-quickchart {\n",
              "    background-color: var(--bg-color);\n",
              "    border: none;\n",
              "    border-radius: 50%;\n",
              "    cursor: pointer;\n",
              "    display: none;\n",
              "    fill: var(--fill-color);\n",
              "    height: 32px;\n",
              "    padding: 0;\n",
              "    width: 32px;\n",
              "  }\n",
              "\n",
              "  .colab-df-quickchart:hover {\n",
              "    background-color: var(--hover-bg-color);\n",
              "    box-shadow: 0 1px 2px rgba(60, 64, 67, 0.3), 0 1px 3px 1px rgba(60, 64, 67, 0.15);\n",
              "    fill: var(--button-hover-fill-color);\n",
              "  }\n",
              "\n",
              "  .colab-df-quickchart-complete:disabled,\n",
              "  .colab-df-quickchart-complete:disabled:hover {\n",
              "    background-color: var(--disabled-bg-color);\n",
              "    fill: var(--disabled-fill-color);\n",
              "    box-shadow: none;\n",
              "  }\n",
              "\n",
              "  .colab-df-spinner {\n",
              "    border: 2px solid var(--fill-color);\n",
              "    border-color: transparent;\n",
              "    border-bottom-color: var(--fill-color);\n",
              "    animation:\n",
              "      spin 1s steps(1) infinite;\n",
              "  }\n",
              "\n",
              "  @keyframes spin {\n",
              "    0% {\n",
              "      border-color: transparent;\n",
              "      border-bottom-color: var(--fill-color);\n",
              "      border-left-color: var(--fill-color);\n",
              "    }\n",
              "    20% {\n",
              "      border-color: transparent;\n",
              "      border-left-color: var(--fill-color);\n",
              "      border-top-color: var(--fill-color);\n",
              "    }\n",
              "    30% {\n",
              "      border-color: transparent;\n",
              "      border-left-color: var(--fill-color);\n",
              "      border-top-color: var(--fill-color);\n",
              "      border-right-color: var(--fill-color);\n",
              "    }\n",
              "    40% {\n",
              "      border-color: transparent;\n",
              "      border-right-color: var(--fill-color);\n",
              "      border-top-color: var(--fill-color);\n",
              "    }\n",
              "    60% {\n",
              "      border-color: transparent;\n",
              "      border-right-color: var(--fill-color);\n",
              "    }\n",
              "    80% {\n",
              "      border-color: transparent;\n",
              "      border-right-color: var(--fill-color);\n",
              "      border-bottom-color: var(--fill-color);\n",
              "    }\n",
              "    90% {\n",
              "      border-color: transparent;\n",
              "      border-bottom-color: var(--fill-color);\n",
              "    }\n",
              "  }\n",
              "</style>\n",
              "\n",
              "      <script>\n",
              "        async function quickchart(key) {\n",
              "          const quickchartButtonEl =\n",
              "            document.querySelector('#' + key + ' button');\n",
              "          quickchartButtonEl.disabled = true;  // To prevent multiple clicks.\n",
              "          quickchartButtonEl.classList.add('colab-df-spinner');\n",
              "          try {\n",
              "            const charts = await google.colab.kernel.invokeFunction(\n",
              "                'suggestCharts', [key], {});\n",
              "          } catch (error) {\n",
              "            console.error('Error during call to suggestCharts:', error);\n",
              "          }\n",
              "          quickchartButtonEl.classList.remove('colab-df-spinner');\n",
              "          quickchartButtonEl.classList.add('colab-df-quickchart-complete');\n",
              "        }\n",
              "        (() => {\n",
              "          let quickchartButtonEl =\n",
              "            document.querySelector('#df-36ab7068-cd48-44c8-8b5f-68dc062859f6 button');\n",
              "          quickchartButtonEl.style.display =\n",
              "            google.colab.kernel.accessAllowed ? 'block' : 'none';\n",
              "        })();\n",
              "      </script>\n",
              "    </div>\n",
              "\n",
              "    </div>\n",
              "  </div>\n"
            ],
            "text/plain": [
              "        P(y=0|X)      P(y=1|X)      P(y=2|X)\n",
              "0  1.633808e-232  2.188784e-06  9.999978e-01\n",
              "1   1.826404e-82  9.999983e-01  1.696184e-06\n",
              "2   1.000000e+00  7.102505e-19  3.654498e-28\n",
              "3  1.585083e-305  1.046490e-06  9.999990e-01\n",
              "4   1.000000e+00  8.591687e-17  4.221594e-27"
            ]
          },
          "execution_count": 9,
          "metadata": {},
          "output_type": "execute_result"
        }
      ],
      "source": [
        "y_pred = gaussian_nb.predict_proba(X_test)\n",
        "pd.DataFrame(y_pred, columns=['P(y=0|X)','P(y=1|X)', 'P(y=2|X)']).head(5)"
      ]
    },
    {
      "cell_type": "markdown",
      "metadata": {
        "id": "9vBj0GQVKUKJ"
      },
      "source": [
        "We can use the [`predict`](https://scikit-learn.org/stable/modules/generated/sklearn.naive_bayes.GaussianNB.html#sklearn.naive_bayes.GaussianNB.predict) method of `GaussianNB` object to directly predict the class for the test set."
      ]
    },
    {
      "cell_type": "code",
      "execution_count": null,
      "metadata": {
        "colab": {
          "base_uri": "https://localhost:8080/",
          "height": 206
        },
        "id": "77hu5PGBL3NR",
        "outputId": "ede803fd-648b-4496-8332-2f1c34887b9f"
      },
      "outputs": [
        {
          "data": {
            "application/vnd.google.colaboratory.intrinsic+json": {
              "summary": "{\n  \"name\": \"pd\",\n  \"rows\": 5,\n  \"fields\": [\n    {\n      \"column\": \"Predicted Class\",\n      \"properties\": {\n        \"dtype\": \"number\",\n        \"std\": 1,\n        \"min\": 0,\n        \"max\": 2,\n        \"num_unique_values\": 3,\n        \"samples\": [\n          2,\n          1,\n          0\n        ],\n        \"semantic_type\": \"\",\n        \"description\": \"\"\n      }\n    }\n  ]\n}",
              "type": "dataframe"
            },
            "text/html": [
              "\n",
              "  <div id=\"df-201a9ad4-2ec3-4e8f-b3bd-9edd82dee22e\" class=\"colab-df-container\">\n",
              "    <div>\n",
              "<style scoped>\n",
              "    .dataframe tbody tr th:only-of-type {\n",
              "        vertical-align: middle;\n",
              "    }\n",
              "\n",
              "    .dataframe tbody tr th {\n",
              "        vertical-align: top;\n",
              "    }\n",
              "\n",
              "    .dataframe thead th {\n",
              "        text-align: right;\n",
              "    }\n",
              "</style>\n",
              "<table border=\"1\" class=\"dataframe\">\n",
              "  <thead>\n",
              "    <tr style=\"text-align: right;\">\n",
              "      <th></th>\n",
              "      <th>Predicted Class</th>\n",
              "    </tr>\n",
              "  </thead>\n",
              "  <tbody>\n",
              "    <tr>\n",
              "      <th>0</th>\n",
              "      <td>2</td>\n",
              "    </tr>\n",
              "    <tr>\n",
              "      <th>1</th>\n",
              "      <td>1</td>\n",
              "    </tr>\n",
              "    <tr>\n",
              "      <th>2</th>\n",
              "      <td>0</td>\n",
              "    </tr>\n",
              "    <tr>\n",
              "      <th>3</th>\n",
              "      <td>2</td>\n",
              "    </tr>\n",
              "    <tr>\n",
              "      <th>4</th>\n",
              "      <td>0</td>\n",
              "    </tr>\n",
              "  </tbody>\n",
              "</table>\n",
              "</div>\n",
              "    <div class=\"colab-df-buttons\">\n",
              "\n",
              "  <div class=\"colab-df-container\">\n",
              "    <button class=\"colab-df-convert\" onclick=\"convertToInteractive('df-201a9ad4-2ec3-4e8f-b3bd-9edd82dee22e')\"\n",
              "            title=\"Convert this dataframe to an interactive table.\"\n",
              "            style=\"display:none;\">\n",
              "\n",
              "  <svg xmlns=\"http://www.w3.org/2000/svg\" height=\"24px\" viewBox=\"0 -960 960 960\">\n",
              "    <path d=\"M120-120v-720h720v720H120Zm60-500h600v-160H180v160Zm220 220h160v-160H400v160Zm0 220h160v-160H400v160ZM180-400h160v-160H180v160Zm440 0h160v-160H620v160ZM180-180h160v-160H180v160Zm440 0h160v-160H620v160Z\"/>\n",
              "  </svg>\n",
              "    </button>\n",
              "\n",
              "  <style>\n",
              "    .colab-df-container {\n",
              "      display:flex;\n",
              "      gap: 12px;\n",
              "    }\n",
              "\n",
              "    .colab-df-convert {\n",
              "      background-color: #E8F0FE;\n",
              "      border: none;\n",
              "      border-radius: 50%;\n",
              "      cursor: pointer;\n",
              "      display: none;\n",
              "      fill: #1967D2;\n",
              "      height: 32px;\n",
              "      padding: 0 0 0 0;\n",
              "      width: 32px;\n",
              "    }\n",
              "\n",
              "    .colab-df-convert:hover {\n",
              "      background-color: #E2EBFA;\n",
              "      box-shadow: 0px 1px 2px rgba(60, 64, 67, 0.3), 0px 1px 3px 1px rgba(60, 64, 67, 0.15);\n",
              "      fill: #174EA6;\n",
              "    }\n",
              "\n",
              "    .colab-df-buttons div {\n",
              "      margin-bottom: 4px;\n",
              "    }\n",
              "\n",
              "    [theme=dark] .colab-df-convert {\n",
              "      background-color: #3B4455;\n",
              "      fill: #D2E3FC;\n",
              "    }\n",
              "\n",
              "    [theme=dark] .colab-df-convert:hover {\n",
              "      background-color: #434B5C;\n",
              "      box-shadow: 0px 1px 3px 1px rgba(0, 0, 0, 0.15);\n",
              "      filter: drop-shadow(0px 1px 2px rgba(0, 0, 0, 0.3));\n",
              "      fill: #FFFFFF;\n",
              "    }\n",
              "  </style>\n",
              "\n",
              "    <script>\n",
              "      const buttonEl =\n",
              "        document.querySelector('#df-201a9ad4-2ec3-4e8f-b3bd-9edd82dee22e button.colab-df-convert');\n",
              "      buttonEl.style.display =\n",
              "        google.colab.kernel.accessAllowed ? 'block' : 'none';\n",
              "\n",
              "      async function convertToInteractive(key) {\n",
              "        const element = document.querySelector('#df-201a9ad4-2ec3-4e8f-b3bd-9edd82dee22e');\n",
              "        const dataTable =\n",
              "          await google.colab.kernel.invokeFunction('convertToInteractive',\n",
              "                                                    [key], {});\n",
              "        if (!dataTable) return;\n",
              "\n",
              "        const docLinkHtml = 'Like what you see? Visit the ' +\n",
              "          '<a target=\"_blank\" href=https://colab.research.google.com/notebooks/data_table.ipynb>data table notebook</a>'\n",
              "          + ' to learn more about interactive tables.';\n",
              "        element.innerHTML = '';\n",
              "        dataTable['output_type'] = 'display_data';\n",
              "        await google.colab.output.renderOutput(dataTable, element);\n",
              "        const docLink = document.createElement('div');\n",
              "        docLink.innerHTML = docLinkHtml;\n",
              "        element.appendChild(docLink);\n",
              "      }\n",
              "    </script>\n",
              "  </div>\n",
              "\n",
              "\n",
              "    <div id=\"df-48c5bb10-e1d9-4721-8bb8-1cda822ae75f\">\n",
              "      <button class=\"colab-df-quickchart\" onclick=\"quickchart('df-48c5bb10-e1d9-4721-8bb8-1cda822ae75f')\"\n",
              "                title=\"Suggest charts\"\n",
              "                style=\"display:none;\">\n",
              "\n",
              "<svg xmlns=\"http://www.w3.org/2000/svg\" height=\"24px\"viewBox=\"0 0 24 24\"\n",
              "     width=\"24px\">\n",
              "    <g>\n",
              "        <path d=\"M19 3H5c-1.1 0-2 .9-2 2v14c0 1.1.9 2 2 2h14c1.1 0 2-.9 2-2V5c0-1.1-.9-2-2-2zM9 17H7v-7h2v7zm4 0h-2V7h2v10zm4 0h-2v-4h2v4z\"/>\n",
              "    </g>\n",
              "</svg>\n",
              "      </button>\n",
              "\n",
              "<style>\n",
              "  .colab-df-quickchart {\n",
              "      --bg-color: #E8F0FE;\n",
              "      --fill-color: #1967D2;\n",
              "      --hover-bg-color: #E2EBFA;\n",
              "      --hover-fill-color: #174EA6;\n",
              "      --disabled-fill-color: #AAA;\n",
              "      --disabled-bg-color: #DDD;\n",
              "  }\n",
              "\n",
              "  [theme=dark] .colab-df-quickchart {\n",
              "      --bg-color: #3B4455;\n",
              "      --fill-color: #D2E3FC;\n",
              "      --hover-bg-color: #434B5C;\n",
              "      --hover-fill-color: #FFFFFF;\n",
              "      --disabled-bg-color: #3B4455;\n",
              "      --disabled-fill-color: #666;\n",
              "  }\n",
              "\n",
              "  .colab-df-quickchart {\n",
              "    background-color: var(--bg-color);\n",
              "    border: none;\n",
              "    border-radius: 50%;\n",
              "    cursor: pointer;\n",
              "    display: none;\n",
              "    fill: var(--fill-color);\n",
              "    height: 32px;\n",
              "    padding: 0;\n",
              "    width: 32px;\n",
              "  }\n",
              "\n",
              "  .colab-df-quickchart:hover {\n",
              "    background-color: var(--hover-bg-color);\n",
              "    box-shadow: 0 1px 2px rgba(60, 64, 67, 0.3), 0 1px 3px 1px rgba(60, 64, 67, 0.15);\n",
              "    fill: var(--button-hover-fill-color);\n",
              "  }\n",
              "\n",
              "  .colab-df-quickchart-complete:disabled,\n",
              "  .colab-df-quickchart-complete:disabled:hover {\n",
              "    background-color: var(--disabled-bg-color);\n",
              "    fill: var(--disabled-fill-color);\n",
              "    box-shadow: none;\n",
              "  }\n",
              "\n",
              "  .colab-df-spinner {\n",
              "    border: 2px solid var(--fill-color);\n",
              "    border-color: transparent;\n",
              "    border-bottom-color: var(--fill-color);\n",
              "    animation:\n",
              "      spin 1s steps(1) infinite;\n",
              "  }\n",
              "\n",
              "  @keyframes spin {\n",
              "    0% {\n",
              "      border-color: transparent;\n",
              "      border-bottom-color: var(--fill-color);\n",
              "      border-left-color: var(--fill-color);\n",
              "    }\n",
              "    20% {\n",
              "      border-color: transparent;\n",
              "      border-left-color: var(--fill-color);\n",
              "      border-top-color: var(--fill-color);\n",
              "    }\n",
              "    30% {\n",
              "      border-color: transparent;\n",
              "      border-left-color: var(--fill-color);\n",
              "      border-top-color: var(--fill-color);\n",
              "      border-right-color: var(--fill-color);\n",
              "    }\n",
              "    40% {\n",
              "      border-color: transparent;\n",
              "      border-right-color: var(--fill-color);\n",
              "      border-top-color: var(--fill-color);\n",
              "    }\n",
              "    60% {\n",
              "      border-color: transparent;\n",
              "      border-right-color: var(--fill-color);\n",
              "    }\n",
              "    80% {\n",
              "      border-color: transparent;\n",
              "      border-right-color: var(--fill-color);\n",
              "      border-bottom-color: var(--fill-color);\n",
              "    }\n",
              "    90% {\n",
              "      border-color: transparent;\n",
              "      border-bottom-color: var(--fill-color);\n",
              "    }\n",
              "  }\n",
              "</style>\n",
              "\n",
              "      <script>\n",
              "        async function quickchart(key) {\n",
              "          const quickchartButtonEl =\n",
              "            document.querySelector('#' + key + ' button');\n",
              "          quickchartButtonEl.disabled = true;  // To prevent multiple clicks.\n",
              "          quickchartButtonEl.classList.add('colab-df-spinner');\n",
              "          try {\n",
              "            const charts = await google.colab.kernel.invokeFunction(\n",
              "                'suggestCharts', [key], {});\n",
              "          } catch (error) {\n",
              "            console.error('Error during call to suggestCharts:', error);\n",
              "          }\n",
              "          quickchartButtonEl.classList.remove('colab-df-spinner');\n",
              "          quickchartButtonEl.classList.add('colab-df-quickchart-complete');\n",
              "        }\n",
              "        (() => {\n",
              "          let quickchartButtonEl =\n",
              "            document.querySelector('#df-48c5bb10-e1d9-4721-8bb8-1cda822ae75f button');\n",
              "          quickchartButtonEl.style.display =\n",
              "            google.colab.kernel.accessAllowed ? 'block' : 'none';\n",
              "        })();\n",
              "      </script>\n",
              "    </div>\n",
              "\n",
              "    </div>\n",
              "  </div>\n"
            ],
            "text/plain": [
              "   Predicted Class\n",
              "0                2\n",
              "1                1\n",
              "2                0\n",
              "3                2\n",
              "4                0"
            ]
          },
          "execution_count": 10,
          "metadata": {},
          "output_type": "execute_result"
        }
      ],
      "source": [
        "y_pred = gaussian_nb.predict(X_test)\n",
        "pd.DataFrame(y_pred, columns=['Predicted Class']).head()"
      ]
    },
    {
      "cell_type": "markdown",
      "metadata": {
        "id": "F2NrL_uWN9iv"
      },
      "source": [
        "As you can see, the `gaussian_nb` is actually predicting the class with the highest posterior probability. For example, the first test sample has the highest posterior probability for class 2. So the sample is predicted as class 2 *ie.* virginica."
      ]
    },
    {
      "cell_type": "markdown",
      "metadata": {
        "id": "Hb-J2_hE6PTH",
        "nbgrader": {
          "grade": false,
          "grade_id": "cell-1651e682e5453cab",
          "locked": true,
          "schema_version": 1,
          "solution": false
        }
      },
      "source": [
        "### Model Evaluation\n",
        "\n",
        "After fitting our model, its time to evaluate the model's performance on unseen data. We will evaluate the model's performance on the test set using accuracy score as metrics.\n",
        "\n",
        "\n",
        "\n",
        "\n"
      ]
    },
    {
      "cell_type": "code",
      "execution_count": null,
      "metadata": {
        "colab": {
          "base_uri": "https://localhost:8080/"
        },
        "id": "BcAypXEL6t9w",
        "nbgrader": {
          "grade": false,
          "grade_id": "cell-a6ccbfd8074aee2b",
          "locked": false,
          "schema_version": 1,
          "solution": true
        },
        "outputId": "cfcabcb6-d387-4623-c9b3-79918fff6273"
      },
      "outputs": [
        {
          "name": "stdout",
          "output_type": "stream",
          "text": [
            "Accuracy=  0.9666666666666667\n"
          ]
        }
      ],
      "source": [
        "from sklearn.metrics import accuracy_score\n",
        "\n",
        "accuracy =  accuracy_score(y_test, y_pred)\n",
        "print('Accuracy= ',accuracy)"
      ]
    },
    {
      "cell_type": "markdown",
      "metadata": {
        "id": "_pGO7xzNDidC"
      },
      "source": [
        "Wow! the model has a pretty good accuracy of 0.9666 meaning 96.6% of its predictions are correct. And also the classes are not skewed which suggests that the model is actually performing very good. Infact if you recall the accuracy of the previous discriminative classifiers on iris dataset, the performance of Naive Bayes is better than that of logistic regression and  decision tree and is on par with that of Neural Network. Also keep in mind that the Neural Network is far more computationally expensive than the Naive Bayes classifier.\n",
        "\n",
        "\n"
      ]
    },
    {
      "cell_type": "markdown",
      "metadata": {
        "id": "60fLZTkqCOE0"
      },
      "source": [
        "#### Confusion Matrix\n",
        "\n",
        "Let's see how the confusion matrix of our classifier looks like using the [`ConfusionMatrixDisplay`](https://scikit-learn.org/stable/modules/generated/sklearn.metrics.ConfusionMatrixDisplay.html) function from `sklearn`."
      ]
    },
    {
      "cell_type": "code",
      "execution_count": null,
      "metadata": {
        "colab": {
          "base_uri": "https://localhost:8080/"
        },
        "id": "WPPLKNNR7xl5",
        "outputId": "cfeb00ee-5efd-4d7d-d42a-00853220a4ea"
      },
      "outputs": [
        {
          "data": {
            "text/plain": [
              "array([[11,  0,  0],\n",
              "       [ 0, 13,  0],\n",
              "       [ 0,  1,  5]])"
            ]
          },
          "execution_count": 13,
          "metadata": {},
          "output_type": "execute_result"
        }
      ],
      "source": [
        "conf_matrix"
      ]
    },
    {
      "cell_type": "code",
      "execution_count": null,
      "metadata": {
        "colab": {
          "base_uri": "https://localhost:8080/",
          "height": 472
        },
        "id": "VOd8YfgPDSEc",
        "outputId": "82073c98-b441-4d1b-ef9e-18b2f391b59e"
      },
      "outputs": [
        {
          "data": {
            "image/png": "[encoded data removed]",
            "text/plain": [
              "<Figure size 640x480 with 2 Axes>"
            ]
          },
          "metadata": {},
          "output_type": "display_data"
        }
      ],
      "source": [
        "from sklearn.metrics import confusion_matrix, ConfusionMatrixDisplay\n",
        "\n",
        "classes = ['Setosa', 'Versicolor', 'Virginica']\n",
        "conf_matrix = confusion_matrix(y_test, y_pred)\n",
        "disp = ConfusionMatrixDisplay(confusion_matrix=conf_matrix, display_labels=classes)\n",
        "disp.plot(cmap='Blues')\n",
        "plt.title(\"Gaussian Naive Bayes - Confusion Matrix\")\n",
        "plt.show()"
      ]
    },
    {
      "cell_type": "markdown",
      "metadata": {
        "id": "xH_5QIMPIKyY"
      },
      "source": [
        "We can see that the classifier misclassified a sample of virginica as versicolor. Except from that the classifier has perfectly classified the samples in the test set."
      ]
    },
    {
      "cell_type": "markdown",
      "metadata": {
        "id": "vHryr7ImuL1t"
      },
      "source": []
    }
  ],
  "metadata": {
    "colab": {
      "provenance": []
    },
    "kernelspec": {
      "display_name": "Python 3",
      "name": "python3"
    }
  },
  "nbformat": 4,
  "nbformat_minor": 0
}
