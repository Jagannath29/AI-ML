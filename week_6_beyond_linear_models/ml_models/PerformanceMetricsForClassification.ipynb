{
  "cells": [
    {
      "cell_type": "markdown",
      "metadata": {
        "id": "5y8gmuUF1eQn"
      },
      "source": [
        "# Evaluating classifiers\n",
        "\n",
        "In this section, you will learn how to evaluate a classifier's performance. For this purpose, we will first implement logistic regression on a real world data."
      ]
    },
    {
      "cell_type": "markdown",
      "metadata": {
        "id": "yyNi8WEG3v10"
      },
      "source": [
        "## Imports"
      ]
    },
    {
      "cell_type": "code",
      "execution_count": null,
      "metadata": {
        "id": "tMlPsNsM3y-b"
      },
      "outputs": [],
      "source": [
        "import itertools\n",
        "\n",
        "import pandas as pd\n",
        "import numpy as np\n",
        "import seaborn as sns\n",
        "import matplotlib.pyplot as plt"
      ]
    },
    {
      "cell_type": "markdown",
      "metadata": {
        "id": "IANot_zi_a9g"
      },
      "source": [
        "## Pima Indians Diabetes Dataset\n",
        "  \n",
        "So we just implemented the logistic regression on a small synthetic dataset. But that is rarely the case in reality. Real-world datasets are huge in size with a large number of examples and features.\n",
        "\n",
        "To give you a taste of how logistic regression solves the classification problem in the real world, we will be implementing logistic regression on the [Pima Indian Diabetes Dataset](https://www.kaggle.com/uciml/pima-indians-diabetes-database). This dataset is originally from the National Institute of Diabetes and Digestive and Kidney Diseases. We need to predict if a patient has diabetes or not, based on certain diagnostic measurements included in the dataset. This is a subset of a larger database. It contains only the samples of the patients who are females and at least 21 years old of Pima Indian heritage.\n",
        "\n",
        "As we did earlier, we are going to use Scikit-Learn's [`LogisticRegression`](https://scikit-learn.org/stable/modules/generated/sklearn.linear_model.LogisticRegression.html) object to classify the patient."
      ]
    },
    {
      "cell_type": "markdown",
      "metadata": {
        "id": "uExecP82SkMV"
      },
      "source": [
        "### Dataset Description\n",
        "\n",
        "The dataset has Number 768 sample records of patients. There are 8 features:\n",
        "\n",
        "\n",
        "- Pregnancies: Number of times pregnant\n",
        "- Glucose: Plasma glucose concentration a 2 hours in an oral glucose tolerance test\n",
        "- BloodPressure: Diastolic blood pressure (mm Hg)\n",
        "- SkinThickness: Triceps skin fold thickness (mm)\n",
        "- Insulin: 2-Hour serum insulin (mu U/ml)\n",
        "- BMI: Body mass index (weight in kg/(height in m)^2)\n",
        "- DiabetesPedigreeFunction\n",
        "- Age: Years\n",
        "\n",
        "Using these 8 predictor variables we need to predict the target variable 'Outcome'. It contains binary value: 1 if the patient has diabetes and 0 if the patient doesn't have diabetes.\n",
        "\n",
        "\n",
        "\n"
      ]
    },
    {
      "cell_type": "markdown",
      "metadata": {
        "id": "Rxzvwb_sSEL9"
      },
      "source": [
        "### Importing the dataset\n",
        "\n",
        "Let's import the dataset first and have a quick look at it."
      ]
    },
    {
      "cell_type": "code",
      "execution_count": null,
      "metadata": {
        "colab": {
          "base_uri": "https://localhost:8080/",
          "height": 206
        },
        "id": "zWQlOS6dR1S8",
        "outputId": "d8ec96bb-25e8-4983-cde9-75f72daa9087"
      },
      "outputs": [
        {
          "data": {
            "text/html": [
              "<div>\n",
              "<style scoped>\n",
              "    .dataframe tbody tr th:only-of-type {\n",
              "        vertical-align: middle;\n",
              "    }\n",
              "\n",
              "    .dataframe tbody tr th {\n",
              "        vertical-align: top;\n",
              "    }\n",
              "\n",
              "    .dataframe thead th {\n",
              "        text-align: right;\n",
              "    }\n",
              "</style>\n",
              "<table border=\"1\" class=\"dataframe\">\n",
              "  <thead>\n",
              "    <tr style=\"text-align: right;\">\n",
              "      <th></th>\n",
              "      <th>Pregnancies</th>\n",
              "      <th>Glucose</th>\n",
              "      <th>BloodPressure</th>\n",
              "      <th>SkinThickness</th>\n",
              "      <th>Insulin</th>\n",
              "      <th>BMI</th>\n",
              "      <th>DiabetesPedigreeFunction</th>\n",
              "      <th>Age</th>\n",
              "      <th>Outcome</th>\n",
              "    </tr>\n",
              "  </thead>\n",
              "  <tbody>\n",
              "    <tr>\n",
              "      <th>0</th>\n",
              "      <td>6</td>\n",
              "      <td>148</td>\n",
              "      <td>72</td>\n",
              "      <td>35</td>\n",
              "      <td>0</td>\n",
              "      <td>33.6</td>\n",
              "      <td>0.627</td>\n",
              "      <td>50</td>\n",
              "      <td>1</td>\n",
              "    </tr>\n",
              "    <tr>\n",
              "      <th>1</th>\n",
              "      <td>1</td>\n",
              "      <td>85</td>\n",
              "      <td>66</td>\n",
              "      <td>29</td>\n",
              "      <td>0</td>\n",
              "      <td>26.6</td>\n",
              "      <td>0.351</td>\n",
              "      <td>31</td>\n",
              "      <td>0</td>\n",
              "    </tr>\n",
              "    <tr>\n",
              "      <th>2</th>\n",
              "      <td>8</td>\n",
              "      <td>183</td>\n",
              "      <td>64</td>\n",
              "      <td>0</td>\n",
              "      <td>0</td>\n",
              "      <td>23.3</td>\n",
              "      <td>0.672</td>\n",
              "      <td>32</td>\n",
              "      <td>1</td>\n",
              "    </tr>\n",
              "    <tr>\n",
              "      <th>3</th>\n",
              "      <td>1</td>\n",
              "      <td>89</td>\n",
              "      <td>66</td>\n",
              "      <td>23</td>\n",
              "      <td>94</td>\n",
              "      <td>28.1</td>\n",
              "      <td>0.167</td>\n",
              "      <td>21</td>\n",
              "      <td>0</td>\n",
              "    </tr>\n",
              "    <tr>\n",
              "      <th>4</th>\n",
              "      <td>0</td>\n",
              "      <td>137</td>\n",
              "      <td>40</td>\n",
              "      <td>35</td>\n",
              "      <td>168</td>\n",
              "      <td>43.1</td>\n",
              "      <td>2.288</td>\n",
              "      <td>33</td>\n",
              "      <td>1</td>\n",
              "    </tr>\n",
              "  </tbody>\n",
              "</table>\n",
              "</div>"
            ],
            "text/plain": [
              "   Pregnancies  Glucose  BloodPressure  ...  DiabetesPedigreeFunction  Age  Outcome\n",
              "0            6      148             72  ...                     0.627   50        1\n",
              "1            1       85             66  ...                     0.351   31        0\n",
              "2            8      183             64  ...                     0.672   32        1\n",
              "3            1       89             66  ...                     0.167   21        0\n",
              "4            0      137             40  ...                     2.288   33        1\n",
              "\n",
              "[5 rows x 9 columns]"
            ]
          },
          "execution_count": 14,
          "metadata": {
            "tags": []
          },
          "output_type": "execute_result"
        }
      ],
      "source": [
        "dataset = pd.read_csv('https://storage.googleapis.com/codehub-data/1-lv1-2-diabetes.csv')\n",
        "dataset.head()"
      ]
    },
    {
      "cell_type": "markdown",
      "metadata": {
        "id": "Bl2kxciZSo3n"
      },
      "source": [
        "### Understanding the data distribution\n",
        "\n",
        "We can get some statistical information about each of the columns of dataset using `dataset.describe()`"
      ]
    },
    {
      "cell_type": "code",
      "execution_count": null,
      "metadata": {
        "colab": {
          "base_uri": "https://localhost:8080/",
          "height": 300
        },
        "id": "_8_VwwPGTFxw",
        "outputId": "87dbe5c5-ea8d-4b82-9e85-e6d67ffc0eab"
      },
      "outputs": [
        {
          "data": {
            "text/html": [
              "<div>\n",
              "<style scoped>\n",
              "    .dataframe tbody tr th:only-of-type {\n",
              "        vertical-align: middle;\n",
              "    }\n",
              "\n",
              "    .dataframe tbody tr th {\n",
              "        vertical-align: top;\n",
              "    }\n",
              "\n",
              "    .dataframe thead th {\n",
              "        text-align: right;\n",
              "    }\n",
              "</style>\n",
              "<table border=\"1\" class=\"dataframe\">\n",
              "  <thead>\n",
              "    <tr style=\"text-align: right;\">\n",
              "      <th></th>\n",
              "      <th>Pregnancies</th>\n",
              "      <th>Glucose</th>\n",
              "      <th>BloodPressure</th>\n",
              "      <th>SkinThickness</th>\n",
              "      <th>Insulin</th>\n",
              "      <th>BMI</th>\n",
              "      <th>DiabetesPedigreeFunction</th>\n",
              "      <th>Age</th>\n",
              "      <th>Outcome</th>\n",
              "    </tr>\n",
              "  </thead>\n",
              "  <tbody>\n",
              "    <tr>\n",
              "      <th>count</th>\n",
              "      <td>768.000000</td>\n",
              "      <td>768.000000</td>\n",
              "      <td>768.000000</td>\n",
              "      <td>768.000000</td>\n",
              "      <td>768.000000</td>\n",
              "      <td>768.000000</td>\n",
              "      <td>768.000000</td>\n",
              "      <td>768.000000</td>\n",
              "      <td>768.000000</td>\n",
              "    </tr>\n",
              "    <tr>\n",
              "      <th>mean</th>\n",
              "      <td>3.845052</td>\n",
              "      <td>120.894531</td>\n",
              "      <td>69.105469</td>\n",
              "      <td>20.536458</td>\n",
              "      <td>79.799479</td>\n",
              "      <td>31.992578</td>\n",
              "      <td>0.471876</td>\n",
              "      <td>33.240885</td>\n",
              "      <td>0.348958</td>\n",
              "    </tr>\n",
              "    <tr>\n",
              "      <th>std</th>\n",
              "      <td>3.369578</td>\n",
              "      <td>31.972618</td>\n",
              "      <td>19.355807</td>\n",
              "      <td>15.952218</td>\n",
              "      <td>115.244002</td>\n",
              "      <td>7.884160</td>\n",
              "      <td>0.331329</td>\n",
              "      <td>11.760232</td>\n",
              "      <td>0.476951</td>\n",
              "    </tr>\n",
              "    <tr>\n",
              "      <th>min</th>\n",
              "      <td>0.000000</td>\n",
              "      <td>0.000000</td>\n",
              "      <td>0.000000</td>\n",
              "      <td>0.000000</td>\n",
              "      <td>0.000000</td>\n",
              "      <td>0.000000</td>\n",
              "      <td>0.078000</td>\n",
              "      <td>21.000000</td>\n",
              "      <td>0.000000</td>\n",
              "    </tr>\n",
              "    <tr>\n",
              "      <th>25%</th>\n",
              "      <td>1.000000</td>\n",
              "      <td>99.000000</td>\n",
              "      <td>62.000000</td>\n",
              "      <td>0.000000</td>\n",
              "      <td>0.000000</td>\n",
              "      <td>27.300000</td>\n",
              "      <td>0.243750</td>\n",
              "      <td>24.000000</td>\n",
              "      <td>0.000000</td>\n",
              "    </tr>\n",
              "    <tr>\n",
              "      <th>50%</th>\n",
              "      <td>3.000000</td>\n",
              "      <td>117.000000</td>\n",
              "      <td>72.000000</td>\n",
              "      <td>23.000000</td>\n",
              "      <td>30.500000</td>\n",
              "      <td>32.000000</td>\n",
              "      <td>0.372500</td>\n",
              "      <td>29.000000</td>\n",
              "      <td>0.000000</td>\n",
              "    </tr>\n",
              "    <tr>\n",
              "      <th>75%</th>\n",
              "      <td>6.000000</td>\n",
              "      <td>140.250000</td>\n",
              "      <td>80.000000</td>\n",
              "      <td>32.000000</td>\n",
              "      <td>127.250000</td>\n",
              "      <td>36.600000</td>\n",
              "      <td>0.626250</td>\n",
              "      <td>41.000000</td>\n",
              "      <td>1.000000</td>\n",
              "    </tr>\n",
              "    <tr>\n",
              "      <th>max</th>\n",
              "      <td>17.000000</td>\n",
              "      <td>199.000000</td>\n",
              "      <td>122.000000</td>\n",
              "      <td>99.000000</td>\n",
              "      <td>846.000000</td>\n",
              "      <td>67.100000</td>\n",
              "      <td>2.420000</td>\n",
              "      <td>81.000000</td>\n",
              "      <td>1.000000</td>\n",
              "    </tr>\n",
              "  </tbody>\n",
              "</table>\n",
              "</div>"
            ],
            "text/plain": [
              "       Pregnancies     Glucose  ...         Age     Outcome\n",
              "count   768.000000  768.000000  ...  768.000000  768.000000\n",
              "mean      3.845052  120.894531  ...   33.240885    0.348958\n",
              "std       3.369578   31.972618  ...   11.760232    0.476951\n",
              "min       0.000000    0.000000  ...   21.000000    0.000000\n",
              "25%       1.000000   99.000000  ...   24.000000    0.000000\n",
              "50%       3.000000  117.000000  ...   29.000000    0.000000\n",
              "75%       6.000000  140.250000  ...   41.000000    1.000000\n",
              "max      17.000000  199.000000  ...   81.000000    1.000000\n",
              "\n",
              "[8 rows x 9 columns]"
            ]
          },
          "execution_count": 15,
          "metadata": {
            "tags": []
          },
          "output_type": "execute_result"
        }
      ],
      "source": [
        "dataset.describe()"
      ]
    },
    {
      "cell_type": "markdown",
      "metadata": {
        "id": "A564AGkSUHMd"
      },
      "source": [
        "You can clearly see the range of values differ very much from one column to the other. The value of the `DiabetesPedigreeFunction` column ranges between 0.078 to 2.42 whereas the value of the `Glucose` column ranges between 0 to 199. It is a good practice to scale the values to a similar range using **Feature Scaling**.\n",
        "\n",
        "\n"
      ]
    },
    {
      "cell_type": "markdown",
      "metadata": {
        "id": "tO7RBrocZVO4"
      },
      "source": [
        "### Data Preprocessing\n",
        "Now we will create a feature matrix $\\mathbf{X}$ which contains all the features and their values of all the patients in the dataset. Similarly a label vector $\\mathbf{y}$ which contains the outcome for all the patients in the dataset.\n",
        "\n",
        "We then **split the dataset into training set and test set**. We will train the logistic regression classifier on the training set. And later, we will evaluate its performance on the test set.\n",
        "\n",
        "Finally we will **scale the features** to a similar range.\n",
        "\n",
        "\n"
      ]
    },
    {
      "cell_type": "code",
      "execution_count": null,
      "metadata": {
        "id": "Tg5s72KRZU2t"
      },
      "outputs": [],
      "source": [
        "# Import train_test_split from sklearn.model_selection and StandardScaler from sklearn.preprocessing\n",
        "from sklearn.model_selection import train_test_split\n",
        "from sklearn.preprocessing import StandardScaler\n",
        "\n",
        "X = dataset.drop('Outcome', axis=1)\n",
        "y = dataset['Outcome']\n",
        "\n",
        "# Train-test split\n",
        "X_train, X_test, y_train, y_test = train_test_split(X, y, test_size = 0.3, random_state=42)\n",
        "\n",
        "# Feature scaling\n",
        "scaler = StandardScaler()\n",
        "X_train = scaler.fit_transform(X_train)\n",
        "X_test = scaler.transform(X_test)"
      ]
    },
    {
      "cell_type": "markdown",
      "metadata": {
        "id": "sgjzEu1-a8kP"
      },
      "source": [
        "### Training the Logistic Regresssion model.\n",
        "\n",
        "**Now comes the important part**. After all the preprocessing, we will finally fit the logistic regression on the dataset. We will use the `logistic_regression` object's [`fit`](https://scikit-learn.org/stable/modules/generated/sklearn.linear_model.LogisticRegression.html#sklearn.linear_model.LogisticRegression.fit) method for training the model as we did earlier."
      ]
    },
    {
      "cell_type": "code",
      "execution_count": null,
      "metadata": {
        "colab": {
          "base_uri": "https://localhost:8080/",
          "height": 104
        },
        "id": "ubZqDbN8CJiB",
        "outputId": "0783447c-ef84-4720-8c52-8758f38f44bd"
      },
      "outputs": [
        {
          "data": {
            "text/plain": [
              "LogisticRegression(C=1.0, class_weight=None, dual=False, fit_intercept=True,\n",
              "                   intercept_scaling=1, l1_ratio=None, max_iter=100,\n",
              "                   multi_class='auto', n_jobs=None, penalty='l2',\n",
              "                   random_state=None, solver='lbfgs', tol=0.0001, verbose=0,\n",
              "                   warm_start=False)"
            ]
          },
          "execution_count": 17,
          "metadata": {
            "tags": []
          },
          "output_type": "execute_result"
        }
      ],
      "source": [
        "# Import LogisticRegression from sklearn.linear_model\n",
        "from sklearn.linear_model import LogisticRegression\n",
        "\n",
        "logistic_regression = LogisticRegression()\n",
        "logistic_regression.fit(X_train, y_train)"
      ]
    },
    {
      "cell_type": "markdown",
      "metadata": {
        "id": "mOuQiClZlJZS"
      },
      "source": [
        "### Making Predictions\n",
        "Now that we have a trained logistic regression model, let's use it to predict the class labels for the samples in the test set. We can get the predicted class labels using the [`predict`](https://scikit-learn.org/stable/modules/generated/sklearn.linear_model.LogisticRegression.html#sklearn.linear_model.LogisticRegression.predict) method of `logistic_regression` object.\n",
        "\n",
        "\n",
        "\n"
      ]
    },
    {
      "cell_type": "code",
      "execution_count": null,
      "metadata": {
        "colab": {
          "base_uri": "https://localhost:8080/",
          "height": 424
        },
        "id": "NhyEU4dxMUTL",
        "outputId": "4793e7f9-33da-4ff1-b499-b29d6e23a26c"
      },
      "outputs": [
        {
          "data": {
            "text/html": [
              "<div>\n",
              "<style scoped>\n",
              "    .dataframe tbody tr th:only-of-type {\n",
              "        vertical-align: middle;\n",
              "    }\n",
              "\n",
              "    .dataframe tbody tr th {\n",
              "        vertical-align: top;\n",
              "    }\n",
              "\n",
              "    .dataframe thead th {\n",
              "        text-align: right;\n",
              "    }\n",
              "</style>\n",
              "<table border=\"1\" class=\"dataframe\">\n",
              "  <thead>\n",
              "    <tr style=\"text-align: right;\">\n",
              "      <th></th>\n",
              "      <th>0</th>\n",
              "    </tr>\n",
              "  </thead>\n",
              "  <tbody>\n",
              "    <tr>\n",
              "      <th>0</th>\n",
              "      <td>0</td>\n",
              "    </tr>\n",
              "    <tr>\n",
              "      <th>1</th>\n",
              "      <td>0</td>\n",
              "    </tr>\n",
              "    <tr>\n",
              "      <th>2</th>\n",
              "      <td>0</td>\n",
              "    </tr>\n",
              "    <tr>\n",
              "      <th>3</th>\n",
              "      <td>0</td>\n",
              "    </tr>\n",
              "    <tr>\n",
              "      <th>4</th>\n",
              "      <td>1</td>\n",
              "    </tr>\n",
              "    <tr>\n",
              "      <th>...</th>\n",
              "      <td>...</td>\n",
              "    </tr>\n",
              "    <tr>\n",
              "      <th>226</th>\n",
              "      <td>0</td>\n",
              "    </tr>\n",
              "    <tr>\n",
              "      <th>227</th>\n",
              "      <td>0</td>\n",
              "    </tr>\n",
              "    <tr>\n",
              "      <th>228</th>\n",
              "      <td>0</td>\n",
              "    </tr>\n",
              "    <tr>\n",
              "      <th>229</th>\n",
              "      <td>0</td>\n",
              "    </tr>\n",
              "    <tr>\n",
              "      <th>230</th>\n",
              "      <td>0</td>\n",
              "    </tr>\n",
              "  </tbody>\n",
              "</table>\n",
              "<p>231 rows × 1 columns</p>\n",
              "</div>"
            ],
            "text/plain": [
              "     0\n",
              "0    0\n",
              "1    0\n",
              "2    0\n",
              "3    0\n",
              "4    1\n",
              "..  ..\n",
              "226  0\n",
              "227  0\n",
              "228  0\n",
              "229  0\n",
              "230  0\n",
              "\n",
              "[231 rows x 1 columns]"
            ]
          },
          "execution_count": 18,
          "metadata": {
            "tags": []
          },
          "output_type": "execute_result"
        }
      ],
      "source": [
        "y_pred = logistic_regression.predict(X_test)\n",
        "pd.DataFrame(y_pred)"
      ]
    },
    {
      "cell_type": "markdown",
      "metadata": {
        "id": "H_Rt605TYon9"
      },
      "source": [
        "# Evaluation metrics\n",
        "\n",
        "Now that we have predicted whether or not the patients in the test set have diabetes, let's evaluate how good is the prediction made by logistic regression. There are several metrics that are used to measure the performance of a classifier. In this unit, we will learn about the following metrics.\n",
        "\n",
        " - Accuracy\n",
        " - Confusion Matrix\n",
        " - Precision\n",
        " - Recall\n",
        " - F1-score\n",
        "\n",
        "All of these metrics are available in Scikit-Learn's [metrics](https://scikit-learn.org/stable/modules/classes.html#module-sklearn.metrics) package  for [classification](https://scikit-learn.org/stable/modules/classes.html#classification-metrics).\n",
        "\n",
        "Note: Confusion matrix is not a performance metric in itself but most of the other performance metrics can be derived from the confusion matrix."
      ]
    },
    {
      "cell_type": "markdown",
      "metadata": {
        "id": "_5-Zs8xh9O-Q"
      },
      "source": [
        "## Accuracy\n",
        "This is the simplest performance metric for classification models.\n",
        "Accuracy is the fraction of predictions that the classifier predicted correctly.\n",
        "\n",
        "$$\\text{Accuracy} = \\frac{\\text{Number of correct predictions}}{\\text{Total number of predictions}}$$\n",
        "\n",
        "We can calculate the accuracy using the [accuracy_score](https://scikit-learn.org/stable/modules/generated/sklearn.metrics.accuracy_score.html#sklearn.metrics.accuracy_score) function from the [sklearn.metrics](https://scikit-learn.org/stable/modules/classes.html#module-sklearn.metrics) module.\n",
        "\n"
      ]
    },
    {
      "cell_type": "code",
      "execution_count": null,
      "metadata": {
        "colab": {
          "base_uri": "https://localhost:8080/",
          "height": 34
        },
        "id": "Fmc75qaSN7ld",
        "outputId": "e382d42c-d35f-40b7-881f-b701b7f955a4"
      },
      "outputs": [
        {
          "name": "stdout",
          "output_type": "stream",
          "text": [
            "0.7359307359307359\n"
          ]
        }
      ],
      "source": [
        "# Import accuracy_score from sklearn.metrics\n",
        "from sklearn.metrics import accuracy_score\n",
        "\n",
        "accuracy = accuracy_score(y_test, y_pred)\n",
        "print(accuracy)"
      ]
    },
    {
      "cell_type": "markdown",
      "metadata": {
        "id": "RUfpRfDIRALn"
      },
      "source": [
        "The model predicted approximately 73.59% of the test data correctly."
      ]
    },
    {
      "cell_type": "markdown",
      "metadata": {
        "id": "4UeTFS9qeaNZ"
      },
      "source": [
        "### Accuracy Paradox\n",
        "\n",
        "Accuracy paradox refers to the inability of accuracy metric to correctly measure the performance in case of skewed classes. Classes are skewed if a large number of examples belong to one class and only a small number of examples belong to the other class.\n",
        "\n",
        "**Example**<br>\n",
        "Consider a problem where the model needs to detect cancer patients. Suppose  it is a very rare type of cancer and only 1% of the tested people can have it. We built a model and found its accuracy to  be 90%. However, if we build a model that simply classifies every test sample as negative, it will have an accuracy of 99%. If we deploy this model in our lab by considering it's accuracy only, this would result in a catastrophe as no any cancer patient would be detected.\n",
        "\n",
        "Thus, at first, we need to check the skewness of the dataset. We can use [`seaborn.countplot`](https://seaborn.pydata.org/generated/seaborn.countplot.html) to see the number of samples in each class."
      ]
    },
    {
      "cell_type": "code",
      "execution_count": null,
      "metadata": {
        "colab": {
          "base_uri": "https://localhost:8080/",
          "height": 279
        },
        "id": "WIorF7CThce1",
        "outputId": "1b9aef53-b3aa-4a22-a689-c6e7b908251c"
      },
      "outputs": [
        {
          "data": {
            "image/png": "[encoded data removed]",
            "text/plain": [
              "<Figure size 432x288 with 1 Axes>"
            ]
          },
          "metadata": {
            "needs_background": "light",
            "tags": []
          },
          "output_type": "display_data"
        }
      ],
      "source": [
        "sns.countplot('Outcome', data = dataset)\n",
        "plt.xlabel(\"Class\")\n",
        "plt.ylabel(\"No. of patients\")\n",
        "plt.show()"
      ]
    },
    {
      "cell_type": "markdown",
      "metadata": {
        "id": "_JN0UYrTuDUi"
      },
      "source": [
        "As you can see from the plot above, our dataset is quite skewed. The number of patients that do not have diabetes (0) is double the number of patients that have diabetes (1). This indicates that accuracy alone is not a dependable metric to measure the model's performance. Can you answer why? (Hint: compute the accuracy when our model predicts 0 only.)\n",
        "\n",
        "We can use metrics such as confusion matrix, precision, recall and F1 score in conjunction with accuracy to better evaluate the performance of our model."
      ]
    },
    {
      "cell_type": "markdown",
      "metadata": {
        "id": "AKu7FBj0KoHE"
      },
      "source": [
        "## Confusion Matrix\n",
        "\n",
        "A confusion matrix is a 2d array as shown below. The rows of the matrix represent the instances of the true classes, while the columns represent the instances of predicted classes (or vice versa). That is to say, given a confusion matrix $C$, the entry $c_{i,j}$ is the number of observations known to belong to class $i$ but predicted to be in class $j$.\n",
        "\n",
        "<figure align=\"center\">\n",
        "<!-- <img src=\"https://drive.google.com/uc?export=view&id=1PlxTya5VwsI0kAzhYCbGyrRS1NyN6jj9\" alt=\"Confusion Matrix\" height = \"300\"/> -->\n",
        "<img src=\"https://i.postimg.cc/SsP62Cs4/image.png\" alt=\"Confusion Matrix\" height = \"300\"/>\n",
        "</figure>\n",
        "\n",
        "**TN (True Negative)** is the number of examples that our classifier predicted as negative $(\\hat{y} = 0)$ and are actually negative $(y = 0)$.\n",
        "\n",
        "**FN (False Negative)** is the number of examples that our classifier predicted as negative $(\\hat{y} = 0)$ but are actually positive $(y = 1)$.\n",
        "\n",
        "**TP (True Positive)** is the number of examples that our classifier predicted as positive $(\\hat{y} = 1)$ and are actually positive $(y = 1)$.\n",
        "\n",
        "**FP (False Positive)** is the number of examples that our classifier predicted as positive $(\\hat{y} = 1)$ but are actually negative $(y = 0)$.\n",
        "\n",
        "FP and FN are also called **Type I** and **Type II** error respectively. The diagonal of the confusion matrix contains the TN and TP. These are the values that the classifier got right. So greater the values in the diagonal, better the classifier's performance.\n",
        "\n",
        "We can use the [confusion_matrix](https://scikit-learn.org/stable/modules/generated/sklearn.metrics.confusion_matrix.html) function from the [sklearn.metrics](https://scikit-learn.org/stable/modules/classes.html#module-sklearn.metrics) to compute the confusion matrix. The information provided by the confusion matrix is used for the computation of precision and recall."
      ]
    },
    {
      "cell_type": "code",
      "execution_count": null,
      "metadata": {
        "colab": {
          "base_uri": "https://localhost:8080/",
          "height": 297
        },
        "id": "dNiWtkC9RN0u",
        "outputId": "0ad3cf28-cfa2-4dc6-89ef-f78fa8f86c70"
      },
      "outputs": [
        {
          "data": {
            "image/png": "[encoded data removed]",
            "text/plain": [
              "<Figure size 864x288 with 1 Axes>"
            ]
          },
          "metadata": {
            "needs_background": "light",
            "tags": []
          },
          "output_type": "display_data"
        }
      ],
      "source": [
        "# Import confusion_matrix from sklearn.metrics\n",
        "from sklearn.metrics import confusion_matrix\n",
        "\n",
        "labels = y_test.unique()\n",
        "matrix = confusion_matrix(y_test, y_pred, labels=labels, normalize=None)\n",
        "\n",
        "fig,ax = plt.subplots(figsize=(12,4))\n",
        "ax.imshow(matrix, cmap=\"Blues\")\n",
        "t_hold = (matrix.max() - matrix.min()) / 2.\n",
        "for row,col in itertools.product(range(len(labels)), range(len(labels))):\n",
        "    color = \"white\" if matrix[row,col] > t_hold else \"black\"\n",
        "    ax.text(col, row, matrix[row, col], horizontalalignment=\"center\", color=color)\n",
        "tick_marks = np.arange(len(labels))\n",
        "ax.set_title(\"Confusion Matrix\")\n",
        "ax.set_xlabel(\"Predicted\")\n",
        "ax.set_xticks(np.arange(len(labels)))\n",
        "ax.set_xticklabels(labels, rotation=40, ha=\"right\")\n",
        "ax.set_ylabel(\"Actual\")\n",
        "ax.set_yticks(np.arange(len(labels)))\n",
        "ax.set_yticklabels(labels)\n",
        "plt.show()\n"
      ]
    },
    {
      "cell_type": "markdown",
      "metadata": {
        "id": "DWQzQvl0hEva"
      },
      "source": [
        "We can also use the [plot_confusion_matrix](https://scikit-learn.org/stable/modules/generated/sklearn.metrics.plot_confusion_matrix.html#sklearn.metrics.plot_confusion_matrix) function from the [sklearn.metrics](https://scikit-learn.org/stable/modules/classes.html#module-sklearn.metrics) to display the confusion matrix. Notice any difference between `confusion_matrix` and `plot_confusion_matrix`?"
      ]
    },
    {
      "cell_type": "code",
      "execution_count": null,
      "metadata": {
        "colab": {
          "base_uri": "https://localhost:8080/",
          "height": 283
        },
        "id": "wuTL-BiiSb6a",
        "outputId": "eb7ab3e0-4bde-4bd1-a2db-ed435ce252c1"
      },
      "outputs": [
        {
          "data": {
            "image/png": "[encoded data removed]",
            "text/plain": [
              "<Figure size 432x288 with 2 Axes>"
            ]
          },
          "metadata": {
            "needs_background": "light",
            "tags": []
          },
          "output_type": "display_data"
        }
      ],
      "source": [
        "# Import plot_confusion_matrix from sklearn.metrics\n",
        "from sklearn.metrics import plot_confusion_matrix\n",
        "\n",
        "disp = plot_confusion_matrix(logistic_regression,X_test,y_test)\n",
        "plt.show()"
      ]
    },
    {
      "cell_type": "markdown",
      "metadata": {
        "id": "7n6vOmZDYvV5"
      },
      "source": [
        "## Precision\n",
        "\n",
        "Precision measures how often the examples predicted as positive by our classifier are actually positive.  \n",
        "\n",
        "$$\\text{Precision} = \\frac{\\text{True Positive}}{\\text{Total number of positives predicted}} = \\frac{TP}{TP+FP}$$\n",
        "\n",
        "\n"
      ]
    },
    {
      "cell_type": "markdown",
      "metadata": {
        "id": "rBWDCMxQXNNl"
      },
      "source": [
        "Even though we can compute the precision from the confusion matrix, `sklearn` provides an easier way to compute the precision. We can use the [precision_score](https://scikit-learn.org/stable/modules/generated/sklearn.metrics.precision_score.html#sklearn.metrics.precision_score) function from the [sklearn.metrics](https://scikit-learn.org/stable/modules/classes.html#module-sklearn.metrics) module to directly compute the precision of our logistic regression classifier."
      ]
    },
    {
      "cell_type": "code",
      "execution_count": null,
      "metadata": {
        "id": "vdztdgswXMtp"
      },
      "outputs": [],
      "source": [
        "# Import precision_score from sklearn.metrics\n",
        "\n",
        "from sklearn.metrics import precision_score\n",
        "\n",
        "precision = precision_score(y_test, y_pred)\n",
        "print(precision)"
      ]
    },
    {
      "cell_type": "markdown",
      "metadata": {
        "id": "zLDOR1LbYQEx"
      },
      "source": [
        "As you can see, our classifier has a precision of 0.617 which means that among the patients that the classifier predicts as positive only 61.7% are actually positive or have diabetes."
      ]
    },
    {
      "cell_type": "markdown",
      "metadata": {
        "id": "5SqlF_6ubRBI"
      },
      "source": [
        "## Recall\n",
        "\n",
        "Recall measures how often the examples that are actually positive are predicted as positive by our classifier.\n",
        "\n",
        "$$\\text{Recall} =  \\frac{\\text{True Positive}}{\\text{Total number of actual positives}} = \\frac{TP}{TP + FN}$$"
      ]
    },
    {
      "cell_type": "markdown",
      "metadata": {
        "id": "Cupdczg2YNFh"
      },
      "source": [
        "We can calculate the recall from the confusion matrix as well but here we will use the [recall_score](https://scikit-learn.org/stable/modules/generated/sklearn.metrics.recall_score.html#sklearn.metrics.recall_score) function from the [sklearn.metrics](https://scikit-learn.org/stable/modules/classes.html#module-sklearn.metrics) module to compute the recall of our classifier."
      ]
    },
    {
      "cell_type": "code",
      "execution_count": null,
      "metadata": {
        "id": "p_HuLiznY9mF"
      },
      "outputs": [],
      "source": [
        "# Import recall_score from sklearn.metrics\n",
        "from sklearn.metrics import recall_score\n",
        "\n",
        "recall = recall_score(y_test, y_pred)\n",
        "print(recall)"
      ]
    },
    {
      "cell_type": "markdown",
      "metadata": {
        "id": "QVyVvDJUZFwy"
      },
      "source": [
        "The classifier has a recall of 0.625 which means that among the patients that actually have diabetes, the classifier can only identify 62.5% of them. Can you think of the consequences?\n",
        "\n",
        "Hint: Think about the people who have diabetes and don't take any medication as they are incorrectly diagnosed."
      ]
    },
    {
      "cell_type": "markdown",
      "metadata": {
        "id": "W-0650Ycr1U7"
      },
      "source": [
        "## F1 Score\n",
        "\n",
        "If your classifier needs to have a balance between precision and recall, then you can use the F1 Score. It is calculated as:\n",
        "$$\\text{F1 score} = \\frac{2 \\times \\text{Precision} \\times \\text{Recall}}{\\text{Precision}  + \\text{Recall}}$$"
      ]
    },
    {
      "cell_type": "markdown",
      "metadata": {
        "id": "hhRfd4kMbQkN"
      },
      "source": [
        "We can use the [f1_score](https://scikit-learn.org/stable/modules/generated/sklearn.metrics.f1_score.html#sklearn.metrics.f1_score) from [sklearn.metrics](https://scikit-learn.org/stable/modules/classes.html#module-sklearn.metrics) to compute the F1 score of the model.\n"
      ]
    },
    {
      "cell_type": "code",
      "execution_count": null,
      "metadata": {
        "id": "Ln7j64Ej6aID"
      },
      "outputs": [],
      "source": [
        "# Import f1_score from sklearn.metrics\n",
        "from sklearn.metrics import f1_score\n",
        "\n",
        "f1_score = f1_score(y_test, y_pred)\n",
        "print(f1_score)"
      ]
    },
    {
      "cell_type": "markdown",
      "metadata": {},
      "source": []
    }
  ],
  "metadata": {
    "colab": {
      "provenance": []
    },
    "kernelspec": {
      "display_name": "Python 3",
      "name": "python3"
    }
  },
  "nbformat": 4,
  "nbformat_minor": 0
}
