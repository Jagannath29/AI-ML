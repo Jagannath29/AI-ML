{
 "cells": [
  {
   "cell_type": "markdown",
   "metadata": {
    "id": "uvQj0IROEquG"
   },
   "source": [
    "#   Understanding Model Stability in Machine Learning\n",
    "\n",
    "In real-world machine learning applications, models are rarely trained just once and left unchanged. Instead, they often:\n",
    "\n",
    "-  **Retrain on new data regularly** as more data becomes available or environments evolve.\n",
    "-  **Operate under slightly different input conditions** — such as feature distributions shifting over time.\n",
    "-  **Drive critical business decisions** where even small prediction errors can have major consequences.\n",
    "\n",
    "Due to these factors, **model instability** becomes a serious concern.\n",
    "\n",
    "---\n",
    "\n",
    "##  What Is Model Instability?\n",
    "\n",
    "**Model instability** refers to a model’s tendency to behave inconsistently when exposed to small changes in:\n",
    "\n",
    "- Training data (e.g., different train-test splits)\n",
    "- Input features (e.g., scaled differently or slightly corrupted)\n",
    "- Random seeds used during training\n",
    "- Hyperparameter settings\n",
    "\n",
    "When a model is unstable:\n",
    "- Its performance (e.g., accuracy, F1-score) varies significantly across different runs or folds.\n",
    "- It may make **very different predictions** even when the changes to data or settings are **minor**.\n",
    "- It becomes **hard to trust, explain, or deploy** in real-world systems.\n",
    "\n",
    "---\n",
    "\n",
    "##  Why Should We Care About Stability?\n",
    "\n",
    "Imagine deploying a model into a production system where:\n",
    "- It retrains weekly on new data,\n",
    "- Or it runs on data collected from different sources,\n",
    "- Or it supports a medical, legal, or financial decision.\n",
    "\n",
    "If your model is **not stable**, it may perform well today and poorly tomorrow — not because the world changed, but because your model was sensitive to small differences or fails to generlaize on unseen data.\n",
    "\n",
    "This makes it:\n",
    "- Difficult to reproduce results,\n",
    "- Risky to automate decision-making,\n",
    "- Challenging to debug and improve.\n",
    "\n",
    "---\n",
    "\n"
   ]
  },
  {
   "cell_type": "markdown",
   "metadata": {
    "id": "ZqwuOKBSG8X5"
   },
   "source": [
    "#  Dataset for Demonstrating Model Instability\n",
    "\n",
    "To simulate and explore model instability, we will use the **Breast Cancer Wisconsin Diagnostic Dataset**, which is available from `sklearn.datasets`.\n",
    "\n",
    "###  About the Dataset\n",
    "\n",
    "- The dataset consists of **569 examples** with **30 continuous input features**.\n",
    "- Each example represents measurements from a breast mass (such as radius, texture, area, smoothness, etc.).\n",
    "- The target is binary:\n",
    "  - `0` = Malignant (cancerous)\n",
    "  - `1` = Benign (non-cancerous)\n",
    "\n",
    "###  Why This Dataset?\n",
    "\n",
    "We chose this dataset because:\n",
    "-  It is clean, balanced, and easy to use.\n",
    "-  It has multiple **numeric input features**, which makes it ideal for demonstrating instability by modifying feature distributions or relationships.\n",
    "-  It is **widely used in machine learning**, so results are easy to interpret.\n",
    "\n",
    "---\n",
    "\n",
    "##  Reminder: Our Goal Is Not High Accuracy\n",
    "\n",
    "Unlike traditional ML workflows, **we are not trying to optimize model accuracy** here.\n",
    "\n",
    "Our goal is to:\n",
    "1. **Create an intentionally unstable model** by disturbing the feature space.\n",
    "2. Measure its performance variance across different splits or seeds.\n",
    "3. Later, apply techniques to **stabilize the model**.\n",
    "\n",
    "This will help you understand **what makes a model unstable**, how to **detect it**, and how to **fix it** — a critical but often overlooked skill in machine learning development.\n"
   ]
  },
  {
   "cell_type": "code",
   "execution_count": 1,
   "metadata": {
    "id": "WX2R1RlyEsV2"
   },
   "outputs": [],
   "source": [
    "# 🔧 Import required libraries\n",
    "\n",
    "import pandas as pd  # for data handling\n",
    "import numpy as np  # for numerical operations\n",
    "import matplotlib.pyplot as plt  # for visualization\n",
    "import seaborn as sns  # for nicer plots\n",
    "from sklearn.model_selection import train_test_split, KFold, StratifiedKFold, cross_val_score, learning_curve\n",
    "from sklearn.preprocessing import LabelEncoder, StandardScaler\n",
    "from sklearn.ensemble import RandomForestClassifier\n",
    "from sklearn.metrics import accuracy_score, classification_report, confusion_matrix\n",
    "from sklearn.linear_model import LogisticRegression\n",
    "from sklearn.metrics import accuracy_score\n",
    "import warnings\n",
    "warnings.filterwarnings('ignore')  # to avoid warning clutter\n"
   ]
  },
  {
   "cell_type": "markdown",
   "metadata": {
    "id": "KkpHUSYx7wr_"
   },
   "source": [
    "## Load Dataset"
   ]
  },
  {
   "cell_type": "code",
   "execution_count": 2,
   "metadata": {
    "colab": {
     "base_uri": "https://localhost:8080/",
     "height": 399
    },
    "executionInfo": {
     "elapsed": 75,
     "status": "ok",
     "timestamp": 1749533877229,
     "user": {
      "displayName": "Ram",
      "userId": "15135384961175289853"
     },
     "user_tz": -345
    },
    "id": "DNE77zdA7y5O",
    "outputId": "33366f56-3696-4310-db95-d25e6593d109"
   },
   "outputs": [
    {
     "name": "stdout",
     "output_type": "stream",
     "text": [
      "Feature shape: (569, 30)\n",
      "Target distribution:\n",
      "target\n",
      "1    357\n",
      "0    212\n",
      "Name: count, dtype: int64\n"
     ]
    },
    {
     "data": {
      "text/html": [
       "<div>\n",
       "<style scoped>\n",
       "    .dataframe tbody tr th:only-of-type {\n",
       "        vertical-align: middle;\n",
       "    }\n",
       "\n",
       "    .dataframe tbody tr th {\n",
       "        vertical-align: top;\n",
       "    }\n",
       "\n",
       "    .dataframe thead th {\n",
       "        text-align: right;\n",
       "    }\n",
       "</style>\n",
       "<table border=\"1\" class=\"dataframe\">\n",
       "  <thead>\n",
       "    <tr style=\"text-align: right;\">\n",
       "      <th></th>\n",
       "      <th>mean radius</th>\n",
       "      <th>mean texture</th>\n",
       "      <th>mean perimeter</th>\n",
       "      <th>mean area</th>\n",
       "      <th>mean smoothness</th>\n",
       "      <th>mean compactness</th>\n",
       "      <th>mean concavity</th>\n",
       "      <th>mean concave points</th>\n",
       "      <th>mean symmetry</th>\n",
       "      <th>mean fractal dimension</th>\n",
       "      <th>...</th>\n",
       "      <th>worst radius</th>\n",
       "      <th>worst texture</th>\n",
       "      <th>worst perimeter</th>\n",
       "      <th>worst area</th>\n",
       "      <th>worst smoothness</th>\n",
       "      <th>worst compactness</th>\n",
       "      <th>worst concavity</th>\n",
       "      <th>worst concave points</th>\n",
       "      <th>worst symmetry</th>\n",
       "      <th>worst fractal dimension</th>\n",
       "    </tr>\n",
       "  </thead>\n",
       "  <tbody>\n",
       "    <tr>\n",
       "      <th>0</th>\n",
       "      <td>17.99</td>\n",
       "      <td>10.38</td>\n",
       "      <td>122.80</td>\n",
       "      <td>1001.0</td>\n",
       "      <td>0.11840</td>\n",
       "      <td>0.27760</td>\n",
       "      <td>0.3001</td>\n",
       "      <td>0.14710</td>\n",
       "      <td>0.2419</td>\n",
       "      <td>0.07871</td>\n",
       "      <td>...</td>\n",
       "      <td>25.38</td>\n",
       "      <td>17.33</td>\n",
       "      <td>184.60</td>\n",
       "      <td>2019.0</td>\n",
       "      <td>0.1622</td>\n",
       "      <td>0.6656</td>\n",
       "      <td>0.7119</td>\n",
       "      <td>0.2654</td>\n",
       "      <td>0.4601</td>\n",
       "      <td>0.11890</td>\n",
       "    </tr>\n",
       "    <tr>\n",
       "      <th>1</th>\n",
       "      <td>20.57</td>\n",
       "      <td>17.77</td>\n",
       "      <td>132.90</td>\n",
       "      <td>1326.0</td>\n",
       "      <td>0.08474</td>\n",
       "      <td>0.07864</td>\n",
       "      <td>0.0869</td>\n",
       "      <td>0.07017</td>\n",
       "      <td>0.1812</td>\n",
       "      <td>0.05667</td>\n",
       "      <td>...</td>\n",
       "      <td>24.99</td>\n",
       "      <td>23.41</td>\n",
       "      <td>158.80</td>\n",
       "      <td>1956.0</td>\n",
       "      <td>0.1238</td>\n",
       "      <td>0.1866</td>\n",
       "      <td>0.2416</td>\n",
       "      <td>0.1860</td>\n",
       "      <td>0.2750</td>\n",
       "      <td>0.08902</td>\n",
       "    </tr>\n",
       "    <tr>\n",
       "      <th>2</th>\n",
       "      <td>19.69</td>\n",
       "      <td>21.25</td>\n",
       "      <td>130.00</td>\n",
       "      <td>1203.0</td>\n",
       "      <td>0.10960</td>\n",
       "      <td>0.15990</td>\n",
       "      <td>0.1974</td>\n",
       "      <td>0.12790</td>\n",
       "      <td>0.2069</td>\n",
       "      <td>0.05999</td>\n",
       "      <td>...</td>\n",
       "      <td>23.57</td>\n",
       "      <td>25.53</td>\n",
       "      <td>152.50</td>\n",
       "      <td>1709.0</td>\n",
       "      <td>0.1444</td>\n",
       "      <td>0.4245</td>\n",
       "      <td>0.4504</td>\n",
       "      <td>0.2430</td>\n",
       "      <td>0.3613</td>\n",
       "      <td>0.08758</td>\n",
       "    </tr>\n",
       "    <tr>\n",
       "      <th>3</th>\n",
       "      <td>11.42</td>\n",
       "      <td>20.38</td>\n",
       "      <td>77.58</td>\n",
       "      <td>386.1</td>\n",
       "      <td>0.14250</td>\n",
       "      <td>0.28390</td>\n",
       "      <td>0.2414</td>\n",
       "      <td>0.10520</td>\n",
       "      <td>0.2597</td>\n",
       "      <td>0.09744</td>\n",
       "      <td>...</td>\n",
       "      <td>14.91</td>\n",
       "      <td>26.50</td>\n",
       "      <td>98.87</td>\n",
       "      <td>567.7</td>\n",
       "      <td>0.2098</td>\n",
       "      <td>0.8663</td>\n",
       "      <td>0.6869</td>\n",
       "      <td>0.2575</td>\n",
       "      <td>0.6638</td>\n",
       "      <td>0.17300</td>\n",
       "    </tr>\n",
       "    <tr>\n",
       "      <th>4</th>\n",
       "      <td>20.29</td>\n",
       "      <td>14.34</td>\n",
       "      <td>135.10</td>\n",
       "      <td>1297.0</td>\n",
       "      <td>0.10030</td>\n",
       "      <td>0.13280</td>\n",
       "      <td>0.1980</td>\n",
       "      <td>0.10430</td>\n",
       "      <td>0.1809</td>\n",
       "      <td>0.05883</td>\n",
       "      <td>...</td>\n",
       "      <td>22.54</td>\n",
       "      <td>16.67</td>\n",
       "      <td>152.20</td>\n",
       "      <td>1575.0</td>\n",
       "      <td>0.1374</td>\n",
       "      <td>0.2050</td>\n",
       "      <td>0.4000</td>\n",
       "      <td>0.1625</td>\n",
       "      <td>0.2364</td>\n",
       "      <td>0.07678</td>\n",
       "    </tr>\n",
       "  </tbody>\n",
       "</table>\n",
       "<p>5 rows × 30 columns</p>\n",
       "</div>"
      ],
      "text/plain": [
       "   mean radius  mean texture  mean perimeter  mean area  mean smoothness  \\\n",
       "0        17.99         10.38          122.80     1001.0          0.11840   \n",
       "1        20.57         17.77          132.90     1326.0          0.08474   \n",
       "2        19.69         21.25          130.00     1203.0          0.10960   \n",
       "3        11.42         20.38           77.58      386.1          0.14250   \n",
       "4        20.29         14.34          135.10     1297.0          0.10030   \n",
       "\n",
       "   mean compactness  mean concavity  mean concave points  mean symmetry  \\\n",
       "0           0.27760          0.3001              0.14710         0.2419   \n",
       "1           0.07864          0.0869              0.07017         0.1812   \n",
       "2           0.15990          0.1974              0.12790         0.2069   \n",
       "3           0.28390          0.2414              0.10520         0.2597   \n",
       "4           0.13280          0.1980              0.10430         0.1809   \n",
       "\n",
       "   mean fractal dimension  ...  worst radius  worst texture  worst perimeter  \\\n",
       "0                 0.07871  ...         25.38          17.33           184.60   \n",
       "1                 0.05667  ...         24.99          23.41           158.80   \n",
       "2                 0.05999  ...         23.57          25.53           152.50   \n",
       "3                 0.09744  ...         14.91          26.50            98.87   \n",
       "4                 0.05883  ...         22.54          16.67           152.20   \n",
       "\n",
       "   worst area  worst smoothness  worst compactness  worst concavity  \\\n",
       "0      2019.0            0.1622             0.6656           0.7119   \n",
       "1      1956.0            0.1238             0.1866           0.2416   \n",
       "2      1709.0            0.1444             0.4245           0.4504   \n",
       "3       567.7            0.2098             0.8663           0.6869   \n",
       "4      1575.0            0.1374             0.2050           0.4000   \n",
       "\n",
       "   worst concave points  worst symmetry  worst fractal dimension  \n",
       "0                0.2654          0.4601                  0.11890  \n",
       "1                0.1860          0.2750                  0.08902  \n",
       "2                0.2430          0.3613                  0.08758  \n",
       "3                0.2575          0.6638                  0.17300  \n",
       "4                0.1625          0.2364                  0.07678  \n",
       "\n",
       "[5 rows x 30 columns]"
      ]
     },
     "execution_count": 2,
     "metadata": {},
     "output_type": "execute_result"
    }
   ],
   "source": [
    "from sklearn.datasets import load_breast_cancer\n",
    "# Load the dataset\n",
    "data = load_breast_cancer()\n",
    "X = pd.DataFrame(data.data, columns=data.feature_names)\n",
    "y = pd.Series(data.target, name=\"target\")\n",
    "\n",
    "# Display basic shape\n",
    "print(\"Feature shape:\", X.shape)\n",
    "print(\"Target distribution:\")\n",
    "print(y.value_counts())\n",
    "\n",
    "\n",
    "\n",
    "# Preview features\n",
    "X.head()\n"
   ]
  },
  {
   "cell_type": "markdown",
   "metadata": {
    "id": "HIKsA4ro8zRi"
   },
   "source": [
    "#  Simulating Model Instability\n",
    "\n",
    "To demonstrate instability, we will intentionally introduce controlled \"issues\" into our data.\n",
    "\n",
    "These problems mimic real-world issues that cause ML models to behave inconsistently:\n",
    "\n",
    "1. **Adding random noise** to a subset of input features.\n",
    "2. **Scaling one feature disproportionately**, creating imbalance.\n",
    "3. **Dropping a key predictive feature**, simulating poor feature selection.\n",
    "\n",
    "By training the same model on this modified data multiple times, we can observe how small perturbations in the input can lead to **large variations in model performance** — a clear sign of instability.\n"
   ]
  },
  {
   "cell_type": "code",
   "execution_count": 3,
   "metadata": {
    "colab": {
     "base_uri": "https://localhost:8080/"
    },
    "executionInfo": {
     "elapsed": 31,
     "status": "ok",
     "timestamp": 1749533877255,
     "user": {
      "displayName": "Ram",
      "userId": "15135384961175289853"
     },
     "user_tz": -345
    },
    "id": "wbtof3jE70WX",
    "outputId": "76b04ee4-31cc-4fa9-98b7-9d4c206479e9"
   },
   "outputs": [
    {
     "name": "stdout",
     "output_type": "stream",
     "text": [
      "Modified shape: (569, 29)\n"
     ]
    }
   ],
   "source": [
    "# 1. Copy original data\n",
    "X_instable = X.copy()\n",
    "\n",
    "# 2. Add random noise to the first 5 features\n",
    "noise = np.random.normal(0, 10, size=X_instable.iloc[:, :5].shape)\n",
    "X_instable.iloc[:, :5] += noise\n",
    "\n",
    "# 3. Scale one important feature excessively (e.g., 'mean radius')\n",
    "X_instable['mean radius'] = X_instable['mean radius'] * 100\n",
    "\n",
    "# 4. Drop a known important feature (e.g., 'mean perimeter')\n",
    "X_instable.drop(columns=['mean perimeter'], inplace=True)\n",
    "\n",
    "# Confirm shape\n",
    "print(\"Modified shape:\", X_instable.shape)\n"
   ]
  },
  {
   "cell_type": "markdown",
   "metadata": {
    "id": "eDFjSN3R9Z67"
   },
   "source": [
    "We introduced **controlled instability** into the data by:\n",
    "\n",
    "- Adding high-variance Gaussian noise to the first 5 features.\n",
    "- Over-scaling the `mean radius` feature by multiplying it by 100.\n",
    "- Dropping the `mean perimeter` feature, which is known to be important in breast cancer classification.\n",
    "\n",
    "These changes should not affect model performance dramatically in theory — but in practice, **they can destabilize the model's behavior**.\n",
    "\n",
    "Let’s now train and evaluate a Logistic Regression model multiple times using different random seeds to see how performance varies.\n"
   ]
  },
  {
   "cell_type": "markdown",
   "metadata": {
    "id": "GhzFecmd9egK"
   },
   "source": [
    "## Train and Evaluate Multiple Times (Observe Instability)"
   ]
  },
  {
   "cell_type": "code",
   "execution_count": null,
   "metadata": {
    "colab": {
     "base_uri": "https://localhost:8080/",
     "height": 408
    },
    "executionInfo": {
     "elapsed": 5814,
     "status": "ok",
     "timestamp": 1749533883066,
     "user": {
      "displayName": "Ram",
      "userId": "15135384961175289853"
     },
     "user_tz": -345
    },
    "id": "y3bOuhSL9JeF",
    "outputId": "a07ee0dd-c902-4e53-8fd7-542f607f0272"
   },
   "outputs": [
    {
     "data": {
      "image/png": "[encoded data removed]",
      "text/plain": [
       "<Figure size 800x400 with 1 Axes>"
      ]
     },
     "metadata": {},
     "output_type": "display_data"
    },
    {
     "name": "stdout",
     "output_type": "stream",
     "text": [
      "Mean Accuracy: 0.9500000000000002\n",
      "Std Deviation: 0.022891207632806825\n"
     ]
    }
   ],
   "source": [
    "scores = []\n",
    "\n",
    "for seed in range(10):\n",
    "    X_train, X_test, y_train, y_test = train_test_split(\n",
    "        X_instable, y, test_size=0.2, random_state=seed)\n",
    "\n",
    "    model = LogisticRegression(max_iter=1000)\n",
    "    model.fit(X_train, y_train)\n",
    "    y_pred = model.predict(X_test)\n",
    "\n",
    "    acc = accuracy_score(y_test, y_pred)\n",
    "    scores.append(acc)\n",
    "\n",
    "# Plot accuracy scores\n",
    "plt.figure(figsize=(8, 4))\n",
    "sns.boxplot(scores)\n",
    "plt.title(\"Model Accuracy Across 10 Runs with Input Perturbations\")\n",
    "plt.ylabel(\"Accuracy\")\n",
    "plt.show()\n",
    "\n",
    "print(\"Mean Accuracy:\", np.mean(scores))\n",
    "print(\"Std Deviation:\", np.std(scores))\n"
   ]
  },
  {
   "cell_type": "markdown",
   "metadata": {
    "id": "pOffn0Wp-4Kd"
   },
   "source": [
    "#  Interpretation of Results: Model Instability Observed\n",
    "\n",
    "After injecting noise, scaling, and removing an important feature from the dataset, we trained a Logistic Regression model **10 times**, each with a different train-test split (random seed).\n",
    "\n",
    "Here’s what we observed:\n",
    "\n",
    "- **Mean Accuracy:** 0.95\n",
    "- **Standard Deviation:** 0.0228\n",
    "\n",
    "###  What Does This Mean?\n",
    "\n",
    "While a **95.17% average accuracy** might appear impressive, the **2.28% standard deviation** across runs reveals something critical:\n",
    "\n",
    ">  **The model is not stable.**\n",
    "\n",
    "Each time the model is trained on a slightly different data split, its performance changes **noticeably**. This variability can be dangerous in real-world applications, where we expect the model to behave **consistently**, not just on average.\n",
    "\n",
    "\n"
   ]
  },
  {
   "cell_type": "markdown",
   "metadata": {
    "id": "QOUMvmTcR5Lh"
   },
   "source": [
    "---------"
   ]
  },
  {
   "cell_type": "markdown",
   "metadata": {
    "id": "wKPbMBIDRwPk"
   },
   "source": [
    "#  Stabilizing the Model\n",
    "\n",
    "To make our model more consistent and reliable, we will now address the instability issues we previously introduced.\n",
    "\n",
    "### Our stabilization steps:\n",
    "\n",
    "1. Restore the dropped important feature.\n",
    "2. Remove artificially injected noise.\n",
    "3. Apply proper feature scaling (standardization).\n",
    "4. Use **Stratified K-Fold Cross-Validation** for a more robust evaluation.\n",
    "\n",
    "By implementing these steps, we aim to reduce the **variance** in model performance and improve the **trustworthiness** of the predictions.\n"
   ]
  },
  {
   "cell_type": "markdown",
   "metadata": {
    "id": "TX7Y2bYzSDdu"
   },
   "source": [
    "## Restore Clean Dataset and Scale"
   ]
  },
  {
   "cell_type": "code",
   "execution_count": null,
   "metadata": {
    "id": "vxov-WOE-HKC"
   },
   "outputs": [],
   "source": [
    "from sklearn.preprocessing import StandardScaler\n",
    "from sklearn.model_selection import StratifiedKFold, cross_val_score\n",
    "\n",
    "# Start fresh from original data\n",
    "X_stable = X.copy()\n",
    "\n",
    "# Apply feature scaling\n",
    "scaler = StandardScaler()\n",
    "X_scaled = scaler.fit_transform(X_stable)\n"
   ]
  },
  {
   "cell_type": "markdown",
   "metadata": {
    "id": "LT5Tsb58TG4t"
   },
   "source": [
    "## Cross-Validation with Logistic Regression"
   ]
  },
  {
   "cell_type": "code",
   "execution_count": null,
   "metadata": {
    "colab": {
     "base_uri": "https://localhost:8080/"
    },
    "executionInfo": {
     "elapsed": 62,
     "status": "ok",
     "timestamp": 1749533883135,
     "user": {
      "displayName": "Ram",
      "userId": "15135384961175289853"
     },
     "user_tz": -345
    },
    "id": "7UQqK84bSGb3",
    "outputId": "3fcf738c-a15a-4127-989e-9a88aaf5a46e"
   },
   "outputs": [
    {
     "name": "stdout",
     "output_type": "stream",
     "text": [
      "Cross-Validation Accuracy Scores: [0.98245614 0.98245614 0.94736842 0.96491228 0.98245614 0.94736842\n",
      " 1.         0.98245614 0.98245614 1.        ]\n",
      "Mean Accuracy: 0.9771929824561403\n",
      "Standard Deviation: 0.01763136073880859\n"
     ]
    }
   ],
   "source": [
    "model = LogisticRegression(max_iter=1000)\n",
    "\n",
    "# Use Stratified K-Fold CV\n",
    "cv = StratifiedKFold(n_splits=10, shuffle=True, random_state=42)\n",
    "\n",
    "# Evaluate model with CV\n",
    "cv_scores = cross_val_score(model, X_scaled, y, cv=cv, scoring='accuracy')\n",
    "\n",
    "# Display results\n",
    "print(\"Cross-Validation Accuracy Scores:\", cv_scores)\n",
    "print(\"Mean Accuracy:\", np.mean(cv_scores))\n",
    "print(\"Standard Deviation:\", np.std(cv_scores))\n"
   ]
  },
  {
   "cell_type": "markdown",
   "metadata": {
    "id": "ilHYRsmFVfz7"
   },
   "source": [
    "#  Summary: Understanding Model Stability\n",
    "\n",
    "In this notebook, we explored how small changes in input or evaluation setup can lead to **model instability** — and how applying best practices helps build a **stable and trustworthy model**.\n",
    "\n",
    "---\n",
    "\n",
    "##  Comparison: Unstable vs Stable Model\n",
    "\n",
    "| Feature / Metric          |  Unstable Model                                 |  Stable Model                                         |\n",
    "|---------------------------|--------------------------------------------------|--------------------------------------------------------|\n",
    "|  Input Features         | Skewed / Important features dropped              | Original features restored                             |\n",
    "|  Evaluation Method       | Simple Train-Test Split                          | Stratified K-Fold Cross-Validation                     |\n",
    "|  Preprocessing           | None or minimal                                  | Applied feature scaling                                |\n",
    "|  Mean Accuracy           | 95.0%                                          | 97.72%                                                 |\n",
    "|  Std. Deviation          | 2.28%                                            | 1.76%                                                  |\n",
    "|  Performance Consistency | Fluctuates across folds                          | Consistent across multiple data splits                 |\n",
    "|  Trustworthiness         | Unreliable in real-world settings                | Ready for production deployment                        |\n",
    "\n",
    "---\n",
    "\n",
    "##  Key Takeaway\n",
    "\n",
    "> **Stable models = Reliable models.**  \n",
    "> Stability is not only about lowering variance, but ensuring consistent performance when data varies slightly.  \n",
    "> By improving evaluation techniques and data processing, we build models we can **trust in production.**\n"
   ]
  }
 ],
 "metadata": {
  "colab": {
   "provenance": []
  },
  "kernelspec": {
   "display_name": "ai_ml_venv",
   "language": "python",
   "name": "python3"
  },
  "language_info": {
   "codemirror_mode": {
    "name": "ipython",
    "version": 3
   },
   "file_extension": ".py",
   "mimetype": "text/x-python",
   "name": "python",
   "nbconvert_exporter": "python",
   "pygments_lexer": "ipython3",
   "version": "3.12.3"
  }
 },
 "nbformat": 4,
 "nbformat_minor": 0
}
