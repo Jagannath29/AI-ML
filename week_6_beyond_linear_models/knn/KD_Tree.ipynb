{
  "cells": [
    {
      "cell_type": "markdown",
      "metadata": {
        "id": "vXWW_6sw97Y-"
      },
      "source": [
        "# KD-Trees"
      ]
    },
    {
      "cell_type": "markdown",
      "metadata": {
        "id": "arO3cYBk5eYw"
      },
      "source": [
        "## Learning objectives\n",
        "\n",
        "After reading this notebook, students will be able to:\n",
        "\n",
        "- Explain the importance of K-D Tree,\n",
        "- Exemplify K-D Tree construction using the median approach,\n",
        "- Search the nearest neighbor using the K-D Tree algorithm."
      ]
    },
    {
      "cell_type": "markdown",
      "metadata": {
        "id": "Hj05jcdJ5-AD"
      },
      "source": [
        "__Introduction__"
      ]
    },
    {
      "cell_type": "markdown",
      "metadata": {
        "id": "UrTOySdt9-Yq"
      },
      "source": [
        "In the previous chapter, we discussed:If there are millions of entries, our naive approach/Brute force method becomes inefficient. It will take a lot of memory and space. Therefore, we need to formulate a new efficient algorithm.\n"
      ]
    },
    {
      "cell_type": "markdown",
      "metadata": {
        "id": "qvxQyUKaBTM-"
      },
      "source": [
        "__Solution__\n",
        "\n",
        "\n",
        "To solve this problem, KD-Tree was introduced. The KD-tree is a  data-structure invented by  Jon  Bentley in  1975.\n",
        "\n",
        "__Note:__\n",
        "* This section assumes you have some general understanding of binary search tree how they work."
      ]
    },
    {
      "cell_type": "markdown",
      "metadata": {
        "id": "5WByvQC7dwpw"
      },
      "source": [
        "## KD-Trees\n",
        "\n",
        "\n",
        "\n",
        "The KD-Trees store data points in a k-dimensional space. The logic of the KD-Trees is simple: it Divides input space with a hyperplane and then splits each partition again, recursively. The space division will help you skip comparison to all points, making it faster than the brute force method. All splits are made parallel to one of the axes.\n",
        "\n",
        "The KD-tree is a modification to the BST that allows for efficient processing of multi-dimensional search keys.\n",
        "In our post office problem, the location is in 2D space. We will use KD-tree to search for the post office nearby you.\n",
        "\n",
        "\n",
        "\n",
        "\n"
      ]
    },
    {
      "cell_type": "markdown",
      "metadata": {
        "id": "8CvHr8ZNjfPV"
      },
      "source": [
        "KD-Tree is a modification of BST, but how does it differ from BST? Let’s discuss it."
      ]
    },
    {
      "cell_type": "markdown",
      "metadata": {
        "id": "lBw7rmsFjFGm"
      },
      "source": [
        "\n",
        "## KD-Tree Vs BST.\n",
        "\n",
        "Each level of the KD-Tree makes branching decisions based on discriminator. The value of the discriminator is usually the median value. Although there are different other flavors and variations for simplicity, we will use the median value as discriminator at each level. However, you don't have a discriminator in BST.\n"
      ]
    },
    {
      "cell_type": "markdown",
      "metadata": {
        "id": "bJnLLZpnMIEy"
      },
      "source": [
        "## K-D Tree Construction Algorithm."
      ]
    },
    {
      "cell_type": "markdown",
      "metadata": {
        "id": "tH7kV5QJHoL8"
      },
      "source": [
        "Let’s recall our problem: The post office problem. In this problem, you want to find your nearest post office using an efficient algorithm. We will solve this problem by using KD-Tree.\n",
        "\n",
        "First, let's understand the working of  KD-Tree in two dimensions using our post office problem. For higher dimensions k > 2, the similar procedure is generalized."
      ]
    },
    {
      "cell_type": "markdown",
      "metadata": {
        "id": "VqxzRqLwvkdI"
      },
      "source": [
        "\n",
        "<center>\n",
        "<img src=\"https://i.postimg.cc/YqRRk2Ng/KD-Tree.png\" />\n",
        "<figcaption>Figure: Post office problem</figcaption>\n",
        "</center>"
      ]
    },
    {
      "cell_type": "markdown",
      "metadata": {
        "id": "qXZosrzIMZZN"
      },
      "source": [
        "### Steps"
      ]
    },
    {
      "cell_type": "markdown",
      "metadata": {
        "id": "VQ6Whsxyvmwl"
      },
      "source": [
        "1. First, copy all the given points on the list."
      ]
    },
    {
      "cell_type": "markdown",
      "metadata": {
        "id": "S3tP5vl8ZZPH"
      },
      "source": [
        "<center>\n",
        "<figure>\n",
        "<img src=\"https://i.postimg.cc/13NPnzmn/image.png\" />\n",
        "</figure>\n",
        "</center>\n",
        "\n",
        "\n",
        "\n"
      ]
    },
    {
      "cell_type": "markdown",
      "metadata": {
        "id": "XGdH5yEYrHPB"
      },
      "source": [
        "2. Sort the data points based on x coordinate."
      ]
    },
    {
      "cell_type": "markdown",
      "metadata": {
        "id": "l36VT37jGiaR"
      },
      "source": [
        "<center>\n",
        "<figure>\n",
        "<img src=\"https://i.postimg.cc/dQTzjfMp/image.png\" />\n",
        "</figure>\n",
        "</center>\n"
      ]
    },
    {
      "cell_type": "markdown",
      "metadata": {
        "id": "VmzyXVFyrHU0"
      },
      "source": [
        "3. After getting sorted data, find the median point and mark the point as a root node.\n",
        "\n",
        "* The median point is (10,10) because we have 7 points. The median of 7 points is 4. (10,10) is in 4th position. The points before (10,10) go to the left subtree while points on the right side of (10,10) go to the right subtree. You have vertically split data points into two halves."
      ]
    },
    {
      "cell_type": "markdown",
      "metadata": {
        "id": "pbMaRt9ErHZ1"
      },
      "source": [
        "<center>\n",
        "<figure>\n",
        "<img src=\"https://i.postimg.cc/7Y9X31Lj/image.png\"/>\n",
        "</figure>\n",
        "</center>\n"
      ]
    },
    {
      "cell_type": "markdown",
      "metadata": {
        "id": "hplUGjUrmd6W"
      },
      "source": [
        "The next step is to split the data horizontally."
      ]
    },
    {
      "cell_type": "markdown",
      "metadata": {
        "id": "aR6SFcCPrTYR"
      },
      "source": [
        "4. Sort the data points based on y coordinate. Sorting occurs on the left and right subtree only."
      ]
    },
    {
      "cell_type": "markdown",
      "metadata": {
        "id": "c2xn3RMpaWFe"
      },
      "source": [
        "\n",
        "<center>\n",
        "<figure>\n",
        "<img src=\"https://i.postimg.cc/HxK1kGq4/image.png\"/>\n",
        "</figure>\n",
        "</center>\n"
      ]
    },
    {
      "cell_type": "markdown",
      "metadata": {
        "id": "dSxGlW7OrTeS"
      },
      "source": [
        "\n",
        "\n",
        "5. After getting sorted data, find the median on the left subtree and right subtree.\n",
        "\n",
        "* The Points (3,7) and (14,10) are the median point and the parent nodes of remaining points, so-called leaves because I am using depth of tree =2.Note that how many numbers of depth to take depends on the programmer's choice. Doing this, you have split data on the right and left side of (10,10)  horizontally."
      ]
    },
    {
      "cell_type": "markdown",
      "metadata": {
        "id": "dbbeCx-7amAg"
      },
      "source": [
        "<center>\n",
        "<figure>\n",
        "<img src=\"https://i.postimg.cc/hvBWd8Gf/image.png\"/>\n",
        "</figure>\n",
        "</center>"
      ]
    },
    {
      "cell_type": "markdown",
      "metadata": {
        "id": "Q_mW0k_UraKa"
      },
      "source": [
        "Construct a binary tree using marked data points."
      ]
    },
    {
      "cell_type": "markdown",
      "metadata": {
        "id": "OpbK5F0zrmkW"
      },
      "source": [
        "\n",
        "<center>\n",
        "<figure>\n",
        "<img src=\"https://i.postimg.cc/zXhH58s7/image.png\" height= 300/>\n",
        "</figure>\n",
        "</center>\n"
      ]
    },
    {
      "cell_type": "markdown",
      "metadata": {
        "id": "J0LY_i-G6Ml0"
      },
      "source": [
        "\n",
        "\n",
        "Look at the above tree diagram. The root (10,10) divides all data points that are less than (10,10) on the left half and all points that are greater than (10,10) on the right half. It is called __Binary Space Partitioning.__\n",
        "\n",
        "Binary Space Partitioning applies to root node and internal nodes. In our example, (3,7) and (14,10) are internal nodes.\n",
        "\n",
        "Note:\n",
        "* (10,10) is splitting our data points vertically.\n",
        "* (3,7) and (14,10) are splitting our data points horizontally.\n",
        "\n"
      ]
    },
    {
      "cell_type": "markdown",
      "metadata": {
        "id": "gt8vr4uErrdE"
      },
      "source": [
        "You can visualize the partitioning on the following animation."
      ]
    },
    {
      "cell_type": "markdown",
      "metadata": {
        "id": "3BVyf_vwryPR"
      },
      "source": [
        "<center>\n",
        "<figure>\n",
        "<img src=\"https://i.postimg.cc/cJPPppPp/KD-Tree.gif\"/>\n",
        "</figure>\n",
        "</center>"
      ]
    },
    {
      "cell_type": "markdown",
      "metadata": {
        "id": "RgX_jw1eowlB"
      },
      "source": [
        "Now you have a tree; you might want to find your nearest post office using K-D Tree. In the following section, I will help you to search for your nearest post office."
      ]
    },
    {
      "cell_type": "markdown",
      "metadata": {
        "id": "cotzS1BUtOIE"
      },
      "source": [
        "## Nearest Neighbour search in K-D Tree(Approx)"
      ]
    },
    {
      "cell_type": "markdown",
      "metadata": {
        "id": "Dy911HF5tSdg"
      },
      "source": [
        "In a typical case, K-D Tree algorithm is far faster than examining all points to find the nearest neighbor. In this section I will find one nearest neighbour using K-D Trees."
      ]
    },
    {
      "cell_type": "markdown",
      "metadata": {
        "id": "yOemcHk6B8K8"
      },
      "source": [
        "\n",
        "<center>\n",
        "<figure>\n",
        "<img src=\"https://i.postimg.cc/xCwJb1h6/image.png\"/>\n",
        "</figure>\n",
        "</center>"
      ]
    },
    {
      "cell_type": "markdown",
      "metadata": {
        "id": "gNP-nFjiCVXE"
      },
      "source": [
        "Your location is (12,9), and you want to find the nearest neighbor using given K-D Tree. The search operation in K-D Tree is similar to BST. However, the way of a split is taken as consideration to compare values. In our case, we've split our tree using the x-axis and y-axis, respectively.\n",
        "\n",
        "1. Therefore compare the x-value of your location with an x value of root.\n",
        "\n"
      ]
    },
    {
      "cell_type": "markdown",
      "metadata": {
        "id": "9aFfmza2CiFP"
      },
      "source": [
        "\n",
        "<center>\n",
        "<figure>\n",
        "<img src=\"https://i.postimg.cc/yx6qjFMx/image.png\"/>\n",
        "</figure>\n",
        "</center>\n"
      ]
    },
    {
      "cell_type": "markdown",
      "metadata": {
        "id": "4oFz4EuODiWN"
      },
      "source": [
        "* Root x value = 10\n",
        "* Your x value = 12\n",
        "* 12 > 10; therefore, you have to traverse the right subtree according to the binary search tree.\n",
        "\n",
        "The left subtree is eliminated."
      ]
    },
    {
      "cell_type": "markdown",
      "metadata": {
        "id": "ALc4od-XD2Gw"
      },
      "source": [
        "\n",
        "<center>\n",
        "<figure>\n",
        "<img src=\"https://i.postimg.cc/B6qwfJMw/image.png\"/>\n",
        "</figure>\n",
        "</center>\n"
      ]
    },
    {
      "cell_type": "markdown",
      "metadata": {
        "id": "SFeMVKI9EGPr"
      },
      "source": [
        "Now you are at the right subtree of the root. You have eliminated the left subtree of the root.\n",
        "\n",
        "\n",
        "\n",
        "2. The internal node is split on the y-axis. Therefore compare y value of your location with the y value of our tree internal node."
      ]
    },
    {
      "cell_type": "markdown",
      "metadata": {
        "id": "05c7nii5EfGx"
      },
      "source": [
        "<center>\n",
        "<figure>\n",
        "<img src=\"https://i.postimg.cc/ry73K2mz/image.png\"/>\n",
        "</figure>\n",
        "</center>\n",
        "\n",
        "\n"
      ]
    },
    {
      "cell_type": "markdown",
      "metadata": {
        "id": "3lw5y-B_FB6i"
      },
      "source": [
        "9 < 10. Therefore, you have to traverse the left side. The right part of the subtree is eliminated. The point (15,2) is your nearest neighbor."
      ]
    },
    {
      "cell_type": "markdown",
      "metadata": {
        "id": "deWUiJuYelJP"
      },
      "source": [
        "<center>\n",
        "<figure>\n",
        "<img src=\"https://i.postimg.cc/wB3QX34z/image.png\"/>\n",
        "</figure>\n",
        "</center>\n"
      ]
    },
    {
      "cell_type": "markdown",
      "metadata": {
        "id": "bZVdMeX6FxDN"
      },
      "source": [
        "(15,2) is not the nearest neighbor of (12,9). We eliminated (12,11), which is indeed the nearest neighbor.  It means K-D Tree is not that perfect; you need to make some modifications.\n",
        "\n",
        "\n",
        "While splitting a tree, we have to consider if we are missing a sibling subtree with a better answer."
      ]
    },
    {
      "cell_type": "markdown",
      "metadata": {
        "id": "sRO4mD5UbTCq"
      },
      "source": [
        "## How to approximate a better answer?"
      ]
    },
    {
      "cell_type": "markdown",
      "metadata": {
        "id": "-0t3ifvBGSi4"
      },
      "source": [
        "---\n",
        "\n",
        "1. Find the leaf; store it as the best.\n",
        "2. Traverse upward, and for each node:\n",
        "\n",
        "    1. If it’s closer, it becomes the best.\n",
        "\n",
        "    2. The algorithm checks whether there could be any points on the other side of the splitting plane that is closer to the search point than the current best.  To do so, Construct a candidate circle centered at the query point and running through the current best point. The nearest neighbor to the query point must lie inside this circle.\n",
        "\n",
        "        * If the circle is full to one side of a splitting hyperplane and does not intersect or cross another splitting plane, all points on the other side of the splitting hyperplane cannot contain the nearest neighbor. The algorithm continues traversing up the tree,  and the entire branch on the other side of that node is eliminated.\n",
        "\n",
        "        * If this circle crosses the plane, there could be nearer points on the other side of the plane,  so the algorithm must move down the other branch of the tree from the current node looking for closer points, following the same recursive process as the entire search.\n",
        "\n",
        "3. When the algorithm finishes this process for the root node, then the search is complete.\n"
      ]
    },
    {
      "cell_type": "markdown",
      "metadata": {
        "id": "1L2HLYmpaSie"
      },
      "source": [
        "### Example of better approximation of nearest neighbor\n",
        "Let's apply the above algorithm to our data."
      ]
    },
    {
      "cell_type": "markdown",
      "metadata": {
        "id": "dDpxSA0sGnkZ"
      },
      "source": [
        "Once the algorithm reaches a leaf node, it saves that node point as the \"current best.\"  \n",
        "\n",
        "---\n",
        "* Current best = $(15,2).$\n",
        "\n",
        "* Distance between query and current best $(d)$ = $|12-15| + |9-2| = 10$\n",
        "\n",
        "---\n"
      ]
    },
    {
      "cell_type": "markdown",
      "metadata": {
        "id": "RWE1nmfPe1_v"
      },
      "source": [
        "<center>\n",
        "<figure>\n",
        "<img src=\"https://i.postimg.cc/dQRrT8Qd/image.png\"/>\n",
        "</figure>\n",
        "</center>\n",
        "\n"
      ]
    },
    {
      "cell_type": "markdown",
      "metadata": {
        "id": "EPVDJFbhp62r"
      },
      "source": [
        "* current node = $(14,10)$\n",
        "* distance between query and current node $(d1)$ = $|12-14| + |9-10| = 3.$\n"
      ]
    },
    {
      "cell_type": "markdown",
      "metadata": {
        "id": "LP3JpItrfaZX"
      },
      "source": [
        "<center>\n",
        "<figure>\n",
        "<img src=\"https://doc.google.com/a/fusemachines.com/uc?export=download&id=1KamX65KMxVk07EGBN3DX8yMoxSTyG8_4\"/>\n",
        "</figure>\n",
        "</center>\n"
      ]
    },
    {
      "cell_type": "markdown",
      "metadata": {
        "id": "e5e734RffyvA"
      },
      "source": [
        "$d1 > d.$ Therefore current best changes to $(14,10).$ Therefore, $d = 3.$"
      ]
    },
    {
      "cell_type": "markdown",
      "metadata": {
        "id": "rrhBBNbozf4a"
      },
      "source": [
        "<center>\n",
        "<figure>\n",
        "<img src=\"https://i.postimg.cc/N0VST34N/image.png\"/>\n",
        "</figure>\n",
        "</center>\n"
      ]
    },
    {
      "cell_type": "markdown",
      "metadata": {
        "id": "pvMljTZDhA7M"
      },
      "source": [
        "Construct a candidate circle centered at the query point $(12,9)$ and running through the current best point $(14,10).$ The candidate nearest neighbor to the query point $(12,9)$ must lie inside this circle."
      ]
    },
    {
      "cell_type": "markdown",
      "metadata": {
        "id": "GCh8TNeAhDlh"
      },
      "source": [
        "<center>\n",
        "<figure>\n",
        "<img src=\"https://i.postimg.cc/x8sKN2G8/image.png\"/>\n",
        "</figure>\n",
        "</center>"
      ]
    },
    {
      "cell_type": "markdown",
      "metadata": {
        "id": "YsWRu7ezfykd"
      },
      "source": [
        "The circle crosses another partitioning plane of a split. Therefore you need to traverse the right subtree of the current best = $(14,10).$"
      ]
    },
    {
      "cell_type": "markdown",
      "metadata": {
        "id": "U4hOEarsL0S5"
      },
      "source": [
        "Move down to the  right subtree of $(14,10)$ the first node is $(12,11)$. The distance between your query point $(12,9)$ and $(12,11)$ is $2.$\n",
        "\n",
        "* Current node = $(12,11)$\n",
        "* distance between query and current node $(d1)$ = $|12-12| + |11-9| =2$\n",
        "    * $d1 > d.$ Therefore current best changes to $(12,11).$\n"
      ]
    },
    {
      "cell_type": "markdown",
      "metadata": {
        "id": "h8czFe_WhKZX"
      },
      "source": [
        "<center>\n",
        "<figure>\n",
        "<img src=\"https://i.postimg.cc/52JC9jWg/image.png\"/>\n",
        "</figure>\n",
        "</center>\n",
        "\n"
      ]
    },
    {
      "cell_type": "markdown",
      "metadata": {
        "id": "5iimFClLiXsT"
      },
      "source": [
        "You have to update your circle, drawing a radius from $(12,9)$ to $(12,11).$\n",
        "\n"
      ]
    },
    {
      "cell_type": "markdown",
      "metadata": {
        "id": "RurFicA5RS7K"
      },
      "source": [
        "<center>\n",
        "<figure>\n",
        "<img src=\"https://i.postimg.cc/P5008GKS/image.png\"/>\n",
        "</figure>\n",
        "</center>\n",
        "\n",
        "\n",
        "\n",
        "\n"
      ]
    },
    {
      "cell_type": "markdown",
      "metadata": {
        "id": "XpoLRgLxR7SO"
      },
      "source": [
        "The unwinding of the recursive call ends on the root of a tree. However, you haven't traversed the left subtree of the root node. Before doing so, check if the circle drawn previously intersects the plane divided by $(10,10)$ or not. If it does traverse the left subtree, else terminate the program.\n",
        "\n",
        "<center>\n",
        "<figure>\n",
        "<!-- <img src=\"https://doc.google.com/a/fusemachines.com/uc?export=download&id=1sS8dnlmZmYfNZ-ffNKL1Pq-xALl5XuzK\"/> -->\n",
        "<img src=\"https://i.postimg.cc/2yBYfbGD/image.png\"/>\n",
        "</figure>\n",
        "</center>\n",
        "\n",
        "* The circle intersects plane divided by $(10,10) $ therefore traverse left of $(10,10).$ However, the distance between the __current node(root)__ and the query node is $3.$  $3>2$. Therefore left subtree  can't contain the Nearest value.\n",
        "\n"
      ]
    },
    {
      "cell_type": "markdown",
      "metadata": {
        "id": "NrXBC4ODWkw2"
      },
      "source": [
        "Therefore the algorithm stops.\n",
        "\n",
        "* current best = $(12,9).$\n",
        "* distance between query point and current best $d = 2.$"
      ]
    },
    {
      "cell_type": "markdown",
      "metadata": {
        "id": "QlhjslspuXpP"
      },
      "source": [
        "Note the beauty of the KD tree data structure. It halved your work to find the nearest post office.  \n",
        "\n",
        "To now, we have discussed the importance of KD trees, its tree building algorithm, and the nearest neighbor search. Now let’s discuss time complexity of the K-D trees."
      ]
    },
    {
      "cell_type": "markdown",
      "metadata": {
        "id": "zKIkpO3lyLpH"
      },
      "source": [
        "## Time complexity of K-D Tree\n",
        "\n",
        "*  For a single approximate neighbor, the expected query time in a K-D Tree is $O(log_2{n})$.\n",
        "    * K-D Tree is a binary search tree. Binary tree traversal depends on the height of a tree, which is given by $O(log_2n).$\n",
        "\n",
        "* In the worst case, you may end up comparing distance with all points. However, It is still better than the brute-force method."
      ]
    },
    {
      "cell_type": "markdown",
      "metadata": {
        "id": "z-XsuJXS3jVA"
      },
      "source": [
        "## What If I want K-Nearest neighbors?\n",
        "\n",
        "* The leaf node may contain a set of points. You draw a circle from your query point to the second or third nearest neighbor in leaf. And get K-Nearest neighbor. It depends on the height of a tree and the number of leaves you want to consider in your algorithm."
      ]
    },
    {
      "cell_type": "markdown",
      "metadata": {
        "id": "XtCWiGIyV96Z"
      },
      "source": [
        "## Advantage of K-D Tree\n",
        "\n",
        "KD-trees are awesome. The main advantage of using K-D Trees is:\n",
        "\n",
        "* They have an efficient way to store data; therefore, they could lead to some efficiencies to search the nearest value in low dimension.\n"
      ]
    },
    {
      "cell_type": "markdown",
      "metadata": {
        "id": "zWZTqeJjWvU2"
      },
      "source": [
        "## Disadvantages of K-D Trees\n",
        "\n",
        "\n",
        "K-D Tree being efficient, sometimes has an issue.\n",
        "\n",
        "* K-D tree implementation is tuff. You have to structure out this tree, and it can be pretty challenging to do that.\n",
        "\n",
        "* Curse of Dimensionality makes KD-Trees ineffective for a higher number of dimensions. To solve this problem, you can use a ball tree. We will discuss the ball tree in detail in the next chapter./"
      ]
    },
    {
      "cell_type": "markdown",
      "metadata": {
        "id": "iNfd36gEbKOP"
      },
      "source": [
        "Before ending this chapter, I want to mention some key points:\n",
        "\n",
        "*  There are different ways to implement K-D Tree. The one I've used here is the simplest one.\n",
        "\n",
        "* The depth of K-D Tree must be defined by the programmer.\n",
        "\n",
        "* Sklearn has [K-D Tree ](https://scikit-learn.org/stable/modules/generated/sklearn.neighbors.KDTree.html)implementation. You can use this to find the nearest neighbor."
      ]
    },
    {
      "cell_type": "markdown",
      "metadata": {
        "id": "7ulPW8dOawHJ"
      },
      "source": [
        "## Key Take-Aways\n",
        "\n",
        "\n",
        "Let's conclude this chapter with some key takeaways:\n",
        "* If there are millions of entries, the Brute force method becomes inefficient. To solve this problem, K-D Trees comes handy.\n",
        "\n",
        "* K-D Tree is a data structure that works like a BST. However, K-D Tree contains a discriminator that splits data into two halves recursively. BST doesn't have a discriminator.\n",
        "\n",
        "* For a single approximate neighbor, the expected query time in a K-D Tree is $O(log2n).$\n",
        " K-D Tree is a binary search tree. Binary tree traversal depends on the height of a tree, which is given by  $log2n.$\n",
        "\n",
        "* Curse of Dimensionality makes KD-Trees ineffective for a higher number of dimensions. To solve this problem, you can use a ball tree."
      ]
    }
  ],
  "metadata": {
    "colab": {
      "provenance": []
    },
    "kernelspec": {
      "display_name": "Python 3",
      "name": "python3"
    }
  },
  "nbformat": 4,
  "nbformat_minor": 0
}
