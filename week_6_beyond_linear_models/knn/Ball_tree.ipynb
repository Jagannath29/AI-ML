{
 "cells": [
  {
   "cell_type": "markdown",
   "metadata": {
    "id": "EyIYx489T-jD"
   },
   "source": [
    "## Ball Tree"
   ]
  },
  {
   "cell_type": "markdown",
   "metadata": {
    "id": "8znHEIMRWHo3"
   },
   "source": [
    "## Learning objectives\n",
    "\n",
    "After reading this notebook, students will be able to:\n",
    "\n",
    "- Explain importance of Ball Tree,\n",
    "- Exemplify ball Tree construction algorithm.\n",
    "- Search a nearest neighbour using Ball Tree algorithm.\n",
    "- Point the pros and cons of a ball tree."
   ]
  },
  {
   "cell_type": "markdown",
   "metadata": {
    "id": "zl1X2CznYO2P"
   },
   "source": [
    "__Recap__\n",
    "\n",
    "In previous chapter, We discussed KD trees that split two-dimensional data using the median value. Imagine similar splitting, but in a 1000 dimensions. Due to Kd-tree's inefficient space and time complexity in higher dimension, time required for computing the tree will be exponentially large.It is also called curse of dimension. In curse of dimensionality all the points seems to be close to each other. It is difficult to calculate distance between points. If you cannot calculate distance you can't find nearest point.\n",
    "\n",
    "\n",
    " In this section, we will discuss a slightly different version of the tree algorithm for the nearest neighbor search called the ball tree.\n"
   ]
  },
  {
   "cell_type": "markdown",
   "metadata": {
    "id": "pADiatW8XDOa"
   },
   "source": [
    "\n",
    "\n",
    "\n",
    "\n",
    "<center>\n",
    "<img src=\"https://i.postimg.cc/J4xpWf9s/image.jpg\" height=500/>\n",
    "<figcaption> Figure 1: 2D manifold in 1000 dimension. </figcaption>\n",
    "</center>\n"
   ]
  },
  {
   "cell_type": "markdown",
   "metadata": {
    "id": "i5BKVLD8XHre"
   },
   "source": [
    "Suppose your dataset is in 2D manifold embedded in high dimension say 1000. The \"X\"  points in are confined so every point are close to each other. In this case K-D Tree will fail to find your neighbour. However, Ball tree will do your job.\n",
    "\n",
    "\n",
    "\n"
   ]
  },
  {
   "cell_type": "markdown",
   "metadata": {
    "id": "Ijl1EpNx4sdy"
   },
   "source": [
    "## Ball Tree"
   ]
  },
  {
   "cell_type": "markdown",
   "metadata": {
    "id": "id5fC1Ky4up7"
   },
   "source": [
    "__Introduction to a Ball tree__\n",
    "\n",
    "\n",
    "Ball Tree is a binary tree in which each __node or a ball represents a set of data points,__ $\\text{Points(Node)}.$ In a binary tree there are three types of nodes: root node, internal node and leaf node. Given a dataset, the root node of a ball tree represents the full set of points in the dataset.\n",
    "Internal node is also called non leaf node. An internal node contains __left child__ $\\text{(Node.child1)}$ and __right child__ $\\text{(Node.child2)}.$\n",
    "\n",
    "\n",
    "\n"
   ]
  },
  {
   "cell_type": "markdown",
   "metadata": {
    "id": "a5Lb7SU99Plo"
   },
   "source": [
    "\n",
    "\n",
    "\n",
    "<center>\n",
    "<img src=\"https://i.postimg.cc/fW23n58w/image.png\" height=450/>\n",
    "<figcaption> Figure 2: Ball Tree</figcaption>\n",
    "</center>"
   ]
  },
  {
   "cell_type": "markdown",
   "metadata": {
    "id": "rNb1R0Oe8gdO"
   },
   "source": [
    "__Properties of Ball Tree:__\n",
    "\n",
    "1. $ \\text{Points(Node.child1)} ~~{\\bigcap} ~~ \\text{Points(Node.child2)} = \\phi $\n",
    "    * Points on $\\text{child1}$ and points on $\\text{child2}$ of a node don't intersect.\n",
    "\n",
    "2. $\\text{Point(child1)} ~~\\bigcup ~~ \\text{Point(child2)} = \\text{Points(Node)}$\n",
    "\n",
    "    * If you take union of points inside in $\\text{child1}$ and $\\text{child2}$  it will give you points in a Node.\n",
    "\n",
    "\n",
    "\n",
    "3. Each node/ball saves its pivot point so-called centroid and the radius of a ball.\n",
    "\n",
    "4. Each node records the the farthest point from it's pivot, $f$. It is taken as a **radius of a ball**.\n",
    "\n",
    "$$\n",
    "\\text{Node.Radius} = \\max_{\\text{f} \\in \\text{Points(Node)}} |\\text{Node.Pivot - f}|\n",
    "$$\n",
    "\n",
    "5. If ${x \\in \\text{Points(Node)}}$ then distance from a query point $q$ to any point in any ball tree node is given by:\n",
    "\n",
    "$$ |\\text{x-q}| \\geq |\\text{q - Node.Pivot}| - \\text{Node.Radius} $$\n",
    "\n",
    "$$ |\\text{x-q}| \\leq |\\text{q-Node.Pivot}| + \\text{Node.Radius} $$\n",
    "\n",
    "\n",
    "\n",
    "\n"
   ]
  },
  {
   "cell_type": "markdown",
   "metadata": {
    "id": "tfGXNvYCGvn_"
   },
   "source": [
    "\n",
    "\n",
    "\n",
    "<center>\n",
    "<img src=\"https://i.postimg.cc/7hFwPCCN/image.png\"/>\n",
    "<figcaption> Figure 2: Triangle inequality </figcaption>\n",
    "</center>"
   ]
  },
  {
   "cell_type": "markdown",
   "metadata": {
    "id": "kdJmUuCpiUxf"
   },
   "source": [
    "## Ball Tree Construction Algorithm"
   ]
  },
  {
   "cell_type": "markdown",
   "metadata": {
    "id": "DP3kFdPeXjWs"
   },
   "source": [
    "Let's formulate ball tree algorithm using example. For ease, Each data point is given a numerical name 1-10."
   ]
  },
  {
   "cell_type": "markdown",
   "metadata": {
    "id": "fbATwjBFWyDX"
   },
   "source": [
    "\n",
    "<center>\n",
    "<img src=\"https://i.postimg.cc/g0CCZ9cY/image.png\" height=500/>\n",
    "</center>"
   ]
  },
  {
   "cell_type": "markdown",
   "metadata": {
    "id": "_Y7ALNvLDgGG"
   },
   "source": [
    "The points on the above image are enclosed inside a big ball/sphere. It is also called the root of the ball tree."
   ]
  },
  {
   "cell_type": "markdown",
   "metadata": {
    "id": "wBKPymKhDuM0"
   },
   "source": [
    "\n",
    "<center>\n",
    "<img src=\"https://i.postimg.cc/FK3PwYm4/image.png\"/>\n",
    "</center>\n"
   ]
  },
  {
   "cell_type": "markdown",
   "metadata": {
    "id": "0QItIdMIEn8j"
   },
   "source": [
    "Let's forget this big ball and just foucs on points. The algorithm of ball tree starts as follows."
   ]
  },
  {
   "cell_type": "markdown",
   "metadata": {
    "id": "ZYxR_BZfX833"
   },
   "source": [
    "1. The ball tree algorithm randomly finds a point from the given set of points.\n",
    "    * Suppose in our case it is point number 4.\n",
    "\n"
   ]
  },
  {
   "cell_type": "markdown",
   "metadata": {
    "id": "PUugXGADeHAP"
   },
   "source": [
    "\n",
    "\n",
    "<center>\n",
    "<img src=\"https://i.postimg.cc/BnxH0H8M/image.png\" height=500/>\n",
    "</center>\n"
   ]
  },
  {
   "cell_type": "markdown",
   "metadata": {
    "id": "JhH5gw1BeCo1"
   },
   "source": [
    "2. After selecting a point it finds a farthest point from selected point. From the farthest point found find another farthest point.\n",
    "    * In our case the farthest point form 4 is 10.\n",
    "    * The farthest point from 10 is 1.\n",
    "\n"
   ]
  },
  {
   "cell_type": "markdown",
   "metadata": {
    "id": "Zk3w4OP0ZphN"
   },
   "source": [
    "<center>\n",
    "<img src=\"https://i.postimg.cc/N0s9vVvj/image.png\" height=500/>\n",
    "</center>\n"
   ]
  },
  {
   "cell_type": "markdown",
   "metadata": {
    "id": "7EXrQM4se7GQ"
   },
   "source": [
    "3. Draw a vector between two farthest point you just identified.\n",
    "    * Draw a vector from 1 to 10."
   ]
  },
  {
   "cell_type": "markdown",
   "metadata": {
    "id": "v08xr8Gge7Cs"
   },
   "source": [
    "<center>\n",
    "<img src=\"https://i.postimg.cc/X7gCJFcJ/image.png\" height=500/>\n",
    "</center>\n"
   ]
  },
  {
   "cell_type": "markdown",
   "metadata": {
    "id": "q0vfxq2ke6_o"
   },
   "source": [
    "4. After finding a vector project all point on that vector."
   ]
  },
  {
   "cell_type": "markdown",
   "metadata": {
    "id": "ltmAm-tJe68N"
   },
   "source": [
    "<center>\n",
    "<img src=\"https://i.postimg.cc/jdjsH7YC/image.png\" height=500/>\n",
    "</center>"
   ]
  },
  {
   "cell_type": "markdown",
   "metadata": {
    "id": "IT97SWE2e62s"
   },
   "source": [
    "5. Find the median of data on that vector."
   ]
  },
  {
   "cell_type": "markdown",
   "metadata": {
    "id": "XfhgXpnhgCb3"
   },
   "source": [
    "<center>\n",
    "<img src=\"https://i.postimg.cc/mkt5DRKZ/image.png\" height=500/>\n",
    "</center>\n"
   ]
  },
  {
   "cell_type": "markdown",
   "metadata": {
    "id": "0hjUDlooaI-q"
   },
   "source": [
    "The median represented by the yellow marker sucessfully divides your dataset into two halves. Now you need to include data points in two subtree.\n",
    "\n",
    "6. Find mean of data points or centroid on each half.\n",
    "    * In our case centroid is $c_1$ and $c_2$."
   ]
  },
  {
   "cell_type": "markdown",
   "metadata": {
    "id": "iaYigEb8bTzH"
   },
   "source": [
    "\n",
    "<center>\n",
    "<img src=\"https://i.postimg.cc/CMR0dVGf/image.png\" height=500 />\n",
    "</center>"
   ]
  },
  {
   "cell_type": "markdown",
   "metadata": {
    "id": "fIg3Uj31cSpP"
   },
   "source": [
    "In the given figure $c_1$ represents the centroid of data points on left to the median and $c_2$ represents the centroid of data points on right to the median.\n",
    "\n",
    "Note centroid is calculated taking the mean of each coordinate. The centroid is often called a pivot. Now you need to enclose all points on the left and right of the median using the pivot value."
   ]
  },
  {
   "cell_type": "markdown",
   "metadata": {
    "id": "F-XalpBYbj8A"
   },
   "source": [
    "7. After finding the pivot find the farthest point from the pivot. Draw a radius and create a sphere.\n",
    "    * On the left half, for $c_1$ farthest point is 1.Draw radius $r_1$ from the pivot and construct a sphere. Save the value of radius and pivot.\n",
    "    * On the left half, for $c_2$ farthest point is 10.Draw radius $r_2$ from the pivot and construct a sphere. Save the value of radius and pivot.\n",
    "\n",
    "\n"
   ]
  },
  {
   "cell_type": "markdown",
   "metadata": {
    "id": "foOsI8-ra5vG"
   },
   "source": [
    "\n",
    "<center>\n",
    "<img src=\"https://i.postimg.cc/W3QHhxVM/image.png\" height = 500 />\n",
    "</center>\n"
   ]
  },
  {
   "cell_type": "markdown",
   "metadata": {
    "id": "xACKXkZDcd9E"
   },
   "source": [
    "Now you have two big balls that encloses all your dataset. The left ball is left subtree and the right ball is right subtree.\n",
    "Note ball can intersect. If a data point is in both balls. It is usually assigned to ball with nearest centroid. It completely depends on programmers choice."
   ]
  },
  {
   "cell_type": "markdown",
   "metadata": {
    "id": "upw4lG6H4ICq"
   },
   "source": [
    "The  time  complexity  of  each  split  is $O(n)$  where $n$ indicates  the number of data points in the parent partition."
   ]
  },
  {
   "cell_type": "markdown",
   "metadata": {
    "id": "yJ2xQfFhdNGQ"
   },
   "source": [
    "8. This process is recursive till defined depth, given by programmer. I will use depth = 2.  If you split data on left and right ball again then after repeating same steps. The final structure looks like a given figure."
   ]
  },
  {
   "cell_type": "markdown",
   "metadata": {
    "id": "58OzZaWzdqgO"
   },
   "source": [
    "\n",
    "<center>\n",
    "<img src=\"https://i.postimg.cc/FshxDhTY/image.png\" height = 500 />\n",
    "</center>\n",
    "\n"
   ]
  },
  {
   "cell_type": "markdown",
   "metadata": {
    "id": "Slvt2n2efMrZ"
   },
   "source": [
    "Lets plot a tree of the graph. The A on root node represents all data points. We have 10 data points in our dataset."
   ]
  },
  {
   "cell_type": "markdown",
   "metadata": {
    "id": "bVeXOl7pziGQ"
   },
   "source": [
    "\n",
    "<center>\n",
    "<img src=\"https://i.postimg.cc/50MzymGX/image.png\"  />\n",
    "</center>\n"
   ]
  },
  {
   "cell_type": "markdown",
   "metadata": {
    "id": "fpn_kBLph7ry"
   },
   "source": [
    "__Summary of the algorithm__\n",
    "\n",
    "1. Select a random point $x_t$ form your dataset.\n",
    "\n",
    "2. Find a farthest point from $x_t$ say $p_1.$\n",
    "\n",
    "3. Find a farthest point from $p_1$ say $p_2.$\n",
    "\n",
    "4. Draw a vector from $p_1$ to $p_2.$ say $\\vec{p}.$\n",
    "\n",
    "5. Project all points on the vector $\\vec{p}$ and find median point of projected points. The median divides data points into two halves.\n",
    "\n",
    "5. Find the centroid/pivot of each half. Draw a cirlce/sphere or hypersphere from pivot to farthest point in each half.\n",
    "\n",
    "6. Repeat the step in each halves until given depth of tree."
   ]
  },
  {
   "cell_type": "markdown",
   "metadata": {
    "id": "4YD-PMV58fXn"
   },
   "source": [
    "## Nearest neighbour search in the Ball Tree."
   ]
  },
  {
   "cell_type": "markdown",
   "metadata": {
    "id": "a61neuq2fT0v"
   },
   "source": [
    "The nearest neighbor search proceeds by traversing the tree and computing a distance between the query and the center of each node’s sphere. The tree traversal methodology is a greedy depth-first search.\n"
   ]
  },
  {
   "cell_type": "markdown",
   "metadata": {
    "id": "ihmOvPAcrxCz"
   },
   "source": [
    "Let $PS$ be a set of data points, and $PS⊆V,$ where $V$ is the training set.\n",
    "\n",
    "\n",
    "\n",
    "$$\\text{q = query}$$ and\n",
    "\n",
    "$$\\text{k = Number of Nearest Neighbors}$$\n",
    "\n",
    "$PS$ consists of the K-Nearest Neighbors(K-NN) of $q$ in $V$ iff\n",
    "\n",
    "* $(|V| \\geq k $ and $PS$ are the K-NN of $q$ in $V$) or\n",
    "* ($|V| < k $ and $PS==V)$\n",
    "\n",
    "\n"
   ]
  },
  {
   "cell_type": "markdown",
   "metadata": {
    "id": "Bn0UMWRcCQgw"
   },
   "source": [
    "__Problem__"
   ]
  },
  {
   "cell_type": "markdown",
   "metadata": {
    "id": "B54tc97l1tau"
   },
   "source": [
    "\n",
    "\n",
    "$$V = \\{1,2,3,4,5,6,7,8,9,10\\},$$\n",
    "\n",
    "$$k = 2$$"
   ]
  },
  {
   "cell_type": "markdown",
   "metadata": {
    "id": "xuBSV97W2SsY"
   },
   "source": [
    "* Assume that $PS^{in}$ is a variable that consists of the candidate $\\text{K-NN}$ of $q$ in $V.$\n",
    "* Assume that $PS^{out}$ is a variable that consists of the Nearest neighbor of $q.$"
   ]
  },
  {
   "cell_type": "markdown",
   "metadata": {
    "id": "Zoeo2xOzybXf"
   },
   "source": [
    "Define a recursive function:"
   ]
  },
  {
   "cell_type": "markdown",
   "metadata": {
    "id": "F_K2dWgUWVcL"
   },
   "source": [
    "$${PS}^{out} = BallKNN(PS^{in} , Node, k)$$"
   ]
  },
  {
   "cell_type": "markdown",
   "metadata": {
    "id": "huIHpw0a2r9E"
   },
   "source": [
    "__Root Node__"
   ]
  },
  {
   "cell_type": "markdown",
   "metadata": {
    "id": "nPKebllV2ua3"
   },
   "source": [
    "Let $ PS = V $\n",
    "\n",
    "\n",
    "Therefore,\n",
    "$$|V| > k$$\n",
    "$$PS^{in} = PS $$   \n",
    "\n"
   ]
  },
  {
   "cell_type": "markdown",
   "metadata": {
    "id": "-bvzFEMRBsMi"
   },
   "source": [
    "\n",
    "\n",
    "<center>\n",
    "<img src=\"https://i.postimg.cc/TwF3h2hC/image.png\"  height=500/>\n",
    "</center>\n"
   ]
  },
  {
   "cell_type": "markdown",
   "metadata": {
    "id": "QfmTCRCgC8pY"
   },
   "source": [
    "__Internal Node__\n",
    "\n",
    "\n",
    "$$\\text{B = \\{1,2,3,4,5\\},}$$\n",
    "$$\\text{ C = \\{6,7,8,9,10\\}}$$\n",
    "\n",
    "Calculate the distance between $q$ and the centroid of B and C.\n",
    "\n",
    "* $B$ is close to $q$ and $C$ is far from $q.$\n",
    "\n",
    "\n",
    "$B$ is not a leaf node therefore $PS^{in} = B $\n",
    "\n",
    "\n"
   ]
  },
  {
   "cell_type": "markdown",
   "metadata": {
    "id": "ZNntsw3LCEyX"
   },
   "source": [
    "<center>\n",
    "<img src=\"https://i.postimg.cc/4NMQZpJ9/image.png\"  height=500/>\n",
    "</center>\n"
   ]
  },
  {
   "cell_type": "markdown",
   "metadata": {
    "id": "aGz0Zh77S64Y"
   },
   "source": [
    "__Leaf Node__\n",
    "\n",
    "$$\\text{B.child1 = \\{1,2,3\\},}$$\n",
    "\n",
    "$$\\text{B.child2 = \\{4,5\\}}$$\n",
    "\n",
    "Calculate the distance between $q$ and the centroid of $\\text{B.child1}$ and $\\text{B.child2}.$\n",
    "\n",
    "\n",
    "* $\\text{B.child2}$ is nearest therefore $PS^{in} = \\{4,5\\} $\n",
    "\n",
    "\n",
    "<center>\n",
    "<img src=\"https://i.postimg.cc/cLhYCYWh/image.png\"  height=500/>\n",
    "</center>\n",
    "\n",
    "\n",
    "\n",
    "\n",
    "\n"
   ]
  },
  {
   "cell_type": "markdown",
   "metadata": {
    "id": "bCzfUYweCoSd"
   },
   "source": [
    "\n",
    "__Calculate the distance between each point in $PS^{in}$ and query point and find k minimum distances.__\n",
    "\n",
    "\n",
    "Here $$k=2$$\n",
    "${PS}^{out}  = {PS}^{in}  = \\{4,5\\} $  "
   ]
  },
  {
   "cell_type": "markdown",
   "metadata": {
    "id": "_oy24G1hDHYm"
   },
   "source": [
    "__Results__\n",
    "\n",
    "$\\text{2 Nearest Neighbor}$ of $q$ are:\n",
    "\n",
    " $${PS}^{out} = \\{4,5\\}$$"
   ]
  },
  {
   "cell_type": "markdown",
   "metadata": {
    "id": "2qEsrNlggfDa"
   },
   "source": [
    "## Pros and Cons of Ball Tree"
   ]
  },
  {
   "cell_type": "markdown",
   "metadata": {
    "id": "gGQ076Tv2gyj"
   },
   "source": [
    "\n",
    "__Pros of ball tree:__\n",
    "\n",
    "* Ball-trees tend to still work if data exhibits local structure (e.g. lies on a low-dimensional manifold).\n",
    "\n",
    "\n",
    "\n",
    "__Cons of ball tree:__\n",
    "\n",
    "Ball-tree  splits  that we made above have  two  shortcomings:  \n",
    "\n",
    "\n",
    "\n",
    "* First, Splitting  a  partition:  You divide data into two halves; however, the partition doesn't have the same number of data points. The number of points assigned to each sub-partition is not taken into account. The resulting tree is imbalanced.\n",
    "\n",
    "* Second, Sensative to outliers:  The hyperplane is determined by two farthest points, completely ignoring the distribution of points. It makes the ball tree very sensitive to outlier data points.\n",
    "\n",
    "* It is also affected by curse of dimension."
   ]
  },
  {
   "cell_type": "markdown",
   "metadata": {
    "id": "iZ_FXhfU9NRe"
   },
   "source": [
    "## Key Take-Aways\n",
    "\n",
    "* KD-Tree performs worst in higher dimensional data. The solution is to use Ball tree.\n",
    "\n",
    "* The ball Tree is a binary tree in which each node represents a set of points.\n",
    "* Points inside a child of a ball tree don't intersect. If they do, it is assigned to one node.\n",
    "\n",
    "$$ Points(Node.child1) ~~{\\bigcap} ~~Points(Node.child2) = \\phi $$\n",
    "* The union of points in the child node gives points in a node of a ball tree.\n",
    "\n",
    " $$Point(child1) ~~\\bigcup ~~ Point(child2) = Points(Node)$$\n",
    "\n",
    "\n",
    "* Each node records a pivot called centroid and radius.\n",
    "* The ball tree node is constructed by a splitting plane in two halves.  \n",
    "* Sometimes the Ball tree is Imbalanced.\n",
    "* Ball tree is sensitive to outliers.\n",
    "* Ball-trees work if data exhibits local structure (e.g., lies on a low-dimensional manifold).\n",
    "\n"
   ]
  }
 ],
 "metadata": {
  "colab": {
   "provenance": []
  },
  "kernelspec": {
   "display_name": "Python 3",
   "name": "python3"
  }
 },
 "nbformat": 4,
 "nbformat_minor": 0
}
