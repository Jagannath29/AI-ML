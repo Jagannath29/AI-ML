{
 "cells": [
  {
   "cell_type": "markdown",
   "id": "9a3ab0ff",
   "metadata": {},
   "source": [
    "# Breadth First Search (BFS)\n",
    "## Theory and Implementation\n",
    "\n",
    "Breadth First Search is a graph traversal algorithm that explores a graph level by level. It starts at a given source node and explores all neighbors at the present depth before moving on to nodes at the next depth level.\n",
    "\n",
    "### Key Characteristics:\n",
    "- Visits nodes in order of their distance from the source\n",
    "- Uses a queue data structure (First-In-First-Out)\n",
    "- Guarantees shortest path in unweighted graphs\n",
    "- Complete algorithm (will find a solution if it exists)\n",
    "\n",
    "### Time and Space Complexity:\n",
    "- Time Complexity: O(V + E) where V is vertices and E is edges\n",
    "- Space Complexity: O(V) for the queue\n",
    "\n",
    "### Applications:\n",
    "1. Finding shortest paths in unweighted graphs\n",
    "2. Web crawling\n",
    "3. Social networking (finding connections)\n",
    "4. GPS Navigation\n",
    "5. Network Broadcasting"
   ]
  },
  {
   "cell_type": "markdown",
   "id": "f8e63fe2",
   "metadata": {},
   "source": [
    "# Breadth First Search Implementation\n",
    "We'll use the following components for our BFS implementation:\n",
    "- collections.deque for efficient queue operations\n",
    "- A helper function for path formatting\n",
    "- The main BFS algorithm\n",
    "- A sample graph structure for testing"
   ]
  },
  {
   "cell_type": "code",
   "execution_count": 4,
   "id": "a8338579",
   "metadata": {},
   "outputs": [],
   "source": [
    "# Import deque for efficient queue operations\n",
    "import collections"
   ]
  },
  {
   "cell_type": "markdown",
   "id": "b714bf52",
   "metadata": {},
   "source": [
    "## Helper Function\n",
    "Format the path output with arrow separators between nodes"
   ]
  },
  {
   "cell_type": "code",
   "execution_count": 5,
   "id": "d4b8f243",
   "metadata": {},
   "outputs": [],
   "source": [
    "# Path print formatter - converts path list to string with arrows\n",
    "def pathformat(visited_path):\n",
    "    # Initialize empty path string\n",
    "    pth = ''\n",
    "    # Add each vertex with arrow separator\n",
    "    for each_vertex in visited_path:\n",
    "        pth += each_vertex + \" => \"\n",
    "    # Remove trailing arrow\n",
    "    pth = pth.strip(\" => \")\n",
    "    return pth"
   ]
  },
  {
   "cell_type": "markdown",
   "id": "424fc749",
   "metadata": {},
   "source": [
    "## Main BFS Algorithm\n",
    "Implements Breadth First Search with the following features:\n",
    "- Optional goal state\n",
    "- Path tracking\n",
    "- Iteration counting\n",
    "- Detailed progress output"
   ]
  },
  {
   "cell_type": "code",
   "execution_count": 6,
   "id": "693e8b17",
   "metadata": {},
   "outputs": [],
   "source": [
    "# Main BFS implementation\n",
    "def BFS(graph, root, goal=None):\n",
    "    # Initialize data structures\n",
    "    visited = set()        # Track visited nodes\n",
    "    explored = list()      # Store exploration order\n",
    "    itr = 0               # Iteration counter\n",
    "    queue = collections.deque([root])  # Initialize queue with root\n",
    "    visited.add(root)     # Mark root as visited\n",
    "    print(\"Queue: \", str(queue))\n",
    "    print()\n",
    "    # Main BFS loop\n",
    "    while queue:\n",
    "        # Get next node from queue\n",
    "        v = queue.popleft()\n",
    "        explored.append(v)\n",
    "        # Print progress information\n",
    "        print(\"Iteration: \" + str(itr))\n",
    "        print(\"Popped vertex: \", v)\n",
    "        print(\"Queue after pop: \", queue)\n",
    "        itr += 1\n",
    "        # Check for goal state\n",
    "        if goal is not None:\n",
    "          if goal is v:\n",
    "              print()\n",
    "              print('Goal ' + goal + \" found\")\n",
    "              print(\"The path followed is: \" + pathformat(explored))\n",
    "              print('Path cost: ' + str(len(explored) - 1))\n",
    "              return True\n",
    "        # Process neighbors\n",
    "        for neighbour in graph[v]:\n",
    "            # Add unvisited neighbors to queue\n",
    "            if neighbour not in visited:\n",
    "                visited.add(neighbour)\n",
    "                queue.append(neighbour)\n",
    "        print(\"Queue after neighbor node addition: \", queue)\n",
    "        print()\n",
    "    # No goal specified - print full traversal\n",
    "    print(\"No goal was set\")\n",
    "    print(\"The path followed is: \" + pathformat(explored))\n",
    "    print('Path cost: ' + str(len(explored) - 1))\n",
    "    return True"
   ]
  },
  {
   "cell_type": "markdown",
   "id": "e6a79865",
   "metadata": {},
   "source": [
    "## Sample Graph Structure\n",
    "A sample graph represented as an adjacency list for testing the BFS implementation."
   ]
  },
  {
   "cell_type": "code",
   "execution_count": 7,
   "id": "e13c7c48",
   "metadata": {},
   "outputs": [],
   "source": [
    "graph = {\n",
    "    'A': ['B', 'C', 'D'], 'B': ['A', 'E', 'F'], 'C': ['A', 'G', 'H'], 'D': ['A', 'H', 'I'],\n",
    "    'E': ['B'], 'F': ['B'], 'G': ['C'], 'H': ['C', 'D'], 'I': ['D']\n",
    "    }"
   ]
  },
  {
   "cell_type": "code",
   "execution_count": 8,
   "id": "f1e237f3",
   "metadata": {},
   "outputs": [
    {
     "name": "stdout",
     "output_type": "stream",
     "text": [
      "Queue:  deque(['A'])\n",
      "\n",
      "Iteration: 0\n",
      "Popped vertex:  A\n",
      "Queue after pop:  deque([])\n",
      "Queue after neighbor node addition:  deque(['B', 'C', 'D'])\n",
      "\n",
      "Iteration: 1\n",
      "Popped vertex:  B\n",
      "Queue after pop:  deque(['C', 'D'])\n",
      "Queue after neighbor node addition:  deque(['C', 'D', 'E', 'F'])\n",
      "\n",
      "Iteration: 2\n",
      "Popped vertex:  C\n",
      "Queue after pop:  deque(['D', 'E', 'F'])\n",
      "Queue after neighbor node addition:  deque(['D', 'E', 'F', 'G', 'H'])\n",
      "\n",
      "Iteration: 3\n",
      "Popped vertex:  D\n",
      "Queue after pop:  deque(['E', 'F', 'G', 'H'])\n",
      "Queue after neighbor node addition:  deque(['E', 'F', 'G', 'H', 'I'])\n",
      "\n",
      "Iteration: 4\n",
      "Popped vertex:  E\n",
      "Queue after pop:  deque(['F', 'G', 'H', 'I'])\n",
      "Queue after neighbor node addition:  deque(['F', 'G', 'H', 'I'])\n",
      "\n",
      "Iteration: 5\n",
      "Popped vertex:  F\n",
      "Queue after pop:  deque(['G', 'H', 'I'])\n",
      "Queue after neighbor node addition:  deque(['G', 'H', 'I'])\n",
      "\n",
      "Iteration: 6\n",
      "Popped vertex:  G\n",
      "Queue after pop:  deque(['H', 'I'])\n",
      "Queue after neighbor node addition:  deque(['H', 'I'])\n",
      "\n",
      "Iteration: 7\n",
      "Popped vertex:  H\n",
      "Queue after pop:  deque(['I'])\n",
      "Queue after neighbor node addition:  deque(['I'])\n",
      "\n",
      "Iteration: 8\n",
      "Popped vertex:  I\n",
      "Queue after pop:  deque([])\n",
      "Queue after neighbor node addition:  deque([])\n",
      "\n",
      "No goal was set\n",
      "The path followed is: A => B => C => D => E => F => G => H => I\n",
      "Path cost: 8\n"
     ]
    },
    {
     "data": {
      "text/plain": [
       "True"
      ]
     },
     "execution_count": 8,
     "metadata": {},
     "output_type": "execute_result"
    }
   ],
   "source": [
    "BFS(graph, 'A')"
   ]
  },
  {
   "cell_type": "code",
   "execution_count": null,
   "id": "06c77b9f",
   "metadata": {},
   "outputs": [],
   "source": []
  }
 ],
 "metadata": {
  "kernelspec": {
   "display_name": "ai_ml_venv",
   "language": "python",
   "name": "python3"
  },
  "language_info": {
   "codemirror_mode": {
    "name": "ipython",
    "version": 3
   },
   "file_extension": ".py",
   "mimetype": "text/x-python",
   "name": "python",
   "nbconvert_exporter": "python",
   "pygments_lexer": "ipython3",
   "version": "3.12.3"
  }
 },
 "nbformat": 4,
 "nbformat_minor": 5
}
