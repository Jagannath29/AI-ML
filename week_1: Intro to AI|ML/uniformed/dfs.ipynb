{
 "cells": [
  {
   "cell_type": "markdown",
   "id": "67015a60",
   "metadata": {},
   "source": [
    "# Depth First Search (DFS)\n",
    "## Theory and Implementation\n",
    "\n",
    "Depth First Search is a graph traversal algorithm that explores as far as possible along each branch before backtracking. It goes deep into the graph before exploring neighbors at the same level.\n",
    "\n",
    "### Key Characteristics:\n",
    "- Explores deep into the graph before backtracking\n",
    "- Uses a stack data structure (Last-In-First-Out)\n",
    "- Memory efficient for deep graphs\n",
    "- Complete algorithm for finite graphs\n",
    "\n",
    "### Time and Space Complexity:\n",
    "- Time Complexity: O(V + E) where V is vertices and E is edges\n",
    "- Space Complexity: O(h) where h is the maximum depth\n",
    "\n",
    "### Applications:\n",
    "1. Topological Sorting\n",
    "2. Finding connected components\n",
    "3. Maze solving\n",
    "4. Path finding in games\n",
    "5. Cycle detection in graphs"
   ]
  },
  {
   "cell_type": "code",
   "execution_count": 1,
   "id": "f87cce0b",
   "metadata": {},
   "outputs": [],
   "source": [
    "# Import collections module for using deque as a stack\n",
    "import collections"
   ]
  },
  {
   "cell_type": "markdown",
   "id": "a3d44f8e",
   "metadata": {},
   "source": [
    "## Helper Function\n",
    "First we need the path formatting function used in the implementation"
   ]
  },
  {
   "cell_type": "code",
   "execution_count": 2,
   "id": "509648a0",
   "metadata": {},
   "outputs": [],
   "source": [
    "# Path print formatter - converts path list to string with arrows\n",
    "def pathformat(visited_path):\n",
    "    pth = ''\n",
    "    for each_vertex in visited_path:\n",
    "        pth += each_vertex + \" => \"\n",
    "    pth = pth.strip(\" => \")\n",
    "    return pth"
   ]
  },
  {
   "cell_type": "markdown",
   "id": "607bd3f1",
   "metadata": {},
   "source": [
    "## Main DFS Algorithm\n",
    "Implements Depth First Search with the following features:\n",
    "- Optional goal state search\n",
    "- Path tracking\n",
    "- Iteration counting\n",
    "- Detailed progress output"
   ]
  },
  {
   "cell_type": "code",
   "execution_count": 3,
   "id": "805de8cf",
   "metadata": {},
   "outputs": [],
   "source": [
    "# Main DFS implementation\n",
    "def DFS(graph, root, goal=None):\n",
    "    # Initialize data structures\n",
    "    visited = set()        # Track visited nodes\n",
    "    explored = list()      # Store exploration order\n",
    "    itr = 0               # Iteration counter\n",
    "    stack = collections.deque([root])  # Initialize stack with root\n",
    "    visited.add(root)     # Mark root as visited\n",
    "    print(\"Stack: \", str(stack))\n",
    "    print()\n",
    "    # Main DFS loop\n",
    "    while stack:\n",
    "        # Get next node from stack (LIFO)\n",
    "        v = stack.pop()\n",
    "        explored.append(v)\n",
    "        # Print progress information\n",
    "        print(\"Iteration: \" + str(itr))\n",
    "        print(\"Popped vertex: \", v)\n",
    "        print(\"Stack after pop: \", stack)\n",
    "        itr += 1\n",
    "        # Check for goal state\n",
    "        if goal is not None:\n",
    "          if goal is v:\n",
    "              print()\n",
    "              print('Goal ' + goal + \" found\")\n",
    "              print(\"The path followed is: \" + pathformat(explored))\n",
    "              print('Path cost: ' + str(len(explored) - 1))\n",
    "              return True\n",
    "        # Process neighbors in reverse order for depth-first behavior\n",
    "        for neighbour in sorted(graph[v], reverse=True):\n",
    "            # Add unvisited neighbors to stack\n",
    "            if neighbour not in visited:\n",
    "                visited.add(neighbour)\n",
    "                stack.append(neighbour)\n",
    "        print(\"Stack after neighbor node addition: \", stack)\n",
    "        print()\n",
    "    # No goal specified - print full traversal\n",
    "    print(\"No goal was set\")\n",
    "    print(\"The path followed is: \" + pathformat(explored))\n",
    "    print('Path cost: ' + str(len(explored) - 1))\n",
    "    return True"
   ]
  },
  {
   "cell_type": "markdown",
   "id": "ec07853a",
   "metadata": {},
   "source": [
    "## Sample Graph Structure\n",
    "A sample graph represented as an adjacency list for testing the DFS implementation."
   ]
  },
  {
   "cell_type": "code",
   "execution_count": 4,
   "id": "c10bee16",
   "metadata": {},
   "outputs": [],
   "source": [
    "# Define the graph structure using adjacency list representation\n",
    "graph = {\n",
    "    'A': ['B', 'C', 'D'],  # Node A connected to B, C, D\n",
    "    'B': ['A', 'E', 'F'],  # Node B connected to A, E, F\n",
    "    'C': ['A', 'G', 'H'],  # Node C connected to A, G, H\n",
    "    'D': ['A', 'H', 'I'],  # Node D connected to A, H, I\n",
    "    'E': ['B'],            # Node E connected to B\n",
    "    'F': ['B'],            # Node F connected to B\n",
    "    'G': ['C'],            # Node G connected to C\n",
    "    'H': ['C', 'D'],       # Node H connected to C, D\n",
    "    'I': ['D']             # Node I connected to D\n",
    "    }"
   ]
  },
  {
   "cell_type": "code",
   "execution_count": 5,
   "id": "5484ebd6",
   "metadata": {},
   "outputs": [
    {
     "name": "stdout",
     "output_type": "stream",
     "text": [
      "Stack:  deque(['A'])\n",
      "\n",
      "Iteration: 0\n",
      "Popped vertex:  A\n",
      "Stack after pop:  deque([])\n",
      "Stack after neighbor node addition:  deque(['D', 'C', 'B'])\n",
      "\n",
      "Iteration: 1\n",
      "Popped vertex:  B\n",
      "Stack after pop:  deque(['D', 'C'])\n",
      "Stack after neighbor node addition:  deque(['D', 'C', 'F', 'E'])\n",
      "\n",
      "Iteration: 2\n",
      "Popped vertex:  E\n",
      "Stack after pop:  deque(['D', 'C', 'F'])\n",
      "Stack after neighbor node addition:  deque(['D', 'C', 'F'])\n",
      "\n",
      "Iteration: 3\n",
      "Popped vertex:  F\n",
      "Stack after pop:  deque(['D', 'C'])\n",
      "Stack after neighbor node addition:  deque(['D', 'C'])\n",
      "\n",
      "Iteration: 4\n",
      "Popped vertex:  C\n",
      "Stack after pop:  deque(['D'])\n",
      "Stack after neighbor node addition:  deque(['D', 'H', 'G'])\n",
      "\n",
      "Iteration: 5\n",
      "Popped vertex:  G\n",
      "Stack after pop:  deque(['D', 'H'])\n",
      "Stack after neighbor node addition:  deque(['D', 'H'])\n",
      "\n",
      "Iteration: 6\n",
      "Popped vertex:  H\n",
      "Stack after pop:  deque(['D'])\n",
      "Stack after neighbor node addition:  deque(['D'])\n",
      "\n",
      "Iteration: 7\n",
      "Popped vertex:  D\n",
      "Stack after pop:  deque([])\n",
      "Stack after neighbor node addition:  deque(['I'])\n",
      "\n",
      "Iteration: 8\n",
      "Popped vertex:  I\n",
      "Stack after pop:  deque([])\n",
      "Stack after neighbor node addition:  deque([])\n",
      "\n",
      "No goal was set\n",
      "The path followed is: A => B => E => F => C => G => H => D => I\n",
      "Path cost: 8\n"
     ]
    },
    {
     "data": {
      "text/plain": [
       "True"
      ]
     },
     "execution_count": 5,
     "metadata": {},
     "output_type": "execute_result"
    }
   ],
   "source": [
    "# Test DFS with no goal state\n",
    "DFS(graph, 'A')"
   ]
  },
  {
   "cell_type": "code",
   "execution_count": null,
   "id": "bd258af6",
   "metadata": {},
   "outputs": [],
   "source": []
  }
 ],
 "metadata": {
  "kernelspec": {
   "display_name": "ai_ml_venv",
   "language": "python",
   "name": "python3"
  },
  "language_info": {
   "codemirror_mode": {
    "name": "ipython",
    "version": 3
   },
   "file_extension": ".py",
   "mimetype": "text/x-python",
   "name": "python",
   "nbconvert_exporter": "python",
   "pygments_lexer": "ipython3",
   "version": "3.12.3"
  }
 },
 "nbformat": 4,
 "nbformat_minor": 5
}
