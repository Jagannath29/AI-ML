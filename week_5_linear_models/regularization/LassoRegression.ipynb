{
 "cells": [
  {
   "cell_type": "markdown",
   "metadata": {
    "id": "bNC8jIqvi9R-"
   },
   "source": [
    "# LASSO (Least Absolute Shrinkage and Selection Operator)\n",
    "\n"
   ]
  },
  {
   "cell_type": "markdown",
   "metadata": {
    "id": "BID2RYaYi9d-"
   },
   "source": []
  },
  {
   "cell_type": "markdown",
   "metadata": {
    "id": "jAaaRSKJi9jz"
   },
   "source": [
    "\n",
    "Lasso Regression is an alternative to address the above discussed disadvantage of Ridge Regression. The objective of Lasso Regression is to find a column matrix or column vector, $\\boldsymbol{\\beta}$, that minimizes the sum of Residual Sum of Squares (RSS) and penalty equivalent to the sum of absolute value of coefficients, which is written as:\n",
    "$$\\text{Cost}_{Lasso}={RSS} + \\lambda \\sum_{j=1}^{d} \\boldsymbol{\\mid{\\beta_j\\mid}}= \\sum_{i=1}^{n} (y_i-\\hat{y_i})^2 + \\lambda \\sum_{j=1}^{d} \\boldsymbol{\\mid{\\beta_j\\mid}}= \\sum_{i=1}^{n}\\epsilon_i^2 + \\lambda \\sum_{j=1}^{d}\\boldsymbol{\\mid{\\beta_j\\mid}}$$\n",
    "\n",
    "It can also be viewed as a minimization problem with *argmin* or \"Argument of Minimum\".\n",
    "\n",
    "$$\\underset{\\boldsymbol{\\beta\\in\\mathbb{R}}}{\\arg\\min}\\sum[y_i-\\hat{y_i}]=\\underset{\\boldsymbol{\\beta\\in\\mathbb{R}}}{\\arg\\min}\\sum[y_i-(\\beta_{0} + \\beta_{1}x_{i1} + \\beta_{i2}x_{i2} + \\cdots +\\beta_{d}x_{id})]$$\n",
    "\n",
    "*argmin* finds the coefficients that minimizes the $\\text{RSS}$. The lasso constraint is $L_1$ vector norm and its equation is:\n",
    "\n",
    "$$||\\beta||_1^1={|\\beta_{0}| + |\\beta_{1}| + |\\beta_{2}| + \\cdots +|\\beta_{d}|}$$\n",
    "\n",
    "The lasso loss function with $argmin$ and vector norm is as shown below. Notice that the first term of the equation is OLS loss function and second term is lasso penalty.\n",
    "\n",
    "$$\\boldsymbol{\\beta_{lasso}} = \\underset{\\boldsymbol{\\beta\\in\\mathbb{R}}}{\\arg\\min}||y-X\\beta||_2^2+\\lambda||\\beta||_1^1$$\n",
    "\n",
    "In earlier chapter, we derived a closed form equation of Ridge Regression. But in general, LASSO doesn't have a closed form equation. Still we can find its solution using convex optimization form."
   ]
  },
  {
   "cell_type": "markdown",
   "metadata": {
    "id": "3XQqM8EGi9pG"
   },
   "source": [
    "## Geometrical Intrepretation of Lasso Regression\n",
    "\n",
    "Lasso Regression is also called L1 Regularization as it uses $L_1$ penalty i.e L1 norm of the parameter estimates. The $L_1$ norm is an absolute value function so, it is convex but not differentiable. The concept of L1 norm is used in its geometrical visualization in forming the L1 norm which is diamond shaped as shown in the figure below.\n",
    "\n",
    "<figure align=\"center\">\n",
    "       <img src=\"https://i.postimg.cc/0y4LfzvQ/Geometrical-Intrepretation-of-Lasso-Regression.png\" height=\"500\" width=\"550\">\n",
    "       <figcaption>Figure 1: Geometrical Intrepretation of Lasso Regression </figcaption>\n",
    "</figure>\n",
    "\n",
    "If d=2, then the equation $$\\boldsymbol{\\sum_{j=1}^{d}}\\boldsymbol{\\mid\\beta_j\\mid \\leq c}$$ equals $\\boldsymbol{\\mid\\beta_1\\mid+\\mid\\beta_2\\mid \\leq c}$, which is the equation of a diamond as shown in the figure.\n",
    "Similarly, the term $(\\mathbf{y} - \\mathbf{X}\\boldsymbol{\\beta})^T(\\mathbf{y} - \\mathbf{X}\\boldsymbol{\\beta})$ is the OLS solution that generates an ellipse. The centre of the ellipse denotes the point in which the least square error(RSS) is minimum. The ellipse contour plot represents the residual sum of squares (RSS) increasing from inner ellipse to the outer ellipse quadratically. Likewise, the regularization curve is a 45 degree rotated square or a diamond.\n",
    "\n",
    "The goal of this optimization problem is to find the point where the cost function is minimum. When $\\lambda=0$, the $L_1$ norm diamond passes through the OLS estimate point where $\\beta_1$ and $\\beta_2$ gives the least RSS value. But the parameter chosen by OLS is prone to overfitting. So, we need to find that combination of $\\beta_1$ and $\\beta_2$ where the penalized loss function is minimum. For a particular lambda, we try to find the minimum point that L1 intersects with OLS. This minimum point is called lasso estimate point and the $\\lambda$ at this point is the optimal value. This point of intersection of the ellipse and diamond is highly probable to fall on the axis line due to the sharp contour(spike) of diamond, unlike L2 regularisation where the ridge estimate can lie anywhere on the circumference of the circle.\n",
    "\n",
    "\n",
    "### Lasso as a Feature Selection Method\n",
    "In the above figure, the contours first intersect at one of the axes (y-axis). So $\\beta_2=0$, which results in reduction of a feature and a non-zero coefficient $\\beta_1$ remains. For dataset containing more number of features, more parameter estimates may result to zero due to the convergence of contours near the axes. So L1 Regression can be used as a feature selection method. Its geometric intrepretation can be visualized through $L_1$ norm of the figure above."
   ]
  },
  {
   "cell_type": "markdown",
   "metadata": {
    "id": "lr0MX97hyP91"
   },
   "source": [
    "## Coordinate descent for Lasso Regression\n",
    "\n",
    "Unlike Ridge Regression where we derived a closed form equation and perform gradient descent algorithm to find the solution, the solution of Lasso Regression can only be found using coordinate descent as the derivative of the absolute function ($L_1$norm) is undefined at $\\beta$=0. Before implementing the concept of coordinate descent, we should know the idea behind it and also know why gradient descent doesn’t work. L1 norm is a piecewise linear function, so we cannot apply gradient descent on it. For a multivariable problem, gradient descent takes all the features and tries to minimize the cost function. But, coordinate descent takes one feature at a time and minimizes the cost function. It will help optimize the piecewise linear function by reducing the n-dimensional problem to n one-dimensional problem. We will now perform coordinate optimisation  and use the concept of sub-derivatives and subdifferentials. The coordinate descent helps in isolating $\\beta$. We will be implementing this on OLS and penalty term respectively."
   ]
  },
  {
   "cell_type": "markdown",
   "metadata": {
    "id": "Il7tFedHzrWZ"
   },
   "source": [
    "\\begin{align*}\n",
    "Cost_{lasso}(\\beta) & = RSS_{OLS}(\\beta) + \\lambda \\sum_{j=1}^{d} | \\beta_j |\n",
    "\\\\\n",
    "&= \\frac{1}{2} \\sum_{i=1}^n \\left[y_i - \\sum_{j=0}^d \\beta_j  x_{ij}\\right]^2 + \\lambda \\sum_{j=1}^d |\\beta_j|\n",
    "\\end{align*}\n",
    "\n",
    "For the RSS term, we will calculate the gradient term for jth feature by separating the $\\beta$ corresponding to jth feature. For this, we will perform summation with $k \\neq j$ by separating the beta corresponding to jth feature.\n",
    "\n",
    "\\begin{align*}\n",
    "\\frac{\\partial }{\\partial \\beta_j} RSS_{OLS}(\\beta) & = -  \\sum_{i=1}^n x_{ij}  \\left[y_i - \\sum_{j=0}^d \\beta_j x_{ij}\\right]\n",
    "\\\\\n",
    "& = -  \\sum_{i=1}^n x_{ij}  \\left[y_i - \\sum_{k \\neq j}^d \\beta_k x_{ik} - \\beta_j x_{ij}\\right]\n",
    "\\\\\n",
    "& = -  \\sum_{i=1}^n x_{ij} \\left[y_i - \\sum_{k \\neq j}^d \\beta_k x_{ik} \\right] +  \\beta_j \\sum_{i=1}^n (x_{ij})^2\n",
    "\\\\\n",
    "& \\triangleq - \\rho_j + \\beta_j z_j\n",
    "\\end{align*}\n",
    "\n",
    "where $\\rho_j=\\sum_{i=1}^n x_{ij} \\left[y_i - \\sum_{k \\neq j}^d \\beta_k x_{ik} \\right]$ and $z_j$ is the constant for normalization. If the features are normalized then $z_j$=1.\n",
    "\n",
    "Using the concept of subdifferential as the modulus function $|\\beta|$ isn't differentiable at $\\beta$=0, we get\n",
    "\n",
    "\\begin{equation*}\n",
    "\\frac{\\partial{}}{\\partial\\beta_j} \\lambda \\sum_{j=0}^d |\\beta_j|  =\n",
    "\\begin{cases}\n",
    "\\ - \\lambda \\ & \\text{if}\\ \\beta_j < 0 \\\\\n",
    "[ - \\lambda , \\lambda ] & \\text{if}\\ \\beta_j = 0 \\\\\n",
    "\\ \\ \\ \\ \\ \\lambda \\ & \\text{if}\\ \\beta_j > 0\n",
    "\\end{cases}\n",
    "\\end{equation*}\n"
   ]
  },
  {
   "cell_type": "markdown",
   "metadata": {
    "id": "8A94WmJSzreu"
   },
   "source": [
    "Combining the differential of two terms using Moreau-Rockafeller Theorem and equating the equation to zero to find the minimum, we obtain:\n",
    "\n",
    "\\begin{align*}\\partial_{\\beta_j} Cost_{lasso}(\\beta)  &= \\partial_{\\beta_j} RSS_{OLS}(\\beta) + \\partial_{\\beta_j} \\lambda | \\beta_j| \\\\\n",
    "0 & = -\\rho_j + \\beta_j z_j + \\partial_{\\beta_j} \\lambda | \\beta_j| \\\\\n",
    "0 & = \\begin{cases}-\\rho_j + \\beta_j z_j  - \\lambda & \\text{if}\\ \\beta_j < 0 \\\\\n",
    "[-\\rho_j  - \\lambda ,-\\rho_j + \\lambda ] & \\text{if}\\ \\beta_j = 0 \\\\\n",
    "-\\rho_j + \\beta_j z_j +  \\lambda  & \\text{if}\\ \\beta_j >0\n",
    "\\end{cases}\n",
    "\\end{align*}\n",
    "\n",
    "Solving the above equation, we get:\n",
    "\\begin{align*}\\beta_j = \\begin{cases}\\frac{\\rho_j + \\lambda}{z_j}  & \\text{for} \\ \\rho_j < - \\lambda \\\\\n",
    "0 & \\text{for} \\ - \\lambda \\leq \\rho_j \\leq \\lambda \\\\\n",
    "\\frac{\\rho_j - \\lambda}{z_j}  & \\text{for} \\ \\rho_j >\\lambda\n",
    "\\end{cases}\n",
    "\\end{align*}\n",
    "\n",
    "This is considered as soft thresholding function which optimizes the coordinates,\n",
    "$$\\beta_j=\\frac{1}{z_j}{\\text{S}(\\rho_j,\\lambda)}$$\n",
    "where $\\frac{1}{z_j}$=1 for normalized features."
   ]
  },
  {
   "cell_type": "code",
   "execution_count": null,
   "metadata": {
    "id": "aEwnzGhNLu8I"
   },
   "outputs": [],
   "source": [
    "import numpy as np\n",
    "import matplotlib.pyplot as plt"
   ]
  },
  {
   "cell_type": "code",
   "execution_count": null,
   "metadata": {
    "id": "KAM7J3KOEhC1"
   },
   "outputs": [],
   "source": [
    "alpha=1\n",
    "no_of_iterations=5000\n",
    "\n",
    "#Soft Thresholding to find the value of beta\n",
    "def soft_threshold(rho,lm):\n",
    "  if rho>lm:\n",
    "    return rho-lm\n",
    "  elif rho<-lm:\n",
    "    return rho+lm\n",
    "  else:\n",
    "    return 0\n",
    "\n",
    "#List comprehension to compare the soft threshold plot with OLS plot\n",
    "x_val=np.arange(-5,5)\n",
    "soft_value = [soft_threshold(item,1) for item in x_val]"
   ]
  },
  {
   "cell_type": "code",
   "execution_count": null,
   "metadata": {
    "colab": {
     "base_uri": "https://localhost:8080/",
     "height": 316
    },
    "executionInfo": {
     "elapsed": 3668,
     "status": "ok",
     "timestamp": 1596952338385,
     "user": {
      "displayName": "Jasmin Karki",
      "photoUrl": "https://lh3.googleusercontent.com/a-/AOh14Ghg3nFw3n9oncuMCv-Ekq2P2jY9FtYee9B2a_5I=s64",
      "userId": "13981372361842258837"
     },
     "user_tz": -345
    },
    "id": "awi0AwpOEB4c",
    "outputId": "8705ddeb-c96e-41a5-ea18-8ef4bec8cf14"
   },
   "outputs": [
    {
     "data": {
      "image/png": "[encoded data removed]",
      "text/plain": [
       "<Figure size 432x288 with 1 Axes>"
      ]
     },
     "metadata": {
      "needs_background": "light",
      "tags": []
     },
     "output_type": "display_data"
    },
    {
     "data": {
      "application/javascript": "\n    async function download(id, filename, size) {\n      if (!google.colab.kernel.accessAllowed) {\n        return;\n      }\n      const div = document.createElement('div');\n      const label = document.createElement('label');\n      label.textContent = `Downloading \"${filename}\": `;\n      div.appendChild(label);\n      const progress = document.createElement('progress');\n      progress.max = size;\n      div.appendChild(progress);\n      document.body.appendChild(div);\n\n      const buffers = [];\n      let downloaded = 0;\n\n      const channel = await google.colab.kernel.comms.open(id);\n      // Send a message to notify the kernel that we're ready.\n      channel.send({})\n\n      for await (const message of channel.messages) {\n        // Send a message to notify the kernel that we're ready.\n        channel.send({})\n        if (message.buffers) {\n          for (const buffer of message.buffers) {\n            buffers.push(buffer);\n            downloaded += buffer.byteLength;\n            progress.value = downloaded;\n          }\n        }\n      }\n      const blob = new Blob(buffers, {type: 'application/binary'});\n      const a = document.createElement('a');\n      a.href = window.URL.createObjectURL(blob);\n      a.download = filename;\n      div.appendChild(a);\n      a.click();\n      div.remove();\n    }\n  ",
      "text/plain": [
       "<IPython.core.display.Javascript object>"
      ]
     },
     "metadata": {
      "tags": []
     },
     "output_type": "display_data"
    },
    {
     "data": {
      "application/javascript": "download(\"download_5ded3922-ff2f-4ec6-abf3-6cdb98d5b27c\", \"soft_threshold.png\", 30549)",
      "text/plain": [
       "<IPython.core.display.Javascript object>"
      ]
     },
     "metadata": {
      "tags": []
     },
     "output_type": "display_data"
    }
   ],
   "source": [
    "plt.figure(figsize=(6,4))\n",
    "plt.title('Comparison of OLS and Soft Threshold')\n",
    "plt.plot(x_val,soft_value,label='Soft Threshold')\n",
    "plt.plot(x_val,x_val,label='Ordinary Least Square')\n",
    "plt.xlabel('$\\\\rho$ value')\n",
    "plt.ylabel('$\\\\beta$ value')\n",
    "plt.legend()\n",
    "plt.grid(True,linestyle='-')\n",
    "\n",
    "\n",
    "from google.colab import files\n",
    "plt.savefig(\"soft_threshold.png\", dpi=100)\n",
    "\n",
    "plt.show()\n",
    "files.download(\"soft_threshold.png\")"
   ]
  },
  {
   "cell_type": "markdown",
   "metadata": {
    "id": "EnQqw3ZfUXpM"
   },
   "source": [
    "The figure above is the comparison of OLS and Soft Threshold function. Soft thresholding operator tries to shrink both negative and positive coefficient values ($\\beta 's$) towards zero. We can see the straight line (in orange) being soft thresholded by $\\lambda$=1 (in blue). For $\\rho$ in the interval of $[-\\lambda,\\lambda]$, the $\\beta$ value is equal to zero. For $\\rho$ greater than $\\lambda$ or $\\rho<-\\lambda$, the $\\beta$ value are being shrinked towards zero."
   ]
  },
  {
   "cell_type": "markdown",
   "metadata": {
    "id": "CvbukoFnzrji"
   },
   "source": [
    "## Implementation on Real World Dataset\n",
    "\n",
    "For implementation of closed form Ridge Regression Equation we will use the [Boston House Prices Dataset](https://scikit-learn.org/stable/modules/generated/sklearn.datasets.load_boston.html).\n",
    "\n",
    "It is one of the datasets provided by sklearn. It has 506 instances with 13 numericals/categorical features of the Boston city. The *medv* variable is the target variable. It is the median value of owner-occupied homes per $1000."
   ]
  },
  {
   "cell_type": "markdown",
   "metadata": {
    "id": "1-aNQQV3d9z0"
   },
   "source": [
    "### Imports"
   ]
  },
  {
   "cell_type": "code",
   "execution_count": null,
   "metadata": {
    "id": "WWTEMIZdwC5n"
   },
   "outputs": [],
   "source": [
    "import numpy as np\n",
    "import pandas as pd\n",
    "import matplotlib as mpl\n",
    "from matplotlib import pyplot as plt\n",
    "from IPython.display import display, HTML"
   ]
  },
  {
   "cell_type": "code",
   "execution_count": null,
   "metadata": {
    "colab": {
     "base_uri": "https://localhost:8080/",
     "height": 204
    },
    "executionInfo": {
     "elapsed": 3647,
     "status": "ok",
     "timestamp": 1596952338387,
     "user": {
      "displayName": "Jasmin Karki",
      "photoUrl": "https://lh3.googleusercontent.com/a-/AOh14Ghg3nFw3n9oncuMCv-Ekq2P2jY9FtYee9B2a_5I=s64",
      "userId": "13981372361842258837"
     },
     "user_tz": -345
    },
    "id": "Zz5j6-ApeAR_",
    "outputId": "baaa77d4-46c0-4f8b-ec31-c77f553001f9"
   },
   "outputs": [
    {
     "data": {
      "text/html": [
       "<div>\n",
       "<style scoped>\n",
       "    .dataframe tbody tr th:only-of-type {\n",
       "        vertical-align: middle;\n",
       "    }\n",
       "\n",
       "    .dataframe tbody tr th {\n",
       "        vertical-align: top;\n",
       "    }\n",
       "\n",
       "    .dataframe thead th {\n",
       "        text-align: right;\n",
       "    }\n",
       "</style>\n",
       "<table border=\"1\" class=\"dataframe\">\n",
       "  <thead>\n",
       "    <tr style=\"text-align: right;\">\n",
       "      <th></th>\n",
       "      <th>CRIM</th>\n",
       "      <th>ZN</th>\n",
       "      <th>INDUS</th>\n",
       "      <th>CHAS</th>\n",
       "      <th>NOX</th>\n",
       "      <th>RM</th>\n",
       "      <th>AGE</th>\n",
       "      <th>DIS</th>\n",
       "      <th>RAD</th>\n",
       "      <th>TAX</th>\n",
       "      <th>PTRATIO</th>\n",
       "      <th>B</th>\n",
       "      <th>LSTAT</th>\n",
       "      <th>MEDV</th>\n",
       "    </tr>\n",
       "  </thead>\n",
       "  <tbody>\n",
       "    <tr>\n",
       "      <th>0</th>\n",
       "      <td>0.00632</td>\n",
       "      <td>18.0</td>\n",
       "      <td>2.31</td>\n",
       "      <td>0.0</td>\n",
       "      <td>0.538</td>\n",
       "      <td>6.575</td>\n",
       "      <td>65.2</td>\n",
       "      <td>4.0900</td>\n",
       "      <td>1.0</td>\n",
       "      <td>296.0</td>\n",
       "      <td>15.3</td>\n",
       "      <td>396.90</td>\n",
       "      <td>4.98</td>\n",
       "      <td>24.0</td>\n",
       "    </tr>\n",
       "    <tr>\n",
       "      <th>1</th>\n",
       "      <td>0.02731</td>\n",
       "      <td>0.0</td>\n",
       "      <td>7.07</td>\n",
       "      <td>0.0</td>\n",
       "      <td>0.469</td>\n",
       "      <td>6.421</td>\n",
       "      <td>78.9</td>\n",
       "      <td>4.9671</td>\n",
       "      <td>2.0</td>\n",
       "      <td>242.0</td>\n",
       "      <td>17.8</td>\n",
       "      <td>396.90</td>\n",
       "      <td>9.14</td>\n",
       "      <td>21.6</td>\n",
       "    </tr>\n",
       "    <tr>\n",
       "      <th>2</th>\n",
       "      <td>0.02729</td>\n",
       "      <td>0.0</td>\n",
       "      <td>7.07</td>\n",
       "      <td>0.0</td>\n",
       "      <td>0.469</td>\n",
       "      <td>7.185</td>\n",
       "      <td>61.1</td>\n",
       "      <td>4.9671</td>\n",
       "      <td>2.0</td>\n",
       "      <td>242.0</td>\n",
       "      <td>17.8</td>\n",
       "      <td>392.83</td>\n",
       "      <td>4.03</td>\n",
       "      <td>34.7</td>\n",
       "    </tr>\n",
       "    <tr>\n",
       "      <th>3</th>\n",
       "      <td>0.03237</td>\n",
       "      <td>0.0</td>\n",
       "      <td>2.18</td>\n",
       "      <td>0.0</td>\n",
       "      <td>0.458</td>\n",
       "      <td>6.998</td>\n",
       "      <td>45.8</td>\n",
       "      <td>6.0622</td>\n",
       "      <td>3.0</td>\n",
       "      <td>222.0</td>\n",
       "      <td>18.7</td>\n",
       "      <td>394.63</td>\n",
       "      <td>2.94</td>\n",
       "      <td>33.4</td>\n",
       "    </tr>\n",
       "    <tr>\n",
       "      <th>4</th>\n",
       "      <td>0.06905</td>\n",
       "      <td>0.0</td>\n",
       "      <td>2.18</td>\n",
       "      <td>0.0</td>\n",
       "      <td>0.458</td>\n",
       "      <td>7.147</td>\n",
       "      <td>54.2</td>\n",
       "      <td>6.0622</td>\n",
       "      <td>3.0</td>\n",
       "      <td>222.0</td>\n",
       "      <td>18.7</td>\n",
       "      <td>396.90</td>\n",
       "      <td>5.33</td>\n",
       "      <td>36.2</td>\n",
       "    </tr>\n",
       "  </tbody>\n",
       "</table>\n",
       "</div>"
      ],
      "text/plain": [
       "      CRIM    ZN  INDUS  CHAS    NOX  ...    TAX  PTRATIO       B  LSTAT  MEDV\n",
       "0  0.00632  18.0   2.31   0.0  0.538  ...  296.0     15.3  396.90   4.98  24.0\n",
       "1  0.02731   0.0   7.07   0.0  0.469  ...  242.0     17.8  396.90   9.14  21.6\n",
       "2  0.02729   0.0   7.07   0.0  0.469  ...  242.0     17.8  392.83   4.03  34.7\n",
       "3  0.03237   0.0   2.18   0.0  0.458  ...  222.0     18.7  394.63   2.94  33.4\n",
       "4  0.06905   0.0   2.18   0.0  0.458  ...  222.0     18.7  396.90   5.33  36.2\n",
       "\n",
       "[5 rows x 14 columns]"
      ]
     },
     "execution_count": 5,
     "metadata": {
      "tags": []
     },
     "output_type": "execute_result"
    }
   ],
   "source": [
    "# Importing the dataset.\n",
    "from sklearn.datasets import load_boston\n",
    "\n",
    "#Load the dataset\n",
    "boston_df=load_boston()\n",
    "\n",
    "#Create dataframe of dataset\n",
    "boston=pd.DataFrame(boston_df.data, columns= boston_df.feature_names)\n",
    "boston['MEDV']=boston_df.target\n",
    "\n",
    "#Print the first five samples\n",
    "boston.head()"
   ]
  },
  {
   "cell_type": "code",
   "execution_count": null,
   "metadata": {
    "id": "VYMc4bZSeKyY"
   },
   "outputs": [],
   "source": [
    "# We train the model with features other than MEDV as it is the target variable\n",
    "X=boston.drop(columns=['MEDV'])\n",
    "y=boston['MEDV'].values.reshape(-1,1)\n",
    "\n",
    "# Standardarization of the data i.e Mean=0, Standard Deviation=1\n",
    "X = (X - X.mean())/X.std()"
   ]
  },
  {
   "cell_type": "code",
   "execution_count": null,
   "metadata": {
    "colab": {
     "base_uri": "https://localhost:8080/",
     "height": 34
    },
    "executionInfo": {
     "elapsed": 3627,
     "status": "ok",
     "timestamp": 1596952338389,
     "user": {
      "displayName": "Jasmin Karki",
      "photoUrl": "https://lh3.googleusercontent.com/a-/AOh14Ghg3nFw3n9oncuMCv-Ekq2P2jY9FtYee9B2a_5I=s64",
      "userId": "13981372361842258837"
     },
     "user_tz": -345
    },
    "id": "HG3yk7OteL_h",
    "outputId": "2dfbea82-4957-4be9-e89f-236ce42343b1"
   },
   "outputs": [
    {
     "name": "stdout",
     "output_type": "stream",
     "text": [
      "No of samples: 506 and No of features: 14\n"
     ]
    }
   ],
   "source": [
    "# Bias/Intercept term to 1 for each samples\n",
    "X=np.c_[np.ones((len(X),1)),X]\n",
    "\n",
    "n = X.shape[0] # number of samples (rows)\n",
    "d = X.shape[1] # number of features (columns)\n",
    "print('No of samples:',n,'and No of features:',d)"
   ]
  },
  {
   "cell_type": "code",
   "execution_count": null,
   "metadata": {
    "colab": {
     "base_uri": "https://localhost:8080/",
     "height": 255
    },
    "executionInfo": {
     "elapsed": 3612,
     "status": "ok",
     "timestamp": 1596952338390,
     "user": {
      "displayName": "Jasmin Karki",
      "photoUrl": "https://lh3.googleusercontent.com/a-/AOh14Ghg3nFw3n9oncuMCv-Ekq2P2jY9FtYee9B2a_5I=s64",
      "userId": "13981372361842258837"
     },
     "user_tz": -345
    },
    "id": "q_hWtVjdeMIt",
    "outputId": "e36ea1c9-0cd6-4d52-a455-3958e3abf4a6"
   },
   "outputs": [
    {
     "name": "stdout",
     "output_type": "stream",
     "text": [
      "[[ 1.76405235]\n",
      " [ 0.40015721]\n",
      " [ 0.97873798]\n",
      " [ 2.2408932 ]\n",
      " [ 1.86755799]\n",
      " [-0.97727788]\n",
      " [ 0.95008842]\n",
      " [-0.15135721]\n",
      " [-0.10321885]\n",
      " [ 0.4105985 ]\n",
      " [ 0.14404357]\n",
      " [ 1.45427351]\n",
      " [ 0.76103773]\n",
      " [ 0.12167502]]\n"
     ]
    }
   ],
   "source": [
    "def initialize_betas(X, y):\n",
    "  np.random.seed(0)\n",
    "  betas = np.random.randn(d,1)\n",
    "  return betas\n",
    "\n",
    "betas = initialize_betas(X, y)\n",
    "print(betas)"
   ]
  },
  {
   "cell_type": "markdown",
   "metadata": {
    "id": "m9M9SeFBfGKT"
   },
   "source": [
    "We calculate the effect of one variable on all other variables in coordinate descent problem. So, we select a variable and see how it affects other variables.\n"
   ]
  },
  {
   "cell_type": "markdown",
   "metadata": {
    "id": "pUDe8D_pf_mI"
   },
   "source": [
    "## Coordinate Descent Update Rule\n",
    "\n",
    "\n",
    "${\\hspace{5cm}}$\n",
    "$\\text{Repeat until convergence }$\\{\n",
    "\\begin{align*}\\\\\n",
    "&\\text{For j}=0,1,...,d\\\\\n",
    "&\\text{Calculate}\\ \\rho_j = \\sum_{i=1}^n x_{ij}  (y_i  - \\sum_{k \\neq j}^d \\beta_k x_{ik} )\\\\\n",
    "&\\text{Calculate}\\ z_j = \\sum_{i=1}^n (x_j)^2\\\\\n",
    "&\\text{Update}\\ \\beta_j = \\frac{1}{z_j} S(\\rho_j, \\lambda)\\\\\n",
    "\\end{align*}\n",
    "${\\hspace{8cm}}\\}$\n",
    "\n",
    "\n"
   ]
  },
  {
   "cell_type": "code",
   "execution_count": null,
   "metadata": {
    "id": "dPEMVPPKfxxK"
   },
   "outputs": [],
   "source": [
    "#Coordinate Descent Function\n",
    "\n",
    "#Create a coordinate descent function accepting X, y, number of iterations and lambda\n",
    "def coordinate_descent(X,y,no_of_iteration,lm):\n",
    "\n",
    "  #Run the loop till the number of iterations\n",
    "  for iter in range(no_of_iteration):\n",
    "\n",
    "    # Looping to update each beta\n",
    "    for j in range(0,len(betas)):\n",
    "\n",
    "      #Create a temporary beta for executing k not equals j operation\n",
    "      temp_beta=betas.reshape(-1,1)\n",
    "      #To ignore the beta value of specified j\n",
    "      temp_beta[j]=0.0\n",
    "      #Rho calculation\n",
    "      oper = (y - np.dot(X, temp_beta)).reshape(-1,1)\n",
    "      rho= np.dot(X[:,j].T,oper)\n",
    "      #Lambda value\n",
    "      lamda=lm\n",
    "\n",
    "      #Compute z_j term\n",
    "      z_j=np.square(X[:,j]).sum()\n",
    "\n",
    "      #Call softmax function and divide it by z_j term\n",
    "      betas[j] = soft_threshold(rho,lamda)/z_j\n",
    "\n",
    "  return betas"
   ]
  },
  {
   "cell_type": "code",
   "execution_count": null,
   "metadata": {
    "id": "34rTlxd-xoEQ"
   },
   "outputs": [],
   "source": [
    "# Formatting to display 2 decimal places only\n",
    "pd.options.display.float_format = \"{:,.2f}\".format"
   ]
  },
  {
   "cell_type": "code",
   "execution_count": null,
   "metadata": {
    "colab": {
     "base_uri": "https://localhost:8080/",
     "height": 79
    },
    "executionInfo": {
     "elapsed": 4033,
     "status": "ok",
     "timestamp": 1596952338837,
     "user": {
      "displayName": "Jasmin Karki",
      "photoUrl": "https://lh3.googleusercontent.com/a-/AOh14Ghg3nFw3n9oncuMCv-Ekq2P2jY9FtYee9B2a_5I=s64",
      "userId": "13981372361842258837"
     },
     "user_tz": -345
    },
    "id": "_rvGPt5xsDMc",
    "outputId": "f91c1e20-57cb-4a08-e99c-29b088973ccb"
   },
   "outputs": [
    {
     "data": {
      "text/html": [
       "<div>\n",
       "<style scoped>\n",
       "    .dataframe tbody tr th:only-of-type {\n",
       "        vertical-align: middle;\n",
       "    }\n",
       "\n",
       "    .dataframe tbody tr th {\n",
       "        vertical-align: top;\n",
       "    }\n",
       "\n",
       "    .dataframe thead th {\n",
       "        text-align: right;\n",
       "    }\n",
       "</style>\n",
       "<table border=\"1\" class=\"dataframe\">\n",
       "  <thead>\n",
       "    <tr style=\"text-align: right;\">\n",
       "      <th></th>\n",
       "      <th>BIAS</th>\n",
       "      <th>CRIM</th>\n",
       "      <th>ZN</th>\n",
       "      <th>INDUS</th>\n",
       "      <th>CHAS</th>\n",
       "      <th>NOX</th>\n",
       "      <th>RM</th>\n",
       "      <th>AGE</th>\n",
       "      <th>DIS</th>\n",
       "      <th>RAD</th>\n",
       "      <th>TAX</th>\n",
       "      <th>PTRATIO</th>\n",
       "      <th>B</th>\n",
       "      <th>LSTAT</th>\n",
       "    </tr>\n",
       "  </thead>\n",
       "  <tbody>\n",
       "    <tr>\n",
       "      <th>Beta value</th>\n",
       "      <td>22.51</td>\n",
       "      <td>-0.87</td>\n",
       "      <td>1.00</td>\n",
       "      <td>0.00</td>\n",
       "      <td>0.68</td>\n",
       "      <td>-1.93</td>\n",
       "      <td>2.70</td>\n",
       "      <td>0.00</td>\n",
       "      <td>-3.00</td>\n",
       "      <td>2.33</td>\n",
       "      <td>-1.76</td>\n",
       "      <td>-2.02</td>\n",
       "      <td>0.83</td>\n",
       "      <td>-3.73</td>\n",
       "    </tr>\n",
       "  </tbody>\n",
       "</table>\n",
       "</div>"
      ],
      "text/plain": [
       "            BIAS  CRIM   ZN  INDUS  CHAS  ...  RAD   TAX  PTRATIO    B  LSTAT\n",
       "Beta value 22.51 -0.87 1.00   0.00  0.68  ... 2.33 -1.76    -2.02 0.83  -3.73\n",
       "\n",
       "[1 rows x 14 columns]"
      ]
     },
     "execution_count": 11,
     "metadata": {
      "tags": []
     },
     "output_type": "execute_result"
    }
   ],
   "source": [
    "#Run coordinate descent with X, y, number of iterations and lambda value\n",
    "betas = coordinate_descent(X,y,1000,10)\n",
    "\n",
    "# The beta values corresponding to the column\n",
    "index=['BIAS','CRIM', 'ZN', 'INDUS', 'CHAS', 'NOX', 'RM', 'AGE', 'DIS', 'RAD',\n",
    "       'TAX', 'PTRATIO', 'B', 'LSTAT']\n",
    "pd.DataFrame(betas,columns=['Beta value'],index=index).T"
   ]
  },
  {
   "cell_type": "markdown",
   "metadata": {
    "id": "5zFCwTENtVa-"
   },
   "source": [
    "We implemented the coordinate descent and found that the model reduced some coefficients to zero. This property of Lasso regression by which it sets less significant exactly equals to zero is called 'Feature Selection'. This can be visualized in the figure below. We can see that on using LASSO regression, the coefficients of some features are reduced to zero."
   ]
  },
  {
   "cell_type": "markdown",
   "metadata": {
    "id": "uJtxL8dxj1v8"
   },
   "source": [
    "\n",
    "<figure align=\"center\">\n",
    "       <img src=\"https://i.postimg.cc/N0J7TXvJ/ols-vs-lasso-coefficients.png\" height=\"300\" width=\"450\">\n",
    "</figure>\n",
    "\n",
    "\n"
   ]
  },
  {
   "cell_type": "markdown",
   "metadata": {
    "id": "xlEKIi4Ykz94"
   },
   "source": [
    "## Key Takeaways\n",
    "1. Lasso Regression penalizies every coefficients equally due to the modulus of coefficent values in penalty term.\n",
    "2. $L_1$ norm is Diamond shaped in 2D space and Octahedron shaped in 3D space.\n",
    "3. It performs coefficient shrinkage and feature selection by reducing the coefficients of less significant features exactly equal to zero."
   ]
  }
 ],
 "metadata": {
  "colab": {
   "provenance": []
  },
  "kernelspec": {
   "display_name": "Python 3",
   "name": "python3"
  }
 },
 "nbformat": 4,
 "nbformat_minor": 0
}
