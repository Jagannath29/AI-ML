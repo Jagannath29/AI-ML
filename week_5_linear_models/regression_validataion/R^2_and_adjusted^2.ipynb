{
 "cells": [
  {
   "cell_type": "markdown",
   "metadata": {
    "id": "K9zjsQKuIU8O"
   },
   "source": [
    "# $R^2$ and Adjusted $R^2$\n",
    "\n",
    "## Prerequisities\n",
    "\n",
    "\n",
    "- Performance metrics of Linear Regression."
   ]
  },
  {
   "cell_type": "markdown",
   "metadata": {
    "id": "eEa_e7c3IVHh"
   },
   "source": [
    "## Learning Objectives\n",
    "\n",
    "After reading this notebook, students should be able to:\n",
    "\n",
    "- Understand $R^2$ and implement it on real world dataset.\n",
    "\n",
    "- Understand the pitfalls of $R^2$ and motivation for adjusted $R^2$ denoted by $\\bar{R^2}$.\n",
    "\n",
    "- Compare and contrast the results from $R^2$ and $\\bar{R^2}$."
   ]
  },
  {
   "cell_type": "markdown",
   "metadata": {
    "id": "0xpJrbuNKDJw"
   },
   "source": [
    "##  $R^2$ or Coefficient of Determination"
   ]
  },
  {
   "cell_type": "markdown",
   "metadata": {
    "id": "misrnvseWoWz"
   },
   "source": [
    "We have already gone through the several performance metrics in unit 0 contents such as Residual Sum of Squares(RSS), Mean Squared Error(MSE), Root Mean Squared Error(RMSE) and Mean Absolute Error(MAE). **But all these metrics have one common fault: a good value of these metrics**. What is a good value for RSS?. There is no definitive answer for this. Similar is the case with the other metrics stated above. This is due to the fact that these metrics are not limited to a particular range of values. So metrics like RSS, MSE, RMSE and MAE are not quite enought to evaluate the performance of a model. So there is a need for a better metric using which you can determine how good a model is performing. This is where $R^2$ comes into play.\n",
    "\n",
    "\n",
    "The $R^{2}$ value is used to determine how differences in one variable can be explained by differences in a second variable. For instance, a person's height can be useful for explaining their weight. It is used to determine how strong of a linear relationship exists and is always in the range of 0.0 to 1.0. Note that the $R^{2}$ value is not an error measure; larger $R^{2}$ values are generally better.\n",
    "\n",
    "Let's be more specific in terms of linear regression. $R^{2}$ is the proportion of variance in the dependent variable, $y$ that is explainable by the input independent variables, $x$'s. We calculate $R^2$ in the following way:\n",
    "\n",
    "Suppose we have $n$ observed values for the output variable, $\\mathbf{y}$ as ($y_1, y_2, \\dots, y_n$). And the predicted values for these observed values are, $\\hat{\\mathbf{y}}$ as ($\\hat{y_1}, \\hat{y_2}, \\dots, \\hat{y_n}$). There is an error or residual which is denoted by $\\mathbf{\\epsilon}$ as ($\\epsilon_1, \\epsilon_2, \\dots, \\epsilon_n$).\n",
    "\n",
    "\n",
    "The mean value for the observations of output variable is:\n",
    "\n",
    "$$\\bar{y} = \\frac{1}{n}\\sum_{i=1}^{n} y_i$$\n",
    "\n",
    "Now, we will see the variability of the dataset using the _sum of squares_ formulae as:\n",
    "\n",
    "- Variance offered by the total data can be presented as:\n",
    "\n",
    "$$\n",
    " SS_{tot} = \\sum_{i=1}^{n} (y_i-\\bar{y})^2......(1)$$\n",
    "\n",
    "- Variance offered by fitted regression line can be presented as:\n",
    "\n",
    "$$ SS_{reg} = \\sum_{i=1}^{n} (\\hat{y_i}-\\bar{y})^2......(2)$$\n",
    "\n",
    "- Residual Sum of Squares or Sum of Squared Errors can be presented as:\n",
    "\n",
    "$$SS_{res} = \\sum_{i=1}^{n} ({y_i}-\\hat{y_i})^2.......(3)$$\n",
    "\n",
    "\n",
    "Now, coefficient of determination, $R^2$ is calculated by:\n",
    "\n",
    "$$R^2 = 1 - \\frac{SS_{res}}{SS_{tot}}......(4)$$\n",
    "\n",
    "\n",
    "If you take a look at eq. $(4)$ you can see that $R^2$ is actually comparing two models: a regression model and a naive model that always predicts average value of $y$. In eq. $4,\\ \\ SS_{res}$ is the sum of squared residuals which measures the squared distance between the predictions of the regression model to their actual values. Similarly, $SS_{tot}$ is the total sum of squares or the variance which measures the squared distance between the actual values and their average. This is equivalent to the sum of squared residual of a model that always predicts the average.\n",
    "\n",
    "If the regression model’s predictions are better than the average predictions, that is, $SS_{res} < SS_{tot}$, then $R^2 \\rightarrow 1$. And If the regression model’s predictions are worse than the average predictions, that is, $SS_{res} > SS_{tot}$, then $R^2 \\rightarrow 0$.\n",
    "\n",
    "\n",
    "\n",
    "\n"
   ]
  },
  {
   "cell_type": "markdown",
   "metadata": {
    "id": "W8XOqo3lxXqh"
   },
   "source": [
    "From equation ($1$) , ($2$) and ($3$) we can write:\n",
    "\n",
    "$$SS_{tot} = SS_{reg} + SS_{res}$$\n",
    "\n",
    "So, we can also write $R^2$ as:\n",
    "\n",
    "$$R^2 = \\frac{SS_{reg}}{SS_{tot}}$$\n",
    "\n",
    "But, we will use equation ($\\text{4}$) as the standard formulae for $R^2$. From this formulae, it is clear that if all the predictions for output variables are equal to the observations, $SS_{res}$ is $0$ and $R^2$ is 1. This is the best case that we can ever experience.\n",
    "\n",
    "Similarly, if all the predictions for output variable are equal to the mean of the observations ($\\bar{y}$) then $SS_{tot}$ is equal to $SS_{res}$ and ultimately $R^2$ =$0$. Negative values for $R^2$ is also possible if the regression line fits the data worse.\n",
    "\n",
    "Now, we will see $R^2$ score on the real world dataset and will interpret the results."
   ]
  },
  {
   "cell_type": "markdown",
   "metadata": {
    "id": "wgaOrPvPVmOd"
   },
   "source": [
    "### Implementation\n",
    "\n",
    "Scikit-Learn's [metrics](https://scikit-learn.org/stable/modules/classes.html#module-sklearn.metrics) package has several metrics for both [classification](https://scikit-learn.org/stable/modules/classes.html#classification-metrics) and [regression](https://scikit-learn.org/stable/modules/classes.html#regression-metrics).The [`r2_score`](https://scikit-learn.org/stable/modules/generated/sklearn.metrics.r2_score.html#sklearn.metrics.r2_score) function implements the $R^{2}$ value."
   ]
  },
  {
   "cell_type": "markdown",
   "metadata": {
    "id": "8UctPo-cZySQ"
   },
   "source": [
    "### Imports"
   ]
  },
  {
   "cell_type": "code",
   "execution_count": null,
   "metadata": {
    "id": "EMREuSOUZ1an"
   },
   "outputs": [],
   "source": [
    "import numpy as np\n",
    "import matplotlib as mpl\n",
    "from matplotlib import pyplot as plt\n",
    "import pandas as pd\n",
    "from sklearn.linear_model import LinearRegression\n",
    "from sklearn.metrics import mean_squared_error, median_absolute_error, r2_score\n",
    "\n",
    "from IPython.display import display, HTML"
   ]
  },
  {
   "cell_type": "markdown",
   "metadata": {
    "id": "fuHYwYh1Z5xg"
   },
   "source": [
    "### Advertising Dataset\n",
    "\n",
    "A popular introductory statistics book, [An Introduction to Statistical Learning](https://www.statlearning.com), provides several [datasets](https://www.statlearning.com/resources-second-edition) on their website. We are going to be using the advertising dataset for our next example. This dataset can be downloaded from the following address:\n",
    "  * https://www.statlearning.com/s/Advertising.csv"
   ]
  },
  {
   "cell_type": "code",
   "execution_count": null,
   "metadata": {
    "colab": {
     "base_uri": "https://localhost:8080/",
     "height": 197
    },
    "executionInfo": {
     "elapsed": 2043,
     "status": "ok",
     "timestamp": 1604916244346,
     "user": {
      "displayName": "Rojen B.N Pradhan",
      "photoUrl": "https://lh3.googleusercontent.com/a-/AOh14Ggzj8VqdRTRq7qGxhXZEkej0NHjZ0_6JfVRU8BU=s64",
      "userId": "11019520446215967419"
     },
     "user_tz": -345
    },
    "id": "PnWo4n97Z3e1",
    "outputId": "e1e95b27-cadb-4302-9cf8-978e449673cb"
   },
   "outputs": [
    {
     "data": {
      "text/html": [
       "<div>\n",
       "<style scoped>\n",
       "    .dataframe tbody tr th:only-of-type {\n",
       "        vertical-align: middle;\n",
       "    }\n",
       "\n",
       "    .dataframe tbody tr th {\n",
       "        vertical-align: top;\n",
       "    }\n",
       "\n",
       "    .dataframe thead th {\n",
       "        text-align: right;\n",
       "    }\n",
       "</style>\n",
       "<table border=\"1\" class=\"dataframe\">\n",
       "  <thead>\n",
       "    <tr style=\"text-align: right;\">\n",
       "      <th></th>\n",
       "      <th>TV</th>\n",
       "      <th>radio</th>\n",
       "      <th>newspaper</th>\n",
       "      <th>sales</th>\n",
       "    </tr>\n",
       "  </thead>\n",
       "  <tbody>\n",
       "    <tr>\n",
       "      <th>1</th>\n",
       "      <td>230.1</td>\n",
       "      <td>37.8</td>\n",
       "      <td>69.2</td>\n",
       "      <td>22.1</td>\n",
       "    </tr>\n",
       "    <tr>\n",
       "      <th>2</th>\n",
       "      <td>44.5</td>\n",
       "      <td>39.3</td>\n",
       "      <td>45.1</td>\n",
       "      <td>10.4</td>\n",
       "    </tr>\n",
       "    <tr>\n",
       "      <th>3</th>\n",
       "      <td>17.2</td>\n",
       "      <td>45.9</td>\n",
       "      <td>69.3</td>\n",
       "      <td>9.3</td>\n",
       "    </tr>\n",
       "    <tr>\n",
       "      <th>4</th>\n",
       "      <td>151.5</td>\n",
       "      <td>41.3</td>\n",
       "      <td>58.5</td>\n",
       "      <td>18.5</td>\n",
       "    </tr>\n",
       "    <tr>\n",
       "      <th>5</th>\n",
       "      <td>180.8</td>\n",
       "      <td>10.8</td>\n",
       "      <td>58.4</td>\n",
       "      <td>12.9</td>\n",
       "    </tr>\n",
       "  </tbody>\n",
       "</table>\n",
       "</div>"
      ],
      "text/plain": [
       "      TV  radio  newspaper  sales\n",
       "1  230.1   37.8       69.2   22.1\n",
       "2   44.5   39.3       45.1   10.4\n",
       "3   17.2   45.9       69.3    9.3\n",
       "4  151.5   41.3       58.5   18.5\n",
       "5  180.8   10.8       58.4   12.9"
      ]
     },
     "execution_count": 2,
     "metadata": {
      "tags": []
     },
     "output_type": "execute_result"
    }
   ],
   "source": [
    "data_path = \"https://www.statlearning.com/s/Advertising.csv\"\n",
    "\n",
    "# Read the CSV data from the link\n",
    "data_df = pd.read_csv(data_path,index_col=0)\n",
    "\n",
    "# Print out first 5 samples from the DataFrame\n",
    "data_df.head()"
   ]
  },
  {
   "cell_type": "code",
   "execution_count": null,
   "metadata": {
    "id": "sBbiF__KaYLG"
   },
   "outputs": [],
   "source": [
    "results = {\n",
    "\n",
    "    \"R Squared\":list()\n",
    "}\n",
    "linear_regression = LinearRegression()\n",
    "y_true = data_df[[\"sales\"]]\n",
    "\n",
    "############\n",
    "# TV\n",
    "############\n",
    "linear_regression.fit(data_df[[\"TV\"]], data_df[[\"sales\"]])\n",
    "\n",
    "y_pred = linear_regression.predict( data_df[[\"TV\"]] )\n",
    "results[\"R Squared\"].append( r2_score(y_true, y_pred) )\n",
    "\n",
    "############\n",
    "# RADIO\n",
    "############\n",
    "linear_regression.fit(data_df[[\"radio\"]], data_df[[\"sales\"]])\n",
    "\n",
    "y_pred = linear_regression.predict( data_df[[\"radio\"]] )\n",
    "results[\"R Squared\"].append( r2_score(y_true, y_pred) )\n",
    "\n",
    "############\n",
    "# newspaper\n",
    "############\n",
    "linear_regression.fit(data_df[[\"newspaper\"]], data_df[[\"sales\"]])\n",
    "\n",
    "y_pred = linear_regression.predict( data_df[[\"newspaper\"]] )\n",
    "results[\"R Squared\"].append( r2_score(y_true, y_pred) )\n",
    "\n",
    "############\n",
    "# TV, radio\n",
    "############\n",
    "linear_regression.fit(data_df[[\"TV\", \"radio\"]], data_df[[\"sales\"]])\n",
    "\n",
    "y_pred = linear_regression.predict( data_df[[\"TV\", \"radio\"]] )\n",
    "results[\"R Squared\"].append( r2_score(y_true, y_pred) )\n",
    "\n",
    "############\n",
    "# TV, radio, newspaper\n",
    "############\n",
    "linear_regression.fit(data_df[[\"TV\", \"radio\", \"newspaper\"]], data_df[[\"sales\"]])\n",
    "\n",
    "y_pred = linear_regression.predict( data_df[[\"TV\", \"radio\", \"newspaper\"]] )\n",
    "results[\"R Squared\"].append( r2_score(y_true, y_pred) )"
   ]
  },
  {
   "cell_type": "markdown",
   "metadata": {
    "id": "yfy8xTeka7hk"
   },
   "source": [
    "### Interpreting Results\n"
   ]
  },
  {
   "cell_type": "code",
   "execution_count": null,
   "metadata": {
    "colab": {
     "base_uri": "https://localhost:8080/",
     "height": 77
    },
    "executionInfo": {
     "elapsed": 2030,
     "status": "ok",
     "timestamp": 1604916244357,
     "user": {
      "displayName": "Rojen B.N Pradhan",
      "photoUrl": "https://lh3.googleusercontent.com/a-/AOh14Ggzj8VqdRTRq7qGxhXZEkej0NHjZ0_6JfVRU8BU=s64",
      "userId": "11019520446215967419"
     },
     "user_tz": -345
    },
    "id": "2GyKKUDRaeiy",
    "outputId": "54fed038-e12e-41eb-828a-8270ca37406f"
   },
   "outputs": [
    {
     "data": {
      "text/html": [
       "<div>\n",
       "<style scoped>\n",
       "    .dataframe tbody tr th:only-of-type {\n",
       "        vertical-align: middle;\n",
       "    }\n",
       "\n",
       "    .dataframe tbody tr th {\n",
       "        vertical-align: top;\n",
       "    }\n",
       "\n",
       "    .dataframe thead th {\n",
       "        text-align: right;\n",
       "    }\n",
       "</style>\n",
       "<table border=\"1\" class=\"dataframe\">\n",
       "  <thead>\n",
       "    <tr style=\"text-align: right;\">\n",
       "      <th></th>\n",
       "      <th>TV</th>\n",
       "      <th>radio</th>\n",
       "      <th>newspaper</th>\n",
       "      <th>TV + radio</th>\n",
       "      <th>TV + radio + newspaper</th>\n",
       "    </tr>\n",
       "  </thead>\n",
       "  <tbody>\n",
       "    <tr>\n",
       "      <th>R Squared</th>\n",
       "      <td>0.611875</td>\n",
       "      <td>0.332032</td>\n",
       "      <td>0.05212</td>\n",
       "      <td>0.897194</td>\n",
       "      <td>0.897211</td>\n",
       "    </tr>\n",
       "  </tbody>\n",
       "</table>\n",
       "</div>"
      ],
      "text/plain": [
       "                 TV     radio  newspaper  TV + radio  TV + radio + newspaper\n",
       "R Squared  0.611875  0.332032    0.05212    0.897194                0.897211"
      ]
     },
     "metadata": {
      "tags": []
     },
     "output_type": "display_data"
    }
   ],
   "source": [
    "index = [\"TV\", \"radio\", \"newspaper\", \"TV + radio\", \"TV + radio + newspaper\"]\n",
    "r2_df = pd.DataFrame(results, index=index).transpose()\n",
    "display(r2_df)"
   ]
  },
  {
   "cell_type": "markdown",
   "metadata": {
    "id": "fzxOwRNJa5t1"
   },
   "source": [
    "\n",
    "Among three simple linear regression models, the $R^{2}$ value shows that the TV model is probably the best. For the multiple linear regression model that uses the TV and radio features seems to perform better than the three simple linear regression models. Observe that the model that uses the TV, radio, and newspaper features seems to be the best as it has the highest $R^2$ score. This is most likely due to overfitting  which might have been caused by considering the newspaper feature that seemed to be independent of our target variable sales, and so this model should be ignored."
   ]
  },
  {
   "cell_type": "markdown",
   "metadata": {
    "id": "2ZaofX-zbfQN"
   },
   "source": [
    "From the above results, we can see that $R^2$ or coefficient of determination increases with the increase in number of features. The model with highest number of features will have the largest $R^2$ score and this score monotonically increases with the addition of more features. But, adding more features to linear regression model is always not good. There can be high chances of ovefitting and also it becomes computationally uneasy. So, selecting a model with highest $R^2$ is always not a good idea. We need a better measure to evaluate the performance. For that, we have Adjusted $R^2$.  "
   ]
  },
  {
   "cell_type": "markdown",
   "metadata": {
    "id": "QBcrPZxwbZvK"
   },
   "source": [
    "## Adjusted $R^2$ or  Adjusted Coefficient of Determination\n",
    "\n",
    "The explanation of adjusted $R^2$ is almost similar to $R^2$, with one difference being that is, it penalises itself for adding a feature. Adjusted $R^2$ is denoted by $\\bar{R^2}$, which is pronounced as R bar squared. It takes into account the number of explanatory variables denoted by $d$ relative to the number of observations or data points, $n$. Adjusted $R^2$ can be calculated as:\n",
    "\n",
    "$$\\bar{R^2} = 1-\\frac{SS_{res} / {(n-d-1)}}{SS_{tot} / {(n-1)}}$$\n",
    "\n",
    "Or, we can also write $\\bar{R^2}$ in the form of $R^2$ as:\n",
    "\n",
    "$$\\bar{R^2} = 1- (1-R^2)\\frac{n-1}{n-d-1}$$\n",
    "\n",
    "\n",
    "Here, ($n-1$) is the degrees of freedom that encounters the population variance of dependent output variable whereas ($n-d-1$) is the degrees of freedom that encounters the population variance or error. Contrast to $R^2$, adjusted $R^2$ or $\\hat{R^2}$ increases if and only if the increase in $R^2$ (including the new independent input variable) is more than one would expect to see by chance.\n",
    "\n",
    "Now, we will see $\\bar{R^2}$ score on the same Advertising dataset and interpret the results."
   ]
  },
  {
   "cell_type": "markdown",
   "metadata": {
    "id": "cTsr0kPTAABG"
   },
   "source": [
    "## Implementation\n",
    "\n",
    "Like earlier, we will also implement adjusted $R^2$ on the same Advertising dataset."
   ]
  },
  {
   "cell_type": "code",
   "execution_count": null,
   "metadata": {
    "id": "uMGtRhKXbemS"
   },
   "outputs": [],
   "source": [
    "results = {\n",
    "\n",
    "    \"Adjusted R Squared\":list()\n",
    "}\n",
    "\n",
    "## Calculating Adjusted r2 from r2 score\n",
    "def adjusted_r2(r2, n, d):\n",
    "  adj_r2 = 1-((1-r2)*(n-1)/(n-d-1))\n",
    "  results[\"Adjusted R Squared\"].append(adj_r2)\n"
   ]
  },
  {
   "cell_type": "code",
   "execution_count": null,
   "metadata": {
    "id": "9vssH6pvAZUd"
   },
   "outputs": [],
   "source": [
    "\n",
    "############\n",
    "# TV\n",
    "############\n",
    "adjusted_r2(r2_df.iloc[0, :]['TV'], 200, 1)\n",
    "\n",
    "\n",
    "############\n",
    "# radio\n",
    "############\n",
    "adjusted_r2(r2_df.iloc[0, :]['radio'], 200, 1)\n",
    "\n",
    "############\n",
    "# newspaper\n",
    "############\n",
    "adjusted_r2(r2_df.iloc[0, :]['newspaper'], 200, 1)\n",
    "\n",
    "\n",
    "############\n",
    "# TV, radio\n",
    "############\n",
    "adjusted_r2(r2_df.iloc[0, :]['TV + radio'], 200, 2)\n",
    "\n",
    "\n",
    "############\n",
    "# TV, radio, newspaper\n",
    "############\n",
    "adjusted_r2(r2_df.iloc[0, :]['TV + radio + newspaper'], 200, 3)\n",
    "\n"
   ]
  },
  {
   "cell_type": "markdown",
   "metadata": {
    "id": "__AS3FnatmU1"
   },
   "source": [
    "## Interpreting Results"
   ]
  },
  {
   "cell_type": "code",
   "execution_count": null,
   "metadata": {
    "colab": {
     "base_uri": "https://localhost:8080/",
     "height": 77
    },
    "executionInfo": {
     "elapsed": 2017,
     "status": "ok",
     "timestamp": 1604916244364,
     "user": {
      "displayName": "Rojen B.N Pradhan",
      "photoUrl": "https://lh3.googleusercontent.com/a-/AOh14Ggzj8VqdRTRq7qGxhXZEkej0NHjZ0_6JfVRU8BU=s64",
      "userId": "11019520446215967419"
     },
     "user_tz": -345
    },
    "id": "Xn63_3zzBx9s",
    "outputId": "02c778dc-22a2-47b0-a5bd-fcdaa8161738"
   },
   "outputs": [
    {
     "data": {
      "text/html": [
       "<div>\n",
       "<style scoped>\n",
       "    .dataframe tbody tr th:only-of-type {\n",
       "        vertical-align: middle;\n",
       "    }\n",
       "\n",
       "    .dataframe tbody tr th {\n",
       "        vertical-align: top;\n",
       "    }\n",
       "\n",
       "    .dataframe thead th {\n",
       "        text-align: right;\n",
       "    }\n",
       "</style>\n",
       "<table border=\"1\" class=\"dataframe\">\n",
       "  <thead>\n",
       "    <tr style=\"text-align: right;\">\n",
       "      <th></th>\n",
       "      <th>TV</th>\n",
       "      <th>radio</th>\n",
       "      <th>newspaper</th>\n",
       "      <th>TV + radio</th>\n",
       "      <th>TV + radio + newspaper</th>\n",
       "    </tr>\n",
       "  </thead>\n",
       "  <tbody>\n",
       "    <tr>\n",
       "      <th>Adjusted R Squared</th>\n",
       "      <td>0.609915</td>\n",
       "      <td>0.328659</td>\n",
       "      <td>0.047333</td>\n",
       "      <td>0.896151</td>\n",
       "      <td>0.895637</td>\n",
       "    </tr>\n",
       "  </tbody>\n",
       "</table>\n",
       "</div>"
      ],
      "text/plain": [
       "                          TV     radio  ...  TV + radio  TV + radio + newspaper\n",
       "Adjusted R Squared  0.609915  0.328659  ...    0.896151                0.895637\n",
       "\n",
       "[1 rows x 5 columns]"
      ]
     },
     "metadata": {
      "tags": []
     },
     "output_type": "display_data"
    }
   ],
   "source": [
    "index = [\"TV\", \"radio\", \"newspaper\", \"TV + radio\", \"TV + radio + newspaper\"]\n",
    "adjusstedr2_df = pd.DataFrame(results, index=index).transpose()\n",
    "display(adjusstedr2_df)"
   ]
  },
  {
   "cell_type": "markdown",
   "metadata": {
    "id": "uYBlNlnEtpw8"
   },
   "source": [
    "Here are the adjusted $R^2$ for each of the input sets. For simple linear regression, _TV_ as input has the highest adjusted $R^2$, so it is to be chosen if we want simple linear regression. Similarly, we see that with the inputs as _TV_ and _radio_, the adjusted $R^2$ increases to high value. Increasing one independent variable has increased adjusted $R^2$ too, so this feature adds a lot to fit the data points. Similarly, when we increase another independent input variable, _newspaper_, the adjusted $R^2$ decreases by a little. Unlike $R^2$, adjusted $R^2$ compensates for the addition of variables and only increases if the new predictor enhances the model above what would be obtained by probability. Hence, if we have to select the best model, then it would be the one with inputs as _TV_ and _radio_, which has the highest adjusted $R^2$."
   ]
  },
  {
   "cell_type": "markdown",
   "metadata": {
    "id": "mGsSC2_jCIDZ"
   },
   "source": [
    "## Key Takeaways\n",
    "\n",
    "* While using metrics  like RSS, MSE, RMSE and MAE, there is no definite value that can be considered a good value.\n",
    "\n",
    "* R-squared provides a measure of how well a model is performing. Closer the R-squared to 1,  better the model’s performance.\n",
    "\n",
    "\n",
    "* Contrary to R-squared, adjusted R-squared takes into account the number of features.\n",
    "\n",
    "* Adjusted R-squared increases only if the increase in R-squared (including new independent input variable) is more than one would expect to see by chance.\n",
    "\n"
   ]
  },
  {
   "cell_type": "markdown",
   "metadata": {
    "id": "BrthmFWfyOvr"
   },
   "source": []
  }
 ],
 "metadata": {
  "colab": {
   "provenance": []
  },
  "kernelspec": {
   "display_name": "Python 3",
   "name": "python3"
  }
 },
 "nbformat": 4,
 "nbformat_minor": 0
}
