{
 "cells": [
  {
   "cell_type": "markdown",
   "metadata": {
    "deletable": false,
    "editable": false,
    "id": "1ckRliw-f0-f",
    "nbgrader": {
     "cell_type": "markdown",
     "checksum": "18937f6c0ef31c9ef14691c44f11b282",
     "grade": false,
     "grade_id": "cell-7fd9642fe4092378",
     "locked": true,
     "schema_version": 3,
     "solution": false
    }
   },
   "source": [
    "# Student Performance in Secondary School\n",
    "\n",
    "### Learning Objective\n",
    "In this assignment you will train a linear regression model to predict students' final grade 'G3' given other features and perform necessary evaluations to check the model performance.\n",
    "<b><div style=\"text-align: right\">[TOTAL POINTS: 8]</div></b>\n",
    "\n",
    "### Linear Regression\n",
    "\n",
    "Linear regression is used to find the approximation of a linear model used to describe the relationship between two or more variables. \n"
   ]
  },
  {
   "cell_type": "markdown",
   "metadata": {
    "deletable": false,
    "editable": false,
    "id": "s-zj1p3Cf0-h",
    "nbgrader": {
     "cell_type": "markdown",
     "checksum": "fbd4ae7ba47e7721bd97ce47bf72967d",
     "grade": false,
     "grade_id": "cell-c17d2709c8c54a5e",
     "locked": true,
     "schema_version": 3,
     "solution": false
    }
   },
   "source": [
    "## Dataset Description:\n",
    "\n",
    "**Student Performance Data Set**\n",
    "\n",
    "*Source:* https://archive.ics.uci.edu/ml/datasets/Student+Performance \\\n",
    "*Author:* Paulo Cortez, University of Minho, Guimarães, Portugal, http://www3.dsi.uminho.pt/pcortez\n",
    "\n",
    "*Original Source:* P. Cortez and A. Silva. Using Data Mining to Predict Secondary School Student Performance. In A. Brito and J. Teixeira Eds., Proceedings of 5th FUture BUsiness TEChnology Conference (FUBUTEC 2008) pp. 5-12, Porto, Portugal, April, 2008, EUROSIS, ISBN 978-9077381-39-7.\n",
    "\n",
    "This data approach student achievement in secondary education of two Portuguese schools. The data attributes include student grades, demographic, social and school related features and it was collected by using school reports and questionnaires. Two datasets are provided regarding the performance in two distinct subjects: Mathematics (mat) and Portuguese language (por). In [Cortez and Silva, 2008](http://www3.dsi.uminho.pt/pcortez/student.pdf), the two datasets were modeled under binary/five-level classification and regression tasks.  But here we are only using it as a regression task.\n",
    "\n",
    "**Number of Instances:** 395 \\\n",
    "**Number of Attributes:** 32 **Input Features** + 1 **Target**('G3')\n",
    "\n",
    "### Attribute Information:\n",
    "\n",
    "Attributes for both student-mat.csv (Math course) and student-por.csv (Portuguese language course) datasets:\n",
    "1. school - student's school (binary: 'GP' - Gabriel Pereira or 'MS' - Mousinho da Silveira)\n",
    "2. sex - student's sex (binary: 'F' - female or 'M' - male)\n",
    "3. age - student's age (numeric: from 15 to 22)\n",
    "4. address - student's home address type (binary: 'U' - urban or 'R' - rural)\n",
    "5. famsize - family size (binary: 'LE3' - less or equal to 3 or 'GT3' - greater than 3)\n",
    "6. Pstatus - parent's cohabitation status (binary: 'T' - living together or 'A' - apart)\n",
    "7. Medu - mother's education (numeric: 0 - none, 1 - primary education (4th grade), 2 - 5th to 9th grade, 3 - secondary education or 4 - higher education)\n",
    "8. Fedu - father's education (numeric: 0 - none, 1 - primary education (4th grade), 2 - 5th to 9th grade, 3 - secondary education or 4 - higher education)\n",
    "9. Mjob - mother's job (nominal: 'teacher', 'health' care related, civil 'services' (e.g. administrative or police), 'at_home' or 'other')\n",
    "10. Fjob - father's job (nominal: 'teacher', 'health' care related, civil 'services' (e.g. administrative or police), 'at_home' or 'other')\n",
    "11. reason - reason to choose this school (nominal: close to 'home', school 'reputation', 'course' preference or 'other')\n",
    "12. guardian - student's guardian (nominal: 'mother', 'father' or 'other')\n",
    "13. traveltime - home to school travel time (numeric: 1 - <15 min., 2 - 15 to 30 min., 3 - 30 min. to 1 hour, or 4 - >1 hour)\n",
    "14. studytime - weekly study time (numeric: 1 - <2 hours, 2 - 2 to 5 hours, 3 - 5 to 10 hours, or 4 - >10 hours)\n",
    "15. failures - number of past class failures (numeric: n if 1<=n<3, else 4)\n",
    "16. schoolsup - extra educational support (binary: yes or no)\n",
    "17. famsup - family educational support (binary: yes or no)\n",
    "18. paid - extra paid classes within the course subject (Math or Portuguese) (binary: yes or no)\n",
    "19. activities - extra-curricular activities (binary: yes or no)\n",
    "20. nursery - attended nursery school (binary: yes or no)\n",
    "21. higher - wants to take higher education (binary: yes or no)\n",
    "22. internet - Internet access at home (binary: yes or no)\n",
    "23. romantic - with a romantic relationship (binary: yes or no)\n",
    "24. famrel - quality of family relationships (numeric: from 1 - very bad to 5 - excellent)\n",
    "25. freetime - free time after school (numeric: from 1 - very low to 5 - very high)\n",
    "26. goout - going out with friends (numeric: from 1 - very low to 5 - very high)\n",
    "27. Dalc - workday alcohol consumption (numeric: from 1 - very low to 5 - very high)\n",
    "28. Walc - weekend alcohol consumption (numeric: from 1 - very low to 5 - very high)\n",
    "29. health - current health status (numeric: from 1 - very bad to 5 - very good)\n",
    "30. absences - number of school absences (numeric: from 0 to 93)\n",
    "\n",
    "These grades are related with the course subject, Math or Portuguese:\n",
    "\n",
    "31. G1 - first period grade (numeric: from 0 to 20)\n",
    "31. G2 - second period grade (numeric: from 0 to 20)\n",
    "33. **G3 - final grade (numeric: from 0 to 20, output target)**\n",
    "\n",
    "\n",
    "**Important note:** the target attribute G3 has a strong correlation with attributes G2 and G1. This occurs because G3 is the final year grade (issued at the 3rd period), while G1 and G2 correspond to the 1st and 2nd period grades. It is more difficult to predict G3 without G2 and G1, but such prediction is much more useful."
   ]
  },
  {
   "cell_type": "markdown",
   "metadata": {
    "deletable": false,
    "editable": false,
    "id": "UncQqOfTf0-h",
    "nbgrader": {
     "cell_type": "markdown",
     "checksum": "c1f8fb78a444897b89a8e12395038eaa",
     "grade": false,
     "grade_id": "cell-9af42f33eedfccd4",
     "locked": true,
     "schema_version": 3,
     "solution": false
    }
   },
   "source": [
    "## Scikit Learn\n",
    "Scikit Learn is an open source, simple and efficient set of tools for data mining and data analysis. It is built on NumPy, SciPy, and matplotlib and is accessible to everybody, and reusable in various contexts. We will be using scikit-learn to perform linear regression.\n",
    "\n",
    "[Scikit-Learn Official](http://scikit-learn.org/stable/)"
   ]
  },
  {
   "cell_type": "markdown",
   "metadata": {
    "deletable": false,
    "editable": false,
    "id": "WImIrY3NXkBS",
    "nbgrader": {
     "cell_type": "markdown",
     "checksum": "a0c5af7663c53497e61b1d9b1d36016f",
     "grade": false,
     "grade_id": "cell-2898ca916cf0e11e",
     "locked": true,
     "schema_version": 3,
     "solution": false
    }
   },
   "source": [
    "### Exercise 1: Import Libraries\n",
    "**<div style=\"text-align: right\"> [UNGRADED]</div>**\n",
    "\n",
    "Import the following libraries:\n",
    "- `numpy`\n",
    "- `pandas`\n",
    "- `pyplot` from `matplotlib`\n",
    "\n",
    "We will import other libraries wherever we require."
   ]
  },
  {
   "cell_type": "code",
   "execution_count": 1,
   "metadata": {
    "ExecuteTime": {
     "end_time": "2020-05-14T15:36:01.499908Z",
     "start_time": "2020-05-14T15:36:01.486057Z"
    },
    "id": "gY6iXLdpf0-i"
   },
   "outputs": [],
   "source": [
    "# Import the libraries\n",
    "import numpy as np\n",
    "import pandas as pd\n",
    "import matplotlib.pyplot as plt\n",
    "%matplotlib inline"
   ]
  },
  {
   "cell_type": "markdown",
   "metadata": {
    "deletable": false,
    "editable": false,
    "id": "UajBLvtXf0-l",
    "nbgrader": {
     "cell_type": "markdown",
     "checksum": "dfda9e0e4ba0f15eb8d3756db012499c",
     "grade": false,
     "grade_id": "cell-c380b9a7f98eb06d",
     "locked": true,
     "schema_version": 3,
     "solution": false
    }
   },
   "source": [
    "### Load the data\n",
    "\n",
    "**Task:**\n",
    " \n",
    "*  Load the data using `URL`  as pandas dataframe in `math_df` "
   ]
  },
  {
   "cell_type": "code",
   "execution_count": 2,
   "metadata": {
    "ExecuteTime": {
     "end_time": "2020-05-14T15:36:01.992971Z",
     "start_time": "2020-05-14T15:36:01.950395Z"
    },
    "colab": {
     "base_uri": "https://localhost:8080/",
     "height": 236
    },
    "deletable": false,
    "editable": false,
    "executionInfo": {
     "elapsed": 1760,
     "status": "ok",
     "timestamp": 1649077440935,
     "user": {
      "displayName": "Bijaya Khadka",
      "userId": "02776490292025123911"
     },
     "user_tz": -345
    },
    "id": "sKBOVTLnf0-m",
    "nbgrader": {
     "cell_type": "code",
     "checksum": "d48cf7583def4f9ca68454a266f2923a",
     "grade": false,
     "grade_id": "cell-c802407cb598e9e9",
     "locked": true,
     "schema_version": 3,
     "solution": false
    },
    "outputId": "3d345c50-c141-4ba7-d9d7-8eaf07435790"
   },
   "outputs": [
    {
     "data": {
      "text/html": [
       "<div>\n",
       "<style scoped>\n",
       "    .dataframe tbody tr th:only-of-type {\n",
       "        vertical-align: middle;\n",
       "    }\n",
       "\n",
       "    .dataframe tbody tr th {\n",
       "        vertical-align: top;\n",
       "    }\n",
       "\n",
       "    .dataframe thead th {\n",
       "        text-align: right;\n",
       "    }\n",
       "</style>\n",
       "<table border=\"1\" class=\"dataframe\">\n",
       "  <thead>\n",
       "    <tr style=\"text-align: right;\">\n",
       "      <th></th>\n",
       "      <th>school</th>\n",
       "      <th>sex</th>\n",
       "      <th>age</th>\n",
       "      <th>address</th>\n",
       "      <th>famsize</th>\n",
       "      <th>Pstatus</th>\n",
       "      <th>Medu</th>\n",
       "      <th>Fedu</th>\n",
       "      <th>Mjob</th>\n",
       "      <th>Fjob</th>\n",
       "      <th>...</th>\n",
       "      <th>famrel</th>\n",
       "      <th>freetime</th>\n",
       "      <th>goout</th>\n",
       "      <th>Dalc</th>\n",
       "      <th>Walc</th>\n",
       "      <th>health</th>\n",
       "      <th>absences</th>\n",
       "      <th>G1</th>\n",
       "      <th>G2</th>\n",
       "      <th>G3</th>\n",
       "    </tr>\n",
       "  </thead>\n",
       "  <tbody>\n",
       "    <tr>\n",
       "      <th>0</th>\n",
       "      <td>GP</td>\n",
       "      <td>F</td>\n",
       "      <td>18</td>\n",
       "      <td>U</td>\n",
       "      <td>GT3</td>\n",
       "      <td>A</td>\n",
       "      <td>4</td>\n",
       "      <td>4</td>\n",
       "      <td>at_home</td>\n",
       "      <td>teacher</td>\n",
       "      <td>...</td>\n",
       "      <td>4</td>\n",
       "      <td>3</td>\n",
       "      <td>4</td>\n",
       "      <td>1</td>\n",
       "      <td>1</td>\n",
       "      <td>3</td>\n",
       "      <td>6</td>\n",
       "      <td>5</td>\n",
       "      <td>6</td>\n",
       "      <td>6</td>\n",
       "    </tr>\n",
       "    <tr>\n",
       "      <th>1</th>\n",
       "      <td>GP</td>\n",
       "      <td>F</td>\n",
       "      <td>17</td>\n",
       "      <td>U</td>\n",
       "      <td>GT3</td>\n",
       "      <td>T</td>\n",
       "      <td>1</td>\n",
       "      <td>1</td>\n",
       "      <td>at_home</td>\n",
       "      <td>other</td>\n",
       "      <td>...</td>\n",
       "      <td>5</td>\n",
       "      <td>3</td>\n",
       "      <td>3</td>\n",
       "      <td>1</td>\n",
       "      <td>1</td>\n",
       "      <td>3</td>\n",
       "      <td>4</td>\n",
       "      <td>5</td>\n",
       "      <td>5</td>\n",
       "      <td>6</td>\n",
       "    </tr>\n",
       "    <tr>\n",
       "      <th>2</th>\n",
       "      <td>GP</td>\n",
       "      <td>F</td>\n",
       "      <td>15</td>\n",
       "      <td>U</td>\n",
       "      <td>LE3</td>\n",
       "      <td>T</td>\n",
       "      <td>1</td>\n",
       "      <td>1</td>\n",
       "      <td>at_home</td>\n",
       "      <td>other</td>\n",
       "      <td>...</td>\n",
       "      <td>4</td>\n",
       "      <td>3</td>\n",
       "      <td>2</td>\n",
       "      <td>2</td>\n",
       "      <td>3</td>\n",
       "      <td>3</td>\n",
       "      <td>10</td>\n",
       "      <td>7</td>\n",
       "      <td>8</td>\n",
       "      <td>10</td>\n",
       "    </tr>\n",
       "    <tr>\n",
       "      <th>3</th>\n",
       "      <td>GP</td>\n",
       "      <td>F</td>\n",
       "      <td>15</td>\n",
       "      <td>U</td>\n",
       "      <td>GT3</td>\n",
       "      <td>T</td>\n",
       "      <td>4</td>\n",
       "      <td>2</td>\n",
       "      <td>health</td>\n",
       "      <td>services</td>\n",
       "      <td>...</td>\n",
       "      <td>3</td>\n",
       "      <td>2</td>\n",
       "      <td>2</td>\n",
       "      <td>1</td>\n",
       "      <td>1</td>\n",
       "      <td>5</td>\n",
       "      <td>2</td>\n",
       "      <td>15</td>\n",
       "      <td>14</td>\n",
       "      <td>15</td>\n",
       "    </tr>\n",
       "    <tr>\n",
       "      <th>4</th>\n",
       "      <td>GP</td>\n",
       "      <td>F</td>\n",
       "      <td>16</td>\n",
       "      <td>U</td>\n",
       "      <td>GT3</td>\n",
       "      <td>T</td>\n",
       "      <td>3</td>\n",
       "      <td>3</td>\n",
       "      <td>other</td>\n",
       "      <td>other</td>\n",
       "      <td>...</td>\n",
       "      <td>4</td>\n",
       "      <td>3</td>\n",
       "      <td>2</td>\n",
       "      <td>1</td>\n",
       "      <td>2</td>\n",
       "      <td>5</td>\n",
       "      <td>4</td>\n",
       "      <td>6</td>\n",
       "      <td>10</td>\n",
       "      <td>10</td>\n",
       "    </tr>\n",
       "  </tbody>\n",
       "</table>\n",
       "<p>5 rows × 33 columns</p>\n",
       "</div>"
      ],
      "text/plain": [
       "  school sex  age address famsize Pstatus  Medu  Fedu     Mjob      Fjob  ...  \\\n",
       "0     GP   F   18       U     GT3       A     4     4  at_home   teacher  ...   \n",
       "1     GP   F   17       U     GT3       T     1     1  at_home     other  ...   \n",
       "2     GP   F   15       U     LE3       T     1     1  at_home     other  ...   \n",
       "3     GP   F   15       U     GT3       T     4     2   health  services  ...   \n",
       "4     GP   F   16       U     GT3       T     3     3    other     other  ...   \n",
       "\n",
       "  famrel freetime  goout  Dalc  Walc health absences  G1  G2  G3  \n",
       "0      4        3      4     1     1      3        6   5   6   6  \n",
       "1      5        3      3     1     1      3        4   5   5   6  \n",
       "2      4        3      2     2     3      3       10   7   8  10  \n",
       "3      3        2      2     1     1      5        2  15  14  15  \n",
       "4      4        3      2     1     2      5        4   6  10  10  \n",
       "\n",
       "[5 rows x 33 columns]"
      ]
     },
     "execution_count": 2,
     "metadata": {},
     "output_type": "execute_result"
    }
   ],
   "source": [
    "### RUN THIS CELL\n",
    "PATH_MATH = \"https://drive.google.com/uc?id=1L5I9MhhLMgopPSA9YLhXqmhDoYMSu7mN\"\n",
    "math_df = pd.read_csv(PATH_MATH, sep=\";\")\n",
    "math_df.head()"
   ]
  },
  {
   "cell_type": "markdown",
   "metadata": {
    "deletable": false,
    "editable": false,
    "id": "V6XdvzDQf0-v",
    "nbgrader": {
     "cell_type": "markdown",
     "checksum": "8ac43847a745a3a4973c84af31ecfe67",
     "grade": false,
     "grade_id": "cell-100b3e1ea8bdd091",
     "locked": true,
     "schema_version": 3,
     "solution": false
    }
   },
   "source": [
    "There are no missing values in the dataset, and also values are in the range specified, so we are good to go.\n",
    "\n",
    "The dataset contains 32 features and 395 entries. G3 is the target variable. Among 32 features, are all of them useful? There are some ordinal, nominal features. We will find out if all of them are useful or not and how the model improves by using all features or some selected features."
   ]
  },
  {
   "cell_type": "markdown",
   "metadata": {
    "deletable": false,
    "editable": false,
    "id": "q3dsjkKNf0-w",
    "nbgrader": {
     "cell_type": "markdown",
     "checksum": "fac2378814866f3c8012570fb726d0c1",
     "grade": false,
     "grade_id": "cell-abd3087cec6107af",
     "locked": true,
     "schema_version": 3,
     "solution": false
    }
   },
   "source": [
    "### Exercise 2: Train-Test Split\n",
    "**<div style=\"text-align: right\"> [POINTS: 1]</div>**\n",
    "\n",
    "Before we begin, let's divide our dataset into train and test set. Splitting early prevents data leakage, i.e. it prevents us from using preprocessing methods that is trained on entire dataset to transform train and test sets.\n",
    "\n",
    "**Tasks:**\n",
    "- Split the data into `X (features)` and `y (target)`\n",
    "- Split the data into `train` and `test` sets using `80-20` ratio using the random seed provided. (Think about why we use this ratio, in terms of sample size for testing)"
   ]
  },
  {
   "cell_type": "code",
   "execution_count": 9,
   "metadata": {
    "ExecuteTime": {
     "end_time": "2020-05-14T15:36:07.265366Z",
     "start_time": "2020-05-14T15:36:07.209448Z"
    },
    "colab": {
     "base_uri": "https://localhost:8080/",
     "height": 226
    },
    "deletable": false,
    "executionInfo": {
     "elapsed": 54,
     "status": "ok",
     "timestamp": 1623826732939,
     "user": {
      "displayName": "Rojesh Man Shikhrakar",
      "photoUrl": "https://lh3.googleusercontent.com/a-/AOh14Gh8acfmaw1GQlpTZ5omp8F9rjlgt0qiN-4EMGo8=s64",
      "userId": "17287545535191686920"
     },
     "user_tz": -345
    },
    "id": "jMI2zxO5f0-w",
    "nbgrader": {
     "cell_type": "code",
     "checksum": "8fa858279f8dff166acdd9f27eb5ac09",
     "grade": false,
     "grade_id": "cell-938a039054f47b6f",
     "locked": false,
     "schema_version": 3,
     "solution": true
    },
    "outputId": "d8dfd53e-d9d7-4bd5-834e-b7d8058eca98",
    "tags": [
     "Ex-2-Task-1"
    ]
   },
   "outputs": [],
   "source": [
    "### Ex-2-Task-1\n",
    "from sklearn.model_selection import train_test_split\n",
    "\n",
    "X = None\n",
    "y = None\n",
    "\n",
    "X_train = None\n",
    "X_test = None\n",
    "y_train = None\n",
    "y_test = None\n",
    "\n",
    "random_seed = 0\n",
    "\n",
    "### BEGIN SOLUTION\n",
    "X = math_df.drop('G3', axis=1)\n",
    "y = math_df['G3']\n",
    "X_train, X_test, y_train, y_test = train_test_split(X, y, test_size=0.2, random_state=0)\n",
    "# raise NotImplementedError\n",
    "### END SOLUTION\n",
    "\n"
   ]
  },
  {
   "cell_type": "code",
   "execution_count": 10,
   "metadata": {
    "deletable": false,
    "editable": false,
    "id": "sgABaxhRf0-1",
    "nbgrader": {
     "cell_type": "code",
     "checksum": "b328a6c32dcce8bbbdb594898bd0ed3b",
     "grade": true,
     "grade_id": "cell-639af23aee9492b9",
     "locked": true,
     "points": 1,
     "schema_version": 3,
     "solution": false
    },
    "tags": [
     "Ex-2-Task-1"
    ]
   },
   "outputs": [],
   "source": [
    "\n",
    "assert X.shape == (395, 32)\n",
    "assert y.shape == (395,)\n"
   ]
  },
  {
   "cell_type": "code",
   "execution_count": 11,
   "metadata": {},
   "outputs": [
    {
     "data": {
      "text/html": [
       "<div>\n",
       "<style scoped>\n",
       "    .dataframe tbody tr th:only-of-type {\n",
       "        vertical-align: middle;\n",
       "    }\n",
       "\n",
       "    .dataframe tbody tr th {\n",
       "        vertical-align: top;\n",
       "    }\n",
       "\n",
       "    .dataframe thead th {\n",
       "        text-align: right;\n",
       "    }\n",
       "</style>\n",
       "<table border=\"1\" class=\"dataframe\">\n",
       "  <thead>\n",
       "    <tr style=\"text-align: right;\">\n",
       "      <th></th>\n",
       "      <th>school</th>\n",
       "      <th>sex</th>\n",
       "      <th>age</th>\n",
       "      <th>address</th>\n",
       "      <th>famsize</th>\n",
       "      <th>Pstatus</th>\n",
       "      <th>Medu</th>\n",
       "      <th>Fedu</th>\n",
       "      <th>Mjob</th>\n",
       "      <th>Fjob</th>\n",
       "      <th>...</th>\n",
       "      <th>romantic</th>\n",
       "      <th>famrel</th>\n",
       "      <th>freetime</th>\n",
       "      <th>goout</th>\n",
       "      <th>Dalc</th>\n",
       "      <th>Walc</th>\n",
       "      <th>health</th>\n",
       "      <th>absences</th>\n",
       "      <th>G1</th>\n",
       "      <th>G2</th>\n",
       "    </tr>\n",
       "  </thead>\n",
       "  <tbody>\n",
       "    <tr>\n",
       "      <th>64</th>\n",
       "      <td>GP</td>\n",
       "      <td>F</td>\n",
       "      <td>15</td>\n",
       "      <td>U</td>\n",
       "      <td>LE3</td>\n",
       "      <td>T</td>\n",
       "      <td>4</td>\n",
       "      <td>3</td>\n",
       "      <td>services</td>\n",
       "      <td>services</td>\n",
       "      <td>...</td>\n",
       "      <td>yes</td>\n",
       "      <td>4</td>\n",
       "      <td>4</td>\n",
       "      <td>4</td>\n",
       "      <td>2</td>\n",
       "      <td>4</td>\n",
       "      <td>2</td>\n",
       "      <td>0</td>\n",
       "      <td>10</td>\n",
       "      <td>10</td>\n",
       "    </tr>\n",
       "    <tr>\n",
       "      <th>55</th>\n",
       "      <td>GP</td>\n",
       "      <td>F</td>\n",
       "      <td>16</td>\n",
       "      <td>U</td>\n",
       "      <td>GT3</td>\n",
       "      <td>A</td>\n",
       "      <td>2</td>\n",
       "      <td>1</td>\n",
       "      <td>other</td>\n",
       "      <td>other</td>\n",
       "      <td>...</td>\n",
       "      <td>yes</td>\n",
       "      <td>5</td>\n",
       "      <td>3</td>\n",
       "      <td>4</td>\n",
       "      <td>1</td>\n",
       "      <td>1</td>\n",
       "      <td>2</td>\n",
       "      <td>8</td>\n",
       "      <td>8</td>\n",
       "      <td>9</td>\n",
       "    </tr>\n",
       "    <tr>\n",
       "      <th>343</th>\n",
       "      <td>GP</td>\n",
       "      <td>F</td>\n",
       "      <td>17</td>\n",
       "      <td>U</td>\n",
       "      <td>GT3</td>\n",
       "      <td>A</td>\n",
       "      <td>2</td>\n",
       "      <td>2</td>\n",
       "      <td>at_home</td>\n",
       "      <td>at_home</td>\n",
       "      <td>...</td>\n",
       "      <td>yes</td>\n",
       "      <td>3</td>\n",
       "      <td>3</td>\n",
       "      <td>1</td>\n",
       "      <td>1</td>\n",
       "      <td>2</td>\n",
       "      <td>4</td>\n",
       "      <td>0</td>\n",
       "      <td>9</td>\n",
       "      <td>8</td>\n",
       "    </tr>\n",
       "    <tr>\n",
       "      <th>219</th>\n",
       "      <td>GP</td>\n",
       "      <td>F</td>\n",
       "      <td>17</td>\n",
       "      <td>U</td>\n",
       "      <td>GT3</td>\n",
       "      <td>T</td>\n",
       "      <td>2</td>\n",
       "      <td>2</td>\n",
       "      <td>at_home</td>\n",
       "      <td>at_home</td>\n",
       "      <td>...</td>\n",
       "      <td>no</td>\n",
       "      <td>4</td>\n",
       "      <td>3</td>\n",
       "      <td>3</td>\n",
       "      <td>1</td>\n",
       "      <td>1</td>\n",
       "      <td>4</td>\n",
       "      <td>4</td>\n",
       "      <td>9</td>\n",
       "      <td>10</td>\n",
       "    </tr>\n",
       "    <tr>\n",
       "      <th>366</th>\n",
       "      <td>MS</td>\n",
       "      <td>M</td>\n",
       "      <td>18</td>\n",
       "      <td>U</td>\n",
       "      <td>LE3</td>\n",
       "      <td>T</td>\n",
       "      <td>4</td>\n",
       "      <td>4</td>\n",
       "      <td>teacher</td>\n",
       "      <td>services</td>\n",
       "      <td>...</td>\n",
       "      <td>yes</td>\n",
       "      <td>4</td>\n",
       "      <td>2</td>\n",
       "      <td>2</td>\n",
       "      <td>2</td>\n",
       "      <td>2</td>\n",
       "      <td>5</td>\n",
       "      <td>0</td>\n",
       "      <td>13</td>\n",
       "      <td>13</td>\n",
       "    </tr>\n",
       "  </tbody>\n",
       "</table>\n",
       "<p>5 rows × 32 columns</p>\n",
       "</div>"
      ],
      "text/plain": [
       "    school sex  age address famsize Pstatus  Medu  Fedu      Mjob      Fjob  \\\n",
       "64      GP   F   15       U     LE3       T     4     3  services  services   \n",
       "55      GP   F   16       U     GT3       A     2     1     other     other   \n",
       "343     GP   F   17       U     GT3       A     2     2   at_home   at_home   \n",
       "219     GP   F   17       U     GT3       T     2     2   at_home   at_home   \n",
       "366     MS   M   18       U     LE3       T     4     4   teacher  services   \n",
       "\n",
       "     ... romantic famrel  freetime  goout  Dalc Walc health absences  G1  G2  \n",
       "64   ...      yes      4         4      4     2    4      2        0  10  10  \n",
       "55   ...      yes      5         3      4     1    1      2        8   8   9  \n",
       "343  ...      yes      3         3      1     1    2      4        0   9   8  \n",
       "219  ...       no      4         3      3     1    1      4        4   9  10  \n",
       "366  ...      yes      4         2      2     2    2      5        0  13  13  \n",
       "\n",
       "[5 rows x 32 columns]"
      ]
     },
     "execution_count": 11,
     "metadata": {},
     "output_type": "execute_result"
    }
   ],
   "source": [
    "X_train.head()"
   ]
  },
  {
   "cell_type": "code",
   "execution_count": 12,
   "metadata": {},
   "outputs": [
    {
     "data": {
      "text/plain": [
       "64     10\n",
       "55     10\n",
       "343     0\n",
       "219    10\n",
       "366    13\n",
       "Name: G3, dtype: int64"
      ]
     },
     "execution_count": 12,
     "metadata": {},
     "output_type": "execute_result"
    }
   ],
   "source": [
    "y_train.head()"
   ]
  },
  {
   "cell_type": "markdown",
   "metadata": {
    "deletable": false,
    "editable": false,
    "id": "xv1w-Okhf0-3",
    "nbgrader": {
     "cell_type": "markdown",
     "checksum": "d2f883ffa7a0838a2df3a3d3b45f6d3d",
     "grade": false,
     "grade_id": "cell-c519ff0ae59417cf",
     "locked": true,
     "schema_version": 3,
     "solution": false
    }
   },
   "source": [
    "### Exercise 3: Histogram\n",
    "Histogram displays data using bars of different heights. This is particularly important to check the distribution of the data i.e. shape and spread of the data. It can also show existence of outliers or imbalance in categories inside the data.\n",
    "\n",
    "<b><div style=\"text-align: right\">[UNGRADED]</div></b>\n",
    "\n",
    "**Task:** \n",
    "\n",
    "- plot the histogram for `G1`, `G2` and `G3` and/or other features (Use the predefined function `plot_hist`)"
   ]
  },
  {
   "cell_type": "code",
   "execution_count": 17,
   "metadata": {
    "ExecuteTime": {
     "end_time": "2020-05-14T15:36:21.836658Z",
     "start_time": "2020-05-14T15:36:18.269041Z"
    },
    "colab": {
     "base_uri": "https://localhost:8080/",
     "height": 1000
    },
    "deletable": false,
    "executionInfo": {
     "elapsed": 4779,
     "status": "ok",
     "timestamp": 1623826731518,
     "user": {
      "displayName": "Rojesh Man Shikhrakar",
      "photoUrl": "https://lh3.googleusercontent.com/a-/AOh14Gh8acfmaw1GQlpTZ5omp8F9rjlgt0qiN-4EMGo8=s64",
      "userId": "17287545535191686920"
     },
     "user_tz": -345
    },
    "id": "V1SL9eKSf0-4",
    "nbgrader": {
     "cell_type": "code",
     "checksum": "9f47efd0ef08d39c5043a1a967425668",
     "grade": false,
     "grade_id": "cell-984933c1ccc03d7e",
     "locked": false,
     "schema_version": 3,
     "solution": true
    },
    "outputId": "aa3317e3-0b79-4156-d0f5-f9e23c934a92"
   },
   "outputs": [
    {
     "data": {
      "image/png": "[encoded data removed]",
      "text/plain": [
       "<Figure size 1500x1500 with 3 Axes>"
      ]
     },
     "metadata": {},
     "output_type": "display_data"
    }
   ],
   "source": [
    "### Ex-3-Task-1\n",
    "import matplotlib.pyplot as plt\n",
    "from math import sqrt\n",
    "    \n",
    "def plot_hist(df, ncols=5):\n",
    "    \"\"\"Plots histogram of all the column in the dataframe\"\"\"  \n",
    "    \n",
    "    n = len(df.columns)\n",
    "    nrows = round(n/ncols) + 1\n",
    "    f = plt.figure()\n",
    "    for indx in range(n):\n",
    "        col = df.columns[indx]\n",
    "        f.set_figheight(15)\n",
    "        f.set_figwidth(15)\n",
    "        plt.subplot(nrows, ncols, indx+1, title=col)\n",
    "        df[col].hist(bins=len(df[col].unique()))\n",
    "\n",
    "    plt.tight_layout()\n",
    "    plt.show()\n",
    "\n",
    "### BEGIN SOLUTION\n",
    "plot_hist(math_df[['G1', 'G2', 'G3']], ncols=5)\n",
    "# raise NotImplementedError\n",
    "### END SOLUTION"
   ]
  },
  {
   "cell_type": "markdown",
   "metadata": {
    "deletable": false,
    "editable": false,
    "id": "1k_6xZdQf0-6",
    "nbgrader": {
     "cell_type": "markdown",
     "checksum": "19043a5d203305551b54c09c96eb8474",
     "grade": false,
     "grade_id": "cell-56e5dff0c99883e3",
     "locked": true,
     "schema_version": 3,
     "solution": false
    }
   },
   "source": [
    "### Exercise 4: Scatterplot\n",
    "Histogram is for univariate analyis, we should also check how the different features vary together to analyze the relationship of the input feature with the target.\n",
    "\n",
    "<b><div style=\"text-align: right\">[POINTS: 0]</div></b>\n",
    "\n",
    "**Task:** \n",
    "- plot scatterplot for `G2 vs G3`\n",
    "- plot scatterplot for `age vs G3`\n",
    "- determine between `G2` and `age`, which has a positive correlation with the target `G3` by analyzing the plots"
   ]
  },
  {
   "cell_type": "code",
   "execution_count": 29,
   "metadata": {
    "ExecuteTime": {
     "end_time": "2020-05-14T15:36:27.292483Z",
     "start_time": "2020-05-14T15:36:26.886885Z"
    },
    "colab": {
     "base_uri": "https://localhost:8080/",
     "height": 541
    },
    "deletable": false,
    "executionInfo": {
     "elapsed": 100,
     "status": "ok",
     "timestamp": 1623826734009,
     "user": {
      "displayName": "Rojesh Man Shikhrakar",
      "photoUrl": "https://lh3.googleusercontent.com/a-/AOh14Gh8acfmaw1GQlpTZ5omp8F9rjlgt0qiN-4EMGo8=s64",
      "userId": "17287545535191686920"
     },
     "user_tz": -345
    },
    "id": "L00i8laJf0-7",
    "nbgrader": {
     "cell_type": "code",
     "checksum": "637eec20d899a35b5b154f438b31737a",
     "grade": false,
     "grade_id": "cell-bec2c48c1a2eaa75",
     "locked": false,
     "schema_version": 3,
     "solution": true
    },
    "outputId": "910d1788-959c-46ea-e579-6455087a4e19"
   },
   "outputs": [
    {
     "data": {
      "image/png": "[encoded data removed]",
      "text/plain": [
       "<Figure size 800x600 with 1 Axes>"
      ]
     },
     "metadata": {},
     "output_type": "display_data"
    },
    {
     "data": {
      "image/png": "[encoded data removed]",
      "text/plain": [
       "<Figure size 800x600 with 1 Axes>"
      ]
     },
     "metadata": {},
     "output_type": "display_data"
    },
    {
     "data": {
      "text/plain": [
       "<Axes: title={'center': 'G3 vs Age'}, xlabel='Age of the student', ylabel='Third period Grade'>"
      ]
     },
     "execution_count": 29,
     "metadata": {},
     "output_type": "execute_result"
    }
   ],
   "source": [
    "### Ex-4-Task-1\n",
    "### BEGIN SOLUTION\n",
    "import seaborn as sns\n",
    "\n",
    "def plot_scatter(df, x_col, y_col, title='Scatter plot', xlabel=None, ylabel=None):\n",
    "\n",
    "    plt.figure(figsize=(8, 6))\n",
    "\n",
    "    ax = sns.scatterplot(data=df, x=x_col, y=y_col)\n",
    "    if title:\n",
    "        plt.title(title)\n",
    "    if xlabel:\n",
    "        plt.xlabel(xlabel)\n",
    "    if ylabel:\n",
    "        plt.ylabel(ylabel)\n",
    "    plt.show()\n",
    "\n",
    "    return ax\n",
    "\n",
    "\n",
    "plot_scatter(df=math_df,\n",
    "        x_col='G2',\n",
    "        y_col='G3',\n",
    "        title=\"G3 vs G2\",\n",
    "        xlabel='Second period Grade',\n",
    "        ylabel='Third period Grade')\n",
    "\n",
    "\n",
    "plot_scatter(df=math_df,\n",
    "        x_col='age',\n",
    "        y_col='G3',\n",
    "        title=\"G3 vs Age\",\n",
    "        xlabel='Age of the student',\n",
    "        ylabel='Third period Grade')\n",
    "\n",
    "# raise NotImplementedError\n",
    "### END SOLUTION"
   ]
  },
  {
   "cell_type": "markdown",
   "metadata": {
    "deletable": false,
    "editable": false,
    "id": "vqOjoeN5f0_C",
    "nbgrader": {
     "cell_type": "markdown",
     "checksum": "22b54d64ae5584e5b7b679d2a70f20f1",
     "grade": false,
     "grade_id": "cell-77705c71cea56bf0",
     "locked": true,
     "schema_version": 3,
     "solution": false
    }
   },
   "source": [
    "### Exercise 5: Correlations\n",
    "\n",
    "<b><div style=\"text-align: right\">[POINTS: 1]</div></b>\n",
    "\n",
    "Correlation shows whether and how strongly pairs of features are related. Features that are strongly correlated with 'G3' are more influential for predictions. \n",
    "\n",
    "**Task:**\n",
    " \n",
    "\n",
    "*   Check the correlation of all the numerical features with the target G3.\n",
    "\n",
    "Hints: \n",
    "- Use `pandas.DataFrame.corrwith` function to compute correlation between `X_train` and `y_train`. \n",
    "-`corrwith` returns `Series` object with features as `index`.\n"
   ]
  },
  {
   "cell_type": "code",
   "execution_count": 33,
   "metadata": {
    "ExecuteTime": {
     "end_time": "2020-05-14T15:36:34.618791Z",
     "start_time": "2020-05-14T15:36:34.578845Z"
    },
    "deletable": false,
    "id": "R-Z0xKn2f0_C",
    "nbgrader": {
     "cell_type": "code",
     "checksum": "7de0c8103e5169d18cde15c81fadce4a",
     "grade": false,
     "grade_id": "cell-10ba311765fcd644",
     "locked": false,
     "schema_version": 3,
     "solution": true
    },
    "tags": [
     "Ex-5-Task-1"
    ]
   },
   "outputs": [],
   "source": [
    "### Ex-5-Task-1\n",
    "corr = None\n",
    "### BEGIN SOLUTION\n",
    "\n",
    "# Select only numeric columns from X_train\n",
    "numeric_cols = X_train.select_dtypes(include=[np.number])\n",
    "corr = numeric_cols.corrwith(y_train)\n",
    "\n",
    "### END SOLUTION"
   ]
  },
  {
   "cell_type": "code",
   "execution_count": 34,
   "metadata": {
    "deletable": false,
    "editable": false,
    "id": "yeXMD0yixPh4",
    "nbgrader": {
     "cell_type": "code",
     "checksum": "0e3e944e2e78633ff7c8e7df21ff1bb9",
     "grade": true,
     "grade_id": "cell-33d3befb5a18759e",
     "locked": true,
     "points": 1,
     "schema_version": 3,
     "solution": false
    },
    "tags": [
     "Ex-5-Task-1"
    ]
   },
   "outputs": [],
   "source": [
    "assert corr is not None\n",
    "assert corr.size == 15"
   ]
  },
  {
   "cell_type": "markdown",
   "metadata": {
    "deletable": false,
    "editable": false,
    "id": "LHs9q31iuyJn",
    "nbgrader": {
     "cell_type": "markdown",
     "checksum": "af619bb58e6a1485c08fd43f1622d63a",
     "grade": false,
     "grade_id": "cell-444c9c5b6da80d8f",
     "locked": true,
     "schema_version": 3,
     "solution": false
    }
   },
   "source": [
    "\n",
    "*A feature may have a positive or negative correlation with the target. The top five features with strong positive or negative correlation with target should be chosen here.*"
   ]
  },
  {
   "cell_type": "code",
   "execution_count": 35,
   "metadata": {
    "colab": {
     "base_uri": "https://localhost:8080/"
    },
    "executionInfo": {
     "elapsed": 82,
     "status": "ok",
     "timestamp": 1623826734011,
     "user": {
      "displayName": "Rojesh Man Shikhrakar",
      "photoUrl": "https://lh3.googleusercontent.com/a-/AOh14Gh8acfmaw1GQlpTZ5omp8F9rjlgt0qiN-4EMGo8=s64",
      "userId": "17287545535191686920"
     },
     "user_tz": -345
    },
    "id": "Q57BChiatXC7",
    "outputId": "9cc69129-04fa-48ff-f248-8ae74ffe2231"
   },
   "outputs": [
    {
     "data": {
      "text/plain": [
       "G2          0.908877\n",
       "G1          0.788115\n",
       "failures   -0.318010\n",
       "Medu        0.238431\n",
       "age        -0.184941\n",
       "dtype: float64"
      ]
     },
     "execution_count": 35,
     "metadata": {},
     "output_type": "execute_result"
    }
   ],
   "source": [
    "top_five = None\n",
    "top_five = np.abs(corr).sort_values(ascending=False).iloc[0:5].index\n",
    "corr[top_five]"
   ]
  },
  {
   "cell_type": "markdown",
   "metadata": {
    "id": "LUZbd-_KyR42"
   },
   "source": [
    "The variable `top_five` consists of a `list` of top five features based on correlation with the target variable."
   ]
  },
  {
   "cell_type": "markdown",
   "metadata": {
    "deletable": false,
    "editable": false,
    "id": "FYPunwpff0_I",
    "nbgrader": {
     "cell_type": "markdown",
     "checksum": "d6e06f57ec9403694e01bf530f583f81",
     "grade": false,
     "grade_id": "cell-8b6ad25df0dd480d",
     "locked": true,
     "schema_version": 3,
     "solution": false
    }
   },
   "source": [
    "### Exercise 6: Fit a Linear Regression model on Top Five Features\n",
    "\n",
    "<b><div style=\"text-align: right\">[POINTS: 2]</div></b>\n",
    "\n",
    "Select top five highly correlated data from above exercise and use them to fit a linear regr_num_top5 model\n",
    "\n",
    "**Task:** \n",
    "- Instantiate a `LinearRegression` object as `regr_num_top5` with `fit_intercept` set to `True`\n",
    "- Fit the model to top 5 features using the training set\n",
    "- Save coefficients in `Theta` and intercept in `intercept`\n"
   ]
  },
  {
   "cell_type": "code",
   "execution_count": 39,
   "metadata": {
    "ExecuteTime": {
     "end_time": "2020-05-14T15:36:37.818573Z",
     "start_time": "2020-05-14T15:36:37.740404Z"
    },
    "colab": {
     "base_uri": "https://localhost:8080/"
    },
    "deletable": false,
    "executionInfo": {
     "elapsed": 73,
     "status": "ok",
     "timestamp": 1623826734012,
     "user": {
      "displayName": "Rojesh Man Shikhrakar",
      "photoUrl": "https://lh3.googleusercontent.com/a-/AOh14Gh8acfmaw1GQlpTZ5omp8F9rjlgt0qiN-4EMGo8=s64",
      "userId": "17287545535191686920"
     },
     "user_tz": -345
    },
    "id": "-r7-e5Lff0_I",
    "nbgrader": {
     "cell_type": "code",
     "checksum": "90bdc8b05b9ea6eabf76306d1701a34a",
     "grade": false,
     "grade_id": "cell-57b879e3b2d13a6a",
     "locked": false,
     "schema_version": 3,
     "solution": true
    },
    "outputId": "90117853-12e6-42c7-e2dc-1397c43918b2",
    "tags": [
     "Ex-6-Task-1"
    ]
   },
   "outputs": [
    {
     "name": "stdout",
     "output_type": "stream",
     "text": [
      "[ 0.98998101  0.10226152 -0.15467828  0.04511651 -0.1587905 ]\n",
      "1.3686594683658821\n"
     ]
    }
   ],
   "source": [
    "### Ex-6-Task-1\n",
    "from sklearn.linear_model import LinearRegression\n",
    "\n",
    "regr_num_top5 = None\n",
    "Theta = None\n",
    "intercept = None\n",
    "\n",
    "### BEGIN SOLUTION\n",
    "regr_num_top5 = LinearRegression(fit_intercept=True)\n",
    "regr_num_top5.fit(X_train[top_five], y_train)\n",
    "Theta = regr_num_top5.coef_\n",
    "intercept = regr_num_top5.intercept_\n",
    "# raise NotImplementedError\n",
    "### END SOLUTION\n",
    "\n",
    "print(Theta)\n",
    "print(intercept)\n"
   ]
  },
  {
   "cell_type": "code",
   "execution_count": 40,
   "metadata": {
    "ExecuteTime": {
     "end_time": "2020-05-14T15:36:39.788246Z",
     "start_time": "2020-05-14T15:36:39.766151Z"
    },
    "deletable": false,
    "editable": false,
    "id": "4ZBI7wAVf0_K",
    "nbgrader": {
     "cell_type": "code",
     "checksum": "c1155e1edcf26f32f575c6741e2b0256",
     "grade": true,
     "grade_id": "cell-9ca47d11dee25b3d",
     "locked": true,
     "points": 1,
     "schema_version": 3,
     "solution": false
    },
    "tags": [
     "Ex-6-Task-1"
    ]
   },
   "outputs": [],
   "source": [
    "assert(len(Theta) == 5)\n",
    "assert(intercept >= 1.2)\n"
   ]
  },
  {
   "cell_type": "markdown",
   "metadata": {
    "deletable": false,
    "editable": false,
    "id": "TEkFn_fyf0_M",
    "nbgrader": {
     "cell_type": "markdown",
     "checksum": "048117acece3177c7099a0cfa2749376",
     "grade": false,
     "grade_id": "cell-c6c848904804e9e9",
     "locked": true,
     "schema_version": 3,
     "solution": false
    }
   },
   "source": [
    "### Exercise 7: Model Prediction\n",
    "<b><div style=\"text-align: right\">[POINTS: 1]</div></b>\n",
    "\n",
    "**Task**\n",
    "- Predict the score for the test set `y_test`"
   ]
  },
  {
   "cell_type": "code",
   "execution_count": 51,
   "metadata": {
    "ExecuteTime": {
     "end_time": "2020-05-14T15:37:24.128884Z",
     "start_time": "2020-05-14T15:37:24.121747Z"
    },
    "deletable": false,
    "id": "qHKSVvXjf0_N",
    "nbgrader": {
     "cell_type": "code",
     "checksum": "d0727ba630d81f7b95bcb9b067c766ed",
     "grade": false,
     "grade_id": "cell-ecb799e05ff52ab2",
     "locked": false,
     "schema_version": 3,
     "solution": true
    },
    "tags": [
     "Ex-7-Task-1"
    ]
   },
   "outputs": [],
   "source": [
    "### Ex-7-Task-1\n",
    "y_pred = None\n",
    "### BEGIN SOLUTION\n",
    "y_pred = regr_num_top5.predict(X_test[top_five])\n",
    "# raise NotImplementedError\n",
    "### END SOLUTION"
   ]
  },
  {
   "cell_type": "code",
   "execution_count": 52,
   "metadata": {
    "ExecuteTime": {
     "end_time": "2020-05-14T15:46:14.375961Z",
     "start_time": "2020-05-14T15:46:14.368896Z"
    },
    "deletable": false,
    "editable": false,
    "id": "G0xH-QEMf0_R",
    "nbgrader": {
     "cell_type": "code",
     "checksum": "93b9d92e82a3544327a5930fe9a795cc",
     "grade": true,
     "grade_id": "cell-63842a622a7b3bda",
     "locked": true,
     "points": 1,
     "schema_version": 3,
     "solution": false
    },
    "tags": [
     "Ex-7-Task-1"
    ]
   },
   "outputs": [],
   "source": [
    "assert y_pred.shape == (79,)\n"
   ]
  },
  {
   "cell_type": "markdown",
   "metadata": {
    "deletable": false,
    "editable": false,
    "id": "3I3LuKRXf0_S",
    "nbgrader": {
     "cell_type": "markdown",
     "checksum": "1235a0cc6ada28630012ab46aded83eb",
     "grade": false,
     "grade_id": "cell-f821fe148b8b61c7",
     "locked": true,
     "schema_version": 3,
     "solution": false
    }
   },
   "source": [
    "### Exercise 8: Model Evaluation\n",
    "<b><div style=\"text-align: right\">[POINTS: 1]</div></b>\n",
    "\n",
    "Sklearn provides a default evaluation method rmse, also known as root mean square error, that will give some information about the performance of the model. \n",
    "\n",
    "**Task**\n",
    "- Calculate the `rmse score` using `sklearn.metrics` for the test set `y_test`"
   ]
  },
  {
   "cell_type": "code",
   "execution_count": 54,
   "metadata": {
    "ExecuteTime": {
     "end_time": "2020-05-14T15:49:24.134303Z",
     "start_time": "2020-05-14T15:49:24.123602Z"
    },
    "colab": {
     "base_uri": "https://localhost:8080/"
    },
    "deletable": false,
    "executionInfo": {
     "elapsed": 55,
     "status": "ok",
     "timestamp": 1623826734016,
     "user": {
      "displayName": "Rojesh Man Shikhrakar",
      "photoUrl": "https://lh3.googleusercontent.com/a-/AOh14Gh8acfmaw1GQlpTZ5omp8F9rjlgt0qiN-4EMGo8=s64",
      "userId": "17287545535191686920"
     },
     "user_tz": -345
    },
    "id": "ytpOnDWJf0_T",
    "nbgrader": {
     "cell_type": "code",
     "checksum": "fff485ae62cea523813a2320bb834472",
     "grade": false,
     "grade_id": "cell-4a1c1b0701a3cfb7",
     "locked": false,
     "schema_version": 3,
     "solution": true
    },
    "outputId": "fe9bb1b6-26dd-40f9-93af-4e8b8559b592",
    "tags": [
     "Ex-8-Task-1"
    ]
   },
   "outputs": [],
   "source": [
    "### Ex-8-Task-1\n",
    "from sklearn.metrics import mean_squared_error as mse, mean_absolute_error as mae\n",
    "rmse = None\n",
    "### BEGIN SOLUTION\n",
    "m = mse(y_test, y_pred)\n",
    "rmse = np.sqrt(m)\n",
    "# raise NotImplementedError\n",
    "### END SOLUTION"
   ]
  },
  {
   "cell_type": "code",
   "execution_count": 55,
   "metadata": {
    "ExecuteTime": {
     "end_time": "2020-05-14T15:47:58.273816Z",
     "start_time": "2020-05-14T15:47:58.269079Z"
    },
    "deletable": false,
    "editable": false,
    "id": "IhOPpesnf0_V",
    "nbgrader": {
     "cell_type": "code",
     "checksum": "c92ba914ff90351651a9a8b803330e2a",
     "grade": true,
     "grade_id": "cell-51cfa350a19b13e2",
     "locked": true,
     "points": 1,
     "schema_version": 3,
     "solution": false
    },
    "tags": [
     "Ex-8-Task-1"
    ]
   },
   "outputs": [],
   "source": [
    "assert(rmse != None)\n",
    "assert(np.isclose(rmse,2.33978))"
   ]
  },
  {
   "cell_type": "markdown",
   "metadata": {
    "deletable": false,
    "editable": false,
    "id": "mI2_5Sc_f0_W",
    "nbgrader": {
     "cell_type": "markdown",
     "checksum": "1c3d8d70f80c307fea1aeeb892bba93b",
     "grade": false,
     "grade_id": "cell-70d77c0173a4ca1e",
     "locked": true,
     "schema_version": 3,
     "solution": false
    }
   },
   "source": [
    "The above setup only uses top five highly correlated features, which happens to be all numeric in this case. We should be able to also account for other variables which are categorical in nature."
   ]
  },
  {
   "cell_type": "markdown",
   "metadata": {
    "deletable": false,
    "editable": false,
    "id": "M41hMlzQf0_X",
    "nbgrader": {
     "cell_type": "markdown",
     "checksum": "38f4fad85cd697d14d40c37b29b7a118",
     "grade": false,
     "grade_id": "cell-dd919a2b4d15f8a3",
     "locked": true,
     "schema_version": 3,
     "solution": false
    }
   },
   "source": [
    "### Variable Encoding\n",
    "\n",
    "Machine learning algorithms cannot understand categorical strings such as student's sex (binary: 'F' - female or 'M' - male) unless we convert them to numerical values (0 : 'F' and 1 : 'M'). We can do this using Label Encoding. \n",
    "\n",
    "**Label Encoding** assigns a value from 1 through N for each categories for the feature, here we are assuming there are N categories. For eg:  Medu - mother's education (numeric: 0 - none, 1 - primary education (4th grade), 2 - 5th to 9th grade, 3 - secondary education or 4 - higher education) has already been encoded numerically.\n",
    "\n",
    "Label Encoder assumes that there is some order in the data, i.e value 2 is greater than value 1, which is good if the data is oridnal but it is not suitable for nominal data types without any inherent order, such as mother's job (nominal: 'teacher', 'health' care related, civil 'services' (e.g. administrative or police), 'at_home' or 'other'), in such cases we need to perform some other encoding method, such as one-hot Encoding\n",
    "\n",
    "**One-hot Encoding** maps each category to a vector that contains 1 and 0 denoting the presence or absence of the feature. Hence, this method will create multiple columns based on the cardinality of the features, i.e number of categories in the feature. For: eg: Mjob - mother's job (nominal: 'teacher', 'health' care related, civil 'services' (e.g. administrative or police), 'at_home' or 'other') has 4 different categories, hence 4 columns will be created.\n",
    "\n",
    "This has been done for you in the following code. Do Check the columns of the new dataframe.\n",
    "\n",
    "You can read about different types of encoding [here](https://towardsdatascience.com/all-about-categorical-variable-encoding-305f3361fd02)."
   ]
  },
  {
   "cell_type": "code",
   "execution_count": 56,
   "metadata": {
    "ExecuteTime": {
     "end_time": "2020-05-14T15:50:00.740161Z",
     "start_time": "2020-05-14T15:50:00.680266Z"
    },
    "colab": {
     "base_uri": "https://localhost:8080/",
     "height": 330
    },
    "deletable": false,
    "editable": false,
    "executionInfo": {
     "elapsed": 47,
     "status": "ok",
     "timestamp": 1623826734019,
     "user": {
      "displayName": "Rojesh Man Shikhrakar",
      "photoUrl": "https://lh3.googleusercontent.com/a-/AOh14Gh8acfmaw1GQlpTZ5omp8F9rjlgt0qiN-4EMGo8=s64",
      "userId": "17287545535191686920"
     },
     "user_tz": -345
    },
    "id": "qhSRT16Rf0_X",
    "nbgrader": {
     "cell_type": "code",
     "checksum": "9e8e992a720f8499f87b6fce75443576",
     "grade": false,
     "grade_id": "cell-00515b5ffee3c89e",
     "locked": true,
     "schema_version": 3,
     "solution": false
    },
    "outputId": "8bbd2223-7977-4b90-8337-9bfe6d99c5a5"
   },
   "outputs": [
    {
     "data": {
      "text/html": [
       "<div>\n",
       "<style scoped>\n",
       "    .dataframe tbody tr th:only-of-type {\n",
       "        vertical-align: middle;\n",
       "    }\n",
       "\n",
       "    .dataframe tbody tr th {\n",
       "        vertical-align: top;\n",
       "    }\n",
       "\n",
       "    .dataframe thead th {\n",
       "        text-align: right;\n",
       "    }\n",
       "</style>\n",
       "<table border=\"1\" class=\"dataframe\">\n",
       "  <thead>\n",
       "    <tr style=\"text-align: right;\">\n",
       "      <th></th>\n",
       "      <th>school</th>\n",
       "      <th>sex</th>\n",
       "      <th>age</th>\n",
       "      <th>address</th>\n",
       "      <th>famsize</th>\n",
       "      <th>Pstatus</th>\n",
       "      <th>Medu</th>\n",
       "      <th>Fedu</th>\n",
       "      <th>traveltime</th>\n",
       "      <th>studytime</th>\n",
       "      <th>...</th>\n",
       "      <th>Fjob_other</th>\n",
       "      <th>Fjob_services</th>\n",
       "      <th>Fjob_teacher</th>\n",
       "      <th>reason_course</th>\n",
       "      <th>reason_home</th>\n",
       "      <th>reason_other</th>\n",
       "      <th>reason_reputation</th>\n",
       "      <th>guardian_father</th>\n",
       "      <th>guardian_mother</th>\n",
       "      <th>guardian_other</th>\n",
       "    </tr>\n",
       "  </thead>\n",
       "  <tbody>\n",
       "    <tr>\n",
       "      <th>64</th>\n",
       "      <td>0</td>\n",
       "      <td>0</td>\n",
       "      <td>15</td>\n",
       "      <td>1</td>\n",
       "      <td>1</td>\n",
       "      <td>1</td>\n",
       "      <td>4</td>\n",
       "      <td>3</td>\n",
       "      <td>1</td>\n",
       "      <td>2</td>\n",
       "      <td>...</td>\n",
       "      <td>False</td>\n",
       "      <td>True</td>\n",
       "      <td>False</td>\n",
       "      <td>False</td>\n",
       "      <td>False</td>\n",
       "      <td>False</td>\n",
       "      <td>True</td>\n",
       "      <td>True</td>\n",
       "      <td>False</td>\n",
       "      <td>False</td>\n",
       "    </tr>\n",
       "    <tr>\n",
       "      <th>55</th>\n",
       "      <td>0</td>\n",
       "      <td>0</td>\n",
       "      <td>16</td>\n",
       "      <td>1</td>\n",
       "      <td>0</td>\n",
       "      <td>0</td>\n",
       "      <td>2</td>\n",
       "      <td>1</td>\n",
       "      <td>1</td>\n",
       "      <td>2</td>\n",
       "      <td>...</td>\n",
       "      <td>True</td>\n",
       "      <td>False</td>\n",
       "      <td>False</td>\n",
       "      <td>False</td>\n",
       "      <td>False</td>\n",
       "      <td>True</td>\n",
       "      <td>False</td>\n",
       "      <td>False</td>\n",
       "      <td>True</td>\n",
       "      <td>False</td>\n",
       "    </tr>\n",
       "    <tr>\n",
       "      <th>343</th>\n",
       "      <td>0</td>\n",
       "      <td>0</td>\n",
       "      <td>17</td>\n",
       "      <td>1</td>\n",
       "      <td>0</td>\n",
       "      <td>0</td>\n",
       "      <td>2</td>\n",
       "      <td>2</td>\n",
       "      <td>1</td>\n",
       "      <td>2</td>\n",
       "      <td>...</td>\n",
       "      <td>False</td>\n",
       "      <td>False</td>\n",
       "      <td>False</td>\n",
       "      <td>False</td>\n",
       "      <td>True</td>\n",
       "      <td>False</td>\n",
       "      <td>False</td>\n",
       "      <td>True</td>\n",
       "      <td>False</td>\n",
       "      <td>False</td>\n",
       "    </tr>\n",
       "    <tr>\n",
       "      <th>219</th>\n",
       "      <td>0</td>\n",
       "      <td>0</td>\n",
       "      <td>17</td>\n",
       "      <td>1</td>\n",
       "      <td>0</td>\n",
       "      <td>1</td>\n",
       "      <td>2</td>\n",
       "      <td>2</td>\n",
       "      <td>1</td>\n",
       "      <td>3</td>\n",
       "      <td>...</td>\n",
       "      <td>False</td>\n",
       "      <td>False</td>\n",
       "      <td>False</td>\n",
       "      <td>True</td>\n",
       "      <td>False</td>\n",
       "      <td>False</td>\n",
       "      <td>False</td>\n",
       "      <td>False</td>\n",
       "      <td>True</td>\n",
       "      <td>False</td>\n",
       "    </tr>\n",
       "    <tr>\n",
       "      <th>366</th>\n",
       "      <td>1</td>\n",
       "      <td>1</td>\n",
       "      <td>18</td>\n",
       "      <td>1</td>\n",
       "      <td>1</td>\n",
       "      <td>1</td>\n",
       "      <td>4</td>\n",
       "      <td>4</td>\n",
       "      <td>2</td>\n",
       "      <td>3</td>\n",
       "      <td>...</td>\n",
       "      <td>False</td>\n",
       "      <td>True</td>\n",
       "      <td>False</td>\n",
       "      <td>False</td>\n",
       "      <td>False</td>\n",
       "      <td>True</td>\n",
       "      <td>False</td>\n",
       "      <td>False</td>\n",
       "      <td>True</td>\n",
       "      <td>False</td>\n",
       "    </tr>\n",
       "  </tbody>\n",
       "</table>\n",
       "<p>5 rows × 45 columns</p>\n",
       "</div>"
      ],
      "text/plain": [
       "     school  sex  age  address  famsize  Pstatus  Medu  Fedu  traveltime  \\\n",
       "64        0    0   15        1        1        1     4     3           1   \n",
       "55        0    0   16        1        0        0     2     1           1   \n",
       "343       0    0   17        1        0        0     2     2           1   \n",
       "219       0    0   17        1        0        1     2     2           1   \n",
       "366       1    1   18        1        1        1     4     4           2   \n",
       "\n",
       "     studytime  ...  Fjob_other  Fjob_services  Fjob_teacher  reason_course  \\\n",
       "64           2  ...       False           True         False          False   \n",
       "55           2  ...        True          False         False          False   \n",
       "343          2  ...       False          False         False          False   \n",
       "219          3  ...       False          False         False           True   \n",
       "366          3  ...       False           True         False          False   \n",
       "\n",
       "     reason_home  reason_other  reason_reputation  guardian_father  \\\n",
       "64         False         False               True             True   \n",
       "55         False          True              False            False   \n",
       "343         True         False              False             True   \n",
       "219        False         False              False            False   \n",
       "366        False          True              False            False   \n",
       "\n",
       "     guardian_mother  guardian_other  \n",
       "64             False           False  \n",
       "55              True           False  \n",
       "343            False           False  \n",
       "219             True           False  \n",
       "366             True           False  \n",
       "\n",
       "[5 rows x 45 columns]"
      ]
     },
     "execution_count": 56,
     "metadata": {},
     "output_type": "execute_result"
    }
   ],
   "source": [
    "### RUN THIS CELL\n",
    "\n",
    "from sklearn.preprocessing import LabelEncoder\n",
    "\n",
    "def preprocess(df):\n",
    "    numeric = ['age', 'traveltime', 'Medu','Fedu', 'studytime', 'failures', 'famrel', \n",
    "               'freetime', 'goout', 'Dalc', 'Walc', 'health' , 'absences', 'G1', 'G2']\n",
    "    cat_nominal = ['Mjob', 'Fjob', 'reason', 'guardian']\n",
    "    cat_binary = ['school', 'sex', 'address', 'famsize', 'Pstatus', 'schoolsup', \n",
    "                  'famsup', 'paid', 'activities', 'nursery', 'higher', 'internet', 'romantic']\n",
    "\n",
    "    df[cat_binary] = df[cat_binary].apply(LabelEncoder().fit_transform)  # label_encoding\n",
    "\n",
    "    df = pd.get_dummies(df, columns=cat_nominal, prefix=cat_nominal)  # one-hot encoding\n",
    "    return df\n",
    "\n",
    "X_train, X_test = preprocess(X_train), preprocess(X_test)    \n",
    "X_train.head()"
   ]
  },
  {
   "cell_type": "markdown",
   "metadata": {
    "deletable": false,
    "editable": false,
    "id": "LogI1HxUf0_Z",
    "nbgrader": {
     "cell_type": "markdown",
     "checksum": "98080403b80dacc2d3bb9343bc58a3aa",
     "grade": false,
     "grade_id": "cell-256c3f7cb7695c70",
     "locked": true,
     "schema_version": 3,
     "solution": false
    }
   },
   "source": [
    "### Exercise 9: Fit a Linear Regression model on all Features\n",
    "<b><div style=\"text-align: right\">[POINTS: 1]</div></b>\n",
    "\n",
    "Fit a linear regression model on all features after preprocessing.\n",
    "\n",
    "\n",
    "**Task:** \n",
    "- Instantiate a `LinearRegression` object as `regr_all` with `fit_intercept` set to `True`\n",
    "- Fit the model to all the features using the above preprocessed training set\n",
    "- Save coefficients in `Theta` and intercept in `intercept`"
   ]
  },
  {
   "cell_type": "code",
   "execution_count": 59,
   "metadata": {
    "ExecuteTime": {
     "end_time": "2020-05-14T15:57:53.660204Z",
     "start_time": "2020-05-14T15:57:53.640823Z"
    },
    "deletable": false,
    "id": "5mNqvVqQf0_Z",
    "nbgrader": {
     "cell_type": "code",
     "checksum": "057456ff2c3c0a7d5654c8a6ec809678",
     "grade": false,
     "grade_id": "cell-ab92a278ef734c6d",
     "locked": false,
     "schema_version": 3,
     "solution": true
    },
    "tags": [
     "Ex-9-Task-1"
    ]
   },
   "outputs": [],
   "source": [
    "### Ex-9-Task-1\n",
    "regr_all = None\n",
    "Theta = None\n",
    "intercept = None\n",
    "\n",
    "### BEGIN SOLUTION\n",
    "regr_all = LinearRegression(fit_intercept=True)\n",
    "regr_all.fit(X_train, y_train)\n",
    "Theta = regr_all.coef_\n",
    "intercept = regr_all.intercept_\n",
    "# raise NotImplementedError\n",
    "### END SOLUTION"
   ]
  },
  {
   "cell_type": "code",
   "execution_count": 60,
   "metadata": {
    "deletable": false,
    "editable": false,
    "id": "2k2kQLuIf0_b",
    "nbgrader": {
     "cell_type": "code",
     "checksum": "b57629f9a74454a56a8ed58778180988",
     "grade": true,
     "grade_id": "cell-0216e9ea2b06ff9e",
     "locked": true,
     "points": 1,
     "schema_version": 3,
     "solution": false
    },
    "tags": [
     "Ex-9-Task-1"
    ]
   },
   "outputs": [],
   "source": [
    "assert(len(Theta) == 45)\n",
    "assert(intercept != None)\n",
    "assert(hasattr(regr_all, 'coef_'))"
   ]
  },
  {
   "cell_type": "markdown",
   "metadata": {
    "deletable": false,
    "editable": false,
    "id": "7_lLLmUMf0_c",
    "nbgrader": {
     "cell_type": "markdown",
     "checksum": "03fda56c5a160806a7eacf47aea9905b",
     "grade": false,
     "grade_id": "cell-6405bc40df7840eb",
     "locked": true,
     "schema_version": 3,
     "solution": false
    }
   },
   "source": [
    "### Exercise 10: Model Evaluation\n",
    "<b><div style=\"text-align: right\">[POINTS: 1]</div></b>\n",
    "\n",
    "`Mean Absolute Error (MAE)` and `Root mean squared error (RMSE)` are two of the most common metrics used to measure accuracy for continuous variables. Both MAE and RMSE express average model prediction error in units of the variable of interest.\n",
    "\n",
    "**Task:**\n",
    "- calculate `MAE` and `RMSE` using `sklearn.metrics` and assign it to the respective variables below."
   ]
  },
  {
   "cell_type": "code",
   "execution_count": 64,
   "metadata": {
    "ExecuteTime": {
     "end_time": "2020-05-14T15:59:21.652192Z",
     "start_time": "2020-05-14T15:59:21.605052Z"
    },
    "colab": {
     "base_uri": "https://localhost:8080/"
    },
    "deletable": false,
    "executionInfo": {
     "elapsed": 37,
     "status": "ok",
     "timestamp": 1623826734022,
     "user": {
      "displayName": "Rojesh Man Shikhrakar",
      "photoUrl": "https://lh3.googleusercontent.com/a-/AOh14Gh8acfmaw1GQlpTZ5omp8F9rjlgt0qiN-4EMGo8=s64",
      "userId": "17287545535191686920"
     },
     "user_tz": -345
    },
    "id": "sm_64pKtf0_d",
    "nbgrader": {
     "cell_type": "code",
     "checksum": "e1aaf98e5836d71b21284dd42f111f8e",
     "grade": false,
     "grade_id": "cell-a662ca22b663528f",
     "locked": false,
     "schema_version": 3,
     "solution": true
    },
    "outputId": "0ab5134a-eb98-412e-bd7d-f0145de8ce60",
    "tags": [
     "Ex-10-Task-1"
    ]
   },
   "outputs": [
    {
     "name": "stdout",
     "output_type": "stream",
     "text": [
      "rmse:  2.339786416840782 \n",
      "mae:  1.3296474215488832\n"
     ]
    }
   ],
   "source": [
    "### Ex-10-Task-1\n",
    "mae_value = None\n",
    "rmse_value = None\n",
    "\n",
    "### BEGIN SOLUTION\n",
    "mae_value = mae(y_test, y_pred)\n",
    "rmse_value = np.sqrt(mse(y_test, y_pred))\n",
    "#  raise NotImplementedError\n",
    "### END SOLUTION\n",
    "\n",
    "print(\"rmse: \", rmse_value, \"\\n\"\n",
    "      \"mae: \", mae_value)\n"
   ]
  },
  {
   "cell_type": "code",
   "execution_count": 65,
   "metadata": {
    "ExecuteTime": {
     "end_time": "2020-05-14T16:07:17.571921Z",
     "start_time": "2020-05-14T16:07:17.558257Z"
    },
    "deletable": false,
    "editable": false,
    "id": "JA-ynVOhf0_h",
    "nbgrader": {
     "cell_type": "code",
     "checksum": "4cfc1f96cc9f0eb2960cea690bc15f61",
     "grade": true,
     "grade_id": "cell-6e61accbb87423ad",
     "locked": true,
     "points": 1,
     "schema_version": 3,
     "solution": false
    },
    "tags": [
     "Ex-10-Task-1"
    ]
   },
   "outputs": [],
   "source": [
    "assert (rmse_value < 3)"
   ]
  },
  {
   "cell_type": "markdown",
   "metadata": {
    "deletable": false,
    "editable": false,
    "id": "In5KGPEHf0_i",
    "nbgrader": {
     "cell_type": "markdown",
     "checksum": "128b295b566e090a90ed9dd2868e4415",
     "grade": false,
     "grade_id": "cell-f086fcb04c28b527",
     "locked": true,
     "schema_version": 3,
     "solution": false
    }
   },
   "source": [
    "### Exercise 11: Are these values good enough ?\n",
    "<b><div style=\"text-align: right\">[POINTS: 2]</div></b>\n",
    "\n",
    "How can we make sure that the RMSE, MAE values. One common method is to use a baseline model. A baseline model is a simple model that predicts in a very simple manner such as always predicting the mean value.\n",
    "\n",
    "**Task:**\n",
    "- Create a baseline model that always predicts the mean of the data used in training\n",
    "- Calculate the root mean squared error and mean absolute error using baseline model\n",
    "- Answer the quizzes below based on your calculations\n",
    "\n",
    "**Hints:**\n",
    "- Use `DummyRegressor` from `sklearn.dummy` module.\n",
    "- Instantiate a `DummyRegressor` object as `base_model` with `strategy` set to `mean`\n",
    "- Fit the model to all the features using the above preprocessed training set\n"
   ]
  },
  {
   "cell_type": "code",
   "execution_count": 69,
   "metadata": {
    "ExecuteTime": {
     "end_time": "2020-05-14T16:17:39.645904Z",
     "start_time": "2020-05-14T16:17:39.630839Z"
    },
    "colab": {
     "base_uri": "https://localhost:8080/"
    },
    "deletable": false,
    "executionInfo": {
     "elapsed": 32,
     "status": "ok",
     "timestamp": 1623826734023,
     "user": {
      "displayName": "Rojesh Man Shikhrakar",
      "photoUrl": "https://lh3.googleusercontent.com/a-/AOh14Gh8acfmaw1GQlpTZ5omp8F9rjlgt0qiN-4EMGo8=s64",
      "userId": "17287545535191686920"
     },
     "user_tz": -345
    },
    "id": "Q34Wl9JIf0_j",
    "nbgrader": {
     "cell_type": "code",
     "checksum": "59272e13285e9488bf99590ec3b0f9f2",
     "grade": false,
     "grade_id": "cell-5087e584bf90da33",
     "locked": false,
     "schema_version": 3,
     "solution": true
    },
    "outputId": "79256680-a114-4a5d-8c83-7a3ad9c7f6e0",
    "tags": [
     "Ex-11-Task-1"
    ]
   },
   "outputs": [
    {
     "name": "stdout",
     "output_type": "stream",
     "text": [
      "rmse:  5.260925333334679 \n",
      "mae:  4.120573626021471\n"
     ]
    }
   ],
   "source": [
    "### Ex-11-Task-1\n",
    "from sklearn.dummy import DummyRegressor\n",
    "\n",
    "base_model = None\n",
    "rmse_base = None\n",
    "mae_base = None\n",
    "\n",
    "### BEGIN SOLUTION\n",
    "base_model = DummyRegressor(strategy='mean')\n",
    "base_model.fit(X_train, y_train)\n",
    "y_base_pred = base_model.predict(X_test)\n",
    "\n",
    "rmse_base = np.sqrt(mse(y_test, y_base_pred))\n",
    "mae_base = mae(y_test, y_base_pred)\n",
    "\n",
    "# raise NotImplementedError\n",
    "### END SOLUTION\n",
    "\n",
    "print(\"rmse: \", rmse_base, \"\\n\"\n",
    "      \"mae: \", mae_base)\n"
   ]
  },
  {
   "cell_type": "code",
   "execution_count": 71,
   "metadata": {
    "deletable": false,
    "editable": false,
    "id": "7BuPyPoNf0_k",
    "nbgrader": {
     "cell_type": "code",
     "checksum": "b217b0ce4f82f7b44f5db6bebec6a1a4",
     "grade": true,
     "grade_id": "cell-38f1c6b584f8f16e",
     "locked": true,
     "points": 1,
     "schema_version": 3,
     "solution": false
    },
    "tags": [
     "Ex-11-Task-1"
    ]
   },
   "outputs": [],
   "source": [
    "assert(base_model != None)\n",
    "assert(rmse_base != None)\n",
    "assert(mae_base != None)\n",
    "\n",
    "assert(np.isclose(round(rmse_base,4), 5.2609))\n",
    "assert(np.isclose(round(mae_base,4),4.12057))"
   ]
  },
  {
   "cell_type": "code",
   "execution_count": null,
   "metadata": {},
   "outputs": [],
   "source": []
  }
 ],
 "metadata": {
  "colab": {
   "collapsed_sections": [],
   "name": "Linear Regression_Instructor.ipynb",
   "provenance": []
  },
  "kernelspec": {
   "display_name": "env",
   "language": "python",
   "name": "python3"
  },
  "language_info": {
   "codemirror_mode": {
    "name": "ipython",
    "version": 3
   },
   "file_extension": ".py",
   "mimetype": "text/x-python",
   "name": "python",
   "nbconvert_exporter": "python",
   "pygments_lexer": "ipython3",
   "version": "3.12.3"
  },
  "varInspector": {
   "cols": {
    "lenName": 16,
    "lenType": 16,
    "lenVar": 40
   },
   "kernels_config": {
    "python": {
     "delete_cmd_postfix": "",
     "delete_cmd_prefix": "del ",
     "library": "var_list.py",
     "varRefreshCmd": "print(var_dic_list())"
    },
    "r": {
     "delete_cmd_postfix": ") ",
     "delete_cmd_prefix": "rm(",
     "library": "var_list.r",
     "varRefreshCmd": "cat(var_dic_list()) "
    }
   },
   "types_to_exclude": [
    "module",
    "function",
    "builtin_function_or_method",
    "instance",
    "_Feature"
   ],
   "window_display": false
  }
 },
 "nbformat": 4,
 "nbformat_minor": 1
}
