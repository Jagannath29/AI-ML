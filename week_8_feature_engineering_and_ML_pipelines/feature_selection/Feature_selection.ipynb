{
  "cells": [
    {
      "cell_type": "markdown",
      "metadata": {
        "id": "7HHWiVrXZXa4"
      },
      "source": [
        "# Learning\n",
        "This chapter comprehends:\n",
        "- Brief theory on feature selection, its importance, and types.\n",
        "- Short implementations of feature selection methods.\n",
        "\n",
        "# Prerequisites\n",
        "\n",
        "Before diving into this chapter have knowledge regarding:\n",
        "\n",
        "- Features, its types, and characteristics, so for a refresher, revision of chapter \"Introduction to feature engineering\" is recommended.\n",
        "- Probability distributions and hypothesis testing.\n",
        "- Regularization and linear regression method.\n",
        "- Scikit-learn's paradigm.\n"
      ]
    },
    {
      "cell_type": "markdown",
      "metadata": {
        "id": "oPJpZ5K6ZXa6"
      },
      "source": [
        "# Feature Selection\n",
        "\n",
        "__Feature selection__, AKA variable selection, or attribute selection are a collection of techniques that contributes to automatic or manual selection of essential features from the dataset. The \"important\" features selected are the most relevant and help improve the performance of the machine learning model. You have probably heard of the term \"_Garbage In, Garbage out_\" that is present in the field of ML. The dataset containing irrelevant features (garbage input) takes more memory resources, and in training leads to overfitting, lower model accuracy, and extensive training time (garbage output).\n",
        "\n",
        "## Importance of feature selection\n",
        "\n",
        "Every ML algorithm's performance is dependent on the set of features fed, but how? Let's dive into the importance of feature selection to understand more:\n",
        "\n",
        "- __Reduction of overfitting and model complexity__, by reduction of feature space of the data causing selection of simplier models, which are easily understandable by users and less prone to overfitting.\n",
        "\n",
        "- __Faster training__, helps reduce features, which results in lower training time.\n",
        "\n",
        "- __Improve the accuracy of the model__, by removing many redundant/irrelevant feature can act as noise to the model, which corrode model performance.\n",
        "\n",
        "\n",
        "## Short note on the difference between feature selection and dimensionality reduction\n",
        "\n",
        "Both feature selection and dimensionality reduction seek to reduce the dimension or attributes of the data. However, feature selection removes the highly correlated and less required characteristics without affecting the remaining features. On the other hand, dimensionality reduction techniques create a new combination of attributes.\n",
        "\n",
        "So, in other words, feature selection is more about selecting the essential features and throwing the rest. Dimensionality reduction refers to joining the elements and creates new features that attempt to carry all the information from the old features."
      ]
    },
    {
      "cell_type": "markdown",
      "metadata": {
        "id": "SFOqIVW3ZXa6"
      },
      "source": [
        "## Types of feature selection\n",
        "\n",
        "Feature selection methods divide into three major classes. This sub-section is all about them and their implementation. The feature selection methods are:\n",
        "\n",
        "1. __Filter methods__\n",
        "\n",
        " The base of filter methods is ranking the features based on the computed scores. The ranks then help in extracting or selecting relevant features. __Filter methods__, as the name suggests, filters out low scoring features. The scores are criteria calculated using various statistical tests such as distance, information, linear dependency.\n",
        "\n",
        " These methods consider the feature independently, or in regards to the dependent variable. However, Multicollinearity (Linear correlation) of features must be dealt with before applying filter methods as these methods can not remove multicollinearity from the existing dataset.\n",
        "\n",
        " <center>\n",
        " <figure>\n",
        " <!-- <img src=\"https://docs.google.com/uc?export=download&id=1Z9ml7T28jUc39ft3TVJyXUUumQ-5lIGK\" alt=\"Flow of filter method\"> -->\n",
        " <img src=\"https://i.postimg.cc/pVzbvRBn/image.png\" alt=\"Flow of filter method\">\n",
        " <br>\n",
        " <figcaption align=\"center\">Figure 1: Flow of filter method\n",
        " </figcaption>\n",
        " </figure>\n",
        " </center>\n",
        "\n",
        " Filter methods are preprocessing steps and are computationally cheap.\n",
        "\n",
        " Let's discuss some techniques of filter methods:\n",
        "\n",
        "\n",
        "- __Pearson's Correlation Coefficient__\n",
        "\n",
        " Pearson's correlation coefficient, also known as Product Moment Correlation Coefficient(PMCC) or simply correlation, is technique that are used compute the __linear correlation__ between the features of the dataset. Both the input and output features of the pearson correlation coefficient are numerical values. The correlation is given by the formula:\n",
        "  \n",
        "  $$\n",
        "  \\text{Correlation coefficient}(r_{xy}) = \\large{\\frac{\\Sigma(x_i - \\mu_x)(y_i - \\mu_y)}{\\sqrt{\\Sigma(x_i-\\mu_x)^2\\Sigma(y_i-\\mu_y)^2}}}\n",
        "  $$\n",
        "  \n",
        " Where, $x, y$ are any two features of the dataset. $i$ represents the ith observation, $\\mu$ represent the mean of subscripted variable, and $\\Sigma$ is the summation notation.\n",
        "\n",
        "  The linear correlation has a value of range [-1,1] and measures the linear dependence between two continuous variables. For a quick recap, the values represent the following:\n",
        "  \n",
        "  - -1: Perfect negative correlation. Increasing one feature decreases the other one.\n",
        "  - 0: No correlation. The features aren't affected by one another.\n",
        "  - 1: Perfect positive correlation: Increasing one feature increase the other one.\n",
        "  \n",
        "  The linear model consisting of multicollinearity degrade its performance. Two criteria for selecting the features using correlation are:\n",
        "\n",
        "  - Remove one of the two highly correlated independent variables.\n",
        "\n",
        "  - Select any variable with more than +n or less than -n (n is any number defined by the user between 0 and 1, generally 0.5) correlation with target variable.\n",
        "  \n",
        "  \n",
        "- __Chi-Square Test__\n",
        "\n",
        " Chi-square is a distribution that a random variable follows when it can be written as the sum of squares of standard normal variables, given as:\n",
        "\n",
        " $$\n",
        " \\large{\\chi_k ^2 = \\Sigma Z_i}\n",
        " $$\n",
        "\n",
        "  <center>\n",
        "  <figure>\n",
        "  <!-- <img src=\"https://docs.google.com/uc?export=download&id=1vu9ZfleYtbUra1tXOPoqqwvy9KvqjUbe\" alt=\"Hierarchy of data science\" width=400> -->\n",
        "  <img src=\"https://i.postimg.cc/zGJVWdf0/image.png\" alt=\"Hierarchy of data science\" width=400>\n",
        "  <br>\n",
        "  <figcaption align=\"center\">Figure 2: Probability distribution function of Chi-square distribution. Created by: <a href='https://commons.wikimedia.org/wiki/User:Geek3'>Geek3</a> under CC3 license.\n",
        "  </a></figcaption>\n",
        "  </figure>\n",
        "  </center>\n",
        "\n",
        " Where $\\chi$ is the chi-value of the distribution, $Z$ is the standard normal variable,  $k$ is the degree of freedom for chi-square distribution. The degree of freedom is given as, _no. of unique labels of target - 1 times no. of unique labels of independent variable -1_. Chi-square approaches the normal distribution when the degree of freedom increases.\n",
        "\n",
        " __Chi-square test__ measures the dependence between two features(independent variable and target) of the dataset. The aim of using the chi-square test is to __select the features which are highly dependent on the target value__.\n",
        "Note that, both the input and output of chi-squared test are categorical features. The formula for chi-squared test is given as:\n",
        "\n",
        " $$\n",
        " \\large{\\chi_k ^2 = \\Sigma \\frac{(O_i - E_i)^2}{E_i}}\n",
        " $$\n",
        "\n",
        " Here, $O_i$ and $E_i$ are the $i^{th}$ observed and expected values between two features.\n",
        " Let's discuss the steps for performing Chi-square test:\n",
        "\n",
        "1. __Define hypothesis__\n",
        "\n",
        "  The hypothesis of chi-square test are:\n",
        "  - Null hypothesis(H0) : Two variables are independent.\n",
        "  - Alternate hypothesis(H1): Two variables are dependent.\n",
        "\n",
        "2. __Compute the contengency table__\n",
        "\n",
        " The contingency table shows the distribution of one variable in a row while another in the column—For example, a dataset with age category as feature and heart disease as the target.\n",
        "\n",
        "  <table style=\"border-collapse:collapse;border-spacing:0\" class=\"tg\"><tr><th style=\"font-family:Arial, sans-serif;font-size:14px;font-weight:normal;padding:10px 5px;border-style:solid;border-width:1px;overflow:hidden;word-break:normal;border-color:inherit;text-align:left;vertical-align:middle\">Heart Disease<br>/Age</th><td style=\"font-family:Arial, sans-serif;font-size:14px;font-weight:normal;padding:10px 5px;border-style:solid;border-width:1px;overflow:hidden;word-break:normal;border-color:inherit;text-align:left;vertical-align:middle\">Positive</td><td style=\"font-family:Arial, sans-serif;font-size:14px;font-weight:normal;padding:10px 5px;border-style:solid;border-width:1px;overflow:hidden;word-break:normal;border-color:inherit;text-align:left;vertical-align:middle\">Negative</td><td style=\"font-family:Arial, sans-serif;font-size:14px;font-weight:normal;padding:10px 5px;border-style:solid;border-width:1px;overflow:hidden;word-break:normal;border-color:inherit;text-align:center;vertical-align:top\">Total</t></tr><tr><td style=\"font-family:Arial, sans-serif;font-size:14px;padding:10px 5px;border-style:solid;border-width:1px;overflow:hidden;word-break:normal;border-color:inherit;text-align:left;vertical-align:middle\">Old</td><td style=\"font-family:Arial, sans-serif;font-size:14px;padding:10px 5px;border-style:solid;border-width:1px;overflow:hidden;word-break:normal;border-color:inherit;text-align:left;vertical-align:middle\">147</td><td style=\"font-family:Arial, sans-serif;font-size:14px;padding:10px 5px;border-style:solid;border-width:1px;overflow:hidden;word-break:normal;border-color:inherit;text-align:left;vertical-align:middle\">55</td><td style=\"font-family:Arial, sans-serif;font-size:14px;padding:10px 5px;border-style:solid;border-width:1px;overflow:hidden;word-break:normal;border-color:inherit;text-align:left;vertical-align:top\">202</td></tr><tr><td style=\"font-family:Arial, sans-serif;font-size:14px;padding:10px 5px;border-style:solid;border-width:1px;overflow:hidden;word-break:normal;border-color:inherit;text-align:left;vertical-align:middle\">Young</td><td style=\"font-family:Arial, sans-serif;font-size:14px;padding:10px 5px;border-style:solid;border-width:1px;overflow:hidden;word-break:normal;border-color:inherit;text-align:left;vertical-align:middle\">13</td><td style=\"font-family:Arial, sans-serif;font-size:14px;padding:10px 5px;border-style:solid;border-width:1px;overflow:hidden;word-break:normal;border-color:inherit;text-align:left;vertical-align:middle\">122</td><td style=\"font-family:Arial, sans-serif;font-size:14px;padding:10px 5px;border-style:solid;border-width:1px;overflow:hidden;word-break:normal;border-color:inherit;text-align:left;vertical-align:top\">135</td></tr><tr><td style=\"font-family:Arial, sans-serif;font-size:14px;padding:10px 5px;border-style:solid;border-width:1px;overflow:hidden;word-break:normal;border-color:inherit;text-align:left;vertical-align:top\">Total</td><td style=\"font-family:Arial, sans-serif;font-size:14px;padding:10px 5px;border-style:solid;border-width:1px;overflow:hidden;word-break:normal;border-color:inherit;text-align:left;vertical-align:top\">160</td><td style=\"font-family:Arial, sans-serif;font-size:14px;padding:10px 5px;border-style:solid;border-width:1px;overflow:hidden;word-break:normal;border-color:inherit;text-align:left;vertical-align:top\">177</td><td style=\"font-family:Arial, sans-serif;font-size:14px;padding:10px 5px;border-style:solid;border-width:1px;overflow:hidden;word-break:normal;border-color:inherit;text-align:left;vertical-align:top\">337</td></tr></table>\n",
        "  <center>Table 1: Example of contingency table</center>\n",
        "\n",
        " Here, the degree of freedom is calculated as $(r-1)*(c-1) = 1$, where $r, c$  are the rows and columns with unique labels. The expected values are calculated using the probabilities computed from the tables. One sample example,\n",
        "\n",
        "3. __Calculate expected value and chi-square value__\n",
        "\n",
        " Let's operate one chi-square value.\n",
        " \\begin{align}\n",
        " \\text{Expected value of old, positive}(E_1) &= \\text{Total sample} * P(\\text{old})*P(\\text{Positive}) \\\\\n",
        "  &= 337*\\frac{202}{337}*\\frac{160}{337} \\\\\n",
        "  &= 96 \\\\\n",
        "  \\text{chi-square value}(E_1) &=  \\frac{(147-96)^2}{96} \\\\\n",
        "  &= 27.22\n",
        " \\end{align}\n",
        "\n",
        " Similarly, other combination's expected and chi-squared value is computed\n",
        "\n",
        "| Age, Heart Disease     | Original Value | Expected Value | Chi-squared Value |\n",
        "|------------------------|----------------|----------------|-------------------|\n",
        "| Old, Yes               | 147            | 95.90          | 27.22             |\n",
        "| Old, No                | 55             | 106.09         | 244.60            |\n",
        "| Young, Yes             | 13             | 64.09          | 40.73             |\n",
        "| Young, No              | 122            | 70.90          | 36.81             |\n",
        "| Total Chi-square value |                |                | 129.38            |\n",
        "\n",
        "<center>Table 2: Table showing computation of chi-square value</center>\n",
        " As seen from the above table, the chi-square value is 129.38.\n",
        "\n",
        "4. __Accept/Reject Null hypothesis__\n",
        "\n",
        " Selecting significance level $\\alpha=0.05$. Comparision of chi-square value is done to check if it fall in acceptance or rejection region. The chi-square value is equal to 3.84, computed from this [table]( https://web.ma.utexas.edu/users/davis/375/popecol/tables/chisq.html) with $\\alpha=0.05$ and degree of freedom = 1. For null hypothesis to be true, the computed chi-square value must be less than 3.84.\n",
        "\n",
        "  As, 129.38>3.84, the null hypothesis is rejected, i.e. independent variable and target are dependent. \"Age\" variable is selected for training the model from chi-square test.\n",
        "\n",
        " Similarly, other variables are tested against the target.\n",
        "\n",
        "Other techniques that fall under filter methods are ANOVA(Analysis of Variance), mutual information gain. If interested, please search for them on the internet.\n",
        "\n",
        "### Demo\n",
        "\n",
        "All the feature selection techniques in the code snippets use Scikit-learn's feature selection API.\n",
        "\n",
        "Scikit-learn's datatset, ```load_boston``` is the of choice for regression task, which is Boston house prices dataset with 12 features and target - house price.\n",
        "\n",
        "Importing all the required libraries and methods. Following Scikit-learn's methods computing the filter method's scores:\n",
        "\n",
        "- Pearson correlation coefficient - ```f_regression```\n",
        "- Chi-square test - ```chi2```\n",
        "\n",
        "Also, for the selection of the features, Scikit-learn provides:\n",
        "\n",
        "- ```SelectKBest``` - selects top 'k' scoring features described by the user.\n",
        "- ```SelectPercentile``` - removes all but the user-specified highest scoring percentage of features."
      ]
    },
    {
      "cell_type": "code",
      "execution_count": null,
      "metadata": {
        "id": "7Qc0a7hhZXa7"
      },
      "outputs": [],
      "source": [
        "# importing required libraries\n",
        "import pandas as pd #For data manipulation\n",
        "from sklearn.datasets import load_boston\n",
        "from sklearn.feature_selection import f_regression\n",
        "from sklearn.feature_selection import chi2\n",
        "from sklearn.feature_selection import SelectKBest"
      ]
    },
    {
      "cell_type": "markdown",
      "metadata": {
        "id": "vMPuXRH9ZXbA"
      },
      "source": [
        "Placing the dataset appropriatly into Pandas's DataFrame"
      ]
    },
    {
      "cell_type": "code",
      "execution_count": null,
      "metadata": {
        "colab": {
          "base_uri": "https://localhost:8080/",
          "height": 206
        },
        "id": "YOEt30MfZXbB",
        "outputId": "5b2987b5-35c4-462c-e479-33b2fc9edbe6",
        "scrolled": true
      },
      "outputs": [
        {
          "data": {
            "text/html": [
              "<div>\n",
              "<style scoped>\n",
              "    .dataframe tbody tr th:only-of-type {\n",
              "        vertical-align: middle;\n",
              "    }\n",
              "\n",
              "    .dataframe tbody tr th {\n",
              "        vertical-align: top;\n",
              "    }\n",
              "\n",
              "    .dataframe thead th {\n",
              "        text-align: right;\n",
              "    }\n",
              "</style>\n",
              "<table border=\"1\" class=\"dataframe\">\n",
              "  <thead>\n",
              "    <tr style=\"text-align: right;\">\n",
              "      <th></th>\n",
              "      <th>CRIM</th>\n",
              "      <th>ZN</th>\n",
              "      <th>INDUS</th>\n",
              "      <th>CHAS</th>\n",
              "      <th>NOX</th>\n",
              "      <th>RM</th>\n",
              "      <th>AGE</th>\n",
              "      <th>DIS</th>\n",
              "      <th>RAD</th>\n",
              "      <th>TAX</th>\n",
              "      <th>PTRATIO</th>\n",
              "      <th>B</th>\n",
              "      <th>LSTAT</th>\n",
              "      <th>TAR</th>\n",
              "    </tr>\n",
              "  </thead>\n",
              "  <tbody>\n",
              "    <tr>\n",
              "      <th>0</th>\n",
              "      <td>0.00632</td>\n",
              "      <td>18.0</td>\n",
              "      <td>2.31</td>\n",
              "      <td>0.0</td>\n",
              "      <td>0.538</td>\n",
              "      <td>6.575</td>\n",
              "      <td>65.2</td>\n",
              "      <td>4.0900</td>\n",
              "      <td>1.0</td>\n",
              "      <td>296.0</td>\n",
              "      <td>15.3</td>\n",
              "      <td>396.90</td>\n",
              "      <td>4.98</td>\n",
              "      <td>24.0</td>\n",
              "    </tr>\n",
              "    <tr>\n",
              "      <th>1</th>\n",
              "      <td>0.02731</td>\n",
              "      <td>0.0</td>\n",
              "      <td>7.07</td>\n",
              "      <td>0.0</td>\n",
              "      <td>0.469</td>\n",
              "      <td>6.421</td>\n",
              "      <td>78.9</td>\n",
              "      <td>4.9671</td>\n",
              "      <td>2.0</td>\n",
              "      <td>242.0</td>\n",
              "      <td>17.8</td>\n",
              "      <td>396.90</td>\n",
              "      <td>9.14</td>\n",
              "      <td>21.6</td>\n",
              "    </tr>\n",
              "    <tr>\n",
              "      <th>2</th>\n",
              "      <td>0.02729</td>\n",
              "      <td>0.0</td>\n",
              "      <td>7.07</td>\n",
              "      <td>0.0</td>\n",
              "      <td>0.469</td>\n",
              "      <td>7.185</td>\n",
              "      <td>61.1</td>\n",
              "      <td>4.9671</td>\n",
              "      <td>2.0</td>\n",
              "      <td>242.0</td>\n",
              "      <td>17.8</td>\n",
              "      <td>392.83</td>\n",
              "      <td>4.03</td>\n",
              "      <td>34.7</td>\n",
              "    </tr>\n",
              "    <tr>\n",
              "      <th>3</th>\n",
              "      <td>0.03237</td>\n",
              "      <td>0.0</td>\n",
              "      <td>2.18</td>\n",
              "      <td>0.0</td>\n",
              "      <td>0.458</td>\n",
              "      <td>6.998</td>\n",
              "      <td>45.8</td>\n",
              "      <td>6.0622</td>\n",
              "      <td>3.0</td>\n",
              "      <td>222.0</td>\n",
              "      <td>18.7</td>\n",
              "      <td>394.63</td>\n",
              "      <td>2.94</td>\n",
              "      <td>33.4</td>\n",
              "    </tr>\n",
              "    <tr>\n",
              "      <th>4</th>\n",
              "      <td>0.06905</td>\n",
              "      <td>0.0</td>\n",
              "      <td>2.18</td>\n",
              "      <td>0.0</td>\n",
              "      <td>0.458</td>\n",
              "      <td>7.147</td>\n",
              "      <td>54.2</td>\n",
              "      <td>6.0622</td>\n",
              "      <td>3.0</td>\n",
              "      <td>222.0</td>\n",
              "      <td>18.7</td>\n",
              "      <td>396.90</td>\n",
              "      <td>5.33</td>\n",
              "      <td>36.2</td>\n",
              "    </tr>\n",
              "  </tbody>\n",
              "</table>\n",
              "</div>"
            ],
            "text/plain": [
              "      CRIM    ZN  INDUS  CHAS    NOX  ...    TAX  PTRATIO       B  LSTAT   TAR\n",
              "0  0.00632  18.0   2.31   0.0  0.538  ...  296.0     15.3  396.90   4.98  24.0\n",
              "1  0.02731   0.0   7.07   0.0  0.469  ...  242.0     17.8  396.90   9.14  21.6\n",
              "2  0.02729   0.0   7.07   0.0  0.469  ...  242.0     17.8  392.83   4.03  34.7\n",
              "3  0.03237   0.0   2.18   0.0  0.458  ...  222.0     18.7  394.63   2.94  33.4\n",
              "4  0.06905   0.0   2.18   0.0  0.458  ...  222.0     18.7  396.90   5.33  36.2\n",
              "\n",
              "[5 rows x 14 columns]"
            ]
          },
          "execution_count": 2,
          "metadata": {
            "tags": []
          },
          "output_type": "execute_result"
        }
      ],
      "source": [
        "# loading the dataset\n",
        "boston = load_boston()\n",
        "boston_data = pd.DataFrame(boston.data,\n",
        "                           columns=boston.feature_names) #Features\n",
        "boston_data['TAR'] = boston.target #Target\n",
        "boston_data.head()\n"
      ]
    },
    {
      "cell_type": "markdown",
      "metadata": {
        "id": "vs2E1sPWZXbF"
      },
      "source": [
        "```DataFrame.corr``` quickly compute the correlation matrix between every variable of the dataset. Optionally, you can use the Seaborn package's heatmap for visualizing the correlation matrix.\n",
        "\n",
        "Viewing the heatmap, the user must remove any one of the two independent variable that are highly correlated(greater or less that +0.7 or -0.7 respectively). For example, since variables ```RAD``` and ```TAX``` are highly correlated. One of them should be removed."
      ]
    },
    {
      "cell_type": "code",
      "execution_count": null,
      "metadata": {
        "colab": {
          "base_uri": "https://localhost:8080/",
          "height": 653
        },
        "id": "ozgXgphuZXbG",
        "outputId": "9edd49c2-4c9b-48d7-fddd-4473efa2c4ac",
        "scrolled": true
      },
      "outputs": [
        {
          "name": "stderr",
          "output_type": "stream",
          "text": [
            "/usr/local/lib/python3.6/dist-packages/statsmodels/tools/_testing.py:19: FutureWarning: pandas.util.testing is deprecated. Use the functions in the public API at pandas.testing instead.\n",
            "  import pandas.util.testing as tm\n"
          ]
        },
        {
          "data": {
            "image/png": "[encoded data removed]",
            "text/plain": [
              "<Figure size 936x720 with 2 Axes>"
            ]
          },
          "metadata": {
            "needs_background": "light",
            "tags": []
          },
          "output_type": "display_data"
        }
      ],
      "source": [
        "# Feature selection using Pearson's correlation coefficient\n",
        "\n",
        "# importing seaborn for heatmap\n",
        "import seaborn as sns\n",
        "import matplotlib.pyplot as plt\n",
        "\n",
        "# Pandas's correlation matrix\n",
        "plt.figure(figsize=(13,10))\n",
        "correlation_matrix = boston_data.corr()\n",
        "sns.heatmap(correlation_matrix, annot=True, cmap=plt.cm.Reds)\n",
        "plt.show()\n"
      ]
    },
    {
      "cell_type": "markdown",
      "metadata": {
        "id": "vUKDQ25XZXbT"
      },
      "source": [
        "Now, let's use Scikit-learn's function for Pearson correlation coefficient feature selection. The highest correlated variables with the target are selected using Scikit-learn.\n",
        "\n",
        "Attributes definition:\n",
        "\n",
        "- ```score_func``` = function to compute score.\n",
        "- ```k``` = K-features to select\n",
        "\n",
        "Scikit-learn's feature selection returns NumPy array, an additional step for converting array to dataframe with correct labels.\n",
        "\n",
        "Also Selected feature's names are unknown. However, Checking the scores of the features is possible using ```.score_```. You can compare the dataframe with the scores to see which k features were selected.\n",
        "\n",
        "Displaying the shape of the selected feature reveals the dataset has indeed only ten features.\n",
        "\n",
        "First, splitting the dataset."
      ]
    },
    {
      "cell_type": "code",
      "execution_count": null,
      "metadata": {
        "colab": {
          "base_uri": "https://localhost:8080/",
          "height": 35
        },
        "id": "XRWT6gn6ZXbU",
        "outputId": "45f7adf7-a4db-4583-9137-6744f1ec6eaa"
      },
      "outputs": [
        {
          "data": {
            "text/plain": [
              "(506, 13)"
            ]
          },
          "execution_count": 4,
          "metadata": {
            "tags": []
          },
          "output_type": "execute_result"
        }
      ],
      "source": [
        "# Splitting the dataframe.\n",
        "X_boston = boston_data.drop(columns='TAR',axis=1)\n",
        "y_boston = boston_data['TAR']\n",
        "\n",
        "X_boston.shape"
      ]
    },
    {
      "cell_type": "code",
      "execution_count": null,
      "metadata": {
        "colab": {
          "base_uri": "https://localhost:8080/",
          "height": 35
        },
        "id": "f0jzq3flZXbc",
        "outputId": "2c7e40de-da6f-4da7-efc9-68ccaabdcc3a",
        "scrolled": true
      },
      "outputs": [
        {
          "data": {
            "text/plain": [
              "(506, 10)"
            ]
          },
          "execution_count": 5,
          "metadata": {
            "tags": []
          },
          "output_type": "execute_result"
        }
      ],
      "source": [
        "# using f_regression and SelectKBest\n",
        "corr_selection = SelectKBest(score_func=f_regression, k=10)\n",
        "\n",
        "# Selected features\n",
        "X_selected = corr_selection.fit_transform(X_boston,y_boston)\n",
        "\n",
        "# shape of selected features\n",
        "\n",
        "# Mathematical Transformation:\n",
        "# Linear, logistic regreession, PCA, Linear Discriminant analysis assumes data are Linear and normally distributed.\n",
        "# Logarithmic transformation\n",
        "# Recoprocal transformation\n",
        "# exponentail transformation\n",
        "# box-cox transformation\n",
        "# yeo-johnson transformation\n",
        "\n",
        "\n",
        "\n",
        "## Feature Scaling\n",
        "# Standarization\n",
        "# MinMax Scaling\n",
        "# Robust scaling\n",
        "# mean normalization\n",
        "\n",
        "X_selected.shape\n"
      ]
    },
    {
      "cell_type": "code",
      "execution_count": null,
      "metadata": {
        "colab": {
          "base_uri": "https://localhost:8080/",
          "height": 72
        },
        "id": "rWx9Hp8sZXbf",
        "outputId": "9be99f85-6485-42b1-bbdd-2d32f43e2e40"
      },
      "outputs": [
        {
          "name": "stdout",
          "output_type": "stream",
          "text": [
            "[ 89.48611476  75.2576423  153.95488314  15.97151242 112.59148028\n",
            " 471.84673988  83.47745922  33.57957033  85.91427767 141.76135658\n",
            " 175.10554288  63.05422911 601.61787111]\n"
          ]
        }
      ],
      "source": [
        "#scores of features\n",
        "print(corr_selection.scores_)"
      ]
    },
    {
      "cell_type": "markdown",
      "metadata": {
        "id": "tNpD7y10ZXbi"
      },
      "source": [
        "Now, Let's implement chi-square test feature selection.\n",
        "Since chi-square requires a categorical target, classification dataset, ```load_iris``` that has four features and a single target consisting of three classes of flowers is selected."
      ]
    },
    {
      "cell_type": "code",
      "execution_count": null,
      "metadata": {
        "colab": {
          "base_uri": "https://localhost:8080/",
          "height": 206
        },
        "id": "M526RdGnZXbj",
        "outputId": "32336c00-f75c-42e0-de60-cf24c60d22fd",
        "scrolled": false
      },
      "outputs": [
        {
          "data": {
            "text/html": [
              "<div>\n",
              "<style scoped>\n",
              "    .dataframe tbody tr th:only-of-type {\n",
              "        vertical-align: middle;\n",
              "    }\n",
              "\n",
              "    .dataframe tbody tr th {\n",
              "        vertical-align: top;\n",
              "    }\n",
              "\n",
              "    .dataframe thead th {\n",
              "        text-align: right;\n",
              "    }\n",
              "</style>\n",
              "<table border=\"1\" class=\"dataframe\">\n",
              "  <thead>\n",
              "    <tr style=\"text-align: right;\">\n",
              "      <th></th>\n",
              "      <th>sepal length (cm)</th>\n",
              "      <th>sepal width (cm)</th>\n",
              "      <th>petal length (cm)</th>\n",
              "      <th>petal width (cm)</th>\n",
              "      <th>TAR</th>\n",
              "    </tr>\n",
              "  </thead>\n",
              "  <tbody>\n",
              "    <tr>\n",
              "      <th>0</th>\n",
              "      <td>5.1</td>\n",
              "      <td>3.5</td>\n",
              "      <td>1.4</td>\n",
              "      <td>0.2</td>\n",
              "      <td>0</td>\n",
              "    </tr>\n",
              "    <tr>\n",
              "      <th>1</th>\n",
              "      <td>4.9</td>\n",
              "      <td>3.0</td>\n",
              "      <td>1.4</td>\n",
              "      <td>0.2</td>\n",
              "      <td>0</td>\n",
              "    </tr>\n",
              "    <tr>\n",
              "      <th>2</th>\n",
              "      <td>4.7</td>\n",
              "      <td>3.2</td>\n",
              "      <td>1.3</td>\n",
              "      <td>0.2</td>\n",
              "      <td>0</td>\n",
              "    </tr>\n",
              "    <tr>\n",
              "      <th>3</th>\n",
              "      <td>4.6</td>\n",
              "      <td>3.1</td>\n",
              "      <td>1.5</td>\n",
              "      <td>0.2</td>\n",
              "      <td>0</td>\n",
              "    </tr>\n",
              "    <tr>\n",
              "      <th>4</th>\n",
              "      <td>5.0</td>\n",
              "      <td>3.6</td>\n",
              "      <td>1.4</td>\n",
              "      <td>0.2</td>\n",
              "      <td>0</td>\n",
              "    </tr>\n",
              "  </tbody>\n",
              "</table>\n",
              "</div>"
            ],
            "text/plain": [
              "   sepal length (cm)  sepal width (cm)  ...  petal width (cm)  TAR\n",
              "0                5.1               3.5  ...               0.2    0\n",
              "1                4.9               3.0  ...               0.2    0\n",
              "2                4.7               3.2  ...               0.2    0\n",
              "3                4.6               3.1  ...               0.2    0\n",
              "4                5.0               3.6  ...               0.2    0\n",
              "\n",
              "[5 rows x 5 columns]"
            ]
          },
          "execution_count": 7,
          "metadata": {
            "tags": []
          },
          "output_type": "execute_result"
        }
      ],
      "source": [
        "# load the dataset\n",
        "from sklearn.datasets import load_iris\n",
        "\n",
        "iris = load_iris()\n",
        "iris_data = pd.DataFrame(iris.data,\n",
        "                           columns=iris.feature_names) #Features\n",
        "iris_data['TAR'] = iris.target #Target\n",
        "iris_data.head()\n"
      ]
    },
    {
      "cell_type": "markdown",
      "metadata": {
        "id": "zAncHPhJZXbn"
      },
      "source": [
        "Looking at the shape of selected features reveals that the feature space reduction to two. Similar to Pearson's correlation coefficient, chi-square test's scores using ```.score_``` is possible for figuring out the selected features."
      ]
    },
    {
      "cell_type": "code",
      "execution_count": null,
      "metadata": {
        "colab": {
          "base_uri": "https://localhost:8080/",
          "height": 35
        },
        "id": "VhP9j3YGZXbo",
        "outputId": "12d4ff7d-8cf7-421f-bd18-c3112403ea18",
        "scrolled": true
      },
      "outputs": [
        {
          "data": {
            "text/plain": [
              "(150, 2)"
            ]
          },
          "execution_count": 8,
          "metadata": {
            "tags": []
          },
          "output_type": "execute_result"
        }
      ],
      "source": [
        "# Feature election using chi-squared test\n",
        "\n",
        "X_iris = iris_data.drop(columns='TAR',axis=1)\n",
        "y_iris = iris_data['TAR']\n",
        "# using chi2 method from scikit-learn\n",
        "chi_selection = SelectKBest(score_func=chi2, k=2)\n",
        "\n",
        "X_selected = chi_selection.fit_transform(X_iris,y_iris)\n",
        "X_selected.shape"
      ]
    },
    {
      "cell_type": "markdown",
      "metadata": {
        "id": "z90NKSS4ZXbs"
      },
      "source": [
        "Score of chi_selection expresses that, ```petal length``` and ```petal width``` features are selected."
      ]
    },
    {
      "cell_type": "code",
      "execution_count": null,
      "metadata": {
        "colab": {
          "base_uri": "https://localhost:8080/",
          "height": 35
        },
        "id": "MW9B0C0oZXbt",
        "outputId": "9ad29c4f-2399-40ee-d492-beccee951a03"
      },
      "outputs": [
        {
          "data": {
            "text/plain": [
              "array([ 10.81782088,   3.7107283 , 116.31261309,  67.0483602 ])"
            ]
          },
          "execution_count": 9,
          "metadata": {
            "tags": []
          },
          "output_type": "execute_result"
        }
      ],
      "source": [
        "# scores of chi-square test\n",
        "chi_selection.scores_"
      ]
    },
    {
      "cell_type": "markdown",
      "metadata": {
        "id": "NUhH3aW_ZXbw"
      },
      "source": [
        "2. __Wrapper methods__\n",
        "\n",
        " Wrapper methods are quite different from filter methods, as the wrapper method is more of a __search problem__. A subset of features is randomly selected, and the model is trained upon them. The information gathered from the trained model is the score, which helps decide whether to add or remove features from the subset.\n",
        "\n",
        " The goal of the wrapper method is to find the best combination of features that can produce maximum model performance. However, trying out a combination of features and multiple training makes wrapper methods computationally expensive. Also, wrapper methods may lead to overfitting due to continous training with the features without regularization.\n",
        "\n",
        " <center>\n",
        " <figure>\n",
        " <!-- <img src=\"https://docs.google.com/uc?export=download&id=1sRW-P9femBL0imDXG0aco0RQWh6flxMf\" alt=\"Flow of Wrapper method\"> -->\n",
        " <img src=\"https://i.postimg.cc/NfXVhcRP/image.png\" alt=\"Flow of Wrapper method\">\n",
        " <br>\n",
        " <figcaption align=\"center\">Figure 2: Flow of wrapper method\n",
        " </figcaption>\n",
        " </figure>\n",
        " </center>\n",
        "\n",
        " Some of the methods that fall under wrapper methods are:\n",
        "\n",
        "\n",
        "- __Forward selection__\n",
        "\n",
        " The forward selection method starts with no feature for the model, i.e., an empty subset of features. In each iteration, individual feature compute respective performance of the model. Only highest ranking feature is then added to the subset. Next iteration, the subset plus individual remaining feature computes the performance of model. Again, highest ranked feature adds to the subset. This continues until new features don't improve the performance of the ML model.\n",
        "\n",
        " <center>\n",
        " <figure>\n",
        " <!-- <img src=\"https://docs.google.com/uc?export=download&id=1SfIF0Kvqi07_R7wvDljhis8hXl1LaapQ\" alt=\"Flow of Wrapper method\"> -->\n",
        " <img src=\"https://i.postimg.cc/8PhbTPc9/123.gif\" alt=\"Flow of Wrapper method\">\n",
        " <br>\n",
        " <figcaption align=\"center\">Figure 3: Forward selection\n",
        " </figcaption>\n",
        " </figure>\n",
        " </center>\n",
        "\n",
        " Taking a pool of six features, see how forward selection works in the above animation.\n",
        "  \n",
        "- __Backward elimination__ (__Recursive feature elimination(RFE)__)\n",
        "\n",
        " Once again, taking a pool of six features, see how backward elimination works in the animation below.\n",
        "\n",
        " <center>\n",
        " <figure>\n",
        " <!-- <img src=\"https://docs.google.com/uc?export=download&id=1D8k0NLenxbSbKTRz2fpzbjoND33P9x8-\" alt=\"Flow of Wrapper method\"> -->\n",
        " <img src=\"https://i.postimg.cc/kMNcmgBZ/234.gif\" alt=\"Flow of Wrapper method\">\n",
        " <br>\n",
        " <figcaption align=\"center\">Figure 4: Backward elimination  \n",
        " </figcaption>\n",
        " </figure>\n",
        " </center>\n",
        "\n",
        " Backward elimination is exactly opposite of forward substitution. The subset comprehends all the features. Each iteration removes the lowest ranked(least relevent to performance) feature from the subset conducted until the performance metric doesn't improve.\n",
        "\n",
        " Recursive feature elimination is a backward elimination technique of the features, which fall under the greedy search and optimization algorithm. A greedy algorithm is any algorithm that follows the problem-solving heuristic of making the locally optimal choice at each stage that might reach the global optimal on the whole run(Black, 2005).\n",
        "\n",
        " At first, algorithm takes the entire set of features for computation of the contribution(score) of each feature in regard to model's performance. The weakest features are removed per iteration until a specified number of the feature remains, or the performance of the model is within an acceptable range.\n",
        "\n",
        " This procedure is recursively repeated. Ranking of Feature are on the order of elimination(first eliminated is the last rank). The selected features are the top-ranked ones. As the optimal number of features is never indeed known, cross-validation with RFE is the go-to choice for finding an optimal amount of features and their combination.\n",
        "\n",
        " As a note, RFE can result in the elimination of dependencies and collinearity between the independent features of the dataset.\n",
        "\n",
        "### Demo\n",
        "Dataset used is the Boston house price dataset. The implementation of RFE is the code snippet below.\n",
        "\n",
        "Scikit-learn consists of both Vanilla RFE and RFE with cross-validation. Following methods are essential for the implementation :\n",
        "\n",
        "- Any ML algorithm to test performance upon - ```LinearRegression```\n",
        "- Any Cross-validation methods - ```KFold```\n",
        "- Recursive Feature Elimination - ```RFE```\n",
        "- Cross-validation RFE - ```RFECV```"
      ]
    },
    {
      "cell_type": "code",
      "execution_count": null,
      "metadata": {
        "id": "39UvqveFZXbx"
      },
      "outputs": [],
      "source": [
        "# Importing required libraries\n",
        "from sklearn.model_selection import KFold\n",
        "from sklearn.feature_selection import RFE\n",
        "from sklearn.feature_selection import RFECV\n",
        "from sklearn.linear_model import LinearRegression"
      ]
    },
    {
      "cell_type": "markdown",
      "metadata": {
        "id": "P0N1znflZXb0"
      },
      "source": [
        "\n",
        "```RFE``` takes parameters ```(estimator, n_features_to_select)```, which are ML algorithm to check performance upon and the number of features to be selected."
      ]
    },
    {
      "cell_type": "code",
      "execution_count": null,
      "metadata": {
        "colab": {
          "base_uri": "https://localhost:8080/",
          "height": 35
        },
        "id": "2bGcX01YZXb0",
        "outputId": "fed1a62e-b1cf-4095-b8b3-f7c2538d2f9c"
      },
      "outputs": [
        {
          "data": {
            "text/plain": [
              "(506, 8)"
            ]
          },
          "execution_count": 11,
          "metadata": {
            "tags": []
          },
          "output_type": "execute_result"
        }
      ],
      "source": [
        "## Recursive feature elimination implementation.\n",
        "\n",
        "# Linear regression  model\n",
        "lin_reg = LinearRegression()\n",
        "\n",
        "# Initializing RFE model\n",
        "rfe = RFE(lin_reg, n_features_to_select=8)\n",
        "\n",
        "# Transform features using RFE\n",
        "X_rfe = rfe.fit_transform(X_boston, y_boston)\n",
        "\n",
        "# revealing the shape of transforming features\n",
        "X_rfe.shape"
      ]
    },
    {
      "cell_type": "markdown",
      "metadata": {
        "id": "9D95dM4lZXb3"
      },
      "source": [
        "```.support_``` shows whether the feature is relevent or not (True or False) and ```.ranking_``` reveals the rank of features."
      ]
    },
    {
      "cell_type": "code",
      "execution_count": null,
      "metadata": {
        "colab": {
          "base_uri": "https://localhost:8080/",
          "height": 72
        },
        "id": "h84lYIUIZXb4",
        "outputId": "1facde6d-0c03-4f9d-b713-4417cb92afe4",
        "scrolled": false
      },
      "outputs": [
        {
          "name": "stdout",
          "output_type": "stream",
          "text": [
            "[ True False False  True  True  True False  True  True False  True False\n",
            "  True]\n",
            "[1 3 2 1 1 1 6 1 1 4 1 5 1]\n"
          ]
        }
      ],
      "source": [
        "print(rfe.support_)\n",
        "print(rfe.ranking_)"
      ]
    },
    {
      "cell_type": "markdown",
      "metadata": {
        "id": "4z437H5MZXb8"
      },
      "source": [
        "In the above implementation number of features selected, i.e., eight was chosen at random and may not be optimal. Using RFE with cross-validation help for the selection of optimal features.\n",
        "```RFECV``` takes parameters ```(estimator, step, cv)``` that is ML algorithm to compute the score, number of features to remove each iteration, and cross-validation method."
      ]
    },
    {
      "cell_type": "code",
      "execution_count": null,
      "metadata": {
        "colab": {
          "base_uri": "https://localhost:8080/",
          "height": 35
        },
        "id": "nHnVtBnkZXb9",
        "outputId": "9e3c8153-93b4-4f8c-f1a3-67fbc0592542"
      },
      "outputs": [
        {
          "data": {
            "text/plain": [
              "array([3, 5, 4, 1, 1, 1, 8, 1, 2, 6, 1, 7, 1])"
            ]
          },
          "execution_count": 13,
          "metadata": {
            "tags": []
          },
          "output_type": "execute_result"
        }
      ],
      "source": [
        "# Recursive feature elimination with cross-validation\n",
        "\n",
        "#initializing\n",
        "rfecv = RFECV(lin_reg, step=1, cv=KFold(5), scoring='r2')\n",
        "\n",
        "# transforming the features\n",
        "X_rfecv = rfecv.fit_transform(X_boston, y_boston)\n",
        "\n",
        "# ranking of features\n",
        "rfecv.ranking_"
      ]
    },
    {
      "cell_type": "markdown",
      "metadata": {
        "id": "0_XG0EesZXcA"
      },
      "source": [
        "```n_features_``` returns the optimal number of features.\n",
        "```grid_scores_``` returns the cross-validation scores."
      ]
    },
    {
      "cell_type": "code",
      "execution_count": null,
      "metadata": {
        "colab": {
          "base_uri": "https://localhost:8080/",
          "height": 297
        },
        "id": "0wAjIm80ZXcA",
        "outputId": "20557a48-6b31-4908-aada-69a5f17bc3aa"
      },
      "outputs": [
        {
          "name": "stdout",
          "output_type": "stream",
          "text": [
            "Optimal number of features : 6\n"
          ]
        },
        {
          "data": {
            "image/png": "[encoded data removed]",
            "text/plain": [
              "<Figure size 432x288 with 1 Axes>"
            ]
          },
          "metadata": {
            "needs_background": "light",
            "tags": []
          },
          "output_type": "display_data"
        }
      ],
      "source": [
        "print(\"Optimal number of features : %d\" % rfecv.n_features_)\n",
        "\n",
        "# plotting the cross-validation scores\n",
        "plt.figure()\n",
        "plt.xlabel(\"Number of features selected\")\n",
        "plt.ylabel(\"Cross validation score\")\n",
        "plt.plot(range(1, len(rfecv.grid_scores_) + 1), rfecv.grid_scores_)\n",
        "plt.show()"
      ]
    },
    {
      "cell_type": "markdown",
      "metadata": {
        "id": "kxHmAOUZZXcE"
      },
      "source": [
        "3. __Embedded methods__\n",
        "\n",
        " Embedded methods are a combination of both filter and wrapper methods. These methods embed __feature selection__ techniques within them. This method selects features that have the highest contribution to the performance of the model during the training of the model itself. The scoring of features continuously occur within the training phase.\n",
        "\n",
        " Most general regularization methods used are __regularization or penalization method__. You have already learned about the regularization methods in the \"regularized regression\" chapter of this course. The terms LASSO, ridge, and elastic-net regression should ring a bell in your mind. For a more in-depth explanation, revisit that chapter.\n",
        "\n",
        " As a refresher, Let revise these regularization methods in brief.\n",
        "\n",
        " The regularization method adds penalization to variables. This penalization forces the model to be simple and nullifies the contribution of features that could lead to overfitting.\n",
        "\n",
        "\n",
        "- __LASSO regression__\n",
        "\n",
        " LASSO regression adds a sum of absolute values of the features(L1 norm) multiplied with penalizing hyperparameter($\\alpha$) to the vanilla linear regression model. LASSO regression's cost function is computed as:\n",
        "\n",
        " $$\n",
        " J(\\mathbf{x}) = \\text{Cost function of linear regression} + \\large{\\alpha\\sum_{j=1}^p|\\theta_{j}|}\n",
        " $$\n",
        "\n",
        " Where $\\theta$ is a coefficient of the linear regression model, $j$ represents the $j^{th}$ coefficient, and $J(x)$ is the cost function of the model. Note the summation starts from one.\n",
        "\n",
        "- __Ridge regression__\n",
        "\n",
        " Ridge regression adds product of $\\alpha$ and sum of squares of the features(L2 norm) to linear regression model. Cost fucntion is given as:\n",
        "\n",
        " $$\n",
        " J(\\mathbf{x}) = \\text{Cost function of linear regression} + \\large{\\frac{\\alpha}{2}\\sum_{j=1}^p\\theta_{j}^2}\n",
        " $$\n",
        "\n",
        "\n",
        "- __Elastic-Net regression__\n",
        "\n",
        " Elastic net is the combination of Ridge and LASSO regression. Another hyperparameter $\\lambda$ is used to control mix ratio. $\\lambda = 0,1$, is equivalent to  Ridge and LASSO regression respectively.  Cost function is given as:\n",
        "\n",
        " $$\n",
        " J(\\mathbf{x}) = \\text{Cost function of linear regression} + {\\lambda \\alpha \\sum_{j=1}^p|\\theta_{j}|+ \\frac{1-\\lambda}{2} \\alpha \\sum_{j=1}^p\\theta_{j}^2}\n",
        " $$\n",
        "\n",
        " You have already seen or even implemented regularization regression algorithms using Scikit-learn in this course. Showing these methods here would be redundant. In brief, you can use Scikit-learn's ```linear_regression``` object containing the following predictor methods:\n",
        "\n",
        " - ```Ridge```, ```Lasso``` for Ridge and Lasso regression respectively. ```alpha``` parameter allows setting the amount of penalty.\n",
        "\n",
        " - ```ElasticNet``` for elastic net regression. ```alpha``` and ```l1_ratio``` parameters tunes the penalization and $\\lambda$ ratio"
      ]
    },
    {
      "cell_type": "markdown",
      "metadata": {
        "id": "Nf4ZT_g1ZXcE"
      },
      "source": [
        "## Key-Take Aways\n",
        "\n",
        "Let's conclude this chapter with essential notes to remember:\n",
        "\n",
        "- Feature selection methods remove the redundant, useless features from the original dataset instead of combining features.\n",
        "- Applying feature selection reduces overfitting, training time, and model complexity, while improving model performance.\n",
        "- Filter methods compute score using statistical methods, and are applied once before model training.\n",
        "- Wrapper methods evaluate features based on model performance and are applied in a cycle with model training.\n",
        "- Embedded methods have built-in feature selection methods.\n",
        "- Wrapper methods are the most computationally expensive among the three methods."
      ]
    }
  ],
  "metadata": {
    "colab": {
      "provenance": []
    },
    "kernelspec": {
      "display_name": "Python 3",
      "language": "python",
      "name": "python3"
    },
    "language_info": {
      "codemirror_mode": {
        "name": "ipython",
        "version": 3
      },
      "file_extension": ".py",
      "mimetype": "text/x-python",
      "name": "python",
      "nbconvert_exporter": "python",
      "pygments_lexer": "ipython3",
      "version": "3.6.9"
    }
  },
  "nbformat": 4,
  "nbformat_minor": 0
}
