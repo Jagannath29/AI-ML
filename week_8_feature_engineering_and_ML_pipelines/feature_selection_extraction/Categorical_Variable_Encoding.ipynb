{
  "nbformat": 4,
  "nbformat_minor": 0,
  "metadata": {
    "kernelspec": {
      "display_name": "Python 3",
      "language": "python",
      "name": "python3"
    },
    "language_info": {
      "codemirror_mode": {
        "name": "ipython",
        "version": 3
      },
      "file_extension": ".py",
      "mimetype": "text/x-python",
      "name": "python",
      "nbconvert_exporter": "python",
      "pygments_lexer": "ipython3",
      "version": "3.6.9"
    },
    "colab": {
      "provenance": []
    }
  },
  "cells": [
    {
      "cell_type": "markdown",
      "metadata": {
        "id": "iP6rMU0keyQK"
      },
      "source": [
        "# Flow of the material\n",
        "\n",
        "The flow of the reading material is as following:\n",
        "\n",
        "1. Brief introduction to feature transformation with it's use cases.\n",
        "\n",
        "2. Introduction to categorical variable transformation.\n",
        "\n",
        "3. Readings of multiple categorical transformation techniques along with the advantages and limitation.\n",
        "\n",
        "4. Implementation of categorical variable transformation using one of the packages. i.e. Pandas, Scikit-learn, feature-engine and Category_encoder.\n",
        "\n",
        "# Prerequisites\n",
        "\n",
        "Following background knowledge is essential before diving into the unit:\n",
        "\n",
        "- Experienced and comfortable with the Pandas and Scikit-learn Python packages.\n",
        "- Basic knowledge regarding feature, its type characteristics.\n",
        "\n",
        "\n"
      ]
    },
    {
      "cell_type": "markdown",
      "metadata": {
        "id": "0KgPS6gduWYI"
      },
      "source": [
        "# Feature Transformation\n",
        "\n",
        "__Feature transformation__, or variable transformation, are the techniques of transforming features from one representation to another. For example, converting categorical data to numerical data. Several other methods are present in feature transformation, they are:\n",
        "\n",
        "- __Categorical variable encoding__: converting categorical labels generally into numerical values\n",
        "\n",
        "- __Numerical transformation__: transforming numerical variables into other values using mathematical functions. For example, log-transformation.\n",
        "\n",
        "- __Feature scaling__: scaling of values of numerical variables to predefined magnitude scale. For example: Minmax scaling.\n",
        "\n",
        "You are learning all of the techniques mentioned above throughout this unit. But why is the feature transformation used? What is its importance? Let's discuss the uses of feature transformation:\n",
        "\n",
        "- __Proper formatting of data__ to be fed into ML libraries such as Scikit-Learn, which does not accept categorical labels as input.\n",
        "- __Converting complex non-linear relationships to linear ones__, after which linear ML algorithms can be applied to the dataset.\n",
        "- __Changing the scale or standardizing the magnitude__ of variable, which results in lower performance degradation of ML algorithms, which are severely degraded by the varying scale of magnitude.\n",
        "- __Reducing skewness__ in the distribution of variables.\n",
        "- __Decreasing the correlation between independent features of the dataset__, resulting in higher performance of linear/tree-based algorithms."
      ]
    },
    {
      "cell_type": "markdown",
      "metadata": {
        "id": "WwX9qeAzeyQM"
      },
      "source": [
        "## Categorical Variable Encoding\n",
        "\n",
        "A powerful arsenal for feature engineering, __Categorical Variable Encoding__,  are techniques used to replace the category labels - \"strings\" by a numerical representations. Categorical variable encoding serves the purpose of transforming variable values into a suitable format for training ML models for specific libraries, for example, Scikit-learn. Categorical variable encoding is essential for trying and building more predictive features from categories.\n",
        "\n",
        "This notebook is an in-depth guide on all categorical encoding techniques, covering the concept, advantages, limitations, and implementation examples. You are learning multiple encoding techniques with how to apply them in practical use in this notebook.\n",
        "\n",
        "### Types of Categorical Variable Encoding\n",
        "\n",
        "Moving on, you are now going to learn the various types of categorical encoding methods. These techniques act as an arsenal for any ML engineer for feature transformation. Please take your time reading this subsection of the notebook as this is longer than normal and comprehends lot of information."
      ]
    },
    {
      "cell_type": "markdown",
      "metadata": {
        "id": "2lz_D8A9eyQM"
      },
      "source": [
        "### 1. One-hot Encoding\n",
        "\n",
        "__One-hot encoding__ encodes each category label with __set__ of boolean/binary(0 or 1) variables, indicating which label is present for given observation in the dataset. The title of boolean variables columns after one-hot encoding are the variable categories itself. For a given observation, a value of 1 in a particular boolean variable column represents the data observation has that column's title as the categorical value, other binary variables values will be 0 representing the data doesn't belong to those categories. The tables below is going to help you understand one-hot encoding better.\n"
      ]
    },
    {
      "cell_type": "markdown",
      "metadata": {
        "id": "PnVwqxgxeyQN"
      },
      "source": [
        " - __Encoding into K-dummy variables__\n",
        "\n",
        "    K(In example, 3) represents the number of unique categories in the categorical variable before encoding. After encoding, there are K number of columns instead of a categorical variable.\n",
        "\n",
        "    For categorical variables with values \"young\", \"adult\", and \"old\", encoding results in 3 new variables called \"Young\", \"Adult\", and \"Old\". These variables will take value 1, if the data is of the said age category and 0 otherwise.\n",
        "\n",
        "    K-dummy is not the best one-hot encoding method as it represents redundant information and results in more computational complexity. Nevertheless, they are used in:\n",
        "    \n",
        "    - Tree-based algorithms\n",
        "    - Feature selection by a recursive method\n",
        "    - To determine the importance of each category label\n",
        "\n",
        "   All the tables in this notebook show conversion of a sample dataset using the encoding methods.\n",
        " <table style=\"border-collapse:collapse;border-spacing:0\" class=\"tg\"><tr><th style=\"font-family:Arial, sans-serif;font-size:14px;font-weight:normal;padding:10px 10px;border-style:solid;border-width:1px;overflow:hidden;word-break:normal;border-color:inherit;text-align:center;vertical-align:middle\"><span style=\"font-weight:bold\">Age Category</span></th><th style=\"font-family:Arial, sans-serif;font-size:14px;font-weight:normal;padding:10px 10px;border-style:solid;border-width:1px;overflow:hidden;word-break:normal;border-color:inherit;text-align:center;vertical-align:top\" rowspan=\"5\"><span style=\"font-weight:bold\">One-hot Encoding</span> <br>(<span style=\"font-weight:bold\">K-dummy variable</span>) ------&gt;</th><th style=\"font-family:Arial, sans-serif;font-size:14px;font-weight:normal;padding:10px 10px;border-style:solid;border-width:1px;overflow:hidden;word-break:normal;border-color:inherit;text-align:center;vertical-align:middle\"><span style=\"font-weight:bold\">Young </span></th><th style=\"font-family:Arial, sans-serif;font-size:14px;font-weight:normal;padding:10px 10px;border-style:solid;border-width:1px;overflow:hidden;word-break:normal;border-color:inherit;text-align:center;vertical-align:top\"><span style=\"font-weight:bold\">Adult</span></th><th style=\"font-family:Arial, sans-serif;font-size:14px;font-weight:normal;padding:10px 10px;border-style:solid;border-width:1px;overflow:hidden;word-break:normal;border-color:inherit;text-align:center;vertical-align:top\"><span style=\"font-weight:bold\">Old</span></th></tr><tr><td style=\"font-family:Arial, sans-serif;font-size:14px;padding:10px 10px;border-style:solid;border-width:1px;overflow:hidden;word-break:normal;border-color:inherit;text-align:center;vertical-align:top\">Young</td><td style=\"font-family:Arial, sans-serif;font-size:14px;padding:10px 10px;border-style:solid;border-width:1px;overflow:hidden;word-break:normal;border-color:inherit;text-align:center;vertical-align:top\">1</td><td style=\"font-family:Arial, sans-serif;font-size:14px;padding:10px 10px;border-style:solid;border-width:1px;overflow:hidden;word-break:normal;border-color:inherit;text-align:center;vertical-align:top\">0</td><td style=\"font-family:Arial, sans-serif;font-size:14px;padding:10px 10px;border-style:solid;border-width:1px;overflow:hidden;word-break:normal;border-color:inherit;text-align:center;vertical-align:top\">0</td></tr><tr><td style=\"font-family:Arial, sans-serif;font-size:14px;padding:10px 10px;border-style:solid;border-width:1px;overflow:hidden;word-break:normal;border-color:inherit;text-align:center;vertical-align:top\">Old</td><td style=\"font-family:Arial, sans-serif;font-size:14px;padding:10px 10px;border-style:solid;border-width:1px;overflow:hidden;word-break:normal;border-color:inherit;text-align:center;vertical-align:top\">0</td><td style=\"font-family:Arial, sans-serif;font-size:14px;padding:10px 10px;border-style:solid;border-width:1px;overflow:hidden;word-break:normal;border-color:inherit;text-align:center;vertical-align:top\">0</td><td style=\"font-family:Arial, sans-serif;font-size:14px;padding:10px 10px;border-style:solid;border-width:1px;overflow:hidden;word-break:normal;border-color:inherit;text-align:center;vertical-align:top\">1</td></tr><tr><td style=\"font-family:Arial, sans-serif;font-size:14px;padding:10px 10px;border-style:solid;border-width:1px;overflow:hidden;word-break:normal;border-color:inherit;text-align:center;vertical-align:middle\">Adult</td><td style=\"font-family:Arial, sans-serif;font-size:14px;padding:10px 10px;border-style:solid;border-width:1px;overflow:hidden;word-break:normal;border-color:inherit;text-align:center;vertical-align:middle\">0</td><td style=\"font-family:Arial, sans-serif;font-size:14px;padding:10px 10px;border-style:solid;border-width:1px;overflow:hidden;word-break:normal;border-color:inherit;text-align:center;vertical-align:top\">1</td><td style=\"font-family:Arial, sans-serif;font-size:14px;padding:10px 10px;border-style:solid;border-width:1px;overflow:hidden;word-break:normal;border-color:inherit;text-align:center;vertical-align:top\">0</td></tr></table>\n",
        "\n",
        "<center>Table 1: Conversion of categorical variable into k-dummy variables</center>\n",
        "\n",
        "  \n",
        "\n",
        " - __Encoding into K-1-dummy variables__\n",
        "\n",
        "    K-1 dummy removes the K dummy's redundant information by representing categorical variables as K-1(Here, 2) new boolean variables. For data observation, 0's in both boolean variables column tells that the data belongs to the category, which isn't represented as a boolean variable.\n",
        "    \n",
        "    <table style=\"border-collapse:collapse;border-spacing:0\" class=\"tg\"><tr><th style=\"font-family:Arial, sans-serif;font-size:14px;font-weight:normal;padding:10px 10px;border-style:solid;border-width:1px;overflow:hidden;word-break:normal;border-color:inherit;text-align:center;vertical-align:middle\"><span style=\"font-weight:bold\">Age Category</span></th><th style=\"font-family:Arial, sans-serif;font-size:14px;font-weight:normal;padding:10px 10px;border-style:solid;border-width:1px;overflow:hidden;word-break:normal;border-color:inherit;text-align:center;vertical-align:top\" rowspan=\"5\"><span style=\"font-weight:bold\">One-hot Encoding</span> <br>(<span style=\"font-weight:bold\">K-1 - dummy variable</span>) ------&gt;</th><th style=\"font-family:Arial, sans-serif;font-size:14px;font-weight:normal;padding:10px 10px;border-style:solid;border-width:1px;overflow:hidden;word-break:normal;border-color:inherit;text-align:center;vertical-align:middle\"><span style=\"font-weight:bold\">Young </span></th><th style=\"font-family:Arial, sans-serif;font-size:14px;font-weight:normal;padding:10px 10px;border-style:solid;border-width:1px;overflow:hidden;word-break:normal;border-color:inherit;text-align:center;vertical-align:top\"><span style=\"font-weight:bold\">Adult</span></th></tr><tr><td style=\"font-family:Arial, sans-serif;font-size:14px;padding:10px 10px;border-style:solid;border-width:1px;overflow:hidden;word-break:normal;border-color:inherit;text-align:center;vertical-align:top\">Young</td><td style=\"font-family:Arial, sans-serif;font-size:14px;padding:10px 10px;border-style:solid;border-width:1px;overflow:hidden;word-break:normal;border-color:inherit;text-align:center;vertical-align:top\">1</td><td style=\"font-family:Arial, sans-serif;font-size:14px;padding:10px 10px;border-style:solid;border-width:1px;overflow:hidden;word-break:normal;border-color:inherit;text-align:center;vertical-align:top\">0</td></tr><tr><td style=\"font-family:Arial, sans-serif;font-size:14px;padding:10px 10px;border-style:solid;border-width:1px;overflow:hidden;word-break:normal;border-color:inherit;text-align:center;vertical-align:top\">Old</td><td style=\"font-family:Arial, sans-serif;font-size:14px;padding:10px 10px;border-style:solid;border-width:1px;overflow:hidden;word-break:normal;border-color:inherit;text-align:center;vertical-align:top\">0</td><td style=\"font-family:Arial, sans-serif;font-size:14px;padding:10px 10px;border-style:solid;border-width:1px;overflow:hidden;word-break:normal;border-color:inherit;text-align:center;vertical-align:top\">0</td></tr><tr><td style=\"font-family:Arial, sans-serif;font-size:14px;padding:10px 10px;border-style:solid;border-width:1px;overflow:hidden;word-break:normal;border-color:inherit;text-align:center;vertical-align:middle\">Adult</td><td style=\"font-family:Arial, sans-serif;font-size:14px;padding:10px 10px;border-style:solid;border-width:1px;overflow:hidden;word-break:normal;border-color:inherit;text-align:center;vertical-align:middle\">0</td><td style=\"font-family:Arial, sans-serif;font-size:14px;padding:10px 10px;border-style:solid;border-width:1px;overflow:hidden;word-break:normal;border-color:inherit;text-align:center;vertical-align:top\">1</td></tr></table>\n",
        "    \n",
        "    <center>Table 2: Conversion of categorical variable into k-1-dummy variables</center>\n",
        "    \n",
        "#### Advantages\n",
        "\n",
        "- Easy implementation.\n",
        "- Keeps all the information on categorical variables.\n",
        "- Applicable on both tree-based and non-tree-based models.\n",
        "\n",
        "#### Limitations\n",
        "- Expands the feature space (1 features to K or K-1 features), Not viable for high cardinality variable.\n",
        "- No extra information is added.\n",
        "- If the variables have high cardinality/rare labels problem, the resulting encoding will have identical/redundant boolean variables.\n",
        "\n",
        "One-hot encoding applies \"binarization\" to the variable and include new output as variables of the dataset. All the unique category are given equality, no category has higher numerical value than the other unlike in other encoding schemes discussed later. Due to this reason, bith non-tree based models(Linear models, KNN, Neural networks), and tree-based models(decision trees, random forest) can use one-hot encoding as preprocessing step. However, one-hot encoding is preferred in tree based algorithms when the category are nominal(not-ordered).\n",
        "\n",
        "A trick - since one-hot encoding expands the feature dimension drastically for high cardinal variable. Due to this reason, generally PCA is performed after applying one-hot encoding.\n",
        "\n",
        "#### Demo\n",
        "\n",
        "All the demos of the feature transformation will be short code snippets showing how the particular transformation techniques can be applied using libraries such as\n",
        "\n",
        "- Pandas\n",
        "- Scikit-learn\n",
        "- Feature engine, created by Soledad Galli, [description about feature engine]( https://pypi.org/project/feature-engine/).\n",
        "- Category_encoder\n",
        "\n",
        "Both Category_encoder and Feature-engine have the same class, methods as Scikit-learn. Using them is a breeze if you know Scikit-learn's paradigm.\n",
        "\n",
        "Not all libraries are used per transformation. The use of dataset having categorical values is required. \"Titanic dataset\" used in previous chapters is the dataset of choice to elaborate the examples."
      ]
    },
    {
      "cell_type": "code",
      "metadata": {
        "id": "gr1Bm_oTeyQO"
      },
      "source": [
        "# Importing required libraries\n",
        "import pandas as pd # For dataframe handling and operations.\n",
        "import numpy as np # For numpy array operations.\n",
        "\n",
        "from sklearn.model_selection import train_test_split # For Dataset split.\n",
        "from sklearn.preprocessing import OneHotEncoder # Object for One-hot Encoding"
      ],
      "execution_count": null,
      "outputs": []
    },
    {
      "cell_type": "markdown",
      "metadata": {
        "id": "hdWUmix7eyQX"
      },
      "source": [
        "We are taking only features ```sex, survived``` as input and target variable for implementing one-hot encoding from the Titanic dataset.\n",
        "\n",
        "Just like any method, categorical encoding must also be performed on training set, and then propagated to test set. ```train_test_split``` is used to divide the dataset into training and test set."
      ]
    },
    {
      "cell_type": "code",
      "metadata": {
        "id": "4rngdxDkeyQY",
        "outputId": "600183ff-b92e-4c97-fd2a-85b7680364f7",
        "colab": {
          "base_uri": "https://localhost:8080/",
          "height": 136
        }
      },
      "source": [
        "# Load the dataset\n",
        "def load_data():\n",
        "    data = pd.read_csv(\"./titanic.csv\")\n",
        "    return data\n",
        "\n",
        "data = load_data() # Variable to store the Titanic dataset used throughout the examples.\n",
        "\n",
        "# selecting attributes from the DataFrame\n",
        "data = data[['sex', 'survived']]\n",
        "\n",
        " #sex is input feature while survived is the target\n",
        "print(data.head())\n",
        "\n",
        "# splitting the dataset\n",
        "X_train, X_test, y_train, y_test = train_test_split(\n",
        "    data['sex'],\n",
        "    data['survived'],\n",
        "    test_size=0.3)\n",
        "\n",
        "X_train.unique() # unique categories of sex feature"
      ],
      "execution_count": null,
      "outputs": [
        {
          "output_type": "stream",
          "text": [
            "      sex  survived\n",
            "0  female         1\n",
            "1    male         1\n",
            "2  female         0\n",
            "3    male         0\n",
            "4  female         0\n"
          ],
          "name": "stdout"
        },
        {
          "output_type": "execute_result",
          "data": {
            "text/plain": [
              "array(['female', 'male'], dtype=object)"
            ]
          },
          "metadata": {
            "tags": []
          },
          "execution_count": 2
        }
      ]
    },
    {
      "cell_type": "markdown",
      "metadata": {
        "id": "AZHp1Lzw1lja"
      },
      "source": [
        "Using Pandas method called ```get_dummies``` to generate dummy variables. Parameter ```drop_first```, if set to true froops the first dummy variable resulting in k-1 one-hot encoding.\n",
        "\n",
        "Let's combine the two dataframe to see the initial variable and transformed output."
      ]
    },
    {
      "cell_type": "code",
      "metadata": {
        "id": "RngrDadFeyQd",
        "outputId": "24f61a24-d514-4e90-ce8c-c8b2810a0584",
        "colab": {
          "base_uri": "https://localhost:8080/",
          "height": 204
        }
      },
      "source": [
        "# One-hot encoding with pandas\n",
        "# Use get_dummies function to generate one-hot encoded output\n",
        "\n",
        "onehot1 = pd.get_dummies(X_train)\n",
        "pd.concat([X_train, onehot1], axis=1).head()\n"
      ],
      "execution_count": null,
      "outputs": [
        {
          "output_type": "execute_result",
          "data": {
            "text/html": [
              "<div>\n",
              "<style scoped>\n",
              "    .dataframe tbody tr th:only-of-type {\n",
              "        vertical-align: middle;\n",
              "    }\n",
              "\n",
              "    .dataframe tbody tr th {\n",
              "        vertical-align: top;\n",
              "    }\n",
              "\n",
              "    .dataframe thead th {\n",
              "        text-align: right;\n",
              "    }\n",
              "</style>\n",
              "<table border=\"1\" class=\"dataframe\">\n",
              "  <thead>\n",
              "    <tr style=\"text-align: right;\">\n",
              "      <th></th>\n",
              "      <th>sex</th>\n",
              "      <th>female</th>\n",
              "      <th>male</th>\n",
              "    </tr>\n",
              "  </thead>\n",
              "  <tbody>\n",
              "    <tr>\n",
              "      <th>818</th>\n",
              "      <td>female</td>\n",
              "      <td>1</td>\n",
              "      <td>0</td>\n",
              "    </tr>\n",
              "    <tr>\n",
              "      <th>601</th>\n",
              "      <td>male</td>\n",
              "      <td>0</td>\n",
              "      <td>1</td>\n",
              "    </tr>\n",
              "    <tr>\n",
              "      <th>332</th>\n",
              "      <td>male</td>\n",
              "      <td>0</td>\n",
              "      <td>1</td>\n",
              "    </tr>\n",
              "    <tr>\n",
              "      <th>897</th>\n",
              "      <td>male</td>\n",
              "      <td>0</td>\n",
              "      <td>1</td>\n",
              "    </tr>\n",
              "    <tr>\n",
              "      <th>856</th>\n",
              "      <td>female</td>\n",
              "      <td>1</td>\n",
              "      <td>0</td>\n",
              "    </tr>\n",
              "  </tbody>\n",
              "</table>\n",
              "</div>"
            ],
            "text/plain": [
              "        sex  female  male\n",
              "818  female       1     0\n",
              "601    male       0     1\n",
              "332    male       0     1\n",
              "897    male       0     1\n",
              "856  female       1     0"
            ]
          },
          "metadata": {
            "tags": []
          },
          "execution_count": 3
        }
      ]
    },
    {
      "cell_type": "code",
      "metadata": {
        "id": "E7yEgA2aeyQg",
        "outputId": "655375f5-e3ad-4ebd-efd9-a64825b0211d",
        "colab": {
          "base_uri": "https://localhost:8080/",
          "height": 204
        }
      },
      "source": [
        "# With attribute drop_first=True, k-1 dummy encoding\n",
        "\n",
        "onehot2 = pd.get_dummies(X_train, drop_first=True)\n",
        "pd.concat([X_train, onehot2], axis=1).head()"
      ],
      "execution_count": null,
      "outputs": [
        {
          "output_type": "execute_result",
          "data": {
            "text/html": [
              "<div>\n",
              "<style scoped>\n",
              "    .dataframe tbody tr th:only-of-type {\n",
              "        vertical-align: middle;\n",
              "    }\n",
              "\n",
              "    .dataframe tbody tr th {\n",
              "        vertical-align: top;\n",
              "    }\n",
              "\n",
              "    .dataframe thead th {\n",
              "        text-align: right;\n",
              "    }\n",
              "</style>\n",
              "<table border=\"1\" class=\"dataframe\">\n",
              "  <thead>\n",
              "    <tr style=\"text-align: right;\">\n",
              "      <th></th>\n",
              "      <th>sex</th>\n",
              "      <th>male</th>\n",
              "    </tr>\n",
              "  </thead>\n",
              "  <tbody>\n",
              "    <tr>\n",
              "      <th>818</th>\n",
              "      <td>female</td>\n",
              "      <td>0</td>\n",
              "    </tr>\n",
              "    <tr>\n",
              "      <th>601</th>\n",
              "      <td>male</td>\n",
              "      <td>1</td>\n",
              "    </tr>\n",
              "    <tr>\n",
              "      <th>332</th>\n",
              "      <td>male</td>\n",
              "      <td>1</td>\n",
              "    </tr>\n",
              "    <tr>\n",
              "      <th>897</th>\n",
              "      <td>male</td>\n",
              "      <td>1</td>\n",
              "    </tr>\n",
              "    <tr>\n",
              "      <th>856</th>\n",
              "      <td>female</td>\n",
              "      <td>0</td>\n",
              "    </tr>\n",
              "  </tbody>\n",
              "</table>\n",
              "</div>"
            ],
            "text/plain": [
              "        sex  male\n",
              "818  female     0\n",
              "601    male     1\n",
              "332    male     1\n",
              "897    male     1\n",
              "856  female     0"
            ]
          },
          "metadata": {
            "tags": []
          },
          "execution_count": 4
        }
      ]
    },
    {
      "cell_type": "markdown",
      "metadata": {
        "id": "kep3oPNi2Dq2"
      },
      "source": [
        "Scikit-learn's uses ```OneHotEncoder``` transformer for producing one hot encoding. Scikit-learn transformer's output is Sparse/NumPy array. One extra step will be conducted if your data was in Pandas's dataframe. You have to convert those output array(converted variables) back to dataframe.\n",
        "\n",
        "Just like other transformers used, first you ```.fit``` on the data so that the transformer learns the parameter, then you ```.transform``` to transform the variables.\n",
        "\n",
        "Setting ```drop='first'``` parameter results in k-1 one-hot encoding.\n",
        "```.categories_``` property returns the title of the encoded variables."
      ]
    },
    {
      "cell_type": "code",
      "metadata": {
        "id": "MeYMd_DkeyQk",
        "outputId": "74df82d4-b17a-45a7-b004-d6244a3bd206",
        "colab": {
          "base_uri": "https://localhost:8080/",
          "height": 34
        }
      },
      "source": [
        "# One-hot encoding using Scikit-learn\n",
        "\n",
        "onehot_encoder = OneHotEncoder(\n",
        "    drop=None, # returns k dummy. for k-1 drop = first\n",
        "    sparse=False) # returns numpy array\n",
        "\n",
        "onehot_encoder.fit(np.array(X_train).reshape(-1,1)) #fit the training set\n"
      ],
      "execution_count": null,
      "outputs": [
        {
          "output_type": "execute_result",
          "data": {
            "text/plain": [
              "[array(['female', 'male'], dtype=object)]"
            ]
          },
          "metadata": {
            "tags": []
          },
          "execution_count": 5
        }
      ]
    },
    {
      "cell_type": "markdown",
      "metadata": {
        "id": "35H2g3zO21AN"
      },
      "source": [
        "Printing the non-transformed and transformed ```X_test``` side by side."
      ]
    },
    {
      "cell_type": "code",
      "metadata": {
        "id": "Wm3_YgapeyQo",
        "outputId": "0b96f4cf-8ff8-4a2a-f4e1-347139006046",
        "colab": {
          "base_uri": "https://localhost:8080/",
          "height": 289
        }
      },
      "source": [
        "print('categories:', onehot_encoder.categories_)\n",
        "print('Untransformed :')\n",
        "print(X_test.head(6))\n",
        "# Sklearn's one-hot encoder returns the numppy array or sparse matrix instead of dataframe.\n",
        "print('Transformed:')\n",
        "onehot_encoder.transform(np.array(X_test).reshape(-1,1))[:6]"
      ],
      "execution_count": null,
      "outputs": [
        {
          "output_type": "stream",
          "text": [
            "categories: [array(['female', 'male'], dtype=object)]\n",
            "Untransformed :\n",
            "184      male\n",
            "501    female\n",
            "743    female\n",
            "683      male\n",
            "618      male\n",
            "309    female\n",
            "Name: sex, dtype: object\n",
            "Transformed:\n"
          ],
          "name": "stdout"
        },
        {
          "output_type": "execute_result",
          "data": {
            "text/plain": [
              "array([[0., 1.],\n",
              "       [1., 0.],\n",
              "       [1., 0.],\n",
              "       [0., 1.],\n",
              "       [0., 1.],\n",
              "       [1., 0.]])"
            ]
          },
          "metadata": {
            "tags": []
          },
          "execution_count": 12
        }
      ]
    },
    {
      "cell_type": "markdown",
      "metadata": {
        "id": "HQc_fkt9eyQr"
      },
      "source": [
        "### 2. Integer/Label/Ordinal Encoding\n",
        "\n",
        "Label encoding, aka integer or ordinal encoding, substitutes the categorical variables as numerical values. The numerical values can range from 0 to k-1 or 1 to k, where _k_ is the number of unique categories. Each number corresponds to a category of the variable.\n",
        "\n",
        "The number assigned doesn't need to be sequential, but each category can only have one number associated with it. This method enables quick benchmarking of ML models, where string values aren't supported.\n",
        "\n",
        "Note: The main point to remember is the converted numbers don't represent numerical values. They are just unique identifiers in this encoding scheme.\n",
        "\n",
        "<table style=\"border-collapse:collapse;border-spacing:0\" class=\"tg\"><tr><th style=\"font-family:Arial, sans-serif;font-size:14px;font-weight:normal;padding:10px 10px;border-style:solid;border-width:1px;overflow:hidden;word-break:normal;border-color:inherit;text-align:center;vertical-align:middle\">Age Category</th><th style=\"font-family:Arial, sans-serif;font-size:14px;font-weight:normal;padding:10px 10px;border-style:solid;border-width:1px;overflow:hidden;word-break:normal;border-color:inherit;text-align:center;vertical-align:top\" rowspan=\"5\">Label Encoding ------&gt;</th><th style=\"font-family:Arial, sans-serif;font-size:14px;font-weight:normal;padding:10px 10px;border-style:solid;border-width:1px;overflow:hidden;word-break:normal;border-color:inherit;text-align:center;vertical-align:middle\">Age Category</th></tr><tr><td style=\"font-family:Arial, sans-serif;font-size:14px;padding:10px 10px;border-style:solid;border-width:1px;overflow:hidden;word-break:normal;border-color:inherit;text-align:center;vertical-align:top\">Young</td><td style=\"font-family:Arial, sans-serif;font-size:14px;padding:10px 10px;border-style:solid;border-width:1px;overflow:hidden;word-break:normal;border-color:inherit;text-align:center;vertical-align:top\">1</td></tr><tr><td style=\"font-family:Arial, sans-serif;font-size:14px;padding:10px 10px;border-style:solid;border-width:1px;overflow:hidden;word-break:normal;border-color:inherit;text-align:center;vertical-align:top\">Old</td><td style=\"font-family:Arial, sans-serif;font-size:14px;padding:10px 10px;border-style:solid;border-width:1px;overflow:hidden;word-break:normal;border-color:inherit;text-align:center;vertical-align:top\">2</td></tr><tr><td style=\"font-family:Arial, sans-serif;font-size:14px;padding:10px 10px;border-style:solid;border-width:1px;overflow:hidden;word-break:normal;border-color:inherit;text-align:center;vertical-align:middle\">Adult</td><td style=\"font-family:Arial, sans-serif;font-size:14px;padding:10px 10px;border-style:solid;border-width:1px;overflow:hidden;word-break:normal;border-color:inherit;text-align:center;vertical-align:middle\">3</td></tr></table>\n",
        "\n",
        "<Center>Table 3: Example of Label Encoding</Center>\n",
        "\n",
        "#### Advantages\n",
        "- Easy to implement.\n",
        "- Doesn't expand the feature space(Number of features); same computational complexity.\n",
        "\n",
        "\n",
        "#### Limitations\n",
        "- Doesn't work well with linear models, numerical values mess up linear models.However, works well with tree-based algorithm.\n",
        "- No additional information regarding the dataset is added.\n",
        "- New categories if present in test set cause errors.\n",
        "\n",
        "Label encoding converts categories into numbers. For example, [dog, cat, mouse] to [1,2,3]. In numerical terms, mouse is larger than dog, and the average of mouse(3) and dog(1) is cat(2). This type of interpretation leads to disaster in linear model. For example, linear regression depends on numerical values and compute the predicted target using formula __Weight*Variable__. Dog, cat, and mouse represented as number leads to errorneous behavior in computation of the target variable.\n",
        "\n",
        "Label encoding is preferred over one-hot encoding in tree-based models when the categories are ordinal(ordered).\n",
        "\n",
        "#### Demo\n",
        "Similar to one-hot encoding, Pandas and Scikit-learn are used for label encoding with features from Titanic dataset."
      ]
    },
    {
      "cell_type": "code",
      "metadata": {
        "id": "AlVTwjSbeyQs",
        "outputId": "12f159f9-c35b-4298-e135-88b0489012c1",
        "colab": {
          "base_uri": "https://localhost:8080/",
          "height": 68
        }
      },
      "source": [
        "# Getting the dataset\n",
        "data = load_data()\n",
        "data.columns"
      ],
      "execution_count": null,
      "outputs": [
        {
          "output_type": "execute_result",
          "data": {
            "text/plain": [
              "Index(['pclass', 'survived', 'name', 'sex', 'age', 'sibsp', 'parch', 'ticket',\n",
              "       'fare', 'cabin', 'embarked', 'boat', 'body', 'home.dest'],\n",
              "      dtype='object')"
            ]
          },
          "metadata": {
            "tags": []
          },
          "execution_count": 13
        }
      ]
    },
    {
      "cell_type": "markdown",
      "metadata": {
        "id": "r4u5DJxZ4vpw"
      },
      "source": [
        "Selection of variables ```cabin, embarked, and survived``` for lable encoding."
      ]
    },
    {
      "cell_type": "code",
      "metadata": {
        "id": "aycTvxdjeyQw",
        "outputId": "0a0fa045-e430-423b-ee8c-52932cca8139",
        "colab": {
          "base_uri": "https://localhost:8080/",
          "height": 204
        }
      },
      "source": [
        "#selecting features for total dataset, survived=target\n",
        "data = data[['cabin', 'embarked', 'survived']]\n",
        "\n",
        "data.head()"
      ],
      "execution_count": null,
      "outputs": [
        {
          "output_type": "execute_result",
          "data": {
            "text/html": [
              "<div>\n",
              "<style scoped>\n",
              "    .dataframe tbody tr th:only-of-type {\n",
              "        vertical-align: middle;\n",
              "    }\n",
              "\n",
              "    .dataframe tbody tr th {\n",
              "        vertical-align: top;\n",
              "    }\n",
              "\n",
              "    .dataframe thead th {\n",
              "        text-align: right;\n",
              "    }\n",
              "</style>\n",
              "<table border=\"1\" class=\"dataframe\">\n",
              "  <thead>\n",
              "    <tr style=\"text-align: right;\">\n",
              "      <th></th>\n",
              "      <th>cabin</th>\n",
              "      <th>embarked</th>\n",
              "      <th>survived</th>\n",
              "    </tr>\n",
              "  </thead>\n",
              "  <tbody>\n",
              "    <tr>\n",
              "      <th>0</th>\n",
              "      <td>B5</td>\n",
              "      <td>S</td>\n",
              "      <td>1</td>\n",
              "    </tr>\n",
              "    <tr>\n",
              "      <th>1</th>\n",
              "      <td>C22</td>\n",
              "      <td>S</td>\n",
              "      <td>1</td>\n",
              "    </tr>\n",
              "    <tr>\n",
              "      <th>2</th>\n",
              "      <td>C22</td>\n",
              "      <td>S</td>\n",
              "      <td>0</td>\n",
              "    </tr>\n",
              "    <tr>\n",
              "      <th>3</th>\n",
              "      <td>C22</td>\n",
              "      <td>S</td>\n",
              "      <td>0</td>\n",
              "    </tr>\n",
              "    <tr>\n",
              "      <th>4</th>\n",
              "      <td>C22</td>\n",
              "      <td>S</td>\n",
              "      <td>0</td>\n",
              "    </tr>\n",
              "  </tbody>\n",
              "</table>\n",
              "</div>"
            ],
            "text/plain": [
              "  cabin embarked  survived\n",
              "0    B5        S         1\n",
              "1   C22        S         1\n",
              "2   C22        S         0\n",
              "3   C22        S         0\n",
              "4   C22        S         0"
            ]
          },
          "metadata": {
            "tags": []
          },
          "execution_count": 14
        }
      ]
    },
    {
      "cell_type": "markdown",
      "metadata": {
        "id": "o6tzmWoL45cc"
      },
      "source": [
        "Parsing only the 1st letter from the cabin variable for simplicity of transformation(Less unique labels)."
      ]
    },
    {
      "cell_type": "code",
      "metadata": {
        "id": "KFBuOPKKeyQ0",
        "outputId": "f3f20e96-2712-4194-9b30-8bf7471ac98d",
        "colab": {
          "base_uri": "https://localhost:8080/",
          "height": 204
        }
      },
      "source": [
        "# taking the 1st letters from the cabin\n",
        "data['cabin']=data['cabin'].str[0]\n",
        "data.head()"
      ],
      "execution_count": null,
      "outputs": [
        {
          "output_type": "execute_result",
          "data": {
            "text/html": [
              "<div>\n",
              "<style scoped>\n",
              "    .dataframe tbody tr th:only-of-type {\n",
              "        vertical-align: middle;\n",
              "    }\n",
              "\n",
              "    .dataframe tbody tr th {\n",
              "        vertical-align: top;\n",
              "    }\n",
              "\n",
              "    .dataframe thead th {\n",
              "        text-align: right;\n",
              "    }\n",
              "</style>\n",
              "<table border=\"1\" class=\"dataframe\">\n",
              "  <thead>\n",
              "    <tr style=\"text-align: right;\">\n",
              "      <th></th>\n",
              "      <th>cabin</th>\n",
              "      <th>embarked</th>\n",
              "      <th>survived</th>\n",
              "    </tr>\n",
              "  </thead>\n",
              "  <tbody>\n",
              "    <tr>\n",
              "      <th>0</th>\n",
              "      <td>B</td>\n",
              "      <td>S</td>\n",
              "      <td>1</td>\n",
              "    </tr>\n",
              "    <tr>\n",
              "      <th>1</th>\n",
              "      <td>C</td>\n",
              "      <td>S</td>\n",
              "      <td>1</td>\n",
              "    </tr>\n",
              "    <tr>\n",
              "      <th>2</th>\n",
              "      <td>C</td>\n",
              "      <td>S</td>\n",
              "      <td>0</td>\n",
              "    </tr>\n",
              "    <tr>\n",
              "      <th>3</th>\n",
              "      <td>C</td>\n",
              "      <td>S</td>\n",
              "      <td>0</td>\n",
              "    </tr>\n",
              "    <tr>\n",
              "      <th>4</th>\n",
              "      <td>C</td>\n",
              "      <td>S</td>\n",
              "      <td>0</td>\n",
              "    </tr>\n",
              "  </tbody>\n",
              "</table>\n",
              "</div>"
            ],
            "text/plain": [
              "  cabin embarked  survived\n",
              "0     B        S         1\n",
              "1     C        S         1\n",
              "2     C        S         0\n",
              "3     C        S         0\n",
              "4     C        S         0"
            ]
          },
          "metadata": {
            "tags": []
          },
          "execution_count": 15
        }
      ]
    },
    {
      "cell_type": "markdown",
      "metadata": {
        "id": "cVzR8kPD5K8I"
      },
      "source": [
        "Let's see the unique labels of variables ```cabin, embarked```."
      ]
    },
    {
      "cell_type": "code",
      "metadata": {
        "id": "swPzb7XXeyQ5",
        "outputId": "722f816d-13ff-4460-b94e-9f94e527c56b",
        "colab": {
          "base_uri": "https://localhost:8080/",
          "height": 51
        }
      },
      "source": [
        "print(data['cabin'].unique())\n",
        "print(data['embarked'].unique())"
      ],
      "execution_count": null,
      "outputs": [
        {
          "output_type": "stream",
          "text": [
            "['B' 'C' 'E' 'D' 'A' nan 'T' 'F' 'G']\n",
            "['S' 'C' nan 'Q']\n"
          ],
          "name": "stdout"
        }
      ]
    },
    {
      "cell_type": "markdown",
      "metadata": {
        "id": "GlKY2x765Rsu"
      },
      "source": [
        "Note that these variables contain ```nan```, i.e. null values. Let's get rid of these values using Pandas ```.notna``` function."
      ]
    },
    {
      "cell_type": "code",
      "metadata": {
        "id": "XNZ5ms0FeyQ_",
        "outputId": "1675dab9-47bd-48b9-df13-7b7d84e62895",
        "colab": {
          "base_uri": "https://localhost:8080/",
          "height": 51
        }
      },
      "source": [
        "# taking rows that are not NaN from the dataset\n",
        "\n",
        "for col in data.columns:\n",
        "    data = data[data[col].notna()]\n",
        "\n",
        "print(data['cabin'].unique())\n",
        "print(data['embarked'].unique())"
      ],
      "execution_count": null,
      "outputs": [
        {
          "output_type": "stream",
          "text": [
            "['B' 'C' 'E' 'D' 'A' 'T' 'F' 'G']\n",
            "['S' 'C' 'Q']\n"
          ],
          "name": "stdout"
        }
      ]
    },
    {
      "cell_type": "code",
      "metadata": {
        "id": "W0Dx-fsgeyRC",
        "outputId": "a7fee843-5680-4a33-c48c-232c15a62eb6",
        "colab": {
          "base_uri": "https://localhost:8080/",
          "height": 204
        }
      },
      "source": [
        "# splitting the dataset\n",
        "\n",
        "X_train, X_test, y_train, y_test = train_test_split(\n",
        "    data[['cabin','embarked']],\n",
        "    data['survived'],\n",
        "    test_size=0.3,)\n",
        "\n",
        "X_train.head()"
      ],
      "execution_count": null,
      "outputs": [
        {
          "output_type": "execute_result",
          "data": {
            "text/html": [
              "<div>\n",
              "<style scoped>\n",
              "    .dataframe tbody tr th:only-of-type {\n",
              "        vertical-align: middle;\n",
              "    }\n",
              "\n",
              "    .dataframe tbody tr th {\n",
              "        vertical-align: top;\n",
              "    }\n",
              "\n",
              "    .dataframe thead th {\n",
              "        text-align: right;\n",
              "    }\n",
              "</style>\n",
              "<table border=\"1\" class=\"dataframe\">\n",
              "  <thead>\n",
              "    <tr style=\"text-align: right;\">\n",
              "      <th></th>\n",
              "      <th>cabin</th>\n",
              "      <th>embarked</th>\n",
              "    </tr>\n",
              "  </thead>\n",
              "  <tbody>\n",
              "    <tr>\n",
              "      <th>252</th>\n",
              "      <td>B</td>\n",
              "      <td>C</td>\n",
              "    </tr>\n",
              "    <tr>\n",
              "      <th>64</th>\n",
              "      <td>E</td>\n",
              "      <td>S</td>\n",
              "    </tr>\n",
              "    <tr>\n",
              "      <th>138</th>\n",
              "      <td>C</td>\n",
              "      <td>S</td>\n",
              "    </tr>\n",
              "    <tr>\n",
              "      <th>230</th>\n",
              "      <td>B</td>\n",
              "      <td>S</td>\n",
              "    </tr>\n",
              "    <tr>\n",
              "      <th>265</th>\n",
              "      <td>A</td>\n",
              "      <td>S</td>\n",
              "    </tr>\n",
              "  </tbody>\n",
              "</table>\n",
              "</div>"
            ],
            "text/plain": [
              "    cabin embarked\n",
              "252     B        C\n",
              "64      E        S\n",
              "138     C        S\n",
              "230     B        S\n",
              "265     A        S"
            ]
          },
          "metadata": {
            "tags": []
          },
          "execution_count": 20
        }
      ]
    },
    {
      "cell_type": "markdown",
      "metadata": {
        "id": "jNGgJe_-5pAM"
      },
      "source": [
        "Using pandas for label encoding. First, creating dictionary with key as unique category of the variable and assign them values 0 to n-1."
      ]
    },
    {
      "cell_type": "code",
      "metadata": {
        "id": "ZzNyfy-PeyRF",
        "outputId": "37ab9422-cdc2-49ab-b6cf-5e3e5ad783c1",
        "colab": {
          "base_uri": "https://localhost:8080/",
          "height": 34
        }
      },
      "source": [
        "label_mapping = {\n",
        "    key: i for i, key in enumerate(X_train['cabin'].unique())\n",
        "}\n",
        "print(label_mapping)"
      ],
      "execution_count": null,
      "outputs": [
        {
          "output_type": "stream",
          "text": [
            "{'B': 0, 'E': 1, 'C': 2, 'A': 3, 'D': 4, 'F': 5, 'T': 6}\n"
          ],
          "name": "stdout"
        }
      ]
    },
    {
      "cell_type": "markdown",
      "metadata": {
        "id": "jGPn4vgo53Do"
      },
      "source": [
        "```.map``` function replaces the keys with values from the passed dictionary. Defining the creating dictionary and mapping functions below as:"
      ]
    },
    {
      "cell_type": "code",
      "metadata": {
        "id": "ihEykj2CeyRI"
      },
      "source": [
        "# function to compute label mapping\n",
        "\n",
        "def compute_category_mappings(df, variable):\n",
        "    return {k: i for i, k in enumerate(df[variable].unique())}\n",
        "\n",
        "#function to replace the variables with label encoding\n",
        "\n",
        "def label_encoding(train, test, variable, label_mapping):\n",
        "\n",
        "    X_train[variable] = X_train[variable].map(label_mapping)\n",
        "    X_test[variable] = X_test[variable].map(label_mapping)"
      ],
      "execution_count": null,
      "outputs": []
    },
    {
      "cell_type": "markdown",
      "metadata": {
        "id": "QsPtIQto6OWT"
      },
      "source": [
        "Now, lets call the functions on the independent variables for label encoding."
      ]
    },
    {
      "cell_type": "code",
      "metadata": {
        "id": "92x5HTjUeyRM"
      },
      "source": [
        "# Label encoding for all variables\n",
        "for variable in ['cabin','embarked']:\n",
        "    mapping = compute_category_mappings(X_train, variable)\n",
        "    label_encoding(X_train, X_test, variable, mapping)"
      ],
      "execution_count": null,
      "outputs": []
    },
    {
      "cell_type": "code",
      "metadata": {
        "id": "PZK-IOZJeyRO",
        "outputId": "495a4725-51cd-46cc-f322-98b347788b82"
      },
      "source": [
        "X_train.head()"
      ],
      "execution_count": null,
      "outputs": [
        {
          "output_type": "execute_result",
          "data": {
            "text/html": [
              "<div>\n",
              "<style scoped>\n",
              "    .dataframe tbody tr th:only-of-type {\n",
              "        vertical-align: middle;\n",
              "    }\n",
              "\n",
              "    .dataframe tbody tr th {\n",
              "        vertical-align: top;\n",
              "    }\n",
              "\n",
              "    .dataframe thead th {\n",
              "        text-align: right;\n",
              "    }\n",
              "</style>\n",
              "<table border=\"1\" class=\"dataframe\">\n",
              "  <thead>\n",
              "    <tr style=\"text-align: right;\">\n",
              "      <th></th>\n",
              "      <th>cabin</th>\n",
              "      <th>embarked</th>\n",
              "    </tr>\n",
              "  </thead>\n",
              "  <tbody>\n",
              "    <tr>\n",
              "      <th>133</th>\n",
              "      <td>0</td>\n",
              "      <td>0</td>\n",
              "    </tr>\n",
              "    <tr>\n",
              "      <th>176</th>\n",
              "      <td>1</td>\n",
              "      <td>1</td>\n",
              "    </tr>\n",
              "    <tr>\n",
              "      <th>301</th>\n",
              "      <td>1</td>\n",
              "      <td>1</td>\n",
              "    </tr>\n",
              "    <tr>\n",
              "      <th>94</th>\n",
              "      <td>2</td>\n",
              "      <td>1</td>\n",
              "    </tr>\n",
              "    <tr>\n",
              "      <th>516</th>\n",
              "      <td>3</td>\n",
              "      <td>1</td>\n",
              "    </tr>\n",
              "  </tbody>\n",
              "</table>\n",
              "</div>"
            ],
            "text/plain": [
              "     cabin  embarked\n",
              "133      0         0\n",
              "176      1         1\n",
              "301      1         1\n",
              "94       2         1\n",
              "516      3         1"
            ]
          },
          "metadata": {
            "tags": []
          },
          "execution_count": 18
        }
      ]
    },
    {
      "cell_type": "markdown",
      "metadata": {
        "id": "VJgfRdsQ6VC7"
      },
      "source": [
        "Sklearn uses ```LabelEncoder``` transformer for labelencoding. The steps are same as ```OneHotEncoder```.\n",
        "\n",
        "However, ```LabelEncoder``` supports transforming only one variable at a time."
      ]
    },
    {
      "cell_type": "code",
      "metadata": {
        "id": "YL1F9xETeyRR",
        "outputId": "2048c17a-4c0c-4d27-be8a-8dd1661aa8af"
      },
      "source": [
        "# using sklearn\n",
        "from sklearn.preprocessing import LabelEncoder\n",
        "label_encoder = LabelEncoder()\n",
        "\n",
        "# splitting the dataset\n",
        "X_train, X_test, y_train, y_test = train_test_split(\n",
        "    data[['cabin','embarked']],\n",
        "    data['survived'],\n",
        "    test_size=0.3,)\n",
        "\n",
        "# LabelEncoder only takes one feature at a time\n",
        "label_encoder.fit_transform(X_train['cabin']) #label encoding of train set\n",
        "label_encoder.transform(X_test['cabin']) #label encoding for test set"
      ],
      "execution_count": null,
      "outputs": [
        {
          "output_type": "execute_result",
          "data": {
            "text/plain": [
              "array([4, 3, 2, 1, 3, 6, 0, 4, 2, 3, 3, 6, 5, 2, 3, 4, 1, 4, 0, 1, 1, 1,\n",
              "       2, 1, 1, 2, 3, 2, 3, 1, 2, 2, 3, 4, 3, 0, 6, 0, 2, 2, 2, 5, 0, 3,\n",
              "       5, 1, 5, 1, 4, 2, 0, 2, 2, 4, 2, 2, 1, 5, 2, 2, 3, 1, 1, 4, 2, 2,\n",
              "       0, 1, 0, 2, 3, 3, 2, 5, 2, 3, 4, 5, 4, 5, 4, 2, 0, 3, 2, 1, 2, 2])"
            ]
          },
          "metadata": {
            "tags": []
          },
          "execution_count": 23
        }
      ]
    },
    {
      "cell_type": "markdown",
      "metadata": {
        "id": "5TidnXtQ6qTQ"
      },
      "source": [
        "There is a work around automated approach to transform multiple features using lambda function and defaultdict source: [link](https://stackoverflow.com/questions/24458645/label-encoding-across-multiple-columns-in-scikit-learn)"
      ]
    },
    {
      "cell_type": "code",
      "metadata": {
        "id": "dPR7o6QieyRU"
      },
      "source": [
        "from collections import defaultdict\n",
        "\n",
        "X_train, X_test, y_train, y_test = train_test_split(\n",
        "    data[['cabin','embarked']],\n",
        "    data['survived'],\n",
        "    test_size=0.3,)\n",
        "# creating a defaultdict object.\n",
        "dic = defaultdict(LabelEncoder)"
      ],
      "execution_count": null,
      "outputs": []
    },
    {
      "cell_type": "code",
      "metadata": {
        "id": "3K-wpsyZeyRY"
      },
      "source": [
        "# Encoding the training set's variable\n",
        "train_label_encoded = X_train.apply(lambda x: dic[x.name].fit_transform(x))\n",
        "\n",
        "# Encoding the test set's variable\n",
        "test_label_encoded = X_test.apply(lambda x: dic[x.name].transform(x))"
      ],
      "execution_count": null,
      "outputs": []
    },
    {
      "cell_type": "code",
      "metadata": {
        "id": "X__FVMN1eyRb",
        "outputId": "c8749807-d792-4b01-d470-80d3b8133540"
      },
      "source": [
        "#side by side comparision\n",
        "print(X_train.head())\n",
        "print(train_label_encoded.head())"
      ],
      "execution_count": null,
      "outputs": [
        {
          "output_type": "stream",
          "text": [
            "    cabin embarked\n",
            "72      C        C\n",
            "177     D        S\n",
            "69      E        S\n",
            "214     D        C\n",
            "116     C        S\n",
            "     cabin  embarked\n",
            "72       2         0\n",
            "177      3         2\n",
            "69       4         2\n",
            "214      3         0\n",
            "116      2         2\n"
          ],
          "name": "stdout"
        }
      ]
    },
    {
      "cell_type": "markdown",
      "metadata": {
        "id": "cr375Y4ReyRd"
      },
      "source": [
        "### Count/Frequency Encoding\n",
        "\n",
        "Count/Frequency encoding transforms the categorical data into a numerical representation, which either represents the count(no.of occurrence) of that label or frequency(no.of occurrence/total count of observation) of that label in the whole dataset. This encoding helps the user understand the representation of each label of the category in a dataset. Assumption of count/frequency encoding is that the number of observations of each category relates in the prediction of the target.\n",
        "\n",
        "<table style=\"border-collapse:collapse;border-spacing:0\" class=\"tg\"><tr><th style=\"font-family:Arial, sans-serif;font-size:14px;font-weight:normal;padding:10px 10px;border-style:solid;border-width:1px;overflow:hidden;word-break:normal;border-color:inherit;text-align:center;vertical-align:middle\">Age Category</th><th style=\"font-family:Arial, sans-serif;font-size:14px;font-weight:normal;padding:10px 10px;border-style:solid;border-width:1px;overflow:hidden;word-break:normal;border-color:inherit;text-align:center;vertical-align:top\" rowspan=\"5\">Count Encoding ------&gt;</th><th style=\"font-family:Arial, sans-serif;font-size:14px;font-weight:normal;padding:10px 10px;border-style:solid;border-width:1px;overflow:hidden;word-break:normal;border-color:inherit;text-align:center;vertical-align:middle\">Age Category</th></tr><tr><td style=\"font-family:Arial, sans-serif;font-size:14px;padding:10px 10px;border-style:solid;border-width:1px;overflow:hidden;word-break:normal;border-color:inherit;text-align:center;vertical-align:top\">Young</td><td style=\"font-family:Arial, sans-serif;font-size:14px;padding:10px 10px;border-style:solid;border-width:1px;overflow:hidden;word-break:normal;border-color:inherit;text-align:center;vertical-align:top\">1</td></tr><tr><td style=\"font-family:Arial, sans-serif;font-size:14px;padding:10px 10px;border-style:solid;border-width:1px;overflow:hidden;word-break:normal;border-color:inherit;text-align:center;vertical-align:top\">Old</td><td style=\"font-family:Arial, sans-serif;font-size:14px;padding:10px 10px;border-style:solid;border-width:1px;overflow:hidden;word-break:normal;border-color:inherit;text-align:center;vertical-align:top\">2</td></tr><tr><td style=\"font-family:Arial, sans-serif;font-size:14px;padding:10px 10px;border-style:solid;border-width:1px;overflow:hidden;word-break:normal;border-color:inherit;text-align:center;vertical-align:middle\">Adult</td><td style=\"font-family:Arial, sans-serif;font-size:14px;padding:10px 10px;border-style:solid;border-width:1px;overflow:hidden;word-break:normal;border-color:inherit;text-align:center;vertical-align:middle\">1</td></tr><tr><td style=\"font-family:Arial, sans-serif;font-size:14px;padding:10px 10px;border-style:solid;border-width:1px;overflow:hidden;word-break:normal;border-color:inherit;text-align:center;vertical-align:middle\">Old</td><td style=\"font-family:Arial, sans-serif;font-size:14px;padding:10px 10px;border-style:solid;border-width:1px;overflow:hidden;word-break:normal;border-color:inherit;text-align:center;vertical-align:middle\">2</td></tr></table>\n",
        "<center>Table 3: Count encoding Example</center>\n",
        "\n",
        "<table style=\"border-collapse:collapse;border-spacing:0\" class=\"tg\"><tr><th style=\"font-family:Arial, sans-serif;font-size:14px;font-weight:normal;padding:10px 10px;border-style:solid;border-width:1px;overflow:hidden;word-break:normal;border-color:inherit;text-align:center;vertical-align:middle\">Age Category</th><th style=\"font-family:Arial, sans-serif;font-size:14px;font-weight:normal;padding:10px 10px;border-style:solid;border-width:1px;overflow:hidden;word-break:normal;border-color:inherit;text-align:center;vertical-align:top\" rowspan=\"5\">Frequency Encoding ------&gt;</th><th style=\"font-family:Arial, sans-serif;font-size:14px;font-weight:normal;padding:10px 10px;border-style:solid;border-width:1px;overflow:hidden;word-break:normal;border-color:inherit;text-align:center;vertical-align:middle\">Age Category</th></tr><tr><td style=\"font-family:Arial, sans-serif;font-size:14px;padding:10px 10px;border-style:solid;border-width:1px;overflow:hidden;word-break:normal;border-color:inherit;text-align:center;vertical-align:top\">Young</td><td style=\"font-family:Arial, sans-serif;font-size:14px;padding:10px 10px;border-style:solid;border-width:1px;overflow:hidden;word-break:normal;border-color:inherit;text-align:center;vertical-align:top\">0.25</td></tr><tr><td style=\"font-family:Arial, sans-serif;font-size:14px;padding:10px 10px;border-style:solid;border-width:1px;overflow:hidden;word-break:normal;border-color:inherit;text-align:center;vertical-align:top\">Old</td><td style=\"font-family:Arial, sans-serif;font-size:14px;padding:10px 10px;border-style:solid;border-width:1px;overflow:hidden;word-break:normal;border-color:inherit;text-align:center;vertical-align:top\">0.5</td></tr><tr><td style=\"font-family:Arial, sans-serif;font-size:14px;padding:10px 10px;border-style:solid;border-width:1px;overflow:hidden;word-break:normal;border-color:inherit;text-align:center;vertical-align:middle\">Adult</td><td style=\"font-family:Arial, sans-serif;font-size:14px;padding:10px 10px;border-style:solid;border-width:1px;overflow:hidden;word-break:normal;border-color:inherit;text-align:center;vertical-align:middle\">0.25</td></tr><tr><td style=\"font-family:Arial, sans-serif;font-size:14px;padding:10px 10px;border-style:solid;border-width:1px;overflow:hidden;word-break:normal;border-color:inherit;text-align:center;vertical-align:middle\">Old</td><td style=\"font-family:Arial, sans-serif;font-size:14px;padding:10px 10px;border-style:solid;border-width:1px;overflow:hidden;word-break:normal;border-color:inherit;text-align:center;vertical-align:middle\">0.5</td></tr></table>\n",
        "<center>Table 4: Frequency encoding example</center>\n",
        "\n",
        "#### Advantages\n",
        "- Easy to implement.\n",
        "- Doesn't expand the feature space.\n",
        "\n",
        "\n",
        "#### Limitations\n",
        "- If the count/frequency of labels from the categorical variables are same, they will appear same after the encoding, resulting in loss of valuable information.\n",
        "- Works well with tree-based algorithms only, not with linear models.\n",
        "- Can not handle new categories if present on test set.\n",
        "\n",
        "#### Demo\n",
        "There is no inbuilt transformer for count/frequency encoding in Scikit-learn. Demo will be displayed using Pandas library."
      ]
    },
    {
      "cell_type": "code",
      "metadata": {
        "id": "9usIHqq0eyRe",
        "outputId": "d179c934-dacd-4d82-c484-bb29e8df8978",
        "colab": {
          "base_uri": "https://localhost:8080/",
          "height": 204
        }
      },
      "source": [
        "#loading titanic dataset\n",
        "data = load_data()[['cabin', 'embarked']]\n",
        "data.head()"
      ],
      "execution_count": null,
      "outputs": [
        {
          "output_type": "execute_result",
          "data": {
            "text/html": [
              "<div>\n",
              "<style scoped>\n",
              "    .dataframe tbody tr th:only-of-type {\n",
              "        vertical-align: middle;\n",
              "    }\n",
              "\n",
              "    .dataframe tbody tr th {\n",
              "        vertical-align: top;\n",
              "    }\n",
              "\n",
              "    .dataframe thead th {\n",
              "        text-align: right;\n",
              "    }\n",
              "</style>\n",
              "<table border=\"1\" class=\"dataframe\">\n",
              "  <thead>\n",
              "    <tr style=\"text-align: right;\">\n",
              "      <th></th>\n",
              "      <th>cabin</th>\n",
              "      <th>embarked</th>\n",
              "    </tr>\n",
              "  </thead>\n",
              "  <tbody>\n",
              "    <tr>\n",
              "      <th>0</th>\n",
              "      <td>B5</td>\n",
              "      <td>S</td>\n",
              "    </tr>\n",
              "    <tr>\n",
              "      <th>1</th>\n",
              "      <td>C22</td>\n",
              "      <td>S</td>\n",
              "    </tr>\n",
              "    <tr>\n",
              "      <th>2</th>\n",
              "      <td>C22</td>\n",
              "      <td>S</td>\n",
              "    </tr>\n",
              "    <tr>\n",
              "      <th>3</th>\n",
              "      <td>C22</td>\n",
              "      <td>S</td>\n",
              "    </tr>\n",
              "    <tr>\n",
              "      <th>4</th>\n",
              "      <td>C22</td>\n",
              "      <td>S</td>\n",
              "    </tr>\n",
              "  </tbody>\n",
              "</table>\n",
              "</div>"
            ],
            "text/plain": [
              "  cabin embarked\n",
              "0    B5        S\n",
              "1   C22        S\n",
              "2   C22        S\n",
              "3   C22        S\n",
              "4   C22        S"
            ]
          },
          "metadata": {
            "tags": []
          },
          "execution_count": 24
        }
      ]
    },
    {
      "cell_type": "markdown",
      "metadata": {
        "id": "IJVbz-F175V8"
      },
      "source": [
        "Again, taking the 1st letter of the ```cabin``` variable for simplicity and removing the ```NaN``` values."
      ]
    },
    {
      "cell_type": "code",
      "metadata": {
        "id": "sGGTS4eZeyRg",
        "outputId": "40be0167-51b9-48d6-a890-cc5f40fce4ba",
        "colab": {
          "base_uri": "https://localhost:8080/",
          "height": 204
        }
      },
      "source": [
        "# taking the 1st letters from the cabin\n",
        "data['cabin']=data['cabin'].str[0]\n",
        "\n",
        "# taking rows that are not NaN from the dataset\n",
        "for col in data.columns:\n",
        "    data = data[data[col].notna()]\n",
        "\n",
        "data.head()\n"
      ],
      "execution_count": null,
      "outputs": [
        {
          "output_type": "execute_result",
          "data": {
            "text/html": [
              "<div>\n",
              "<style scoped>\n",
              "    .dataframe tbody tr th:only-of-type {\n",
              "        vertical-align: middle;\n",
              "    }\n",
              "\n",
              "    .dataframe tbody tr th {\n",
              "        vertical-align: top;\n",
              "    }\n",
              "\n",
              "    .dataframe thead th {\n",
              "        text-align: right;\n",
              "    }\n",
              "</style>\n",
              "<table border=\"1\" class=\"dataframe\">\n",
              "  <thead>\n",
              "    <tr style=\"text-align: right;\">\n",
              "      <th></th>\n",
              "      <th>cabin</th>\n",
              "      <th>embarked</th>\n",
              "    </tr>\n",
              "  </thead>\n",
              "  <tbody>\n",
              "    <tr>\n",
              "      <th>0</th>\n",
              "      <td>B</td>\n",
              "      <td>S</td>\n",
              "    </tr>\n",
              "    <tr>\n",
              "      <th>1</th>\n",
              "      <td>C</td>\n",
              "      <td>S</td>\n",
              "    </tr>\n",
              "    <tr>\n",
              "      <th>2</th>\n",
              "      <td>C</td>\n",
              "      <td>S</td>\n",
              "    </tr>\n",
              "    <tr>\n",
              "      <th>3</th>\n",
              "      <td>C</td>\n",
              "      <td>S</td>\n",
              "    </tr>\n",
              "    <tr>\n",
              "      <th>4</th>\n",
              "      <td>C</td>\n",
              "      <td>S</td>\n",
              "    </tr>\n",
              "  </tbody>\n",
              "</table>\n",
              "</div>"
            ],
            "text/plain": [
              "  cabin embarked\n",
              "0     B        S\n",
              "1     C        S\n",
              "2     C        S\n",
              "3     C        S\n",
              "4     C        S"
            ]
          },
          "metadata": {
            "tags": []
          },
          "execution_count": 25
        }
      ]
    },
    {
      "cell_type": "markdown",
      "metadata": {
        "id": "T-QUQXpM8Dt_"
      },
      "source": [
        "Count/Frequency encoding requires the count of the variable. Let's print the count of each label of the independent variables using ```.value_counts```."
      ]
    },
    {
      "cell_type": "code",
      "metadata": {
        "id": "5bRZUzoeeyRk",
        "outputId": "db79d096-1e5d-4016-c350-1de12139577b",
        "colab": {
          "base_uri": "https://localhost:8080/",
          "height": 238
        }
      },
      "source": [
        "\n",
        "print(data['cabin'].value_counts())\n",
        "print(data['embarked'].value_counts())"
      ],
      "execution_count": null,
      "outputs": [
        {
          "output_type": "stream",
          "text": [
            "C    94\n",
            "B    63\n",
            "D    46\n",
            "E    41\n",
            "A    22\n",
            "F    21\n",
            "G     5\n",
            "T     1\n",
            "Name: cabin, dtype: int64\n",
            "S    170\n",
            "C    118\n",
            "Q      5\n",
            "Name: embarked, dtype: int64\n"
          ],
          "name": "stdout"
        }
      ]
    },
    {
      "cell_type": "markdown",
      "metadata": {
        "id": "mR0WBN7C8Vrr"
      },
      "source": [
        "Assigning these counts to a dictionary values for mappping as done in label encoding using ```to_dict```."
      ]
    },
    {
      "cell_type": "code",
      "metadata": {
        "id": "qRMYalINeyRn"
      },
      "source": [
        "# count mapping function\n",
        "def count_mapping(df, variable):\n",
        "    return data[variable].value_counts().to_dict()\n",
        "# frequency mapping function\n",
        "def frequency_mapping(df, variable):\n",
        "    return (data[variable].value_counts()/len(data[variable])).to_dict()\n",
        "# maps the dictionary values to the dataframes column\n",
        "def encoding(df, variable, mapping):\n",
        "    df[variable] = df[variable].map(mapping)"
      ],
      "execution_count": null,
      "outputs": []
    },
    {
      "cell_type": "markdown",
      "metadata": {
        "id": "Aw66W2vU8UvK"
      },
      "source": [
        "Applying the count encoding to the variables"
      ]
    },
    {
      "cell_type": "code",
      "metadata": {
        "id": "i3wRuYJ_eyRp",
        "outputId": "785cf9e3-5bd0-429b-f3f4-2d8d756f3154",
        "colab": {
          "base_uri": "https://localhost:8080/",
          "height": 359
        }
      },
      "source": [
        "data_temp = data\n",
        "for cols in data_temp.columns:\n",
        "    counts = count_mapping(data_temp, cols)\n",
        "    encoding(data_temp, cols, counts)\n",
        "\n",
        "\n",
        "data_temp.head(10)"
      ],
      "execution_count": null,
      "outputs": [
        {
          "output_type": "execute_result",
          "data": {
            "text/html": [
              "<div>\n",
              "<style scoped>\n",
              "    .dataframe tbody tr th:only-of-type {\n",
              "        vertical-align: middle;\n",
              "    }\n",
              "\n",
              "    .dataframe tbody tr th {\n",
              "        vertical-align: top;\n",
              "    }\n",
              "\n",
              "    .dataframe thead th {\n",
              "        text-align: right;\n",
              "    }\n",
              "</style>\n",
              "<table border=\"1\" class=\"dataframe\">\n",
              "  <thead>\n",
              "    <tr style=\"text-align: right;\">\n",
              "      <th></th>\n",
              "      <th>cabin</th>\n",
              "      <th>embarked</th>\n",
              "    </tr>\n",
              "  </thead>\n",
              "  <tbody>\n",
              "    <tr>\n",
              "      <th>0</th>\n",
              "      <td>63</td>\n",
              "      <td>170</td>\n",
              "    </tr>\n",
              "    <tr>\n",
              "      <th>1</th>\n",
              "      <td>94</td>\n",
              "      <td>170</td>\n",
              "    </tr>\n",
              "    <tr>\n",
              "      <th>2</th>\n",
              "      <td>94</td>\n",
              "      <td>170</td>\n",
              "    </tr>\n",
              "    <tr>\n",
              "      <th>3</th>\n",
              "      <td>94</td>\n",
              "      <td>170</td>\n",
              "    </tr>\n",
              "    <tr>\n",
              "      <th>4</th>\n",
              "      <td>94</td>\n",
              "      <td>170</td>\n",
              "    </tr>\n",
              "    <tr>\n",
              "      <th>5</th>\n",
              "      <td>41</td>\n",
              "      <td>170</td>\n",
              "    </tr>\n",
              "    <tr>\n",
              "      <th>6</th>\n",
              "      <td>46</td>\n",
              "      <td>170</td>\n",
              "    </tr>\n",
              "    <tr>\n",
              "      <th>7</th>\n",
              "      <td>22</td>\n",
              "      <td>170</td>\n",
              "    </tr>\n",
              "    <tr>\n",
              "      <th>8</th>\n",
              "      <td>94</td>\n",
              "      <td>170</td>\n",
              "    </tr>\n",
              "    <tr>\n",
              "      <th>10</th>\n",
              "      <td>94</td>\n",
              "      <td>118</td>\n",
              "    </tr>\n",
              "  </tbody>\n",
              "</table>\n",
              "</div>"
            ],
            "text/plain": [
              "    cabin  embarked\n",
              "0      63       170\n",
              "1      94       170\n",
              "2      94       170\n",
              "3      94       170\n",
              "4      94       170\n",
              "5      41       170\n",
              "6      46       170\n",
              "7      22       170\n",
              "8      94       170\n",
              "10     94       118"
            ]
          },
          "metadata": {
            "tags": []
          },
          "execution_count": 28
        }
      ]
    },
    {
      "cell_type": "markdown",
      "metadata": {
        "id": "WOH4hg-e8xxW"
      },
      "source": [
        "Applying the frequency encoding to the variables."
      ]
    },
    {
      "cell_type": "code",
      "metadata": {
        "id": "8eSwzZSbeyRs",
        "outputId": "5fe6f1b8-6b36-4d6d-df50-7d3800ec29f4",
        "colab": {
          "base_uri": "https://localhost:8080/",
          "height": 359
        }
      },
      "source": [
        "data_temp = data\n",
        "\n",
        "for cols in data_temp.columns:\n",
        "    frequency = frequency_mapping(data_temp, cols)\n",
        "    encoding(data_temp, cols, frequency)\n",
        "\n",
        "data_temp.head(10)"
      ],
      "execution_count": null,
      "outputs": [
        {
          "output_type": "execute_result",
          "data": {
            "text/html": [
              "<div>\n",
              "<style scoped>\n",
              "    .dataframe tbody tr th:only-of-type {\n",
              "        vertical-align: middle;\n",
              "    }\n",
              "\n",
              "    .dataframe tbody tr th {\n",
              "        vertical-align: top;\n",
              "    }\n",
              "\n",
              "    .dataframe thead th {\n",
              "        text-align: right;\n",
              "    }\n",
              "</style>\n",
              "<table border=\"1\" class=\"dataframe\">\n",
              "  <thead>\n",
              "    <tr style=\"text-align: right;\">\n",
              "      <th></th>\n",
              "      <th>cabin</th>\n",
              "      <th>embarked</th>\n",
              "    </tr>\n",
              "  </thead>\n",
              "  <tbody>\n",
              "    <tr>\n",
              "      <th>0</th>\n",
              "      <td>0.215017</td>\n",
              "      <td>0.580205</td>\n",
              "    </tr>\n",
              "    <tr>\n",
              "      <th>1</th>\n",
              "      <td>0.320819</td>\n",
              "      <td>0.580205</td>\n",
              "    </tr>\n",
              "    <tr>\n",
              "      <th>2</th>\n",
              "      <td>0.320819</td>\n",
              "      <td>0.580205</td>\n",
              "    </tr>\n",
              "    <tr>\n",
              "      <th>3</th>\n",
              "      <td>0.320819</td>\n",
              "      <td>0.580205</td>\n",
              "    </tr>\n",
              "    <tr>\n",
              "      <th>4</th>\n",
              "      <td>0.320819</td>\n",
              "      <td>0.580205</td>\n",
              "    </tr>\n",
              "    <tr>\n",
              "      <th>5</th>\n",
              "      <td>0.139932</td>\n",
              "      <td>0.580205</td>\n",
              "    </tr>\n",
              "    <tr>\n",
              "      <th>6</th>\n",
              "      <td>0.156997</td>\n",
              "      <td>0.580205</td>\n",
              "    </tr>\n",
              "    <tr>\n",
              "      <th>7</th>\n",
              "      <td>0.075085</td>\n",
              "      <td>0.580205</td>\n",
              "    </tr>\n",
              "    <tr>\n",
              "      <th>8</th>\n",
              "      <td>0.320819</td>\n",
              "      <td>0.580205</td>\n",
              "    </tr>\n",
              "    <tr>\n",
              "      <th>10</th>\n",
              "      <td>0.320819</td>\n",
              "      <td>0.402730</td>\n",
              "    </tr>\n",
              "  </tbody>\n",
              "</table>\n",
              "</div>"
            ],
            "text/plain": [
              "       cabin  embarked\n",
              "0   0.215017  0.580205\n",
              "1   0.320819  0.580205\n",
              "2   0.320819  0.580205\n",
              "3   0.320819  0.580205\n",
              "4   0.320819  0.580205\n",
              "5   0.139932  0.580205\n",
              "6   0.156997  0.580205\n",
              "7   0.075085  0.580205\n",
              "8   0.320819  0.580205\n",
              "10  0.320819  0.402730"
            ]
          },
          "metadata": {
            "tags": []
          },
          "execution_count": 29
        }
      ]
    },
    {
      "cell_type": "markdown",
      "metadata": {
        "id": "N_cburTXeyRu"
      },
      "source": [
        "### Mean/Target Encoding\n",
        "\n",
        "Mean encoding, also known as target encoding, transforms the categorical string variable into the \"average\" target(output of ML algorithm) value for that specific category.\n",
        "\n",
        "There are specific categorical transformations that introduce __monotonic relationship__. One of those transformations is mean/target encoding. Monotonic relationship is the relationship, where any of the two conditions must be met:\n",
        "\n",
        "- When the variable value increases, the value of the target output increases.\n",
        "- When the variable value increases, the value of the target output decreases.\n",
        "\n",
        "The monotonic relationship can be either linear or non-linear. This relationship is useful to improve performance in linear models and tree-based models(creates shallow trees).\n",
        "\n",
        "Let's look at what mean/target encoding is:\n",
        "\n",
        "<table style=\"border-collapse:collapse;border-spacing:0\" class=\"tg\"><tr><th style=\"font-family:Arial, sans-serif;font-size:14px;font-weight:normal;padding:10px 10px;border-style:solid;border-width:1px;overflow:hidden;word-break:normal;border-color:inherit;text-align:center;vertical-align:middle\">Age Category</th><th style=\"font-family:Arial, sans-serif;font-size:14px;font-weight:normal;padding:10px 10px;border-style:solid;border-width:1px;overflow:hidden;word-break:normal;border-color:black;text-align:center;vertical-align:top\">Target</th><th style=\"font-family:Arial, sans-serif;font-size:14px;font-weight:normal;padding:10px 10px;border-style:solid;border-width:1px;overflow:hidden;word-break:normal;border-color:inherit;text-align:center;vertical-align:top\" rowspan=\"6\">Mean/Target Encoding ------&gt;</th><th style=\"font-family:Arial, sans-serif;font-size:14px;font-weight:normal;padding:10px 10px;border-style:solid;border-width:1px;overflow:hidden;word-break:normal;border-color:inherit;text-align:center;vertical-align:middle\">Age Category</th></tr><tr><td style=\"font-family:Arial, sans-serif;font-size:14px;padding:10px 10px;border-style:solid;border-width:1px;overflow:hidden;word-break:normal;border-color:inherit;text-align:center;vertical-align:top\">Young</td><td style=\"font-family:Arial, sans-serif;font-size:14px;padding:10px 10px;border-style:solid;border-width:1px;overflow:hidden;word-break:normal;border-color:black;text-align:center;vertical-align:top\">0</td><td style=\"font-family:Arial, sans-serif;font-size:14px;padding:10px 10px;border-style:solid;border-width:1px;overflow:hidden;word-break:normal;border-color:inherit;text-align:center;vertical-align:top\">0</td></tr><tr><td style=\"font-family:Arial, sans-serif;font-size:14px;padding:10px 10px;border-style:solid;border-width:1px;overflow:hidden;word-break:normal;border-color:inherit;text-align:center;vertical-align:top\">Old</td><td style=\"font-family:Arial, sans-serif;font-size:14px;padding:10px 10px;border-style:solid;border-width:1px;overflow:hidden;word-break:normal;border-color:black;text-align:center;vertical-align:top\">1</td><td style=\"font-family:Arial, sans-serif;font-size:14px;padding:10px 10px;border-style:solid;border-width:1px;overflow:hidden;word-break:normal;border-color:inherit;text-align:center;vertical-align:top\">0.5</td></tr><tr><td style=\"font-family:Arial, sans-serif;font-size:14px;padding:10px 10px;border-style:solid;border-width:1px;overflow:hidden;word-break:normal;border-color:inherit;text-align:center;vertical-align:middle\">Adult</td><td style=\"font-family:Arial, sans-serif;font-size:14px;padding:10px 10px;border-style:solid;border-width:1px;overflow:hidden;word-break:normal;border-color:black;text-align:center;vertical-align:top\">1</td><td style=\"font-family:Arial, sans-serif;font-size:14px;padding:10px 10px;border-style:solid;border-width:1px;overflow:hidden;word-break:normal;border-color:inherit;text-align:center;vertical-align:middle\">1</td></tr><tr><td style=\"font-family:Arial, sans-serif;font-size:14px;padding:10px 10px;border-style:solid;border-width:1px;overflow:hidden;word-break:normal;border-color:inherit;text-align:center;vertical-align:middle\">Old</td><td style=\"font-family:Arial, sans-serif;font-size:14px;padding:10px 10px;border-style:solid;border-width:1px;overflow:hidden;word-break:normal;border-color:black;text-align:center;vertical-align:top\">0</td><td style=\"font-family:Arial, sans-serif;font-size:14px;padding:10px 10px;border-style:solid;border-width:1px;overflow:hidden;word-break:normal;border-color:inherit;text-align:center;vertical-align:middle\">0.5</td></tr><tr><td style=\"font-family:Arial, sans-serif;font-size:14px;padding:10px 10px;border-style:solid;border-width:1px;overflow:hidden;word-break:normal;border-color:black;text-align:center;vertical-align:top\">Young</td><td style=\"font-family:Arial, sans-serif;font-size:14px;padding:10px 10px;border-style:solid;border-width:1px;overflow:hidden;word-break:normal;border-color:black;text-align:center;vertical-align:top\">0</td><td style=\"font-family:Arial, sans-serif;font-size:14px;padding:10px 10px;border-style:solid;border-width:1px;overflow:hidden;word-break:normal;border-color:black;text-align:center;vertical-align:top\">0</td></tr></table>\n",
        "<center>Table 4: Mean/target encoding example</center>\n",
        "\n",
        "Each category's target value is summed and then divided by the number of occurrence of the category(average) and replaced with the categorical variable. For \"Young\", it's 0+0/2 = 0. For \"Old\", 0+1/2 = 0.5.\n",
        "\n",
        "#### Advantages\n",
        "- Doesn't expand feature space, no increase in computation time.\n",
        "- Creates monotonic relationship between variables and target.\n",
        "\n",
        "#### Limitations\n",
        "- Can cause overfitting since target's information exists in transformed variables.\n",
        "- Difficult to implement with cross-validation.\n",
        "- Variables having same average target values cannot be distinguished, resulting loss of valuable information.\n",
        "- Target must be numerical values.\n",
        "\n",
        "####  Demo\n",
        "Since Scikit-learn doesn't support mean encoding. Libraries ```feature-engine``` and Pandas are used to show the implementation. Importing ```matplotlib.pyplot``` for plotting the graphs."
      ]
    },
    {
      "cell_type": "code",
      "metadata": {
        "id": "MbuqGwhKeyRv",
        "outputId": "562b8901-a83c-4619-9ea0-2b9f833d6458",
        "colab": {
          "base_uri": "https://localhost:8080/",
          "height": 367
        }
      },
      "source": [
        "import matplotlib.pyplot as plt\n",
        "\n",
        "# Mean-Encoding using feature engine package\n",
        "from feature_engine.categorical_encoders import MeanCategoricalEncoder\n",
        "\n",
        "data = load_data()\n",
        "\n",
        "data = data[['sex', 'embarked', 'survived']]\n",
        "\n",
        "data.head()"
      ],
      "execution_count": null,
      "outputs": [
        {
          "output_type": "error",
          "ename": "ModuleNotFoundError",
          "evalue": "ignored",
          "traceback": [
            "\u001b[0;31m---------------------------------------------------------------------------\u001b[0m",
            "\u001b[0;31mModuleNotFoundError\u001b[0m                       Traceback (most recent call last)",
            "\u001b[0;32m<ipython-input-31-c1f24b070aaa>\u001b[0m in \u001b[0;36m<module>\u001b[0;34m()\u001b[0m\n\u001b[1;32m      2\u001b[0m \u001b[0;34m\u001b[0m\u001b[0m\n\u001b[1;32m      3\u001b[0m \u001b[0;31m# Mean-Encoding using feature enginer package\u001b[0m\u001b[0;34m\u001b[0m\u001b[0;34m\u001b[0m\u001b[0;34m\u001b[0m\u001b[0m\n\u001b[0;32m----> 4\u001b[0;31m \u001b[0;32mfrom\u001b[0m \u001b[0mfeature_engine\u001b[0m\u001b[0;34m.\u001b[0m\u001b[0mcategorical_encoders\u001b[0m \u001b[0;32mimport\u001b[0m \u001b[0mMeanCategoricalEncoder\u001b[0m\u001b[0;34m\u001b[0m\u001b[0;34m\u001b[0m\u001b[0m\n\u001b[0m\u001b[1;32m      5\u001b[0m \u001b[0;34m\u001b[0m\u001b[0m\n\u001b[1;32m      6\u001b[0m \u001b[0mdata\u001b[0m \u001b[0;34m=\u001b[0m \u001b[0mload_data\u001b[0m\u001b[0;34m(\u001b[0m\u001b[0;34m)\u001b[0m\u001b[0;34m\u001b[0m\u001b[0;34m\u001b[0m\u001b[0m\n",
            "\u001b[0;31mModuleNotFoundError\u001b[0m: No module named 'feature_engine'",
            "",
            "\u001b[0;31m---------------------------------------------------------------------------\u001b[0;32m\nNOTE: If your import is failing due to a missing package, you can\nmanually install dependencies using either !pip or !apt.\n\nTo view examples of installing some common dependencies, click the\n\"Open Examples\" button below.\n\u001b[0;31m---------------------------------------------------------------------------\u001b[0m\n"
          ]
        }
      ]
    },
    {
      "cell_type": "markdown",
      "metadata": {
        "id": "8v3dKuKK-uv6"
      },
      "source": [
        "```fillna``` fills the ```NaN``` values with the string specified. Here, Filling with \"Missing\"."
      ]
    },
    {
      "cell_type": "code",
      "metadata": {
        "id": "V8OyQw1UeyRy"
      },
      "source": [
        "# lets fill the na in embarked with \"Missing\"\n",
        "data['embarked'].fillna('Missing', inplace=True)"
      ],
      "execution_count": null,
      "outputs": []
    },
    {
      "cell_type": "code",
      "metadata": {
        "id": "auANx5UCeyR0",
        "outputId": "6f4c71c2-fa00-4939-86db-619e842d7c6d"
      },
      "source": [
        "# lets look at the no.of unique labels\n",
        "for column in data.columns:\n",
        "    no_of_labels = len(data[column].unique())\n",
        "    print(f\"{column} : {no_of_labels} labels\")\n",
        ""
      ],
      "execution_count": null,
      "outputs": [
        {
          "output_type": "stream",
          "text": [
            "sex : 2 labels\n",
            "embarked : 4 labels\n",
            "survived : 2 labels\n"
          ],
          "name": "stdout"
        }
      ]
    },
    {
      "cell_type": "code",
      "metadata": {
        "id": "P7cawIWGeyR4",
        "outputId": "560a9b9e-d0f4-4b89-def5-1be34a8f4c90"
      },
      "source": [
        "# splitting the dataset\n",
        "\n",
        "X_train, X_test, y_train, y_test = train_test_split(\n",
        "    data[['sex', 'embarked', 'survived']], #keeping the target in input set\n",
        "    data['survived'],\n",
        "    test_size = 0.3,\n",
        "    random_state = 42)\n",
        "\n",
        "X_train.head()"
      ],
      "execution_count": null,
      "outputs": [
        {
          "output_type": "execute_result",
          "data": {
            "text/html": [
              "<div>\n",
              "<style scoped>\n",
              "    .dataframe tbody tr th:only-of-type {\n",
              "        vertical-align: middle;\n",
              "    }\n",
              "\n",
              "    .dataframe tbody tr th {\n",
              "        vertical-align: top;\n",
              "    }\n",
              "\n",
              "    .dataframe thead th {\n",
              "        text-align: right;\n",
              "    }\n",
              "</style>\n",
              "<table border=\"1\" class=\"dataframe\">\n",
              "  <thead>\n",
              "    <tr style=\"text-align: right;\">\n",
              "      <th></th>\n",
              "      <th>sex</th>\n",
              "      <th>embarked</th>\n",
              "      <th>survived</th>\n",
              "    </tr>\n",
              "  </thead>\n",
              "  <tbody>\n",
              "    <tr>\n",
              "      <th>1214</th>\n",
              "      <td>male</td>\n",
              "      <td>S</td>\n",
              "      <td>0</td>\n",
              "    </tr>\n",
              "    <tr>\n",
              "      <th>677</th>\n",
              "      <td>male</td>\n",
              "      <td>S</td>\n",
              "      <td>0</td>\n",
              "    </tr>\n",
              "    <tr>\n",
              "      <th>534</th>\n",
              "      <td>female</td>\n",
              "      <td>S</td>\n",
              "      <td>1</td>\n",
              "    </tr>\n",
              "    <tr>\n",
              "      <th>1174</th>\n",
              "      <td>female</td>\n",
              "      <td>S</td>\n",
              "      <td>0</td>\n",
              "    </tr>\n",
              "    <tr>\n",
              "      <th>864</th>\n",
              "      <td>female</td>\n",
              "      <td>S</td>\n",
              "      <td>0</td>\n",
              "    </tr>\n",
              "  </tbody>\n",
              "</table>\n",
              "</div>"
            ],
            "text/plain": [
              "         sex embarked  survived\n",
              "1214    male        S         0\n",
              "677     male        S         0\n",
              "534   female        S         1\n",
              "1174  female        S         0\n",
              "864   female        S         0"
            ]
          },
          "metadata": {
            "tags": []
          },
          "execution_count": 36
        }
      ]
    },
    {
      "cell_type": "markdown",
      "metadata": {
        "id": "N8nmeTLy_LWJ"
      },
      "source": [
        "Creating function to plot relationship between variables and target with variable in x-axis and mean value of target in y-axis. ```groupby``` method groups the observation by the variable which is passed as parameter"
      ]
    },
    {
      "cell_type": "code",
      "metadata": {
        "id": "82nwdn3HeyR7"
      },
      "source": [
        "def relationship_plot(variables):\n",
        "    for var in variables:\n",
        "        plt.figure()\n",
        "        plt.plot(X_train.groupby([var])['survived'].mean())#calculates mean of target value per variable\n",
        "        plt.title(f'Relationship between {var} and Survival')\n",
        "        plt.ylabel('Mean value Survival')\n",
        "        plt.show()"
      ],
      "execution_count": null,
      "outputs": []
    },
    {
      "cell_type": "markdown",
      "metadata": {
        "id": "u8Lukcmd_e6i"
      },
      "source": [
        "Plotting the relationship. The relationship is monotonic for ```sex ```variable because it is binary."
      ]
    },
    {
      "cell_type": "code",
      "metadata": {
        "id": "WKgDuprkeyR9",
        "outputId": "eb66d9c0-6c00-4ac2-99a1-4442767d1692"
      },
      "source": [
        "relationship_plot(['sex', 'embarked'])\n"
      ],
      "execution_count": null,
      "outputs": [
        {
          "output_type": "display_data",
          "data": {
            "image/png": "[encoded data removed]",
            "text/plain": [
              "<Figure size 432x288 with 1 Axes>"
            ]
          },
          "metadata": {
            "tags": []
          }
        },
        {
          "output_type": "display_data",
          "data": {
            "image/png": "[encoded data removed]",
            "text/plain": [
              "<Figure size 432x288 with 1 Axes>"
            ]
          },
          "metadata": {
            "tags": []
          }
        }
      ]
    },
    {
      "cell_type": "markdown",
      "metadata": {
        "id": "Yv_VvOT9_rrO"
      },
      "source": [
        "Now, let's create a function to compute the mean of target values and map into dataframe as done previously."
      ]
    },
    {
      "cell_type": "code",
      "metadata": {
        "id": "riO_g3zQeySB"
      },
      "source": [
        "# function to compute dictionary with mean mapping\n",
        "def mean_mapping(df, variable, target):\n",
        "    tempdf = df.groupby([variable])[target]\n",
        "    return temp_df.mean().to_dict()"
      ],
      "execution_count": null,
      "outputs": []
    },
    {
      "cell_type": "code",
      "metadata": {
        "id": "S0dc2xqXeySE",
        "outputId": "65eb0ce5-20c7-43dc-9e4b-a247f0924439"
      },
      "source": [
        "# replacing labels with mean_target value per observation.\n",
        "\n",
        "for variable in ['sex','embarked']:\n",
        "    means = mean_mapping(X_train, variable, 'survived')\n",
        "    encoding(X_train, variable, means)\n",
        "\n",
        "X_train.head()"
      ],
      "execution_count": null,
      "outputs": [
        {
          "output_type": "execute_result",
          "data": {
            "text/html": [
              "<div>\n",
              "<style scoped>\n",
              "    .dataframe tbody tr th:only-of-type {\n",
              "        vertical-align: middle;\n",
              "    }\n",
              "\n",
              "    .dataframe tbody tr th {\n",
              "        vertical-align: top;\n",
              "    }\n",
              "\n",
              "    .dataframe thead th {\n",
              "        text-align: right;\n",
              "    }\n",
              "</style>\n",
              "<table border=\"1\" class=\"dataframe\">\n",
              "  <thead>\n",
              "    <tr style=\"text-align: right;\">\n",
              "      <th></th>\n",
              "      <th>sex</th>\n",
              "      <th>embarked</th>\n",
              "      <th>survived</th>\n",
              "    </tr>\n",
              "  </thead>\n",
              "  <tbody>\n",
              "    <tr>\n",
              "      <th>1214</th>\n",
              "      <td>0.179054</td>\n",
              "      <td>0.31348</td>\n",
              "      <td>0</td>\n",
              "    </tr>\n",
              "    <tr>\n",
              "      <th>677</th>\n",
              "      <td>0.179054</td>\n",
              "      <td>0.31348</td>\n",
              "      <td>0</td>\n",
              "    </tr>\n",
              "    <tr>\n",
              "      <th>534</th>\n",
              "      <td>0.694444</td>\n",
              "      <td>0.31348</td>\n",
              "      <td>1</td>\n",
              "    </tr>\n",
              "    <tr>\n",
              "      <th>1174</th>\n",
              "      <td>0.694444</td>\n",
              "      <td>0.31348</td>\n",
              "      <td>0</td>\n",
              "    </tr>\n",
              "    <tr>\n",
              "      <th>864</th>\n",
              "      <td>0.694444</td>\n",
              "      <td>0.31348</td>\n",
              "      <td>0</td>\n",
              "    </tr>\n",
              "  </tbody>\n",
              "</table>\n",
              "</div>"
            ],
            "text/plain": [
              "           sex  embarked  survived\n",
              "1214  0.179054   0.31348         0\n",
              "677   0.179054   0.31348         0\n",
              "534   0.694444   0.31348         1\n",
              "1174  0.694444   0.31348         0\n",
              "864   0.694444   0.31348         0"
            ]
          },
          "metadata": {
            "tags": []
          },
          "execution_count": 40
        }
      ]
    },
    {
      "cell_type": "markdown",
      "metadata": {
        "id": "s93uiaEq_07M"
      },
      "source": [
        "Plotting the relationship shows that it is converted into monotonic ones."
      ]
    },
    {
      "cell_type": "code",
      "metadata": {
        "id": "8hBn18u9eySH",
        "outputId": "6d04210f-647d-4bdb-9b8e-79f52b6bfc6d"
      },
      "source": [
        "# lets see the relationship again, it must be converted to monotonic ones.\n",
        "relationship_plot(['sex', 'embarked'])"
      ],
      "execution_count": null,
      "outputs": [
        {
          "output_type": "display_data",
          "data": {
            "image/png": "[encoded data removed]",
            "text/plain": [
              "<Figure size 432x288 with 1 Axes>"
            ]
          },
          "metadata": {
            "tags": []
          }
        },
        {
          "output_type": "display_data",
          "data": {
            "image/png": "[encoded data removed]",
            "text/plain": [
              "<Figure size 432x288 with 1 Axes>"
            ]
          },
          "metadata": {
            "tags": []
          }
        }
      ]
    },
    {
      "cell_type": "markdown",
      "metadata": {
        "id": "HR-IBgv4_6yE"
      },
      "source": [
        "Feature-engine has same use procedure as Scikit-learn, however the returned values are Pandas DataFrame. Using ```MeanCategoricalEncoder``` function for Mean encoding."
      ]
    },
    {
      "cell_type": "code",
      "metadata": {
        "id": "rD6qDSF-eySK",
        "outputId": "04420b4b-2f5f-4d0d-dca3-07a1022c5df5"
      },
      "source": [
        "# mean encoder using feature-engine\n",
        "# variables attribute are the variables that need to be encoded.\n",
        "mean_encoder = MeanCategoricalEncoder(variables=['sex','embarked'])\n",
        "\n",
        "# splitting the dataset\n",
        "\n",
        "X_train, X_test, y_train, y_test = train_test_split(\n",
        "    data[['sex', 'embarked']], #variables\n",
        "    data['survived'], #target\n",
        "    test_size = 0.3,\n",
        "    random_state = 42)\n",
        "\n",
        "mean_encoder.fit(X_train, y_train)"
      ],
      "execution_count": null,
      "outputs": [
        {
          "output_type": "execute_result",
          "data": {
            "text/plain": [
              "MeanCategoricalEncoder(variables=['sex', 'embarked'])"
            ]
          },
          "metadata": {
            "tags": []
          },
          "execution_count": 42
        }
      ]
    },
    {
      "cell_type": "markdown",
      "metadata": {
        "id": "HCDvhHs-AFkA"
      },
      "source": [
        "Displaying the transformed dataframe."
      ]
    },
    {
      "cell_type": "code",
      "metadata": {
        "id": "KY0DyE9AeySO",
        "outputId": "b8f6dc4a-49db-4335-b095-e7dd9fe63073"
      },
      "source": [
        "X_train = mean_encoder.transform(X_train)\n",
        "X_test = mean_encoder.transform(X_test)\n",
        "\n",
        "X_train.head()"
      ],
      "execution_count": null,
      "outputs": [
        {
          "output_type": "execute_result",
          "data": {
            "text/html": [
              "<div>\n",
              "<style scoped>\n",
              "    .dataframe tbody tr th:only-of-type {\n",
              "        vertical-align: middle;\n",
              "    }\n",
              "\n",
              "    .dataframe tbody tr th {\n",
              "        vertical-align: top;\n",
              "    }\n",
              "\n",
              "    .dataframe thead th {\n",
              "        text-align: right;\n",
              "    }\n",
              "</style>\n",
              "<table border=\"1\" class=\"dataframe\">\n",
              "  <thead>\n",
              "    <tr style=\"text-align: right;\">\n",
              "      <th></th>\n",
              "      <th>sex</th>\n",
              "      <th>embarked</th>\n",
              "    </tr>\n",
              "  </thead>\n",
              "  <tbody>\n",
              "    <tr>\n",
              "      <th>1214</th>\n",
              "      <td>0.179054</td>\n",
              "      <td>0.31348</td>\n",
              "    </tr>\n",
              "    <tr>\n",
              "      <th>677</th>\n",
              "      <td>0.179054</td>\n",
              "      <td>0.31348</td>\n",
              "    </tr>\n",
              "    <tr>\n",
              "      <th>534</th>\n",
              "      <td>0.694444</td>\n",
              "      <td>0.31348</td>\n",
              "    </tr>\n",
              "    <tr>\n",
              "      <th>1174</th>\n",
              "      <td>0.694444</td>\n",
              "      <td>0.31348</td>\n",
              "    </tr>\n",
              "    <tr>\n",
              "      <th>864</th>\n",
              "      <td>0.694444</td>\n",
              "      <td>0.31348</td>\n",
              "    </tr>\n",
              "  </tbody>\n",
              "</table>\n",
              "</div>"
            ],
            "text/plain": [
              "           sex  embarked\n",
              "1214  0.179054   0.31348\n",
              "677   0.179054   0.31348\n",
              "534   0.694444   0.31348\n",
              "1174  0.694444   0.31348\n",
              "864   0.694444   0.31348"
            ]
          },
          "metadata": {
            "tags": []
          },
          "execution_count": 43
        }
      ]
    },
    {
      "cell_type": "markdown",
      "metadata": {
        "id": "fED3mjhjeySR"
      },
      "source": [
        "### Weight of Evidence\n",
        "\n",
        "Weight of evidence(WoE) replaces the value of the categorical variable with the WoE value given by the formula.\n",
        "\n",
        "$$ WoE = \\ln{\\frac{P(1)}{P(0)}}$$\n",
        "\n",
        "Weight of evidence was developed for financial industries to help build predictive models for evaluation of \"risk of loan default\"(How likely the money lent is to be lost).\n",
        "\n",
        "Since these industries primarily use logistic regression, which contains the binary target, the formula consists of only two values. In the formula, $P(1)$ is the probability of default loans, and $P(0)$ is the probability of good loans.\n",
        "\n",
        "Weight of evidence is most prominent in logistic regression algorithms or algorithms where the target has a binary set of values.\n",
        "\n",
        "Let's look at an example of Weight of Evidence.\n",
        "\n",
        "<table style=\"border-collapse:collapse;border-spacing:0\" class=\"tg\"><tr><th style=\"font-family:Arial, sans-serif;font-size:14px;font-weight:normal;padding:10px 10px;border-style:solid;border-width:1px;overflow:hidden;word-break:normal;border-color:inherit;text-align:center;vertical-align:middle\">Age Category</th><th style=\"font-family:Arial, sans-serif;font-size:14px;font-weight:normal;padding:10px 10px;border-style:solid;border-width:1px;overflow:hidden;word-break:normal;border-color:black;text-align:center;vertical-align:top\">Energetic(P(1))</th><th style=\"font-family:Arial, sans-serif;font-size:14px;font-weight:normal;padding:10px 10px;border-style:solid;border-width:1px;overflow:hidden;word-break:normal;border-color:black;text-align:left;vertical-align:top\">Inactive(P(0))</th><th style=\"font-family:Arial, sans-serif;font-size:14px;font-weight:normal;padding:10px 10px;border-style:solid;border-width:1px;overflow:hidden;word-break:normal;border-color:inherit;text-align:center;vertical-align:top\" rowspan=\"4\">Weight of evidence ------&gt;</th><th style=\"font-family:Arial, sans-serif;font-size:14px;font-weight:normal;padding:10px 10px;border-style:solid;border-width:1px;overflow:hidden;word-break:normal;border-color:inherit;text-align:center;vertical-align:middle\">Age Category</th></tr><tr><td style=\"font-family:Arial, sans-serif;font-size:14px;padding:10px 10px;border-style:solid;border-width:1px;overflow:hidden;word-break:normal;border-color:inherit;text-align:center;vertical-align:top\">Young</td><td style=\"font-family:Arial, sans-serif;font-size:14px;padding:10px 10px;border-style:solid;border-width:1px;overflow:hidden;word-break:normal;border-color:black;text-align:center;vertical-align:top\">0.956</td><td style=\"font-family:Arial, sans-serif;font-size:14px;padding:10px 10px;border-style:solid;border-width:1px;overflow:hidden;word-break:normal;border-color:black;text-align:center;vertical-align:top\">0.044</td><td style=\"font-family:Arial, sans-serif;font-size:14px;padding:10px 10px;border-style:solid;border-width:1px;overflow:hidden;word-break:normal;border-color:inherit;text-align:center;vertical-align:top\">3.0785</td></tr><tr><td style=\"font-family:Arial, sans-serif;font-size:14px;padding:10px 10px;border-style:solid;border-width:1px;overflow:hidden;word-break:normal;border-color:inherit;text-align:center;vertical-align:top\">Old</td><td style=\"font-family:Arial, sans-serif;font-size:14px;padding:10px 10px;border-style:solid;border-width:1px;overflow:hidden;word-break:normal;border-color:black;text-align:center;vertical-align:top\">0.232</td><td style=\"font-family:Arial, sans-serif;font-size:14px;padding:10px 10px;border-style:solid;border-width:1px;overflow:hidden;word-break:normal;border-color:black;text-align:center;vertical-align:top\">0.768</td><td style=\"font-family:Arial, sans-serif;font-size:14px;padding:10px 10px;border-style:solid;border-width:1px;overflow:hidden;word-break:normal;border-color:inherit;text-align:center;vertical-align:top\">-1.197</td></tr><tr><td style=\"font-family:Arial, sans-serif;font-size:14px;padding:10px 10px;border-style:solid;border-width:1px;overflow:hidden;word-break:normal;border-color:inherit;text-align:center;vertical-align:middle\">Adult</td><td style=\"font-family:Arial, sans-serif;font-size:14px;padding:10px 10px;border-style:solid;border-width:1px;overflow:hidden;word-break:normal;border-color:black;text-align:center;vertical-align:top\">0.611</td><td style=\"font-family:Arial, sans-serif;font-size:14px;padding:10px 10px;border-style:solid;border-width:1px;overflow:hidden;word-break:normal;border-color:black;text-align:center;vertical-align:top\">0.389</td><td style=\"font-family:Arial, sans-serif;font-size:14px;padding:10px 10px;border-style:solid;border-width:1px;overflow:hidden;word-break:normal;border-color:inherit;text-align:center;vertical-align:middle\">0.451</td></tr></table>\n",
        "\n",
        "<center>Table 5: Weight of Evidence example</center>\n",
        "\n",
        "The value of categorical variable is replaced by the weight of evidence's numerical value.\n",
        "\n",
        "#### Advantages\n",
        "- Creation of monotonic relationship between variables and the target.\n",
        "- Orders the category on a logistic scale, helpful for logistic regression task.\n",
        "- Transformed variables can be compared because they are converted into same scale. Helpful in determining the importance of each variable.\n",
        "\n",
        "\n",
        "#### Limitations\n",
        "- Value results to NaN or infinity when denominator is zero.\n",
        "- May cause overfitting.\n",
        "\n",
        "#### Demo\n",
        "Pandas, and feature engine package will be used for computing Weight of evidence transformation. Loading the data and removing the ```NaN``` values."
      ]
    },
    {
      "cell_type": "code",
      "metadata": {
        "id": "WHHIdnX0eySS",
        "outputId": "476c0812-95d6-485a-da12-7be969cabb73"
      },
      "source": [
        "#loading the titanic dataset\n",
        "data = load_data()\n",
        "\n",
        "data = data[['cabin','embarked','survived']]\n",
        "\n",
        "#Taking the 1st strings from cabin features\n",
        "data['cabin'] = data['cabin'].astype('str').str[0] #requires type as string\n",
        "\n",
        "#removing the na values\n",
        "data = data[data['embarked'].notna()]\n",
        "data.head()"
      ],
      "execution_count": null,
      "outputs": [
        {
          "output_type": "execute_result",
          "data": {
            "text/html": [
              "<div>\n",
              "<style scoped>\n",
              "    .dataframe tbody tr th:only-of-type {\n",
              "        vertical-align: middle;\n",
              "    }\n",
              "\n",
              "    .dataframe tbody tr th {\n",
              "        vertical-align: top;\n",
              "    }\n",
              "\n",
              "    .dataframe thead th {\n",
              "        text-align: right;\n",
              "    }\n",
              "</style>\n",
              "<table border=\"1\" class=\"dataframe\">\n",
              "  <thead>\n",
              "    <tr style=\"text-align: right;\">\n",
              "      <th></th>\n",
              "      <th>cabin</th>\n",
              "      <th>embarked</th>\n",
              "      <th>survived</th>\n",
              "    </tr>\n",
              "  </thead>\n",
              "  <tbody>\n",
              "    <tr>\n",
              "      <th>0</th>\n",
              "      <td>B</td>\n",
              "      <td>S</td>\n",
              "      <td>1</td>\n",
              "    </tr>\n",
              "    <tr>\n",
              "      <th>1</th>\n",
              "      <td>C</td>\n",
              "      <td>S</td>\n",
              "      <td>1</td>\n",
              "    </tr>\n",
              "    <tr>\n",
              "      <th>2</th>\n",
              "      <td>C</td>\n",
              "      <td>S</td>\n",
              "      <td>0</td>\n",
              "    </tr>\n",
              "    <tr>\n",
              "      <th>3</th>\n",
              "      <td>C</td>\n",
              "      <td>S</td>\n",
              "      <td>0</td>\n",
              "    </tr>\n",
              "    <tr>\n",
              "      <th>4</th>\n",
              "      <td>C</td>\n",
              "      <td>S</td>\n",
              "      <td>0</td>\n",
              "    </tr>\n",
              "  </tbody>\n",
              "</table>\n",
              "</div>"
            ],
            "text/plain": [
              "  cabin embarked  survived\n",
              "0     B        S         1\n",
              "1     C        S         1\n",
              "2     C        S         0\n",
              "3     C        S         0\n",
              "4     C        S         0"
            ]
          },
          "metadata": {
            "tags": []
          },
          "execution_count": 44
        }
      ]
    },
    {
      "cell_type": "markdown",
      "metadata": {
        "id": "qorl3c1LAzKq"
      },
      "source": [
        "Looking at the count of each label in the independent variable, it looks like 'T' label occurs only once. Removing this label is a smart choice as they can result in error while computing WoE."
      ]
    },
    {
      "cell_type": "code",
      "metadata": {
        "id": "10G3iksneySV",
        "outputId": "a3033bb6-ca24-4959-99cf-d009436edd7e"
      },
      "source": [
        "# lets look at the count of categories of cabin features\n",
        "\n",
        "print(data['cabin'].value_counts())\n",
        "\n",
        "#Since, the count of 'T' category is so low, it can throw error when computing the log.\n",
        "# removing the 'T' category\n",
        "\n",
        "data = data[data['cabin'] != 'T']\n",
        "\n",
        "print(data['cabin'].value_counts())"
      ],
      "execution_count": null,
      "outputs": [
        {
          "output_type": "stream",
          "text": [
            "n    1014\n",
            "C      94\n",
            "B      63\n",
            "D      46\n",
            "E      41\n",
            "A      22\n",
            "F      21\n",
            "G       5\n",
            "T       1\n",
            "Name: cabin, dtype: int64\n",
            "n    1014\n",
            "C      94\n",
            "B      63\n",
            "D      46\n",
            "E      41\n",
            "A      22\n",
            "F      21\n",
            "G       5\n",
            "Name: cabin, dtype: int64\n"
          ],
          "name": "stdout"
        }
      ]
    },
    {
      "cell_type": "markdown",
      "metadata": {
        "id": "jEx8P0zRBFHB"
      },
      "source": [
        "Spliting the dataset and viewing relationship between variable and target."
      ]
    },
    {
      "cell_type": "code",
      "metadata": {
        "id": "77Is-R7ueySY"
      },
      "source": [
        "# Dividing the dataset into train and test\n",
        "\n",
        "X_train, X_test, y_train, y_test = train_test_split(\n",
        "    data[['cabin','embarked','survived']], #keep the target\n",
        "    data['survived'],\n",
        "    test_size=0.3,\n",
        "    random_state=42)"
      ],
      "execution_count": null,
      "outputs": []
    },
    {
      "cell_type": "code",
      "metadata": {
        "id": "zFVvLG_XeySb",
        "outputId": "d4b758e7-77d1-4c03-84af-1cd11a22f0aa"
      },
      "source": [
        "# Visualize the relationship\n",
        "relationship_plot(['cabin','embarked'])"
      ],
      "execution_count": null,
      "outputs": [
        {
          "output_type": "display_data",
          "data": {
            "image/png": "[encoded data removed]",
            "text/plain": [
              "<Figure size 432x288 with 1 Axes>"
            ]
          },
          "metadata": {
            "tags": []
          }
        },
        {
          "output_type": "display_data",
          "data": {
            "image/png": "[encoded data removed]",
            "text/plain": [
              "<Figure size 432x288 with 1 Axes>"
            ]
          },
          "metadata": {
            "tags": []
          }
        }
      ]
    },
    {
      "cell_type": "markdown",
      "metadata": {
        "id": "sWgIdKR0eySf"
      },
      "source": [
        "To calculate the Weight of evidence, calculation of probability of survival and dead is necessary. You are going to learn that right now.\n",
        "First, we need to create a different dataframe to store the probability values. Then use the features of that probability dataframe to compute weight of evidence."
      ]
    },
    {
      "cell_type": "code",
      "metadata": {
        "id": "m7fCarKWeySf",
        "outputId": "b500b06b-1be6-4110-ab09-f030f4a712fc"
      },
      "source": [
        "# Calculate probability of survived\n",
        "# group by cabin, then calculate the target value's mean.\n",
        "probability_df = X_train.groupby(['cabin'])['survived'].mean()\n",
        "probability_df = pd.DataFrame(probability_df)\n",
        "\n",
        "# calculate the probabilty of dead\n",
        "probability_df['dead'] = 1-probability_df['survived']\n",
        "\n",
        "# calculate the weight of evidence ratio\n",
        "\n",
        "probability_df['WOE'] = np.log(probability_df['survived']/probability_df['dead'])\n",
        "\n",
        "probability_df"
      ],
      "execution_count": null,
      "outputs": [
        {
          "output_type": "execute_result",
          "data": {
            "text/html": [
              "<div>\n",
              "<style scoped>\n",
              "    .dataframe tbody tr th:only-of-type {\n",
              "        vertical-align: middle;\n",
              "    }\n",
              "\n",
              "    .dataframe tbody tr th {\n",
              "        vertical-align: top;\n",
              "    }\n",
              "\n",
              "    .dataframe thead th {\n",
              "        text-align: right;\n",
              "    }\n",
              "</style>\n",
              "<table border=\"1\" class=\"dataframe\">\n",
              "  <thead>\n",
              "    <tr style=\"text-align: right;\">\n",
              "      <th></th>\n",
              "      <th>survived</th>\n",
              "      <th>dead</th>\n",
              "      <th>WOE</th>\n",
              "    </tr>\n",
              "    <tr>\n",
              "      <th>cabin</th>\n",
              "      <th></th>\n",
              "      <th></th>\n",
              "      <th></th>\n",
              "    </tr>\n",
              "  </thead>\n",
              "  <tbody>\n",
              "    <tr>\n",
              "      <th>A</th>\n",
              "      <td>0.526316</td>\n",
              "      <td>0.473684</td>\n",
              "      <td>0.105361</td>\n",
              "    </tr>\n",
              "    <tr>\n",
              "      <th>B</th>\n",
              "      <td>0.714286</td>\n",
              "      <td>0.285714</td>\n",
              "      <td>0.916291</td>\n",
              "    </tr>\n",
              "    <tr>\n",
              "      <th>C</th>\n",
              "      <td>0.682540</td>\n",
              "      <td>0.317460</td>\n",
              "      <td>0.765468</td>\n",
              "    </tr>\n",
              "    <tr>\n",
              "      <th>D</th>\n",
              "      <td>0.722222</td>\n",
              "      <td>0.277778</td>\n",
              "      <td>0.955511</td>\n",
              "    </tr>\n",
              "    <tr>\n",
              "      <th>E</th>\n",
              "      <td>0.800000</td>\n",
              "      <td>0.200000</td>\n",
              "      <td>1.386294</td>\n",
              "    </tr>\n",
              "    <tr>\n",
              "      <th>F</th>\n",
              "      <td>0.692308</td>\n",
              "      <td>0.307692</td>\n",
              "      <td>0.810930</td>\n",
              "    </tr>\n",
              "    <tr>\n",
              "      <th>G</th>\n",
              "      <td>0.600000</td>\n",
              "      <td>0.400000</td>\n",
              "      <td>0.405465</td>\n",
              "    </tr>\n",
              "    <tr>\n",
              "      <th>n</th>\n",
              "      <td>0.296765</td>\n",
              "      <td>0.703235</td>\n",
              "      <td>-0.862750</td>\n",
              "    </tr>\n",
              "  </tbody>\n",
              "</table>\n",
              "</div>"
            ],
            "text/plain": [
              "       survived      dead       WOE\n",
              "cabin                              \n",
              "A      0.526316  0.473684  0.105361\n",
              "B      0.714286  0.285714  0.916291\n",
              "C      0.682540  0.317460  0.765468\n",
              "D      0.722222  0.277778  0.955511\n",
              "E      0.800000  0.200000  1.386294\n",
              "F      0.692308  0.307692  0.810930\n",
              "G      0.600000  0.400000  0.405465\n",
              "n      0.296765  0.703235 -0.862750"
            ]
          },
          "metadata": {
            "tags": []
          },
          "execution_count": 48
        }
      ]
    },
    {
      "cell_type": "markdown",
      "metadata": {
        "id": "tWV_EISLBo6E"
      },
      "source": [
        "Creating dictionary with key and values as before and using ```.map``` function to map the values into the dataframe."
      ]
    },
    {
      "cell_type": "code",
      "metadata": {
        "id": "U3kbHdwZeySi",
        "outputId": "24b38bd9-b4f4-418c-850a-5ec6fe8c0673"
      },
      "source": [
        "# now, we need to replace the WOE value to the specific category.\n",
        "\n",
        "# create a dictionary then map the values as usual\n",
        "WOE_mapping = probability_df['WOE'].to_dict()\n",
        "WOE_mapping\n",
        "\n",
        "X_train['cabin'] = X_train['cabin'].map(WOE_mapping)\n",
        "X_test['cabin'] = X_test['cabin'].map(WOE_mapping)\n",
        "\n",
        "X_test.head(10)"
      ],
      "execution_count": null,
      "outputs": [
        {
          "output_type": "execute_result",
          "data": {
            "text/html": [
              "<div>\n",
              "<style scoped>\n",
              "    .dataframe tbody tr th:only-of-type {\n",
              "        vertical-align: middle;\n",
              "    }\n",
              "\n",
              "    .dataframe tbody tr th {\n",
              "        vertical-align: top;\n",
              "    }\n",
              "\n",
              "    .dataframe thead th {\n",
              "        text-align: right;\n",
              "    }\n",
              "</style>\n",
              "<table border=\"1\" class=\"dataframe\">\n",
              "  <thead>\n",
              "    <tr style=\"text-align: right;\">\n",
              "      <th></th>\n",
              "      <th>cabin</th>\n",
              "      <th>embarked</th>\n",
              "      <th>survived</th>\n",
              "    </tr>\n",
              "  </thead>\n",
              "  <tbody>\n",
              "    <tr>\n",
              "      <th>1176</th>\n",
              "      <td>-0.862750</td>\n",
              "      <td>S</td>\n",
              "      <td>0</td>\n",
              "    </tr>\n",
              "    <tr>\n",
              "      <th>517</th>\n",
              "      <td>0.810930</td>\n",
              "      <td>S</td>\n",
              "      <td>0</td>\n",
              "    </tr>\n",
              "    <tr>\n",
              "      <th>847</th>\n",
              "      <td>-0.862750</td>\n",
              "      <td>C</td>\n",
              "      <td>0</td>\n",
              "    </tr>\n",
              "    <tr>\n",
              "      <th>858</th>\n",
              "      <td>-0.862750</td>\n",
              "      <td>S</td>\n",
              "      <td>1</td>\n",
              "    </tr>\n",
              "    <tr>\n",
              "      <th>1304</th>\n",
              "      <td>-0.862750</td>\n",
              "      <td>C</td>\n",
              "      <td>0</td>\n",
              "    </tr>\n",
              "    <tr>\n",
              "      <th>867</th>\n",
              "      <td>-0.862750</td>\n",
              "      <td>S</td>\n",
              "      <td>1</td>\n",
              "    </tr>\n",
              "    <tr>\n",
              "      <th>242</th>\n",
              "      <td>0.105361</td>\n",
              "      <td>C</td>\n",
              "      <td>1</td>\n",
              "    </tr>\n",
              "    <tr>\n",
              "      <th>1180</th>\n",
              "      <td>-0.862750</td>\n",
              "      <td>S</td>\n",
              "      <td>0</td>\n",
              "    </tr>\n",
              "    <tr>\n",
              "      <th>52</th>\n",
              "      <td>-0.862750</td>\n",
              "      <td>S</td>\n",
              "      <td>0</td>\n",
              "    </tr>\n",
              "    <tr>\n",
              "      <th>1061</th>\n",
              "      <td>-0.862750</td>\n",
              "      <td>S</td>\n",
              "      <td>1</td>\n",
              "    </tr>\n",
              "  </tbody>\n",
              "</table>\n",
              "</div>"
            ],
            "text/plain": [
              "         cabin embarked  survived\n",
              "1176 -0.862750        S         0\n",
              "517   0.810930        S         0\n",
              "847  -0.862750        C         0\n",
              "858  -0.862750        S         1\n",
              "1304 -0.862750        C         0\n",
              "867  -0.862750        S         1\n",
              "242   0.105361        C         1\n",
              "1180 -0.862750        S         0\n",
              "52   -0.862750        S         0\n",
              "1061 -0.862750        S         1"
            ]
          },
          "metadata": {
            "tags": []
          },
          "execution_count": 49
        }
      ]
    },
    {
      "cell_type": "code",
      "metadata": {
        "id": "E4ZLJ0dCeySm"
      },
      "source": [
        "# convert all these steps into function as before\n",
        "# Dividing the dataset into train and test\n",
        "\n",
        "X_train, X_test, y_train, y_test = train_test_split(\n",
        "    data[['cabin','embarked','survived']], #keep the target\n",
        "    data['survived'],\n",
        "    test_size=0.3,\n",
        "    random_state=42)"
      ],
      "execution_count": null,
      "outputs": []
    },
    {
      "cell_type": "markdown",
      "metadata": {
        "id": "bvNHI-E0BzdL"
      },
      "source": [
        "Let's define a function to automate WoE computation and mapping."
      ]
    },
    {
      "cell_type": "code",
      "metadata": {
        "id": "fpRrwR3AeySp",
        "outputId": "505c8c58-50b5-4dea-9d95-a3fae8fa6cba"
      },
      "source": [
        "def WOE_mapping(df, variable, target):\n",
        "\n",
        "    prob = pd.DataFrame(df.groupby([variable])[target].mean())\n",
        "    prob['Not_target'] = 1 - prob[target]\n",
        "    prob['ratio'] = np.log( prob[target] / prob['Not_target'])\n",
        "    return prob['ratio'].to_dict()\n",
        "\n",
        "for variable in ['cabin','embarked']:\n",
        "    WOE = WOE_mapping(X_train, variable, 'survived')\n",
        "    encoding(X_train, variable, WOE)\n",
        "    encoding(X_test, variable, WOE)\n",
        "\n",
        "X_train.head()"
      ],
      "execution_count": null,
      "outputs": [
        {
          "output_type": "execute_result",
          "data": {
            "text/html": [
              "<div>\n",
              "<style scoped>\n",
              "    .dataframe tbody tr th:only-of-type {\n",
              "        vertical-align: middle;\n",
              "    }\n",
              "\n",
              "    .dataframe tbody tr th {\n",
              "        vertical-align: top;\n",
              "    }\n",
              "\n",
              "    .dataframe thead th {\n",
              "        text-align: right;\n",
              "    }\n",
              "</style>\n",
              "<table border=\"1\" class=\"dataframe\">\n",
              "  <thead>\n",
              "    <tr style=\"text-align: right;\">\n",
              "      <th></th>\n",
              "      <th>cabin</th>\n",
              "      <th>embarked</th>\n",
              "      <th>survived</th>\n",
              "    </tr>\n",
              "  </thead>\n",
              "  <tbody>\n",
              "    <tr>\n",
              "      <th>675</th>\n",
              "      <td>-0.86275</td>\n",
              "      <td>-0.676811</td>\n",
              "      <td>0</td>\n",
              "    </tr>\n",
              "    <tr>\n",
              "      <th>557</th>\n",
              "      <td>-0.86275</td>\n",
              "      <td>-0.676811</td>\n",
              "      <td>1</td>\n",
              "    </tr>\n",
              "    <tr>\n",
              "      <th>730</th>\n",
              "      <td>-0.86275</td>\n",
              "      <td>-0.676811</td>\n",
              "      <td>0</td>\n",
              "    </tr>\n",
              "    <tr>\n",
              "      <th>937</th>\n",
              "      <td>-0.86275</td>\n",
              "      <td>-0.676811</td>\n",
              "      <td>0</td>\n",
              "    </tr>\n",
              "    <tr>\n",
              "      <th>892</th>\n",
              "      <td>-0.86275</td>\n",
              "      <td>-0.676811</td>\n",
              "      <td>0</td>\n",
              "    </tr>\n",
              "  </tbody>\n",
              "</table>\n",
              "</div>"
            ],
            "text/plain": [
              "       cabin  embarked  survived\n",
              "675 -0.86275 -0.676811         0\n",
              "557 -0.86275 -0.676811         1\n",
              "730 -0.86275 -0.676811         0\n",
              "937 -0.86275 -0.676811         0\n",
              "892 -0.86275 -0.676811         0"
            ]
          },
          "metadata": {
            "tags": []
          },
          "execution_count": 51
        }
      ]
    },
    {
      "cell_type": "code",
      "metadata": {
        "id": "mqSyuXF8eySr",
        "outputId": "dab7f637-c3d1-43ce-f9a7-e238dd5f79ef"
      },
      "source": [
        "#ploting relationship\n",
        "relationship_plot(['cabin','embarked'])"
      ],
      "execution_count": null,
      "outputs": [
        {
          "output_type": "display_data",
          "data": {
            "image/png": "[encoded data removed]",
            "text/plain": [
              "<Figure size 432x288 with 1 Axes>"
            ]
          },
          "metadata": {
            "tags": []
          }
        },
        {
          "output_type": "display_data",
          "data": {
            "image/png": "[encoded data removed]",
            "text/plain": [
              "<Figure size 432x288 with 1 Axes>"
            ]
          },
          "metadata": {
            "tags": []
          }
        }
      ]
    },
    {
      "cell_type": "markdown",
      "metadata": {
        "id": "-7JgbjQRB7F_"
      },
      "source": [
        "Feature enginer uses ```WoERatioCategoricalEncoder``` for transform variables using WoE."
      ]
    },
    {
      "cell_type": "code",
      "metadata": {
        "id": "_8jdE4q1eySu",
        "outputId": "fbad3c1e-73ef-4378-cccf-58557e9d7ae8"
      },
      "source": [
        "# Using feature engine\n",
        "from feature_engine.categorical_encoders import WoERatioCategoricalEncoder\n",
        "\n",
        "WOE_encoder = WoERatioCategoricalEncoder(encoding_method='woe',\n",
        "                                        variables=['cabin','embarked'])\n",
        "\n",
        "# Dividing the dataset into train and test\n",
        "\n",
        "X_train, X_test, y_train, y_test = train_test_split(\n",
        "    data[['cabin','embarked','survived']], #keep the target\n",
        "    data['survived'],\n",
        "    test_size=0.3,\n",
        "    random_state=42)\n",
        "\n",
        "WOE_encoder.fit(X_train, y_train)\n",
        "WOE_encoder.transform(X_test)"
      ],
      "execution_count": null,
      "outputs": [
        {
          "output_type": "execute_result",
          "data": {
            "text/html": [
              "<div>\n",
              "<style scoped>\n",
              "    .dataframe tbody tr th:only-of-type {\n",
              "        vertical-align: middle;\n",
              "    }\n",
              "\n",
              "    .dataframe tbody tr th {\n",
              "        vertical-align: top;\n",
              "    }\n",
              "\n",
              "    .dataframe thead th {\n",
              "        text-align: right;\n",
              "    }\n",
              "</style>\n",
              "<table border=\"1\" class=\"dataframe\">\n",
              "  <thead>\n",
              "    <tr style=\"text-align: right;\">\n",
              "      <th></th>\n",
              "      <th>cabin</th>\n",
              "      <th>embarked</th>\n",
              "      <th>survived</th>\n",
              "    </tr>\n",
              "  </thead>\n",
              "  <tbody>\n",
              "    <tr>\n",
              "      <th>1176</th>\n",
              "      <td>-0.862750</td>\n",
              "      <td>-0.676811</td>\n",
              "      <td>0</td>\n",
              "    </tr>\n",
              "    <tr>\n",
              "      <th>517</th>\n",
              "      <td>0.810930</td>\n",
              "      <td>-0.676811</td>\n",
              "      <td>0</td>\n",
              "    </tr>\n",
              "    <tr>\n",
              "      <th>847</th>\n",
              "      <td>-0.862750</td>\n",
              "      <td>0.290802</td>\n",
              "      <td>0</td>\n",
              "    </tr>\n",
              "    <tr>\n",
              "      <th>858</th>\n",
              "      <td>-0.862750</td>\n",
              "      <td>-0.676811</td>\n",
              "      <td>1</td>\n",
              "    </tr>\n",
              "    <tr>\n",
              "      <th>1304</th>\n",
              "      <td>-0.862750</td>\n",
              "      <td>0.290802</td>\n",
              "      <td>0</td>\n",
              "    </tr>\n",
              "    <tr>\n",
              "      <th>...</th>\n",
              "      <td>...</td>\n",
              "      <td>...</td>\n",
              "      <td>...</td>\n",
              "    </tr>\n",
              "    <tr>\n",
              "      <th>639</th>\n",
              "      <td>-0.862750</td>\n",
              "      <td>-0.676811</td>\n",
              "      <td>0</td>\n",
              "    </tr>\n",
              "    <tr>\n",
              "      <th>465</th>\n",
              "      <td>0.955511</td>\n",
              "      <td>0.290802</td>\n",
              "      <td>1</td>\n",
              "    </tr>\n",
              "    <tr>\n",
              "      <th>679</th>\n",
              "      <td>-0.862750</td>\n",
              "      <td>0.290802</td>\n",
              "      <td>0</td>\n",
              "    </tr>\n",
              "    <tr>\n",
              "      <th>1039</th>\n",
              "      <td>-0.862750</td>\n",
              "      <td>-0.675755</td>\n",
              "      <td>1</td>\n",
              "    </tr>\n",
              "    <tr>\n",
              "      <th>1214</th>\n",
              "      <td>-0.862750</td>\n",
              "      <td>-0.676811</td>\n",
              "      <td>0</td>\n",
              "    </tr>\n",
              "  </tbody>\n",
              "</table>\n",
              "<p>392 rows × 3 columns</p>\n",
              "</div>"
            ],
            "text/plain": [
              "         cabin  embarked  survived\n",
              "1176 -0.862750 -0.676811         0\n",
              "517   0.810930 -0.676811         0\n",
              "847  -0.862750  0.290802         0\n",
              "858  -0.862750 -0.676811         1\n",
              "1304 -0.862750  0.290802         0\n",
              "...        ...       ...       ...\n",
              "639  -0.862750 -0.676811         0\n",
              "465   0.955511  0.290802         1\n",
              "679  -0.862750  0.290802         0\n",
              "1039 -0.862750 -0.675755         1\n",
              "1214 -0.862750 -0.676811         0\n",
              "\n",
              "[392 rows x 3 columns]"
            ]
          },
          "metadata": {
            "tags": []
          },
          "execution_count": 53
        }
      ]
    },
    {
      "cell_type": "markdown",
      "metadata": {
        "id": "gJSVNdX4eySw"
      },
      "source": [
        "### Rare Label Encoding\n",
        "\n",
        "This is an exceptional encoding that doesn't transform categorical to numerical variable. Rare label encoding represents the unique labels of the variables into a single category known as \"Rare\". Rare labels are category values, which have below or equal to 5% occurrence in observations. You have already learned how rare labels cause problems in the training procedure in the previous chapter.\n",
        "\n",
        "#### Advantages\n",
        "- Converting rare labels into a single category removes the effect of overfitting/computation problems.\n",
        "- The model will learn to handle categories that are not present in the training set as well.\n",
        "- Online training models, which can have new categories on the fly, can handle those categories using rare label encoding.\n",
        "\n",
        "#### Demo\n",
        "This demo consists of the use of pandas for rare label encoding. Lets load the dataset again, remove the ```NaN``` values and get the percentage of occurance."
      ]
    },
    {
      "cell_type": "code",
      "metadata": {
        "id": "-BwFdz5BeySx",
        "outputId": "195e13fa-bc71-47aa-f18c-3d0a884f9b04"
      },
      "source": [
        "data = load_data()\n",
        "\n",
        "variable = 'cabin'\n",
        "# large cardinality often results in rare labels\n",
        "data[variable] = data[variable].astype('str').str[0]\n",
        "data = data[data[variable].notna()]\n",
        "\n",
        "print(data.groupby(variable)[variable].count()/len(data)) #percentage of occurance"
      ],
      "execution_count": null,
      "outputs": [
        {
          "output_type": "stream",
          "text": [
            "cabin\n",
            "A    0.016807\n",
            "B    0.049656\n",
            "C    0.071811\n",
            "D    0.035141\n",
            "E    0.031322\n",
            "F    0.016043\n",
            "G    0.003820\n",
            "T    0.000764\n",
            "n    0.774637\n",
            "Name: cabin, dtype: float64\n"
          ],
          "name": "stdout"
        }
      ]
    },
    {
      "cell_type": "markdown",
      "metadata": {
        "id": "mydv6eIwClqg"
      },
      "source": [
        "Any label that occurs below or equal to 5% can be classified as rare label. Let's create a function to display the rare labels."
      ]
    },
    {
      "cell_type": "code",
      "metadata": {
        "id": "jiFWS-iVeyS1",
        "outputId": "57b4c1b9-7e05-4b33-e6b1-8d00b8d55ce2"
      },
      "source": [
        "def display_rare(df, variable):\n",
        "\n",
        "    value_df = pd.Series(df[variable].value_counts() / len(X_train) )\n",
        "\n",
        "    # make plot with the above percentages\n",
        "    fig = value_df.sort_values(ascending=False).plot.bar()\n",
        "    fig.set_xlabel(variable)\n",
        "    fig.set_ylabel('Percentage of cabins')\n",
        "    # add a line at 5 % to flag the threshold for rare categories\n",
        "    fig.axhline(y=0.05, color='red')\n",
        "    plt.show()\n",
        "\n",
        "display_rare(data, 'cabin')"
      ],
      "execution_count": null,
      "outputs": [
        {
          "output_type": "display_data",
          "data": {
            "image/png": "[encoded data removed]",
            "text/plain": [
              "<Figure size 432x288 with 1 Axes>"
            ]
          },
          "metadata": {
            "tags": []
          }
        }
      ]
    },
    {
      "cell_type": "markdown",
      "metadata": {
        "id": "j_rDK1kWeyS6"
      },
      "source": [
        "The labels below the red line is considered as rare labels. These labels will be reduced into a single category known as \"Rare\""
      ]
    },
    {
      "cell_type": "code",
      "metadata": {
        "id": "z_o0QKOLeyS7",
        "outputId": "c5ef237a-9746-4f03-8b4c-70de574b54e6"
      },
      "source": [
        "# Function used to find rare labels\n",
        "def find_rare_labels(df, variables, tolerance):\n",
        "    temp_df = df.groupby([variables])[variables].count()/len(df)\n",
        "    rare = [x for x in temp_df.loc[temp_df<tolerance].index.values]\n",
        "    return rare\n",
        "\n",
        "find_rare_labels(data, 'cabin', 0.05)"
      ],
      "execution_count": null,
      "outputs": [
        {
          "output_type": "execute_result",
          "data": {
            "text/plain": [
              "['A', 'B', 'D', 'E', 'F', 'G', 'T']"
            ]
          },
          "metadata": {
            "tags": []
          },
          "execution_count": 56
        }
      ]
    },
    {
      "cell_type": "markdown",
      "metadata": {
        "id": "uNNPwFsFC634"
      },
      "source": [
        "Defining a function to map rare labels in rare category."
      ]
    },
    {
      "cell_type": "code",
      "metadata": {
        "scrolled": true,
        "id": "079Up7bxeyS-"
      },
      "source": [
        "def rare_label_encoding(df, variables, tolerance):\n",
        "    rare_cat = find_rare_labels(df, variables, tolerance)\n",
        "\n",
        "    # re-group rare labels\n",
        "    df[variables] = np.where(df[variables].isin(\n",
        "        rare_cat), 'Rare', df[variables])\n",
        "\n",
        "    return df\n",
        "\n",
        "rare1 = rare_label_encoding(data, 'cabin', 0.05)"
      ],
      "execution_count": null,
      "outputs": []
    },
    {
      "cell_type": "code",
      "metadata": {
        "id": "heftZIoLeyTA",
        "outputId": "26e9eb61-2ee8-4007-cdd8-2fac998cc705"
      },
      "source": [
        "display_rare(rare1, 'cabin')"
      ],
      "execution_count": null,
      "outputs": [
        {
          "output_type": "display_data",
          "data": {
            "image/png": "[encoded data removed]",
            "text/plain": [
              "<Figure size 432x288 with 1 Axes>"
            ]
          },
          "metadata": {
            "tags": []
          }
        }
      ]
    },
    {
      "cell_type": "markdown",
      "metadata": {
        "id": "jb_VzU6yeyTC"
      },
      "source": [
        "### Binary Encoding and Feature Hashing\n",
        "\n",
        "__Binary Encoding__, as the name suggests, encodes the categorical values into binary code(collection of 0's and 1's). It is similar to converting Base_X numbers to binary values. For _N_ unique category of the categorical variable, it would require $\\log_2(N)$ new binary variables. The representation of each individual variable for us humans is meaningless. A combination of the new binary variables is essential to decode/describe the original categorical variable.\n",
        "\n",
        "__Feature Hashing__ uses any hashing function of choice that converts categorical variables into an array of fixed size numbers. Hashing is the process of converting input of any length into an array of fixed length numbers using a certain mathematical functions, aka hashing function. However, the hashing function mostly produce a unique output for different length inputs. The output of the hashing function is then encoded using binary variables. A similar problem of binary encoding is present here as well. Each individual new variable has no proper representation to us humans. A combination of the variables are required to identify the categorical variable.\n",
        "\n",
        "Below examples are helping for understanding them both better:\n",
        "\n",
        "<table style=\"border-collapse:collapse;border-spacing:0\" class=\"tg\"><tr><th style=\"font-family:Arial, sans-serif;font-size:14px;font-weight:normal;padding:10px 10px;border-style:solid;border-width:1px;overflow:hidden;word-break:normal;border-color:inherit;text-align:center;vertical-align:middle\">Sphere counts</th><th style=\"font-family:Arial, sans-serif;font-size:14px;font-weight:normal;padding:10px 10px;border-style:solid;border-width:1px;overflow:hidden;word-break:normal;border-color:inherit;text-align:center;vertical-align:top\" rowspan=\"5\">Binary Encoding ------&gt;</th><th style=\"font-family:Arial, sans-serif;font-size:14px;font-weight:normal;padding:10px 10px;border-style:solid;border-width:1px;overflow:hidden;word-break:normal;border-color:inherit;text-align:center;vertical-align:middle\">Var1</th><th style=\"font-family:Arial, sans-serif;font-size:14px;font-weight:normal;padding:10px 10px;border-style:solid;border-width:1px;overflow:hidden;word-break:normal;border-color:black;text-align:center;vertical-align:top\">Var2</th></tr><tr><td style=\"font-family:Arial, sans-serif;font-size:14px;padding:10px 10px;border-style:solid;border-width:1px;overflow:hidden;word-break:normal;border-color:inherit;text-align:center;vertical-align:top\">1</td><td style=\"font-family:Arial, sans-serif;font-size:14px;padding:10px 10px;border-style:solid;border-width:1px;overflow:hidden;word-break:normal;border-color:inherit;text-align:center;vertical-align:top\">0</td><td style=\"font-family:Arial, sans-serif;font-size:14px;padding:10px 10px;border-style:solid;border-width:1px;overflow:hidden;word-break:normal;border-color:black;text-align:center;vertical-align:top\">0</td></tr><tr><td style=\"font-family:Arial, sans-serif;font-size:14px;padding:10px 10px;border-style:solid;border-width:1px;overflow:hidden;word-break:normal;border-color:inherit;text-align:center;vertical-align:top\">2</td><td style=\"font-family:Arial, sans-serif;font-size:14px;padding:10px 10px;border-style:solid;border-width:1px;overflow:hidden;word-break:normal;border-color:inherit;text-align:center;vertical-align:top\">0</td><td style=\"font-family:Arial, sans-serif;font-size:14px;padding:10px 10px;border-style:solid;border-width:1px;overflow:hidden;word-break:normal;border-color:black;text-align:center;vertical-align:top\">1</td></tr><tr><td style=\"font-family:Arial, sans-serif;font-size:14px;padding:10px 10px;border-style:solid;border-width:1px;overflow:hidden;word-break:normal;border-color:inherit;text-align:center;vertical-align:middle\">0</td><td style=\"font-family:Arial, sans-serif;font-size:14px;padding:10px 10px;border-style:solid;border-width:1px;overflow:hidden;word-break:normal;border-color:inherit;text-align:center;vertical-align:middle\">1</td><td style=\"font-family:Arial, sans-serif;font-size:14px;padding:10px 10px;border-style:solid;border-width:1px;overflow:hidden;word-break:normal;border-color:black;text-align:center;vertical-align:top\">0</td></tr><tr><td style=\"font-family:Arial, sans-serif;font-size:14px;padding:10px 10px;border-style:solid;border-width:1px;overflow:hidden;word-break:normal;border-color:black;text-align:center;vertical-align:top\">3</td><td style=\"font-family:Arial, sans-serif;font-size:14px;padding:10px 10px;border-style:solid;border-width:1px;overflow:hidden;word-break:normal;border-color:black;text-align:center;vertical-align:top\">1</td><td style=\"font-family:Arial, sans-serif;font-size:14px;padding:10px 10px;border-style:solid;border-width:1px;overflow:hidden;word-break:normal;border-color:black;text-align:center;vertical-align:top\">1</td></tr></table>\n",
        "<center>Table 6: Binary Encoding example</center>\n",
        "\n",
        "\n",
        "Since there are four unique categories, it requires two binary variables to represent them using binary code. The binary code doesn't need to be sequentially assigned, but each category must be assigned to a unique binary code represented by the two variables.\n",
        "\n",
        "\n",
        "<table style=\"border-collapse:collapse;border-spacing:0\" class=\"tg\"><tr><th style=\"font-family:Arial, sans-serif;font-size:14px;font-weight:normal;padding:10px 10px;border-style:solid;border-width:1px;overflow:hidden;word-break:normal;border-color:inherit;text-align:center;vertical-align:middle\">Color</th><th style=\"font-family:Arial, sans-serif;font-size:14px;font-weight:normal;padding:10px 10px;border-style:solid;border-width:1px;overflow:hidden;word-break:normal;border-color:inherit;text-align:center;vertical-align:top\" rowspan=\"5\">Hashing Function ------&gt;</th><th style=\"font-family:Arial, sans-serif;font-size:14px;font-weight:normal;padding:10px 10px;border-style:solid;border-width:1px;overflow:hidden;word-break:normal;border-color:black;text-align:center;vertical-align:top\">Hash value</th><th style=\"font-family:Arial, sans-serif;font-size:14px;font-weight:normal;padding:10px 10px;border-style:solid;border-width:1px;overflow:hidden;word-break:normal;border-color:black;text-align:left;vertical-align:top\" rowspan=\"5\">Feature Hashing -----&gt;</th><th style=\"font-family:Arial, sans-serif;font-size:14px;font-weight:normal;padding:10px 10px;border-style:solid;border-width:1px;overflow:hidden;word-break:normal;border-color:inherit;text-align:center;vertical-align:middle\">Var1</th><th style=\"font-family:Arial, sans-serif;font-size:14px;font-weight:normal;padding:10px 10px;border-style:solid;border-width:1px;overflow:hidden;word-break:normal;border-color:black;text-align:center;vertical-align:top\">Var2</th><th style=\"font-family:Arial, sans-serif;font-size:14px;font-weight:normal;padding:10px 10px;border-style:solid;border-width:1px;overflow:hidden;word-break:normal;border-color:black;text-align:center;vertical-align:top\">Var3</th></tr><tr><td style=\"font-family:Arial, sans-serif;font-size:14px;padding:10px 10px;border-style:solid;border-width:1px;overflow:hidden;word-break:normal;border-color:inherit;text-align:center;vertical-align:top\">Red</td><td style=\"font-family:Arial, sans-serif;font-size:14px;padding:10px 10px;border-style:solid;border-width:1px;overflow:hidden;word-break:normal;border-color:black;text-align:center;vertical-align:top\">2</td><td style=\"font-family:Arial, sans-serif;font-size:14px;padding:10px 10px;border-style:solid;border-width:1px;overflow:hidden;word-break:normal;border-color:inherit;text-align:center;vertical-align:top\">0</td><td style=\"font-family:Arial, sans-serif;font-size:14px;padding:10px 10px;border-style:solid;border-width:1px;overflow:hidden;word-break:normal;border-color:black;text-align:center;vertical-align:top\">0</td><td style=\"font-family:Arial, sans-serif;font-size:14px;padding:10px 10px;border-style:solid;border-width:1px;overflow:hidden;word-break:normal;border-color:black;text-align:center;vertical-align:top\">1</td></tr><tr><td style=\"font-family:Arial, sans-serif;font-size:14px;padding:10px 10px;border-style:solid;border-width:1px;overflow:hidden;word-break:normal;border-color:inherit;text-align:center;vertical-align:top\">Green</td><td style=\"font-family:Arial, sans-serif;font-size:14px;padding:10px 10px;border-style:solid;border-width:1px;overflow:hidden;word-break:normal;border-color:black;text-align:center;vertical-align:top\">1</td><td style=\"font-family:Arial, sans-serif;font-size:14px;padding:10px 10px;border-style:solid;border-width:1px;overflow:hidden;word-break:normal;border-color:inherit;text-align:center;vertical-align:top\">0</td><td style=\"font-family:Arial, sans-serif;font-size:14px;padding:10px 10px;border-style:solid;border-width:1px;overflow:hidden;word-break:normal;border-color:black;text-align:center;vertical-align:top\">1</td><td style=\"font-family:Arial, sans-serif;font-size:14px;padding:10px 10px;border-style:solid;border-width:1px;overflow:hidden;word-break:normal;border-color:black;text-align:center;vertical-align:top\">0</td></tr><tr><td style=\"font-family:Arial, sans-serif;font-size:14px;padding:10px 10px;border-style:solid;border-width:1px;overflow:hidden;word-break:normal;border-color:inherit;text-align:center;vertical-align:middle\">Blue</td><td style=\"font-family:Arial, sans-serif;font-size:14px;padding:10px 10px;border-style:solid;border-width:1px;overflow:hidden;word-break:normal;border-color:black;text-align:center;vertical-align:top\">0</td><td style=\"font-family:Arial, sans-serif;font-size:14px;padding:10px 10px;border-style:solid;border-width:1px;overflow:hidden;word-break:normal;border-color:inherit;text-align:center;vertical-align:middle\">1</td><td style=\"font-family:Arial, sans-serif;font-size:14px;padding:10px 10px;border-style:solid;border-width:1px;overflow:hidden;word-break:normal;border-color:black;text-align:center;vertical-align:top\">0</td><td style=\"font-family:Arial, sans-serif;font-size:14px;padding:10px 10px;border-style:solid;border-width:1px;overflow:hidden;word-break:normal;border-color:black;text-align:center;vertical-align:top\">0</td></tr><tr><td style=\"font-family:Arial, sans-serif;font-size:14px;padding:10px 10px;border-style:solid;border-width:1px;overflow:hidden;word-break:normal;border-color:black;text-align:center;vertical-align:top\">Orange</td><td style=\"font-family:Arial, sans-serif;font-size:14px;padding:10px 10px;border-style:solid;border-width:1px;overflow:hidden;word-break:normal;border-color:black;text-align:center;vertical-align:top\">2</td><td style=\"font-family:Arial, sans-serif;font-size:14px;padding:10px 10px;border-style:solid;border-width:1px;overflow:hidden;word-break:normal;border-color:black;text-align:center;vertical-align:top\">0</td><td style=\"font-family:Arial, sans-serif;font-size:14px;padding:10px 10px;border-style:solid;border-width:1px;overflow:hidden;word-break:normal;border-color:black;text-align:center;vertical-align:top\">0</td><td style=\"font-family:Arial, sans-serif;font-size:14px;padding:10px 10px;border-style:solid;border-width:1px;overflow:hidden;word-break:normal;border-color:black;text-align:center;vertical-align:top\">1</td></tr></table>\n",
        "<center>Table 7: Feature Hashing Example</center>\n",
        "\n",
        "Note, actual hashing function isn't used to produce the hash in the above table. The hash values are arbitrarily selected for the sake of example. The hashing function converts the feature \"color\" into hash value. The number of variables to encode the hash value is selected at random(Here, 3 variables). The hash value signifies which variable needs to have value 1.\n",
        "\n",
        "#### Advantages\n",
        "- Doesn't expand the feature space drastically in comparision to one-hot encoding.\n",
        "\n",
        "#### Limitations\n",
        "- Harder to implement than other previously discussed transformations.\n",
        "- Inability in understanding the value of individual new variable.\n",
        "- In feature hashing, Hash values may collide resulting in same encoded values. This results in loss of information of original categories.\n",
        "\n",
        "#### Demo\n",
        "The package used to demo both of these encodings is ```category_encoders```. Category encoder package has same methodology as Scikit-learn. Using Titanic dataset yet again."
      ]
    },
    {
      "cell_type": "markdown",
      "metadata": {
        "id": "Q6QTXkmaDoKV"
      },
      "source": [
        "Let's do the binary encoding using ```BinaryEncoder``` transformer from category_encoder package. ```cols``` parameter takes the title of column from the dataframe that is to be transformed.\n",
        "\n",
        "The Dataset is preprocessed as in the above techniques."
      ]
    },
    {
      "cell_type": "code",
      "metadata": {
        "id": "6P9JBQ4KeyTC"
      },
      "source": [
        "#### Binary Encoder"
      ],
      "execution_count": null,
      "outputs": []
    },
    {
      "cell_type": "code",
      "metadata": {
        "id": "mRs-LcXseyTE",
        "outputId": "547bdb1b-63a1-4d98-95cc-9dacbf0bbe6a"
      },
      "source": [
        "# load the dataset\n",
        "data = load_data()\n",
        "data = data[['cabin', 'embarked', 'survived']]\n",
        "\n",
        "# Keeping only the string of cabin feature for simplicity and removing NaN values\n",
        "data = data[data['cabin'].notna()]\n",
        "\n",
        "data['cabin'] = data['cabin'].astype('str').str[0]\n",
        "\n",
        "data['cabin'].unique()"
      ],
      "execution_count": null,
      "outputs": [
        {
          "output_type": "execute_result",
          "data": {
            "text/plain": [
              "array(['B', 'C', 'E', 'D', 'A', 'T', 'F', 'G'], dtype=object)"
            ]
          },
          "metadata": {
            "tags": []
          },
          "execution_count": 60
        }
      ]
    },
    {
      "cell_type": "code",
      "metadata": {
        "id": "-jaDlSKmeyTH"
      },
      "source": [
        "#Trian_test_split for the dataset.\n",
        "\n",
        "X_train, X_test, y_train, y_test = train_test_split(\n",
        "    data[['cabin', 'embarked']],\n",
        "    data['survived'],\n",
        "    test_size=0.3,\n",
        "    random_state=42)"
      ],
      "execution_count": null,
      "outputs": []
    },
    {
      "cell_type": "code",
      "metadata": {
        "id": "GWcvL5pReyTJ",
        "outputId": "3717db69-8368-40ad-db92-dd19fbb4d952"
      },
      "source": [
        "\n",
        "# The binary encoder results in log_2(N)+1 new binary features\n",
        "from category_encoders.binary import BinaryEncoder\n",
        "binary_enc = BinaryEncoder(cols=['cabin'])\n",
        "\n",
        "X_train.head(10)"
      ],
      "execution_count": null,
      "outputs": [
        {
          "output_type": "execute_result",
          "data": {
            "text/html": [
              "<div>\n",
              "<style scoped>\n",
              "    .dataframe tbody tr th:only-of-type {\n",
              "        vertical-align: middle;\n",
              "    }\n",
              "\n",
              "    .dataframe tbody tr th {\n",
              "        vertical-align: top;\n",
              "    }\n",
              "\n",
              "    .dataframe thead th {\n",
              "        text-align: right;\n",
              "    }\n",
              "</style>\n",
              "<table border=\"1\" class=\"dataframe\">\n",
              "  <thead>\n",
              "    <tr style=\"text-align: right;\">\n",
              "      <th></th>\n",
              "      <th>cabin</th>\n",
              "      <th>embarked</th>\n",
              "    </tr>\n",
              "  </thead>\n",
              "  <tbody>\n",
              "    <tr>\n",
              "      <th>86</th>\n",
              "      <td>E</td>\n",
              "      <td>S</td>\n",
              "    </tr>\n",
              "    <tr>\n",
              "      <th>1131</th>\n",
              "      <td>E</td>\n",
              "      <td>S</td>\n",
              "    </tr>\n",
              "    <tr>\n",
              "      <th>202</th>\n",
              "      <td>E</td>\n",
              "      <td>S</td>\n",
              "    </tr>\n",
              "    <tr>\n",
              "      <th>152</th>\n",
              "      <td>D</td>\n",
              "      <td>S</td>\n",
              "    </tr>\n",
              "    <tr>\n",
              "      <th>277</th>\n",
              "      <td>B</td>\n",
              "      <td>C</td>\n",
              "    </tr>\n",
              "    <tr>\n",
              "      <th>213</th>\n",
              "      <td>D</td>\n",
              "      <td>C</td>\n",
              "    </tr>\n",
              "    <tr>\n",
              "      <th>21</th>\n",
              "      <td>D</td>\n",
              "      <td>S</td>\n",
              "    </tr>\n",
              "    <tr>\n",
              "      <th>212</th>\n",
              "      <td>C</td>\n",
              "      <td>C</td>\n",
              "    </tr>\n",
              "    <tr>\n",
              "      <th>117</th>\n",
              "      <td>E</td>\n",
              "      <td>C</td>\n",
              "    </tr>\n",
              "    <tr>\n",
              "      <th>177</th>\n",
              "      <td>D</td>\n",
              "      <td>S</td>\n",
              "    </tr>\n",
              "  </tbody>\n",
              "</table>\n",
              "</div>"
            ],
            "text/plain": [
              "     cabin embarked\n",
              "86       E        S\n",
              "1131     E        S\n",
              "202      E        S\n",
              "152      D        S\n",
              "277      B        C\n",
              "213      D        C\n",
              "21       D        S\n",
              "212      C        C\n",
              "117      E        C\n",
              "177      D        S"
            ]
          },
          "metadata": {
            "tags": []
          },
          "execution_count": 62
        }
      ]
    },
    {
      "cell_type": "markdown",
      "metadata": {
        "id": "Jjn8SxBHETpY"
      },
      "source": [
        "Lets fit and transform the dataset."
      ]
    },
    {
      "cell_type": "code",
      "metadata": {
        "id": "DOuUpGsbeyTN",
        "outputId": "942294cd-2741-4a97-8350-71175541c68c"
      },
      "source": [
        "# Transforming training set by binary encoder\n",
        "X_train_encoded = binary_enc.fit_transform(X_train, y_train)\n",
        "X_train_encoded.head(10)"
      ],
      "execution_count": null,
      "outputs": [
        {
          "output_type": "execute_result",
          "data": {
            "text/html": [
              "<div>\n",
              "<style scoped>\n",
              "    .dataframe tbody tr th:only-of-type {\n",
              "        vertical-align: middle;\n",
              "    }\n",
              "\n",
              "    .dataframe tbody tr th {\n",
              "        vertical-align: top;\n",
              "    }\n",
              "\n",
              "    .dataframe thead th {\n",
              "        text-align: right;\n",
              "    }\n",
              "</style>\n",
              "<table border=\"1\" class=\"dataframe\">\n",
              "  <thead>\n",
              "    <tr style=\"text-align: right;\">\n",
              "      <th></th>\n",
              "      <th>cabin_0</th>\n",
              "      <th>cabin_1</th>\n",
              "      <th>cabin_2</th>\n",
              "      <th>cabin_3</th>\n",
              "      <th>embarked</th>\n",
              "    </tr>\n",
              "  </thead>\n",
              "  <tbody>\n",
              "    <tr>\n",
              "      <th>86</th>\n",
              "      <td>0</td>\n",
              "      <td>0</td>\n",
              "      <td>0</td>\n",
              "      <td>1</td>\n",
              "      <td>S</td>\n",
              "    </tr>\n",
              "    <tr>\n",
              "      <th>1131</th>\n",
              "      <td>0</td>\n",
              "      <td>0</td>\n",
              "      <td>0</td>\n",
              "      <td>1</td>\n",
              "      <td>S</td>\n",
              "    </tr>\n",
              "    <tr>\n",
              "      <th>202</th>\n",
              "      <td>0</td>\n",
              "      <td>0</td>\n",
              "      <td>0</td>\n",
              "      <td>1</td>\n",
              "      <td>S</td>\n",
              "    </tr>\n",
              "    <tr>\n",
              "      <th>152</th>\n",
              "      <td>0</td>\n",
              "      <td>0</td>\n",
              "      <td>1</td>\n",
              "      <td>0</td>\n",
              "      <td>S</td>\n",
              "    </tr>\n",
              "    <tr>\n",
              "      <th>277</th>\n",
              "      <td>0</td>\n",
              "      <td>0</td>\n",
              "      <td>1</td>\n",
              "      <td>1</td>\n",
              "      <td>C</td>\n",
              "    </tr>\n",
              "    <tr>\n",
              "      <th>213</th>\n",
              "      <td>0</td>\n",
              "      <td>0</td>\n",
              "      <td>1</td>\n",
              "      <td>0</td>\n",
              "      <td>C</td>\n",
              "    </tr>\n",
              "    <tr>\n",
              "      <th>21</th>\n",
              "      <td>0</td>\n",
              "      <td>0</td>\n",
              "      <td>1</td>\n",
              "      <td>0</td>\n",
              "      <td>S</td>\n",
              "    </tr>\n",
              "    <tr>\n",
              "      <th>212</th>\n",
              "      <td>0</td>\n",
              "      <td>1</td>\n",
              "      <td>0</td>\n",
              "      <td>0</td>\n",
              "      <td>C</td>\n",
              "    </tr>\n",
              "    <tr>\n",
              "      <th>117</th>\n",
              "      <td>0</td>\n",
              "      <td>0</td>\n",
              "      <td>0</td>\n",
              "      <td>1</td>\n",
              "      <td>C</td>\n",
              "    </tr>\n",
              "    <tr>\n",
              "      <th>177</th>\n",
              "      <td>0</td>\n",
              "      <td>0</td>\n",
              "      <td>1</td>\n",
              "      <td>0</td>\n",
              "      <td>S</td>\n",
              "    </tr>\n",
              "  </tbody>\n",
              "</table>\n",
              "</div>"
            ],
            "text/plain": [
              "      cabin_0  cabin_1  cabin_2  cabin_3 embarked\n",
              "86          0        0        0        1        S\n",
              "1131        0        0        0        1        S\n",
              "202         0        0        0        1        S\n",
              "152         0        0        1        0        S\n",
              "277         0        0        1        1        C\n",
              "213         0        0        1        0        C\n",
              "21          0        0        1        0        S\n",
              "212         0        1        0        0        C\n",
              "117         0        0        0        1        C\n",
              "177         0        0        1        0        S"
            ]
          },
          "metadata": {
            "tags": []
          },
          "execution_count": 63
        }
      ]
    },
    {
      "cell_type": "markdown",
      "metadata": {
        "id": "RcNXCvYwEYP0"
      },
      "source": [
        "Using ```inverse_transform``` results in output of original unaltered data."
      ]
    },
    {
      "cell_type": "code",
      "metadata": {
        "id": "eAkTE9yHeyTP",
        "outputId": "b83c9d90-0946-4c1e-b597-d3fc34833edc"
      },
      "source": [
        "# Inverse transform using binary encoder's API\n",
        "X_train = binary_enc.inverse_transform(X_train_encoded)\n",
        "X_train.head(10)\n"
      ],
      "execution_count": null,
      "outputs": [
        {
          "output_type": "execute_result",
          "data": {
            "text/html": [
              "<div>\n",
              "<style scoped>\n",
              "    .dataframe tbody tr th:only-of-type {\n",
              "        vertical-align: middle;\n",
              "    }\n",
              "\n",
              "    .dataframe tbody tr th {\n",
              "        vertical-align: top;\n",
              "    }\n",
              "\n",
              "    .dataframe thead th {\n",
              "        text-align: right;\n",
              "    }\n",
              "</style>\n",
              "<table border=\"1\" class=\"dataframe\">\n",
              "  <thead>\n",
              "    <tr style=\"text-align: right;\">\n",
              "      <th></th>\n",
              "      <th>cabin</th>\n",
              "      <th>embarked</th>\n",
              "    </tr>\n",
              "  </thead>\n",
              "  <tbody>\n",
              "    <tr>\n",
              "      <th>86</th>\n",
              "      <td>E</td>\n",
              "      <td>S</td>\n",
              "    </tr>\n",
              "    <tr>\n",
              "      <th>1131</th>\n",
              "      <td>E</td>\n",
              "      <td>S</td>\n",
              "    </tr>\n",
              "    <tr>\n",
              "      <th>202</th>\n",
              "      <td>E</td>\n",
              "      <td>S</td>\n",
              "    </tr>\n",
              "    <tr>\n",
              "      <th>152</th>\n",
              "      <td>D</td>\n",
              "      <td>S</td>\n",
              "    </tr>\n",
              "    <tr>\n",
              "      <th>277</th>\n",
              "      <td>B</td>\n",
              "      <td>C</td>\n",
              "    </tr>\n",
              "    <tr>\n",
              "      <th>213</th>\n",
              "      <td>D</td>\n",
              "      <td>C</td>\n",
              "    </tr>\n",
              "    <tr>\n",
              "      <th>21</th>\n",
              "      <td>D</td>\n",
              "      <td>S</td>\n",
              "    </tr>\n",
              "    <tr>\n",
              "      <th>212</th>\n",
              "      <td>C</td>\n",
              "      <td>C</td>\n",
              "    </tr>\n",
              "    <tr>\n",
              "      <th>117</th>\n",
              "      <td>E</td>\n",
              "      <td>C</td>\n",
              "    </tr>\n",
              "    <tr>\n",
              "      <th>177</th>\n",
              "      <td>D</td>\n",
              "      <td>S</td>\n",
              "    </tr>\n",
              "  </tbody>\n",
              "</table>\n",
              "</div>"
            ],
            "text/plain": [
              "     cabin embarked\n",
              "86       E        S\n",
              "1131     E        S\n",
              "202      E        S\n",
              "152      D        S\n",
              "277      B        C\n",
              "213      D        C\n",
              "21       D        S\n",
              "212      C        C\n",
              "117      E        C\n",
              "177      D        S"
            ]
          },
          "metadata": {
            "tags": []
          },
          "execution_count": 64
        }
      ]
    },
    {
      "cell_type": "markdown",
      "metadata": {
        "id": "_2-Y8yzSEfc2"
      },
      "source": [
        "Similarly for feature hashing, using ```HashingEncoder``` function. The methodology is same as before."
      ]
    },
    {
      "cell_type": "code",
      "metadata": {
        "id": "NqNMQtngeyTS"
      },
      "source": [
        "#### Feature Hashing (Review Category encoders documentation for the\n",
        "# available hashing functions)"
      ],
      "execution_count": null,
      "outputs": []
    },
    {
      "cell_type": "code",
      "metadata": {
        "id": "zTkgcrwReyTT",
        "outputId": "794b9a04-bbaf-4f7b-c7c2-d42d761dfec3"
      },
      "source": [
        "from category_encoders.hashing import HashingEncoder\n",
        "hashing_enc = HashingEncoder(cols=['cabin']) #uses md5 encoding by default\n",
        "\n",
        "X_test.head(10)"
      ],
      "execution_count": null,
      "outputs": [
        {
          "output_type": "execute_result",
          "data": {
            "text/html": [
              "<div>\n",
              "<style scoped>\n",
              "    .dataframe tbody tr th:only-of-type {\n",
              "        vertical-align: middle;\n",
              "    }\n",
              "\n",
              "    .dataframe tbody tr th {\n",
              "        vertical-align: top;\n",
              "    }\n",
              "\n",
              "    .dataframe thead th {\n",
              "        text-align: right;\n",
              "    }\n",
              "</style>\n",
              "<table border=\"1\" class=\"dataframe\">\n",
              "  <thead>\n",
              "    <tr style=\"text-align: right;\">\n",
              "      <th></th>\n",
              "      <th>cabin</th>\n",
              "      <th>embarked</th>\n",
              "    </tr>\n",
              "  </thead>\n",
              "  <tbody>\n",
              "    <tr>\n",
              "      <th>517</th>\n",
              "      <td>F</td>\n",
              "      <td>S</td>\n",
              "    </tr>\n",
              "    <tr>\n",
              "      <th>192</th>\n",
              "      <td>B</td>\n",
              "      <td>C</td>\n",
              "    </tr>\n",
              "    <tr>\n",
              "      <th>103</th>\n",
              "      <td>C</td>\n",
              "      <td>C</td>\n",
              "    </tr>\n",
              "    <tr>\n",
              "      <th>101</th>\n",
              "      <td>A</td>\n",
              "      <td>C</td>\n",
              "    </tr>\n",
              "    <tr>\n",
              "      <th>343</th>\n",
              "      <td>D</td>\n",
              "      <td>S</td>\n",
              "    </tr>\n",
              "    <tr>\n",
              "      <th>10</th>\n",
              "      <td>C</td>\n",
              "      <td>C</td>\n",
              "    </tr>\n",
              "    <tr>\n",
              "      <th>54</th>\n",
              "      <td>B</td>\n",
              "      <td>S</td>\n",
              "    </tr>\n",
              "    <tr>\n",
              "      <th>584</th>\n",
              "      <td>E</td>\n",
              "      <td>S</td>\n",
              "    </tr>\n",
              "    <tr>\n",
              "      <th>941</th>\n",
              "      <td>F</td>\n",
              "      <td>C</td>\n",
              "    </tr>\n",
              "    <tr>\n",
              "      <th>113</th>\n",
              "      <td>C</td>\n",
              "      <td>S</td>\n",
              "    </tr>\n",
              "  </tbody>\n",
              "</table>\n",
              "</div>"
            ],
            "text/plain": [
              "    cabin embarked\n",
              "517     F        S\n",
              "192     B        C\n",
              "103     C        C\n",
              "101     A        C\n",
              "343     D        S\n",
              "10      C        C\n",
              "54      B        S\n",
              "584     E        S\n",
              "941     F        C\n",
              "113     C        S"
            ]
          },
          "metadata": {
            "tags": []
          },
          "execution_count": 66
        }
      ]
    },
    {
      "cell_type": "code",
      "metadata": {
        "id": "E_wxR1MzeyTV",
        "outputId": "79354560-258a-4b85-a66b-632d4a087ea2"
      },
      "source": [
        "hashing_enc.fit(X_train, y_train)\n",
        "X_test_encoded = hashing_enc.transform(X_test)\n",
        "\n",
        "X_test_encoded.head(10)"
      ],
      "execution_count": null,
      "outputs": [
        {
          "output_type": "execute_result",
          "data": {
            "text/html": [
              "<div>\n",
              "<style scoped>\n",
              "    .dataframe tbody tr th:only-of-type {\n",
              "        vertical-align: middle;\n",
              "    }\n",
              "\n",
              "    .dataframe tbody tr th {\n",
              "        vertical-align: top;\n",
              "    }\n",
              "\n",
              "    .dataframe thead th {\n",
              "        text-align: right;\n",
              "    }\n",
              "</style>\n",
              "<table border=\"1\" class=\"dataframe\">\n",
              "  <thead>\n",
              "    <tr style=\"text-align: right;\">\n",
              "      <th></th>\n",
              "      <th>col_0</th>\n",
              "      <th>col_1</th>\n",
              "      <th>col_2</th>\n",
              "      <th>col_3</th>\n",
              "      <th>col_4</th>\n",
              "      <th>col_5</th>\n",
              "      <th>col_6</th>\n",
              "      <th>col_7</th>\n",
              "      <th>embarked</th>\n",
              "    </tr>\n",
              "  </thead>\n",
              "  <tbody>\n",
              "    <tr>\n",
              "      <th>0</th>\n",
              "      <td>0</td>\n",
              "      <td>0</td>\n",
              "      <td>1</td>\n",
              "      <td>0</td>\n",
              "      <td>0</td>\n",
              "      <td>0</td>\n",
              "      <td>0</td>\n",
              "      <td>0</td>\n",
              "      <td>S</td>\n",
              "    </tr>\n",
              "    <tr>\n",
              "      <th>1</th>\n",
              "      <td>0</td>\n",
              "      <td>1</td>\n",
              "      <td>0</td>\n",
              "      <td>0</td>\n",
              "      <td>0</td>\n",
              "      <td>0</td>\n",
              "      <td>0</td>\n",
              "      <td>0</td>\n",
              "      <td>C</td>\n",
              "    </tr>\n",
              "    <tr>\n",
              "      <th>2</th>\n",
              "      <td>0</td>\n",
              "      <td>0</td>\n",
              "      <td>0</td>\n",
              "      <td>0</td>\n",
              "      <td>0</td>\n",
              "      <td>0</td>\n",
              "      <td>0</td>\n",
              "      <td>1</td>\n",
              "      <td>C</td>\n",
              "    </tr>\n",
              "    <tr>\n",
              "      <th>3</th>\n",
              "      <td>0</td>\n",
              "      <td>1</td>\n",
              "      <td>0</td>\n",
              "      <td>0</td>\n",
              "      <td>0</td>\n",
              "      <td>0</td>\n",
              "      <td>0</td>\n",
              "      <td>0</td>\n",
              "      <td>C</td>\n",
              "    </tr>\n",
              "    <tr>\n",
              "      <th>4</th>\n",
              "      <td>0</td>\n",
              "      <td>0</td>\n",
              "      <td>0</td>\n",
              "      <td>0</td>\n",
              "      <td>0</td>\n",
              "      <td>1</td>\n",
              "      <td>0</td>\n",
              "      <td>0</td>\n",
              "      <td>S</td>\n",
              "    </tr>\n",
              "    <tr>\n",
              "      <th>5</th>\n",
              "      <td>0</td>\n",
              "      <td>0</td>\n",
              "      <td>0</td>\n",
              "      <td>0</td>\n",
              "      <td>0</td>\n",
              "      <td>0</td>\n",
              "      <td>0</td>\n",
              "      <td>1</td>\n",
              "      <td>C</td>\n",
              "    </tr>\n",
              "    <tr>\n",
              "      <th>6</th>\n",
              "      <td>0</td>\n",
              "      <td>1</td>\n",
              "      <td>0</td>\n",
              "      <td>0</td>\n",
              "      <td>0</td>\n",
              "      <td>0</td>\n",
              "      <td>0</td>\n",
              "      <td>0</td>\n",
              "      <td>S</td>\n",
              "    </tr>\n",
              "    <tr>\n",
              "      <th>7</th>\n",
              "      <td>0</td>\n",
              "      <td>0</td>\n",
              "      <td>1</td>\n",
              "      <td>0</td>\n",
              "      <td>0</td>\n",
              "      <td>0</td>\n",
              "      <td>0</td>\n",
              "      <td>0</td>\n",
              "      <td>S</td>\n",
              "    </tr>\n",
              "    <tr>\n",
              "      <th>8</th>\n",
              "      <td>0</td>\n",
              "      <td>0</td>\n",
              "      <td>1</td>\n",
              "      <td>0</td>\n",
              "      <td>0</td>\n",
              "      <td>0</td>\n",
              "      <td>0</td>\n",
              "      <td>0</td>\n",
              "      <td>C</td>\n",
              "    </tr>\n",
              "    <tr>\n",
              "      <th>9</th>\n",
              "      <td>0</td>\n",
              "      <td>0</td>\n",
              "      <td>0</td>\n",
              "      <td>0</td>\n",
              "      <td>0</td>\n",
              "      <td>0</td>\n",
              "      <td>0</td>\n",
              "      <td>1</td>\n",
              "      <td>S</td>\n",
              "    </tr>\n",
              "  </tbody>\n",
              "</table>\n",
              "</div>"
            ],
            "text/plain": [
              "   col_0  col_1  col_2  col_3  col_4  col_5  col_6  col_7 embarked\n",
              "0      0      0      1      0      0      0      0      0        S\n",
              "1      0      1      0      0      0      0      0      0        C\n",
              "2      0      0      0      0      0      0      0      1        C\n",
              "3      0      1      0      0      0      0      0      0        C\n",
              "4      0      0      0      0      0      1      0      0        S\n",
              "5      0      0      0      0      0      0      0      1        C\n",
              "6      0      1      0      0      0      0      0      0        S\n",
              "7      0      0      1      0      0      0      0      0        S\n",
              "8      0      0      1      0      0      0      0      0        C\n",
              "9      0      0      0      0      0      0      0      1        S"
            ]
          },
          "metadata": {
            "tags": []
          },
          "execution_count": 67
        }
      ]
    },
    {
      "cell_type": "markdown",
      "metadata": {
        "id": "VFw602l4eyTX"
      },
      "source": [
        "# Key-take aways\n",
        "\n",
        "Let's recall the major learning from this notebook:\n",
        "\n",
        "- Feature transformation techniques tranforms variables from one form to another.\n",
        "\n",
        "- Categorical variables usually convert labels into numerical representation(Except rare label encoding) such that variables are in appropriate format for training.\n",
        "\n",
        "- Use one-hot encoding both tree or non-tree based models with low cardinality variables. Alternatively, for large cardinality variable follow up one-hot encoding with PCA.\n",
        "\n",
        "- Use label and count/frequency encoding with tree-based models such as decision trees. Also, these encoding don't increase feature space drastically.\n",
        "\n",
        "- Use target and WoE encoding to introduce monotonic relationship. These encoding also don't increase feature space drastically but might lead to overfitting. Regularization techniques are preferred after these encodings.\n",
        "\n",
        "- Use rare-label encoding when suffering from imbalanced category(rare label problem) in the dataset."
      ]
    },
    {
      "cell_type": "markdown",
      "metadata": {
        "id": "LxF9WjmweyTX"
      },
      "source": [
        "## References\n",
        "1. \"Feature Engineering for Machine Learning\" - Udemy course by Soledad Galli.\n"
      ]
    },
    {
      "cell_type": "code",
      "metadata": {
        "id": "gdV9gJtzeyTX"
      },
      "source": [],
      "execution_count": null,
      "outputs": []
    }
  ]
}