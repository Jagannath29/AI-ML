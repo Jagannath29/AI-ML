{
 "cells": [
  {
   "cell_type": "markdown",
   "metadata": {
    "colab_type": "text",
    "id": "5fpU9wOjYuGt"
   },
   "source": [
    "# Sampling Techniques"
   ]
  },
  {
   "cell_type": "markdown",
   "metadata": {
    "colab_type": "text",
    "id": "eAn9SnulVj4a"
   },
   "source": [
    "## Introduction"
   ]
  },
  {
   "cell_type": "markdown",
   "metadata": {
    "colab_type": "text",
    "id": "wajHDcEJu3Wj"
   },
   "source": [
    "\n",
    "Even with the abundance of data, it is sometimes useful to enforce tests of our hypothesis on a specific sample of data. This strategy of analyzing our hypothesis on certain data is one of the prime methods of research methodology. Several statistical tools allow us to measure and understand the statistics of our data. By this point, we hope you are familiar with statistical hypothesis testing, involving p-value tests.\n",
    "\n",
    "The firm understanding of statistical testing enables you to reach a statistical conclusion. However, to understand the significance of statistical testing, you may need other tools such as effect size and power. Testing the hypothesis requires data. Carrying tests on sizeable real-world data is expensive in most of the statistical analysis. Sampling techniques greatly facilitate to cut the research costs by allowing tests on a sample.\n",
    "\n",
    "#### Learning Outcomes\n",
    "\n",
    "1. Understand about how power relates to the true effect of any hypothesis test.\n",
    "\n",
    "2. Understand how effect size helps testing different hypothesis.\n",
    "\n",
    "3. Learn about different sampling techniques.\n"
   ]
  },
  {
   "cell_type": "markdown",
   "metadata": {
    "colab_type": "text",
    "id": "GEITfjGWwiUX"
   },
   "source": [
    "## Power and effect size"
   ]
  },
  {
   "cell_type": "markdown",
   "metadata": {
    "colab_type": "text",
    "id": "PnOISdqZVpIL"
   },
   "source": [
    "### Power\n"
   ]
  },
  {
   "cell_type": "markdown",
   "metadata": {
    "colab_type": "text",
    "id": "MBoLnlbUvAIy"
   },
   "source": [
    "At this point, it is logical to question \"power\". In statistical analysis, power is the probability of detecting a true effect. This definition is confusing because of the clause \"true effect\".\n",
    "\n",
    "A true effect is what happens in reality as a result of our test. So we have to create some hypothesis. Say our model predicted proteins for antibiotics to some super-bacteria. We want to test if the drug affects our patients or not. \n",
    "\n",
    "In our case, we hypothesize that our antibiotic affects. Consider this as null hypothesis, then alternative hypothesis is the case where antibiotics produces no result. \n",
    "\n",
    "Since we know if the probability(p), such that $p < 0.05$, then we reject the null hypothesis. As a result, depending on the real-world effect, we can reach the following conclusions:\n",
    "- There is no real-world effect. We have reached the conclusion $p < 0.05$. We disregard the null hypothesis (there is effect). Our conclusion is antibiotic doesn't cure infection from super-bacteria. This conclusion matches the real-world effect.\n",
    "- There is a real-world effect. We have reached conclusion $p < 0.05$. We disregard that there is an effect. Our conclusion is seeing things inexistent in real life. This conclusion is the case of Type-I error or False Positive.\n",
    "- There is no real-world effect. We have reached the conclude $p > 0.05$. We accept the null hypothesis and conclude that the antibiotic work actually works. Our conclusion contradicts with the real-world situation. This error is Type-II error or False Negative.\n",
    "- There is a real-world effect. We have reached the conclusion $p > 0.05$. We accept the null hypothesis (there is a effect) and conclude that antibiotic doesn't work. This conclusion matches the real world.\n",
    "\n",
    "As we can see, there are four cases. To understand power, we are interested in Type-II error. It is the case of a false negative. We aren't seeing what is happening. From probability, we define this error rate as $\\beta$. So the level to which we can make an error defines the power of our test. Therefore, to make a Type-II error at an acceptable level of $\\beta=0.1$, we need the power of $1 - \\beta = 0.9$\n",
    "\n",
    "That should be enough as an introduction to power size.\n"
   ]
  },
  {
   "cell_type": "markdown",
   "metadata": {
    "colab_type": "text",
    "id": "4YUv_6FUVtDN"
   },
   "source": [
    "### Effect Size (ES)"
   ]
  },
  {
   "cell_type": "markdown",
   "metadata": {
    "colab_type": "text",
    "id": "fgU8eX8wwm7I"
   },
   "source": [
    "\n",
    "\n",
    "Now that we have a general idea on power, let us understand what effect size, and how it affects reasoning of statistical conclusions.\n",
    "\n",
    "We have a situation; our antibiotic just got is tested against two different groups. Each group receive medicine at different dosages at different time. Since we have two groups, it's interesting to know the effect on these groups. Thus, we would need some formulation to define the effect of the significance of our research. Effect size is that measure which quantifies the size of the difference between the two groups.\n",
    "\n",
    "There are several formulation for effect sizes. At it's simplest form effect size can be formulated as:\n",
    "\n",
    "$$\n",
    "\\text{Effect size} = \\frac{M_1 - M_2}{\\text{Standard Deviation}}\\\\\n",
    "$$\n",
    "Where, $M_1$ and $M_2$ are mean from different groups.\n",
    "\n",
    "**Interpreting effect size**\n",
    "\n",
    "The effect size we calculate is similar to z-score. It measures the standard deviations between the two groups. Say,\n",
    "* Our first group ($m_2$) required an average dosage ($M_2$) of $15.8 mg$ at noon\n",
    "* Our second group  ($m_1$) required an average dosage ($M_1$) of $19 mg$ at night. \n",
    "\n",
    "If we assume the population has standard deviation of $4mg$, we would get effect size as:\n",
    "$$\n",
    "\\textbf{Effect size (ES)} = \\frac{19 - 15.8}{4} = 0.8\n",
    "$$\n",
    "The **ES** of 0.8 indicates a nonoverlap of 47.4% in the two distributions. This can also mean the dosage required at night is equivalent to $79^{th}$ percentile of the dosage required at noon! This means its effective to take the medicine at noon.\n",
    "\n",
    "There are different types of effect size, and it is out of the scope of this document.\n"
   ]
  },
  {
   "cell_type": "code",
   "execution_count": 6,
   "metadata": {
    "cellView": "form",
    "colab": {
     "base_uri": "https://localhost:8080/",
     "height": 282
    },
    "colab_type": "code",
    "executionInfo": {
     "elapsed": 1956,
     "status": "ok",
     "timestamp": 1590578180746,
     "user": {
      "displayName": "Shailesh Mishra",
      "photoUrl": "",
      "userId": "07932306718232755201"
     },
     "user_tz": -345
    },
    "id": "JDYDWrNJvApv",
    "outputId": "a09b95c9-51e8-4cff-a464-2a5e74de04e6"
   },
   "outputs": [
    {
     "name": "stdout",
     "output_type": "stream",
     "text": [
      "The Effect Size:  0.2999999999999998\n"
     ]
    },
    {
     "data": {
      "image/png": "[encoded data removed]",
      "text/plain": [
       "<Figure size 432x288 with 1 Axes>"
      ]
     },
     "metadata": {
      "needs_background": "light",
      "tags": []
     },
     "output_type": "display_data"
    }
   ],
   "source": [
    "#@title Effect size example {run : \"auto\"}\n",
    "import numpy as np\n",
    "import matplotlib.pyplot as plt\n",
    "import scipy.stats as stats\n",
    "\n",
    "np.random.seed(27)\n",
    "sigma_1 = 3.8\n",
    "mu_1 = 17 #@param {type: \"slider\", min: 10, max:30, step:0.1}\n",
    "sigma_2 = 4\n",
    "mu_2 = 15.8\n",
    "m1 = np.linspace(mu_1-3*sigma_1, mu_1+3*sigma_1, 50)\n",
    "m2 = np.linspace(mu_2-3*sigma_2, mu_2+3*sigma_2, 50)\n",
    "if (mu_1 >= mu_2):\n",
    "    es = (mu_1 - mu_2) / sigma_2\n",
    "else:\n",
    "    es = (mu_2 - mu_1) / sigma_2\n",
    "\n",
    "\n",
    "print(\"The Effect Size: \", es)\n",
    "plt.plot(m1, stats.norm.pdf(m1, mu_1, sigma_1), label='m1')\n",
    "plt.axvline(x=mu_1, dashes=[1, 2], label='mean of m1')\n",
    "plt.plot(m2, stats.norm.pdf(m2, mu_2, sigma_2), label='m2')\n",
    "plt.axvline(x=mu_2, color='orange', dashes=[1, 2], label='mean of m2')\n",
    "\n",
    "plt.legend()\n",
    "plt.show()\n",
    "\n"
   ]
  },
  {
   "cell_type": "markdown",
   "metadata": {
    "colab_type": "text",
    "id": "8o9a86S68OvV"
   },
   "source": [
    "In the above figure, we can see dotted blue line intersecting with $m_2$ distribution. The intersection conveys the message that mean ($M_1$) of $m_1$ is equivalent to $79^{th}$ percentile value of $m_2$.\n",
    "\n",
    "Run the above shell by changing the value of $M_1$ using the slider. "
   ]
  },
  {
   "cell_type": "markdown",
   "metadata": {
    "colab_type": "text",
    "id": "JLPT5gu_V032"
   },
   "source": [
    "### Determining Sample Size"
   ]
  },
  {
   "cell_type": "markdown",
   "metadata": {
    "colab_type": "text",
    "id": "6GwPSq7LZGp6"
   },
   "source": [
    "Hypothesis tests force us to define a sample size. Several factors like $\\alpha$ (Type-I error confidence), $\\beta$ (Type-II error confidence), Effect size (ES) and power, govern our estimation of the sample size. Instead of calculating the sample size based on these factors, researchers tend to rely on a precalculated table. More on this table can be found here [3]. "
   ]
  },
  {
   "cell_type": "markdown",
   "metadata": {
    "colab_type": "text",
    "id": "HBUBwd4aY6K0"
   },
   "source": [
    "## Sampling Techniques\n"
   ]
  },
  {
   "cell_type": "markdown",
   "metadata": {
    "colab_type": "text",
    "id": "JdSGYGjohMvk"
   },
   "source": [
    "### Introduction"
   ]
  },
  {
   "cell_type": "markdown",
   "metadata": {
    "colab_type": "text",
    "id": "fT8SP6j9ZHHC"
   },
   "source": [
    "We carry out surveys to have a deeper understanding of the target population that we want to study. Surveying on the entire target population isn't feasible. As a result, we pick up a sample from the target population to get a better idea of it. Among several sampling techniques, we are focusing on simple random sampling and stratified random sampling.\n",
    "\n"
   ]
  },
  {
   "cell_type": "markdown",
   "metadata": {
    "colab_type": "text",
    "id": "Gw8xTDLWhQs5"
   },
   "source": [
    "### Simple Random Sampling (SRS)"
   ]
  },
  {
   "cell_type": "markdown",
   "metadata": {
    "colab_type": "text",
    "id": "txo7b9UJhWZR"
   },
   "source": [
    "Simple random sampling consists of randomly selecting the samples from a population.\n",
    "One classic example is selecting red or blue balls from a jar of coloured balls to estimate the number of balls of each colour.\n",
    "\n",
    "If we select a blue ball and keep it back in the jar, this process is sampling with replacement. If we do not return the ball, it is sampling without replacement. In case of sampling without replacement, we aim to seek for the distinct ball until we get one. \n",
    "\n",
    "From SRS, we can compute the mean of the variable y, as \n",
    "$$\n",
    "\\bar{y} = (\\frac{1}{n})\\sum_{i=1}^n{y_i}\n",
    "$$\n",
    "We are calculating sum of all $y_i$ elements over total number of sample elements, $n$.\n",
    "This equation is different from the population estimate, which uses the size of the population, $N$.\n",
    "\n",
    "To get the variance, we use a factor called finite population correct ($fpc$). If $f$ is the sampling fraction, then $fpc = 1-f$ presents the population not sampled.\n",
    "\n",
    "In most practical situations, $f = n/N$ is fairly small and $fpc$ is close to $1$. As a result, we safely ignore $fpc$\n",
    "\n",
    "Once we have covered $fpc$, we can estimate the sample variance using the following formula:\n",
    "$$\n",
    "v(\\bar{y}) = \\frac{1-f}{n}s^2\n",
    "$$\n",
    "\n",
    "Here we calculate sample variance, but we also need to estimate the population variance $V(\\bar{y})$. The sample variance is an unbiased estimate for population variance.\n"
   ]
  },
  {
   "cell_type": "markdown",
   "metadata": {
    "colab_type": "text",
    "id": "bfp3PMIyZHnb"
   },
   "source": [
    "### Stratified Random Sampling"
   ]
  },
  {
   "cell_type": "markdown",
   "metadata": {
    "colab_type": "text",
    "id": "AnQa2YB9hW8e"
   },
   "source": [
    "Strata are a nonoverlapping, homogenous grouping of population elements or cluster of elements having similar properties. In a more practical situation, we can classify bank clients on an income basis. Then we can sample clients to calculate statistics on their credit behaviour.\n",
    "\n",
    "That example leaks the idea of stratified random sampling. We group the population frame into different strata. Then we make an independent selection from each stratum one by one. We can perform these selections with random sampling techniques.\n",
    "\n",
    "Finally, to estimate the population values, we combine the results from different strata. "
   ]
  },
  {
   "cell_type": "markdown",
   "metadata": {
    "colab_type": "text",
    "id": "8ATJC9RLXCOj"
   },
   "source": [
    "## Key Takeaways\n",
    "\n",
    "1. Power describes the true effect of any statistical test.\n",
    "\n",
    "2. Effect size can describe the value of a test.\n",
    "\n",
    "3. Stratified sampling allows to get better statistics of the population compared to simple random sampling."
   ]
  }
 ],
 "metadata": {
  "colab": {
   "name": "4.4.1 Sampling Techniques.ipynb",
   "provenance": []
  },
  "kernelspec": {
   "display_name": "Python 3",
   "name": "python3"
  }
 },
 "nbformat": 4,
 "nbformat_minor": 0
}
