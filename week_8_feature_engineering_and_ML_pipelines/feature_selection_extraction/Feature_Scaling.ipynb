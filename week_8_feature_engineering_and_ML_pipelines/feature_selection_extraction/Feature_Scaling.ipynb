{
  "cells": [
    {
      "cell_type": "markdown",
      "metadata": {
        "id": "m-T6m9e2aIrE"
      },
      "source": [
        "# Learnings\n",
        "Reading this chapter provide the knowledge regarding these topics:\n",
        "\n",
        "- What is feature scaling and why is it important?\n",
        "- Theory on various feature scaling techniques and changes they bring to the variables.\n",
        "- Implementation of each feature scaling technique.\n",
        "\n",
        "# Prerequisites\n",
        "Having basic experience or reading on the following topics are plus points:\n",
        "\n",
        "- Feature, types and characteristics.\n",
        "- Problem caused by different magnitude of independent variables.\n",
        "- Norms.\n",
        "- Basic experience of Pandas, Scikit-learn and NumPy."
      ]
    },
    {
      "cell_type": "markdown",
      "metadata": {
        "id": "XEgaEhiMVFjN"
      },
      "source": [
        "# Feature Scaling\n",
        "\n",
        "__Feature scaling__ is the assortment of techniques that converts the magnitude scales of different variables into a similar range or normalizes the scale through some centering(subtraction) and scaling(division). Only numerical variables are the input to feature scaling techniques. Feature scaling is the _last step of the most ML data preprocessing pipelines_, which is performed before training the ML models.\n",
        "\n",
        "In the chapter \"Introduction to feature engineering,\" you have already learned the effects of varying feature magnitude and importance of feature scaling. Let's recall the points on the effects of feature magnitude for the sake of revision:\n",
        "\n",
        "## Effects of variation of feature magnitude\n",
        "\n",
        "Feature magnitude is the numerical value of the variable. Different ranges or magnitude of the independent variable results to serious obstructions in ML model training such as:\n",
        "\n",
        "- The scale of the variable's magnitude influences the regression coefficient's value.\n",
        "- Variables with larger magnitude(bigger range) dominate over ones with smaller magnitude(lower range), nullifying the effect of smaller magnitude variables.\n",
        "- Algorithms dependent on distance metric, for example, K-means clustering, fabricates different results depending on the scale of variables.\n",
        "- Gradient Descent converges slower, and finding the support vectors in SVM takes longer.\n",
        "\n",
        "Applying __feature scaling__ on the dataset removes all the above-mentioned effects of variation in feature magnitude.\n",
        "\n",
        "## Techniques of feature scaling\n",
        "\n",
        "You are learning altogether 6 techniques of feature scaling in this notebook. They are as follows:\n",
        "\n",
        "<center>\n",
        "<figure>\n",
        "<!-- <img src=\"https://docs.google.com/uc?export=download&id=1vzLZw4vYgCSx7_QWIb5ZacwCsPCvgzuM\" alt=\"Types of feature scaling method\"> -->\n",
        "<img src=\"https://i.postimg.cc/65QQp8bm/image.png\">\n",
        "<br>\n",
        "<figcaption align=\"center\">Figure 1: Techniques of feature scaling\n",
        "</figcaption>\n",
        "</figure>\n",
        "</center>\n",
        "\n",
        "The above figure displays the type of feature scaling methods with their respective formulas. Most used feature scaling are Standardization and Minmax scaling.\n",
        "\n",
        "Applying feature scaling can modify the properties of independent variables or their distribution. These modifications/non-modification are present under the __properties__ sub-section within the description of each feature scaling technique. You are going to learn about these properties along with the working and implementation of each method. The code snippets use both NumPy and Scikit-learn packages for implementing the techniques with the _California_housing_dataset_ from Scikit-learn. Let's dive into these techniques.\n",
        "\n",
        "#### Notations\n",
        "\n",
        "$\\mathbf{x}$ = Independent variable, can be a single value or the entire column\n",
        "vector.\n",
        "\n",
        "$\\mathbf{x^T}$ = Feature vector(row vector) that contains the value of variables for single observation in the dataset.\n",
        "\n",
        "$\\mu_{\\mathbf{x}}$ =  Mean of the independent variable.\n",
        "\n",
        "$\\sigma_{\\mathbf{x}}$ = Standard deviation of the independent variable.\n",
        "\n",
        "$\\min{(\\mathbf{x})}$ = Minimum value of the independent variable.\n",
        "\n",
        "$\\max{(\\mathbf{x})}$ = Maximum value of the independent variable.\n",
        "\n",
        "$\\text{Median}(\\mathbf{x})$ = Median of the independent variable.\n",
        "\n",
        "$75^{th} \\text{Percentile}(\\mathbf{x})$ = 75th percentile or 3rd quartile of the independent variable.\n",
        "\n",
        "$25^{th} \\text{Percentile}(\\mathbf{x})$ = 25th percentile or 1st quartile of the independent variable.\n"
      ]
    },
    {
      "cell_type": "markdown",
      "metadata": {
        "id": "6sSMM31TaIrF"
      },
      "source": [
        "## Standardization\n",
        "\n",
        "Standardization applied to the independent variable indicates that the variable's magnitude is subtracted by the mean ($\\mu$) and then divided by the standard deviation ($\\sigma$). The output after the subtraction and division is known as the __Z-score__, which is the output of the standardization procedure. The Z-score is a useful tool in statistics that represents position of particular observed value of variables with respect to the mean of that variable. Sign of Z-score indicates whether the observation is above(+) or below(-) the mean. Z-score is computed as follows:\n",
        "\n",
        "$$\n",
        "\\large{\\text{Z-score} = \\frac{\\mathbf{x}-\\mu_\\mathbf{x}}{\\sigma_\\mathbf{x}}}\n",
        "$$\n",
        "\n",
        "### Properties\n",
        "Standardization modifies the independent variable in the following way:\n",
        "\n",
        "- Centers the mean of the variable distribution at 0.\n",
        "- Scales the variance of the variable distribution at 1.(i.e. standard deviation = 1)\n",
        "- Variation in the minimum and maximum value of the scaled variable.\n",
        "- Preserves the outliers of the dataset.\n",
        "- No change to shape of the variable distribution.\n",
        "\n",
        "Standardization scaling doesn't constrain the minimum and maximum value to a certain range, which results in the variation of minimum and maximum value per independent variable. Standardization is also affected by the presence of an outlier. Outlier causes slight changes in the mean and standard deviation resulting in lower performance of standardization.\n",
        "\n",
        "### Demo\n",
        "At first, Numpy implemented is present in every demo of this chapter. Then comes the Scikit-learn's implementation. The visualization of probability density of variables are done using ```sns.kdeplot()```, which is seaborn's kernel density plot. The y-axis in the plot is the probabiltiy of occurance. The methodologies of the demo is same for every scaling technique. Any deviation are pointed out then and there.\n",
        "\n",
        "Let's import all the required libraries and dataset required for the demos."
      ]
    },
    {
      "cell_type": "code",
      "execution_count": null,
      "metadata": {
        "id": "5A8nnxhUaIrG"
      },
      "outputs": [],
      "source": [
        "# Importing libraries and dataset\n",
        "import numpy as np  # for simple vector manipulation and operatoions\n",
        "import pandas as pd # for dataframe manipulation and describing the data\n",
        "import matplotlib.pyplot as plt # Visualization\n",
        "import seaborn as sns # Probability density function plots\n",
        "from sklearn.datasets import fetch_california_housing #california_housing_dataset\n",
        "from sklearn.model_selection import train_test_split # train_test_split the dataset"
      ]
    },
    {
      "cell_type": "markdown",
      "metadata": {
        "id": "_sH6Ce0kaIrL"
      },
      "source": [
        "Now the below code is for creating the dataframe of the california_housing_dataset for easier description and operations."
      ]
    },
    {
      "cell_type": "code",
      "execution_count": null,
      "metadata": {
        "id": "RXXtsRySaIrM",
        "outputId": "f387790f-f936-4baf-cff8-6694781aef80",
        "scrolled": true
      },
      "outputs": [
        {
          "data": {
            "text/html": [
              "<div>\n",
              "<style scoped>\n",
              "    .dataframe tbody tr th:only-of-type {\n",
              "        vertical-align: middle;\n",
              "    }\n",
              "\n",
              "    .dataframe tbody tr th {\n",
              "        vertical-align: top;\n",
              "    }\n",
              "\n",
              "    .dataframe thead th {\n",
              "        text-align: right;\n",
              "    }\n",
              "</style>\n",
              "<table border=\"1\" class=\"dataframe\">\n",
              "  <thead>\n",
              "    <tr style=\"text-align: right;\">\n",
              "      <th></th>\n",
              "      <th>MedInc</th>\n",
              "      <th>HouseAge</th>\n",
              "      <th>AveRooms</th>\n",
              "      <th>AveBedrms</th>\n",
              "      <th>Population</th>\n",
              "      <th>AveOccup</th>\n",
              "      <th>Latitude</th>\n",
              "      <th>Longitude</th>\n",
              "      <th>MedValue</th>\n",
              "    </tr>\n",
              "  </thead>\n",
              "  <tbody>\n",
              "    <tr>\n",
              "      <th>0</th>\n",
              "      <td>8.3252</td>\n",
              "      <td>41.0</td>\n",
              "      <td>6.984127</td>\n",
              "      <td>1.023810</td>\n",
              "      <td>322.0</td>\n",
              "      <td>2.555556</td>\n",
              "      <td>37.88</td>\n",
              "      <td>-122.23</td>\n",
              "      <td>4.526</td>\n",
              "    </tr>\n",
              "    <tr>\n",
              "      <th>1</th>\n",
              "      <td>8.3014</td>\n",
              "      <td>21.0</td>\n",
              "      <td>6.238137</td>\n",
              "      <td>0.971880</td>\n",
              "      <td>2401.0</td>\n",
              "      <td>2.109842</td>\n",
              "      <td>37.86</td>\n",
              "      <td>-122.22</td>\n",
              "      <td>3.585</td>\n",
              "    </tr>\n",
              "    <tr>\n",
              "      <th>2</th>\n",
              "      <td>7.2574</td>\n",
              "      <td>52.0</td>\n",
              "      <td>8.288136</td>\n",
              "      <td>1.073446</td>\n",
              "      <td>496.0</td>\n",
              "      <td>2.802260</td>\n",
              "      <td>37.85</td>\n",
              "      <td>-122.24</td>\n",
              "      <td>3.521</td>\n",
              "    </tr>\n",
              "    <tr>\n",
              "      <th>3</th>\n",
              "      <td>5.6431</td>\n",
              "      <td>52.0</td>\n",
              "      <td>5.817352</td>\n",
              "      <td>1.073059</td>\n",
              "      <td>558.0</td>\n",
              "      <td>2.547945</td>\n",
              "      <td>37.85</td>\n",
              "      <td>-122.25</td>\n",
              "      <td>3.413</td>\n",
              "    </tr>\n",
              "    <tr>\n",
              "      <th>4</th>\n",
              "      <td>3.8462</td>\n",
              "      <td>52.0</td>\n",
              "      <td>6.281853</td>\n",
              "      <td>1.081081</td>\n",
              "      <td>565.0</td>\n",
              "      <td>2.181467</td>\n",
              "      <td>37.85</td>\n",
              "      <td>-122.25</td>\n",
              "      <td>3.422</td>\n",
              "    </tr>\n",
              "  </tbody>\n",
              "</table>\n",
              "</div>"
            ],
            "text/plain": [
              "   MedInc  HouseAge  AveRooms  AveBedrms  Population  AveOccup  Latitude  \\\n",
              "0  8.3252      41.0  6.984127   1.023810       322.0  2.555556     37.88   \n",
              "1  8.3014      21.0  6.238137   0.971880      2401.0  2.109842     37.86   \n",
              "2  7.2574      52.0  8.288136   1.073446       496.0  2.802260     37.85   \n",
              "3  5.6431      52.0  5.817352   1.073059       558.0  2.547945     37.85   \n",
              "4  3.8462      52.0  6.281853   1.081081       565.0  2.181467     37.85   \n",
              "\n",
              "   Longitude  MedValue  \n",
              "0    -122.23     4.526  \n",
              "1    -122.22     3.585  \n",
              "2    -122.24     3.521  \n",
              "3    -122.25     3.413  \n",
              "4    -122.25     3.422  "
            ]
          },
          "execution_count": 31,
          "metadata": {
            "tags": []
          },
          "output_type": "execute_result"
        }
      ],
      "source": [
        "#Lets load the dataset into a dataframe\n",
        "house = fetch_california_housing()\n",
        "house_data = pd.DataFrame(data=house.data,\n",
        "                          columns= house.feature_names)\n",
        "house_data['MedValue'] = house.target\n",
        "house_data.head() # display the top 5 values of the Dataframe"
      ]
    },
    {
      "cell_type": "markdown",
      "metadata": {
        "id": "Xj3a7vquaIrR"
      },
      "source": [
        "NumPy has 2 essential methods ```np.mean()``` and ```np.std()``` which computes the mean and standard deviation of the given input array or dataframe. ```axis=0``` refers to taking the operation along columns. Now commencing the standardization scaling operation."
      ]
    },
    {
      "cell_type": "code",
      "execution_count": null,
      "metadata": {
        "id": "t_R9H29LaIrR",
        "scrolled": false
      },
      "outputs": [],
      "source": [
        "# Using numpy and pandas\n",
        "house_data_scaled = house_data.copy() #copying the dataframe\n",
        "\n",
        "#Subtracting the mean and dividing by standard deviation\n",
        "mean_df = np.mean(house_data_scaled, axis=0) # Computing the variable wise mean\n",
        "std_dev_df = np.std(house_data_scaled, axis=0) # Computing the variable wise standard_deviation\n",
        "house_data_scaled = (house_data_scaled-mean_df)/std_dev_df #Standardization."
      ]
    },
    {
      "cell_type": "markdown",
      "metadata": {
        "id": "pkZZ4RQOaIrV"
      },
      "source": [
        "Lets describe the dataframe using Pandas ```.describe()``` method which returns mean, std_dev, maximum, minimum and other property per variable."
      ]
    },
    {
      "cell_type": "code",
      "execution_count": null,
      "metadata": {
        "id": "raxonp3daIrW",
        "outputId": "03a3cbee-8826-416f-9a4a-558df4d08d78",
        "scrolled": false
      },
      "outputs": [
        {
          "data": {
            "text/html": [
              "<div>\n",
              "<style scoped>\n",
              "    .dataframe tbody tr th:only-of-type {\n",
              "        vertical-align: middle;\n",
              "    }\n",
              "\n",
              "    .dataframe tbody tr th {\n",
              "        vertical-align: top;\n",
              "    }\n",
              "\n",
              "    .dataframe thead th {\n",
              "        text-align: right;\n",
              "    }\n",
              "</style>\n",
              "<table border=\"1\" class=\"dataframe\">\n",
              "  <thead>\n",
              "    <tr style=\"text-align: right;\">\n",
              "      <th></th>\n",
              "      <th>MedInc</th>\n",
              "      <th>HouseAge</th>\n",
              "      <th>AveRooms</th>\n",
              "      <th>AveBedrms</th>\n",
              "      <th>Population</th>\n",
              "      <th>AveOccup</th>\n",
              "      <th>Latitude</th>\n",
              "      <th>Longitude</th>\n",
              "      <th>MedValue</th>\n",
              "    </tr>\n",
              "  </thead>\n",
              "  <tbody>\n",
              "    <tr>\n",
              "      <th>count</th>\n",
              "      <td>20640.0</td>\n",
              "      <td>20640.0</td>\n",
              "      <td>20640.0</td>\n",
              "      <td>20640.0</td>\n",
              "      <td>20640.0</td>\n",
              "      <td>20640.0</td>\n",
              "      <td>20640.0</td>\n",
              "      <td>20640.0</td>\n",
              "      <td>20640.0</td>\n",
              "    </tr>\n",
              "    <tr>\n",
              "      <th>mean</th>\n",
              "      <td>3.9</td>\n",
              "      <td>28.6</td>\n",
              "      <td>5.4</td>\n",
              "      <td>1.1</td>\n",
              "      <td>1425.5</td>\n",
              "      <td>3.1</td>\n",
              "      <td>35.6</td>\n",
              "      <td>-119.6</td>\n",
              "      <td>2.1</td>\n",
              "    </tr>\n",
              "    <tr>\n",
              "      <th>std</th>\n",
              "      <td>1.9</td>\n",
              "      <td>12.6</td>\n",
              "      <td>2.5</td>\n",
              "      <td>0.5</td>\n",
              "      <td>1132.5</td>\n",
              "      <td>10.4</td>\n",
              "      <td>2.1</td>\n",
              "      <td>2.0</td>\n",
              "      <td>1.2</td>\n",
              "    </tr>\n",
              "    <tr>\n",
              "      <th>min</th>\n",
              "      <td>0.5</td>\n",
              "      <td>1.0</td>\n",
              "      <td>0.8</td>\n",
              "      <td>0.3</td>\n",
              "      <td>3.0</td>\n",
              "      <td>0.7</td>\n",
              "      <td>32.5</td>\n",
              "      <td>-124.4</td>\n",
              "      <td>0.1</td>\n",
              "    </tr>\n",
              "    <tr>\n",
              "      <th>25%</th>\n",
              "      <td>2.6</td>\n",
              "      <td>18.0</td>\n",
              "      <td>4.4</td>\n",
              "      <td>1.0</td>\n",
              "      <td>787.0</td>\n",
              "      <td>2.4</td>\n",
              "      <td>33.9</td>\n",
              "      <td>-121.8</td>\n",
              "      <td>1.2</td>\n",
              "    </tr>\n",
              "    <tr>\n",
              "      <th>50%</th>\n",
              "      <td>3.5</td>\n",
              "      <td>29.0</td>\n",
              "      <td>5.2</td>\n",
              "      <td>1.0</td>\n",
              "      <td>1166.0</td>\n",
              "      <td>2.8</td>\n",
              "      <td>34.3</td>\n",
              "      <td>-118.5</td>\n",
              "      <td>1.8</td>\n",
              "    </tr>\n",
              "    <tr>\n",
              "      <th>75%</th>\n",
              "      <td>4.7</td>\n",
              "      <td>37.0</td>\n",
              "      <td>6.1</td>\n",
              "      <td>1.1</td>\n",
              "      <td>1725.0</td>\n",
              "      <td>3.3</td>\n",
              "      <td>37.7</td>\n",
              "      <td>-118.0</td>\n",
              "      <td>2.6</td>\n",
              "    </tr>\n",
              "    <tr>\n",
              "      <th>max</th>\n",
              "      <td>15.0</td>\n",
              "      <td>52.0</td>\n",
              "      <td>141.9</td>\n",
              "      <td>34.1</td>\n",
              "      <td>35682.0</td>\n",
              "      <td>1243.3</td>\n",
              "      <td>42.0</td>\n",
              "      <td>-114.3</td>\n",
              "      <td>5.0</td>\n",
              "    </tr>\n",
              "  </tbody>\n",
              "</table>\n",
              "</div>"
            ],
            "text/plain": [
              "        MedInc  HouseAge  AveRooms  AveBedrms  Population  AveOccup  Latitude  \\\n",
              "count  20640.0   20640.0   20640.0    20640.0     20640.0   20640.0   20640.0   \n",
              "mean       3.9      28.6       5.4        1.1      1425.5       3.1      35.6   \n",
              "std        1.9      12.6       2.5        0.5      1132.5      10.4       2.1   \n",
              "min        0.5       1.0       0.8        0.3         3.0       0.7      32.5   \n",
              "25%        2.6      18.0       4.4        1.0       787.0       2.4      33.9   \n",
              "50%        3.5      29.0       5.2        1.0      1166.0       2.8      34.3   \n",
              "75%        4.7      37.0       6.1        1.1      1725.0       3.3      37.7   \n",
              "max       15.0      52.0     141.9       34.1     35682.0    1243.3      42.0   \n",
              "\n",
              "       Longitude  MedValue  \n",
              "count    20640.0   20640.0  \n",
              "mean      -119.6       2.1  \n",
              "std          2.0       1.2  \n",
              "min       -124.4       0.1  \n",
              "25%       -121.8       1.2  \n",
              "50%       -118.5       1.8  \n",
              "75%       -118.0       2.6  \n",
              "max       -114.3       5.0  "
            ]
          },
          "execution_count": 33,
          "metadata": {
            "tags": []
          },
          "output_type": "execute_result"
        }
      ],
      "source": [
        "# describing the orginal dataframe\n",
        "np.round(house_data.describe(),1)"
      ]
    },
    {
      "cell_type": "markdown",
      "metadata": {
        "id": "p0j7SDgcaIrb"
      },
      "source": [
        "The description of the scaled dataframe shows the mean and standard deviation of the variables change to 0 and 1 respectively. The maximum and minimum values of the variables varies and isn't restricted to a limit."
      ]
    },
    {
      "cell_type": "code",
      "execution_count": null,
      "metadata": {
        "id": "nje7anTIaIrc",
        "outputId": "fe4b7d92-79a8-4bdf-9e0d-4fc28a62a94c",
        "scrolled": false
      },
      "outputs": [
        {
          "data": {
            "text/html": [
              "<div>\n",
              "<style scoped>\n",
              "    .dataframe tbody tr th:only-of-type {\n",
              "        vertical-align: middle;\n",
              "    }\n",
              "\n",
              "    .dataframe tbody tr th {\n",
              "        vertical-align: top;\n",
              "    }\n",
              "\n",
              "    .dataframe thead th {\n",
              "        text-align: right;\n",
              "    }\n",
              "</style>\n",
              "<table border=\"1\" class=\"dataframe\">\n",
              "  <thead>\n",
              "    <tr style=\"text-align: right;\">\n",
              "      <th></th>\n",
              "      <th>MedInc</th>\n",
              "      <th>HouseAge</th>\n",
              "      <th>AveRooms</th>\n",
              "      <th>AveBedrms</th>\n",
              "      <th>Population</th>\n",
              "      <th>AveOccup</th>\n",
              "      <th>Latitude</th>\n",
              "      <th>Longitude</th>\n",
              "      <th>MedValue</th>\n",
              "    </tr>\n",
              "  </thead>\n",
              "  <tbody>\n",
              "    <tr>\n",
              "      <th>count</th>\n",
              "      <td>20640.0</td>\n",
              "      <td>20640.0</td>\n",
              "      <td>20640.0</td>\n",
              "      <td>20640.0</td>\n",
              "      <td>20640.0</td>\n",
              "      <td>20640.0</td>\n",
              "      <td>20640.0</td>\n",
              "      <td>20640.0</td>\n",
              "      <td>20640.0</td>\n",
              "    </tr>\n",
              "    <tr>\n",
              "      <th>mean</th>\n",
              "      <td>-0.0</td>\n",
              "      <td>0.0</td>\n",
              "      <td>0.0</td>\n",
              "      <td>0.0</td>\n",
              "      <td>-0.0</td>\n",
              "      <td>-0.0</td>\n",
              "      <td>-0.0</td>\n",
              "      <td>-0.0</td>\n",
              "      <td>-0.0</td>\n",
              "    </tr>\n",
              "    <tr>\n",
              "      <th>std</th>\n",
              "      <td>1.0</td>\n",
              "      <td>1.0</td>\n",
              "      <td>1.0</td>\n",
              "      <td>1.0</td>\n",
              "      <td>1.0</td>\n",
              "      <td>1.0</td>\n",
              "      <td>1.0</td>\n",
              "      <td>1.0</td>\n",
              "      <td>1.0</td>\n",
              "    </tr>\n",
              "    <tr>\n",
              "      <th>min</th>\n",
              "      <td>-1.8</td>\n",
              "      <td>-2.2</td>\n",
              "      <td>-1.9</td>\n",
              "      <td>-1.6</td>\n",
              "      <td>-1.3</td>\n",
              "      <td>-0.2</td>\n",
              "      <td>-1.4</td>\n",
              "      <td>-2.4</td>\n",
              "      <td>-1.7</td>\n",
              "    </tr>\n",
              "    <tr>\n",
              "      <th>25%</th>\n",
              "      <td>-0.7</td>\n",
              "      <td>-0.8</td>\n",
              "      <td>-0.4</td>\n",
              "      <td>-0.2</td>\n",
              "      <td>-0.6</td>\n",
              "      <td>-0.1</td>\n",
              "      <td>-0.8</td>\n",
              "      <td>-1.1</td>\n",
              "      <td>-0.8</td>\n",
              "    </tr>\n",
              "    <tr>\n",
              "      <th>50%</th>\n",
              "      <td>-0.2</td>\n",
              "      <td>0.0</td>\n",
              "      <td>-0.1</td>\n",
              "      <td>-0.1</td>\n",
              "      <td>-0.2</td>\n",
              "      <td>-0.0</td>\n",
              "      <td>-0.6</td>\n",
              "      <td>0.5</td>\n",
              "      <td>-0.2</td>\n",
              "    </tr>\n",
              "    <tr>\n",
              "      <th>75%</th>\n",
              "      <td>0.5</td>\n",
              "      <td>0.7</td>\n",
              "      <td>0.3</td>\n",
              "      <td>0.0</td>\n",
              "      <td>0.3</td>\n",
              "      <td>0.0</td>\n",
              "      <td>1.0</td>\n",
              "      <td>0.8</td>\n",
              "      <td>0.5</td>\n",
              "    </tr>\n",
              "    <tr>\n",
              "      <th>max</th>\n",
              "      <td>5.9</td>\n",
              "      <td>1.9</td>\n",
              "      <td>55.2</td>\n",
              "      <td>69.6</td>\n",
              "      <td>30.3</td>\n",
              "      <td>119.4</td>\n",
              "      <td>3.0</td>\n",
              "      <td>2.6</td>\n",
              "      <td>2.5</td>\n",
              "    </tr>\n",
              "  </tbody>\n",
              "</table>\n",
              "</div>"
            ],
            "text/plain": [
              "        MedInc  HouseAge  AveRooms  AveBedrms  Population  AveOccup  Latitude  \\\n",
              "count  20640.0   20640.0   20640.0    20640.0     20640.0   20640.0   20640.0   \n",
              "mean      -0.0       0.0       0.0        0.0        -0.0      -0.0      -0.0   \n",
              "std        1.0       1.0       1.0        1.0         1.0       1.0       1.0   \n",
              "min       -1.8      -2.2      -1.9       -1.6        -1.3      -0.2      -1.4   \n",
              "25%       -0.7      -0.8      -0.4       -0.2        -0.6      -0.1      -0.8   \n",
              "50%       -0.2       0.0      -0.1       -0.1        -0.2      -0.0      -0.6   \n",
              "75%        0.5       0.7       0.3        0.0         0.3       0.0       1.0   \n",
              "max        5.9       1.9      55.2       69.6        30.3     119.4       3.0   \n",
              "\n",
              "       Longitude  MedValue  \n",
              "count    20640.0   20640.0  \n",
              "mean        -0.0      -0.0  \n",
              "std          1.0       1.0  \n",
              "min         -2.4      -1.7  \n",
              "25%         -1.1      -0.8  \n",
              "50%          0.5      -0.2  \n",
              "75%          0.8       0.5  \n",
              "max          2.6       2.5  "
            ]
          },
          "execution_count": 34,
          "metadata": {
            "tags": []
          },
          "output_type": "execute_result"
        }
      ],
      "source": [
        "# describing the scaled dataframe\n",
        "np.round(house_data_scaled.describe(),1)"
      ]
    },
    {
      "cell_type": "markdown",
      "metadata": {
        "id": "oma6f5kJaIrg"
      },
      "source": [
        "Now, Scikit-learns implementation of standardization is conducted using ```StandardScaler``` object. Splitting the dataset is done as in previous chapters using ```train_test_split```."
      ]
    },
    {
      "cell_type": "code",
      "execution_count": null,
      "metadata": {
        "id": "yOENR5bnaIrh"
      },
      "outputs": [],
      "source": [
        "# importing the StandardScaler\n",
        "from sklearn.preprocessing import StandardScaler\n",
        "standard_scaler = StandardScaler()\n",
        "\n",
        "# Splitting the dataset\n",
        "X_train, X_test, _, _ = train_test_split(house_data,\n",
        "                                         house_data['MedValue'],\n",
        "                                        test_size=0.3,\n",
        "                                        random_state=42)"
      ]
    },
    {
      "cell_type": "markdown",
      "metadata": {
        "id": "lSSrE1nmaIrm"
      },
      "source": [
        "```.fit``` and ```.transform``` are the methods to be called like any other Scikit-learn transformer;first fit the data and then use transform dataset to scaled version. Scikit-learn's transformer returns NumPy arrays as output. Dataframe is created from the scaled output array which will be useful for describing and visualization."
      ]
    },
    {
      "cell_type": "code",
      "execution_count": null,
      "metadata": {
        "id": "NLDVbF8LaIrn"
      },
      "outputs": [],
      "source": [
        "# Fit the dataset\n",
        "standard_scaler.fit(X_train)\n",
        "# Scale the dataset\n",
        "X_train_scaled = standard_scaler.transform(X_train) # Transform to scaled version.\n",
        "\n",
        "X_train_scaled1 = pd.DataFrame(data=X_train_scaled, columns=X_train.columns)"
      ]
    },
    {
      "cell_type": "code",
      "execution_count": null,
      "metadata": {
        "id": "d9jVl08PaIrq",
        "outputId": "50e1fcbc-e74d-4f42-80ee-103ebba421c8",
        "scrolled": true
      },
      "outputs": [
        {
          "data": {
            "text/html": [
              "<div>\n",
              "<style scoped>\n",
              "    .dataframe tbody tr th:only-of-type {\n",
              "        vertical-align: middle;\n",
              "    }\n",
              "\n",
              "    .dataframe tbody tr th {\n",
              "        vertical-align: top;\n",
              "    }\n",
              "\n",
              "    .dataframe thead th {\n",
              "        text-align: right;\n",
              "    }\n",
              "</style>\n",
              "<table border=\"1\" class=\"dataframe\">\n",
              "  <thead>\n",
              "    <tr style=\"text-align: right;\">\n",
              "      <th></th>\n",
              "      <th>MedInc</th>\n",
              "      <th>HouseAge</th>\n",
              "      <th>AveRooms</th>\n",
              "      <th>AveBedrms</th>\n",
              "      <th>Population</th>\n",
              "      <th>AveOccup</th>\n",
              "      <th>Latitude</th>\n",
              "      <th>Longitude</th>\n",
              "      <th>MedValue</th>\n",
              "    </tr>\n",
              "  </thead>\n",
              "  <tbody>\n",
              "    <tr>\n",
              "      <th>count</th>\n",
              "      <td>14448.0</td>\n",
              "      <td>14448.0</td>\n",
              "      <td>14448.0</td>\n",
              "      <td>14448.0</td>\n",
              "      <td>14448.0</td>\n",
              "      <td>14448.0</td>\n",
              "      <td>14448.0</td>\n",
              "      <td>14448.0</td>\n",
              "      <td>14448.0</td>\n",
              "    </tr>\n",
              "    <tr>\n",
              "      <th>mean</th>\n",
              "      <td>-0.0</td>\n",
              "      <td>-0.0</td>\n",
              "      <td>0.0</td>\n",
              "      <td>0.0</td>\n",
              "      <td>0.0</td>\n",
              "      <td>0.0</td>\n",
              "      <td>-0.0</td>\n",
              "      <td>0.0</td>\n",
              "      <td>-0.0</td>\n",
              "    </tr>\n",
              "    <tr>\n",
              "      <th>std</th>\n",
              "      <td>1.0</td>\n",
              "      <td>1.0</td>\n",
              "      <td>1.0</td>\n",
              "      <td>1.0</td>\n",
              "      <td>1.0</td>\n",
              "      <td>1.0</td>\n",
              "      <td>1.0</td>\n",
              "      <td>1.0</td>\n",
              "      <td>1.0</td>\n",
              "    </tr>\n",
              "    <tr>\n",
              "      <th>min</th>\n",
              "      <td>-1.8</td>\n",
              "      <td>-2.2</td>\n",
              "      <td>-1.9</td>\n",
              "      <td>-1.7</td>\n",
              "      <td>-1.2</td>\n",
              "      <td>-0.2</td>\n",
              "      <td>-1.5</td>\n",
              "      <td>-2.4</td>\n",
              "      <td>-1.7</td>\n",
              "    </tr>\n",
              "    <tr>\n",
              "      <th>25%</th>\n",
              "      <td>-0.7</td>\n",
              "      <td>-0.8</td>\n",
              "      <td>-0.4</td>\n",
              "      <td>-0.2</td>\n",
              "      <td>-0.6</td>\n",
              "      <td>-0.1</td>\n",
              "      <td>-0.8</td>\n",
              "      <td>-1.1</td>\n",
              "      <td>-0.8</td>\n",
              "    </tr>\n",
              "    <tr>\n",
              "      <th>50%</th>\n",
              "      <td>-0.2</td>\n",
              "      <td>0.0</td>\n",
              "      <td>-0.1</td>\n",
              "      <td>-0.1</td>\n",
              "      <td>-0.2</td>\n",
              "      <td>-0.0</td>\n",
              "      <td>-0.6</td>\n",
              "      <td>0.5</td>\n",
              "      <td>-0.2</td>\n",
              "    </tr>\n",
              "    <tr>\n",
              "      <th>75%</th>\n",
              "      <td>0.5</td>\n",
              "      <td>0.7</td>\n",
              "      <td>0.3</td>\n",
              "      <td>0.0</td>\n",
              "      <td>0.3</td>\n",
              "      <td>0.0</td>\n",
              "      <td>1.0</td>\n",
              "      <td>0.8</td>\n",
              "      <td>0.5</td>\n",
              "    </tr>\n",
              "    <tr>\n",
              "      <th>max</th>\n",
              "      <td>5.8</td>\n",
              "      <td>1.9</td>\n",
              "      <td>55.6</td>\n",
              "      <td>54.8</td>\n",
              "      <td>30.0</td>\n",
              "      <td>100.2</td>\n",
              "      <td>2.9</td>\n",
              "      <td>2.6</td>\n",
              "      <td>2.5</td>\n",
              "    </tr>\n",
              "  </tbody>\n",
              "</table>\n",
              "</div>"
            ],
            "text/plain": [
              "        MedInc  HouseAge  AveRooms  AveBedrms  Population  AveOccup  Latitude  \\\n",
              "count  14448.0   14448.0   14448.0    14448.0     14448.0   14448.0   14448.0   \n",
              "mean      -0.0      -0.0       0.0        0.0         0.0       0.0      -0.0   \n",
              "std        1.0       1.0       1.0        1.0         1.0       1.0       1.0   \n",
              "min       -1.8      -2.2      -1.9       -1.7        -1.2      -0.2      -1.5   \n",
              "25%       -0.7      -0.8      -0.4       -0.2        -0.6      -0.1      -0.8   \n",
              "50%       -0.2       0.0      -0.1       -0.1        -0.2      -0.0      -0.6   \n",
              "75%        0.5       0.7       0.3        0.0         0.3       0.0       1.0   \n",
              "max        5.8       1.9      55.6       54.8        30.0     100.2       2.9   \n",
              "\n",
              "       Longitude  MedValue  \n",
              "count    14448.0   14448.0  \n",
              "mean         0.0      -0.0  \n",
              "std          1.0       1.0  \n",
              "min         -2.4      -1.7  \n",
              "25%         -1.1      -0.8  \n",
              "50%          0.5      -0.2  \n",
              "75%          0.8       0.5  \n",
              "max          2.6       2.5  "
            ]
          },
          "execution_count": 37,
          "metadata": {
            "tags": []
          },
          "output_type": "execute_result"
        }
      ],
      "source": [
        "np.round(X_train_scaled1.describe(),1)"
      ]
    },
    {
      "cell_type": "markdown",
      "metadata": {
        "id": "7EsvGJpJaIru"
      },
      "source": [
        "Now, Lets plot the probability distribution of few selected variables from the dataframe. This helps the visualization of the effects of standardization."
      ]
    },
    {
      "cell_type": "code",
      "execution_count": null,
      "metadata": {
        "id": "5PxJWQl6aIru",
        "outputId": "b0fc9f74-aeb1-4b21-ce93-985bfd5292a4"
      },
      "outputs": [
        {
          "data": {
            "image/png": "[encoded data removed]",
            "text/plain": [
              "<Figure size 864x360 with 2 Axes>"
            ]
          },
          "metadata": {
            "tags": []
          },
          "output_type": "display_data"
        }
      ],
      "source": [
        "## Plotting the probability distribution of the variables\n",
        "def show_plots(X_scaled, title):\n",
        "    plt.figure(figsize=(12,5))\n",
        "\n",
        "    plt.subplot(121)\n",
        "    plt.title('Original Variable Distribution')\n",
        "    sns.kdeplot(X_train['HouseAge'])\n",
        "    sns.kdeplot(X_train['MedInc'])\n",
        "    sns.kdeplot(X_train['MedValue'])\n",
        "\n",
        "    plt.subplot(122)\n",
        "    plt.title(title)\n",
        "    sns.kdeplot(X_scaled['HouseAge'])\n",
        "    sns.kdeplot(X_scaled['MedInc'])\n",
        "    sns.kdeplot(X_scaled['MedValue'])\n",
        "\n",
        "show_plots(X_train_scaled1, 'Variable distribution after standardization')"
      ]
    },
    {
      "cell_type": "markdown",
      "metadata": {
        "id": "bpafe5uUaIry"
      },
      "source": [
        "The graph clearly shows the mean of the variables centered at 0. However the distribution of the variables isn't changed. The variable distribution after standardization might look different, but its only because the scale has been changed. If interested check the distribution of the variables using ```sns.displot()``` method."
      ]
    },
    {
      "cell_type": "markdown",
      "metadata": {
        "id": "ZJpzH8gyaIrz"
      },
      "source": [
        "## Min-Max Scaling\n",
        "$$\n",
        "X_\\text{minmax} = \\frac{\\mathbf{x} - \\min{(\\mathbf{x})}}{\\max{(\\mathbf{x})} - \\min{(\\mathbf{x})}}\n",
        "$$\n",
        "\n",
        "The term normalization creates ambiguity in the data science field. It is preferred to this scaling as Min-max scaling.\n",
        "\n",
        "The value of the variable at first is subtracted by minimum value then divided by the difference between maximum and minimum. Min-Max scaling works well for non-gaussian distribution with a small standard deviation.\n",
        "\n",
        "### Properties\n",
        "Min-Max scaling applies following modification on the independent variable:\n",
        "- Limits the range of scaled variable between 0 and 1.\n",
        "- Preserves the outlier of the dataset.\n",
        "- May transform the shape of the variable distribution.\n",
        "- Mean and variance varies per variable. (No constraint)\n",
        "\n",
        "Min-Max scaling is profoundly affected by outliers. Outlier's presence results in the minimum or maximum value being those outliers. As a result, most of the non-outliers of the variable gets squeezed into a small range of values after min-max scaling. This is why outlier detection and removal is a must in min-max scaling.\n",
        "\n",
        "### Demo\n",
        "Conducting min-max scaling using NumPy package. Calculation of minimum and maximum value is done using ```np.min()``` and ```np.max()``` methods. The minmax scaling is conducted as per the formula."
      ]
    },
    {
      "cell_type": "code",
      "execution_count": null,
      "metadata": {
        "id": "BO0dT41OaIr0"
      },
      "outputs": [],
      "source": [
        "# Using numpy and pandas\n",
        "house_data_scaled = house_data.copy() #copying the dataframe\n",
        "\n",
        "#Subtracting the min and dividing by difference of max and min\n",
        "max_df = np.max(house_data_scaled, axis=0) # Computing the variable wise maximum value\n",
        "min_df = np.min(house_data_scaled, axis=0) # Computing the variable wise minimum value\n",
        "house_data_scaled = (house_data_scaled-min_df)/(max_df-min_df) #MinMax scaling"
      ]
    },
    {
      "cell_type": "markdown",
      "metadata": {
        "id": "gqQlpadvaIr4"
      },
      "source": [
        "The description of the scaled dataframe displays the minimum and maximum value restricted between range 0 and 1. However, mean and standard deviation of the variables vary."
      ]
    },
    {
      "cell_type": "code",
      "execution_count": null,
      "metadata": {
        "id": "XJ6b6vxeaIr5",
        "outputId": "8a96ae91-2c30-48db-bcc8-b38d19bdb80a"
      },
      "outputs": [
        {
          "data": {
            "text/html": [
              "<div>\n",
              "<style scoped>\n",
              "    .dataframe tbody tr th:only-of-type {\n",
              "        vertical-align: middle;\n",
              "    }\n",
              "\n",
              "    .dataframe tbody tr th {\n",
              "        vertical-align: top;\n",
              "    }\n",
              "\n",
              "    .dataframe thead th {\n",
              "        text-align: right;\n",
              "    }\n",
              "</style>\n",
              "<table border=\"1\" class=\"dataframe\">\n",
              "  <thead>\n",
              "    <tr style=\"text-align: right;\">\n",
              "      <th></th>\n",
              "      <th>MedInc</th>\n",
              "      <th>HouseAge</th>\n",
              "      <th>AveRooms</th>\n",
              "      <th>AveBedrms</th>\n",
              "      <th>Population</th>\n",
              "      <th>AveOccup</th>\n",
              "      <th>Latitude</th>\n",
              "      <th>Longitude</th>\n",
              "      <th>MedValue</th>\n",
              "    </tr>\n",
              "  </thead>\n",
              "  <tbody>\n",
              "    <tr>\n",
              "      <th>count</th>\n",
              "      <td>20640.0</td>\n",
              "      <td>20640.0</td>\n",
              "      <td>20640.0</td>\n",
              "      <td>20640.0</td>\n",
              "      <td>20640.0</td>\n",
              "      <td>20640.0</td>\n",
              "      <td>20640.0</td>\n",
              "      <td>20640.0</td>\n",
              "      <td>20640.0</td>\n",
              "    </tr>\n",
              "    <tr>\n",
              "      <th>mean</th>\n",
              "      <td>0.2</td>\n",
              "      <td>0.5</td>\n",
              "      <td>0.0</td>\n",
              "      <td>0.0</td>\n",
              "      <td>0.0</td>\n",
              "      <td>0.0</td>\n",
              "      <td>0.3</td>\n",
              "      <td>0.5</td>\n",
              "      <td>0.4</td>\n",
              "    </tr>\n",
              "    <tr>\n",
              "      <th>std</th>\n",
              "      <td>0.1</td>\n",
              "      <td>0.2</td>\n",
              "      <td>0.0</td>\n",
              "      <td>0.0</td>\n",
              "      <td>0.0</td>\n",
              "      <td>0.0</td>\n",
              "      <td>0.2</td>\n",
              "      <td>0.2</td>\n",
              "      <td>0.2</td>\n",
              "    </tr>\n",
              "    <tr>\n",
              "      <th>min</th>\n",
              "      <td>0.0</td>\n",
              "      <td>0.0</td>\n",
              "      <td>0.0</td>\n",
              "      <td>0.0</td>\n",
              "      <td>0.0</td>\n",
              "      <td>0.0</td>\n",
              "      <td>0.0</td>\n",
              "      <td>0.0</td>\n",
              "      <td>0.0</td>\n",
              "    </tr>\n",
              "    <tr>\n",
              "      <th>25%</th>\n",
              "      <td>0.1</td>\n",
              "      <td>0.3</td>\n",
              "      <td>0.0</td>\n",
              "      <td>0.0</td>\n",
              "      <td>0.0</td>\n",
              "      <td>0.0</td>\n",
              "      <td>0.1</td>\n",
              "      <td>0.3</td>\n",
              "      <td>0.2</td>\n",
              "    </tr>\n",
              "    <tr>\n",
              "      <th>50%</th>\n",
              "      <td>0.2</td>\n",
              "      <td>0.5</td>\n",
              "      <td>0.0</td>\n",
              "      <td>0.0</td>\n",
              "      <td>0.0</td>\n",
              "      <td>0.0</td>\n",
              "      <td>0.2</td>\n",
              "      <td>0.6</td>\n",
              "      <td>0.3</td>\n",
              "    </tr>\n",
              "    <tr>\n",
              "      <th>75%</th>\n",
              "      <td>0.3</td>\n",
              "      <td>0.7</td>\n",
              "      <td>0.0</td>\n",
              "      <td>0.0</td>\n",
              "      <td>0.0</td>\n",
              "      <td>0.0</td>\n",
              "      <td>0.5</td>\n",
              "      <td>0.6</td>\n",
              "      <td>0.5</td>\n",
              "    </tr>\n",
              "    <tr>\n",
              "      <th>max</th>\n",
              "      <td>1.0</td>\n",
              "      <td>1.0</td>\n",
              "      <td>1.0</td>\n",
              "      <td>1.0</td>\n",
              "      <td>1.0</td>\n",
              "      <td>1.0</td>\n",
              "      <td>1.0</td>\n",
              "      <td>1.0</td>\n",
              "      <td>1.0</td>\n",
              "    </tr>\n",
              "  </tbody>\n",
              "</table>\n",
              "</div>"
            ],
            "text/plain": [
              "        MedInc  HouseAge  AveRooms  AveBedrms  Population  AveOccup  Latitude  \\\n",
              "count  20640.0   20640.0   20640.0    20640.0     20640.0   20640.0   20640.0   \n",
              "mean       0.2       0.5       0.0        0.0         0.0       0.0       0.3   \n",
              "std        0.1       0.2       0.0        0.0         0.0       0.0       0.2   \n",
              "min        0.0       0.0       0.0        0.0         0.0       0.0       0.0   \n",
              "25%        0.1       0.3       0.0        0.0         0.0       0.0       0.1   \n",
              "50%        0.2       0.5       0.0        0.0         0.0       0.0       0.2   \n",
              "75%        0.3       0.7       0.0        0.0         0.0       0.0       0.5   \n",
              "max        1.0       1.0       1.0        1.0         1.0       1.0       1.0   \n",
              "\n",
              "       Longitude  MedValue  \n",
              "count    20640.0   20640.0  \n",
              "mean         0.5       0.4  \n",
              "std          0.2       0.2  \n",
              "min          0.0       0.0  \n",
              "25%          0.3       0.2  \n",
              "50%          0.6       0.3  \n",
              "75%          0.6       0.5  \n",
              "max          1.0       1.0  "
            ]
          },
          "execution_count": 40,
          "metadata": {
            "tags": []
          },
          "output_type": "execute_result"
        }
      ],
      "source": [
        "np.round(house_data_scaled.describe(), 1)"
      ]
    },
    {
      "cell_type": "markdown",
      "metadata": {
        "id": "z5Rr7N_CaIr9"
      },
      "source": [
        "In Scikit-learn, ```MinMaxScaler``` object performs the minmax scaling. The methodology is same as ```StandardScaler``` and output is numpy array which is converted to Pandas Dataframe. Scikit provides attribute ```feature_range``` that takes tuple as input which defines the minimum and maximum limit of values of the variables."
      ]
    },
    {
      "cell_type": "code",
      "execution_count": null,
      "metadata": {
        "id": "h_I3TwrMaIr9"
      },
      "outputs": [],
      "source": [
        "# importing the MinMaxScaler\n",
        "from sklearn.preprocessing import MinMaxScaler\n",
        "minmax_scaler = MinMaxScaler(feature_range=(0,1))\n"
      ]
    },
    {
      "cell_type": "code",
      "execution_count": null,
      "metadata": {
        "id": "Yn2ikWd-aIsA"
      },
      "outputs": [],
      "source": [
        "# Fit the dataset\n",
        "minmax_scaler.fit(X_train)\n",
        "# Scale the dataset\n",
        "X_train_scaled = minmax_scaler.transform(X_train) # Transform to scaled version.\n",
        "\n",
        "X_train_scaled2 = pd.DataFrame(data=X_train_scaled, columns=X_train.columns)"
      ]
    },
    {
      "cell_type": "code",
      "execution_count": null,
      "metadata": {
        "id": "s-xKEL4RaIsD",
        "outputId": "ed875ccb-41e7-441e-eaab-c369bd1884d9",
        "scrolled": true
      },
      "outputs": [
        {
          "data": {
            "text/html": [
              "<div>\n",
              "<style scoped>\n",
              "    .dataframe tbody tr th:only-of-type {\n",
              "        vertical-align: middle;\n",
              "    }\n",
              "\n",
              "    .dataframe tbody tr th {\n",
              "        vertical-align: top;\n",
              "    }\n",
              "\n",
              "    .dataframe thead th {\n",
              "        text-align: right;\n",
              "    }\n",
              "</style>\n",
              "<table border=\"1\" class=\"dataframe\">\n",
              "  <thead>\n",
              "    <tr style=\"text-align: right;\">\n",
              "      <th></th>\n",
              "      <th>MedInc</th>\n",
              "      <th>HouseAge</th>\n",
              "      <th>AveRooms</th>\n",
              "      <th>AveBedrms</th>\n",
              "      <th>Population</th>\n",
              "      <th>AveOccup</th>\n",
              "      <th>Latitude</th>\n",
              "      <th>Longitude</th>\n",
              "      <th>MedValue</th>\n",
              "    </tr>\n",
              "  </thead>\n",
              "  <tbody>\n",
              "    <tr>\n",
              "      <th>count</th>\n",
              "      <td>14448.0</td>\n",
              "      <td>14448.0</td>\n",
              "      <td>14448.0</td>\n",
              "      <td>14448.0</td>\n",
              "      <td>14448.0</td>\n",
              "      <td>14448.0</td>\n",
              "      <td>14448.0</td>\n",
              "      <td>14448.0</td>\n",
              "      <td>14448.0</td>\n",
              "    </tr>\n",
              "    <tr>\n",
              "      <th>mean</th>\n",
              "      <td>0.2</td>\n",
              "      <td>0.5</td>\n",
              "      <td>0.0</td>\n",
              "      <td>0.0</td>\n",
              "      <td>0.0</td>\n",
              "      <td>0.0</td>\n",
              "      <td>0.3</td>\n",
              "      <td>0.5</td>\n",
              "      <td>0.4</td>\n",
              "    </tr>\n",
              "    <tr>\n",
              "      <th>std</th>\n",
              "      <td>0.1</td>\n",
              "      <td>0.2</td>\n",
              "      <td>0.0</td>\n",
              "      <td>0.0</td>\n",
              "      <td>0.0</td>\n",
              "      <td>0.0</td>\n",
              "      <td>0.2</td>\n",
              "      <td>0.2</td>\n",
              "      <td>0.2</td>\n",
              "    </tr>\n",
              "    <tr>\n",
              "      <th>min</th>\n",
              "      <td>0.0</td>\n",
              "      <td>0.0</td>\n",
              "      <td>0.0</td>\n",
              "      <td>0.0</td>\n",
              "      <td>0.0</td>\n",
              "      <td>0.0</td>\n",
              "      <td>0.0</td>\n",
              "      <td>0.0</td>\n",
              "      <td>0.0</td>\n",
              "    </tr>\n",
              "    <tr>\n",
              "      <th>25%</th>\n",
              "      <td>0.1</td>\n",
              "      <td>0.3</td>\n",
              "      <td>0.0</td>\n",
              "      <td>0.0</td>\n",
              "      <td>0.0</td>\n",
              "      <td>0.0</td>\n",
              "      <td>0.1</td>\n",
              "      <td>0.3</td>\n",
              "      <td>0.2</td>\n",
              "    </tr>\n",
              "    <tr>\n",
              "      <th>50%</th>\n",
              "      <td>0.2</td>\n",
              "      <td>0.5</td>\n",
              "      <td>0.0</td>\n",
              "      <td>0.0</td>\n",
              "      <td>0.0</td>\n",
              "      <td>0.0</td>\n",
              "      <td>0.2</td>\n",
              "      <td>0.6</td>\n",
              "      <td>0.3</td>\n",
              "    </tr>\n",
              "    <tr>\n",
              "      <th>75%</th>\n",
              "      <td>0.3</td>\n",
              "      <td>0.7</td>\n",
              "      <td>0.0</td>\n",
              "      <td>0.0</td>\n",
              "      <td>0.0</td>\n",
              "      <td>0.0</td>\n",
              "      <td>0.6</td>\n",
              "      <td>0.6</td>\n",
              "      <td>0.5</td>\n",
              "    </tr>\n",
              "    <tr>\n",
              "      <th>max</th>\n",
              "      <td>1.0</td>\n",
              "      <td>1.0</td>\n",
              "      <td>1.0</td>\n",
              "      <td>1.0</td>\n",
              "      <td>1.0</td>\n",
              "      <td>1.0</td>\n",
              "      <td>1.0</td>\n",
              "      <td>1.0</td>\n",
              "      <td>1.0</td>\n",
              "    </tr>\n",
              "  </tbody>\n",
              "</table>\n",
              "</div>"
            ],
            "text/plain": [
              "        MedInc  HouseAge  AveRooms  AveBedrms  Population  AveOccup  Latitude  \\\n",
              "count  14448.0   14448.0   14448.0    14448.0     14448.0   14448.0   14448.0   \n",
              "mean       0.2       0.5       0.0        0.0         0.0       0.0       0.3   \n",
              "std        0.1       0.2       0.0        0.0         0.0       0.0       0.2   \n",
              "min        0.0       0.0       0.0        0.0         0.0       0.0       0.0   \n",
              "25%        0.1       0.3       0.0        0.0         0.0       0.0       0.1   \n",
              "50%        0.2       0.5       0.0        0.0         0.0       0.0       0.2   \n",
              "75%        0.3       0.7       0.0        0.0         0.0       0.0       0.6   \n",
              "max        1.0       1.0       1.0        1.0         1.0       1.0       1.0   \n",
              "\n",
              "       Longitude  MedValue  \n",
              "count    14448.0   14448.0  \n",
              "mean         0.5       0.4  \n",
              "std          0.2       0.2  \n",
              "min          0.0       0.0  \n",
              "25%          0.3       0.2  \n",
              "50%          0.6       0.3  \n",
              "75%          0.6       0.5  \n",
              "max          1.0       1.0  "
            ]
          },
          "execution_count": 43,
          "metadata": {
            "tags": []
          },
          "output_type": "execute_result"
        }
      ],
      "source": [
        "np.round(X_train_scaled2.describe(), 1)"
      ]
    },
    {
      "cell_type": "markdown",
      "metadata": {
        "id": "rUJs6XClaIsI"
      },
      "source": [
        "Looking at the plot, you can clearly see the the values of the variable limited between range [0,1]. The mean of the variable is not centered at zero, and the variance changes for individual variables."
      ]
    },
    {
      "cell_type": "code",
      "execution_count": null,
      "metadata": {
        "id": "QVxDYSHQaIsJ",
        "outputId": "4bf45b5f-cc12-4501-a999-ae0d031a5c43"
      },
      "outputs": [
        {
          "data": {
            "image/png": "[encoded data removed]",
            "text/plain": [
              "<Figure size 864x360 with 2 Axes>"
            ]
          },
          "metadata": {
            "tags": []
          },
          "output_type": "display_data"
        }
      ],
      "source": [
        "show_plots(X_train_scaled2,'Variable distribution after MinMax scaling')"
      ]
    },
    {
      "cell_type": "markdown",
      "metadata": {
        "id": "bXbk0y5haIsP"
      },
      "source": [
        "## Robust scaling\n",
        "Robust scaling centers the variable at the median and scales the value according to the inter quartiles.Robust scaling transforms the independent variable as follows:\n",
        "\n",
        "$$\n",
        "X_\\text{robust} = \\frac{\\mathbf{x} - \\text{Median}(\\mathbf{x})}{75^{\\text{th}} \\text{ Percentile}(\\mathbf{x}) - 25^{\\text{th}} \\text{ Percentile}(\\mathbf{x})}\n",
        "$$\n",
        "\n",
        "The denominator in the formula is known as Inter-Quartile Range(IQR).\n",
        "\n",
        "The name \"Robust\" refers that this scaling technique is robust to the outliers. Don't get confused; the term robust doesn't mean \"immune\". The outliers are still present in the scaled variable, but values other than the outliers are less affected by the outlier. Outliers removal are a completely different topic that you are learning in later units.\n",
        "\n",
        "### Properties\n",
        "Changes are as following after application of robust scaling:\n",
        "- The variable distribution is centered at 0 with respect to the median.\n",
        "- Outliers are handled more effectively, although they are preserved.\n",
        "\n",
        "###  Demo\n",
        "For the NumPy implementation of robust scaling, ```np.median()``` and ```np.quantile()``` methods outputs the median and quantiles(By default, calculates the percentile) of the variable. . The \"q\" parameter in ```np.quantile()``` denotes the $i^{th}$ percentile, which should be between 0 and 1. For example, 0.2 represents 20th percentile."
      ]
    },
    {
      "cell_type": "code",
      "execution_count": null,
      "metadata": {
        "id": "HygK5wV-aIsP"
      },
      "outputs": [],
      "source": [
        "# Using numpy and pandas\n",
        "house_data_scaled = house_data.copy() #copying the dataframe\n",
        "\n",
        "#Subtracting the median and dividing by IQR\n",
        "median_df = np.median(house_data_scaled, axis=0) # Computing the variable wise median\n",
        "first_quartile_df = np.quantile(house_data_scaled, q=0.25, axis=0) # Computing the variable wise 25th percentile\n",
        "third_quartile_df = np.quantile(house_data_scaled, q=0.75, axis=0) # Computing the variable wise 75th percentile\n",
        "house_data_scaled = (house_data_scaled-median_df)/(third_quartile_df-first_quartile_df) #Robust scaling."
      ]
    },
    {
      "cell_type": "markdown",
      "metadata": {
        "id": "tvGEnWeqaIsT"
      },
      "source": [
        "Describing the dataset reveals that neither mean nor variance is set to 0 and 1. But checking the median value reveals that it has been set to 0."
      ]
    },
    {
      "cell_type": "code",
      "execution_count": null,
      "metadata": {
        "id": "xKEHs0IRaIsT",
        "outputId": "ec679bd6-447f-4396-d139-c4628264475d",
        "scrolled": true
      },
      "outputs": [
        {
          "name": "stdout",
          "output_type": "stream",
          "text": [
            "MedInc        0.0\n",
            "HouseAge      0.0\n",
            "AveRooms      0.0\n",
            "AveBedrms     0.0\n",
            "Population    0.0\n",
            "AveOccup      0.0\n",
            "Latitude      0.0\n",
            "Longitude     0.0\n",
            "MedValue      0.0\n",
            "dtype: float64\n"
          ]
        },
        {
          "data": {
            "text/html": [
              "<div>\n",
              "<style scoped>\n",
              "    .dataframe tbody tr th:only-of-type {\n",
              "        vertical-align: middle;\n",
              "    }\n",
              "\n",
              "    .dataframe tbody tr th {\n",
              "        vertical-align: top;\n",
              "    }\n",
              "\n",
              "    .dataframe thead th {\n",
              "        text-align: right;\n",
              "    }\n",
              "</style>\n",
              "<table border=\"1\" class=\"dataframe\">\n",
              "  <thead>\n",
              "    <tr style=\"text-align: right;\">\n",
              "      <th></th>\n",
              "      <th>MedInc</th>\n",
              "      <th>HouseAge</th>\n",
              "      <th>AveRooms</th>\n",
              "      <th>AveBedrms</th>\n",
              "      <th>Population</th>\n",
              "      <th>AveOccup</th>\n",
              "      <th>Latitude</th>\n",
              "      <th>Longitude</th>\n",
              "      <th>MedValue</th>\n",
              "    </tr>\n",
              "  </thead>\n",
              "  <tbody>\n",
              "    <tr>\n",
              "      <th>count</th>\n",
              "      <td>20640.0</td>\n",
              "      <td>20640.0</td>\n",
              "      <td>20640.0</td>\n",
              "      <td>20640.0</td>\n",
              "      <td>20640.0</td>\n",
              "      <td>20640.0</td>\n",
              "      <td>20640.0</td>\n",
              "      <td>20640.0</td>\n",
              "      <td>20640.0</td>\n",
              "    </tr>\n",
              "    <tr>\n",
              "      <th>mean</th>\n",
              "      <td>0.2</td>\n",
              "      <td>-0.0</td>\n",
              "      <td>0.1</td>\n",
              "      <td>0.5</td>\n",
              "      <td>0.3</td>\n",
              "      <td>0.3</td>\n",
              "      <td>0.4</td>\n",
              "      <td>-0.3</td>\n",
              "      <td>0.2</td>\n",
              "    </tr>\n",
              "    <tr>\n",
              "      <th>std</th>\n",
              "      <td>0.9</td>\n",
              "      <td>0.7</td>\n",
              "      <td>1.5</td>\n",
              "      <td>5.1</td>\n",
              "      <td>1.2</td>\n",
              "      <td>12.2</td>\n",
              "      <td>0.6</td>\n",
              "      <td>0.5</td>\n",
              "      <td>0.8</td>\n",
              "    </tr>\n",
              "    <tr>\n",
              "      <th>min</th>\n",
              "      <td>-1.4</td>\n",
              "      <td>-1.5</td>\n",
              "      <td>-2.7</td>\n",
              "      <td>-7.7</td>\n",
              "      <td>-1.2</td>\n",
              "      <td>-2.5</td>\n",
              "      <td>-0.5</td>\n",
              "      <td>-1.5</td>\n",
              "      <td>-1.1</td>\n",
              "    </tr>\n",
              "    <tr>\n",
              "      <th>25%</th>\n",
              "      <td>-0.4</td>\n",
              "      <td>-0.6</td>\n",
              "      <td>-0.5</td>\n",
              "      <td>-0.5</td>\n",
              "      <td>-0.4</td>\n",
              "      <td>-0.5</td>\n",
              "      <td>-0.1</td>\n",
              "      <td>-0.9</td>\n",
              "      <td>-0.4</td>\n",
              "    </tr>\n",
              "    <tr>\n",
              "      <th>50%</th>\n",
              "      <td>0.0</td>\n",
              "      <td>0.0</td>\n",
              "      <td>0.0</td>\n",
              "      <td>0.0</td>\n",
              "      <td>0.0</td>\n",
              "      <td>0.0</td>\n",
              "      <td>0.0</td>\n",
              "      <td>0.0</td>\n",
              "      <td>0.0</td>\n",
              "    </tr>\n",
              "    <tr>\n",
              "      <th>75%</th>\n",
              "      <td>0.6</td>\n",
              "      <td>0.4</td>\n",
              "      <td>0.5</td>\n",
              "      <td>0.5</td>\n",
              "      <td>0.6</td>\n",
              "      <td>0.5</td>\n",
              "      <td>0.9</td>\n",
              "      <td>0.1</td>\n",
              "      <td>0.6</td>\n",
              "    </tr>\n",
              "    <tr>\n",
              "      <th>max</th>\n",
              "      <td>5.3</td>\n",
              "      <td>1.2</td>\n",
              "      <td>84.8</td>\n",
              "      <td>353.3</td>\n",
              "      <td>36.8</td>\n",
              "      <td>1455.1</td>\n",
              "      <td>2.0</td>\n",
              "      <td>1.1</td>\n",
              "      <td>2.2</td>\n",
              "    </tr>\n",
              "  </tbody>\n",
              "</table>\n",
              "</div>"
            ],
            "text/plain": [
              "        MedInc  HouseAge  AveRooms  AveBedrms  Population  AveOccup  Latitude  \\\n",
              "count  20640.0   20640.0   20640.0    20640.0     20640.0   20640.0   20640.0   \n",
              "mean       0.2      -0.0       0.1        0.5         0.3       0.3       0.4   \n",
              "std        0.9       0.7       1.5        5.1         1.2      12.2       0.6   \n",
              "min       -1.4      -1.5      -2.7       -7.7        -1.2      -2.5      -0.5   \n",
              "25%       -0.4      -0.6      -0.5       -0.5        -0.4      -0.5      -0.1   \n",
              "50%        0.0       0.0       0.0        0.0         0.0       0.0       0.0   \n",
              "75%        0.6       0.4       0.5        0.5         0.6       0.5       0.9   \n",
              "max        5.3       1.2      84.8      353.3        36.8    1455.1       2.0   \n",
              "\n",
              "       Longitude  MedValue  \n",
              "count    20640.0   20640.0  \n",
              "mean        -0.3       0.2  \n",
              "std          0.5       0.8  \n",
              "min         -1.5      -1.1  \n",
              "25%         -0.9      -0.4  \n",
              "50%          0.0       0.0  \n",
              "75%          0.1       0.6  \n",
              "max          1.1       2.2  "
            ]
          },
          "execution_count": 46,
          "metadata": {
            "tags": []
          },
          "output_type": "execute_result"
        }
      ],
      "source": [
        "print(np.round(house_data_scaled.median(),1))\n",
        "np.round(house_data_scaled.describe(), 1)\n"
      ]
    },
    {
      "cell_type": "markdown",
      "metadata": {
        "id": "L0DpkyZ-aIsW"
      },
      "source": [
        "Scikit-learn provides ```RobustScaler``` object for applyinng robust scaling to the variables. The ```quantile-range``` attribute takes tuple as input. The input contains the quartile values along which scaling is conducted."
      ]
    },
    {
      "cell_type": "code",
      "execution_count": null,
      "metadata": {
        "id": "nVmZ2hUpaIsW"
      },
      "outputs": [],
      "source": [
        "# importing the RobustScaler\n",
        "from sklearn.preprocessing import RobustScaler\n",
        "robust_scaler = RobustScaler()"
      ]
    },
    {
      "cell_type": "code",
      "execution_count": null,
      "metadata": {
        "id": "0LJuQvMzaIsZ"
      },
      "outputs": [],
      "source": [
        "# Fit the dataset\n",
        "robust_scaler.fit(X_train)\n",
        "# Scale the dataset\n",
        "X_train_scaled = robust_scaler.transform(X_train) # Transform to scaled version.\n",
        "\n",
        "X_train_scaled3 = pd.DataFrame(data=X_train_scaled, columns=X_train.columns)"
      ]
    },
    {
      "cell_type": "code",
      "execution_count": null,
      "metadata": {
        "id": "8XtshXPgaIsc",
        "outputId": "8cb78fd6-6013-4f95-fed5-42b95193addd",
        "scrolled": true
      },
      "outputs": [
        {
          "data": {
            "text/html": [
              "<div>\n",
              "<style scoped>\n",
              "    .dataframe tbody tr th:only-of-type {\n",
              "        vertical-align: middle;\n",
              "    }\n",
              "\n",
              "    .dataframe tbody tr th {\n",
              "        vertical-align: top;\n",
              "    }\n",
              "\n",
              "    .dataframe thead th {\n",
              "        text-align: right;\n",
              "    }\n",
              "</style>\n",
              "<table border=\"1\" class=\"dataframe\">\n",
              "  <thead>\n",
              "    <tr style=\"text-align: right;\">\n",
              "      <th></th>\n",
              "      <th>MedInc</th>\n",
              "      <th>HouseAge</th>\n",
              "      <th>AveRooms</th>\n",
              "      <th>AveBedrms</th>\n",
              "      <th>Population</th>\n",
              "      <th>AveOccup</th>\n",
              "      <th>Latitude</th>\n",
              "      <th>Longitude</th>\n",
              "      <th>MedValue</th>\n",
              "    </tr>\n",
              "  </thead>\n",
              "  <tbody>\n",
              "    <tr>\n",
              "      <th>count</th>\n",
              "      <td>14448.0</td>\n",
              "      <td>14448.0</td>\n",
              "      <td>14448.0</td>\n",
              "      <td>14448.0</td>\n",
              "      <td>14448.0</td>\n",
              "      <td>14448.0</td>\n",
              "      <td>14448.0</td>\n",
              "      <td>14448.0</td>\n",
              "      <td>14448.0</td>\n",
              "    </tr>\n",
              "    <tr>\n",
              "      <th>mean</th>\n",
              "      <td>0.2</td>\n",
              "      <td>-0.0</td>\n",
              "      <td>0.1</td>\n",
              "      <td>0.5</td>\n",
              "      <td>0.3</td>\n",
              "      <td>0.4</td>\n",
              "      <td>0.4</td>\n",
              "      <td>-0.3</td>\n",
              "      <td>0.2</td>\n",
              "    </tr>\n",
              "    <tr>\n",
              "      <th>std</th>\n",
              "      <td>0.9</td>\n",
              "      <td>0.7</td>\n",
              "      <td>1.5</td>\n",
              "      <td>4.8</td>\n",
              "      <td>1.2</td>\n",
              "      <td>14.6</td>\n",
              "      <td>0.6</td>\n",
              "      <td>0.5</td>\n",
              "      <td>0.8</td>\n",
              "    </tr>\n",
              "    <tr>\n",
              "      <th>min</th>\n",
              "      <td>-1.4</td>\n",
              "      <td>-1.5</td>\n",
              "      <td>-2.7</td>\n",
              "      <td>-7.7</td>\n",
              "      <td>-1.2</td>\n",
              "      <td>-2.5</td>\n",
              "      <td>-0.5</td>\n",
              "      <td>-1.5</td>\n",
              "      <td>-1.1</td>\n",
              "    </tr>\n",
              "    <tr>\n",
              "      <th>25%</th>\n",
              "      <td>-0.4</td>\n",
              "      <td>-0.6</td>\n",
              "      <td>-0.5</td>\n",
              "      <td>-0.5</td>\n",
              "      <td>-0.4</td>\n",
              "      <td>-0.5</td>\n",
              "      <td>-0.1</td>\n",
              "      <td>-0.9</td>\n",
              "      <td>-0.4</td>\n",
              "    </tr>\n",
              "    <tr>\n",
              "      <th>50%</th>\n",
              "      <td>0.0</td>\n",
              "      <td>0.0</td>\n",
              "      <td>0.0</td>\n",
              "      <td>-0.0</td>\n",
              "      <td>0.0</td>\n",
              "      <td>0.0</td>\n",
              "      <td>0.0</td>\n",
              "      <td>0.0</td>\n",
              "      <td>0.0</td>\n",
              "    </tr>\n",
              "    <tr>\n",
              "      <th>75%</th>\n",
              "      <td>0.6</td>\n",
              "      <td>0.4</td>\n",
              "      <td>0.5</td>\n",
              "      <td>0.5</td>\n",
              "      <td>0.6</td>\n",
              "      <td>0.5</td>\n",
              "      <td>0.9</td>\n",
              "      <td>0.1</td>\n",
              "      <td>0.6</td>\n",
              "    </tr>\n",
              "    <tr>\n",
              "      <th>max</th>\n",
              "      <td>5.2</td>\n",
              "      <td>1.2</td>\n",
              "      <td>84.8</td>\n",
              "      <td>262.8</td>\n",
              "      <td>36.9</td>\n",
              "      <td>1461.6</td>\n",
              "      <td>2.0</td>\n",
              "      <td>1.1</td>\n",
              "      <td>2.2</td>\n",
              "    </tr>\n",
              "  </tbody>\n",
              "</table>\n",
              "</div>"
            ],
            "text/plain": [
              "        MedInc  HouseAge  AveRooms  AveBedrms  Population  AveOccup  Latitude  \\\n",
              "count  14448.0   14448.0   14448.0    14448.0     14448.0   14448.0   14448.0   \n",
              "mean       0.2      -0.0       0.1        0.5         0.3       0.4       0.4   \n",
              "std        0.9       0.7       1.5        4.8         1.2      14.6       0.6   \n",
              "min       -1.4      -1.5      -2.7       -7.7        -1.2      -2.5      -0.5   \n",
              "25%       -0.4      -0.6      -0.5       -0.5        -0.4      -0.5      -0.1   \n",
              "50%        0.0       0.0       0.0       -0.0         0.0       0.0       0.0   \n",
              "75%        0.6       0.4       0.5        0.5         0.6       0.5       0.9   \n",
              "max        5.2       1.2      84.8      262.8        36.9    1461.6       2.0   \n",
              "\n",
              "       Longitude  MedValue  \n",
              "count    14448.0   14448.0  \n",
              "mean        -0.3       0.2  \n",
              "std          0.5       0.8  \n",
              "min         -1.5      -1.1  \n",
              "25%         -0.9      -0.4  \n",
              "50%          0.0       0.0  \n",
              "75%          0.1       0.6  \n",
              "max          1.1       2.2  "
            ]
          },
          "execution_count": 84,
          "metadata": {
            "tags": []
          },
          "output_type": "execute_result"
        }
      ],
      "source": [
        "np.round(X_train_scaled3.describe(), 1)"
      ]
    },
    {
      "cell_type": "markdown",
      "metadata": {
        "id": "_spXtuBPaIsf"
      },
      "source": [
        "The median of the distributions are centered at zero, but other parameters varies with the each variable. However, the values do get squeezed into a smaller range."
      ]
    },
    {
      "cell_type": "code",
      "execution_count": null,
      "metadata": {
        "id": "ABwjN8CgaIsf",
        "outputId": "561d49aa-2f5a-4ed7-a209-e3dcb40d528d"
      },
      "outputs": [
        {
          "data": {
            "image/png": "[encoded data removed]",
            "text/plain": [
              "<Figure size 864x360 with 2 Axes>"
            ]
          },
          "metadata": {
            "tags": []
          },
          "output_type": "display_data"
        }
      ],
      "source": [
        "show_plots(X_train_scaled3, 'Variable distribution after Robust scaling')"
      ]
    },
    {
      "cell_type": "markdown",
      "metadata": {
        "id": "ZrRYb_RBaIsj"
      },
      "source": [
        "## Maximum absolute scaling\n",
        "As the name suggests maximum absolute scaling, AKA MaxAbs scaling, performs scaling by dividing the value by the maximum value of that variable. The formula of max-absolute scaling is as:\n",
        "\n",
        "$$\n",
        "X_\\text{MaxAbs} = \\frac{\\mathbf{x}}{\\max{(\\mathbf{x})}}\n",
        "$$\n",
        "\n",
        "### Properties\n",
        "Maximum absolute scaling produces the following outcome for the variable:\n",
        "\n",
        "- The value of the transformed variable is limited to 1.\n",
        "- Variable values don't get centered at the mean or scaled using standard deviation.\n",
        "- Transformed variables vary less than min-max scaling's transformed variable(if centerned along mean).\n",
        "\n",
        "Scikit-learn package suggests taking sparse matrices as input tomaximum absolute scaling. Sparse matrices are matrices where most of the elements are zero. Before feeding the variable into maximum absolute scaling it is useful to center the data at 0 by subtracting the mean of that variable.\n",
        "\n",
        "### Demo\n",
        "The max dataframe from the MinMax scaling is used to compute the MaxAbs scaling using NumPy."
      ]
    },
    {
      "cell_type": "code",
      "execution_count": null,
      "metadata": {
        "id": "42Ltp5HWaIsk"
      },
      "outputs": [],
      "source": [
        "# Using numpy and pandas\n",
        "house_data_scaled = house_data.copy() #copying the dataframe\n",
        "\n",
        "#dividing by maximum value\n",
        "house_data_scaled = house_data_scaled/max_df #MaxAbs scaling."
      ]
    },
    {
      "cell_type": "markdown",
      "metadata": {
        "id": "uy87OCqiaIsp"
      },
      "source": [
        "The maximum values of the variables is limited to 1. The mean and standard deviation varies per variable."
      ]
    },
    {
      "cell_type": "code",
      "execution_count": null,
      "metadata": {
        "id": "MUCcie5EaIsp",
        "outputId": "4f9b6944-173f-4232-e993-3808dac198db",
        "scrolled": false
      },
      "outputs": [
        {
          "data": {
            "text/html": [
              "<div>\n",
              "<style scoped>\n",
              "    .dataframe tbody tr th:only-of-type {\n",
              "        vertical-align: middle;\n",
              "    }\n",
              "\n",
              "    .dataframe tbody tr th {\n",
              "        vertical-align: top;\n",
              "    }\n",
              "\n",
              "    .dataframe thead th {\n",
              "        text-align: right;\n",
              "    }\n",
              "</style>\n",
              "<table border=\"1\" class=\"dataframe\">\n",
              "  <thead>\n",
              "    <tr style=\"text-align: right;\">\n",
              "      <th></th>\n",
              "      <th>MedInc</th>\n",
              "      <th>HouseAge</th>\n",
              "      <th>AveRooms</th>\n",
              "      <th>AveBedrms</th>\n",
              "      <th>Population</th>\n",
              "      <th>AveOccup</th>\n",
              "      <th>Latitude</th>\n",
              "      <th>Longitude</th>\n",
              "      <th>MedValue</th>\n",
              "    </tr>\n",
              "  </thead>\n",
              "  <tbody>\n",
              "    <tr>\n",
              "      <th>count</th>\n",
              "      <td>20640.0</td>\n",
              "      <td>20640.0</td>\n",
              "      <td>20640.0</td>\n",
              "      <td>20640.0</td>\n",
              "      <td>20640.0</td>\n",
              "      <td>20640.0</td>\n",
              "      <td>20640.0</td>\n",
              "      <td>20640.0</td>\n",
              "      <td>20640.0</td>\n",
              "    </tr>\n",
              "    <tr>\n",
              "      <th>mean</th>\n",
              "      <td>0.3</td>\n",
              "      <td>0.6</td>\n",
              "      <td>0.0</td>\n",
              "      <td>0.0</td>\n",
              "      <td>0.0</td>\n",
              "      <td>0.0</td>\n",
              "      <td>0.8</td>\n",
              "      <td>1.0</td>\n",
              "      <td>0.4</td>\n",
              "    </tr>\n",
              "    <tr>\n",
              "      <th>std</th>\n",
              "      <td>0.1</td>\n",
              "      <td>0.2</td>\n",
              "      <td>0.0</td>\n",
              "      <td>0.0</td>\n",
              "      <td>0.0</td>\n",
              "      <td>0.0</td>\n",
              "      <td>0.1</td>\n",
              "      <td>0.0</td>\n",
              "      <td>0.2</td>\n",
              "    </tr>\n",
              "    <tr>\n",
              "      <th>min</th>\n",
              "      <td>0.0</td>\n",
              "      <td>0.0</td>\n",
              "      <td>0.0</td>\n",
              "      <td>0.0</td>\n",
              "      <td>0.0</td>\n",
              "      <td>0.0</td>\n",
              "      <td>0.8</td>\n",
              "      <td>1.0</td>\n",
              "      <td>0.0</td>\n",
              "    </tr>\n",
              "    <tr>\n",
              "      <th>25%</th>\n",
              "      <td>0.2</td>\n",
              "      <td>0.3</td>\n",
              "      <td>0.0</td>\n",
              "      <td>0.0</td>\n",
              "      <td>0.0</td>\n",
              "      <td>0.0</td>\n",
              "      <td>0.8</td>\n",
              "      <td>1.0</td>\n",
              "      <td>0.2</td>\n",
              "    </tr>\n",
              "    <tr>\n",
              "      <th>50%</th>\n",
              "      <td>0.2</td>\n",
              "      <td>0.6</td>\n",
              "      <td>0.0</td>\n",
              "      <td>0.0</td>\n",
              "      <td>0.0</td>\n",
              "      <td>0.0</td>\n",
              "      <td>0.8</td>\n",
              "      <td>1.0</td>\n",
              "      <td>0.4</td>\n",
              "    </tr>\n",
              "    <tr>\n",
              "      <th>75%</th>\n",
              "      <td>0.3</td>\n",
              "      <td>0.7</td>\n",
              "      <td>0.0</td>\n",
              "      <td>0.0</td>\n",
              "      <td>0.0</td>\n",
              "      <td>0.0</td>\n",
              "      <td>0.9</td>\n",
              "      <td>1.1</td>\n",
              "      <td>0.5</td>\n",
              "    </tr>\n",
              "    <tr>\n",
              "      <th>max</th>\n",
              "      <td>1.0</td>\n",
              "      <td>1.0</td>\n",
              "      <td>1.0</td>\n",
              "      <td>1.0</td>\n",
              "      <td>1.0</td>\n",
              "      <td>1.0</td>\n",
              "      <td>1.0</td>\n",
              "      <td>1.1</td>\n",
              "      <td>1.0</td>\n",
              "    </tr>\n",
              "  </tbody>\n",
              "</table>\n",
              "</div>"
            ],
            "text/plain": [
              "        MedInc  HouseAge  AveRooms  AveBedrms  Population  AveOccup  Latitude  \\\n",
              "count  20640.0   20640.0   20640.0    20640.0     20640.0   20640.0   20640.0   \n",
              "mean       0.3       0.6       0.0        0.0         0.0       0.0       0.8   \n",
              "std        0.1       0.2       0.0        0.0         0.0       0.0       0.1   \n",
              "min        0.0       0.0       0.0        0.0         0.0       0.0       0.8   \n",
              "25%        0.2       0.3       0.0        0.0         0.0       0.0       0.8   \n",
              "50%        0.2       0.6       0.0        0.0         0.0       0.0       0.8   \n",
              "75%        0.3       0.7       0.0        0.0         0.0       0.0       0.9   \n",
              "max        1.0       1.0       1.0        1.0         1.0       1.0       1.0   \n",
              "\n",
              "       Longitude  MedValue  \n",
              "count    20640.0   20640.0  \n",
              "mean         1.0       0.4  \n",
              "std          0.0       0.2  \n",
              "min          1.0       0.0  \n",
              "25%          1.0       0.2  \n",
              "50%          1.0       0.4  \n",
              "75%          1.1       0.5  \n",
              "max          1.1       1.0  "
            ]
          },
          "execution_count": 52,
          "metadata": {
            "tags": []
          },
          "output_type": "execute_result"
        }
      ],
      "source": [
        "np.round(house_data_scaled.describe(), 1)"
      ]
    },
    {
      "cell_type": "markdown",
      "metadata": {
        "id": "nitR2V3maIsu"
      },
      "source": [
        "The ```MaxAbsScaler``` object is used for maximum absolution scaling of the variable."
      ]
    },
    {
      "cell_type": "code",
      "execution_count": null,
      "metadata": {
        "id": "-HTN3iGkaIsu"
      },
      "outputs": [],
      "source": [
        "# importing the RobustScaler\n",
        "from sklearn.preprocessing import MaxAbsScaler\n",
        "maxabs_scaler = MaxAbsScaler()"
      ]
    },
    {
      "cell_type": "code",
      "execution_count": null,
      "metadata": {
        "id": "EbyIH4pIaIsz"
      },
      "outputs": [],
      "source": [
        "# Fit the dataset\n",
        "maxabs_scaler.fit(X_train)\n",
        "# Scale the dataset\n",
        "X_train_scaled = maxabs_scaler.transform(X_train) # Transform to scaled version.\n",
        "\n",
        "X_train_scaled4 = pd.DataFrame(data=X_train_scaled, columns=X_train.columns)"
      ]
    },
    {
      "cell_type": "code",
      "execution_count": null,
      "metadata": {
        "id": "7oZBbN4haIs3",
        "outputId": "ad8b85a8-4377-4593-afde-33713f4f1466",
        "scrolled": true
      },
      "outputs": [
        {
          "data": {
            "text/html": [
              "<div>\n",
              "<style scoped>\n",
              "    .dataframe tbody tr th:only-of-type {\n",
              "        vertical-align: middle;\n",
              "    }\n",
              "\n",
              "    .dataframe tbody tr th {\n",
              "        vertical-align: top;\n",
              "    }\n",
              "\n",
              "    .dataframe thead th {\n",
              "        text-align: right;\n",
              "    }\n",
              "</style>\n",
              "<table border=\"1\" class=\"dataframe\">\n",
              "  <thead>\n",
              "    <tr style=\"text-align: right;\">\n",
              "      <th></th>\n",
              "      <th>MedInc</th>\n",
              "      <th>HouseAge</th>\n",
              "      <th>AveRooms</th>\n",
              "      <th>AveBedrms</th>\n",
              "      <th>Population</th>\n",
              "      <th>AveOccup</th>\n",
              "      <th>Latitude</th>\n",
              "      <th>Longitude</th>\n",
              "      <th>MedValue</th>\n",
              "    </tr>\n",
              "  </thead>\n",
              "  <tbody>\n",
              "    <tr>\n",
              "      <th>count</th>\n",
              "      <td>14448.0</td>\n",
              "      <td>14448.0</td>\n",
              "      <td>14448.0</td>\n",
              "      <td>14448.0</td>\n",
              "      <td>14448.0</td>\n",
              "      <td>14448.0</td>\n",
              "      <td>14448.0</td>\n",
              "      <td>14448.0</td>\n",
              "      <td>14448.0</td>\n",
              "    </tr>\n",
              "    <tr>\n",
              "      <th>mean</th>\n",
              "      <td>0.3</td>\n",
              "      <td>0.5</td>\n",
              "      <td>0.0</td>\n",
              "      <td>0.0</td>\n",
              "      <td>0.0</td>\n",
              "      <td>0.0</td>\n",
              "      <td>0.8</td>\n",
              "      <td>-1.0</td>\n",
              "      <td>0.4</td>\n",
              "    </tr>\n",
              "    <tr>\n",
              "      <th>std</th>\n",
              "      <td>0.1</td>\n",
              "      <td>0.2</td>\n",
              "      <td>0.0</td>\n",
              "      <td>0.0</td>\n",
              "      <td>0.0</td>\n",
              "      <td>0.0</td>\n",
              "      <td>0.1</td>\n",
              "      <td>0.0</td>\n",
              "      <td>0.2</td>\n",
              "    </tr>\n",
              "    <tr>\n",
              "      <th>min</th>\n",
              "      <td>0.0</td>\n",
              "      <td>0.0</td>\n",
              "      <td>0.0</td>\n",
              "      <td>0.0</td>\n",
              "      <td>0.0</td>\n",
              "      <td>0.0</td>\n",
              "      <td>0.8</td>\n",
              "      <td>-1.0</td>\n",
              "      <td>0.0</td>\n",
              "    </tr>\n",
              "    <tr>\n",
              "      <th>25%</th>\n",
              "      <td>0.2</td>\n",
              "      <td>0.3</td>\n",
              "      <td>0.0</td>\n",
              "      <td>0.0</td>\n",
              "      <td>0.0</td>\n",
              "      <td>0.0</td>\n",
              "      <td>0.8</td>\n",
              "      <td>-1.0</td>\n",
              "      <td>0.2</td>\n",
              "    </tr>\n",
              "    <tr>\n",
              "      <th>50%</th>\n",
              "      <td>0.2</td>\n",
              "      <td>0.6</td>\n",
              "      <td>0.0</td>\n",
              "      <td>0.0</td>\n",
              "      <td>0.0</td>\n",
              "      <td>0.0</td>\n",
              "      <td>0.8</td>\n",
              "      <td>-1.0</td>\n",
              "      <td>0.4</td>\n",
              "    </tr>\n",
              "    <tr>\n",
              "      <th>75%</th>\n",
              "      <td>0.3</td>\n",
              "      <td>0.7</td>\n",
              "      <td>0.0</td>\n",
              "      <td>0.0</td>\n",
              "      <td>0.0</td>\n",
              "      <td>0.0</td>\n",
              "      <td>0.9</td>\n",
              "      <td>-0.9</td>\n",
              "      <td>0.5</td>\n",
              "    </tr>\n",
              "    <tr>\n",
              "      <th>max</th>\n",
              "      <td>1.0</td>\n",
              "      <td>1.0</td>\n",
              "      <td>1.0</td>\n",
              "      <td>1.0</td>\n",
              "      <td>1.0</td>\n",
              "      <td>1.0</td>\n",
              "      <td>1.0</td>\n",
              "      <td>-0.9</td>\n",
              "      <td>1.0</td>\n",
              "    </tr>\n",
              "  </tbody>\n",
              "</table>\n",
              "</div>"
            ],
            "text/plain": [
              "        MedInc  HouseAge  AveRooms  AveBedrms  Population  AveOccup  Latitude  \\\n",
              "count  14448.0   14448.0   14448.0    14448.0     14448.0   14448.0   14448.0   \n",
              "mean       0.3       0.5       0.0        0.0         0.0       0.0       0.8   \n",
              "std        0.1       0.2       0.0        0.0         0.0       0.0       0.1   \n",
              "min        0.0       0.0       0.0        0.0         0.0       0.0       0.8   \n",
              "25%        0.2       0.3       0.0        0.0         0.0       0.0       0.8   \n",
              "50%        0.2       0.6       0.0        0.0         0.0       0.0       0.8   \n",
              "75%        0.3       0.7       0.0        0.0         0.0       0.0       0.9   \n",
              "max        1.0       1.0       1.0        1.0         1.0       1.0       1.0   \n",
              "\n",
              "       Longitude  MedValue  \n",
              "count    14448.0   14448.0  \n",
              "mean        -1.0       0.4  \n",
              "std          0.0       0.2  \n",
              "min         -1.0       0.0  \n",
              "25%         -1.0       0.2  \n",
              "50%         -1.0       0.4  \n",
              "75%         -0.9       0.5  \n",
              "max         -0.9       1.0  "
            ]
          },
          "execution_count": 58,
          "metadata": {
            "tags": []
          },
          "output_type": "execute_result"
        }
      ],
      "source": [
        "np.round(X_train_scaled4.describe(), 1)"
      ]
    },
    {
      "cell_type": "markdown",
      "metadata": {
        "id": "KgWxifvjaIs6"
      },
      "source": [
        "The seaborn's plot might be deceiving as small values seems be above 1. The description of the scaled dataframe displays the truth in this matter."
      ]
    },
    {
      "cell_type": "code",
      "execution_count": null,
      "metadata": {
        "id": "Z4L7rdG1aIs6",
        "outputId": "ff94348c-fe9d-420a-fe9c-b336d496d642",
        "scrolled": false
      },
      "outputs": [
        {
          "data": {
            "image/png": "[encoded data removed]",
            "text/plain": [
              "<Figure size 864x360 with 2 Axes>"
            ]
          },
          "metadata": {
            "tags": []
          },
          "output_type": "display_data"
        }
      ],
      "source": [
        "show_plots(X_train_scaled4, 'Variable distribution after MaxAbs scaling')"
      ]
    },
    {
      "cell_type": "markdown",
      "metadata": {
        "id": "aq_cz9AMaIs9"
      },
      "source": [
        "As mentioned, it's common for centering to be done before maximum absolute scaling. The ```StandardScaler``` with ```with_std``` attribute as ```False``` conducts the centering of the variables with respect to the mean."
      ]
    },
    {
      "cell_type": "code",
      "execution_count": null,
      "metadata": {
        "id": "wTNMiVZaaIs9"
      },
      "outputs": [],
      "source": [
        "# Scaler for centering the data.\n",
        "mean_scaler = StandardScaler(with_std=False)\n",
        "\n",
        "mean_scaler.fit(X_train)\n",
        "maxabs_scaler.fit(X_train)\n",
        "\n",
        "# Scale the dataset\n",
        "X_train_scaled = maxabs_scaler.transform(mean_scaler.transform(X_train)) # Transform to scaled version.\n",
        "\n",
        "X_train_scaled_with_center = pd.DataFrame(data=X_train_scaled, columns=X_train.columns)"
      ]
    },
    {
      "cell_type": "markdown",
      "metadata": {
        "id": "MNY2V1P-aItC"
      },
      "source": [
        "The effect of combining centering with maximum absolute scaling is similar to mean normalization, however the values varies across smaller range. See how the distribution are centered at mean = 0."
      ]
    },
    {
      "cell_type": "code",
      "execution_count": null,
      "metadata": {
        "id": "7gPDLGYQaItC",
        "outputId": "9530370a-9a92-490b-f55c-1bea6d77b51e"
      },
      "outputs": [
        {
          "data": {
            "image/png": "[encoded data removed]",
            "text/plain": [
              "<Figure size 864x360 with 2 Axes>"
            ]
          },
          "metadata": {
            "tags": []
          },
          "output_type": "display_data"
        }
      ],
      "source": [
        "show_plots(X_train_scaled_with_center, 'Variable distribution after centering and MaxAbs scaling')"
      ]
    },
    {
      "cell_type": "markdown",
      "metadata": {
        "id": "oXWcUr7UaItF"
      },
      "source": [
        "## Mean normalization\n",
        "\n",
        "Mean normalization scales the variables by using the following formula:\n",
        "$$\n",
        "X_{\\text{MeanNorm}} = \\frac{\\mathbf{x} - \\mu_{\\mathbf{x}}}{\\max(\\mathbf{x}) - \\min(\\mathbf{x})}\n",
        "$$\n",
        "\n",
        "The subtraction with the mean results in centering the variable. Scaling the value is obtained by the division as in minmax scaling.\n",
        "\n",
        "### Properties\n",
        "These are the changes after the mean normalization scaling:\n",
        "\n",
        "- Centers the mean of variable distribution to 0.\n",
        "- The standard deviation of variable distribution varies with the variable.\n",
        "- Rescales the variable value to range [-1,1]\n",
        "- May change the shape of the variable distribution.\n",
        "- Preserves the outlier in the dataset.\n",
        "\n",
        "Similar to min-max scaling, mean normalization is highly prone to suffer from outliers at the scaling part. The minimum and maximum values are the outliers resulting in the non-outliers being squeezed into a small range of values.\n",
        "\n",
        "### Demo\n",
        "All the required parameters have already been calculated in previous demos. Using mean, max and min dataframes:"
      ]
    },
    {
      "cell_type": "code",
      "execution_count": null,
      "metadata": {
        "id": "l8A_IN1MaItF"
      },
      "outputs": [],
      "source": [
        "# Using numpy and pandas\n",
        "house_data_scaled = house_data.copy() #copying the dataframe\n",
        "\n",
        "#Subtracting the mean and dividing by difference of max and min\n",
        "house_data_scaled = (house_data_scaled-mean_df)/(max_df-min_df) #Mean Normalization scaling."
      ]
    },
    {
      "cell_type": "markdown",
      "metadata": {
        "id": "ACqBYoVAaItI"
      },
      "source": [
        "The variables get centered with respect to the mean, while the values gets restricted between range [-1,1]. However, the standard deviation varies with the variable."
      ]
    },
    {
      "cell_type": "code",
      "execution_count": null,
      "metadata": {
        "id": "a-BZ81G2aItJ",
        "outputId": "e6f7e20a-e380-41c3-d232-0431835b437e"
      },
      "outputs": [
        {
          "data": {
            "text/html": [
              "<div>\n",
              "<style scoped>\n",
              "    .dataframe tbody tr th:only-of-type {\n",
              "        vertical-align: middle;\n",
              "    }\n",
              "\n",
              "    .dataframe tbody tr th {\n",
              "        vertical-align: top;\n",
              "    }\n",
              "\n",
              "    .dataframe thead th {\n",
              "        text-align: right;\n",
              "    }\n",
              "</style>\n",
              "<table border=\"1\" class=\"dataframe\">\n",
              "  <thead>\n",
              "    <tr style=\"text-align: right;\">\n",
              "      <th></th>\n",
              "      <th>MedInc</th>\n",
              "      <th>HouseAge</th>\n",
              "      <th>AveRooms</th>\n",
              "      <th>AveBedrms</th>\n",
              "      <th>Population</th>\n",
              "      <th>AveOccup</th>\n",
              "      <th>Latitude</th>\n",
              "      <th>Longitude</th>\n",
              "      <th>MedValue</th>\n",
              "    </tr>\n",
              "  </thead>\n",
              "  <tbody>\n",
              "    <tr>\n",
              "      <th>count</th>\n",
              "      <td>20640.0</td>\n",
              "      <td>20640.0</td>\n",
              "      <td>20640.0</td>\n",
              "      <td>20640.0</td>\n",
              "      <td>20640.0</td>\n",
              "      <td>20640.0</td>\n",
              "      <td>20640.0</td>\n",
              "      <td>20640.0</td>\n",
              "      <td>20640.0</td>\n",
              "    </tr>\n",
              "    <tr>\n",
              "      <th>mean</th>\n",
              "      <td>-0.0</td>\n",
              "      <td>0.0</td>\n",
              "      <td>0.0</td>\n",
              "      <td>0.0</td>\n",
              "      <td>-0.0</td>\n",
              "      <td>-0.0</td>\n",
              "      <td>-0.0</td>\n",
              "      <td>-0.0</td>\n",
              "      <td>-0.0</td>\n",
              "    </tr>\n",
              "    <tr>\n",
              "      <th>std</th>\n",
              "      <td>0.1</td>\n",
              "      <td>0.2</td>\n",
              "      <td>0.0</td>\n",
              "      <td>0.0</td>\n",
              "      <td>0.0</td>\n",
              "      <td>0.0</td>\n",
              "      <td>0.2</td>\n",
              "      <td>0.2</td>\n",
              "      <td>0.2</td>\n",
              "    </tr>\n",
              "    <tr>\n",
              "      <th>min</th>\n",
              "      <td>-0.2</td>\n",
              "      <td>-0.5</td>\n",
              "      <td>-0.0</td>\n",
              "      <td>-0.0</td>\n",
              "      <td>-0.0</td>\n",
              "      <td>-0.0</td>\n",
              "      <td>-0.3</td>\n",
              "      <td>-0.5</td>\n",
              "      <td>-0.4</td>\n",
              "    </tr>\n",
              "    <tr>\n",
              "      <th>25%</th>\n",
              "      <td>-0.1</td>\n",
              "      <td>-0.2</td>\n",
              "      <td>-0.0</td>\n",
              "      <td>-0.0</td>\n",
              "      <td>-0.0</td>\n",
              "      <td>-0.0</td>\n",
              "      <td>-0.2</td>\n",
              "      <td>-0.2</td>\n",
              "      <td>-0.2</td>\n",
              "    </tr>\n",
              "    <tr>\n",
              "      <th>50%</th>\n",
              "      <td>-0.0</td>\n",
              "      <td>0.0</td>\n",
              "      <td>-0.0</td>\n",
              "      <td>-0.0</td>\n",
              "      <td>-0.0</td>\n",
              "      <td>-0.0</td>\n",
              "      <td>-0.1</td>\n",
              "      <td>0.1</td>\n",
              "      <td>-0.1</td>\n",
              "    </tr>\n",
              "    <tr>\n",
              "      <th>75%</th>\n",
              "      <td>0.1</td>\n",
              "      <td>0.2</td>\n",
              "      <td>0.0</td>\n",
              "      <td>0.0</td>\n",
              "      <td>0.0</td>\n",
              "      <td>0.0</td>\n",
              "      <td>0.2</td>\n",
              "      <td>0.2</td>\n",
              "      <td>0.1</td>\n",
              "    </tr>\n",
              "    <tr>\n",
              "      <th>max</th>\n",
              "      <td>0.8</td>\n",
              "      <td>0.5</td>\n",
              "      <td>1.0</td>\n",
              "      <td>1.0</td>\n",
              "      <td>1.0</td>\n",
              "      <td>1.0</td>\n",
              "      <td>0.7</td>\n",
              "      <td>0.5</td>\n",
              "      <td>0.6</td>\n",
              "    </tr>\n",
              "  </tbody>\n",
              "</table>\n",
              "</div>"
            ],
            "text/plain": [
              "        MedInc  HouseAge  AveRooms  AveBedrms  Population  AveOccup  Latitude  \\\n",
              "count  20640.0   20640.0   20640.0    20640.0     20640.0   20640.0   20640.0   \n",
              "mean      -0.0       0.0       0.0        0.0        -0.0      -0.0      -0.0   \n",
              "std        0.1       0.2       0.0        0.0         0.0       0.0       0.2   \n",
              "min       -0.2      -0.5      -0.0       -0.0        -0.0      -0.0      -0.3   \n",
              "25%       -0.1      -0.2      -0.0       -0.0        -0.0      -0.0      -0.2   \n",
              "50%       -0.0       0.0      -0.0       -0.0        -0.0      -0.0      -0.1   \n",
              "75%        0.1       0.2       0.0        0.0         0.0       0.0       0.2   \n",
              "max        0.8       0.5       1.0        1.0         1.0       1.0       0.7   \n",
              "\n",
              "       Longitude  MedValue  \n",
              "count    20640.0   20640.0  \n",
              "mean        -0.0      -0.0  \n",
              "std          0.2       0.2  \n",
              "min         -0.5      -0.4  \n",
              "25%         -0.2      -0.2  \n",
              "50%          0.1      -0.1  \n",
              "75%          0.2       0.1  \n",
              "max          0.5       0.6  "
            ]
          },
          "execution_count": 66,
          "metadata": {
            "tags": []
          },
          "output_type": "execute_result"
        }
      ],
      "source": [
        "np.round(house_data_scaled.describe(), 1)"
      ]
    },
    {
      "cell_type": "markdown",
      "metadata": {
        "id": "yj3J2vbiaItM"
      },
      "source": [
        "Scikit-learn doesn't have a inbuilt work around for mean normalization. There is a workaround, combining two transformers ```StandardScaler(with_std=False)``` and ```RobustScaler(with_centering=False, quantile_range=(0, 100))``` results in mean normalization."
      ]
    },
    {
      "cell_type": "code",
      "execution_count": null,
      "metadata": {
        "id": "sB0OplSSaItN"
      },
      "outputs": [],
      "source": [
        "# Initialize StandardScaler so that it removes the mean only.\n",
        "scaler_with_mean = StandardScaler(with_mean=True, with_std=False)\n",
        "\n",
        "# Initialize RobustScaler such that there is only scaling with 0th and 100th quantile\n",
        "scaler_with_minmax = RobustScaler(with_centering=False,\n",
        "                             with_scaling=True,\n",
        "                             quantile_range=(0, 100))\n",
        "\n",
        "scaler_with_mean.fit(X_train)\n",
        "scaler_with_minmax.fit(X_train)\n",
        "\n",
        "# Scale the dataset\n",
        "X_train_scaled = scaler_with_minmax.transform(scaler_with_mean.transform(X_train))\n",
        "X_train_scaled6 = pd.DataFrame(data=X_train_scaled, columns=X_train.columns)"
      ]
    },
    {
      "cell_type": "code",
      "execution_count": null,
      "metadata": {
        "id": "4Dtg_mlRaItQ",
        "outputId": "137bdb7f-091b-4b18-982f-57c379cb332b",
        "scrolled": true
      },
      "outputs": [
        {
          "data": {
            "text/html": [
              "<div>\n",
              "<style scoped>\n",
              "    .dataframe tbody tr th:only-of-type {\n",
              "        vertical-align: middle;\n",
              "    }\n",
              "\n",
              "    .dataframe tbody tr th {\n",
              "        vertical-align: top;\n",
              "    }\n",
              "\n",
              "    .dataframe thead th {\n",
              "        text-align: right;\n",
              "    }\n",
              "</style>\n",
              "<table border=\"1\" class=\"dataframe\">\n",
              "  <thead>\n",
              "    <tr style=\"text-align: right;\">\n",
              "      <th></th>\n",
              "      <th>MedInc</th>\n",
              "      <th>HouseAge</th>\n",
              "      <th>AveRooms</th>\n",
              "      <th>AveBedrms</th>\n",
              "      <th>Population</th>\n",
              "      <th>AveOccup</th>\n",
              "      <th>Latitude</th>\n",
              "      <th>Longitude</th>\n",
              "      <th>MedValue</th>\n",
              "    </tr>\n",
              "  </thead>\n",
              "  <tbody>\n",
              "    <tr>\n",
              "      <th>count</th>\n",
              "      <td>14448.0</td>\n",
              "      <td>14448.0</td>\n",
              "      <td>14448.0</td>\n",
              "      <td>14448.0</td>\n",
              "      <td>14448.0</td>\n",
              "      <td>14448.0</td>\n",
              "      <td>14448.0</td>\n",
              "      <td>14448.0</td>\n",
              "      <td>14448.0</td>\n",
              "    </tr>\n",
              "    <tr>\n",
              "      <th>mean</th>\n",
              "      <td>-0.0</td>\n",
              "      <td>-0.0</td>\n",
              "      <td>0.0</td>\n",
              "      <td>0.0</td>\n",
              "      <td>0.0</td>\n",
              "      <td>0.0</td>\n",
              "      <td>-0.0</td>\n",
              "      <td>0.0</td>\n",
              "      <td>-0.0</td>\n",
              "    </tr>\n",
              "    <tr>\n",
              "      <th>std</th>\n",
              "      <td>0.1</td>\n",
              "      <td>0.2</td>\n",
              "      <td>0.0</td>\n",
              "      <td>0.0</td>\n",
              "      <td>0.0</td>\n",
              "      <td>0.0</td>\n",
              "      <td>0.2</td>\n",
              "      <td>0.2</td>\n",
              "      <td>0.2</td>\n",
              "    </tr>\n",
              "    <tr>\n",
              "      <th>min</th>\n",
              "      <td>-0.2</td>\n",
              "      <td>-0.5</td>\n",
              "      <td>-0.0</td>\n",
              "      <td>-0.0</td>\n",
              "      <td>-0.0</td>\n",
              "      <td>-0.0</td>\n",
              "      <td>-0.3</td>\n",
              "      <td>-0.5</td>\n",
              "      <td>-0.4</td>\n",
              "    </tr>\n",
              "    <tr>\n",
              "      <th>25%</th>\n",
              "      <td>-0.1</td>\n",
              "      <td>-0.2</td>\n",
              "      <td>-0.0</td>\n",
              "      <td>-0.0</td>\n",
              "      <td>-0.0</td>\n",
              "      <td>-0.0</td>\n",
              "      <td>-0.2</td>\n",
              "      <td>-0.2</td>\n",
              "      <td>-0.2</td>\n",
              "    </tr>\n",
              "    <tr>\n",
              "      <th>50%</th>\n",
              "      <td>-0.0</td>\n",
              "      <td>0.0</td>\n",
              "      <td>-0.0</td>\n",
              "      <td>-0.0</td>\n",
              "      <td>-0.0</td>\n",
              "      <td>-0.0</td>\n",
              "      <td>-0.1</td>\n",
              "      <td>0.1</td>\n",
              "      <td>-0.1</td>\n",
              "    </tr>\n",
              "    <tr>\n",
              "      <th>75%</th>\n",
              "      <td>0.1</td>\n",
              "      <td>0.2</td>\n",
              "      <td>0.0</td>\n",
              "      <td>0.0</td>\n",
              "      <td>0.0</td>\n",
              "      <td>0.0</td>\n",
              "      <td>0.2</td>\n",
              "      <td>0.2</td>\n",
              "      <td>0.1</td>\n",
              "    </tr>\n",
              "    <tr>\n",
              "      <th>max</th>\n",
              "      <td>0.8</td>\n",
              "      <td>0.5</td>\n",
              "      <td>1.0</td>\n",
              "      <td>1.0</td>\n",
              "      <td>1.0</td>\n",
              "      <td>1.0</td>\n",
              "      <td>0.7</td>\n",
              "      <td>0.5</td>\n",
              "      <td>0.6</td>\n",
              "    </tr>\n",
              "  </tbody>\n",
              "</table>\n",
              "</div>"
            ],
            "text/plain": [
              "        MedInc  HouseAge  AveRooms  AveBedrms  Population  AveOccup  Latitude  \\\n",
              "count  14448.0   14448.0   14448.0    14448.0     14448.0   14448.0   14448.0   \n",
              "mean      -0.0      -0.0       0.0        0.0         0.0       0.0      -0.0   \n",
              "std        0.1       0.2       0.0        0.0         0.0       0.0       0.2   \n",
              "min       -0.2      -0.5      -0.0       -0.0        -0.0      -0.0      -0.3   \n",
              "25%       -0.1      -0.2      -0.0       -0.0        -0.0      -0.0      -0.2   \n",
              "50%       -0.0       0.0      -0.0       -0.0        -0.0      -0.0      -0.1   \n",
              "75%        0.1       0.2       0.0        0.0         0.0       0.0       0.2   \n",
              "max        0.8       0.5       1.0        1.0         1.0       1.0       0.7   \n",
              "\n",
              "       Longitude  MedValue  \n",
              "count    14448.0   14448.0  \n",
              "mean         0.0      -0.0  \n",
              "std          0.2       0.2  \n",
              "min         -0.5      -0.4  \n",
              "25%         -0.2      -0.2  \n",
              "50%          0.1      -0.1  \n",
              "75%          0.2       0.1  \n",
              "max          0.5       0.6  "
            ]
          },
          "execution_count": 68,
          "metadata": {
            "tags": []
          },
          "output_type": "execute_result"
        }
      ],
      "source": [
        "np.round(X_train_scaled6.describe(),1)"
      ]
    },
    {
      "cell_type": "markdown",
      "metadata": {
        "id": "Zcrga7oGaItT"
      },
      "source": [
        "The values get squeezed between -1 and 1 with variables centering at mean = 0."
      ]
    },
    {
      "cell_type": "code",
      "execution_count": null,
      "metadata": {
        "id": "yh96LEzdaItU",
        "outputId": "79ec509a-56c1-480a-8f29-221da198612f"
      },
      "outputs": [
        {
          "data": {
            "image/png": "[encoded data removed]",
            "text/plain": [
              "<Figure size 864x360 with 2 Axes>"
            ]
          },
          "metadata": {
            "tags": []
          },
          "output_type": "display_data"
        }
      ],
      "source": [
        "show_plots(X_train_scaled6, 'Variable distribution after Mean Normalization')"
      ]
    },
    {
      "cell_type": "markdown",
      "metadata": {
        "id": "UR75Kp-7aItW"
      },
      "source": [
        "## Scaling to vector unit norm\n",
        "\n",
        "Scaling to vector unit norm is different from all the previous scaling techniques learned in this chapter. All the other scaling techniques apply scaling over column vector (variable), but scaling to vector unit norm applies scaling over row vectors (feature vector or observations of dataset).\n",
        "\n",
        "This scaling techniques operates on the feature vector by dividing it with the Manhattan distance(L1 norm) or Euclidean distance(L2 norm) using following formula:\n",
        "\n",
        "\\[\n",
        "\\begin{align*}\n",
        "\\text{X}_{\\text{scaled}} &= \\frac{\\mathbf{x}^T}{\\text{L1 or L2 Norm of } \\mathbf{x}^T} \\\\\n",
        "\\text{L1 norm} &= \\sum_{i=1}^{n} |x_i| \\\\\n",
        "\\text{L2 norm} &= \\sqrt{\\sum_{i=1}^{n} (x_i)^2}\n",
        "\\end{align*}\n",
        "\\]\n",
        "\n",
        "Where $x_i$ is the $i^{th}$ variable of the feature vector, $n$ is the total number of variables.\n",
        "\n",
        "The table below will help you understand this scaling technique a bit better:\n",
        "\n",
        "<center>\n",
        "<figure>\n",
        "<!-- <img src=\"https://docs.google.com/uc?export=download&id=1hYhrAbMjIzuLIHMVI4PaYdgOOghtkJJC\" alt=\"Example of Scaling to vector unit norm\"> -->\n",
        "<img src=\"https://i.postimg.cc/9MWB4P79/image.png\" alt=\"Example of Scaling to vector unit norm\">\n",
        "<br>\n",
        "<figcaption align=\"center\">Fig: Procedure of Scaling to vector unit norm. </figcaption>\n",
        "</figure>\n",
        "</center>\n",
        "\n",
        "### Properties\n",
        "Following are the characteristics of the independent variable after scaling to vector unit norm:\n",
        "- Norm of the scaled feature vector result to 1.\n",
        "- The variable with higher value tends to dominate after the scaling. (as seen in the table)\n",
        "- May distort the variable distribution.\n",
        "\n",
        "As the name of the scaling suggests, the transformed feature vector is scaled to have unit norm value. This scaling technique isn't used for normal regression or classification tasks. The best application of scaling to vector unit norm is for __clustering and text analysis__ tasks.\n",
        "\n",
        "###  Demo\n",
        "\n",
        "NumPy's ```linalg.norm()``` method is used for the computation of norms. The attribute ```ord, axis, keepdims``` denotes the order of the norm, computation of norm along certain axis(1=rows), and keeping the dimension after computation respectively. First, the norm is calculated then divided with the variables."
      ]
    },
    {
      "cell_type": "code",
      "execution_count": null,
      "metadata": {
        "id": "AXUATLE9aItX"
      },
      "outputs": [],
      "source": [
        "# Using numpy and pandas\n",
        "house_data_scaled = house_data.copy() #copying the dataframe\n",
        "\n",
        "#computing the norms\n",
        "l1_norm = np.linalg.norm(house_data_scaled, ord=1, axis=1, keepdims=True) #Manhattan distance\n",
        "l2_norm = np.linalg.norm(house_data_scaled, ord=2, axis=1, keepdims=True) #Euclidean distance\n",
        "\n",
        "#Dividing the values with norm\n",
        "house_data_scaled_l1_norm = house_data_scaled/l1_norm\n",
        "house_data_scaled_l2_norm = house_data_scaled/l2_norm"
      ]
    },
    {
      "cell_type": "markdown",
      "metadata": {
        "id": "MNOKw-yXaItZ"
      },
      "source": [
        "Describing the dataframe won't be that helpful for this scaling. Let's see the norm of observations before and after scaling. Notice the norms of each observation has been set to 1 after the scaling."
      ]
    },
    {
      "cell_type": "code",
      "execution_count": null,
      "metadata": {
        "id": "oWc0fhZsaIta",
        "outputId": "30d8c877-d83d-49a6-8dfa-a550568c27c5",
        "scrolled": false
      },
      "outputs": [
        {
          "data": {
            "text/plain": [
              "array([[ 546.52469206],\n",
              "       [2603.2862594 ],\n",
              "       [ 731.03224181],\n",
              "       ...,\n",
              "       [1195.92427021],\n",
              "       [ 931.08884183],\n",
              "       [1575.92656226]])"
            ]
          },
          "execution_count": 71,
          "metadata": {
            "tags": []
          },
          "output_type": "execute_result"
        }
      ],
      "source": [
        "# norm before l1 scaling\n",
        "np.linalg.norm(house_data_scaled, ord=1, axis=1, keepdims=True)"
      ]
    },
    {
      "cell_type": "code",
      "execution_count": null,
      "metadata": {
        "id": "9x2a4r7GaItc",
        "outputId": "e8c8a006-3c1a-41d7-bc72-8a8267b3cc61",
        "scrolled": true
      },
      "outputs": [
        {
          "data": {
            "text/plain": [
              "array([[1.],\n",
              "       [1.],\n",
              "       [1.],\n",
              "       ...,\n",
              "       [1.],\n",
              "       [1.],\n",
              "       [1.]])"
            ]
          },
          "execution_count": 72,
          "metadata": {
            "tags": []
          },
          "output_type": "execute_result"
        }
      ],
      "source": [
        "# norm after l1 scaling\n",
        "np.linalg.norm(house_data_scaled_l1_norm, ord=1, axis=1, keepdims=True)"
      ]
    },
    {
      "cell_type": "code",
      "execution_count": null,
      "metadata": {
        "id": "2ePbv248aIth",
        "outputId": "cb04baf5-6d74-412a-d6b9-a22a069798a6"
      },
      "outputs": [
        {
          "data": {
            "text/plain": [
              "array([[ 349.12206749],\n",
              "       [2404.52473138],\n",
              "       [ 515.01262658],\n",
              "       ...,\n",
              "       [1015.19678688],\n",
              "       [ 752.14144698],\n",
              "       [1392.95242225]])"
            ]
          },
          "execution_count": 73,
          "metadata": {
            "tags": []
          },
          "output_type": "execute_result"
        }
      ],
      "source": [
        "# norm before l2 scaling\n",
        "np.linalg.norm(house_data_scaled, ord=2, axis=1, keepdims=True)"
      ]
    },
    {
      "cell_type": "code",
      "execution_count": null,
      "metadata": {
        "id": "Kf3-PYlXaItk",
        "outputId": "cc9e1806-d4ca-4378-ace5-31cd9627d871"
      },
      "outputs": [
        {
          "data": {
            "text/plain": [
              "array([[1.],\n",
              "       [1.],\n",
              "       [1.],\n",
              "       ...,\n",
              "       [1.],\n",
              "       [1.],\n",
              "       [1.]])"
            ]
          },
          "execution_count": 74,
          "metadata": {
            "tags": []
          },
          "output_type": "execute_result"
        }
      ],
      "source": [
        "# norm after l2 scaling\n",
        "np.linalg.norm(house_data_scaled_l2_norm, ord=2, axis=1, keepdims=True)"
      ]
    },
    {
      "cell_type": "markdown",
      "metadata": {
        "id": "-IkO8o8UaIto"
      },
      "source": [
        "Scikit-learn provides ```Normalizer``` transformer for computation of scaling with vector unit norm. The ```norm``` parameters represents norm that is used for scaling."
      ]
    },
    {
      "cell_type": "code",
      "execution_count": null,
      "metadata": {
        "id": "v8r0mf0oaIto"
      },
      "outputs": [],
      "source": [
        "# Import Normalizer\n",
        "from sklearn.preprocessing import Normalizer\n",
        "\n",
        "# Initializing l1 and l2 scalers\n",
        "\n",
        "l1_scaler = Normalizer(norm='l1')\n",
        "l2_scaler = Normalizer(norm='l2')"
      ]
    },
    {
      "cell_type": "code",
      "execution_count": null,
      "metadata": {
        "id": "-nAJ8QMQaItu"
      },
      "outputs": [],
      "source": [
        "# Applying scaling with vector unit norm with norm=l1\n",
        "l1_scaler.fit(X_train)\n",
        "X_train_scaled = l1_scaler.transform(X_train)\n",
        "X_train_scaled7 = pd.DataFrame(X_train_scaled, columns=X_train.columns)"
      ]
    },
    {
      "cell_type": "markdown",
      "metadata": {
        "id": "GrPuqm6eaItx"
      },
      "source": [
        "Display the probability distribution shows the values of variables being scaled starting from 0."
      ]
    },
    {
      "cell_type": "code",
      "execution_count": null,
      "metadata": {
        "id": "fleS57w4aItx",
        "outputId": "619c50b3-c2ed-4ae5-df29-c7eb23c544c3",
        "scrolled": true
      },
      "outputs": [
        {
          "data": {
            "image/png": "[encoded data removed]",
            "text/plain": [
              "<Figure size 864x360 with 2 Axes>"
            ]
          },
          "metadata": {
            "tags": []
          },
          "output_type": "display_data"
        }
      ],
      "source": [
        "show_plots(X_train_scaled7, 'Variables distribution after l1 scaling')"
      ]
    },
    {
      "cell_type": "markdown",
      "metadata": {
        "id": "SO00uW4paIt1"
      },
      "source": [
        "This scaling heavily changes the distribution of the variable as seen below. This is why this scaling technique isn't typically used for classification or regression tasks."
      ]
    },
    {
      "cell_type": "code",
      "execution_count": null,
      "metadata": {
        "id": "WFz0up7WaIt1",
        "outputId": "4292b885-7637-4a34-ccd7-5ec383094287",
        "scrolled": true
      },
      "outputs": [
        {
          "data": {
            "text/plain": [
              "<matplotlib.axes._subplots.AxesSubplot at 0x7efc2c1f9c88>"
            ]
          },
          "execution_count": 79,
          "metadata": {
            "tags": []
          },
          "output_type": "execute_result"
        },
        {
          "data": {
            "image/png": "[encoded data removed]",
            "text/plain": [
              "<Figure size 864x360 with 2 Axes>"
            ]
          },
          "metadata": {
            "tags": []
          },
          "output_type": "display_data"
        }
      ],
      "source": [
        "plt.figure(figsize=(12,5))\n",
        "\n",
        "plt.subplot(121)\n",
        "plt.title('Original Variable Distribution')\n",
        "sns.kdeplot(X_train['HouseAge'])\n",
        "\n",
        "plt.subplot(122)\n",
        "plt.title('Variable distribution after l1 scaling')\n",
        "sns.kdeplot(X_train_scaled7['HouseAge'])"
      ]
    },
    {
      "cell_type": "markdown",
      "metadata": {
        "id": "NgC2-PL2aIt3"
      },
      "source": [
        "Similarly applying scaling with vector unit norm using l2 norm and plotting the distributions."
      ]
    },
    {
      "cell_type": "code",
      "execution_count": null,
      "metadata": {
        "id": "DUOoFkytaIt4"
      },
      "outputs": [],
      "source": [
        "l2_scaler.fit(X_train)\n",
        "X_train_scaled = l2_scaler.transform(X_train)\n",
        "X_train_scaled8 = pd.DataFrame(X_train_scaled, columns=X_train.columns)"
      ]
    },
    {
      "cell_type": "code",
      "execution_count": null,
      "metadata": {
        "id": "qq8G681MaIt7",
        "outputId": "34143f96-5361-4dd3-badf-da1aa057aefe"
      },
      "outputs": [
        {
          "data": {
            "image/png": "[encoded data removed]",
            "text/plain": [
              "<Figure size 864x360 with 2 Axes>"
            ]
          },
          "metadata": {
            "tags": []
          },
          "output_type": "display_data"
        }
      ],
      "source": [
        "show_plots(X_train_scaled8, 'Variables distribution after l2 scaling')"
      ]
    },
    {
      "cell_type": "code",
      "execution_count": null,
      "metadata": {
        "id": "kSqtVVpMaIt9",
        "outputId": "01539d73-e81e-4e14-f5e7-9692cfb6c924"
      },
      "outputs": [
        {
          "data": {
            "text/plain": [
              "<matplotlib.axes._subplots.AxesSubplot at 0x7efc2b96f9b0>"
            ]
          },
          "execution_count": 82,
          "metadata": {
            "tags": []
          },
          "output_type": "execute_result"
        },
        {
          "data": {
            "image/png": "[encoded data removed]",
            "text/plain": [
              "<Figure size 864x360 with 2 Axes>"
            ]
          },
          "metadata": {
            "tags": []
          },
          "output_type": "display_data"
        }
      ],
      "source": [
        "plt.figure(figsize=(12,5))\n",
        "\n",
        "plt.subplot(121)\n",
        "plt.title('Original Variable Distribution')\n",
        "sns.kdeplot(X_train['HouseAge'])\n",
        "\n",
        "plt.subplot(122)\n",
        "plt.title('Variable distribution after l2 scaling')\n",
        "sns.kdeplot(X_train_scaled8['HouseAge'])"
      ]
    },
    {
      "cell_type": "markdown",
      "metadata": {
        "id": "q8xjGpWjaIuH"
      },
      "source": [
        "## Key-Take Aways\n",
        "\n",
        "Concluding this chapter the main points to remember are:\n",
        "\n",
        "- Feature scaling techniques takes numerical variables as input, which scales the values into similar range.\n",
        "- Feature scaling is generally last step of preprocessing before feeding the data into ML algorithms for training.\n",
        "\n",
        "\n",
        "| Feature Scaling Technique     | Value range after scaling | Distorts original distribution | Centered at | Scaled by          |\n",
        "|-------------------------------|---------------------------|--------------------------------|-------------|--------------------|\n",
        "| Standardization               | No restriction            | No                             | Mean        | Standard deviation |\n",
        "| Min-Max Scaling               | [0,1]                     | Maybe                          | Varies(Min) | Varies (Min-Max)   |\n",
        "| Robust Scaling                | No restriction            | Maybe                          | Median      | IQR                |\n",
        "| Maximum Absolute Scaling      | Up to 1                   | Maybe                          | None        | Varies (Max)       |\n",
        "| Mean Normalization            | [-1,1]                    | Maybe                          | Mean        | Varies (Min-Max)   |\n",
        "| Scaling with Vector Unit Norm | No restriction            | Yes                            | None        | Norm (L1 or L2)    |\n",
        "\n",
        "<center>Table 1: Properties of each scaling technique</center>\n",
        "\n",
        "Scan through the table for getting the grasp of the properties of the scaling techniques learned in this chapter.\n",
        "\n",
        "- Standardization, minmax, maxabs, and mean normalization get affected by the presence of outliers. It's suggested to use outlier removal before using techniques.\n",
        "- Scaling with vector unit norm are done for the algorithms such as clustering and text analysis.\n"
      ]
    },
    {
      "cell_type": "code",
      "execution_count": null,
      "metadata": {
        "id": "STTp0RujtvZD"
      },
      "outputs": [],
      "source": []
    }
  ],
  "metadata": {
    "colab": {
      "collapsed_sections": [
        "q8xjGpWjaIuH"
      ],
      "provenance": []
    },
    "kernelspec": {
      "display_name": "Python 3",
      "language": "python",
      "name": "python3"
    },
    "language_info": {
      "codemirror_mode": {
        "name": "ipython",
        "version": 3
      },
      "file_extension": ".py",
      "mimetype": "text/x-python",
      "name": "python",
      "nbconvert_exporter": "python",
      "pygments_lexer": "ipython3",
      "version": "3.6.9"
    }
  },
  "nbformat": 4,
  "nbformat_minor": 0
}
