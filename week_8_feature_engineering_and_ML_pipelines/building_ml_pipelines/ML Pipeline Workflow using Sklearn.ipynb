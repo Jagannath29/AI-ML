{
 "cells": [
  {
   "cell_type": "markdown",
   "metadata": {
    "colab_type": "text",
    "id": "Hx0A5oHDurQA"
   },
   "source": [
    "In this chapter, you get familiar with `SKlearn Pipeline` methods and use them to create an ML pipeline workflow. "
   ]
  },
  {
   "cell_type": "markdown",
   "metadata": {
    "colab_type": "text",
    "id": "nOVnfXxYus6L"
   },
   "source": [
    "## **SKlearn Pipelines**"
   ]
  },
  {
   "cell_type": "markdown",
   "metadata": {
    "colab_type": "text",
    "id": "c4XQR3u52B-q"
   },
   "source": [
    "Before you learn how to create an ML pipeline workflow, let's discuss what `SKlearn Pipeline` is.\n",
    "\n",
    "`SKlearn Pipeline` is the tool that assembles the several steps of the ML pipeline. It chains together the preprocessing steps with the model fitting stages ML development.\n",
    "\n",
    "This tool consists of four steps that help to create ML workflow, which are:"
   ]
  },
  {
   "cell_type": "markdown",
   "metadata": {
    "colab_type": "text",
    "id": "Knd1PRJgaXVh"
   },
   "source": [
    "### **Transformer**\n",
    "  \n"
   ]
  },
  {
   "cell_type": "markdown",
   "metadata": {
    "colab_type": "text",
    "id": "opesQitt2dtQ"
   },
   "source": [
    "This step is a part of the pre-processing step that transforms or imputes the data. The [fit_transform](https://scikit-learn.org/stable/modules/generated/sklearn.pipeline.FeatureUnion.html#sklearn.pipeline.FeatureUnion.fit_transform) method is an important method in it that fit all the transformers, transform the data and concatenate results. \n",
    "\n",
    "You can also create your own custom transformer as per your requirement."
   ]
  },
  {
   "cell_type": "markdown",
   "metadata": {
    "colab_type": "text",
    "id": "dm7bjlSw2t4v"
   },
   "source": [
    "### **Estimator**"
   ]
  },
  {
   "cell_type": "markdown",
   "metadata": {
    "colab_type": "text",
    "id": "bYPyV67l2n_w"
   },
   "source": [
    "   This step is for modeling. It consists of ML algorithms that fit or train on data. The [fit_predict](https://scikit-learn.org/stable/glossary.html#term-fit-predict) fits the model and returns the predictions."
   ]
  },
  {
   "cell_type": "markdown",
   "metadata": {
    "colab_type": "text",
    "id": "fOse8Rdc2xHv"
   },
   "source": [
    "NOTE: \n",
    "    \n",
    "  You can use the `fit_transform` and `fit_predict` methods independently. That means `fit_transform` breaks into two separate methods `fit` and `transform`, and similarly, `fit_predict` breaks into `fit` and `predict`."
   ]
  },
  {
   "cell_type": "markdown",
   "metadata": {
    "colab_type": "text",
    "id": "7KIyhCgvvVcJ"
   },
   "source": [
    "### **[Pipeline](https://scikit-learn.org/stable/modules/generated/sklearn.pipeline.Pipeline.html#sklearn.pipeline.Pipeline)**\n",
    "\n"
   ]
  },
  {
   "cell_type": "markdown",
   "metadata": {
    "colab_type": "text",
    "id": "QtDlu48_3IVZ"
   },
   "source": [
    " This step combines the above two modular steps into one composite estimator. It can also be used to chain multiple estimators into one. You use a list of tuples (key-name given to step, value-estimator) to the built pipeline."
   ]
  },
  {
   "cell_type": "markdown",
   "metadata": {
    "colab_type": "text",
    "id": "1fUWsHhN3Osn"
   },
   "source": [
    "NOTE([source]( https://scikit-learn.org/stable/modules/compose.html#pipeline-chaining-estimators )): \n",
    "\n",
    "All estimators in a pipeline, except the last one, must be transformers (i.e., must have a transform method). The last estimator may be any type (transformer, classifier, etc.)."
   ]
  },
  {
   "cell_type": "markdown",
   "metadata": {
    "colab_type": "text",
    "id": "VVJ3DwZt4FlY"
   },
   "source": [
    "The given example how you can create a simple pipeline."
   ]
  },
  {
   "cell_type": "code",
   "execution_count": 0,
   "metadata": {
    "colab": {
     "base_uri": "https://localhost:8080/",
     "height": 235
    },
    "colab_type": "code",
    "executionInfo": {
     "elapsed": 1623,
     "status": "ok",
     "timestamp": 1588297108456,
     "user": {
      "displayName": "Bikash Gupta",
      "photoUrl": "https://lh3.googleusercontent.com/a-/AOh14Gg4wYK5MdXcpug05peoXpwJhGYMDKdexzV1EuTZ=s64",
      "userId": "05237873868090062569"
     },
     "user_tz": -345
    },
    "id": "0Wqy7n0V4CTu",
    "outputId": "4ace893f-f38c-42cc-c8d4-9b6c8d4ba9fd"
   },
   "outputs": [
    {
     "data": {
      "text/plain": [
       "Pipeline(memory=None,\n",
       "         steps=[('scaler',\n",
       "                 StandardScaler(copy=True, with_mean=True, with_std=True)),\n",
       "                ('model',\n",
       "                 LogisticRegression(C=1.0, class_weight=None, dual=False,\n",
       "                                    fit_intercept=True, intercept_scaling=1,\n",
       "                                    l1_ratio=None, max_iter=100,\n",
       "                                    multi_class='auto', n_jobs=None,\n",
       "                                    penalty='l2', random_state=None,\n",
       "                                    solver='lbfgs', tol=0.0001, verbose=0,\n",
       "                                    warm_start=False))],\n",
       "         verbose=False)"
      ]
     },
     "execution_count": 1,
     "metadata": {
      "tags": []
     },
     "output_type": "execute_result"
    }
   ],
   "source": [
    "## import the Pipeline package from sklearn.pipeline\n",
    "from sklearn.pipeline import Pipeline\n",
    "## import any estimator(here importing logistic regression)\n",
    "from sklearn.linear_model import LogisticRegression\n",
    "## importing normalizing technique StandardScalar\n",
    "from sklearn.preprocessing import StandardScaler\n",
    "\n",
    "## Building pipeline \n",
    "pipeline = Pipeline([('scaler', StandardScaler()),\n",
    "                    ('model', LogisticRegression())])\n",
    "pipeline"
   ]
  },
  {
   "cell_type": "markdown",
   "metadata": {
    "colab_type": "text",
    "id": "gftqIBSX7L2I"
   },
   "source": [
    "You can also use fuction `make_pipeline` to build pipeline."
   ]
  },
  {
   "cell_type": "code",
   "execution_count": 0,
   "metadata": {
    "colab": {
     "base_uri": "https://localhost:8080/",
     "height": 235
    },
    "colab_type": "code",
    "executionInfo": {
     "elapsed": 2912,
     "status": "ok",
     "timestamp": 1588297109765,
     "user": {
      "displayName": "Bikash Gupta",
      "photoUrl": "https://lh3.googleusercontent.com/a-/AOh14Gg4wYK5MdXcpug05peoXpwJhGYMDKdexzV1EuTZ=s64",
      "userId": "05237873868090062569"
     },
     "user_tz": -345
    },
    "id": "__QdJ8vw7IOs",
    "outputId": "5a9f1b0f-b772-4fd6-c43c-ae90357a63b5"
   },
   "outputs": [
    {
     "data": {
      "text/plain": [
       "Pipeline(memory=None,\n",
       "         steps=[('standardscaler',\n",
       "                 StandardScaler(copy=True, with_mean=True, with_std=True)),\n",
       "                ('logisticregression',\n",
       "                 LogisticRegression(C=1.0, class_weight=None, dual=False,\n",
       "                                    fit_intercept=True, intercept_scaling=1,\n",
       "                                    l1_ratio=None, max_iter=100,\n",
       "                                    multi_class='auto', n_jobs=None,\n",
       "                                    penalty='l2', random_state=None,\n",
       "                                    solver='lbfgs', tol=0.0001, verbose=0,\n",
       "                                    warm_start=False))],\n",
       "         verbose=False)"
      ]
     },
     "execution_count": 2,
     "metadata": {
      "tags": []
     },
     "output_type": "execute_result"
    }
   ],
   "source": [
    "from sklearn.pipeline import make_pipeline\n",
    "\n",
    "## using make_pipeline to create pipeline\n",
    "\n",
    "make_pipeline(StandardScaler(), LogisticRegression())"
   ]
  },
  {
   "cell_type": "markdown",
   "metadata": {
    "colab_type": "text",
    "id": "gZudgogu76wi"
   },
   "source": [
    "Here, you can see it takes a variable number of estimators and returns a pipeline, filling in the names automatically."
   ]
  },
  {
   "cell_type": "markdown",
   "metadata": {
    "colab_type": "text",
    "id": "k2o8xDCMurNf"
   },
   "source": [
    "### **[FeatureUnion](https://scikit-learn.org/stable/modules/generated/sklearn.pipeline.FeatureUnion.html#sklearn.pipeline.FeatureUnion)**\n",
    "\n"
   ]
  },
  {
   "cell_type": "markdown",
   "metadata": {
    "colab_type": "text",
    "id": "dLpxlkLhurK3"
   },
   "source": [
    "FeatureUnion serves the same purposes as Pipeline. It combines several transformer objects into a new one. `Pipelines` and `FeatureUnion` can be combined as one to create complex models."
   ]
  },
  {
   "cell_type": "markdown",
   "metadata": {
    "colab_type": "text",
    "id": "cNN80HmLurIY"
   },
   "source": [
    "A simple example is as follows:"
   ]
  },
  {
   "cell_type": "code",
   "execution_count": 0,
   "metadata": {
    "colab": {
     "base_uri": "https://localhost:8080/",
     "height": 145
    },
    "colab_type": "code",
    "executionInfo": {
     "elapsed": 2897,
     "status": "ok",
     "timestamp": 1588297109767,
     "user": {
      "displayName": "Bikash Gupta",
      "photoUrl": "https://lh3.googleusercontent.com/a-/AOh14Gg4wYK5MdXcpug05peoXpwJhGYMDKdexzV1EuTZ=s64",
      "userId": "05237873868090062569"
     },
     "user_tz": -345
    },
    "id": "j-PoqskP9GxV",
    "outputId": "fc5bf8ea-7832-4884-9ace-3ca43a7cd0e9"
   },
   "outputs": [
    {
     "data": {
      "text/plain": [
       "FeatureUnion(n_jobs=None,\n",
       "             transformer_list=[('scaler',\n",
       "                                StandardScaler(copy=True, with_mean=True,\n",
       "                                               with_std=True)),\n",
       "                               ('Binarizer',\n",
       "                                Binarizer(copy=True, threshold=0.0))],\n",
       "             transformer_weights=None, verbose=False)"
      ]
     },
     "execution_count": 3,
     "metadata": {
      "tags": []
     },
     "output_type": "execute_result"
    }
   ],
   "source": [
    "from sklearn.pipeline import FeatureUnion\n",
    "from sklearn.preprocessing import StandardScaler\n",
    "from sklearn.preprocessing import Binarizer\n",
    "\n",
    "feature_union = FeatureUnion([('scaler', StandardScaler()),\n",
    "                    ('Binarizer', Binarizer())])\n",
    "feature_union"
   ]
  },
  {
   "cell_type": "markdown",
   "metadata": {
    "colab_type": "text",
    "id": "ThPaGEAN-FZt"
   },
   "source": [
    "You can also use the function [make_union](https://scikit-learn.org/stable/modules/generated/sklearn.pipeline.make_union.html#sklearn.pipeline.make_union) to build `FeatureUnion`. Similar to `Pipeline`, you don't need to name the component. It aoutmatically fills it."
   ]
  },
  {
   "cell_type": "code",
   "execution_count": 0,
   "metadata": {
    "colab": {
     "base_uri": "https://localhost:8080/",
     "height": 145
    },
    "colab_type": "code",
    "executionInfo": {
     "elapsed": 2882,
     "status": "ok",
     "timestamp": 1588297109771,
     "user": {
      "displayName": "Bikash Gupta",
      "photoUrl": "https://lh3.googleusercontent.com/a-/AOh14Gg4wYK5MdXcpug05peoXpwJhGYMDKdexzV1EuTZ=s64",
      "userId": "05237873868090062569"
     },
     "user_tz": -345
    },
    "id": "CYsK_Bep-rOm",
    "outputId": "a1aca402-6215-4636-e643-0ba3b6559c13"
   },
   "outputs": [
    {
     "data": {
      "text/plain": [
       "FeatureUnion(n_jobs=None,\n",
       "             transformer_list=[('standardscaler',\n",
       "                                StandardScaler(copy=True, with_mean=True,\n",
       "                                               with_std=True)),\n",
       "                               ('binarizer',\n",
       "                                Binarizer(copy=True, threshold=0.0))],\n",
       "             transformer_weights=None, verbose=False)"
      ]
     },
     "execution_count": 4,
     "metadata": {
      "tags": []
     },
     "output_type": "execute_result"
    }
   ],
   "source": [
    "from sklearn.pipeline import make_union\n",
    "\n",
    "make_union(StandardScaler(), Binarizer())"
   ]
  },
  {
   "cell_type": "markdown",
   "metadata": {
    "colab_type": "text",
    "id": "GrPUpQVPabU1"
   },
   "source": [
    "Note: \n",
    "    \n",
    "  Similar to `FeatureUnion`, there is an estimator in `sklearn.compose` library called [ColumnTransformer](https://scikit-learn.org/stable/modules/generated/sklearn.compose.ColumnTransformer.html#sklearn.compose.ColumnTransformer) that helps to combine several transformer objects into one. It benefits is that it helps to apply the transformers in the different number of columns separately. It is useful when you need to transform in dataset having mixed type features, i.e., numerical and categorical."
   ]
  },
  {
   "cell_type": "markdown",
   "metadata": {
    "colab_type": "text",
    "id": "Za49Dkm5Orgn"
   },
   "source": [
    "### [Custom Transformer](https://scikit-learn.org/stable/modules/preprocessing.html#custom-transformers)"
   ]
  },
  {
   "cell_type": "markdown",
   "metadata": {
    "colab_type": "text",
    "id": "QaqrORnxkC0D"
   },
   "source": [
    "You know that you can create a custom transformer but don't know to create one. You need to inherit [TransformerMixin](https://scikit-learn.org/stable/modules/generated/sklearn.base.TransformerMixin.html?highlight=transformermixin#sklearn.base.TransformerMixin) class to create it. You can also inherit the class [BaseEstimator](https://scikit-learn.org/stable/modules/generated/sklearn.base.BaseEstimator.html#sklearn.base.BaseEstimator) while creating a custom transformer. The example below explains how you can create your custom transformer."
   ]
  },
  {
   "cell_type": "code",
   "execution_count": 0,
   "metadata": {
    "colab": {},
    "colab_type": "code",
    "id": "gXFTTlh0eJwF"
   },
   "outputs": [],
   "source": [
    "from sklearn.base import TransformerMixin\n",
    "\n",
    "class CustomTransformer(TransformerMixin):\n",
    "  '''\n",
    "  A simple example to show how you can create a custom transformer\n",
    "  '''\n",
    "  def __init__(self, k):\n",
    "    '''\n",
    "    Any arguments pass to it must be initialized here.\n",
    "    '''\n",
    "    self.k = k\n",
    "\n",
    "  def fit(self, X, y=None):\n",
    "    '''\n",
    "    It is mandatory in sklearn tranformers.\n",
    "    Here, you can perform some action but don't return it \n",
    "    \n",
    "\n",
    "    Parameters:\n",
    "    ----------\n",
    "    X - dataset\n",
    "    y - here it is None,but if it is not None, it takes target data\n",
    "\n",
    "    '''\n",
    "\n",
    "    return self\n",
    "  \n",
    "  def transform(self, X):\n",
    "    '''\n",
    "     This is the function where actual data transformation takes place.\n",
    "     \n",
    "     Parameters:\n",
    "     -----------\n",
    "     X - dataset\n",
    "     \n",
    "     Returns:\n",
    "     --------\n",
    "     X -transformed dataset\n",
    "    '''\n",
    "    X = np.log(X)\n",
    "\n",
    "    return X\n",
    "\n",
    "\n"
   ]
  },
  {
   "cell_type": "code",
   "execution_count": 0,
   "metadata": {
    "colab": {
     "base_uri": "https://localhost:8080/",
     "height": 35
    },
    "colab_type": "code",
    "executionInfo": {
     "elapsed": 2856,
     "status": "ok",
     "timestamp": 1588297109774,
     "user": {
      "displayName": "Bikash Gupta",
      "photoUrl": "https://lh3.googleusercontent.com/a-/AOh14Gg4wYK5MdXcpug05peoXpwJhGYMDKdexzV1EuTZ=s64",
      "userId": "05237873868090062569"
     },
     "user_tz": -345
    },
    "id": "noH7FRpuhRVh",
    "outputId": "761ec387-a201-4d77-a7de-cc7f0462afa6"
   },
   "outputs": [
    {
     "name": "stdout",
     "output_type": "stream",
     "text": [
      "[2.30258509 4.60517019 7.60090246]\n"
     ]
    }
   ],
   "source": [
    "import numpy as np\n",
    "\n",
    "X = [10, 100, 2000] \n",
    "X = CustomTransformer(5).transform(X)\n",
    "print(X)"
   ]
  },
  {
   "cell_type": "markdown",
   "metadata": {
    "colab_type": "text",
    "id": "PVsysqrTg6XZ"
   },
   "source": [
    "This is how you can create a custom transformer as per your requirements. You can also use [FunctionTransformer](https://scikit-learn.org/stable/modules/generated/sklearn.preprocessing.FunctionTransformer.html) to built your custom transformer as shown below: "
   ]
  },
  {
   "cell_type": "code",
   "execution_count": 0,
   "metadata": {
    "colab": {
     "base_uri": "https://localhost:8080/",
     "height": 35
    },
    "colab_type": "code",
    "executionInfo": {
     "elapsed": 2826,
     "status": "ok",
     "timestamp": 1588297109777,
     "user": {
      "displayName": "Bikash Gupta",
      "photoUrl": "https://lh3.googleusercontent.com/a-/AOh14Gg4wYK5MdXcpug05peoXpwJhGYMDKdexzV1EuTZ=s64",
      "userId": "05237873868090062569"
     },
     "user_tz": -345
    },
    "id": "iTohi53ciqAO",
    "outputId": "ef65fc60-730d-4d6b-e229-2613932b1a33"
   },
   "outputs": [
    {
     "data": {
      "text/plain": [
       "array([0.83403245, 1.52717963, 2.02826698])"
      ]
     },
     "execution_count": 7,
     "metadata": {
      "tags": []
     },
     "output_type": "execute_result"
    }
   ],
   "source": [
    "## Using Function Tranformer to built custom tranformer\n",
    "## it takes the user-defined function or built-in function as argument as below \n",
    "\n",
    "from sklearn.preprocessing import FunctionTransformer\n",
    "\n",
    "log_transform = FunctionTransformer(np.log)\n",
    "log_transformed_data = log_transform.transform(X)\n",
    "log_transformed_data"
   ]
  },
  {
   "cell_type": "markdown",
   "metadata": {
    "colab_type": "text",
    "id": "W4KjjCP0LWtf"
   },
   "source": [
    "## References"
   ]
  },
  {
   "cell_type": "markdown",
   "metadata": {
    "colab_type": "text",
    "id": "cfKL9q2WLcjb"
   },
   "source": [
    "1. [Sklearn.pipeline.Pipeline](https://scikit-learn.org/stable/modules/generated/sklearn.pipeline.Pipeline.html#sklearn.pipeline.Pipeline)\n",
    "\n",
    "2. [Sklearn.pipeline](https://scikit-learn.org/stable/modules/classes.html#module-sklearn.pipeline)\n",
    "\n",
    "3. [Using scikit-learn Pipelines and FeatureUnion](http://zacstewart.com/2014/08/05/pipelines-of-featureunions-of-pipelines.html)\n"
   ]
  },
  {
   "cell_type": "markdown",
   "metadata": {
    "colab_type": "text",
    "id": "pcMfIEYFCF-7"
   },
   "source": [
    "## ML PIPELINES USING  SKLEARN PIPELINES IMPLEMENTATION\n"
   ]
  },
  {
   "cell_type": "markdown",
   "metadata": {
    "colab_type": "text",
    "id": "9pu7ZN-zCcAk"
   },
   "source": [
    "### Data Ingestion/Data Versioning\n",
    "\n",
    "In this step, you collect your data sources from different sources, combine them, and change it into a format that you can use. After, this you split your datasets into two portions, test and train part.\n",
    "\n",
    "Here, you do not need to do data versioning, but if you need to do, there are external sources like [dvc](https://dvc.org) available for data versioning.\n",
    "\n"
   ]
  },
  {
   "cell_type": "markdown",
   "metadata": {
    "colab_type": "text",
    "id": "pX4otlelurFy"
   },
   "source": [
    "Let's deepen our knowledge by creating a pipeline for `Titanic Dataset` by `RashiGoel` published at `Kaggle` under `CCO: Public Domain`."
   ]
  },
  {
   "cell_type": "markdown",
   "metadata": {
    "colab_type": "text",
    "id": "LVz7aCcburC0"
   },
   "source": [
    "This dataset contains 11 columns, and their brief description is as follows:\n",
    "\n",
    "    PassengerId: Unique id number to each passenger.\n",
    "    Survived: Passenger survived (1) or \n",
    "    died (0).\n",
    "    Pclass: Passenger class.\n",
    "    Name: Name of the passenger.\n",
    "    Sex: Gender of the passenger.\n",
    "    Age: Age of passenger.\n",
    "    SibSp: Number of siblings/spouses.\n",
    "    Parch: Number of parents/children.\n",
    "    Ticket: Ticket number.\n",
    "    Fare: Amount of money spent on the ticket.\n",
    "    Cabin: Cabin category.\n",
    "    Embarked: Port where passenger embarked (C = \n",
    "    Cherbourg, Q = Queenstown, S = Southhampton)"
   ]
  },
  {
   "cell_type": "markdown",
   "metadata": {
    "colab_type": "text",
    "id": "OszJUBFSCNML"
   },
   "source": [
    "As the dataset is already in the format that you needed to for further processing, there is no need to change it. \n",
    "\n",
    "1. You use the `pandas` library to load the datasets.\n",
    "2. You split the datasets into train and test part using [train_test_split](https://scikit-learn.org/stable/modules/generated/sklearn.model_selection.train_test_split.html), which is used in later in topic Train Test Split for easiness. "
   ]
  },
  {
   "cell_type": "code",
   "execution_count": 0,
   "metadata": {
    "colab": {},
    "colab_type": "code",
    "id": "DbS1In8jDTk1"
   },
   "outputs": [],
   "source": [
    "## importing the pandas library\n",
    "import pandas as pd "
   ]
  },
  {
   "cell_type": "code",
   "execution_count": 0,
   "metadata": {
    "colab": {
     "base_uri": "https://localhost:8080/",
     "height": 55
    },
    "colab_type": "code",
    "executionInfo": {
     "elapsed": 2777,
     "status": "ok",
     "timestamp": 1588297109778,
     "user": {
      "displayName": "Bikash Gupta",
      "photoUrl": "https://lh3.googleusercontent.com/a-/AOh14Gg4wYK5MdXcpug05peoXpwJhGYMDKdexzV1EuTZ=s64",
      "userId": "05237873868090062569"
     },
     "user_tz": -345
    },
    "id": "8IH0arJRDYAb",
    "outputId": "75582168-f2e7-4e7b-da4e-d70807d72096"
   },
   "outputs": [
    {
     "name": "stdout",
     "output_type": "stream",
     "text": [
      "Drive already mounted at /content/drive/; to attempt to forcibly remount, call drive.mount(\"/content/drive/\", force_remount=True).\n"
     ]
    }
   ],
   "source": [
    "from google.colab import drive\n",
    "drive.mount('/content/drive/')"
   ]
  },
  {
   "cell_type": "code",
   "execution_count": 0,
   "metadata": {
    "colab": {},
    "colab_type": "code",
    "id": "8_ISRCW_Dcko"
   },
   "outputs": [],
   "source": [
    "## importing test and train datasets\n",
    "data = pd.read_csv('/content/drive/My Drive/Course 1: ML/Updated Contents/Module 4 : Feature and Data Handing/unit 8: ML Pipeline/4.8.1 ML PIPELINE/train .csv')"
   ]
  },
  {
   "cell_type": "code",
   "execution_count": 0,
   "metadata": {
    "colab": {
     "base_uri": "https://localhost:8080/",
     "height": 284
    },
    "colab_type": "code",
    "executionInfo": {
     "elapsed": 2731,
     "status": "ok",
     "timestamp": 1588297109780,
     "user": {
      "displayName": "Bikash Gupta",
      "photoUrl": "https://lh3.googleusercontent.com/a-/AOh14Gg4wYK5MdXcpug05peoXpwJhGYMDKdexzV1EuTZ=s64",
      "userId": "05237873868090062569"
     },
     "user_tz": -345
    },
    "id": "BCva7KT2Dxyq",
    "outputId": "655cb816-424b-433b-e0dc-713623db775a"
   },
   "outputs": [
    {
     "data": {
      "text/html": [
       "<div>\n",
       "<style scoped>\n",
       "    .dataframe tbody tr th:only-of-type {\n",
       "        vertical-align: middle;\n",
       "    }\n",
       "\n",
       "    .dataframe tbody tr th {\n",
       "        vertical-align: top;\n",
       "    }\n",
       "\n",
       "    .dataframe thead th {\n",
       "        text-align: right;\n",
       "    }\n",
       "</style>\n",
       "<table border=\"1\" class=\"dataframe\">\n",
       "  <thead>\n",
       "    <tr style=\"text-align: right;\">\n",
       "      <th></th>\n",
       "      <th>PassengerId</th>\n",
       "      <th>Survived</th>\n",
       "      <th>Pclass</th>\n",
       "      <th>Name</th>\n",
       "      <th>Sex</th>\n",
       "      <th>Age</th>\n",
       "      <th>SibSp</th>\n",
       "      <th>Parch</th>\n",
       "      <th>Ticket</th>\n",
       "      <th>Fare</th>\n",
       "      <th>Cabin</th>\n",
       "      <th>Embarked</th>\n",
       "    </tr>\n",
       "  </thead>\n",
       "  <tbody>\n",
       "    <tr>\n",
       "      <th>0</th>\n",
       "      <td>1</td>\n",
       "      <td>0</td>\n",
       "      <td>3</td>\n",
       "      <td>Braund, Mr. Owen Harris</td>\n",
       "      <td>male</td>\n",
       "      <td>22.0</td>\n",
       "      <td>1</td>\n",
       "      <td>0</td>\n",
       "      <td>A/5 21171</td>\n",
       "      <td>7.2500</td>\n",
       "      <td>NaN</td>\n",
       "      <td>S</td>\n",
       "    </tr>\n",
       "    <tr>\n",
       "      <th>1</th>\n",
       "      <td>2</td>\n",
       "      <td>1</td>\n",
       "      <td>1</td>\n",
       "      <td>Cumings, Mrs. John Bradley (Florence Briggs Th...</td>\n",
       "      <td>female</td>\n",
       "      <td>38.0</td>\n",
       "      <td>1</td>\n",
       "      <td>0</td>\n",
       "      <td>PC 17599</td>\n",
       "      <td>71.2833</td>\n",
       "      <td>C85</td>\n",
       "      <td>C</td>\n",
       "    </tr>\n",
       "  </tbody>\n",
       "</table>\n",
       "</div>"
      ],
      "text/plain": [
       "   PassengerId  Survived  Pclass  ...     Fare Cabin  Embarked\n",
       "0            1         0       3  ...   7.2500   NaN         S\n",
       "1            2         1       1  ...  71.2833   C85         C\n",
       "\n",
       "[2 rows x 12 columns]"
      ]
     },
     "execution_count": 11,
     "metadata": {
      "tags": []
     },
     "output_type": "execute_result"
    }
   ],
   "source": [
    "data.head(2)"
   ]
  },
  {
   "cell_type": "markdown",
   "metadata": {
    "colab_type": "text",
    "id": "qLHbDvYUI3el"
   },
   "source": [
    "### DATA VALIDATION\n",
    "\n",
    "Here, you observe the nature of data like data contains outliers or not, have missing values or not, data features are highly correlated or not. By observing such nature, you decide whether data is suitable for further processing or not. Furthermore, you also check the schema of train and test data if they are the same after handling the changes so that it does not cause the problems in the following steps of the pipeline you built."
   ]
  },
  {
   "cell_type": "code",
   "execution_count": 0,
   "metadata": {
    "colab": {
     "base_uri": "https://localhost:8080/",
     "height": 363
    },
    "colab_type": "code",
    "executionInfo": {
     "elapsed": 2707,
     "status": "ok",
     "timestamp": 1588297109780,
     "user": {
      "displayName": "Bikash Gupta",
      "photoUrl": "https://lh3.googleusercontent.com/a-/AOh14Gg4wYK5MdXcpug05peoXpwJhGYMDKdexzV1EuTZ=s64",
      "userId": "05237873868090062569"
     },
     "user_tz": -345
    },
    "id": "JJV_jlfkEnth",
    "outputId": "d0f620cd-ebba-4c55-9461-3cd15d96e980"
   },
   "outputs": [
    {
     "name": "stdout",
     "output_type": "stream",
     "text": [
      "<class 'pandas.core.frame.DataFrame'>\n",
      "RangeIndex: 891 entries, 0 to 890\n",
      "Data columns (total 12 columns):\n",
      " #   Column       Non-Null Count  Dtype  \n",
      "---  ------       --------------  -----  \n",
      " 0   PassengerId  891 non-null    int64  \n",
      " 1   Survived     891 non-null    int64  \n",
      " 2   Pclass       891 non-null    int64  \n",
      " 3   Name         891 non-null    object \n",
      " 4   Sex          891 non-null    object \n",
      " 5   Age          714 non-null    float64\n",
      " 6   SibSp        891 non-null    int64  \n",
      " 7   Parch        891 non-null    int64  \n",
      " 8   Ticket       891 non-null    object \n",
      " 9   Fare         891 non-null    float64\n",
      " 10  Cabin        204 non-null    object \n",
      " 11  Embarked     889 non-null    object \n",
      "dtypes: float64(2), int64(5), object(5)\n",
      "memory usage: 83.7+ KB\n"
     ]
    }
   ],
   "source": [
    "data.info()"
   ]
  },
  {
   "cell_type": "markdown",
   "metadata": {
    "colab_type": "text",
    "id": "Rzgc_ZR7Npbo"
   },
   "source": [
    "By observing above output, you can see that `Cabin column` contains a lot of nan values. Let us drop this coulmn first.\n",
    "\n",
    "Besides `Cabin Column`,  there are two more columns  containing missing values, i.e. `Age and Embarked columns`, in the dataset.\n",
    "\n",
    "For simplicity, we are also removing other columns(`Name`, `SibSp`, `Ticket` and `Parch`)"
   ]
  },
  {
   "cell_type": "markdown",
   "metadata": {
    "colab_type": "text",
    "id": "bllsk8MIZXY5"
   },
   "source": [
    "For handling missing values,  there are tools like [SimpleImputer](https://scikit-learn.org/stable/modules/generated/sklearn.impute.SimpleImputer.html)-to handle univariate feature, [IterativeImputer](https://scikit-learn.org/stable/modules/impute.html#multivariate-feature-imputation)- to handle multivariate feature available in `sklearn`. You can also create your own custom transformer for handling missing values.\n",
    "\n",
    " From above, you can observe that we have both categorical and Numerical data.\n",
    "\n",
    "\n",
    "* Categorical data: Survived(`target feature`), Pclass, SibSp, Parch, Name, Sex, Cabin, Embarked.\n",
    "\n",
    "* Numerical data: PassengerId, Age, Fare\n",
    "\n",
    "For simplicity, you will drop the features the following features:\n",
    "`PassengerId`, `SibSp`, `Parch`, `Name`."
   ]
  },
  {
   "cell_type": "code",
   "execution_count": 0,
   "metadata": {
    "colab": {},
    "colab_type": "code",
    "id": "YhpxTssgN4Gi"
   },
   "outputs": [],
   "source": [
    "data = data.drop(columns=['Cabin', 'PassengerId', 'SibSp', 'Parch', 'Name'])"
   ]
  },
  {
   "cell_type": "code",
   "execution_count": 0,
   "metadata": {
    "colab": {
     "base_uri": "https://localhost:8080/",
     "height": 35
    },
    "colab_type": "code",
    "executionInfo": {
     "elapsed": 2671,
     "status": "ok",
     "timestamp": 1588297109781,
     "user": {
      "displayName": "Bikash Gupta",
      "photoUrl": "https://lh3.googleusercontent.com/a-/AOh14Gg4wYK5MdXcpug05peoXpwJhGYMDKdexzV1EuTZ=s64",
      "userId": "05237873868090062569"
     },
     "user_tz": -345
    },
    "id": "WcXd3vuZOBIT",
    "outputId": "81d53bf9-2d2b-4637-b57a-d924c617540e"
   },
   "outputs": [
    {
     "data": {
      "text/plain": [
       "(891, 7)"
      ]
     },
     "execution_count": 14,
     "metadata": {
      "tags": []
     },
     "output_type": "execute_result"
    }
   ],
   "source": [
    "data.shape"
   ]
  },
  {
   "cell_type": "markdown",
   "metadata": {
    "colab_type": "text",
    "id": "S42uYGrlOsuP"
   },
   "source": [
    "You can visualize to data here to see the outliers using boxplots and histogram  plots. You can use the heat maps for visualizing the correlation between each datasets."
   ]
  },
  {
   "cell_type": "code",
   "execution_count": 0,
   "metadata": {
    "colab": {
     "base_uri": "https://localhost:8080/",
     "height": 74
    },
    "colab_type": "code",
    "executionInfo": {
     "elapsed": 2653,
     "status": "ok",
     "timestamp": 1588297109782,
     "user": {
      "displayName": "Bikash Gupta",
      "photoUrl": "https://lh3.googleusercontent.com/a-/AOh14Gg4wYK5MdXcpug05peoXpwJhGYMDKdexzV1EuTZ=s64",
      "userId": "05237873868090062569"
     },
     "user_tz": -345
    },
    "id": "hd1vbm4GOr2C",
    "outputId": "71093cda-3ff4-43d8-b2a2-11b613b51c5f"
   },
   "outputs": [
    {
     "name": "stderr",
     "output_type": "stream",
     "text": [
      "/usr/local/lib/python3.6/dist-packages/statsmodels/tools/_testing.py:19: FutureWarning: pandas.util.testing is deprecated. Use the functions in the public API at pandas.testing instead.\n",
      "  import pandas.util.testing as tm\n"
     ]
    }
   ],
   "source": [
    "##importing matplotlib.pyplot and seaborn library\n",
    "import matplotlib.pyplot as plt\n",
    "import seaborn as sns"
   ]
  },
  {
   "cell_type": "code",
   "execution_count": 0,
   "metadata": {
    "colab": {},
    "colab_type": "code",
    "id": "p-BPcv-mOpcB"
   },
   "outputs": [],
   "source": [
    "categorical_data = ['Pclass', 'Sex', 'Embarked']\n",
    "numerical_data = ['Age', 'Fare']"
   ]
  },
  {
   "cell_type": "code",
   "execution_count": 0,
   "metadata": {
    "colab": {
     "base_uri": "https://localhost:8080/",
     "height": 485
    },
    "colab_type": "code",
    "executionInfo": {
     "elapsed": 3795,
     "status": "ok",
     "timestamp": 1588297110960,
     "user": {
      "displayName": "Bikash Gupta",
      "photoUrl": "https://lh3.googleusercontent.com/a-/AOh14Gg4wYK5MdXcpug05peoXpwJhGYMDKdexzV1EuTZ=s64",
      "userId": "05237873868090062569"
     },
     "user_tz": -345
    },
    "id": "eXffpHEIO2Z-",
    "outputId": "5e176132-3b09-4bce-fcaf-bc54569152c3"
   },
   "outputs": [
    {
     "data": {
      "image/png": "[encoded data removed]",
      "text/plain": [
       "<Figure size 864x576 with 2 Axes>"
      ]
     },
     "metadata": {
      "needs_background": "light",
      "tags": []
     },
     "output_type": "display_data"
    }
   ],
   "source": [
    "##using heat-maps to observe the correlation amaong numerical features\n",
    "correlation_matrix = data.corr()\n",
    "plt.figure(figsize=(12,8))\n",
    "sns.heatmap(correlation_matrix, annot=True)\n",
    "plt.show()\n"
   ]
  },
  {
   "cell_type": "code",
   "execution_count": 0,
   "metadata": {
    "colab": {
     "base_uri": "https://localhost:8080/",
     "height": 272
    },
    "colab_type": "code",
    "executionInfo": {
     "elapsed": 3768,
     "status": "ok",
     "timestamp": 1588297110962,
     "user": {
      "displayName": "Bikash Gupta",
      "photoUrl": "https://lh3.googleusercontent.com/a-/AOh14Gg4wYK5MdXcpug05peoXpwJhGYMDKdexzV1EuTZ=s64",
      "userId": "05237873868090062569"
     },
     "user_tz": -345
    },
    "id": "LNNSg2EDvHnA",
    "outputId": "f09e9022-b568-4e91-b929-f46d3655445b"
   },
   "outputs": [
    {
     "name": "stdout",
     "output_type": "stream",
     "text": [
      "3    491\n",
      "1    216\n",
      "2    184\n",
      "Name: Pclass, dtype: int64 \n",
      "\n",
      "male      577\n",
      "female    314\n",
      "Name: Sex, dtype: int64 \n",
      "\n",
      "S    644\n",
      "C    168\n",
      "Q     77\n",
      "Name: Embarked, dtype: int64 \n",
      "\n"
     ]
    }
   ],
   "source": [
    "## getting the frequency of elements present in categorical data\n",
    "\n",
    "for c in categorical_data:\n",
    "  print(data[c].value_counts(), '\\n')"
   ]
  },
  {
   "cell_type": "code",
   "execution_count": 0,
   "metadata": {
    "colab": {
     "base_uri": "https://localhost:8080/",
     "height": 541
    },
    "colab_type": "code",
    "executionInfo": {
     "elapsed": 3752,
     "status": "ok",
     "timestamp": 1588297110964,
     "user": {
      "displayName": "Bikash Gupta",
      "photoUrl": "https://lh3.googleusercontent.com/a-/AOh14Gg4wYK5MdXcpug05peoXpwJhGYMDKdexzV1EuTZ=s64",
      "userId": "05237873868090062569"
     },
     "user_tz": -345
    },
    "id": "KpIuNj59bZex",
    "outputId": "f230d14e-512a-4915-d19c-e20605790f69"
   },
   "outputs": [
    {
     "data": {
      "image/png": "[encoded data removed]",
      "text/plain": [
       "<Figure size 216x288 with 1 Axes>"
      ]
     },
     "metadata": {
      "needs_background": "light",
      "tags": []
     },
     "output_type": "display_data"
    },
    {
     "data": {
      "image/png": "[encoded data removed]",
      "text/plain": [
       "<Figure size 216x288 with 1 Axes>"
      ]
     },
     "metadata": {
      "needs_background": "light",
      "tags": []
     },
     "output_type": "display_data"
    }
   ],
   "source": [
    "## plotting histogram for Numerical data analysis\n",
    "\n",
    "for n in numerical_data:\n",
    "  fig, ax1 = plt.subplots(figsize=(3,4))\n",
    "  sns.distplot(data[n], kde=True, color='blue', bins='auto')"
   ]
  },
  {
   "cell_type": "code",
   "execution_count": 0,
   "metadata": {
    "colab": {
     "base_uri": "https://localhost:8080/",
     "height": 487
    },
    "colab_type": "code",
    "executionInfo": {
     "elapsed": 3723,
     "status": "ok",
     "timestamp": 1588297110965,
     "user": {
      "displayName": "Bikash Gupta",
      "photoUrl": "https://lh3.googleusercontent.com/a-/AOh14Gg4wYK5MdXcpug05peoXpwJhGYMDKdexzV1EuTZ=s64",
      "userId": "05237873868090062569"
     },
     "user_tz": -345
    },
    "id": "gAmmrJMHscfg",
    "outputId": "2d018e73-b721-4034-934d-cda172e676f5"
   },
   "outputs": [
    {
     "data": {
      "image/png": "[encoded data removed]",
      "text/plain": [
       "<Figure size 216x288 with 1 Axes>"
      ]
     },
     "metadata": {
      "needs_background": "light",
      "tags": []
     },
     "output_type": "display_data"
    },
    {
     "data": {
      "image/png": "[encoded data removed]",
      "text/plain": [
       "<Figure size 216x288 with 1 Axes>"
      ]
     },
     "metadata": {
      "needs_background": "light",
      "tags": []
     },
     "output_type": "display_data"
    }
   ],
   "source": [
    "## Here, use only float64 dtypes column as they are only our numerical data\n",
    "for n in numerical_data:\n",
    "  fig, ax1 = plt.subplots(figsize=(3,4))\n",
    "  sns.boxplot(y=data[n]) "
   ]
  },
  {
   "cell_type": "markdown",
   "metadata": {
    "colab_type": "text",
    "id": "5n8BqMAjkEhG"
   },
   "source": [
    "The boxplot above shows that the dataset contains some outliers. The two columns contain the outlier, i.e., `Age`, `Fare`. You learned a lot of techniques(Trimming, dropping) for handling outliers in the previous chapter. \n",
    "\n",
    "But here, you can use [RobustScalar](https://scikit-learn.org/stable/modules/generated/sklearn.preprocessing.RobustScaler.html) transformer that does not remove the outliers but uses scale features that are robust to outliers.\n",
    "\n",
    "Note: \n",
    "      \n",
    "  `You do not add the dropping rows action in the pipeline in the form of the transformer as the transformer only transforms the data but does not cause the schema for both training and testing dataset to be changed. So, outliers handling is mostly done outside the pipeline if you are dropping them. But, it does not mean you can't add or remove features as it does not cause in the rows of data changed in both test and train data. You can also create your own custom transformer for handling those data but you need to feed the transformed data to the pipeline not include it in your pipeline.`"
   ]
  },
  {
   "cell_type": "markdown",
   "metadata": {
    "colab_type": "text",
    "id": "RfnohLjLIhPj"
   },
   "source": [
    "### DATA PREPROCESSING \n",
    "\n",
    "Here, you mainly do the things of `Feature Engineering` like `Feature Selection`, `Feature Scaling`, `Categorical Transformation`, `Mathematical Transformation`, `Dimension Reduction` that you learned in the previous chapters.\n",
    "\n",
    "You can through the link, [Dataset transformations](https://scikit-learn.org/stable/data_transforms.html), for learning different tools available for data transformation in `sklearn`."
   ]
  },
  {
   "cell_type": "markdown",
   "metadata": {
    "colab_type": "text",
    "id": "yLIiDzURZ45R"
   },
   "source": [
    "There are transformers like [OneHotEncoder](https://scikit-learn.org/stable/modules/generated/sklearn.preprocessing.OneHotEncoder.html) for categorical transformation and also `SimpleImputer` for handling missing values, but for making you familiar with custom transformer, the custom transformer is built for categorical transformations and handling missing values in categorical data. "
   ]
  },
  {
   "cell_type": "code",
   "execution_count": 0,
   "metadata": {
    "colab": {},
    "colab_type": "code",
    "id": "i0Mwqat01S0S"
   },
   "outputs": [],
   "source": [
    "\"\"\"\n",
    "Creating CategoricaImputation tranformers \n",
    "to fill the categorical features Nan values with most frequent obsevations\n",
    "\"\"\"\n",
    "class CategoricalImputation(TransformerMixin):\n",
    "\n",
    "  def __init__(self, categorical_data):\n",
    "    self.categorical_data = categorical_data ##list of categorical features with nan values\n",
    "  \n",
    "  def fit(self, X, y=None):\n",
    "\n",
    "    return self\n",
    "  \n",
    "  def transform(self, X):\n",
    "\n",
    "    for c in self.categorical_data:\n",
    "      if X[c].isnull().sum()>0:\n",
    "        X[c]=X[c].fillna(X[c].mode()) ## filling nan values with most frequent observations\n",
    "    \n",
    "    return X\n",
    "    \n"
   ]
  },
  {
   "cell_type": "code",
   "execution_count": 0,
   "metadata": {
    "colab": {},
    "colab_type": "code",
    "id": "ooqlD-v8KkRX"
   },
   "outputs": [],
   "source": [
    "## creating transformer for transforming categorical data into numerical data \n",
    "class DummyTransformer(TransformerMixin):\n",
    "  def __init__(self, categorical_data):\n",
    "    self.categorical_data = categorical_data\n",
    "\n",
    "  def fit(self, X, y=None):\n",
    "    return self\n",
    "\n",
    "  def transform(self, X):\n",
    "    ##using pd.get_dummies to convert categorical data inot numerical one\n",
    "    X = pd.get_dummies(X, columns=self.categorical_data, prefix=self.categorical_data)\n",
    "    return X"
   ]
  },
  {
   "cell_type": "markdown",
   "metadata": {
    "colab_type": "text",
    "id": "JxroBT2ipcl6"
   },
   "source": [
    "Now, Let's create a pipeline for each transformer."
   ]
  },
  {
   "cell_type": "code",
   "execution_count": 0,
   "metadata": {
    "colab": {},
    "colab_type": "code",
    "id": "oZxsAE_vpBML"
   },
   "outputs": [],
   "source": [
    "## pipeline for handling categorical data\n",
    "categorical_transformer = Pipeline(steps=[\n",
    "                ('categorical_impute', CategoricalImputation(categorical_data)),                          \n",
    "                ('creating_dummy_features', DummyTransformer(categorical_data)),          \n",
    "                ])"
   ]
  },
  {
   "cell_type": "code",
   "execution_count": 0,
   "metadata": {
    "colab": {
     "base_uri": "https://localhost:8080/",
     "height": 235
    },
    "colab_type": "code",
    "executionInfo": {
     "elapsed": 3666,
     "status": "ok",
     "timestamp": 1588297110968,
     "user": {
      "displayName": "Bikash Gupta",
      "photoUrl": "https://lh3.googleusercontent.com/a-/AOh14Gg4wYK5MdXcpug05peoXpwJhGYMDKdexzV1EuTZ=s64",
      "userId": "05237873868090062569"
     },
     "user_tz": -345
    },
    "id": "6svm471-wqeV",
    "outputId": "a42505c8-0a5c-4d3a-c46a-5e6e0f310c94"
   },
   "outputs": [
    {
     "data": {
      "text/html": [
       "<div>\n",
       "<style scoped>\n",
       "    .dataframe tbody tr th:only-of-type {\n",
       "        vertical-align: middle;\n",
       "    }\n",
       "\n",
       "    .dataframe tbody tr th {\n",
       "        vertical-align: top;\n",
       "    }\n",
       "\n",
       "    .dataframe thead th {\n",
       "        text-align: right;\n",
       "    }\n",
       "</style>\n",
       "<table border=\"1\" class=\"dataframe\">\n",
       "  <thead>\n",
       "    <tr style=\"text-align: right;\">\n",
       "      <th></th>\n",
       "      <th>Survived</th>\n",
       "      <th>Age</th>\n",
       "      <th>Ticket</th>\n",
       "      <th>Fare</th>\n",
       "      <th>Pclass_1</th>\n",
       "      <th>Pclass_2</th>\n",
       "      <th>Pclass_3</th>\n",
       "      <th>Sex_female</th>\n",
       "      <th>Sex_male</th>\n",
       "      <th>Embarked_C</th>\n",
       "      <th>Embarked_Q</th>\n",
       "      <th>Embarked_S</th>\n",
       "    </tr>\n",
       "  </thead>\n",
       "  <tbody>\n",
       "    <tr>\n",
       "      <th>0</th>\n",
       "      <td>0</td>\n",
       "      <td>22.0</td>\n",
       "      <td>A/5 21171</td>\n",
       "      <td>7.2500</td>\n",
       "      <td>0</td>\n",
       "      <td>0</td>\n",
       "      <td>1</td>\n",
       "      <td>0</td>\n",
       "      <td>1</td>\n",
       "      <td>0</td>\n",
       "      <td>0</td>\n",
       "      <td>1</td>\n",
       "    </tr>\n",
       "    <tr>\n",
       "      <th>1</th>\n",
       "      <td>1</td>\n",
       "      <td>38.0</td>\n",
       "      <td>PC 17599</td>\n",
       "      <td>71.2833</td>\n",
       "      <td>1</td>\n",
       "      <td>0</td>\n",
       "      <td>0</td>\n",
       "      <td>1</td>\n",
       "      <td>0</td>\n",
       "      <td>1</td>\n",
       "      <td>0</td>\n",
       "      <td>0</td>\n",
       "    </tr>\n",
       "    <tr>\n",
       "      <th>2</th>\n",
       "      <td>1</td>\n",
       "      <td>26.0</td>\n",
       "      <td>STON/O2. 3101282</td>\n",
       "      <td>7.9250</td>\n",
       "      <td>0</td>\n",
       "      <td>0</td>\n",
       "      <td>1</td>\n",
       "      <td>1</td>\n",
       "      <td>0</td>\n",
       "      <td>0</td>\n",
       "      <td>0</td>\n",
       "      <td>1</td>\n",
       "    </tr>\n",
       "    <tr>\n",
       "      <th>3</th>\n",
       "      <td>1</td>\n",
       "      <td>35.0</td>\n",
       "      <td>113803</td>\n",
       "      <td>53.1000</td>\n",
       "      <td>1</td>\n",
       "      <td>0</td>\n",
       "      <td>0</td>\n",
       "      <td>1</td>\n",
       "      <td>0</td>\n",
       "      <td>0</td>\n",
       "      <td>0</td>\n",
       "      <td>1</td>\n",
       "    </tr>\n",
       "    <tr>\n",
       "      <th>4</th>\n",
       "      <td>0</td>\n",
       "      <td>35.0</td>\n",
       "      <td>373450</td>\n",
       "      <td>8.0500</td>\n",
       "      <td>0</td>\n",
       "      <td>0</td>\n",
       "      <td>1</td>\n",
       "      <td>0</td>\n",
       "      <td>1</td>\n",
       "      <td>0</td>\n",
       "      <td>0</td>\n",
       "      <td>1</td>\n",
       "    </tr>\n",
       "  </tbody>\n",
       "</table>\n",
       "</div>"
      ],
      "text/plain": [
       "   Survived   Age            Ticket  ...  Embarked_C  Embarked_Q  Embarked_S\n",
       "0         0  22.0         A/5 21171  ...           0           0           1\n",
       "1         1  38.0          PC 17599  ...           1           0           0\n",
       "2         1  26.0  STON/O2. 3101282  ...           0           0           1\n",
       "3         1  35.0            113803  ...           0           0           1\n",
       "4         0  35.0            373450  ...           0           0           1\n",
       "\n",
       "[5 rows x 12 columns]"
      ]
     },
     "execution_count": 24,
     "metadata": {
      "tags": []
     },
     "output_type": "execute_result"
    }
   ],
   "source": [
    "## observing how our looks after categorical transformation\n",
    "df1 = categorical_transformer.fit_transform(data)\n",
    "\n",
    "df1.head()"
   ]
  },
  {
   "cell_type": "code",
   "execution_count": 0,
   "metadata": {
    "colab": {
     "base_uri": "https://localhost:8080/",
     "height": 254
    },
    "colab_type": "code",
    "executionInfo": {
     "elapsed": 3648,
     "status": "ok",
     "timestamp": 1588297110969,
     "user": {
      "displayName": "Bikash Gupta",
      "photoUrl": "https://lh3.googleusercontent.com/a-/AOh14Gg4wYK5MdXcpug05peoXpwJhGYMDKdexzV1EuTZ=s64",
      "userId": "05237873868090062569"
     },
     "user_tz": -345
    },
    "id": "pjEWU2Bk8owd",
    "outputId": "cda994f9-a6f0-451d-837c-3ec2f87dd8db"
   },
   "outputs": [
    {
     "data": {
      "text/plain": [
       "Survived        0\n",
       "Age           177\n",
       "Ticket          0\n",
       "Fare            0\n",
       "Pclass_1        0\n",
       "Pclass_2        0\n",
       "Pclass_3        0\n",
       "Sex_female      0\n",
       "Sex_male        0\n",
       "Embarked_C      0\n",
       "Embarked_Q      0\n",
       "Embarked_S      0\n",
       "dtype: int64"
      ]
     },
     "execution_count": 25,
     "metadata": {
      "tags": []
     },
     "output_type": "execute_result"
    }
   ],
   "source": [
    "df1.isnull().sum()\n"
   ]
  },
  {
   "cell_type": "markdown",
   "metadata": {
    "colab_type": "text",
    "id": "s-c2X-kksnRt"
   },
   "source": [
    "As mentioned above in the note of `FeatureUnion`, there is an estimator named `ColumnTransformer` that helps to transformation column separately. Here, for numerical data transformation, you need to use it."
   ]
  },
  {
   "cell_type": "code",
   "execution_count": 0,
   "metadata": {
    "colab": {},
    "colab_type": "code",
    "id": "Mhp8X3LJKoOR"
   },
   "outputs": [],
   "source": [
    "from sklearn.compose import ColumnTransformer\n",
    "from sklearn.preprocessing import RobustScaler\n",
    "from sklearn.impute import SimpleImputer\n",
    "\n",
    "## creating numerical transformer for numerical transformation\n",
    "\n",
    "numerical_transformer = ColumnTransformer([('num', Pipeline(steps=[\n",
    "    ('imputer', SimpleImputer(missing_values=np.nan, strategy='median')),                                                     \n",
    "    ('numerical_transformer', RobustScaler())                                                    \n",
    "]), numerical_data)])"
   ]
  },
  {
   "cell_type": "code",
   "execution_count": 0,
   "metadata": {
    "colab": {
     "base_uri": "https://localhost:8080/",
     "height": 35
    },
    "colab_type": "code",
    "executionInfo": {
     "elapsed": 3615,
     "status": "ok",
     "timestamp": 1588297110972,
     "user": {
      "displayName": "Bikash Gupta",
      "photoUrl": "https://lh3.googleusercontent.com/a-/AOh14Gg4wYK5MdXcpug05peoXpwJhGYMDKdexzV1EuTZ=s64",
      "userId": "05237873868090062569"
     },
     "user_tz": -345
    },
    "id": "tDKCd-edxMOc",
    "outputId": "5523d513-67c6-427a-a461-b80047e104f2"
   },
   "outputs": [
    {
     "data": {
      "text/plain": [
       "array([-0.46153846, -0.3120106 ])"
      ]
     },
     "execution_count": 27,
     "metadata": {
      "tags": []
     },
     "output_type": "execute_result"
    }
   ],
   "source": [
    "## observing how our looks after numerical transformation\n",
    "df2 = numerical_transformer.fit_transform(data)\n",
    "df2[0]\n"
   ]
  },
  {
   "cell_type": "code",
   "execution_count": 0,
   "metadata": {
    "colab": {
     "base_uri": "https://localhost:8080/",
     "height": 35
    },
    "colab_type": "code",
    "executionInfo": {
     "elapsed": 3599,
     "status": "ok",
     "timestamp": 1588297110973,
     "user": {
      "displayName": "Bikash Gupta",
      "photoUrl": "https://lh3.googleusercontent.com/a-/AOh14Gg4wYK5MdXcpug05peoXpwJhGYMDKdexzV1EuTZ=s64",
      "userId": "05237873868090062569"
     },
     "user_tz": -345
    },
    "id": "UXFs-tZY8F2L",
    "outputId": "738a491b-b89a-4183-d1f2-392adc9bd32c"
   },
   "outputs": [
    {
     "data": {
      "text/plain": [
       "0"
      ]
     },
     "execution_count": 28,
     "metadata": {
      "tags": []
     },
     "output_type": "execute_result"
    }
   ],
   "source": [
    "##checking the null values are imputed or not\n",
    "np.isnan(df2).any().sum()"
   ]
  },
  {
   "cell_type": "code",
   "execution_count": 0,
   "metadata": {
    "colab": {
     "base_uri": "https://localhost:8080/",
     "height": 163
    },
    "colab_type": "code",
    "executionInfo": {
     "elapsed": 4507,
     "status": "ok",
     "timestamp": 1588297111901,
     "user": {
      "displayName": "Bikash Gupta",
      "photoUrl": "https://lh3.googleusercontent.com/a-/AOh14Gg4wYK5MdXcpug05peoXpwJhGYMDKdexzV1EuTZ=s64",
      "userId": "05237873868090062569"
     },
     "user_tz": -345
    },
    "id": "LB_m7Shrckrn",
    "outputId": "28200e26-d3e1-4102-d56d-31910619d873"
   },
   "outputs": [
    {
     "name": "stdout",
     "output_type": "stream",
     "text": [
      "(891, 2)\n"
     ]
    },
    {
     "data": {
      "text/plain": [
       "array([[-0.46153846, -0.3120106 ],\n",
       "       [ 0.76923077,  2.46124229],\n",
       "       [-0.15384615, -0.28277666],\n",
       "       ...,\n",
       "       [ 0.        ,  0.38960398],\n",
       "       [-0.15384615,  0.67328148],\n",
       "       [ 0.30769231, -0.29035583]])"
      ]
     },
     "execution_count": 29,
     "metadata": {
      "tags": []
     },
     "output_type": "execute_result"
    }
   ],
   "source": [
    "##final data preprocessing pipeline\n",
    "preprocessed = Pipeline(steps=[\n",
    "                ('categorical', categorical_transformer),\n",
    "                ('numerical', numerical_transformer)\n",
    "                \n",
    "              ])\n",
    "\n",
    "df = preprocessed.fit_transform(data)\n",
    "print(df.shape)\n",
    "df"
   ]
  },
  {
   "cell_type": "code",
   "execution_count": 0,
   "metadata": {
    "colab": {
     "base_uri": "https://localhost:8080/",
     "height": 35
    },
    "colab_type": "code",
    "executionInfo": {
     "elapsed": 4489,
     "status": "ok",
     "timestamp": 1588297111902,
     "user": {
      "displayName": "Bikash Gupta",
      "photoUrl": "https://lh3.googleusercontent.com/a-/AOh14Gg4wYK5MdXcpug05peoXpwJhGYMDKdexzV1EuTZ=s64",
      "userId": "05237873868090062569"
     },
     "user_tz": -345
    },
    "id": "ZlRVnDv570Jy",
    "outputId": "1a9808f6-122f-4f1c-dd85-ea37c996f066"
   },
   "outputs": [
    {
     "data": {
      "text/plain": [
       "0"
      ]
     },
     "execution_count": 30,
     "metadata": {
      "tags": []
     },
     "output_type": "execute_result"
    }
   ],
   "source": [
    "##checking any null values\n",
    "np.isnan(df).any().sum()\n",
    "\n"
   ]
  },
  {
   "cell_type": "markdown",
   "metadata": {
    "colab_type": "text",
    "id": "zJP5R25vHNjk"
   },
   "source": [
    "### Train Test Split\n",
    "\n",
    "Here, splitting the dataset using [train_test_split](https://scikit-learn.org/stable/modules/generated/sklearn.model_selection.train_test_split.html) method."
   ]
  },
  {
   "cell_type": "code",
   "execution_count": 0,
   "metadata": {
    "colab": {
     "base_uri": "https://localhost:8080/",
     "height": 35
    },
    "colab_type": "code",
    "executionInfo": {
     "elapsed": 4467,
     "status": "ok",
     "timestamp": 1588297111903,
     "user": {
      "displayName": "Bikash Gupta",
      "photoUrl": "https://lh3.googleusercontent.com/a-/AOh14Gg4wYK5MdXcpug05peoXpwJhGYMDKdexzV1EuTZ=s64",
      "userId": "05237873868090062569"
     },
     "user_tz": -345
    },
    "id": "Id3jjX5a4qT5",
    "outputId": "d35ccca8-5ca7-49ae-9a39-28bfab402db8"
   },
   "outputs": [
    {
     "name": "stdout",
     "output_type": "stream",
     "text": [
      "(891, 6) (891,)\n"
     ]
    }
   ],
   "source": [
    "from sklearn.model_selection import train_test_split\n",
    "##separating target value form original dataset and dropping it\n",
    "Y = data['Survived']\n",
    "X = data.drop(columns=['Survived'])\n",
    "print (X.shape, Y.shape)"
   ]
  },
  {
   "cell_type": "code",
   "execution_count": 0,
   "metadata": {
    "colab": {},
    "colab_type": "code",
    "id": "mulkaotx44T7"
   },
   "outputs": [],
   "source": [
    "X_train, X_test, y_train, y_test = train_test_split(X, Y)"
   ]
  },
  {
   "cell_type": "markdown",
   "metadata": {
    "colab_type": "text",
    "id": "Z5paMHrbchV0"
   },
   "source": [
    "## MODEL TRAINING AND TUNING\n",
    "\n",
    "here, you train your data sets on deifferent modelsand choose the best model. You learned about hyperparameter search in the previous chapter. Here, we use the grid search method for hyper parameters search to find the best parameters for our model."
   ]
  },
  {
   "cell_type": "markdown",
   "metadata": {
    "colab_type": "text",
    "id": "u6sh2qKidebY"
   },
   "source": [
    "Let's first start with simple `Logistic regression` and observe the its results. Then, we try on different models along with it."
   ]
  },
  {
   "cell_type": "markdown",
   "metadata": {
    "colab_type": "text",
    "id": "wlKvdfWpGhGs"
   },
   "source": [
    "The different models on which the dataset gets trained on are:\n",
    "\n",
    "1. [Logistic Regression](https://scikit-learn.org/stable/modules/generated/sklearn.linear_model.LogisticRegression.html)\n",
    "\n",
    "2. [RandomForestClassifier](https://scikit-learn.org/stable/modules/generated/sklearn.ensemble.RandomForestClassifier.html)\n",
    "\n",
    "3. [SVC](https://scikit-learn.org/stable/modules/generated/sklearn.svm.SVC.html)\n",
    "\n",
    "4. [DecisionTreeClassifier](https://scikit-learn.org/stable/modules/generated/sklearn.tree.DecisionTreeClassifier.html)"
   ]
  },
  {
   "cell_type": "code",
   "execution_count": 0,
   "metadata": {
    "colab": {},
    "colab_type": "code",
    "id": "XeeYZeEFKoL6"
   },
   "outputs": [],
   "source": [
    "## importing different models\n",
    "from sklearn.linear_model import LogisticRegression\n",
    "from sklearn.ensemble import RandomForestClassifier\n",
    "from sklearn.tree import DecisionTreeClassifier\n",
    "from sklearn.svm import SVC"
   ]
  },
  {
   "cell_type": "markdown",
   "metadata": {
    "colab_type": "text",
    "id": "xKkgdoRWeSQr"
   },
   "source": [
    "#### Starting with simple Logistic Regression"
   ]
  },
  {
   "cell_type": "code",
   "execution_count": 0,
   "metadata": {
    "colab": {
     "base_uri": "https://localhost:8080/",
     "height": 565
    },
    "colab_type": "code",
    "executionInfo": {
     "elapsed": 4404,
     "status": "ok",
     "timestamp": 1588297111906,
     "user": {
      "displayName": "Bikash Gupta",
      "photoUrl": "https://lh3.googleusercontent.com/a-/AOh14Gg4wYK5MdXcpug05peoXpwJhGYMDKdexzV1EuTZ=s64",
      "userId": "05237873868090062569"
     },
     "user_tz": -345
    },
    "id": "9Fdsn1JteYvK",
    "outputId": "74ed3b97-376e-4baa-c66b-15ad9b2745ec"
   },
   "outputs": [
    {
     "data": {
      "text/plain": [
       "Pipeline(memory=None,\n",
       "         steps=[('pipeline',\n",
       "                 Pipeline(memory=None,\n",
       "                          steps=[('categorical',\n",
       "                                  Pipeline(memory=None,\n",
       "                                           steps=[('categorical_impute',\n",
       "                                                   <__main__.CategoricalImputation object at 0x7fa4f5633780>),\n",
       "                                                  ('creating_dummy_features',\n",
       "                                                   <__main__.DummyTransformer object at 0x7fa4f5633b00>)],\n",
       "                                           verbose=False)),\n",
       "                                 ('numerical',\n",
       "                                  ColumnTransformer(n_jobs=None,\n",
       "                                                    remainder='drop',\n",
       "                                                    sparse...\n",
       "                                                                                                 with_scaling=True))],\n",
       "                                                                            verbose=False),\n",
       "                                                                   ['Age',\n",
       "                                                                    'Fare'])],\n",
       "                                                    verbose=False))],\n",
       "                          verbose=False)),\n",
       "                ('logisticregression',\n",
       "                 LogisticRegression(C=1.0, class_weight=None, dual=False,\n",
       "                                    fit_intercept=True, intercept_scaling=1,\n",
       "                                    l1_ratio=None, max_iter=100,\n",
       "                                    multi_class='auto', n_jobs=None,\n",
       "                                    penalty='l2', random_state=None,\n",
       "                                    solver='lbfgs', tol=0.0001, verbose=0,\n",
       "                                    warm_start=False))],\n",
       "         verbose=False)"
      ]
     },
     "execution_count": 34,
     "metadata": {
      "tags": []
     },
     "output_type": "execute_result"
    }
   ],
   "source": [
    "##using make_pipeline to create pipeline\n",
    "pipe = make_pipeline(preprocessed, LogisticRegression())\n",
    "pipe"
   ]
  },
  {
   "cell_type": "code",
   "execution_count": 0,
   "metadata": {
    "colab": {
     "base_uri": "https://localhost:8080/",
     "height": 655
    },
    "colab_type": "code",
    "executionInfo": {
     "elapsed": 4376,
     "status": "ok",
     "timestamp": 1588297111906,
     "user": {
      "displayName": "Bikash Gupta",
      "photoUrl": "https://lh3.googleusercontent.com/a-/AOh14Gg4wYK5MdXcpug05peoXpwJhGYMDKdexzV1EuTZ=s64",
      "userId": "05237873868090062569"
     },
     "user_tz": -345
    },
    "id": "kb4wChtPfZQd",
    "outputId": "8d20d4a5-d5a7-4c96-9146-0ea3521d99bc"
   },
   "outputs": [
    {
     "name": "stderr",
     "output_type": "stream",
     "text": [
      "/usr/local/lib/python3.6/dist-packages/ipykernel_launcher.py:18: SettingWithCopyWarning: \n",
      "A value is trying to be set on a copy of a slice from a DataFrame.\n",
      "Try using .loc[row_indexer,col_indexer] = value instead\n",
      "\n",
      "See the caveats in the documentation: https://pandas.pydata.org/pandas-docs/stable/user_guide/indexing.html#returning-a-view-versus-a-copy\n"
     ]
    },
    {
     "data": {
      "text/plain": [
       "Pipeline(memory=None,\n",
       "         steps=[('pipeline',\n",
       "                 Pipeline(memory=None,\n",
       "                          steps=[('categorical',\n",
       "                                  Pipeline(memory=None,\n",
       "                                           steps=[('categorical_impute',\n",
       "                                                   <__main__.CategoricalImputation object at 0x7fa4f5633780>),\n",
       "                                                  ('creating_dummy_features',\n",
       "                                                   <__main__.DummyTransformer object at 0x7fa4f5633b00>)],\n",
       "                                           verbose=False)),\n",
       "                                 ('numerical',\n",
       "                                  ColumnTransformer(n_jobs=None,\n",
       "                                                    remainder='drop',\n",
       "                                                    sparse...\n",
       "                                                                                                 with_scaling=True))],\n",
       "                                                                            verbose=False),\n",
       "                                                                   ['Age',\n",
       "                                                                    'Fare'])],\n",
       "                                                    verbose=False))],\n",
       "                          verbose=False)),\n",
       "                ('logisticregression',\n",
       "                 LogisticRegression(C=1.0, class_weight=None, dual=False,\n",
       "                                    fit_intercept=True, intercept_scaling=1,\n",
       "                                    l1_ratio=None, max_iter=100,\n",
       "                                    multi_class='auto', n_jobs=None,\n",
       "                                    penalty='l2', random_state=None,\n",
       "                                    solver='lbfgs', tol=0.0001, verbose=0,\n",
       "                                    warm_start=False))],\n",
       "         verbose=False)"
      ]
     },
     "execution_count": 35,
     "metadata": {
      "tags": []
     },
     "output_type": "execute_result"
    }
   ],
   "source": [
    "##fitting the training dataset in the modelling pipeline\n",
    "pipe.fit(X_train, y_train)\n"
   ]
  },
  {
   "cell_type": "code",
   "execution_count": 0,
   "metadata": {
    "colab": {
     "base_uri": "https://localhost:8080/",
     "height": 146
    },
    "colab_type": "code",
    "executionInfo": {
     "elapsed": 4347,
     "status": "ok",
     "timestamp": 1588297111907,
     "user": {
      "displayName": "Bikash Gupta",
      "photoUrl": "https://lh3.googleusercontent.com/a-/AOh14Gg4wYK5MdXcpug05peoXpwJhGYMDKdexzV1EuTZ=s64",
      "userId": "05237873868090062569"
     },
     "user_tz": -345
    },
    "id": "VXXzuvz0f1Ji",
    "outputId": "82853c3c-8eb2-4fa0-87a8-4d4d471cfb07"
   },
   "outputs": [
    {
     "name": "stderr",
     "output_type": "stream",
     "text": [
      "/usr/local/lib/python3.6/dist-packages/ipykernel_launcher.py:18: SettingWithCopyWarning: \n",
      "A value is trying to be set on a copy of a slice from a DataFrame.\n",
      "Try using .loc[row_indexer,col_indexer] = value instead\n",
      "\n",
      "See the caveats in the documentation: https://pandas.pydata.org/pandas-docs/stable/user_guide/indexing.html#returning-a-view-versus-a-copy\n"
     ]
    },
    {
     "data": {
      "text/plain": [
       "0.6457399103139013"
      ]
     },
     "execution_count": 36,
     "metadata": {
      "tags": []
     },
     "output_type": "execute_result"
    }
   ],
   "source": [
    "## getting score of model on the test set\n",
    "pipe.score(X_test, y_test)"
   ]
  },
  {
   "cell_type": "code",
   "execution_count": 0,
   "metadata": {
    "colab": {
     "base_uri": "https://localhost:8080/",
     "height": 128
    },
    "colab_type": "code",
    "executionInfo": {
     "elapsed": 4331,
     "status": "ok",
     "timestamp": 1588297111908,
     "user": {
      "displayName": "Bikash Gupta",
      "photoUrl": "https://lh3.googleusercontent.com/a-/AOh14Gg4wYK5MdXcpug05peoXpwJhGYMDKdexzV1EuTZ=s64",
      "userId": "05237873868090062569"
     },
     "user_tz": -345
    },
    "id": "WQhDxDNbf1Hs",
    "outputId": "bc983a8e-c635-4191-873f-4f01eba72c0a"
   },
   "outputs": [
    {
     "name": "stderr",
     "output_type": "stream",
     "text": [
      "/usr/local/lib/python3.6/dist-packages/ipykernel_launcher.py:18: SettingWithCopyWarning: \n",
      "A value is trying to be set on a copy of a slice from a DataFrame.\n",
      "Try using .loc[row_indexer,col_indexer] = value instead\n",
      "\n",
      "See the caveats in the documentation: https://pandas.pydata.org/pandas-docs/stable/user_guide/indexing.html#returning-a-view-versus-a-copy\n"
     ]
    }
   ],
   "source": [
    "##Getting predictions on test set\n",
    "pred = pipe.predict(X_test)"
   ]
  },
  {
   "cell_type": "code",
   "execution_count": 0,
   "metadata": {
    "colab": {
     "base_uri": "https://localhost:8080/",
     "height": 181
    },
    "colab_type": "code",
    "executionInfo": {
     "elapsed": 4312,
     "status": "ok",
     "timestamp": 1588297111908,
     "user": {
      "displayName": "Bikash Gupta",
      "photoUrl": "https://lh3.googleusercontent.com/a-/AOh14Gg4wYK5MdXcpug05peoXpwJhGYMDKdexzV1EuTZ=s64",
      "userId": "05237873868090062569"
     },
     "user_tz": -345
    },
    "id": "m0SaUGy6gggV",
    "outputId": "e18f8927-b45a-4a15-c697-30dc3152b223"
   },
   "outputs": [
    {
     "name": "stdout",
     "output_type": "stream",
     "text": [
      "              precision    recall  f1-score   support\n",
      "\n",
      "           0       0.95      0.63      0.76       195\n",
      "           1       0.23      0.79      0.36        28\n",
      "\n",
      "    accuracy                           0.65       223\n",
      "   macro avg       0.59      0.71      0.56       223\n",
      "weighted avg       0.86      0.65      0.71       223\n",
      "\n"
     ]
    }
   ],
   "source": [
    "##getting the classification report\n",
    "from sklearn.metrics import classification_report\n",
    "\n",
    "report = classification_report(pred, y_test)\n",
    "print(report)"
   ]
  },
  {
   "cell_type": "code",
   "execution_count": 0,
   "metadata": {
    "colab": {
     "base_uri": "https://localhost:8080/",
     "height": 54
    },
    "colab_type": "code",
    "executionInfo": {
     "elapsed": 4290,
     "status": "ok",
     "timestamp": 1588297111909,
     "user": {
      "displayName": "Bikash Gupta",
      "photoUrl": "https://lh3.googleusercontent.com/a-/AOh14Gg4wYK5MdXcpug05peoXpwJhGYMDKdexzV1EuTZ=s64",
      "userId": "05237873868090062569"
     },
     "user_tz": -345
    },
    "id": "iBiT8FFHhPlT",
    "outputId": "e229d8f5-dd8b-4463-83ab-b9f2b3ecea1d"
   },
   "outputs": [
    {
     "name": "stdout",
     "output_type": "stream",
     "text": [
      "[[122   6]\n",
      " [ 73  22]]\n"
     ]
    }
   ],
   "source": [
    "##getting the confusidon_matrix\n",
    "from sklearn.metrics import confusion_matrix\n",
    "\n",
    "c_matrix = confusion_matrix(y_test, pred)\n",
    "print(c_matrix)"
   ]
  },
  {
   "cell_type": "markdown",
   "metadata": {
    "colab_type": "text",
    "id": "cNxoRnjBhw1l"
   },
   "source": [
    "You have seen how the steps like data preprocessing, modeling, scoring, and prediction capabilities consolidated into one single-engine. It means you only need to use an instance of `Pipeline` to get scores and predictions of the model."
   ]
  },
  {
   "cell_type": "markdown",
   "metadata": {
    "colab_type": "text",
    "id": "9t4Mh5tUmwlK"
   },
   "source": [
    "### Experimenting on multiple models"
   ]
  },
  {
   "cell_type": "markdown",
   "metadata": {
    "colab_type": "text",
    "id": "__XajzHIlV0c"
   },
   "source": [
    "You know ML is an iterative process, and one of its major tasks is to select a model for different case scenarios. This model selection process the data scientists/ML engineers achieve after performing multiple experiments on different situations with various models. This whole process is called `spot-checking models`.\n"
   ]
  },
  {
   "cell_type": "markdown",
   "metadata": {
    "colab_type": "text",
    "id": "x51warTimr8m"
   },
   "source": [
    "Here, we use the four different models mentioned above in the dataset to get the best model for the dataset.\n"
   ]
  },
  {
   "cell_type": "code",
   "execution_count": 0,
   "metadata": {
    "colab": {
     "base_uri": "https://localhost:8080/",
     "height": 435
    },
    "colab_type": "code",
    "executionInfo": {
     "elapsed": 4247,
     "status": "ok",
     "timestamp": 1588297111909,
     "user": {
      "displayName": "Bikash Gupta",
      "photoUrl": "https://lh3.googleusercontent.com/a-/AOh14Gg4wYK5MdXcpug05peoXpwJhGYMDKdexzV1EuTZ=s64",
      "userId": "05237873868090062569"
     },
     "user_tz": -345
    },
    "id": "ahvrwckpebj4",
    "outputId": "eaebb0b1-3024-4af7-912b-f2ada3a2c1b6"
   },
   "outputs": [
    {
     "data": {
      "text/plain": [
       "[LogisticRegression(C=1.0, class_weight=None, dual=False, fit_intercept=True,\n",
       "                    intercept_scaling=1, l1_ratio=None, max_iter=100,\n",
       "                    multi_class='auto', n_jobs=None, penalty='l2',\n",
       "                    random_state=None, solver='lbfgs', tol=0.0001, verbose=0,\n",
       "                    warm_start=False),\n",
       " RandomForestClassifier(bootstrap=True, ccp_alpha=0.0, class_weight=None,\n",
       "                        criterion='gini', max_depth=None, max_features='auto',\n",
       "                        max_leaf_nodes=None, max_samples=None,\n",
       "                        min_impurity_decrease=0.0, min_impurity_split=None,\n",
       "                        min_samples_leaf=1, min_samples_split=2,\n",
       "                        min_weight_fraction_leaf=0.0, n_estimators=100,\n",
       "                        n_jobs=None, oob_score=False, random_state=None,\n",
       "                        verbose=0, warm_start=False),\n",
       " DecisionTreeClassifier(ccp_alpha=0.0, class_weight=None, criterion='gini',\n",
       "                        max_depth=None, max_features=None, max_leaf_nodes=None,\n",
       "                        min_impurity_decrease=0.0, min_impurity_split=None,\n",
       "                        min_samples_leaf=1, min_samples_split=2,\n",
       "                        min_weight_fraction_leaf=0.0, presort='deprecated',\n",
       "                        random_state=None, splitter='best'),\n",
       " SVC(C=1.0, break_ties=False, cache_size=200, class_weight=None, coef0=0.0,\n",
       "     decision_function_shape='ovr', degree=3, gamma='scale', kernel='rbf',\n",
       "     max_iter=-1, probability=False, random_state=None, shrinking=True,\n",
       "     tol=0.001, verbose=False)]"
      ]
     },
     "execution_count": 40,
     "metadata": {
      "tags": []
     },
     "output_type": "execute_result"
    }
   ],
   "source": [
    "## putting all model estimators in the list\n",
    "classifiers = [ \n",
    "            LogisticRegression(), \n",
    "            RandomForestClassifier(),\n",
    "            DecisionTreeClassifier(),\n",
    "            SVC()\n",
    "          ]\n",
    "classifiers"
   ]
  },
  {
   "cell_type": "code",
   "execution_count": 0,
   "metadata": {
    "colab": {
     "base_uri": "https://localhost:8080/",
     "height": 1000
    },
    "colab_type": "code",
    "executionInfo": {
     "elapsed": 4220,
     "status": "ok",
     "timestamp": 1588297111910,
     "user": {
      "displayName": "Bikash Gupta",
      "photoUrl": "https://lh3.googleusercontent.com/a-/AOh14Gg4wYK5MdXcpug05peoXpwJhGYMDKdexzV1EuTZ=s64",
      "userId": "05237873868090062569"
     },
     "user_tz": -345
    },
    "id": "uP8uoL7OKn-g",
    "outputId": "2c90fd63-3a4c-4d79-96bd-11ba34fa4bc8"
   },
   "outputs": [
    {
     "name": "stderr",
     "output_type": "stream",
     "text": [
      "/usr/local/lib/python3.6/dist-packages/ipykernel_launcher.py:18: SettingWithCopyWarning: \n",
      "A value is trying to be set on a copy of a slice from a DataFrame.\n",
      "Try using .loc[row_indexer,col_indexer] = value instead\n",
      "\n",
      "See the caveats in the documentation: https://pandas.pydata.org/pandas-docs/stable/user_guide/indexing.html#returning-a-view-versus-a-copy\n",
      "/usr/local/lib/python3.6/dist-packages/ipykernel_launcher.py:18: SettingWithCopyWarning: \n",
      "A value is trying to be set on a copy of a slice from a DataFrame.\n",
      "Try using .loc[row_indexer,col_indexer] = value instead\n",
      "\n",
      "See the caveats in the documentation: https://pandas.pydata.org/pandas-docs/stable/user_guide/indexing.html#returning-a-view-versus-a-copy\n",
      "/usr/local/lib/python3.6/dist-packages/ipykernel_launcher.py:18: SettingWithCopyWarning: \n",
      "A value is trying to be set on a copy of a slice from a DataFrame.\n",
      "Try using .loc[row_indexer,col_indexer] = value instead\n",
      "\n",
      "See the caveats in the documentation: https://pandas.pydata.org/pandas-docs/stable/user_guide/indexing.html#returning-a-view-versus-a-copy\n",
      "/usr/local/lib/python3.6/dist-packages/ipykernel_launcher.py:18: SettingWithCopyWarning: \n",
      "A value is trying to be set on a copy of a slice from a DataFrame.\n",
      "Try using .loc[row_indexer,col_indexer] = value instead\n",
      "\n",
      "See the caveats in the documentation: https://pandas.pydata.org/pandas-docs/stable/user_guide/indexing.html#returning-a-view-versus-a-copy\n",
      "/usr/local/lib/python3.6/dist-packages/ipykernel_launcher.py:18: SettingWithCopyWarning: \n",
      "A value is trying to be set on a copy of a slice from a DataFrame.\n",
      "Try using .loc[row_indexer,col_indexer] = value instead\n",
      "\n",
      "See the caveats in the documentation: https://pandas.pydata.org/pandas-docs/stable/user_guide/indexing.html#returning-a-view-versus-a-copy\n",
      "/usr/local/lib/python3.6/dist-packages/ipykernel_launcher.py:18: SettingWithCopyWarning: \n",
      "A value is trying to be set on a copy of a slice from a DataFrame.\n",
      "Try using .loc[row_indexer,col_indexer] = value instead\n",
      "\n",
      "See the caveats in the documentation: https://pandas.pydata.org/pandas-docs/stable/user_guide/indexing.html#returning-a-view-versus-a-copy\n"
     ]
    },
    {
     "name": "stdout",
     "output_type": "stream",
     "text": [
      "\n",
      " LogisticRegression(C=1.0, class_weight=None, dual=False, fit_intercept=True,\n",
      "                   intercept_scaling=1, l1_ratio=None, max_iter=100,\n",
      "                   multi_class='auto', n_jobs=None, penalty='l2',\n",
      "                   random_state=None, solver='lbfgs', tol=0.0001, verbose=0,\n",
      "                   warm_start=False)\n",
      "model score: 0.6457399103139013 \n",
      "\n",
      "\n",
      " RandomForestClassifier(bootstrap=True, ccp_alpha=0.0, class_weight=None,\n",
      "                       criterion='gini', max_depth=None, max_features='auto',\n",
      "                       max_leaf_nodes=None, max_samples=None,\n",
      "                       min_impurity_decrease=0.0, min_impurity_split=None,\n",
      "                       min_samples_leaf=1, min_samples_split=2,\n",
      "                       min_weight_fraction_leaf=0.0, n_estimators=100,\n",
      "                       n_jobs=None, oob_score=False, random_state=None,\n",
      "                       verbose=0, warm_start=False)\n",
      "model score: 0.6636771300448431 \n",
      "\n",
      "\n",
      " DecisionTreeClassifier(ccp_alpha=0.0, class_weight=None, criterion='gini',\n",
      "                       max_depth=None, max_features=None, max_leaf_nodes=None,\n",
      "                       min_impurity_decrease=0.0, min_impurity_split=None,\n",
      "                       min_samples_leaf=1, min_samples_split=2,\n",
      "                       min_weight_fraction_leaf=0.0, presort='deprecated',\n",
      "                       random_state=None, splitter='best')\n",
      "model score: 0.6457399103139013 \n",
      "\n",
      "\n",
      " SVC(C=1.0, break_ties=False, cache_size=200, class_weight=None, coef0=0.0,\n",
      "    decision_function_shape='ovr', degree=3, gamma='scale', kernel='rbf',\n",
      "    max_iter=-1, probability=False, random_state=None, shrinking=True,\n",
      "    tol=0.001, verbose=False)\n",
      "model score: 0.6278026905829597 \n",
      "\n"
     ]
    },
    {
     "name": "stderr",
     "output_type": "stream",
     "text": [
      "/usr/local/lib/python3.6/dist-packages/ipykernel_launcher.py:18: SettingWithCopyWarning: \n",
      "A value is trying to be set on a copy of a slice from a DataFrame.\n",
      "Try using .loc[row_indexer,col_indexer] = value instead\n",
      "\n",
      "See the caveats in the documentation: https://pandas.pydata.org/pandas-docs/stable/user_guide/indexing.html#returning-a-view-versus-a-copy\n",
      "/usr/local/lib/python3.6/dist-packages/ipykernel_launcher.py:18: SettingWithCopyWarning: \n",
      "A value is trying to be set on a copy of a slice from a DataFrame.\n",
      "Try using .loc[row_indexer,col_indexer] = value instead\n",
      "\n",
      "See the caveats in the documentation: https://pandas.pydata.org/pandas-docs/stable/user_guide/indexing.html#returning-a-view-versus-a-copy\n",
      "/usr/local/lib/python3.6/dist-packages/ipykernel_launcher.py:18: SettingWithCopyWarning: \n",
      "A value is trying to be set on a copy of a slice from a DataFrame.\n",
      "Try using .loc[row_indexer,col_indexer] = value instead\n",
      "\n",
      "See the caveats in the documentation: https://pandas.pydata.org/pandas-docs/stable/user_guide/indexing.html#returning-a-view-versus-a-copy\n",
      "/usr/local/lib/python3.6/dist-packages/ipykernel_launcher.py:18: SettingWithCopyWarning: \n",
      "A value is trying to be set on a copy of a slice from a DataFrame.\n",
      "Try using .loc[row_indexer,col_indexer] = value instead\n",
      "\n",
      "See the caveats in the documentation: https://pandas.pydata.org/pandas-docs/stable/user_guide/indexing.html#returning-a-view-versus-a-copy\n",
      "/usr/local/lib/python3.6/dist-packages/ipykernel_launcher.py:18: SettingWithCopyWarning: \n",
      "A value is trying to be set on a copy of a slice from a DataFrame.\n",
      "Try using .loc[row_indexer,col_indexer] = value instead\n",
      "\n",
      "See the caveats in the documentation: https://pandas.pydata.org/pandas-docs/stable/user_guide/indexing.html#returning-a-view-versus-a-copy\n",
      "/usr/local/lib/python3.6/dist-packages/ipykernel_launcher.py:18: SettingWithCopyWarning: \n",
      "A value is trying to be set on a copy of a slice from a DataFrame.\n",
      "Try using .loc[row_indexer,col_indexer] = value instead\n",
      "\n",
      "See the caveats in the documentation: https://pandas.pydata.org/pandas-docs/stable/user_guide/indexing.html#returning-a-view-versus-a-copy\n",
      "/usr/local/lib/python3.6/dist-packages/ipykernel_launcher.py:18: SettingWithCopyWarning: \n",
      "A value is trying to be set on a copy of a slice from a DataFrame.\n",
      "Try using .loc[row_indexer,col_indexer] = value instead\n",
      "\n",
      "See the caveats in the documentation: https://pandas.pydata.org/pandas-docs/stable/user_guide/indexing.html#returning-a-view-versus-a-copy\n",
      "/usr/local/lib/python3.6/dist-packages/ipykernel_launcher.py:18: SettingWithCopyWarning: \n",
      "A value is trying to be set on a copy of a slice from a DataFrame.\n",
      "Try using .loc[row_indexer,col_indexer] = value instead\n",
      "\n",
      "See the caveats in the documentation: https://pandas.pydata.org/pandas-docs/stable/user_guide/indexing.html#returning-a-view-versus-a-copy\n",
      "/usr/local/lib/python3.6/dist-packages/ipykernel_launcher.py:18: SettingWithCopyWarning: \n",
      "A value is trying to be set on a copy of a slice from a DataFrame.\n",
      "Try using .loc[row_indexer,col_indexer] = value instead\n",
      "\n",
      "See the caveats in the documentation: https://pandas.pydata.org/pandas-docs/stable/user_guide/indexing.html#returning-a-view-versus-a-copy\n",
      "/usr/local/lib/python3.6/dist-packages/ipykernel_launcher.py:18: SettingWithCopyWarning: \n",
      "A value is trying to be set on a copy of a slice from a DataFrame.\n",
      "Try using .loc[row_indexer,col_indexer] = value instead\n",
      "\n",
      "See the caveats in the documentation: https://pandas.pydata.org/pandas-docs/stable/user_guide/indexing.html#returning-a-view-versus-a-copy\n"
     ]
    }
   ],
   "source": [
    "## stores the best model among the three used models\n",
    "best_pipe = []\n",
    "## best_score is to compare the values of scores of different models \n",
    "## and store the best one \n",
    "best_score = 0\n",
    "\n",
    "for model in classifiers:\n",
    "  ## pipeline containing both preproceesed transformer and estimator\n",
    "\n",
    "  pipe = Pipeline(steps=[ \n",
    "                ('preprocessed', preprocessed),\n",
    "                ('classifier', model)\n",
    "              ])\n",
    "  \n",
    "  ## model fitting\n",
    "  pipe.fit(X_train, y_train)\n",
    "  ##printing the model \n",
    "  print('\\n', model)\n",
    "  ## prinitng score of respective model\n",
    "  print(\"model score:\", pipe.score(X_test, y_test), '\\n')\n",
    "  ## comparing the score of models with each other to find the best suited model\n",
    "  if pipe.score(X_test, y_test) > best_score:\n",
    "        best_pipe = [pipe, pipe.score(X_test, y_test)]\n",
    "        best_score = pipe.score(X_test, y_test)\n",
    "  \n",
    "  "
   ]
  },
  {
   "cell_type": "markdown",
   "metadata": {
    "colab_type": "text",
    "id": "cyWdwuF79PiM"
   },
   "source": [
    "From the above output, you can observe that the best model is `SVC` with score `0.704`.\n",
    "\n",
    "\n",
    "\n",
    " "
   ]
  },
  {
   "cell_type": "code",
   "execution_count": 0,
   "metadata": {
    "colab": {
     "base_uri": "https://localhost:8080/",
     "height": 510
    },
    "colab_type": "code",
    "executionInfo": {
     "elapsed": 4187,
     "status": "ok",
     "timestamp": 1588297111910,
     "user": {
      "displayName": "Bikash Gupta",
      "photoUrl": "https://lh3.googleusercontent.com/a-/AOh14Gg4wYK5MdXcpug05peoXpwJhGYMDKdexzV1EuTZ=s64",
      "userId": "05237873868090062569"
     },
     "user_tz": -345
    },
    "id": "kyOEHaynEZP0",
    "outputId": "6620decc-2dc2-43d3-94b3-2c8b79cd9929"
   },
   "outputs": [
    {
     "data": {
      "text/plain": [
       "[Pipeline(memory=None,\n",
       "          steps=[('preprocessed',\n",
       "                  Pipeline(memory=None,\n",
       "                           steps=[('categorical',\n",
       "                                   Pipeline(memory=None,\n",
       "                                            steps=[('categorical_impute',\n",
       "                                                    <__main__.CategoricalImputation object at 0x7fa4f5633780>),\n",
       "                                                   ('creating_dummy_features',\n",
       "                                                    <__main__.DummyTransformer object at 0x7fa4f5633b00>)],\n",
       "                                            verbose=False)),\n",
       "                                  ('numerical',\n",
       "                                   ColumnTransformer(n_jobs=None,\n",
       "                                                     remainder='drop',\n",
       "                                                     sp...\n",
       "                  RandomForestClassifier(bootstrap=True, ccp_alpha=0.0,\n",
       "                                         class_weight=None, criterion='gini',\n",
       "                                         max_depth=None, max_features='auto',\n",
       "                                         max_leaf_nodes=None, max_samples=None,\n",
       "                                         min_impurity_decrease=0.0,\n",
       "                                         min_impurity_split=None,\n",
       "                                         min_samples_leaf=1, min_samples_split=2,\n",
       "                                         min_weight_fraction_leaf=0.0,\n",
       "                                         n_estimators=100, n_jobs=None,\n",
       "                                         oob_score=False, random_state=None,\n",
       "                                         verbose=0, warm_start=False))],\n",
       "          verbose=False), 0.6636771300448431]"
      ]
     },
     "execution_count": 42,
     "metadata": {
      "tags": []
     },
     "output_type": "execute_result"
    }
   ],
   "source": [
    "best_pipe"
   ]
  },
  {
   "cell_type": "code",
   "execution_count": 0,
   "metadata": {
    "colab": {
     "base_uri": "https://localhost:8080/",
     "height": 55
    },
    "colab_type": "code",
    "executionInfo": {
     "elapsed": 4162,
     "status": "ok",
     "timestamp": 1588297111911,
     "user": {
      "displayName": "Bikash Gupta",
      "photoUrl": "https://lh3.googleusercontent.com/a-/AOh14Gg4wYK5MdXcpug05peoXpwJhGYMDKdexzV1EuTZ=s64",
      "userId": "05237873868090062569"
     },
     "user_tz": -345
    },
    "id": "-E0AqJUj9N90",
    "outputId": "58ad9ab9-b3ce-4c6e-dd23-6da0db99c9f1"
   },
   "outputs": [
    {
     "name": "stdout",
     "output_type": "stream",
     "text": [
      "dict_keys(['memory', 'steps', 'verbose', 'preprocessed', 'classifier', 'preprocessed__memory', 'preprocessed__steps', 'preprocessed__verbose', 'preprocessed__categorical', 'preprocessed__numerical', 'preprocessed__categorical__memory', 'preprocessed__categorical__steps', 'preprocessed__categorical__verbose', 'preprocessed__categorical__categorical_impute', 'preprocessed__categorical__creating_dummy_features', 'preprocessed__numerical__n_jobs', 'preprocessed__numerical__remainder', 'preprocessed__numerical__sparse_threshold', 'preprocessed__numerical__transformer_weights', 'preprocessed__numerical__transformers', 'preprocessed__numerical__verbose', 'preprocessed__numerical__num', 'preprocessed__numerical__num__memory', 'preprocessed__numerical__num__steps', 'preprocessed__numerical__num__verbose', 'preprocessed__numerical__num__imputer', 'preprocessed__numerical__num__numerical_transformer', 'preprocessed__numerical__num__imputer__add_indicator', 'preprocessed__numerical__num__imputer__copy', 'preprocessed__numerical__num__imputer__fill_value', 'preprocessed__numerical__num__imputer__missing_values', 'preprocessed__numerical__num__imputer__strategy', 'preprocessed__numerical__num__imputer__verbose', 'preprocessed__numerical__num__numerical_transformer__copy', 'preprocessed__numerical__num__numerical_transformer__quantile_range', 'preprocessed__numerical__num__numerical_transformer__with_centering', 'preprocessed__numerical__num__numerical_transformer__with_scaling', 'classifier__bootstrap', 'classifier__ccp_alpha', 'classifier__class_weight', 'classifier__criterion', 'classifier__max_depth', 'classifier__max_features', 'classifier__max_leaf_nodes', 'classifier__max_samples', 'classifier__min_impurity_decrease', 'classifier__min_impurity_split', 'classifier__min_samples_leaf', 'classifier__min_samples_split', 'classifier__min_weight_fraction_leaf', 'classifier__n_estimators', 'classifier__n_jobs', 'classifier__oob_score', 'classifier__random_state', 'classifier__verbose', 'classifier__warm_start'])\n"
     ]
    }
   ],
   "source": [
    "## getting the parameters key  \n",
    "print(best_pipe[0].get_params().keys())"
   ]
  },
  {
   "cell_type": "code",
   "execution_count": 0,
   "metadata": {
    "colab": {},
    "colab_type": "code",
    "id": "MW8rvG53F-Cy"
   },
   "outputs": [],
   "source": [
    "## param_grid:\n",
    "## consists of the dictionary of parameters names as keys and lists of parrameter settings to try values\n",
    "param_grid = { \n",
    "    'classifier__n_estimators': [200, 350],\n",
    "    'classifier__max_depth' : [4,5,6,7,8],\n",
    "}"
   ]
  },
  {
   "cell_type": "code",
   "execution_count": 0,
   "metadata": {
    "colab": {
     "base_uri": "https://localhost:8080/",
     "height": 1000
    },
    "colab_type": "code",
    "executionInfo": {
     "elapsed": 20535,
     "status": "ok",
     "timestamp": 1588297319180,
     "user": {
      "displayName": "Bikash Gupta",
      "photoUrl": "https://lh3.googleusercontent.com/a-/AOh14Gg4wYK5MdXcpug05peoXpwJhGYMDKdexzV1EuTZ=s64",
      "userId": "05237873868090062569"
     },
     "user_tz": -345
    },
    "id": "QZntnph4ISSS",
    "outputId": "83cc6a22-ab4d-422a-b1bd-ce4d790ff851"
   },
   "outputs": [
    {
     "name": "stderr",
     "output_type": "stream",
     "text": [
      "/usr/local/lib/python3.6/dist-packages/ipykernel_launcher.py:18: SettingWithCopyWarning: \n",
      "A value is trying to be set on a copy of a slice from a DataFrame.\n",
      "Try using .loc[row_indexer,col_indexer] = value instead\n",
      "\n",
      "See the caveats in the documentation: https://pandas.pydata.org/pandas-docs/stable/user_guide/indexing.html#returning-a-view-versus-a-copy\n",
      "/usr/local/lib/python3.6/dist-packages/ipykernel_launcher.py:18: SettingWithCopyWarning: \n",
      "A value is trying to be set on a copy of a slice from a DataFrame.\n",
      "Try using .loc[row_indexer,col_indexer] = value instead\n",
      "\n",
      "See the caveats in the documentation: https://pandas.pydata.org/pandas-docs/stable/user_guide/indexing.html#returning-a-view-versus-a-copy\n",
      "/usr/local/lib/python3.6/dist-packages/ipykernel_launcher.py:18: SettingWithCopyWarning: \n",
      "A value is trying to be set on a copy of a slice from a DataFrame.\n",
      "Try using .loc[row_indexer,col_indexer] = value instead\n",
      "\n",
      "See the caveats in the documentation: https://pandas.pydata.org/pandas-docs/stable/user_guide/indexing.html#returning-a-view-versus-a-copy\n",
      "/usr/local/lib/python3.6/dist-packages/ipykernel_launcher.py:18: SettingWithCopyWarning: \n",
      "A value is trying to be set on a copy of a slice from a DataFrame.\n",
      "Try using .loc[row_indexer,col_indexer] = value instead\n",
      "\n",
      "See the caveats in the documentation: https://pandas.pydata.org/pandas-docs/stable/user_guide/indexing.html#returning-a-view-versus-a-copy\n",
      "/usr/local/lib/python3.6/dist-packages/ipykernel_launcher.py:18: SettingWithCopyWarning: \n",
      "A value is trying to be set on a copy of a slice from a DataFrame.\n",
      "Try using .loc[row_indexer,col_indexer] = value instead\n",
      "\n",
      "See the caveats in the documentation: https://pandas.pydata.org/pandas-docs/stable/user_guide/indexing.html#returning-a-view-versus-a-copy\n",
      "/usr/local/lib/python3.6/dist-packages/ipykernel_launcher.py:18: SettingWithCopyWarning: \n",
      "A value is trying to be set on a copy of a slice from a DataFrame.\n",
      "Try using .loc[row_indexer,col_indexer] = value instead\n",
      "\n",
      "See the caveats in the documentation: https://pandas.pydata.org/pandas-docs/stable/user_guide/indexing.html#returning-a-view-versus-a-copy\n",
      "/usr/local/lib/python3.6/dist-packages/ipykernel_launcher.py:18: SettingWithCopyWarning: \n",
      "A value is trying to be set on a copy of a slice from a DataFrame.\n",
      "Try using .loc[row_indexer,col_indexer] = value instead\n",
      "\n",
      "See the caveats in the documentation: https://pandas.pydata.org/pandas-docs/stable/user_guide/indexing.html#returning-a-view-versus-a-copy\n",
      "/usr/local/lib/python3.6/dist-packages/ipykernel_launcher.py:18: SettingWithCopyWarning: \n",
      "A value is trying to be set on a copy of a slice from a DataFrame.\n",
      "Try using .loc[row_indexer,col_indexer] = value instead\n",
      "\n",
      "See the caveats in the documentation: https://pandas.pydata.org/pandas-docs/stable/user_guide/indexing.html#returning-a-view-versus-a-copy\n",
      "/usr/local/lib/python3.6/dist-packages/ipykernel_launcher.py:18: SettingWithCopyWarning: \n",
      "A value is trying to be set on a copy of a slice from a DataFrame.\n",
      "Try using .loc[row_indexer,col_indexer] = value instead\n",
      "\n",
      "See the caveats in the documentation: https://pandas.pydata.org/pandas-docs/stable/user_guide/indexing.html#returning-a-view-versus-a-copy\n",
      "/usr/local/lib/python3.6/dist-packages/ipykernel_launcher.py:18: SettingWithCopyWarning: \n",
      "A value is trying to be set on a copy of a slice from a DataFrame.\n",
      "Try using .loc[row_indexer,col_indexer] = value instead\n",
      "\n",
      "See the caveats in the documentation: https://pandas.pydata.org/pandas-docs/stable/user_guide/indexing.html#returning-a-view-versus-a-copy\n",
      "/usr/local/lib/python3.6/dist-packages/ipykernel_launcher.py:18: SettingWithCopyWarning: \n",
      "A value is trying to be set on a copy of a slice from a DataFrame.\n",
      "Try using .loc[row_indexer,col_indexer] = value instead\n",
      "\n",
      "See the caveats in the documentation: https://pandas.pydata.org/pandas-docs/stable/user_guide/indexing.html#returning-a-view-versus-a-copy\n",
      "/usr/local/lib/python3.6/dist-packages/ipykernel_launcher.py:18: SettingWithCopyWarning: \n",
      "A value is trying to be set on a copy of a slice from a DataFrame.\n",
      "Try using .loc[row_indexer,col_indexer] = value instead\n",
      "\n",
      "See the caveats in the documentation: https://pandas.pydata.org/pandas-docs/stable/user_guide/indexing.html#returning-a-view-versus-a-copy\n",
      "/usr/local/lib/python3.6/dist-packages/ipykernel_launcher.py:18: SettingWithCopyWarning: \n",
      "A value is trying to be set on a copy of a slice from a DataFrame.\n",
      "Try using .loc[row_indexer,col_indexer] = value instead\n",
      "\n",
      "See the caveats in the documentation: https://pandas.pydata.org/pandas-docs/stable/user_guide/indexing.html#returning-a-view-versus-a-copy\n",
      "/usr/local/lib/python3.6/dist-packages/ipykernel_launcher.py:18: SettingWithCopyWarning: \n",
      "A value is trying to be set on a copy of a slice from a DataFrame.\n",
      "Try using .loc[row_indexer,col_indexer] = value instead\n",
      "\n",
      "See the caveats in the documentation: https://pandas.pydata.org/pandas-docs/stable/user_guide/indexing.html#returning-a-view-versus-a-copy\n",
      "/usr/local/lib/python3.6/dist-packages/ipykernel_launcher.py:18: SettingWithCopyWarning: \n",
      "A value is trying to be set on a copy of a slice from a DataFrame.\n",
      "Try using .loc[row_indexer,col_indexer] = value instead\n",
      "\n",
      "See the caveats in the documentation: https://pandas.pydata.org/pandas-docs/stable/user_guide/indexing.html#returning-a-view-versus-a-copy\n",
      "/usr/local/lib/python3.6/dist-packages/ipykernel_launcher.py:18: SettingWithCopyWarning: \n",
      "A value is trying to be set on a copy of a slice from a DataFrame.\n",
      "Try using .loc[row_indexer,col_indexer] = value instead\n",
      "\n",
      "See the caveats in the documentation: https://pandas.pydata.org/pandas-docs/stable/user_guide/indexing.html#returning-a-view-versus-a-copy\n",
      "/usr/local/lib/python3.6/dist-packages/ipykernel_launcher.py:18: SettingWithCopyWarning: \n",
      "A value is trying to be set on a copy of a slice from a DataFrame.\n",
      "Try using .loc[row_indexer,col_indexer] = value instead\n",
      "\n",
      "See the caveats in the documentation: https://pandas.pydata.org/pandas-docs/stable/user_guide/indexing.html#returning-a-view-versus-a-copy\n",
      "/usr/local/lib/python3.6/dist-packages/ipykernel_launcher.py:18: SettingWithCopyWarning: \n",
      "A value is trying to be set on a copy of a slice from a DataFrame.\n",
      "Try using .loc[row_indexer,col_indexer] = value instead\n",
      "\n",
      "See the caveats in the documentation: https://pandas.pydata.org/pandas-docs/stable/user_guide/indexing.html#returning-a-view-versus-a-copy\n",
      "/usr/local/lib/python3.6/dist-packages/ipykernel_launcher.py:18: SettingWithCopyWarning: \n",
      "A value is trying to be set on a copy of a slice from a DataFrame.\n",
      "Try using .loc[row_indexer,col_indexer] = value instead\n",
      "\n",
      "See the caveats in the documentation: https://pandas.pydata.org/pandas-docs/stable/user_guide/indexing.html#returning-a-view-versus-a-copy\n",
      "/usr/local/lib/python3.6/dist-packages/ipykernel_launcher.py:18: SettingWithCopyWarning: \n",
      "A value is trying to be set on a copy of a slice from a DataFrame.\n",
      "Try using .loc[row_indexer,col_indexer] = value instead\n",
      "\n",
      "See the caveats in the documentation: https://pandas.pydata.org/pandas-docs/stable/user_guide/indexing.html#returning-a-view-versus-a-copy\n",
      "/usr/local/lib/python3.6/dist-packages/ipykernel_launcher.py:18: SettingWithCopyWarning: \n",
      "A value is trying to be set on a copy of a slice from a DataFrame.\n",
      "Try using .loc[row_indexer,col_indexer] = value instead\n",
      "\n",
      "See the caveats in the documentation: https://pandas.pydata.org/pandas-docs/stable/user_guide/indexing.html#returning-a-view-versus-a-copy\n",
      "/usr/local/lib/python3.6/dist-packages/ipykernel_launcher.py:18: SettingWithCopyWarning: \n",
      "A value is trying to be set on a copy of a slice from a DataFrame.\n",
      "Try using .loc[row_indexer,col_indexer] = value instead\n",
      "\n",
      "See the caveats in the documentation: https://pandas.pydata.org/pandas-docs/stable/user_guide/indexing.html#returning-a-view-versus-a-copy\n",
      "/usr/local/lib/python3.6/dist-packages/ipykernel_launcher.py:18: SettingWithCopyWarning: \n",
      "A value is trying to be set on a copy of a slice from a DataFrame.\n",
      "Try using .loc[row_indexer,col_indexer] = value instead\n",
      "\n",
      "See the caveats in the documentation: https://pandas.pydata.org/pandas-docs/stable/user_guide/indexing.html#returning-a-view-versus-a-copy\n",
      "/usr/local/lib/python3.6/dist-packages/ipykernel_launcher.py:18: SettingWithCopyWarning: \n",
      "A value is trying to be set on a copy of a slice from a DataFrame.\n",
      "Try using .loc[row_indexer,col_indexer] = value instead\n",
      "\n",
      "See the caveats in the documentation: https://pandas.pydata.org/pandas-docs/stable/user_guide/indexing.html#returning-a-view-versus-a-copy\n",
      "/usr/local/lib/python3.6/dist-packages/ipykernel_launcher.py:18: SettingWithCopyWarning: \n",
      "A value is trying to be set on a copy of a slice from a DataFrame.\n",
      "Try using .loc[row_indexer,col_indexer] = value instead\n",
      "\n",
      "See the caveats in the documentation: https://pandas.pydata.org/pandas-docs/stable/user_guide/indexing.html#returning-a-view-versus-a-copy\n",
      "/usr/local/lib/python3.6/dist-packages/ipykernel_launcher.py:18: SettingWithCopyWarning: \n",
      "A value is trying to be set on a copy of a slice from a DataFrame.\n",
      "Try using .loc[row_indexer,col_indexer] = value instead\n",
      "\n",
      "See the caveats in the documentation: https://pandas.pydata.org/pandas-docs/stable/user_guide/indexing.html#returning-a-view-versus-a-copy\n",
      "/usr/local/lib/python3.6/dist-packages/ipykernel_launcher.py:18: SettingWithCopyWarning: \n",
      "A value is trying to be set on a copy of a slice from a DataFrame.\n",
      "Try using .loc[row_indexer,col_indexer] = value instead\n",
      "\n",
      "See the caveats in the documentation: https://pandas.pydata.org/pandas-docs/stable/user_guide/indexing.html#returning-a-view-versus-a-copy\n",
      "/usr/local/lib/python3.6/dist-packages/ipykernel_launcher.py:18: SettingWithCopyWarning: \n",
      "A value is trying to be set on a copy of a slice from a DataFrame.\n",
      "Try using .loc[row_indexer,col_indexer] = value instead\n",
      "\n",
      "See the caveats in the documentation: https://pandas.pydata.org/pandas-docs/stable/user_guide/indexing.html#returning-a-view-versus-a-copy\n",
      "/usr/local/lib/python3.6/dist-packages/ipykernel_launcher.py:18: SettingWithCopyWarning: \n",
      "A value is trying to be set on a copy of a slice from a DataFrame.\n",
      "Try using .loc[row_indexer,col_indexer] = value instead\n",
      "\n",
      "See the caveats in the documentation: https://pandas.pydata.org/pandas-docs/stable/user_guide/indexing.html#returning-a-view-versus-a-copy\n",
      "/usr/local/lib/python3.6/dist-packages/ipykernel_launcher.py:18: SettingWithCopyWarning: \n",
      "A value is trying to be set on a copy of a slice from a DataFrame.\n",
      "Try using .loc[row_indexer,col_indexer] = value instead\n",
      "\n",
      "See the caveats in the documentation: https://pandas.pydata.org/pandas-docs/stable/user_guide/indexing.html#returning-a-view-versus-a-copy\n",
      "/usr/local/lib/python3.6/dist-packages/ipykernel_launcher.py:18: SettingWithCopyWarning: \n",
      "A value is trying to be set on a copy of a slice from a DataFrame.\n",
      "Try using .loc[row_indexer,col_indexer] = value instead\n",
      "\n",
      "See the caveats in the documentation: https://pandas.pydata.org/pandas-docs/stable/user_guide/indexing.html#returning-a-view-versus-a-copy\n",
      "/usr/local/lib/python3.6/dist-packages/ipykernel_launcher.py:18: SettingWithCopyWarning: \n",
      "A value is trying to be set on a copy of a slice from a DataFrame.\n",
      "Try using .loc[row_indexer,col_indexer] = value instead\n",
      "\n",
      "See the caveats in the documentation: https://pandas.pydata.org/pandas-docs/stable/user_guide/indexing.html#returning-a-view-versus-a-copy\n",
      "/usr/local/lib/python3.6/dist-packages/ipykernel_launcher.py:18: SettingWithCopyWarning: \n",
      "A value is trying to be set on a copy of a slice from a DataFrame.\n",
      "Try using .loc[row_indexer,col_indexer] = value instead\n",
      "\n",
      "See the caveats in the documentation: https://pandas.pydata.org/pandas-docs/stable/user_guide/indexing.html#returning-a-view-versus-a-copy\n",
      "/usr/local/lib/python3.6/dist-packages/ipykernel_launcher.py:18: SettingWithCopyWarning: \n",
      "A value is trying to be set on a copy of a slice from a DataFrame.\n",
      "Try using .loc[row_indexer,col_indexer] = value instead\n",
      "\n",
      "See the caveats in the documentation: https://pandas.pydata.org/pandas-docs/stable/user_guide/indexing.html#returning-a-view-versus-a-copy\n",
      "/usr/local/lib/python3.6/dist-packages/ipykernel_launcher.py:18: SettingWithCopyWarning: \n",
      "A value is trying to be set on a copy of a slice from a DataFrame.\n",
      "Try using .loc[row_indexer,col_indexer] = value instead\n",
      "\n",
      "See the caveats in the documentation: https://pandas.pydata.org/pandas-docs/stable/user_guide/indexing.html#returning-a-view-versus-a-copy\n",
      "/usr/local/lib/python3.6/dist-packages/ipykernel_launcher.py:18: SettingWithCopyWarning: \n",
      "A value is trying to be set on a copy of a slice from a DataFrame.\n",
      "Try using .loc[row_indexer,col_indexer] = value instead\n",
      "\n",
      "See the caveats in the documentation: https://pandas.pydata.org/pandas-docs/stable/user_guide/indexing.html#returning-a-view-versus-a-copy\n",
      "/usr/local/lib/python3.6/dist-packages/ipykernel_launcher.py:18: SettingWithCopyWarning: \n",
      "A value is trying to be set on a copy of a slice from a DataFrame.\n",
      "Try using .loc[row_indexer,col_indexer] = value instead\n",
      "\n",
      "See the caveats in the documentation: https://pandas.pydata.org/pandas-docs/stable/user_guide/indexing.html#returning-a-view-versus-a-copy\n",
      "/usr/local/lib/python3.6/dist-packages/ipykernel_launcher.py:18: SettingWithCopyWarning: \n",
      "A value is trying to be set on a copy of a slice from a DataFrame.\n",
      "Try using .loc[row_indexer,col_indexer] = value instead\n",
      "\n",
      "See the caveats in the documentation: https://pandas.pydata.org/pandas-docs/stable/user_guide/indexing.html#returning-a-view-versus-a-copy\n",
      "/usr/local/lib/python3.6/dist-packages/ipykernel_launcher.py:18: SettingWithCopyWarning: \n",
      "A value is trying to be set on a copy of a slice from a DataFrame.\n",
      "Try using .loc[row_indexer,col_indexer] = value instead\n",
      "\n",
      "See the caveats in the documentation: https://pandas.pydata.org/pandas-docs/stable/user_guide/indexing.html#returning-a-view-versus-a-copy\n",
      "/usr/local/lib/python3.6/dist-packages/ipykernel_launcher.py:18: SettingWithCopyWarning: \n",
      "A value is trying to be set on a copy of a slice from a DataFrame.\n",
      "Try using .loc[row_indexer,col_indexer] = value instead\n",
      "\n",
      "See the caveats in the documentation: https://pandas.pydata.org/pandas-docs/stable/user_guide/indexing.html#returning-a-view-versus-a-copy\n",
      "/usr/local/lib/python3.6/dist-packages/ipykernel_launcher.py:18: SettingWithCopyWarning: \n",
      "A value is trying to be set on a copy of a slice from a DataFrame.\n",
      "Try using .loc[row_indexer,col_indexer] = value instead\n",
      "\n",
      "See the caveats in the documentation: https://pandas.pydata.org/pandas-docs/stable/user_guide/indexing.html#returning-a-view-versus-a-copy\n",
      "/usr/local/lib/python3.6/dist-packages/ipykernel_launcher.py:18: SettingWithCopyWarning: \n",
      "A value is trying to be set on a copy of a slice from a DataFrame.\n",
      "Try using .loc[row_indexer,col_indexer] = value instead\n",
      "\n",
      "See the caveats in the documentation: https://pandas.pydata.org/pandas-docs/stable/user_guide/indexing.html#returning-a-view-versus-a-copy\n",
      "/usr/local/lib/python3.6/dist-packages/ipykernel_launcher.py:18: SettingWithCopyWarning: \n",
      "A value is trying to be set on a copy of a slice from a DataFrame.\n",
      "Try using .loc[row_indexer,col_indexer] = value instead\n",
      "\n",
      "See the caveats in the documentation: https://pandas.pydata.org/pandas-docs/stable/user_guide/indexing.html#returning-a-view-versus-a-copy\n",
      "/usr/local/lib/python3.6/dist-packages/ipykernel_launcher.py:18: SettingWithCopyWarning: \n",
      "A value is trying to be set on a copy of a slice from a DataFrame.\n",
      "Try using .loc[row_indexer,col_indexer] = value instead\n",
      "\n",
      "See the caveats in the documentation: https://pandas.pydata.org/pandas-docs/stable/user_guide/indexing.html#returning-a-view-versus-a-copy\n",
      "/usr/local/lib/python3.6/dist-packages/ipykernel_launcher.py:18: SettingWithCopyWarning: \n",
      "A value is trying to be set on a copy of a slice from a DataFrame.\n",
      "Try using .loc[row_indexer,col_indexer] = value instead\n",
      "\n",
      "See the caveats in the documentation: https://pandas.pydata.org/pandas-docs/stable/user_guide/indexing.html#returning-a-view-versus-a-copy\n",
      "/usr/local/lib/python3.6/dist-packages/ipykernel_launcher.py:18: SettingWithCopyWarning: \n",
      "A value is trying to be set on a copy of a slice from a DataFrame.\n",
      "Try using .loc[row_indexer,col_indexer] = value instead\n",
      "\n",
      "See the caveats in the documentation: https://pandas.pydata.org/pandas-docs/stable/user_guide/indexing.html#returning-a-view-versus-a-copy\n",
      "/usr/local/lib/python3.6/dist-packages/ipykernel_launcher.py:18: SettingWithCopyWarning: \n",
      "A value is trying to be set on a copy of a slice from a DataFrame.\n",
      "Try using .loc[row_indexer,col_indexer] = value instead\n",
      "\n",
      "See the caveats in the documentation: https://pandas.pydata.org/pandas-docs/stable/user_guide/indexing.html#returning-a-view-versus-a-copy\n",
      "/usr/local/lib/python3.6/dist-packages/ipykernel_launcher.py:18: SettingWithCopyWarning: \n",
      "A value is trying to be set on a copy of a slice from a DataFrame.\n",
      "Try using .loc[row_indexer,col_indexer] = value instead\n",
      "\n",
      "See the caveats in the documentation: https://pandas.pydata.org/pandas-docs/stable/user_guide/indexing.html#returning-a-view-versus-a-copy\n",
      "/usr/local/lib/python3.6/dist-packages/ipykernel_launcher.py:18: SettingWithCopyWarning: \n",
      "A value is trying to be set on a copy of a slice from a DataFrame.\n",
      "Try using .loc[row_indexer,col_indexer] = value instead\n",
      "\n",
      "See the caveats in the documentation: https://pandas.pydata.org/pandas-docs/stable/user_guide/indexing.html#returning-a-view-versus-a-copy\n",
      "/usr/local/lib/python3.6/dist-packages/ipykernel_launcher.py:18: SettingWithCopyWarning: \n",
      "A value is trying to be set on a copy of a slice from a DataFrame.\n",
      "Try using .loc[row_indexer,col_indexer] = value instead\n",
      "\n",
      "See the caveats in the documentation: https://pandas.pydata.org/pandas-docs/stable/user_guide/indexing.html#returning-a-view-versus-a-copy\n",
      "/usr/local/lib/python3.6/dist-packages/ipykernel_launcher.py:18: SettingWithCopyWarning: \n",
      "A value is trying to be set on a copy of a slice from a DataFrame.\n",
      "Try using .loc[row_indexer,col_indexer] = value instead\n",
      "\n",
      "See the caveats in the documentation: https://pandas.pydata.org/pandas-docs/stable/user_guide/indexing.html#returning-a-view-versus-a-copy\n"
     ]
    },
    {
     "name": "stdout",
     "output_type": "stream",
     "text": [
      "{'classifier__max_depth': 7, 'classifier__n_estimators': 200}\n",
      "0.7140724946695095\n"
     ]
    }
   ],
   "source": [
    "from sklearn.model_selection import GridSearchCV\n",
    "\n",
    "## getting instance of GridSearchCV to perform exhaustive search\n",
    "cv = GridSearchCV(estimator=best_pipe[0],param_grid=param_grid)\n",
    " \n",
    "## fitting the data to perform exhaustive search\n",
    "cv.fit(X_train, y_train)\n",
    "##getting the best hyper parameters for the model   \n",
    "print(cv.best_params_)  \n",
    "## the best result produced by it\n",
    "print(cv.best_score_)"
   ]
  },
  {
   "cell_type": "code",
   "execution_count": 0,
   "metadata": {
    "colab": {
     "base_uri": "https://localhost:8080/",
     "height": 146
    },
    "colab_type": "code",
    "executionInfo": {
     "elapsed": 1132,
     "status": "ok",
     "timestamp": 1588297370774,
     "user": {
      "displayName": "Bikash Gupta",
      "photoUrl": "https://lh3.googleusercontent.com/a-/AOh14Gg4wYK5MdXcpug05peoXpwJhGYMDKdexzV1EuTZ=s64",
      "userId": "05237873868090062569"
     },
     "user_tz": -345
    },
    "id": "D4-gsg10IaS5",
    "outputId": "765b13e0-3227-4fea-ac04-576c6869e682"
   },
   "outputs": [
    {
     "name": "stdout",
     "output_type": "stream",
     "text": [
      "0.6860986547085202\n"
     ]
    },
    {
     "name": "stderr",
     "output_type": "stream",
     "text": [
      "/usr/local/lib/python3.6/dist-packages/ipykernel_launcher.py:18: SettingWithCopyWarning: \n",
      "A value is trying to be set on a copy of a slice from a DataFrame.\n",
      "Try using .loc[row_indexer,col_indexer] = value instead\n",
      "\n",
      "See the caveats in the documentation: https://pandas.pydata.org/pandas-docs/stable/user_guide/indexing.html#returning-a-view-versus-a-copy\n"
     ]
    }
   ],
   "source": [
    "## observing the result of the  best parameters obtained from exhaustive search\n",
    "\n",
    "print(cv.score(X_test, y_test))"
   ]
  },
  {
   "cell_type": "code",
   "execution_count": 0,
   "metadata": {
    "colab": {
     "base_uri": "https://localhost:8080/",
     "height": 128
    },
    "colab_type": "code",
    "executionInfo": {
     "elapsed": 1136,
     "status": "ok",
     "timestamp": 1588297407835,
     "user": {
      "displayName": "Bikash Gupta",
      "photoUrl": "https://lh3.googleusercontent.com/a-/AOh14Gg4wYK5MdXcpug05peoXpwJhGYMDKdexzV1EuTZ=s64",
      "userId": "05237873868090062569"
     },
     "user_tz": -345
    },
    "id": "M4v0zFPv5pkS",
    "outputId": "22ab232b-c24c-48f1-abfd-e0b7095ea560"
   },
   "outputs": [
    {
     "name": "stderr",
     "output_type": "stream",
     "text": [
      "/usr/local/lib/python3.6/dist-packages/ipykernel_launcher.py:18: SettingWithCopyWarning: \n",
      "A value is trying to be set on a copy of a slice from a DataFrame.\n",
      "Try using .loc[row_indexer,col_indexer] = value instead\n",
      "\n",
      "See the caveats in the documentation: https://pandas.pydata.org/pandas-docs/stable/user_guide/indexing.html#returning-a-view-versus-a-copy\n"
     ]
    }
   ],
   "source": [
    "pred_ = cv.predict(X_test)"
   ]
  },
  {
   "cell_type": "code",
   "execution_count": 0,
   "metadata": {
    "colab": {
     "base_uri": "https://localhost:8080/",
     "height": 181
    },
    "colab_type": "code",
    "executionInfo": {
     "elapsed": 1128,
     "status": "ok",
     "timestamp": 1588297432475,
     "user": {
      "displayName": "Bikash Gupta",
      "photoUrl": "https://lh3.googleusercontent.com/a-/AOh14Gg4wYK5MdXcpug05peoXpwJhGYMDKdexzV1EuTZ=s64",
      "userId": "05237873868090062569"
     },
     "user_tz": -345
    },
    "id": "hy1Z8PCE5zFF",
    "outputId": "6c4c9826-5e40-40d5-ef22-6b39816a0483"
   },
   "outputs": [
    {
     "name": "stdout",
     "output_type": "stream",
     "text": [
      "              precision    recall  f1-score   support\n",
      "\n",
      "           0       0.95      0.63      0.76       195\n",
      "           1       0.23      0.79      0.36        28\n",
      "\n",
      "    accuracy                           0.65       223\n",
      "   macro avg       0.59      0.71      0.56       223\n",
      "weighted avg       0.86      0.65      0.71       223\n",
      "\n"
     ]
    }
   ],
   "source": [
    "print(classification_report(pred, y_test))"
   ]
  },
  {
   "cell_type": "code",
   "execution_count": 0,
   "metadata": {
    "colab": {
     "base_uri": "https://localhost:8080/",
     "height": 54
    },
    "colab_type": "code",
    "executionInfo": {
     "elapsed": 1075,
     "status": "ok",
     "timestamp": 1588297461345,
     "user": {
      "displayName": "Bikash Gupta",
      "photoUrl": "https://lh3.googleusercontent.com/a-/AOh14Gg4wYK5MdXcpug05peoXpwJhGYMDKdexzV1EuTZ=s64",
      "userId": "05237873868090062569"
     },
     "user_tz": -345
    },
    "id": "CkHukKQg55dd",
    "outputId": "cc37e8a3-0758-494e-b0bd-9d65708b7e14"
   },
   "outputs": [
    {
     "name": "stdout",
     "output_type": "stream",
     "text": [
      "[[122   6]\n",
      " [ 73  22]]\n"
     ]
    }
   ],
   "source": [
    "print(confusion_matrix(y_test, pred))"
   ]
  }
 ],
 "metadata": {
  "accelerator": "GPU",
  "colab": {
   "authorship_tag": "ABX9TyMynDWeyhBrc8/kBOERwcju",
   "collapsed_sections": [],
   "name": "ML Pipeline Workflow using Sklearn.ipynb",
   "provenance": []
  },
  "kernelspec": {
   "display_name": "Python 3",
   "name": "python3"
  }
 },
 "nbformat": 4,
 "nbformat_minor": 0
}
