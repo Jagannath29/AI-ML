{
  "nbformat": 4,
  "nbformat_minor": 0,
  "metadata": {
    "colab": {
      "provenance": []
    },
    "kernelspec": {
      "name": "python3",
      "display_name": "Python 3"
    }
  },
  "cells": [
    {
      "cell_type": "markdown",
      "metadata": {
        "id": "xZ5qeQt_w7bg"
      },
      "source": [
        "# **Features from text**\n",
        "\n"
      ]
    },
    {
      "cell_type": "markdown",
      "metadata": {
        "id": "juW95sMikTiM"
      },
      "source": [
        "**Learning objectives:**\n",
        "\n",
        "\n",
        "In this chapter you will learn the following topics:\n",
        "\n",
        "- Encoding text data using countvectorizer\n",
        "\n",
        "- Encoding text data using Term Frequency and Inverted Document Frequency (TF-IDF)\n",
        "\n",
        "- Multinomial Naive Bayes Classification using TF-IDF\n",
        "\n"
      ]
    },
    {
      "cell_type": "markdown",
      "metadata": {
        "id": "YtEAi0DKlRVy"
      },
      "source": [
        "**Technical Requirements**\n",
        "\n",
        "In this chapter, you will use the following Python libraries:\n",
        "* pandas,\n",
        "* scikit-learn.\n",
        "\n",
        "Install a jupyter-notebook along with these libraries. To understand this topic, you should have familiarity with the above-mentioned libraries."
      ]
    },
    {
      "cell_type": "markdown",
      "metadata": {
        "id": "5Xw5Y2fVjn_w"
      },
      "source": [
        "__Introduction__\n",
        "\n",
        "We need feature enginnering to convert text data into a set of representative numbers this process is called text mining(ex Sentiment Analysis).Once we have numbers, we are back in a  game of data anslysis, where machine learning algorithms can help us with classification and clustering.\n",
        "\n"
      ]
    },
    {
      "cell_type": "markdown",
      "metadata": {
        "id": "FTpmArzmjr-a"
      },
      "source": [
        "**Example:**\n",
        "\n",
        "Word counts is the one of the simplest method to encode text data."
      ]
    },
    {
      "cell_type": "markdown",
      "metadata": {
        "id": "3D8okapT72kw"
      },
      "source": [
        "**Recap ...**\n",
        "\n",
        "\n",
        "\n",
        "```\n",
        "A. Document - Document is a single piece of text information. It could be a tweet, text message, book, email etc.\n",
        "\n",
        "B. Corpus - Corpus is a collection of documents. Simply, It's a list of text.\n",
        "\n",
        "C. Token - Token is a word, symbols, or phrase derived from a document through the process called tokenization.\n",
        "           For example, the document 'Tick the correct statement.' would have tokens of 'Tick', 'the', 'correct', and 'statement'.\n",
        "\n",
        "```\n",
        "\n",
        "_The process of assigning each unique number to each word is called tokenization._\n",
        "\n"
      ]
    },
    {
      "cell_type": "code",
      "metadata": {
        "id": "JBfr4CLd6G6q"
      },
      "source": [
        "corpus = [\n",
        "    'This is my pen.',\n",
        "    'This is the first first document.',\n",
        "    'Is this the my document?'\n",
        "]"
      ],
      "execution_count": null,
      "outputs": []
    },
    {
      "cell_type": "markdown",
      "metadata": {
        "id": "bLSnM14S7y7r"
      },
      "source": [
        "\n",
        "*We can construct a column representing the word \"document,\" the word \"first,\" the word \"pen,\" and so on. Using Scikit-Learn's CountVectorizer():*\n",
        "\n",
        "# **CountVectorizer**\n",
        "\n",
        "CountVectorizer converts text documents collection to a matrix of token counts.The tokens can be individual words or arrays of two or more consecutive\n",
        "words, that is, n-grams.\n",
        "\n",
        "\n"
      ]
    },
    {
      "cell_type": "code",
      "metadata": {
        "id": "GdpIdCYv6rzX",
        "outputId": "ce4a0d3f-5576-4555-c3d9-b50713d07eee",
        "colab": {
          "base_uri": "https://localhost:8080/",
          "height": 54
        }
      },
      "source": [
        "from sklearn.feature_extraction.text import CountVectorizer\n",
        "\n",
        "vec = CountVectorizer()\n",
        "X = vec.fit_transform(corpus)\n",
        "X"
      ],
      "execution_count": null,
      "outputs": [
        {
          "output_type": "execute_result",
          "data": {
            "text/plain": [
              "<3x7 sparse matrix of type '<class 'numpy.int64'>'\n",
              "\twith 14 stored elements in Compressed Sparse Row format>"
            ]
          },
          "metadata": {
            "tags": []
          },
          "execution_count": 20
        }
      ]
    },
    {
      "cell_type": "markdown",
      "metadata": {
        "id": "FzmBfI8r7PTT"
      },
      "source": [
        "*The result is a sparse matrix. The sparse matrix records the number of times each word appears.* Let's visualize the sparse matrix in the dataframe."
      ]
    },
    {
      "cell_type": "code",
      "metadata": {
        "id": "zltPcGWN6r5y",
        "outputId": "f533bf62-3c0e-41b4-ec38-a422092674f4",
        "colab": {
          "base_uri": "https://localhost:8080/",
          "height": 143
        }
      },
      "source": [
        "import pandas as pd\n",
        "pd.DataFrame(X.toarray(), columns=vec.get_feature_names())"
      ],
      "execution_count": null,
      "outputs": [
        {
          "output_type": "execute_result",
          "data": {
            "text/html": [
              "<div>\n",
              "<style scoped>\n",
              "    .dataframe tbody tr th:only-of-type {\n",
              "        vertical-align: middle;\n",
              "    }\n",
              "\n",
              "    .dataframe tbody tr th {\n",
              "        vertical-align: top;\n",
              "    }\n",
              "\n",
              "    .dataframe thead th {\n",
              "        text-align: right;\n",
              "    }\n",
              "</style>\n",
              "<table border=\"1\" class=\"dataframe\">\n",
              "  <thead>\n",
              "    <tr style=\"text-align: right;\">\n",
              "      <th></th>\n",
              "      <th>document</th>\n",
              "      <th>first</th>\n",
              "      <th>is</th>\n",
              "      <th>my</th>\n",
              "      <th>pen</th>\n",
              "      <th>the</th>\n",
              "      <th>this</th>\n",
              "    </tr>\n",
              "  </thead>\n",
              "  <tbody>\n",
              "    <tr>\n",
              "      <th>0</th>\n",
              "      <td>0</td>\n",
              "      <td>0</td>\n",
              "      <td>1</td>\n",
              "      <td>1</td>\n",
              "      <td>1</td>\n",
              "      <td>0</td>\n",
              "      <td>1</td>\n",
              "    </tr>\n",
              "    <tr>\n",
              "      <th>1</th>\n",
              "      <td>1</td>\n",
              "      <td>2</td>\n",
              "      <td>1</td>\n",
              "      <td>0</td>\n",
              "      <td>0</td>\n",
              "      <td>1</td>\n",
              "      <td>1</td>\n",
              "    </tr>\n",
              "    <tr>\n",
              "      <th>2</th>\n",
              "      <td>1</td>\n",
              "      <td>0</td>\n",
              "      <td>1</td>\n",
              "      <td>1</td>\n",
              "      <td>0</td>\n",
              "      <td>1</td>\n",
              "      <td>1</td>\n",
              "    </tr>\n",
              "  </tbody>\n",
              "</table>\n",
              "</div>"
            ],
            "text/plain": [
              "   document  first  is  my  pen  the  this\n",
              "0         0      0   1   1    1    0     1\n",
              "1         1      2   1   0    0    1     1\n",
              "2         1      0   1   1    0    1     1"
            ]
          },
          "metadata": {
            "tags": []
          },
          "execution_count": 21
        }
      ]
    },
    {
      "cell_type": "markdown",
      "metadata": {
        "id": "1zLIEyB69Ij1"
      },
      "source": [
        "**Disadvantage of CountVectorizer**\n",
        "\n",
        "* Raw word counts lead to features to put too much weight on words if they appear very frequently, which makes classification suboptimal."
      ]
    },
    {
      "cell_type": "markdown",
      "metadata": {
        "id": "Xc36qc-_92vq"
      },
      "source": [
        "**Do we have solutions?**\n",
        "Yes, We do. We can fix this using **term frequency-inverse document frequency (TF–IDF)**. TF–IDF is a common term weighting scheme in information retrieval, that has also found good use in document classification.Which weights the word counts by a measure of how often they appear in the documents."
      ]
    },
    {
      "cell_type": "markdown",
      "metadata": {
        "id": "btAgsy_hJ_2h"
      },
      "source": [
        "_In the following sections, we will further explain examples that illustrate how the tf-idfs is computed exactly and how the tf-idfs computed in scikit-learn’s TfidfTransformer and TfidfVectorizer._"
      ]
    },
    {
      "cell_type": "markdown",
      "metadata": {
        "id": "NsG0rHvJ92z4"
      },
      "source": [
        "# **TF-IDF**\n",
        "\n"
      ]
    },
    {
      "cell_type": "markdown",
      "metadata": {
        "id": "FWeGGKSe-aVB"
      },
      "source": [
        "tf stands for term-frequency,and tf-idf stands for (term-frequency)  *  (inverse document-frequency).\n",
        "\n",
        "$ \\text{tf-idf(t,d)}=\\text{tf(t,d)} \\times \\text{idf(t)} $\n",
        "\n"
      ]
    },
    {
      "cell_type": "markdown",
      "metadata": {
        "id": "xLSw2jZutCL9"
      },
      "source": [
        "Instead of looking at the raw counts of\n",
        "each word in each document in a dataset, tf-idf looks at a normalized count\n",
        "where each word count is divided by the number of documents this word appears\n",
        "in.\n",
        "\n",
        "\n",
        "\n",
        "$ tf(t, d) = (times ~word~ 't' ~ appears~ in~ document ~d) $\n",
        "\n",
        "$ \\text{tf-idf(t,d)} = tf(t, d) * N / ( documents ~ in ~ which ~ word ~ 't' ~ appears) $\n",
        "\n",
        "\n",
        "$ N~$is the total number of documents in the dataset.\n",
        "\n",
        " The fraction $N / ( documents\n",
        "...) $ is what’s known as the inverse document frequency $idf(t)$.\n",
        "\n",
        "- If a word appears in\n",
        "many documents, then its inverse document frequency is close to 1.\n",
        "\n",
        "- If a words appears in just a few documents, then the inverse document frequency is much\n",
        "higher."
      ]
    },
    {
      "cell_type": "markdown",
      "metadata": {
        "id": "_CoxvQ97tIx9"
      },
      "source": [
        "Alternatively, we can take a log transform instead using the raw inverse\n",
        "document frequency. Logarithm turns 1 into 0, and makes large numbers (those\n",
        "much greater than 1) smaller. (More on this later.)\n",
        "\n",
        "\n",
        "If we define tf-idf as:\n",
        "\n",
        "\n",
        "$ \\text{tf-idf(t,d)} = tf(t, d) * log (N /  documents~ in~ which ~word~ 't' ~appears) $\n",
        "then a word that appears in every single document will be effectively zeroed out,\n",
        "and a word that appears in very few documents will have an even larger count\n",
        "than before."
      ]
    },
    {
      "cell_type": "markdown",
      "metadata": {
        "id": "NduOOgQVrJv0"
      },
      "source": [
        "_Tf-idf makes rare words more prominent and effectively ignores common words._"
      ]
    },
    {
      "cell_type": "markdown",
      "metadata": {
        "id": "sgH22GEItHRj"
      },
      "source": [
        "Visit this link to know more about TF-IDF in sklearn.\n",
        "[TF-IDF](https://nlp.stanford.edu/IR-book/html/htmledition/tf-idf-weighting-1.html)"
      ]
    },
    {
      "cell_type": "markdown",
      "metadata": {
        "id": "vPP0VetNLyFs"
      },
      "source": [
        "**TfidfTransformer**\n",
        "\n",
        "Transform a count matrix to a normalized tf or tf-idf representation"
      ]
    },
    {
      "cell_type": "code",
      "metadata": {
        "id": "r1wkyiNbMynz",
        "outputId": "c3310316-b7bf-414e-b444-13d7b6ac62a4",
        "colab": {
          "base_uri": "https://localhost:8080/",
          "height": 72
        }
      },
      "source": [
        "from sklearn.feature_extraction.text import TfidfTransformer\n",
        "from sklearn.feature_extraction.text import CountVectorizer\n",
        "from sklearn.pipeline import Pipeline\n",
        "vocabulary = ['document',\t'first'\t,'is'\t,'my','pen'\t,'the'\t,'this']\n",
        "pipe = Pipeline([('count', CountVectorizer(vocabulary=vocabulary)),\n",
        "                 ('tfid', TfidfTransformer())]).fit(corpus)\n",
        "pipe['count'].transform(corpus).toarray()"
      ],
      "execution_count": null,
      "outputs": [
        {
          "output_type": "execute_result",
          "data": {
            "text/plain": [
              "array([[0, 0, 1, 1, 1, 0, 1],\n",
              "       [1, 2, 1, 0, 0, 1, 1],\n",
              "       [1, 0, 1, 1, 0, 1, 1]])"
            ]
          },
          "metadata": {
            "tags": []
          },
          "execution_count": 22
        }
      ]
    },
    {
      "cell_type": "code",
      "metadata": {
        "id": "bF1EVw2hMzMe",
        "outputId": "97a12545-468c-48e2-ebb0-ff60a4bf4f15",
        "colab": {
          "base_uri": "https://localhost:8080/",
          "height": 54
        }
      },
      "source": [
        "pipe['tfid'].idf_"
      ],
      "execution_count": null,
      "outputs": [
        {
          "output_type": "execute_result",
          "data": {
            "text/plain": [
              "array([1.28768207, 1.69314718, 1.        , 1.28768207, 1.69314718,\n",
              "       1.28768207, 1.        ])"
            ]
          },
          "metadata": {
            "tags": []
          },
          "execution_count": 23
        }
      ]
    },
    {
      "cell_type": "code",
      "metadata": {
        "id": "Au1c8H-OMzPl",
        "outputId": "fb09d83f-f367-4cfe-957f-3233b25512bc",
        "colab": {
          "base_uri": "https://localhost:8080/",
          "height": 143
        }
      },
      "source": [
        "pd.DataFrame(pipe.transform(corpus).toarray(), columns=vec.get_feature_names()) # vec is used in countvectoriser"
      ],
      "execution_count": null,
      "outputs": [
        {
          "output_type": "execute_result",
          "data": {
            "text/html": [
              "<div>\n",
              "<style scoped>\n",
              "    .dataframe tbody tr th:only-of-type {\n",
              "        vertical-align: middle;\n",
              "    }\n",
              "\n",
              "    .dataframe tbody tr th {\n",
              "        vertical-align: top;\n",
              "    }\n",
              "\n",
              "    .dataframe thead th {\n",
              "        text-align: right;\n",
              "    }\n",
              "</style>\n",
              "<table border=\"1\" class=\"dataframe\">\n",
              "  <thead>\n",
              "    <tr style=\"text-align: right;\">\n",
              "      <th></th>\n",
              "      <th>document</th>\n",
              "      <th>first</th>\n",
              "      <th>is</th>\n",
              "      <th>my</th>\n",
              "      <th>pen</th>\n",
              "      <th>the</th>\n",
              "      <th>this</th>\n",
              "    </tr>\n",
              "  </thead>\n",
              "  <tbody>\n",
              "    <tr>\n",
              "      <th>0</th>\n",
              "      <td>0.000000</td>\n",
              "      <td>0.000000</td>\n",
              "      <td>0.391484</td>\n",
              "      <td>0.504107</td>\n",
              "      <td>0.66284</td>\n",
              "      <td>0.000000</td>\n",
              "      <td>0.391484</td>\n",
              "    </tr>\n",
              "    <tr>\n",
              "      <th>1</th>\n",
              "      <td>0.314319</td>\n",
              "      <td>0.826584</td>\n",
              "      <td>0.244097</td>\n",
              "      <td>0.000000</td>\n",
              "      <td>0.00000</td>\n",
              "      <td>0.314319</td>\n",
              "      <td>0.244097</td>\n",
              "    </tr>\n",
              "    <tr>\n",
              "      <th>2</th>\n",
              "      <td>0.487591</td>\n",
              "      <td>0.000000</td>\n",
              "      <td>0.378658</td>\n",
              "      <td>0.487591</td>\n",
              "      <td>0.00000</td>\n",
              "      <td>0.487591</td>\n",
              "      <td>0.378658</td>\n",
              "    </tr>\n",
              "  </tbody>\n",
              "</table>\n",
              "</div>"
            ],
            "text/plain": [
              "   document     first        is        my      pen       the      this\n",
              "0  0.000000  0.000000  0.391484  0.504107  0.66284  0.000000  0.391484\n",
              "1  0.314319  0.826584  0.244097  0.000000  0.00000  0.314319  0.244097\n",
              "2  0.487591  0.000000  0.378658  0.487591  0.00000  0.487591  0.378658"
            ]
          },
          "metadata": {
            "tags": []
          },
          "execution_count": 24
        }
      ]
    },
    {
      "cell_type": "markdown",
      "metadata": {
        "id": "C7yxiV2gO9M9"
      },
      "source": [
        "\n",
        "**TfidfVectorizer**\n",
        "\n",
        "As tf–idf is very often used for text features, there is also another class called TfidfVectorizer that combines all the options of CountVectorizer and TfidfTransformer in a single model:"
      ]
    },
    {
      "cell_type": "code",
      "metadata": {
        "id": "QvHt7Fxp_wTD",
        "outputId": "d55b74de-8433-4395-c59b-1f47df18d3d1",
        "colab": {
          "base_uri": "https://localhost:8080/",
          "height": 143
        }
      },
      "source": [
        "from sklearn.feature_extraction.text import TfidfVectorizer\n",
        "vec = TfidfVectorizer()\n",
        "X = vec.fit_transform(corpus)\n",
        "pd.DataFrame(X.toarray(), columns=vec.get_feature_names())"
      ],
      "execution_count": null,
      "outputs": [
        {
          "output_type": "execute_result",
          "data": {
            "text/html": [
              "<div>\n",
              "<style scoped>\n",
              "    .dataframe tbody tr th:only-of-type {\n",
              "        vertical-align: middle;\n",
              "    }\n",
              "\n",
              "    .dataframe tbody tr th {\n",
              "        vertical-align: top;\n",
              "    }\n",
              "\n",
              "    .dataframe thead th {\n",
              "        text-align: right;\n",
              "    }\n",
              "</style>\n",
              "<table border=\"1\" class=\"dataframe\">\n",
              "  <thead>\n",
              "    <tr style=\"text-align: right;\">\n",
              "      <th></th>\n",
              "      <th>document</th>\n",
              "      <th>first</th>\n",
              "      <th>is</th>\n",
              "      <th>my</th>\n",
              "      <th>pen</th>\n",
              "      <th>the</th>\n",
              "      <th>this</th>\n",
              "    </tr>\n",
              "  </thead>\n",
              "  <tbody>\n",
              "    <tr>\n",
              "      <th>0</th>\n",
              "      <td>0.000000</td>\n",
              "      <td>0.000000</td>\n",
              "      <td>0.391484</td>\n",
              "      <td>0.504107</td>\n",
              "      <td>0.66284</td>\n",
              "      <td>0.000000</td>\n",
              "      <td>0.391484</td>\n",
              "    </tr>\n",
              "    <tr>\n",
              "      <th>1</th>\n",
              "      <td>0.314319</td>\n",
              "      <td>0.826584</td>\n",
              "      <td>0.244097</td>\n",
              "      <td>0.000000</td>\n",
              "      <td>0.00000</td>\n",
              "      <td>0.314319</td>\n",
              "      <td>0.244097</td>\n",
              "    </tr>\n",
              "    <tr>\n",
              "      <th>2</th>\n",
              "      <td>0.487591</td>\n",
              "      <td>0.000000</td>\n",
              "      <td>0.378658</td>\n",
              "      <td>0.487591</td>\n",
              "      <td>0.00000</td>\n",
              "      <td>0.487591</td>\n",
              "      <td>0.378658</td>\n",
              "    </tr>\n",
              "  </tbody>\n",
              "</table>\n",
              "</div>"
            ],
            "text/plain": [
              "   document     first        is        my      pen       the      this\n",
              "0  0.000000  0.000000  0.391484  0.504107  0.66284  0.000000  0.391484\n",
              "1  0.314319  0.826584  0.244097  0.000000  0.00000  0.314319  0.244097\n",
              "2  0.487591  0.000000  0.378658  0.487591  0.00000  0.487591  0.378658"
            ]
          },
          "metadata": {
            "tags": []
          },
          "execution_count": 25
        }
      ]
    },
    {
      "cell_type": "markdown",
      "metadata": {
        "id": "ZaAxaUHx-ag0"
      },
      "source": [
        "*Each row is normalized to have unit Euclidean norm.*"
      ]
    },
    {
      "cell_type": "markdown",
      "metadata": {
        "id": "D_NfPPC3Praj"
      },
      "source": [
        "***The best way to adjust the feature extraction parameters is to use a cross-validated grid search, for instance by pipelining the feature extractor with a classifier:***"
      ]
    },
    {
      "cell_type": "markdown",
      "metadata": {
        "id": "zelnWdp_SPsr"
      },
      "source": [
        "**An example of using TF-IDF in a classification problem use Naive Bayes Classification.**"
      ]
    },
    {
      "cell_type": "markdown",
      "metadata": {
        "id": "ei7JoI32UdwZ"
      },
      "source": [
        "# **Multinomial Naive Bayes Classification**\n",
        "\n",
        "\n",
        "\"Multinomial Naive Bayes models the distribution of\n",
        "words in a document as a multinomial. A document is\n",
        "treated as a sequence of words and it is assumed that\n",
        "each word position is generated independently of every\n",
        "other.\" [Tackling the Poor Assumptions of Naive Bayes Text Classifiers\n",
        "](https://people.csail.mit.edu/jrennie/papers/icml03-nb.pdf)"
      ]
    },
    {
      "cell_type": "markdown",
      "metadata": {
        "id": "2gdP-0Q0vwwU"
      },
      "source": [
        "_In this example we consider a multiclass text classification problem based on the 20 newsgroups dataset which contains the text of nearly 20,000 newsgroup posts partitioned across 20 different newsgroups._"
      ]
    },
    {
      "cell_type": "code",
      "metadata": {
        "id": "D93YO2atSQGj"
      },
      "source": [
        "from sklearn.datasets import fetch_20newsgroups\n",
        "from sklearn.feature_extraction.text import TfidfVectorizer\n",
        "from sklearn.naive_bayes import MultinomialNB\n",
        "from sklearn.pipeline import make_pipeline\n",
        "import matplotlib.pyplot as plt\n",
        "from sklearn.metrics import confusion_matrix\n",
        "import seaborn as sns"
      ],
      "execution_count": null,
      "outputs": []
    },
    {
      "cell_type": "markdown",
      "metadata": {
        "id": "JlA-qhEOvAZ6"
      },
      "source": [
        "_Load the filenames and data from the 20 newsgroups dataset (classification)._"
      ]
    },
    {
      "cell_type": "code",
      "metadata": {
        "id": "jw-MWCb2vEeR"
      },
      "source": [
        "data = fetch_20newsgroups()"
      ],
      "execution_count": null,
      "outputs": []
    },
    {
      "cell_type": "markdown",
      "metadata": {
        "id": "-IcfOsd3vRfr"
      },
      "source": [
        "_Print names of 20 class (target names )__"
      ]
    },
    {
      "cell_type": "code",
      "metadata": {
        "id": "Jf2Ni4XLT5TS",
        "outputId": "80007c1e-ca86-4ef5-8818-2838fd6d868c",
        "colab": {
          "base_uri": "https://localhost:8080/",
          "height": 384
        }
      },
      "source": [
        "data.target_names"
      ],
      "execution_count": null,
      "outputs": [
        {
          "output_type": "execute_result",
          "data": {
            "text/plain": [
              "['alt.atheism',\n",
              " 'comp.graphics',\n",
              " 'comp.os.ms-windows.misc',\n",
              " 'comp.sys.ibm.pc.hardware',\n",
              " 'comp.sys.mac.hardware',\n",
              " 'comp.windows.x',\n",
              " 'misc.forsale',\n",
              " 'rec.autos',\n",
              " 'rec.motorcycles',\n",
              " 'rec.sport.baseball',\n",
              " 'rec.sport.hockey',\n",
              " 'sci.crypt',\n",
              " 'sci.electronics',\n",
              " 'sci.med',\n",
              " 'sci.space',\n",
              " 'soc.religion.christian',\n",
              " 'talk.politics.guns',\n",
              " 'talk.politics.mideast',\n",
              " 'talk.politics.misc',\n",
              " 'talk.religion.misc']"
            ]
          },
          "metadata": {
            "tags": []
          },
          "execution_count": 28
        }
      ]
    },
    {
      "cell_type": "markdown",
      "metadata": {
        "id": "Cd36hOJekTwk"
      },
      "source": [
        "_Select some categories from target names and collect train/test data._"
      ]
    },
    {
      "cell_type": "code",
      "metadata": {
        "id": "9Le-YoqzSQRQ"
      },
      "source": [
        "cat = ['talk.religion.misc', 'soc.religion.christian',\n",
        "              'sci.space', 'comp.graphics'] # from data.target_names"
      ],
      "execution_count": null,
      "outputs": []
    },
    {
      "cell_type": "markdown",
      "metadata": {
        "id": "oCEXWid-wJyy"
      },
      "source": [
        "_From sklearn Python package, we load the training and test data using the 60/40% “by date” split which makes our results comparable to existing published work._"
      ]
    },
    {
      "cell_type": "code",
      "metadata": {
        "id": "buH5k2N7wMg4"
      },
      "source": [
        "train = fetch_20newsgroups(subset='train', categories=cat) # collect train data from fetch_20newsgroups datset\n",
        "test = fetch_20newsgroups(subset='test', categories=cat)  # collect test data from fetch_20newsgroups dataset"
      ],
      "execution_count": null,
      "outputs": []
    },
    {
      "cell_type": "markdown",
      "metadata": {
        "id": "uA7Z6MGukp0Z"
      },
      "source": [
        "_Make a pipeline of 'TfidfVectorizer', and 'MultinomialNB'._"
      ]
    },
    {
      "cell_type": "code",
      "metadata": {
        "id": "04yJUE9ISQT_"
      },
      "source": [
        "model = make_pipeline(TfidfVectorizer(), MultinomialNB()) # make pipeline of TfidfVectorizer and Multinomial Naive Bayes"
      ],
      "execution_count": null,
      "outputs": []
    },
    {
      "cell_type": "markdown",
      "metadata": {
        "id": "T6Wg-74ck3Bo"
      },
      "source": [
        "_Fit and predict data._"
      ]
    },
    {
      "cell_type": "code",
      "metadata": {
        "id": "LWDbzy67S7dx"
      },
      "source": [
        "model.fit(train.data, train.target) # fit data\n",
        "labels = model.predict(test.data) # predict test data"
      ],
      "execution_count": null,
      "outputs": []
    },
    {
      "cell_type": "markdown",
      "metadata": {
        "id": "JiVrZDiMkE_M"
      },
      "source": [
        "_Create confusion matrix to visualise performance and accuracy of model._"
      ]
    },
    {
      "cell_type": "code",
      "metadata": {
        "id": "ClzR6VsGS7hw",
        "outputId": "e2a21b45-5daf-4f06-d337-917671a7e407",
        "colab": {
          "base_uri": "https://localhost:8080/",
          "height": 391
        }
      },
      "source": [
        "mat = confusion_matrix(test.target, labels) # create confusion matrix to see model performance\n",
        "sns.heatmap(mat.T, square=True, annot=True, fmt='d', cbar=False,\n",
        "            xticklabels=train.target_names, yticklabels=train.target_names)\n",
        "plt.xlabel('Actual')\n",
        "plt.ylabel('Predicted')"
      ],
      "execution_count": null,
      "outputs": [
        {
          "output_type": "execute_result",
          "data": {
            "text/plain": [
              "Text(91.68, 0.5, 'Predicted')"
            ]
          },
          "metadata": {
            "tags": []
          },
          "execution_count": 33
        },
        {
          "output_type": "display_data",
          "data": {
            "image/png": "[encoded data removed]",
            "text/plain": [
              "<Figure size 432x288 with 1 Axes>"
            ]
          },
          "metadata": {
            "tags": [],
            "needs_background": "light"
          }
        }
      ]
    },
    {
      "cell_type": "markdown",
      "metadata": {
        "id": "Ez3hymawj2zD"
      },
      "source": [
        "_create a function to predict category of input text._"
      ]
    },
    {
      "cell_type": "code",
      "metadata": {
        "id": "-3jFcV8OS7kB"
      },
      "source": [
        "def predict_category(data, train=train, model=model):\n",
        "    pred = model.predict([data]) # predict data\n",
        "    return train.target_names[pred[0]] # find target name"
      ],
      "execution_count": null,
      "outputs": []
    },
    {
      "cell_type": "markdown",
      "metadata": {
        "id": "SWlwYrgFj-kk"
      },
      "source": [
        "_Predict category._"
      ]
    },
    {
      "cell_type": "code",
      "metadata": {
        "id": "L9fKMthOS7m4",
        "outputId": "ce382b12-8939-4c42-8d3f-820408394353",
        "colab": {
          "base_uri": "https://localhost:8080/",
          "height": 35
        }
      },
      "source": [
        "predict_category('discussing christianity vs islam') # function call to determine class of given text\n"
      ],
      "execution_count": null,
      "outputs": [
        {
          "output_type": "execute_result",
          "data": {
            "text/plain": [
              "'soc.religion.christian'"
            ]
          },
          "metadata": {
            "tags": []
          },
          "execution_count": 35
        }
      ]
    },
    {
      "cell_type": "code",
      "metadata": {
        "id": "3m9jQdOQS7po",
        "outputId": "5871b01c-856c-4883-dcde-c4d401265e7c",
        "colab": {
          "base_uri": "https://localhost:8080/",
          "height": 35
        }
      },
      "source": [
        "predict_category('determining the screen refresh rate')\n"
      ],
      "execution_count": null,
      "outputs": [
        {
          "output_type": "execute_result",
          "data": {
            "text/plain": [
              "'comp.graphics'"
            ]
          },
          "metadata": {
            "tags": []
          },
          "execution_count": 36
        }
      ]
    },
    {
      "cell_type": "markdown",
      "metadata": {
        "id": "wPUhMD7a-asQ"
      },
      "source": [
        "**Optional**"
      ]
    },
    {
      "cell_type": "markdown",
      "metadata": {
        "id": "L3UmTA9yxNd7"
      },
      "source": [
        "**The Bag of Words representation**\n",
        "\n",
        "Machine learning algorithms expect numerical feature vectors with a fixed size rather than the raw text documents with variable length. So the raw data (a sequence of symbols) cannot be fed directly to the ML algorithms. To cope with this problem, i.e., to extract numerical features from text content we use:\n",
        "\n",
        "* **tokenizing** strings and giving an integer id for each possible token, for instance, by using white-spaces and punctuation as token separators.\n",
        "\n",
        "* **counting** the occurrences of tokens in each document.\n",
        "\n",
        "* **normalizing** and weighting with diminishing importance tokens that occur in the majority of samples/documents."
      ]
    },
    {
      "cell_type": "markdown",
      "metadata": {
        "id": "DqORcK0U1-P_"
      },
      "source": [
        "**Features and Samples:**\n",
        "\n",
        "* Individual token occurrence frequency - **feature**\n",
        "\n",
        "* The vector of the token frequencies for a given document - **sample**\n",
        "\n",
        "\n",
        "**Vectorization** is the process of turning a collection of text documents into numerical feature vectors. This specific strategy (tokenization, counting, and normalization) is called the *Bag of Words.*"
      ]
    },
    {
      "cell_type": "markdown",
      "metadata": {
        "id": "suA2wO2g4XvM"
      },
      "source": [
        "A corpus of documents can thus be represented by a matrix with one row per document and one column per token (e.g. word) occurring in the corpus."
      ]
    },
    {
      "cell_type": "markdown",
      "metadata": {
        "id": "40xJBpDzQnPR"
      },
      "source": [
        "**Stop words**\n",
        "\n",
        "Stop words are words like “and”, “the”, “him”, which are presumed to be uninformative in representing the content of a text, and which may be removed to avoid them being construed as signal for prediction."
      ]
    },
    {
      "cell_type": "markdown",
      "metadata": {
        "id": "ABxRerY3m6Fr"
      },
      "source": [
        "# **Key take away**"
      ]
    },
    {
      "cell_type": "markdown",
      "metadata": {
        "id": "qzo4yoD2WVse"
      },
      "source": [
        "- Word counts is the one of the simplest method to enccode text data.\n",
        "\n",
        "- CountVectorizer converts text documents collection to a matrix of token counts.\n",
        "\n",
        "- tf stands for term-frequency,and tf-idf stands for (term-frequency)  *  (inverse document-frequency).\n",
        "\n",
        "$$ \\text{tf-idf(t,d)}=\\text{tf(t,d)} \\times \\text{idf(t)} $$\n",
        "\n",
        "- Machine learning algorithms expect numerical feature vectors with a fixed size rather than the raw text documents with variable length.\n",
        "\n",
        "- to extract numerical features from text content we use: tokenizing,counting, and normalizing."
      ]
    },
    {
      "cell_type": "code",
      "metadata": {
        "id": "e94aR1Zkn-p3"
      },
      "source": [],
      "execution_count": null,
      "outputs": []
    }
  ]
}