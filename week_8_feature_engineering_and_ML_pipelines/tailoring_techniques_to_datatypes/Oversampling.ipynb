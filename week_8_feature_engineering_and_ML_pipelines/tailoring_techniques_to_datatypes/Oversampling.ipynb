{
  "cells": [
    {
      "cell_type": "markdown",
      "metadata": {
        "id": "eTU42RP3ZQ5O"
      },
      "source": [
        "# Oversampling\n",
        "\n",
        "By the end of this chapter you will be able to learn about another resampling technique, oversampling with some of it's extensions.\n",
        "\n",
        "One of the ways to fight with the issues of imbalanced learning is to generate new samples in the classes, which are underrepresented. The most naive strategy is to create new samples by randomly sampling with replacement of the currently available samples.\n",
        "\n",
        "\n",
        "Let's use the same credit card dataset for the illustration of oversampling (Random oversampling).\n"
      ]
    },
    {
      "cell_type": "code",
      "execution_count": null,
      "metadata": {
        "colab": {
          "base_uri": "https://localhost:8080/",
          "height": 72
        },
        "id": "PLTmeKIff3oh",
        "outputId": "b256a247-6359-4ee6-ef56-ceed80cebaa2"
      },
      "outputs": [
        {
          "name": "stderr",
          "output_type": "stream",
          "text": [
            "/usr/local/lib/python3.6/dist-packages/statsmodels/tools/_testing.py:19: FutureWarning: pandas.util.testing is deprecated. Use the functions in the public API at pandas.testing instead.\n",
            "  import pandas.util.testing as tm\n"
          ]
        }
      ],
      "source": [
        "import numpy as np\n",
        "import pandas as pd\n",
        "import matplotlib.pyplot as plt\n",
        "import seaborn as sns"
      ]
    },
    {
      "cell_type": "code",
      "execution_count": null,
      "metadata": {
        "colab": {
          "base_uri": "https://localhost:8080/",
          "height": 67
        },
        "id": "WziDklswf814",
        "outputId": "57ffb545-e3af-4c1c-eaed-39d263278bfc"
      },
      "outputs": [
        {
          "data": {
            "text/plain": [
              "0.0    98898\n",
              "1.0      222\n",
              "Name: Class, dtype: int64"
            ]
          },
          "execution_count": 4,
          "metadata": {
            "tags": []
          },
          "output_type": "execute_result"
        }
      ],
      "source": [
        "df = pd.read_csv('creditcard.csv')\n",
        "df.Class.value_counts()"
      ]
    },
    {
      "cell_type": "code",
      "execution_count": null,
      "metadata": {
        "colab": {
          "base_uri": "https://localhost:8080/",
          "height": 291
        },
        "id": "LorTYWkMf84V",
        "outputId": "b5224b6a-f677-4ecf-8526-6e98b9e3dd9d"
      },
      "outputs": [
        {
          "data": {
            "image/png": "[encoded data removed]",
            "text/plain": [
              "<Figure size 432x288 with 1 Axes>"
            ]
          },
          "metadata": {
            "tags": []
          },
          "output_type": "display_data"
        }
      ],
      "source": [
        "fig, ax = plt.subplots()\n",
        "g = sns.countplot(df.Class, palette='viridis')\n",
        "g.set_xticklabels(['Not Fraud', 'Fraud'])\n",
        "\n",
        "\n",
        "# function to show values on bars\n",
        "def show_values_on_bars(axs):\n",
        "    def _show_on_single_plot(ax):\n",
        "        for p in ax.patches:\n",
        "            _x = p.get_x() + p.get_width() / 2\n",
        "            _y = p.get_y() + p.get_height()\n",
        "            value = '{:.0f}'.format(p.get_height())\n",
        "            ax.text(_x, _y, value, ha=\"center\")\n",
        "\n",
        "    if isinstance(axs, np.ndarray):\n",
        "        for idx, ax in np.ndenumerate(axs):\n",
        "            _show_on_single_plot(ax)\n",
        "    else:\n",
        "        _show_on_single_plot(axs)\n",
        "\n",
        "show_values_on_bars(ax)\n",
        "\n",
        "sns.despine(left=True, bottom=True)\n",
        "plt.xlabel('')\n",
        "plt.ylabel('')\n",
        "plt.title('Distribution of Transactions', fontsize=19)\n",
        "plt.tick_params(axis='x', which='major', labelsize=15)\n",
        "plt.show()"
      ]
    },
    {
      "cell_type": "code",
      "execution_count": null,
      "metadata": {
        "id": "sBWV5Bd3f88x"
      },
      "outputs": [],
      "source": [
        "from sklearn.utils import resample"
      ]
    },
    {
      "cell_type": "code",
      "execution_count": null,
      "metadata": {
        "id": "24fMvx38iYN0"
      },
      "outputs": [],
      "source": [
        "# Separate input features and target\n",
        "y = df.Class\n",
        "X = df.drop('Class', axis=1)\n"
      ]
    },
    {
      "cell_type": "code",
      "execution_count": null,
      "metadata": {
        "colab": {
          "base_uri": "https://localhost:8080/",
          "height": 215
        },
        "id": "0UqfmyNniYS0",
        "outputId": "4a3bdce7-427b-4194-826c-42cc26e8ab70"
      },
      "outputs": [
        {
          "data": {
            "text/html": [
              "<div>\n",
              "<style scoped>\n",
              "    .dataframe tbody tr th:only-of-type {\n",
              "        vertical-align: middle;\n",
              "    }\n",
              "\n",
              "    .dataframe tbody tr th {\n",
              "        vertical-align: top;\n",
              "    }\n",
              "\n",
              "    .dataframe thead th {\n",
              "        text-align: right;\n",
              "    }\n",
              "</style>\n",
              "<table border=\"1\" class=\"dataframe\">\n",
              "  <thead>\n",
              "    <tr style=\"text-align: right;\">\n",
              "      <th></th>\n",
              "      <th>Time</th>\n",
              "      <th>V1</th>\n",
              "      <th>V2</th>\n",
              "      <th>V3</th>\n",
              "      <th>V4</th>\n",
              "      <th>V5</th>\n",
              "      <th>V6</th>\n",
              "      <th>V7</th>\n",
              "      <th>V8</th>\n",
              "      <th>V9</th>\n",
              "      <th>V10</th>\n",
              "      <th>V11</th>\n",
              "      <th>V12</th>\n",
              "      <th>V13</th>\n",
              "      <th>V14</th>\n",
              "      <th>V15</th>\n",
              "      <th>V16</th>\n",
              "      <th>V17</th>\n",
              "      <th>V18</th>\n",
              "      <th>V19</th>\n",
              "      <th>V20</th>\n",
              "      <th>V21</th>\n",
              "      <th>V22</th>\n",
              "      <th>V23</th>\n",
              "      <th>V24</th>\n",
              "      <th>V25</th>\n",
              "      <th>V26</th>\n",
              "      <th>V27</th>\n",
              "      <th>V28</th>\n",
              "      <th>Amount</th>\n",
              "      <th>Class</th>\n",
              "    </tr>\n",
              "  </thead>\n",
              "  <tbody>\n",
              "    <tr>\n",
              "      <th>38632</th>\n",
              "      <td>39473</td>\n",
              "      <td>-0.367265</td>\n",
              "      <td>1.003264</td>\n",
              "      <td>1.058041</td>\n",
              "      <td>0.634395</td>\n",
              "      <td>0.478383</td>\n",
              "      <td>0.133001</td>\n",
              "      <td>0.542855</td>\n",
              "      <td>0.162472</td>\n",
              "      <td>-0.278744</td>\n",
              "      <td>-0.057422</td>\n",
              "      <td>-1.140486</td>\n",
              "      <td>-0.898883</td>\n",
              "      <td>-0.999888</td>\n",
              "      <td>0.466827</td>\n",
              "      <td>1.528735</td>\n",
              "      <td>-0.304064</td>\n",
              "      <td>-0.130449</td>\n",
              "      <td>0.122280</td>\n",
              "      <td>0.286039</td>\n",
              "      <td>0.067017</td>\n",
              "      <td>0.109312</td>\n",
              "      <td>0.471196</td>\n",
              "      <td>-0.252427</td>\n",
              "      <td>-0.664045</td>\n",
              "      <td>-0.097668</td>\n",
              "      <td>-0.185811</td>\n",
              "      <td>0.415347</td>\n",
              "      <td>0.200582</td>\n",
              "      <td>5.90</td>\n",
              "      <td>0.0</td>\n",
              "    </tr>\n",
              "    <tr>\n",
              "      <th>47905</th>\n",
              "      <td>43409</td>\n",
              "      <td>-1.691728</td>\n",
              "      <td>-1.621100</td>\n",
              "      <td>0.641290</td>\n",
              "      <td>-2.690706</td>\n",
              "      <td>-1.849708</td>\n",
              "      <td>-0.974309</td>\n",
              "      <td>0.594209</td>\n",
              "      <td>0.271848</td>\n",
              "      <td>-0.027033</td>\n",
              "      <td>-1.518221</td>\n",
              "      <td>-1.153751</td>\n",
              "      <td>-0.092356</td>\n",
              "      <td>-0.458316</td>\n",
              "      <td>0.210699</td>\n",
              "      <td>0.244318</td>\n",
              "      <td>-1.708103</td>\n",
              "      <td>0.154639</td>\n",
              "      <td>1.572906</td>\n",
              "      <td>-0.747027</td>\n",
              "      <td>0.245026</td>\n",
              "      <td>0.022969</td>\n",
              "      <td>-0.312588</td>\n",
              "      <td>0.767806</td>\n",
              "      <td>0.343325</td>\n",
              "      <td>-0.113248</td>\n",
              "      <td>-0.231492</td>\n",
              "      <td>-0.086751</td>\n",
              "      <td>0.002726</td>\n",
              "      <td>358.30</td>\n",
              "      <td>0.0</td>\n",
              "    </tr>\n",
              "    <tr>\n",
              "      <th>70751</th>\n",
              "      <td>54001</td>\n",
              "      <td>-1.869899</td>\n",
              "      <td>-0.401754</td>\n",
              "      <td>1.506120</td>\n",
              "      <td>-0.121822</td>\n",
              "      <td>1.205160</td>\n",
              "      <td>-1.740027</td>\n",
              "      <td>0.376592</td>\n",
              "      <td>-0.097288</td>\n",
              "      <td>-0.325536</td>\n",
              "      <td>-0.824835</td>\n",
              "      <td>-0.365298</td>\n",
              "      <td>-0.195884</td>\n",
              "      <td>-0.175036</td>\n",
              "      <td>-0.415398</td>\n",
              "      <td>0.513039</td>\n",
              "      <td>0.717365</td>\n",
              "      <td>-0.304062</td>\n",
              "      <td>-0.146657</td>\n",
              "      <td>-0.759373</td>\n",
              "      <td>-0.190122</td>\n",
              "      <td>-0.236899</td>\n",
              "      <td>-0.680860</td>\n",
              "      <td>0.743500</td>\n",
              "      <td>0.303036</td>\n",
              "      <td>0.120165</td>\n",
              "      <td>-0.045695</td>\n",
              "      <td>-0.041088</td>\n",
              "      <td>0.124162</td>\n",
              "      <td>1.29</td>\n",
              "      <td>0.0</td>\n",
              "    </tr>\n",
              "    <tr>\n",
              "      <th>86662</th>\n",
              "      <td>61342</td>\n",
              "      <td>-0.659883</td>\n",
              "      <td>0.958209</td>\n",
              "      <td>0.924674</td>\n",
              "      <td>0.956823</td>\n",
              "      <td>-0.153232</td>\n",
              "      <td>0.664856</td>\n",
              "      <td>-0.446185</td>\n",
              "      <td>0.733530</td>\n",
              "      <td>-0.456112</td>\n",
              "      <td>0.069876</td>\n",
              "      <td>1.423374</td>\n",
              "      <td>0.961256</td>\n",
              "      <td>0.159049</td>\n",
              "      <td>0.610445</td>\n",
              "      <td>1.169320</td>\n",
              "      <td>-0.388365</td>\n",
              "      <td>0.163111</td>\n",
              "      <td>0.141162</td>\n",
              "      <td>0.000807</td>\n",
              "      <td>-0.220236</td>\n",
              "      <td>0.536499</td>\n",
              "      <td>1.482456</td>\n",
              "      <td>0.083840</td>\n",
              "      <td>-0.254299</td>\n",
              "      <td>-1.356347</td>\n",
              "      <td>-0.342630</td>\n",
              "      <td>-0.033175</td>\n",
              "      <td>0.148644</td>\n",
              "      <td>2.37</td>\n",
              "      <td>0.0</td>\n",
              "    </tr>\n",
              "    <tr>\n",
              "      <th>48754</th>\n",
              "      <td>43773</td>\n",
              "      <td>0.780559</td>\n",
              "      <td>-0.610152</td>\n",
              "      <td>1.104996</td>\n",
              "      <td>1.712299</td>\n",
              "      <td>-0.755186</td>\n",
              "      <td>0.973725</td>\n",
              "      <td>-0.437642</td>\n",
              "      <td>0.377361</td>\n",
              "      <td>0.927653</td>\n",
              "      <td>-0.318997</td>\n",
              "      <td>0.647050</td>\n",
              "      <td>1.847792</td>\n",
              "      <td>-0.006091</td>\n",
              "      <td>-0.579812</td>\n",
              "      <td>-2.423487</td>\n",
              "      <td>-0.947803</td>\n",
              "      <td>0.509033</td>\n",
              "      <td>-0.870863</td>\n",
              "      <td>0.419865</td>\n",
              "      <td>0.092578</td>\n",
              "      <td>-0.279710</td>\n",
              "      <td>-0.649971</td>\n",
              "      <td>-0.049601</td>\n",
              "      <td>0.028305</td>\n",
              "      <td>0.357764</td>\n",
              "      <td>-0.541674</td>\n",
              "      <td>0.064602</td>\n",
              "      <td>0.042238</td>\n",
              "      <td>143.39</td>\n",
              "      <td>0.0</td>\n",
              "    </tr>\n",
              "  </tbody>\n",
              "</table>\n",
              "</div>"
            ],
            "text/plain": [
              "        Time        V1        V2        V3  ...       V27       V28  Amount  Class\n",
              "38632  39473 -0.367265  1.003264  1.058041  ...  0.415347  0.200582    5.90    0.0\n",
              "47905  43409 -1.691728 -1.621100  0.641290  ... -0.086751  0.002726  358.30    0.0\n",
              "70751  54001 -1.869899 -0.401754  1.506120  ... -0.041088  0.124162    1.29    0.0\n",
              "86662  61342 -0.659883  0.958209  0.924674  ... -0.033175  0.148644    2.37    0.0\n",
              "48754  43773  0.780559 -0.610152  1.104996  ...  0.064602  0.042238  143.39    0.0\n",
              "\n",
              "[5 rows x 31 columns]"
            ]
          },
          "execution_count": 10,
          "metadata": {
            "tags": []
          },
          "output_type": "execute_result"
        }
      ],
      "source": [
        "X = pd.concat([X, y], axis=1)\n",
        "X.head()"
      ]
    },
    {
      "cell_type": "code",
      "execution_count": null,
      "metadata": {
        "id": "MGf875whih97"
      },
      "outputs": [],
      "source": [
        "not_fraud = X[X.Class==0]\n",
        "fraud = X[X.Class==1]"
      ]
    },
    {
      "cell_type": "code",
      "execution_count": null,
      "metadata": {
        "colab": {
          "base_uri": "https://localhost:8080/",
          "height": 67
        },
        "id": "H_DZ5PhEiiCr",
        "outputId": "2e2cface-1f41-4354-d5e5-45635e35a661"
      },
      "outputs": [
        {
          "data": {
            "text/plain": [
              "1.0    74166\n",
              "0.0    74166\n",
              "Name: Class, dtype: int64"
            ]
          },
          "execution_count": 12,
          "metadata": {
            "tags": []
          },
          "output_type": "execute_result"
        }
      ],
      "source": [
        "# upsample minority\n",
        "fraud_upsampled = resample(fraud,\n",
        "                          replace=True, # sample with replacement\n",
        "                          n_samples=len(not_fraud), # match number in majority class\n",
        "                          random_state=27) # reproducible results\n",
        "\n",
        "# combine majority and upsampled minority\n",
        "upsampled = pd.concat([not_fraud, fraud_upsampled])\n",
        "\n",
        "# check new class counts\n",
        "upsampled.Class.value_counts()"
      ]
    },
    {
      "cell_type": "markdown",
      "metadata": {
        "id": "a-6gN2BfN-1K"
      },
      "source": [
        "When we randomly replicate/duplicate instances in the dataset, the learned model might fit the training data too closely and as a result not generalise well to the unseen data.In order to get rid of this issue, a method of generating synthetic instances instead of merely copying existing instances in the dataset. This is *Synthetic Minority Over-Sampling Technique*, SMOTE."
      ]
    },
    {
      "cell_type": "markdown",
      "metadata": {
        "id": "YF73Xwq6Qk7_"
      },
      "source": [
        "__Note__ : You should always split into “test” and “train” sets before trying oversampling techniques. Oversampling before splitting the data can allow the exact same observations to be present in both the “test” and “train” sets. In addition, as the positive labels are duplicated many times, it is very common to have the model overfit the training data when using random oversampling."
      ]
    },
    {
      "cell_type": "markdown",
      "metadata": {
        "id": "m2uvhjIwwMRe"
      },
      "source": [
        "__Merits of Oversampling__\n",
        "\n",
        "- Unlike downsampling, oversampling methods leads to no information loss since it doesn't discard any samples.\n",
        "\n",
        "- It performs relatively better than undersampling.\n",
        "\n",
        "__Demerits of Overrsampling__\n",
        "- Likelihood of overfitting is increased since it replicates/duplicates the minority class samples."
      ]
    },
    {
      "cell_type": "markdown",
      "metadata": {
        "id": "n4xIIDDOZekE"
      },
      "source": [
        "## SMOTE\n",
        "\n",
        "\n",
        "Synthetic Minority Oversampling Technique, SMOTE is one of the most widely used approaches to synthesize new examples. It works by selecting examples that are close in the feature space, drawing a line between the examples in the feature space, and drawing a new sample at a point along that line.\n",
        "\n",
        "SMOTE first selects a minority class example, `a` at random and finds its k nearest minority class neighbors. The synthetic instance is then created by choosing one of the k nearest neighbors `b` at random and connecting `a` and `b` to form a line segment in the feature space. The synthetic instances are generated as a convex combination of both instances `a` and `b`.\n",
        "We can refer to this as a type of data augmentation, which has proved to be a very effective one for tabular data.\n",
        "\n",
        "\n",
        "<center>\n",
        "<!-- <img src = 'https://drive.google.com/uc?export=view&id=10hCt5ipM8zMeo94OjraoXqkegIai-2xU'height =\"300\" width=\"650\"/> -->\n",
        "\n",
        "<img src = 'https://i.postimg.cc/GtZ7yDBr/image.png' height=\"300\" width=\"650\"/>\n",
        "</center>\n",
        "\n",
        "However, the algorithm has some weaknesses dealing with imbalance and noise.\n",
        "One such drawback stems from the fact that SMOTE randomly chooses a minority instance to oversample\n",
        "with uniform probability. While this allows the method to effectively combat between-class imbalance,\n",
        "the issues of within-class imbalance and small disjuncts are ignored. Input areas counting many minority\n",
        "samples have a high probability of being inflated further, while sparsely populated minority areas are\n",
        "likely to remain sparse.\n",
        "\n",
        "\n",
        "Another major concern is that SMOTE may further amplify noise present in the data. This is likely\n",
        "to happen when linearly interpolating a noisy minority sample, which is located among majority class\n",
        "instances, and its nearest minority neighbor. The method is susceptible to noise generation.\n",
        "\n"
      ]
    },
    {
      "cell_type": "markdown",
      "metadata": {
        "id": "ctE3mePUxr75"
      },
      "source": [
        "__Merits of SMOTE__\n",
        "\n",
        "- It reduces the problem of overfitting as synthetic samples are generate rather than duplication.\n",
        "\n",
        "- No loss of important information.\n",
        "\n",
        "__Demerits of SMOTE__\n",
        "\n",
        "- Overlapping of classes increases which leads to additional noise since SMOTE doesn't consider neighbouring examples from other classes.\n",
        "\n",
        "- It does't work well with high dimensional data."
      ]
    },
    {
      "cell_type": "markdown",
      "metadata": {
        "id": "8ZkPC5W2PJS3"
      },
      "source": [
        "There are several hybrid techniques that have been developed by combining oversampling and undersampling such as:\n",
        "\n",
        "> SMOTE + Tomek\n",
        "\n",
        "\n",
        ">SMOTE + ENN\n",
        "\n",
        "Although over sampling class examples balance class distributions, some other problems usually present in data sets with skewed class distributions are not solved. Class clusters are not well defined since some majority class examples might be invading the minority class space. The opposite can also be true, since interpolating minority class examples can expand the minority class clusters. If we induce a classifier under such a situation can lead to overfitting. So we propose applying Tomek links to the over sampled training set as a data cleaning method.\n",
        "\n",
        "Tomek Links refers to a method for identifying pairs of nearest neighbors in a dataset that have different classes. Removing one or both of the examples in these pairs (such as the examples in the majority class) has the effect of making the decision boundary in the training dataset less noisy or ambiguous.\n",
        "\n",
        "Instead of avoiding only the majority class examples or minority class examples from Tomek links, examples from both classes can also be removed removed.\n",
        "Here, minority class examples that participate of a Tomek link are removed.\n",
        "We can see the application in the figure below. *Fig a* is the original dataset, *Fig b* is oversampling with SMOTE. *Fig c* depicts the identification of Tomek links whereas *Fig d* is producing a balanced dataset with well defined class clusters. So,  this is SMOTE +Tomek.\n",
        "\n",
        "\n",
        "\n",
        "Next we have SMOTE +ENN which is similar to SMOTE+Tomek links. ENN tends to remove more examples that it will provide a more in depth data cleaning.\n",
        "\n",
        "\n",
        "<!-- ![alt text](https://drive.google.com/uc?export=view&id=1YxRByMVomWCPmfPftd7_bZKnIzNuSPXy) -->\n",
        "![alt text](https://i.postimg.cc/K8JFXSML/image.png)\n"
      ]
    },
    {
      "cell_type": "markdown",
      "metadata": {
        "id": "MuB4b1Prwylq"
      },
      "source": [
        "You will see the use of these techniques in a ML model and how it actually alters the performance with different evaluation metrics in **Chapter 6:Imbalance-Learn**."
      ]
    },
    {
      "cell_type": "markdown",
      "metadata": {
        "id": "xBCn-kYKZnU4"
      },
      "source": [
        "## Key Takeaways\n",
        "Here in this chapter, we came across the oversampling technique to resolve the challenges that come with imbalanced data.\n",
        "\n",
        "Also, there is a synthetic Minority oversampling technique that avoids the overfitting problem created by naive oversampling. By SMOTE, redundant instances are reduced, and better performance is achieved.  There are two improvements in SMOTE, i.e., SMOTE + Tomek and SMOTE + ENN.\n",
        "\n",
        "You can also define a sequence of oversampling and undersampling methods to be applied to imbalanced dataset or when evaluating a classifier model. You can manually combine different oversampling and undersampling techniques to get better performance of the model.\n",
        "\n",
        "Learn more about this combination of the resampling techniques [here.](https://machinelearningmastery.com/combine-oversampling-and-undersampling-for-imbalanced-classification/)\n"
      ]
    }
  ],
  "metadata": {
    "colab": {
      "provenance": []
    },
    "kernelspec": {
      "display_name": "Python 3",
      "name": "python3"
    }
  },
  "nbformat": 4,
  "nbformat_minor": 0
}
