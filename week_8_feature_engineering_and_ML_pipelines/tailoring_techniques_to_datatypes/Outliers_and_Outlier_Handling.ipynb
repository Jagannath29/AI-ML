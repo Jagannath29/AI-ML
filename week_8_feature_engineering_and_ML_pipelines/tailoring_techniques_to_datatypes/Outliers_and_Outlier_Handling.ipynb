{
  "nbformat": 4,
  "nbformat_minor": 0,
  "metadata": {
    "colab": {
      "provenance": []
    },
    "kernelspec": {
      "name": "python3",
      "display_name": "Python 3"
    },
    "language_info": {
      "name": "python"
    }
  },
  "cells": [
    {
      "cell_type": "markdown",
      "source": [
        "\n",
        "# **Outliers**\n"
      ],
      "metadata": {
        "id": "MV4oWNbMVpot"
      }
    },
    {
      "cell_type": "markdown",
      "source": [
        "**Learning objectives:**\n",
        "\n",
        "This chapter teaches you the fundamentals of outliers. After completing this chapter, you will be able to do the following:\n",
        "\n",
        "\n",
        "1. State the key points about the outliers.\n",
        "\n",
        "2. Understand the difference between univariate outlier detection techniques and multivariate outlier detection techniques.\n",
        "\n",
        "3.  Recognize the causes of outliers.\n",
        "4.  Visualize the effect of an outlier in a dataset mean, median, etc. through the code.\n"
      ],
      "metadata": {
        "id": "qOPAJr4HVvW1"
      }
    },
    {
      "cell_type": "markdown",
      "source": [
        "**Technical Requirements**\n",
        "\n",
        "Install a jupyter-notebook along with the pandas library. To understand this topic, you should be familiar with the pandas library."
      ],
      "metadata": {
        "id": "r_CRu24zVzR2"
      }
    },
    {
      "cell_type": "markdown",
      "source": [
        "\n",
        "\n",
        "##  Introduction to outliers\n",
        "\n",
        "---\n",
        "\n",
        "###  What are Outliers?\n",
        "\n",
        "Outliers are values in a dataset that are **very different from the rest**. They don’t follow the usual pattern of the data.\n",
        "\n",
        "Think of it like this:\n",
        "> Imagine most students in a class are between 18 to 22 years old. If someone is 60 years old, that would be an outlier — because it’s very unusual in that context.\n",
        "\n",
        "Outliers can be:\n",
        "- **Much higher or lower** than other data points\n",
        "- Caused by **mistakes** (like typing errors)\n",
        "- Or sometimes, they are **real and important** (like detecting fraud or rare diseases)\n",
        "\n",
        "####  Simple Example:\n",
        "\n",
        "```python\n",
        "[70, 72, 68, 71, 69, 73, 95]\n",
        "\n",
        "Suppose you have the following student test scores:\n",
        "Most numbers are around 70. But 95 looks far off — it might be an outlier.\n"
      ],
      "metadata": {
        "id": "C8K49dOmWG2l"
      }
    },
    {
      "cell_type": "markdown",
      "source": [
        "\n",
        "\n",
        "---\n",
        "\n",
        "\n",
        "###  Why Outliers Matter in Data Science & Machine Learning\n",
        "\n",
        "Outliers are important because they can affect how we understand and use our data.\n",
        "\n",
        "#### 1.  They Can Change Summary Statistics\n",
        "\n",
        "Outliers can pull your **mean (average)** and **standard deviation** in the wrong direction.  \n",
        "This means your analysis may not represent the data correctly.\n",
        "\n",
        "> Example:  \n",
        "> If most students score between 60 and 70, and one student scores 10, the average score goes down — even though most students did well.\n",
        "\n",
        "---\n",
        "\n",
        "#### 2.  They Can Confuse Machine Learning Models\n",
        "\n",
        "Some machine learning models assume the data is smooth and well-behaved. Outliers can confuse them.\n",
        "\n",
        "**Especially affected models:**\n",
        "- **Linear Regression:** Outliers can pull the line too far in one direction.\n",
        "- **K-Nearest Neighbors (KNN):** Distance gets messed up by far-off values.\n",
        "- **Clustering (like K-Means):** Groups may form around the wrong points.\n",
        "\n",
        "---\n",
        "\n",
        "#### 3.  They Affect Scaling\n",
        "\n",
        "When we scale features using methods like:\n",
        "- **Standardization (Z-score)**\n",
        "- **Normalization (Min-Max)**\n",
        "\n",
        "Outliers can stretch the range, and normal data points may all squeeze together.\n",
        "\n",
        "---\n",
        "\n",
        "#### 4.  Sometimes, Outliers Are Signals\n",
        "\n",
        "Not all outliers are bad. Some are actually very useful!\n",
        "\n",
        "Examples:\n",
        "- A huge money transfer → could be **fraud**\n",
        "- A very high body temperature → might be **a health issue**\n",
        "- A rare pattern in data → could be **something new to discover**\n",
        "\n",
        "So instead of always removing outliers, we should ask:\n",
        ">  Is this outlier a mistake or something meaningful?\n",
        "\n",
        "---\n",
        "\n",
        "####  In Summary:\n",
        "- Outliers can **change results**, **confuse models**, and **distort scaling**.\n",
        "- But sometimes they reveal **important insights**.\n",
        "- That’s why it’s important to **detect, understand, and handle them properly**.\n",
        "\n"
      ],
      "metadata": {
        "id": "AD6BO-xKX1Cf"
      }
    },
    {
      "cell_type": "markdown",
      "source": [
        "##  Types of Outliers\n",
        "\n",
        "\n",
        "\n",
        "---\n",
        "\n",
        "#### 1️. Global Outliers (Also called Point Outliers)\n",
        "\n",
        "These are the most common kind.\n",
        "\n",
        "A **global outlier** is a data point that is **far away from the rest of the data**, no matter what the situation is.\n",
        "\n",
        ">  Think of a student scoring 5 out of 100 in an exam where most others scored between 60 and 80. That score sticks out clearly — it’s a global outlier.\n",
        "\n",
        "These are easy to detect using:\n",
        "- Z-score\n",
        "- IQR method\n",
        "- Box plots\n",
        "\n",
        "---\n",
        "\n",
        "#### 2️. Contextual Outliers (Conditional Outliers)\n",
        "\n",
        "These are outliers **only in a specific context**. The same value might be normal in one situation and weird in another.\n",
        "\n",
        ">  Example:  \n",
        "> A temperature of 30°C is normal in summer, but strange in winter.  \n",
        "> So if it’s winter and the temperature is 30°C, it’s a **contextual outlier**.\n",
        "\n",
        "These are harder to detect because we need to consider:\n",
        "- **Context/conditions** (like time, location)\n",
        "- **Multiple features** to judge if it’s unusual\n",
        "\n",
        "Used often in:\n",
        "- Time-series data\n",
        "- Weather data\n",
        "- Stock prices\n",
        "\n",
        "---\n",
        "\n",
        "#### 3️. Collective Outliers\n",
        "\n",
        "These are **groups of data points** that are normal by themselves but **unusual as a group**.\n",
        "\n",
        ">  Example:  \n",
        "> In a credit card dataset, one or two small purchases are normal.  \n",
        "> But if someone makes 50 small purchases in 10 minutes, **the pattern** is unusual — that’s a **collective outlier**.\n",
        "\n",
        "Used in:\n",
        "- Anomaly detection\n",
        "- Fraud detection\n",
        "- Network intrusion detection\n",
        "\n",
        "We usually need **sequence models** or **pattern-based techniques** (like LSTM, autoencoders) to catch these.\n",
        "\n",
        "---\n",
        "\n",
        "###  Causes of Outliers\n",
        "\n",
        "Let’s now look at **why outliers happen** in the first place.\n",
        "\n",
        "---\n",
        "\n",
        "####  1. Data Entry or Human Errors\n",
        "\n",
        "- Typing mistakes\n",
        "- Wrong measurement units (like cm instead of mm)\n",
        "- Copy-paste errors\n",
        "\n",
        "> Example: Entering 1000 instead of 100\n",
        "\n",
        "---\n",
        "\n",
        "####  2. Measurement Errors\n",
        "\n",
        "- Faulty sensors (in IoT devices)\n",
        "- Malfunctioning equipment\n",
        "- Calibration errors\n",
        "\n",
        "> Example: A broken thermometer giving wrong readings\n",
        "\n",
        "---\n",
        "\n",
        "####  3. Experimental Conditions\n",
        "\n",
        "- Something went wrong during a test or experiment\n",
        "- Uncontrolled environment caused odd readings\n",
        "\n",
        "> Example: Wind affecting a scale during a weight measurement\n",
        "\n",
        "---\n",
        "\n",
        "####  4. Natural Variability\n",
        "\n",
        "- In some fields (like health, finance), extreme values **do exist naturally**\n",
        "- People have different body temperatures, spending habits, etc.\n",
        "\n",
        "> These are **real outliers**, not errors\n",
        "\n",
        "---\n",
        "\n",
        "####  5. Fraud or Rare Events\n",
        "\n",
        "- Sudden spikes or drops in data may point to **fraud, cyber attacks, or faults**\n",
        "- These outliers are **useful** and should be **analyzed carefully**, not deleted blindly\n",
        "\n",
        "> Example: A bank account suddenly withdrawing $10,000 after months of low activity\n",
        "\n"
      ],
      "metadata": {
        "id": "H9V_9RymYt6J"
      }
    },
    {
      "cell_type": "markdown",
      "source": [
        "----\n",
        "# Detecting Outliers\n",
        "## Detecting Outliers (Univariate)\n",
        "   - Using Visualization\n",
        "     - Box Plot\n",
        "     - Histogram\n",
        "     - Distribution Plot\n",
        "   - Using Statistical Methods\n",
        "     - IQR (Interquartile Range)\n",
        "     - Z-score\n",
        "     - Modified Z-score\n",
        "\n",
        "##  Detecting Outliers (Multivariate)\n",
        "   - Mahalanobis Distance\n",
        "   - DBSCAN\n",
        "   - Isolation Forest\n",
        "   - PCA for Outlier Detection\n"
      ],
      "metadata": {
        "id": "EGCFST3Pb2D0"
      }
    },
    {
      "cell_type": "markdown",
      "source": [
        "----\n",
        "## Outlier Handling Techniques\n",
        "\n",
        "So now that we know how to **identify outliers**, what do we do with them?\n",
        "\n",
        "Not all outliers should be removed. Some are **mistakes**, but some might be **important insights** (like fraud, rare diseases, etc.).\n",
        "\n",
        "Outlier handling depends on:\n",
        "- Your domain knowledge\n",
        "- The type of model you’re using\n",
        "- Whether the outlier is meaningful or not\n",
        "\n",
        "Below are the most common techniques to handle outliers:\n",
        "\n",
        "---\n",
        "\n",
        "###  1. Trimming (Removing Outliers)\n",
        "\n",
        "This means **removing** the outlier values completely from the dataset.\n",
        "\n",
        ">  Useful when outliers are clearly errors or extreme and not useful.\n",
        "\n"
      ],
      "metadata": {
        "id": "XjEvfhvmbPvj"
      }
    },
    {
      "cell_type": "code",
      "execution_count": 1,
      "metadata": {
        "colab": {
          "base_uri": "https://localhost:8080/"
        },
        "id": "e7uZ5K6kU_0m",
        "outputId": "bc2e5377-4f8f-4987-86ec-c8a2bfd137ca"
      },
      "outputs": [
        {
          "output_type": "stream",
          "name": "stdout",
          "text": [
            "[10, 12, 11, 13]\n"
          ]
        }
      ],
      "source": [
        "import numpy as np\n",
        "\n",
        "data = [10, 12, 11, 13, 90]  # 90 is an outlier\n",
        "filtered_data = [x for x in data if x < 50]\n",
        "print(filtered_data)  # [10, 12, 11, 13]"
      ]
    },
    {
      "cell_type": "markdown",
      "source": [
        "Pros:\n",
        "* Simple and quick\n",
        "\n",
        "* Cleans the data for some models (like linear regression)\n",
        "\n",
        "Cons:\n",
        "* You may lose important data\n",
        "\n",
        "* Not suitable for small datasets"
      ],
      "metadata": {
        "id": "jumA28mVcltM"
      }
    },
    {
      "cell_type": "markdown",
      "source": [
        "----\n",
        "## 2. Imputation (Replacing Outliers with Mean/Median/Mode)\n",
        "\n",
        "Instead of deleting the outlier, we replace it with a value that makes more sense (like the mean, median, or mode).\n",
        "\n",
        " Median is often better than mean because it’s less affected by outliers."
      ],
      "metadata": {
        "id": "en8qmBUMcwV7"
      }
    },
    {
      "cell_type": "code",
      "source": [
        "import pandas as pd\n",
        "\n",
        "df = pd.DataFrame({'score': [10, 12, 11, 13, 90]})\n",
        "print(df)\n"
      ],
      "metadata": {
        "colab": {
          "base_uri": "https://localhost:8080/"
        },
        "id": "0NE9K7nAcXeF",
        "outputId": "c4f4ec45-6703-4f1a-9633-daf25cfd7785"
      },
      "execution_count": 3,
      "outputs": [
        {
          "output_type": "stream",
          "name": "stdout",
          "text": [
            "   score\n",
            "0     10\n",
            "1     12\n",
            "2     11\n",
            "3     13\n",
            "4     90\n"
          ]
        }
      ]
    },
    {
      "cell_type": "code",
      "source": [
        "median_value = df['score'].median()\n",
        "df.loc[df['score'] > 50, 'score'] = median_value\n",
        "print(df)"
      ],
      "metadata": {
        "colab": {
          "base_uri": "https://localhost:8080/"
        },
        "id": "KhDT15FXc-8N",
        "outputId": "af89a9c0-ae1a-454e-d4eb-31b4d2e76aa9"
      },
      "execution_count": 4,
      "outputs": [
        {
          "output_type": "stream",
          "name": "stdout",
          "text": [
            "   score\n",
            "0     10\n",
            "1     12\n",
            "2     11\n",
            "3     13\n",
            "4     12\n"
          ]
        }
      ]
    },
    {
      "cell_type": "markdown",
      "source": [
        "Pros:\n",
        "* Keeps the dataset size same\n",
        "\n",
        "* Easy to implement\n",
        "\n",
        "Cons:\n",
        "* You may lose true variance in the data\n",
        "\n",
        "* Works only when outliers are few and replaceable"
      ],
      "metadata": {
        "id": "TjVtO-bsdhsB"
      }
    },
    {
      "cell_type": "markdown",
      "source": [
        "---\n",
        "## 3. Capping (Winsorization)\n",
        "Winsorization means you cap the outliers to a fixed percentile — like changing values above the 95th percentile to exactly the 95th percentile value.\n",
        "\n",
        "It’s like telling your outliers: “Okay, you’ve gone too far — now come back in range!”"
      ],
      "metadata": {
        "id": "NCyBeI56dtms"
      }
    },
    {
      "cell_type": "code",
      "source": [
        "import pandas as pd\n",
        "import scipy.stats as stats\n",
        "import numpy as np  # Importing numpy to handle array operations\n",
        "import matplotlib.pyplot as plt\n",
        "\n",
        "# Original dataset with an outlier\n",
        "data = [10, 12, 11, 13, 90]\n",
        "\n",
        "# Convert the list to a numpy array before applying Winsorization\n",
        "data_array = np.array(data)\n",
        "\n",
        "# Apply Winsorization: cap the bottom 5% and top 5% values\n",
        "capped_data = stats.mstats.winsorize(data_array, limits=[0.05, 0.05])\n",
        "\n",
        "# Convert masked array to list for easier processing\n",
        "capped_data_list = list(capped_data)\n",
        "\n",
        "# Calculate and display mean and median before and after Winsorization\n",
        "print(\"Original Data:\", data)\n",
        "print(\"Winsorized Data:\", capped_data_list)\n",
        "print(\"Mean - Original:\", round(pd.Series(data).mean(), 2))\n",
        "print(\"Mean - Winsorized:\", round(pd.Series(capped_data_list).mean(), 2))\n",
        "print(\"Median - Original:\", pd.Series(data).median())\n",
        "print(\"Median - Winsorized:\", pd.Series(capped_data_list).median())\n",
        "\n",
        "# Plotting the original and Winsorized data\n",
        "plt.figure(figsize=(8, 4))\n",
        "\n",
        "# Plot original data\n",
        "plt.subplot(1, 2, 1)\n",
        "plt.boxplot(data)\n",
        "plt.title(\"Original Data\")\n",
        "\n",
        "# Plot Winsorized data\n",
        "plt.subplot(1, 2, 2)\n",
        "plt.boxplot(capped_data_list)\n",
        "plt.title(\"Winsorized Data\")\n",
        "\n",
        "plt.tight_layout()\n",
        "plt.show()\n"
      ],
      "metadata": {
        "colab": {
          "base_uri": "https://localhost:8080/",
          "height": 486
        },
        "id": "fkqTMPhmdFgl",
        "outputId": "259ad5fd-bc83-4f7c-9032-0636cabad015"
      },
      "execution_count": 11,
      "outputs": [
        {
          "output_type": "stream",
          "name": "stdout",
          "text": [
            "Original Data: [10, 12, 11, 13, 90]\n",
            "Winsorized Data: [np.int64(10), np.int64(12), np.int64(11), np.int64(13), np.int64(90)]\n",
            "Mean - Original: 27.2\n",
            "Mean - Winsorized: 27.2\n",
            "Median - Original: 12.0\n",
            "Median - Winsorized: 12.0\n"
          ]
        },
        {
          "output_type": "display_data",
          "data": {
            "text/plain": [
              "<Figure size 800x400 with 2 Axes>"
            ],
            "image/png": "[encoded data removed]"
          },
          "metadata": {}
        }
      ]
    },
    {
      "cell_type": "markdown",
      "source": [
        "Pros:\n",
        "* Keeps all data points\n",
        "\n",
        "* Reduces outlier influence while keeping structure\n",
        "\n",
        "Cons:\n",
        "* You lose some true values\n",
        "\n",
        "* Percentile thresholds can feel arbitrary\n",
        "\n"
      ],
      "metadata": {
        "id": "d7y9VsmxfIfH"
      }
    },
    {
      "cell_type": "markdown",
      "source": [
        "---\n",
        "## 4. Transformation (e.g., Log, Box-Cox)\n",
        "Transforming the data can shrink the effect of outliers.\n",
        "\n",
        "Common transformations:\n",
        "* Log transformation\n",
        "\n",
        "* Square root\n",
        "\n",
        "* Box-Cox (advanced)\n",
        "\n",
        "These make the data more normal (Gaussian) and help reduce skewness."
      ],
      "metadata": {
        "id": "hf1SuMbQg0zK"
      }
    },
    {
      "cell_type": "code",
      "source": [
        "import numpy as np\n",
        "import pandas as pd\n",
        "\n",
        "df = pd.DataFrame({'salary': [1000, 1200, 1300, 1500, 10000]})\n",
        "df['log_salary'] = np.log(df['salary'])  # log transformation\n",
        "print(df)\n"
      ],
      "metadata": {
        "colab": {
          "base_uri": "https://localhost:8080/"
        },
        "id": "pNW6barSd1nN",
        "outputId": "50a06687-4150-4bde-9fad-bf5d62f3506f"
      },
      "execution_count": 12,
      "outputs": [
        {
          "output_type": "stream",
          "name": "stdout",
          "text": [
            "   salary  log_salary\n",
            "0    1000    6.907755\n",
            "1    1200    7.090077\n",
            "2    1300    7.170120\n",
            "3    1500    7.313220\n",
            "4   10000    9.210340\n"
          ]
        }
      ]
    },
    {
      "cell_type": "markdown",
      "source": [
        "Pros:\n",
        "* Keeps all data\n",
        "\n",
        "* Makes data better for modeling (especially linear models)\n",
        "\n",
        "Cons:\n",
        "* Can’t apply to negative or zero values (log)\n",
        "\n",
        "* Interpretation becomes harder (especially for non-tech teams)"
      ],
      "metadata": {
        "id": "OERaUT1HhQlK"
      }
    }
  ]
}