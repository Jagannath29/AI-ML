{
  "cells": [
    {
      "cell_type": "markdown",
      "metadata": {
        "id": "K7PtUSrzNJH_"
      },
      "source": [
        "## Hyperparameter Search in Deep Learning"
      ]
    },
    {
      "cell_type": "markdown",
      "metadata": {
        "id": "TagFS936Qnw4"
      },
      "source": [
        "### Grid Search\n",
        "\n",
        "Grid Search is a search method in which the parameters are searched from a grid of combination of range of possible values. Generally, one parameter to be searched is in uniform gap in some pre-specified gap. If there is another parameter, each value of this parameter is combined with each value of previous parameter to form a grid like structure. Hence, we call this search method a grid search.\n",
        "\n",
        "In hyperparameter search, we can use the same technique to search for the best hyperparameters. This can be determined by using metrics on test dataset. Thus, we can find the best model by searching through the hyperparameters in a grid.\n",
        "\n",
        "#### Example: Grid Search of two hyperparameters\n",
        "\n",
        "Let us use grid hyperparameter search for finding the hyperparameter of a neural network. Let us consider the two hyperparameters to be:\n",
        "1. Learning Rate (lr)\n",
        "2. Batch Size (bs)\n",
        "\n",
        "Now, we can define the range of hyperparameters to search in. For Learning Rate, let us use values in the range [0.001, 0.00001]. For batch size, let us use values in the range [8, 1024]. Since the range is too large, we will use some gap between the parameters to be searched.\n",
        "\n",
        "Let us use the learning rate in this range to produce 10 learning rates to try. Also, on the batch size, let us use all powers of 2 in the range.\n",
        "The grid of the parameters look like below:\n",
        "<!--  \n",
        "<img src=\"https://drive.google.com/uc?export=view&id=13mbsni2jPiJUoc7hRx-CeHICxz3Lgxzl\" alt=\"Fig: Grid Search on\" width=\"600\"/> -->\n",
        "\n",
        "<img src =\" https://i.postimg.cc/ZKdqWpV2/image.png\" alt=\"Fig: Grid Search on\" width=\"600\"/>\n",
        "\n",
        "We then train our models with these values as hyperparameters and the one that performs best on test metrics is chosen as best model (and best hyperparameters). Similarly, grid search can be done for multiple hyperparameters.\n",
        "\n",
        "The problem with grid search is that it takes a lot of time to try all the combinations. The larger the number of hyperparameters, the larger the time taken. The number of combinations increases drastically when one parameter is increased. Trying all the combinations then becomes infeasible for a large number of hyperparameters. Hence, this method is not generally used for hyperparameter tuning in deep neural networks with lots of hyperparameters.\n",
        "\n"
      ]
    },
    {
      "cell_type": "markdown",
      "metadata": {
        "id": "YdCs3L11qnVL"
      },
      "source": [
        "### Random Search\n",
        "\n",
        "Random Search is another search method where the parameters are sampled randomly from prespecified distribution such as uniform or gaussian distribution.\n",
        "\n",
        "In Grid search, we search parameters in a grid like structure specified by combination of possible values of parameters. In Random Search, we randomly sample parameters from their possible distribution and use all randomly sampled parameters. We use random search to randomly sample hyperparameters in Deep Learning models. Using random search gives us various hyperparameters to use in our models, but it does not try to cover all possible combinations of hyperparameters. Hence, we get variation in hyperparameters and can try to find the best model with those hyperparameters.\n",
        "\n",
        "Let us use Random Search to find two hyperparameters, learning rate and batch size. Let us consider the learning rate to be in range [0.001, 0.00001]and batch size in range [8, 1024], distributed uniformly.\n",
        "\n",
        "Sampling uniformly in the given ranges for 20 times, we get parameters as follows:\n",
        "\n",
        "<!-- <img src=\"https://drive.google.com/uc?export=view&id=1SujDvkMCweGIv0ZN8kGh_GOFKKz0ykHN\" alt=\"Fig: Grid Search on\" width=\"500\"/> -->\n",
        "<img src =\"https://i.postimg.cc/y8KSBLsv/image.png\"  alt=\"Fig: Grid Search on\" width=\"500\"/>\n",
        "\n",
        "If there are a large number of hyperparameters, we can benefit from randomly searching for hyperparameters. We can try various combinations of hyperparameters, and hence get various models with those hyperparameters. Although this method is beneficial to find best among the various randomly sampled hyperparameters, we cannot find the best possible hyperparameter. To find the best hyperparameter, we need to sample the hyperparameters a large number of times. This is infeasible when the model takes a long time to train and when there are large number of hyperparameters. Still, it is better than grid search in deep learning.\n",
        "\n",
        "\n",
        "\n",
        "\n",
        "\n"
      ]
    },
    {
      "cell_type": "markdown",
      "metadata": {
        "id": "Cdt1k5z6GV1u"
      },
      "source": [
        "### Genetic Grid Search\n",
        "\n",
        "Genetic Grid Search is a parameter search method in which the parameters are selected using genetic algorithm. Let us recall the genetic algorithm first before using it for hyperparameter search.\n",
        "\n",
        "Genetic algorithms use an iterative approach of creating new populations and selecting the population. The steps of genetic algorithm are listed below:\n",
        "\n",
        "1. Create Initial Population\n",
        "\n",
        "2. Find the fitness of the Individuals using Fitness Function\n",
        "\n",
        "3. Select the fit Individuals (with some randomness)\n",
        "\n",
        "4. Crossover the genes (data/parameter) of some Individuals to produce the Population of New Generation.\n",
        "\n",
        "5. Mutate the genes of some Individuals\n",
        "\n",
        "6. Repeat step 2 to 5 until some condition is satisfied.\n",
        "\n",
        "<!-- REFERENCE: https://towardsdatascience.com/introduction-to-genetic-algorithms-including-example-code-e396e98d8bf3 -->\n",
        "\n",
        "Same algorithm can be used to search for the hyperparameters in Machine Learning. The Individuals are one set of hyperparameters. The fitness function is the test set metrics, which is used to determine the best model. The crossover is combining the set of hyperparameters to create another set of hyperparameters(Individuals). Mutation is the random changes made to the hyperparameters.\n",
        "\n",
        "The steps of genetic grid search are listed below:\n",
        "\n",
        "1. Randomly sample some sets of hyperparameters (Individuals)\n",
        "\n",
        "2. Train model with these hyperparameters, Find the test metrics for each Individuals\n",
        "\n",
        "3. Select some best performing Individuals (say 10).\n",
        "\n",
        "4. Create some set with mixture of these hyperparameters.\n",
        "\n",
        "5. Randomly change some of the hyperparameters of some sets.\n",
        "\n",
        "6. Repeat step 2 to 5 until a satisfying model is achieved, or some condition is satisfied.\n",
        "\n",
        "\n",
        "\n"
      ]
    },
    {
      "cell_type": "markdown",
      "metadata": {
        "id": "erkpdsYlmkn5"
      },
      "source": [
        "#Example of Grid Search and Random Search in ANN"
      ]
    },
    {
      "cell_type": "code",
      "execution_count": 1,
      "metadata": {
        "colab": {
          "base_uri": "https://localhost:8080/",
          "height": 34
        },
        "id": "4QA8Ds7SY8b4",
        "outputId": "62eed6f8-0ede-4fff-cbce-90fb2d9d13d0"
      },
      "outputs": [
        {
          "name": "stderr",
          "output_type": "stream",
          "text": [
            "2025-06-27 16:16:07.533733: E external/local_xla/xla/stream_executor/cuda/cuda_fft.cc:467] Unable to register cuFFT factory: Attempting to register factory for plugin cuFFT when one has already been registered\n",
            "WARNING: All log messages before absl::InitializeLog() is called are written to STDERR\n",
            "E0000 00:00:1751020267.557814   25143 cuda_dnn.cc:8579] Unable to register cuDNN factory: Attempting to register factory for plugin cuDNN when one has already been registered\n",
            "E0000 00:00:1751020267.564737   25143 cuda_blas.cc:1407] Unable to register cuBLAS factory: Attempting to register factory for plugin cuBLAS when one has already been registered\n",
            "W0000 00:00:1751020267.582279   25143 computation_placer.cc:177] computation placer already registered. Please check linkage and avoid linking the same target more than once.\n",
            "W0000 00:00:1751020267.582300   25143 computation_placer.cc:177] computation placer already registered. Please check linkage and avoid linking the same target more than once.\n",
            "W0000 00:00:1751020267.582302   25143 computation_placer.cc:177] computation placer already registered. Please check linkage and avoid linking the same target more than once.\n",
            "W0000 00:00:1751020267.582304   25143 computation_placer.cc:177] computation placer already registered. Please check linkage and avoid linking the same target more than once.\n",
            "2025-06-27 16:16:07.588939: I tensorflow/core/platform/cpu_feature_guard.cc:210] This TensorFlow binary is optimized to use available CPU instructions in performance-critical operations.\n",
            "To enable the following instructions: AVX2 FMA, in other operations, rebuild TensorFlow with the appropriate compiler flags.\n"
          ]
        }
      ],
      "source": [
        "### IMPORT REQUIRED LIBRARIES ###\n",
        "# %tensorflow_version 2.x\n",
        "import numpy as np\n",
        "import tensorflow as tf\n",
        "import tensorflow.keras as keras\n",
        "import tensorflow.keras.layers as layers\n",
        "import tensorflow.keras.activations as activations\n",
        "import matplotlib.pyplot as plt\n",
        "from sklearn import model_selection as ms"
      ]
    },
    {
      "cell_type": "markdown",
      "metadata": {
        "id": "pi7WzXgJayAp"
      },
      "source": [
        "Create a Classifier model for MNIST dataset. MNIST dataset consists of images of size 28*28, which is 784 dimensions. The outputs are classes of each image (0...9), which is 10 dimensional one hot vectors. Now, we will create a model with ReLU activation function and 3 layers with `256, 158, 10` dimensional outputs. This is shown in the code below."
      ]
    },
    {
      "cell_type": "code",
      "execution_count": 2,
      "metadata": {
        "colab": {
          "base_uri": "https://localhost:8080/",
          "height": 255
        },
        "id": "vMbnhkCWaRAj",
        "outputId": "3caad925-e2e3-47ca-9f18-6a0e1f9e0c50"
      },
      "outputs": [
        {
          "name": "stderr",
          "output_type": "stream",
          "text": [
            "/home/jagannath/fuseAi/ai_ml_venv/lib/python3.12/site-packages/keras/src/layers/layer.py:421: UserWarning: `build()` was called on layer 'classifier', however the layer does not have a `build()` method implemented and it looks like it has unbuilt state. This will cause the layer to be marked as built, despite not being actually built, which may cause failures down the line. Make sure to implement a proper `build()` method.\n",
            "  warnings.warn(\n"
          ]
        },
        {
          "data": {
            "text/html": [
              "<pre style=\"white-space:pre;overflow-x:auto;line-height:normal;font-family:Menlo,'DejaVu Sans Mono',consolas,'Courier New',monospace\"><span style=\"font-weight: bold\">Model: \"classifier\"</span>\n",
              "</pre>\n"
            ],
            "text/plain": [
              "\u001b[1mModel: \"classifier\"\u001b[0m\n"
            ]
          },
          "metadata": {},
          "output_type": "display_data"
        },
        {
          "data": {
            "text/html": [
              "<pre style=\"white-space:pre;overflow-x:auto;line-height:normal;font-family:Menlo,'DejaVu Sans Mono',consolas,'Courier New',monospace\">┏━━━━━━━━━━━━━━━━━━━━━━━━━━━━━━━━━┳━━━━━━━━━━━━━━━━━━━━━━━━┳━━━━━━━━━━━━━━━┓\n",
              "┃<span style=\"font-weight: bold\"> Layer (type)                    </span>┃<span style=\"font-weight: bold\"> Output Shape           </span>┃<span style=\"font-weight: bold\">       Param # </span>┃\n",
              "┡━━━━━━━━━━━━━━━━━━━━━━━━━━━━━━━━━╇━━━━━━━━━━━━━━━━━━━━━━━━╇━━━━━━━━━━━━━━━┩\n",
              "│ dense (<span style=\"color: #0087ff; text-decoration-color: #0087ff\">Dense</span>)                   │ ?                      │   <span style=\"color: #00af00; text-decoration-color: #00af00\">0</span> (unbuilt) │\n",
              "├─────────────────────────────────┼────────────────────────┼───────────────┤\n",
              "│ dense_1 (<span style=\"color: #0087ff; text-decoration-color: #0087ff\">Dense</span>)                 │ ?                      │   <span style=\"color: #00af00; text-decoration-color: #00af00\">0</span> (unbuilt) │\n",
              "├─────────────────────────────────┼────────────────────────┼───────────────┤\n",
              "│ dense_2 (<span style=\"color: #0087ff; text-decoration-color: #0087ff\">Dense</span>)                 │ ?                      │   <span style=\"color: #00af00; text-decoration-color: #00af00\">0</span> (unbuilt) │\n",
              "└─────────────────────────────────┴────────────────────────┴───────────────┘\n",
              "</pre>\n"
            ],
            "text/plain": [
              "┏━━━━━━━━━━━━━━━━━━━━━━━━━━━━━━━━━┳━━━━━━━━━━━━━━━━━━━━━━━━┳━━━━━━━━━━━━━━━┓\n",
              "┃\u001b[1m \u001b[0m\u001b[1mLayer (type)                   \u001b[0m\u001b[1m \u001b[0m┃\u001b[1m \u001b[0m\u001b[1mOutput Shape          \u001b[0m\u001b[1m \u001b[0m┃\u001b[1m \u001b[0m\u001b[1m      Param #\u001b[0m\u001b[1m \u001b[0m┃\n",
              "┡━━━━━━━━━━━━━━━━━━━━━━━━━━━━━━━━━╇━━━━━━━━━━━━━━━━━━━━━━━━╇━━━━━━━━━━━━━━━┩\n",
              "│ dense (\u001b[38;5;33mDense\u001b[0m)                   │ ?                      │   \u001b[38;5;34m0\u001b[0m (unbuilt) │\n",
              "├─────────────────────────────────┼────────────────────────┼───────────────┤\n",
              "│ dense_1 (\u001b[38;5;33mDense\u001b[0m)                 │ ?                      │   \u001b[38;5;34m0\u001b[0m (unbuilt) │\n",
              "├─────────────────────────────────┼────────────────────────┼───────────────┤\n",
              "│ dense_2 (\u001b[38;5;33mDense\u001b[0m)                 │ ?                      │   \u001b[38;5;34m0\u001b[0m (unbuilt) │\n",
              "└─────────────────────────────────┴────────────────────────┴───────────────┘\n"
            ]
          },
          "metadata": {},
          "output_type": "display_data"
        },
        {
          "data": {
            "text/html": [
              "<pre style=\"white-space:pre;overflow-x:auto;line-height:normal;font-family:Menlo,'DejaVu Sans Mono',consolas,'Courier New',monospace\"><span style=\"font-weight: bold\"> Total params: </span><span style=\"color: #00af00; text-decoration-color: #00af00\">0</span> (0.00 B)\n",
              "</pre>\n"
            ],
            "text/plain": [
              "\u001b[1m Total params: \u001b[0m\u001b[38;5;34m0\u001b[0m (0.00 B)\n"
            ]
          },
          "metadata": {},
          "output_type": "display_data"
        },
        {
          "data": {
            "text/html": [
              "<pre style=\"white-space:pre;overflow-x:auto;line-height:normal;font-family:Menlo,'DejaVu Sans Mono',consolas,'Courier New',monospace\"><span style=\"font-weight: bold\"> Trainable params: </span><span style=\"color: #00af00; text-decoration-color: #00af00\">0</span> (0.00 B)\n",
              "</pre>\n"
            ],
            "text/plain": [
              "\u001b[1m Trainable params: \u001b[0m\u001b[38;5;34m0\u001b[0m (0.00 B)\n"
            ]
          },
          "metadata": {},
          "output_type": "display_data"
        },
        {
          "data": {
            "text/html": [
              "<pre style=\"white-space:pre;overflow-x:auto;line-height:normal;font-family:Menlo,'DejaVu Sans Mono',consolas,'Courier New',monospace\"><span style=\"font-weight: bold\"> Non-trainable params: </span><span style=\"color: #00af00; text-decoration-color: #00af00\">0</span> (0.00 B)\n",
              "</pre>\n"
            ],
            "text/plain": [
              "\u001b[1m Non-trainable params: \u001b[0m\u001b[38;5;34m0\u001b[0m (0.00 B)\n"
            ]
          },
          "metadata": {},
          "output_type": "display_data"
        }
      ],
      "source": [
        "class Classifier(keras.Model):\n",
        "    def __init__(self):\n",
        "        super(Classifier, self).__init__()\n",
        "\n",
        "        self.dense0 = layers.Dense(256, activation='relu')\n",
        "        self.dense1 = layers.Dense(128, activation='relu')\n",
        "        self.dense2 = layers.Dense(10, activation='softmax')\n",
        "\n",
        "    def call(self, x):\n",
        "        h = self.dense0(x)\n",
        "        h = self.dense1(h)\n",
        "        h = self.dense2(h)\n",
        "        return h\n",
        "\n",
        "model = Classifier()\n",
        "model.build(input_shape = (None,784))\n",
        "model.summary()"
      ]
    },
    {
      "cell_type": "markdown",
      "metadata": {
        "id": "spjmazryawbF"
      },
      "source": [
        "We need to load the dataset for training the model with various hyperparameters."
      ]
    },
    {
      "cell_type": "code",
      "execution_count": 3,
      "metadata": {
        "colab": {
          "base_uri": "https://localhost:8080/",
          "height": 51
        },
        "id": "1mbQAET5bkJC",
        "outputId": "18b291ce-30be-4490-dec8-c4bfac474610"
      },
      "outputs": [],
      "source": [
        "(x_train, y_train), (x_test, y_test) = tf.keras.datasets.mnist.load_data()\n",
        "x_train = x_train.reshape(-1,28*28)/255\n",
        "x_test = x_test.reshape(-1,28*28)/255"
      ]
    },
    {
      "cell_type": "code",
      "execution_count": 4,
      "metadata": {
        "colab": {
          "base_uri": "https://localhost:8080/",
          "height": 68
        },
        "id": "8fmUtppsb7ot",
        "outputId": "d0752951-c9e2-444d-e4dd-1964900c401f"
      },
      "outputs": [
        {
          "name": "stdout",
          "output_type": "stream",
          "text": [
            "Train (51000, 784) (51000,)\n",
            "Test (10000, 784) (10000,)\n",
            "Validation (9000, 784) (9000,)\n"
          ]
        }
      ],
      "source": [
        "x_train,x_val,y_train,y_val=ms.train_test_split(x_train,y_train, test_size=0.15)\n",
        "\n",
        "print(\"Train\",x_train.shape,y_train.shape)\n",
        "print(\"Test\",x_test.shape,y_test.shape)\n",
        "print(\"Validation\",x_val.shape,y_val.shape)"
      ]
    },
    {
      "cell_type": "markdown",
      "metadata": {
        "id": "Jzs-YWTtcN4r"
      },
      "source": [
        "### Define function to train on given hyperparameters.\n",
        "\n",
        "We will define a function which takes input: `batch_size, learning_rate` and returns the trained model with its performance on test dataset."
      ]
    },
    {
      "cell_type": "code",
      "execution_count": 5,
      "metadata": {
        "id": "Qv4VgRyBcDB5"
      },
      "outputs": [],
      "source": [
        "def train_model(batch_size, learning_rate, epochs=2):\n",
        "    print(f'Training model with batch_size {batch_size} and learning_rate {learning_rate}')\n",
        "\n",
        "    model = Classifier()\n",
        "    model.build(input_shape = (None,784))\n",
        "    model.compile(optimizer = keras.optimizers.Adam(learning_rate),\n",
        "                  loss='sparse_categorical_crossentropy',\n",
        "                  metrics=['accuracy'])\n",
        "    #training model\n",
        "    model.fit(x_train,y_train, batch_size=batch_size, epochs=epochs)\n",
        "    #testing model\n",
        "    loss, accuracy = model.evaluate(x=x_test, y=y_test, verbose=2)\n",
        "    # print(f'Accuracy of the Model on test dataset = {accuracy}')\n",
        "    print()\n",
        "    return model, accuracy"
      ]
    },
    {
      "cell_type": "markdown",
      "metadata": {
        "id": "8PEkUJCHY8jD"
      },
      "source": [
        "## Grid Search"
      ]
    },
    {
      "cell_type": "markdown",
      "metadata": {
        "id": "83dpaztrYWMg"
      },
      "source": [
        "We can form a grid of hyperparameter values as shown below."
      ]
    },
    {
      "cell_type": "code",
      "execution_count": 6,
      "metadata": {
        "id": "Bbjt3ralY4VO"
      },
      "outputs": [],
      "source": [
        "### Grid Search\n",
        "# lrs = np.array([0.1, 0.03, 0.01, 0.003, 0.001])\n",
        "powers = np.linspace(-1, -4, num=5)\n",
        "lrs = np.power(10, powers)\n",
        "\n",
        "bss = np.array([2**i for i in range(3, 11, 2)]) ## Batch sizes\n",
        "lr_grid, bs_grid = np.meshgrid(lrs, bss) ## Grid of learning rates and batch sizes\n",
        "lr_grid = lr_grid.reshape(-1)\n",
        "bs_grid = bs_grid.reshape(-1)"
      ]
    },
    {
      "cell_type": "markdown",
      "metadata": {
        "id": "wlY8iQRXZn11"
      },
      "source": [
        "We can plot the grid of 2 hyperparameters in 2D plot as below."
      ]
    },
    {
      "cell_type": "code",
      "execution_count": 7,
      "metadata": {
        "colab": {
          "base_uri": "https://localhost:8080/",
          "height": 497
        },
        "id": "JwzmHDsLZlqK",
        "outputId": "ce2c0d68-cf66-404a-93e6-96a8b1c984a9"
      },
      "outputs": [
        {
          "data": {
            "image/png": "[encoded data removed]",
            "text/plain": [
              "<Figure size 1000x800 with 1 Axes>"
            ]
          },
          "metadata": {},
          "output_type": "display_data"
        }
      ],
      "source": [
        "plt.figure(figsize=(10,8))\n",
        "plt.scatter(np.log10(lr_grid), np.log2(bs_grid))\n",
        "plt.yticks(np.log2(bss), labels=[i for i in bss])\n",
        "plt.xticks(np.log10(lrs), labels=[f'{i:.2e}' for i in lrs])\n",
        "plt.xlabel('Learning Rate (lr)')\n",
        "plt.ylabel('Batch Size (bs)')\n",
        "plt.show()"
      ]
    },
    {
      "cell_type": "markdown",
      "metadata": {
        "id": "j9qvO21KZxch"
      },
      "source": [
        "These values of hyperparameters can be used with tensorflow for finding best set of Hyperparameters. We will be using MNIST dataset. The trainng will be for 5 epochs for each set of hyperparameters."
      ]
    },
    {
      "cell_type": "markdown",
      "metadata": {
        "id": "Akv3Eah0h7QP"
      },
      "source": [
        "### Now we train models with various combination of hyperparameters and save the best one."
      ]
    },
    {
      "cell_type": "code",
      "execution_count": 8,
      "metadata": {
        "colab": {
          "base_uri": "https://localhost:8080/",
          "height": 1000
        },
        "id": "63py4zuIe5ks",
        "outputId": "48ddff46-650c-4ca7-ac62-188acfa136b4"
      },
      "outputs": [
        {
          "name": "stdout",
          "output_type": "stream",
          "text": [
            "Training model with batch_size 8 and learning_rate 0.1\n"
          ]
        },
        {
          "name": "stderr",
          "output_type": "stream",
          "text": [
            "/home/jagannath/fuseAi/ai_ml_venv/lib/python3.12/site-packages/keras/src/layers/layer.py:421: UserWarning: `build()` was called on layer 'classifier_1', however the layer does not have a `build()` method implemented and it looks like it has unbuilt state. This will cause the layer to be marked as built, despite not being actually built, which may cause failures down the line. Make sure to implement a proper `build()` method.\n",
            "  warnings.warn(\n",
            "2025-06-27 16:17:22.104086: E external/local_xla/xla/stream_executor/cuda/cuda_platform.cc:51] failed call to cuInit: INTERNAL: CUDA error: Failed call to cuInit: CUDA_ERROR_NO_DEVICE: no CUDA-capable device is detected\n"
          ]
        },
        {
          "name": "stdout",
          "output_type": "stream",
          "text": [
            "Epoch 1/2\n"
          ]
        },
        {
          "name": "stderr",
          "output_type": "stream",
          "text": [
            "2025-06-27 16:17:22.866701: W external/local_xla/xla/tsl/framework/cpu_allocator_impl.cc:83] Allocation of 159936000 exceeds 10% of free system memory.\n"
          ]
        },
        {
          "name": "stdout",
          "output_type": "stream",
          "text": [
            "\u001b[1m6375/6375\u001b[0m \u001b[32m━━━━━━━━━━━━━━━━━━━━\u001b[0m\u001b[37m\u001b[0m \u001b[1m26s\u001b[0m 4ms/step - accuracy: 0.1177 - loss: 2.7876\n",
            "Epoch 2/2\n",
            "\u001b[1m6375/6375\u001b[0m \u001b[32m━━━━━━━━━━━━━━━━━━━━\u001b[0m\u001b[37m\u001b[0m \u001b[1m24s\u001b[0m 4ms/step - accuracy: 0.1026 - loss: 2.3275\n",
            "313/313 - 1s - 2ms/step - accuracy: 0.0982 - loss: 2.3334\n",
            "\n",
            "Training model with batch_size 8 and learning_rate 0.01778279410038923\n"
          ]
        },
        {
          "name": "stderr",
          "output_type": "stream",
          "text": [
            "/home/jagannath/fuseAi/ai_ml_venv/lib/python3.12/site-packages/keras/src/layers/layer.py:421: UserWarning: `build()` was called on layer 'classifier_2', however the layer does not have a `build()` method implemented and it looks like it has unbuilt state. This will cause the layer to be marked as built, despite not being actually built, which may cause failures down the line. Make sure to implement a proper `build()` method.\n",
            "  warnings.warn(\n"
          ]
        },
        {
          "name": "stdout",
          "output_type": "stream",
          "text": [
            "Epoch 1/2\n"
          ]
        },
        {
          "name": "stderr",
          "output_type": "stream",
          "text": [
            "2025-06-27 16:18:14.611337: W external/local_xla/xla/tsl/framework/cpu_allocator_impl.cc:83] Allocation of 159936000 exceeds 10% of free system memory.\n"
          ]
        },
        {
          "name": "stdout",
          "output_type": "stream",
          "text": [
            "\u001b[1m6375/6375\u001b[0m \u001b[32m━━━━━━━━━━━━━━━━━━━━\u001b[0m\u001b[37m\u001b[0m \u001b[1m26s\u001b[0m 4ms/step - accuracy: 0.8130 - loss: 0.7259\n",
            "Epoch 2/2\n",
            "\u001b[1m6375/6375\u001b[0m \u001b[32m━━━━━━━━━━━━━━━━━━━━\u001b[0m\u001b[37m\u001b[0m \u001b[1m25s\u001b[0m 4ms/step - accuracy: 0.8765 - loss: 0.5179\n",
            "313/313 - 1s - 2ms/step - accuracy: 0.8812 - loss: 0.4570\n",
            "\n",
            "Training model with batch_size 8 and learning_rate 0.0031622776601683794\n"
          ]
        },
        {
          "name": "stderr",
          "output_type": "stream",
          "text": [
            "/home/jagannath/fuseAi/ai_ml_venv/lib/python3.12/site-packages/keras/src/layers/layer.py:421: UserWarning: `build()` was called on layer 'classifier_3', however the layer does not have a `build()` method implemented and it looks like it has unbuilt state. This will cause the layer to be marked as built, despite not being actually built, which may cause failures down the line. Make sure to implement a proper `build()` method.\n",
            "  warnings.warn(\n"
          ]
        },
        {
          "name": "stdout",
          "output_type": "stream",
          "text": [
            "Epoch 1/2\n"
          ]
        },
        {
          "name": "stderr",
          "output_type": "stream",
          "text": [
            "2025-06-27 16:19:07.402455: W external/local_xla/xla/tsl/framework/cpu_allocator_impl.cc:83] Allocation of 159936000 exceeds 10% of free system memory.\n"
          ]
        },
        {
          "name": "stdout",
          "output_type": "stream",
          "text": [
            "\u001b[1m6375/6375\u001b[0m \u001b[32m━━━━━━━━━━━━━━━━━━━━\u001b[0m\u001b[37m\u001b[0m \u001b[1m26s\u001b[0m 4ms/step - accuracy: 0.8865 - loss: 0.3691\n",
            "Epoch 2/2\n",
            "\u001b[1m6375/6375\u001b[0m \u001b[32m━━━━━━━━━━━━━━━━━━━━\u001b[0m\u001b[37m\u001b[0m \u001b[1m28s\u001b[0m 4ms/step - accuracy: 0.9541 - loss: 0.1585\n",
            "313/313 - 1s - 3ms/step - accuracy: 0.9623 - loss: 0.1402\n",
            "\n",
            "Training model with batch_size 8 and learning_rate 0.0005623413251903491\n"
          ]
        },
        {
          "name": "stderr",
          "output_type": "stream",
          "text": [
            "/home/jagannath/fuseAi/ai_ml_venv/lib/python3.12/site-packages/keras/src/layers/layer.py:421: UserWarning: `build()` was called on layer 'classifier_4', however the layer does not have a `build()` method implemented and it looks like it has unbuilt state. This will cause the layer to be marked as built, despite not being actually built, which may cause failures down the line. Make sure to implement a proper `build()` method.\n",
            "  warnings.warn(\n"
          ]
        },
        {
          "name": "stdout",
          "output_type": "stream",
          "text": [
            "Epoch 1/2\n"
          ]
        },
        {
          "name": "stderr",
          "output_type": "stream",
          "text": [
            "2025-06-27 16:20:03.519651: W external/local_xla/xla/tsl/framework/cpu_allocator_impl.cc:83] Allocation of 159936000 exceeds 10% of free system memory.\n"
          ]
        },
        {
          "name": "stdout",
          "output_type": "stream",
          "text": [
            "\u001b[1m6375/6375\u001b[0m \u001b[32m━━━━━━━━━━━━━━━━━━━━\u001b[0m\u001b[37m\u001b[0m \u001b[1m27s\u001b[0m 4ms/step - accuracy: 0.8942 - loss: 0.3552\n",
            "Epoch 2/2\n",
            "\u001b[1m6375/6375\u001b[0m \u001b[32m━━━━━━━━━━━━━━━━━━━━\u001b[0m\u001b[37m\u001b[0m \u001b[1m25s\u001b[0m 4ms/step - accuracy: 0.9726 - loss: 0.0888\n",
            "313/313 - 1s - 2ms/step - accuracy: 0.9714 - loss: 0.0981\n",
            "\n",
            "Training model with batch_size 8 and learning_rate 0.0001\n"
          ]
        },
        {
          "name": "stderr",
          "output_type": "stream",
          "text": [
            "/home/jagannath/fuseAi/ai_ml_venv/lib/python3.12/site-packages/keras/src/layers/layer.py:421: UserWarning: `build()` was called on layer 'classifier_5', however the layer does not have a `build()` method implemented and it looks like it has unbuilt state. This will cause the layer to be marked as built, despite not being actually built, which may cause failures down the line. Make sure to implement a proper `build()` method.\n",
            "  warnings.warn(\n"
          ]
        },
        {
          "name": "stdout",
          "output_type": "stream",
          "text": [
            "Epoch 1/2\n"
          ]
        },
        {
          "name": "stderr",
          "output_type": "stream",
          "text": [
            "2025-06-27 16:20:57.116764: W external/local_xla/xla/tsl/framework/cpu_allocator_impl.cc:83] Allocation of 159936000 exceeds 10% of free system memory.\n"
          ]
        },
        {
          "name": "stdout",
          "output_type": "stream",
          "text": [
            "\u001b[1m6375/6375\u001b[0m \u001b[32m━━━━━━━━━━━━━━━━━━━━\u001b[0m\u001b[37m\u001b[0m \u001b[1m26s\u001b[0m 4ms/step - accuracy: 0.8394 - loss: 0.6025\n",
            "Epoch 2/2\n",
            "\u001b[1m6375/6375\u001b[0m \u001b[32m━━━━━━━━━━━━━━━━━━━━\u001b[0m\u001b[37m\u001b[0m \u001b[1m25s\u001b[0m 4ms/step - accuracy: 0.9508 - loss: 0.1671\n",
            "313/313 - 1s - 2ms/step - accuracy: 0.9608 - loss: 0.1287\n",
            "\n",
            "Training model with batch_size 32 and learning_rate 0.1\n"
          ]
        },
        {
          "name": "stderr",
          "output_type": "stream",
          "text": [
            "/home/jagannath/fuseAi/ai_ml_venv/lib/python3.12/site-packages/keras/src/layers/layer.py:421: UserWarning: `build()` was called on layer 'classifier_6', however the layer does not have a `build()` method implemented and it looks like it has unbuilt state. This will cause the layer to be marked as built, despite not being actually built, which may cause failures down the line. Make sure to implement a proper `build()` method.\n",
            "  warnings.warn(\n"
          ]
        },
        {
          "name": "stdout",
          "output_type": "stream",
          "text": [
            "Epoch 1/2\n",
            "\u001b[1m 515/1594\u001b[0m \u001b[32m━━━━━━\u001b[0m\u001b[37m━━━━━━━━━━━━━━\u001b[0m \u001b[1m4s\u001b[0m 4ms/step - accuracy: 0.3237 - loss: 4.9593"
          ]
        },
        {
          "ename": "KeyboardInterrupt",
          "evalue": "",
          "output_type": "error",
          "traceback": [
            "\u001b[31m---------------------------------------------------------------------------\u001b[39m",
            "\u001b[31mKeyboardInterrupt\u001b[39m                         Traceback (most recent call last)",
            "\u001b[36mCell\u001b[39m\u001b[36m \u001b[39m\u001b[32mIn[8]\u001b[39m\u001b[32m, line 8\u001b[39m\n\u001b[32m      5\u001b[39m batch_size = bs_grid[i]\n\u001b[32m      6\u001b[39m learning_rate = lr_grid[i]\n\u001b[32m----> \u001b[39m\u001b[32m8\u001b[39m model, acc = \u001b[43mtrain_model\u001b[49m\u001b[43m(\u001b[49m\u001b[43mbatch_size\u001b[49m\u001b[43m,\u001b[49m\u001b[43m \u001b[49m\u001b[43mlearning_rate\u001b[49m\u001b[43m,\u001b[49m\u001b[43m \u001b[49m\u001b[43mepochs\u001b[49m\u001b[43m=\u001b[49m\u001b[32;43m2\u001b[39;49m\u001b[43m)\u001b[49m\n\u001b[32m      9\u001b[39m acc_list[i] = acc\n\u001b[32m     10\u001b[39m \u001b[38;5;28;01mif\u001b[39;00m acc > best_accuracy:\n",
            "\u001b[36mCell\u001b[39m\u001b[36m \u001b[39m\u001b[32mIn[5]\u001b[39m\u001b[32m, line 10\u001b[39m, in \u001b[36mtrain_model\u001b[39m\u001b[34m(batch_size, learning_rate, epochs)\u001b[39m\n\u001b[32m      6\u001b[39m model.compile(optimizer = keras.optimizers.Adam(learning_rate),\n\u001b[32m      7\u001b[39m               loss=\u001b[33m'\u001b[39m\u001b[33msparse_categorical_crossentropy\u001b[39m\u001b[33m'\u001b[39m,\n\u001b[32m      8\u001b[39m               metrics=[\u001b[33m'\u001b[39m\u001b[33maccuracy\u001b[39m\u001b[33m'\u001b[39m])\n\u001b[32m      9\u001b[39m \u001b[38;5;66;03m#training model\u001b[39;00m\n\u001b[32m---> \u001b[39m\u001b[32m10\u001b[39m \u001b[43mmodel\u001b[49m\u001b[43m.\u001b[49m\u001b[43mfit\u001b[49m\u001b[43m(\u001b[49m\u001b[43mx_train\u001b[49m\u001b[43m,\u001b[49m\u001b[43my_train\u001b[49m\u001b[43m,\u001b[49m\u001b[43m \u001b[49m\u001b[43mbatch_size\u001b[49m\u001b[43m=\u001b[49m\u001b[43mbatch_size\u001b[49m\u001b[43m,\u001b[49m\u001b[43m \u001b[49m\u001b[43mepochs\u001b[49m\u001b[43m=\u001b[49m\u001b[43mepochs\u001b[49m\u001b[43m)\u001b[49m\n\u001b[32m     11\u001b[39m \u001b[38;5;66;03m#testing model\u001b[39;00m\n\u001b[32m     12\u001b[39m loss, accuracy = model.evaluate(x=x_test, y=y_test, verbose=\u001b[32m2\u001b[39m)\n",
            "\u001b[36mFile \u001b[39m\u001b[32m~/fuseAi/ai_ml_venv/lib/python3.12/site-packages/keras/src/utils/traceback_utils.py:117\u001b[39m, in \u001b[36mfilter_traceback.<locals>.error_handler\u001b[39m\u001b[34m(*args, **kwargs)\u001b[39m\n\u001b[32m    115\u001b[39m filtered_tb = \u001b[38;5;28;01mNone\u001b[39;00m\n\u001b[32m    116\u001b[39m \u001b[38;5;28;01mtry\u001b[39;00m:\n\u001b[32m--> \u001b[39m\u001b[32m117\u001b[39m     \u001b[38;5;28;01mreturn\u001b[39;00m \u001b[43mfn\u001b[49m\u001b[43m(\u001b[49m\u001b[43m*\u001b[49m\u001b[43margs\u001b[49m\u001b[43m,\u001b[49m\u001b[43m \u001b[49m\u001b[43m*\u001b[49m\u001b[43m*\u001b[49m\u001b[43mkwargs\u001b[49m\u001b[43m)\u001b[49m\n\u001b[32m    118\u001b[39m \u001b[38;5;28;01mexcept\u001b[39;00m \u001b[38;5;167;01mException\u001b[39;00m \u001b[38;5;28;01mas\u001b[39;00m e:\n\u001b[32m    119\u001b[39m     filtered_tb = _process_traceback_frames(e.__traceback__)\n",
            "\u001b[36mFile \u001b[39m\u001b[32m~/fuseAi/ai_ml_venv/lib/python3.12/site-packages/keras/src/backend/tensorflow/trainer.py:377\u001b[39m, in \u001b[36mTensorFlowTrainer.fit\u001b[39m\u001b[34m(self, x, y, batch_size, epochs, verbose, callbacks, validation_split, validation_data, shuffle, class_weight, sample_weight, initial_epoch, steps_per_epoch, validation_steps, validation_batch_size, validation_freq)\u001b[39m\n\u001b[32m    375\u001b[39m \u001b[38;5;28;01mfor\u001b[39;00m step, iterator \u001b[38;5;129;01min\u001b[39;00m epoch_iterator:\n\u001b[32m    376\u001b[39m     callbacks.on_train_batch_begin(step)\n\u001b[32m--> \u001b[39m\u001b[32m377\u001b[39m     logs = \u001b[38;5;28;43mself\u001b[39;49m\u001b[43m.\u001b[49m\u001b[43mtrain_function\u001b[49m\u001b[43m(\u001b[49m\u001b[43miterator\u001b[49m\u001b[43m)\u001b[49m\n\u001b[32m    378\u001b[39m     callbacks.on_train_batch_end(step, logs)\n\u001b[32m    379\u001b[39m     \u001b[38;5;28;01mif\u001b[39;00m \u001b[38;5;28mself\u001b[39m.stop_training:\n",
            "\u001b[36mFile \u001b[39m\u001b[32m~/fuseAi/ai_ml_venv/lib/python3.12/site-packages/keras/src/backend/tensorflow/trainer.py:220\u001b[39m, in \u001b[36mTensorFlowTrainer._make_function.<locals>.function\u001b[39m\u001b[34m(iterator)\u001b[39m\n\u001b[32m    216\u001b[39m \u001b[38;5;28;01mdef\u001b[39;00m\u001b[38;5;250m \u001b[39m\u001b[34mfunction\u001b[39m(iterator):\n\u001b[32m    217\u001b[39m     \u001b[38;5;28;01mif\u001b[39;00m \u001b[38;5;28misinstance\u001b[39m(\n\u001b[32m    218\u001b[39m         iterator, (tf.data.Iterator, tf.distribute.DistributedIterator)\n\u001b[32m    219\u001b[39m     ):\n\u001b[32m--> \u001b[39m\u001b[32m220\u001b[39m         opt_outputs = \u001b[43mmulti_step_on_iterator\u001b[49m\u001b[43m(\u001b[49m\u001b[43miterator\u001b[49m\u001b[43m)\u001b[49m\n\u001b[32m    221\u001b[39m         \u001b[38;5;28;01mif\u001b[39;00m \u001b[38;5;129;01mnot\u001b[39;00m opt_outputs.has_value():\n\u001b[32m    222\u001b[39m             \u001b[38;5;28;01mraise\u001b[39;00m \u001b[38;5;167;01mStopIteration\u001b[39;00m\n",
            "\u001b[36mFile \u001b[39m\u001b[32m~/fuseAi/ai_ml_venv/lib/python3.12/site-packages/tensorflow/python/util/traceback_utils.py:150\u001b[39m, in \u001b[36mfilter_traceback.<locals>.error_handler\u001b[39m\u001b[34m(*args, **kwargs)\u001b[39m\n\u001b[32m    148\u001b[39m filtered_tb = \u001b[38;5;28;01mNone\u001b[39;00m\n\u001b[32m    149\u001b[39m \u001b[38;5;28;01mtry\u001b[39;00m:\n\u001b[32m--> \u001b[39m\u001b[32m150\u001b[39m   \u001b[38;5;28;01mreturn\u001b[39;00m \u001b[43mfn\u001b[49m\u001b[43m(\u001b[49m\u001b[43m*\u001b[49m\u001b[43margs\u001b[49m\u001b[43m,\u001b[49m\u001b[43m \u001b[49m\u001b[43m*\u001b[49m\u001b[43m*\u001b[49m\u001b[43mkwargs\u001b[49m\u001b[43m)\u001b[49m\n\u001b[32m    151\u001b[39m \u001b[38;5;28;01mexcept\u001b[39;00m \u001b[38;5;167;01mException\u001b[39;00m \u001b[38;5;28;01mas\u001b[39;00m e:\n\u001b[32m    152\u001b[39m   filtered_tb = _process_traceback_frames(e.__traceback__)\n",
            "\u001b[36mFile \u001b[39m\u001b[32m~/fuseAi/ai_ml_venv/lib/python3.12/site-packages/tensorflow/python/eager/polymorphic_function/polymorphic_function.py:833\u001b[39m, in \u001b[36mFunction.__call__\u001b[39m\u001b[34m(self, *args, **kwds)\u001b[39m\n\u001b[32m    830\u001b[39m compiler = \u001b[33m\"\u001b[39m\u001b[33mxla\u001b[39m\u001b[33m\"\u001b[39m \u001b[38;5;28;01mif\u001b[39;00m \u001b[38;5;28mself\u001b[39m._jit_compile \u001b[38;5;28;01melse\u001b[39;00m \u001b[33m\"\u001b[39m\u001b[33mnonXla\u001b[39m\u001b[33m\"\u001b[39m\n\u001b[32m    832\u001b[39m \u001b[38;5;28;01mwith\u001b[39;00m OptionalXlaContext(\u001b[38;5;28mself\u001b[39m._jit_compile):\n\u001b[32m--> \u001b[39m\u001b[32m833\u001b[39m   result = \u001b[38;5;28;43mself\u001b[39;49m\u001b[43m.\u001b[49m\u001b[43m_call\u001b[49m\u001b[43m(\u001b[49m\u001b[43m*\u001b[49m\u001b[43margs\u001b[49m\u001b[43m,\u001b[49m\u001b[43m \u001b[49m\u001b[43m*\u001b[49m\u001b[43m*\u001b[49m\u001b[43mkwds\u001b[49m\u001b[43m)\u001b[49m\n\u001b[32m    835\u001b[39m new_tracing_count = \u001b[38;5;28mself\u001b[39m.experimental_get_tracing_count()\n\u001b[32m    836\u001b[39m without_tracing = (tracing_count == new_tracing_count)\n",
            "\u001b[36mFile \u001b[39m\u001b[32m~/fuseAi/ai_ml_venv/lib/python3.12/site-packages/tensorflow/python/eager/polymorphic_function/polymorphic_function.py:878\u001b[39m, in \u001b[36mFunction._call\u001b[39m\u001b[34m(self, *args, **kwds)\u001b[39m\n\u001b[32m    875\u001b[39m \u001b[38;5;28mself\u001b[39m._lock.release()\n\u001b[32m    876\u001b[39m \u001b[38;5;66;03m# In this case we have not created variables on the first call. So we can\u001b[39;00m\n\u001b[32m    877\u001b[39m \u001b[38;5;66;03m# run the first trace but we should fail if variables are created.\u001b[39;00m\n\u001b[32m--> \u001b[39m\u001b[32m878\u001b[39m results = \u001b[43mtracing_compilation\u001b[49m\u001b[43m.\u001b[49m\u001b[43mcall_function\u001b[49m\u001b[43m(\u001b[49m\n\u001b[32m    879\u001b[39m \u001b[43m    \u001b[49m\u001b[43margs\u001b[49m\u001b[43m,\u001b[49m\u001b[43m \u001b[49m\u001b[43mkwds\u001b[49m\u001b[43m,\u001b[49m\u001b[43m \u001b[49m\u001b[38;5;28;43mself\u001b[39;49m\u001b[43m.\u001b[49m\u001b[43m_variable_creation_config\u001b[49m\n\u001b[32m    880\u001b[39m \u001b[43m\u001b[49m\u001b[43m)\u001b[49m\n\u001b[32m    881\u001b[39m \u001b[38;5;28;01mif\u001b[39;00m \u001b[38;5;28mself\u001b[39m._created_variables:\n\u001b[32m    882\u001b[39m   \u001b[38;5;28;01mraise\u001b[39;00m \u001b[38;5;167;01mValueError\u001b[39;00m(\u001b[33m\"\u001b[39m\u001b[33mCreating variables on a non-first call to a function\u001b[39m\u001b[33m\"\u001b[39m\n\u001b[32m    883\u001b[39m                    \u001b[33m\"\u001b[39m\u001b[33m decorated with tf.function.\u001b[39m\u001b[33m\"\u001b[39m)\n",
            "\u001b[36mFile \u001b[39m\u001b[32m~/fuseAi/ai_ml_venv/lib/python3.12/site-packages/tensorflow/python/eager/polymorphic_function/tracing_compilation.py:139\u001b[39m, in \u001b[36mcall_function\u001b[39m\u001b[34m(args, kwargs, tracing_options)\u001b[39m\n\u001b[32m    137\u001b[39m bound_args = function.function_type.bind(*args, **kwargs)\n\u001b[32m    138\u001b[39m flat_inputs = function.function_type.unpack_inputs(bound_args)\n\u001b[32m--> \u001b[39m\u001b[32m139\u001b[39m \u001b[38;5;28;01mreturn\u001b[39;00m \u001b[43mfunction\u001b[49m\u001b[43m.\u001b[49m\u001b[43m_call_flat\u001b[49m\u001b[43m(\u001b[49m\u001b[43m  \u001b[49m\u001b[38;5;66;43;03m# pylint: disable=protected-access\u001b[39;49;00m\n\u001b[32m    140\u001b[39m \u001b[43m    \u001b[49m\u001b[43mflat_inputs\u001b[49m\u001b[43m,\u001b[49m\u001b[43m \u001b[49m\u001b[43mcaptured_inputs\u001b[49m\u001b[43m=\u001b[49m\u001b[43mfunction\u001b[49m\u001b[43m.\u001b[49m\u001b[43mcaptured_inputs\u001b[49m\n\u001b[32m    141\u001b[39m \u001b[43m\u001b[49m\u001b[43m)\u001b[49m\n",
            "\u001b[36mFile \u001b[39m\u001b[32m~/fuseAi/ai_ml_venv/lib/python3.12/site-packages/tensorflow/python/eager/polymorphic_function/concrete_function.py:1322\u001b[39m, in \u001b[36mConcreteFunction._call_flat\u001b[39m\u001b[34m(self, tensor_inputs, captured_inputs)\u001b[39m\n\u001b[32m   1318\u001b[39m possible_gradient_type = gradients_util.PossibleTapeGradientTypes(args)\n\u001b[32m   1319\u001b[39m \u001b[38;5;28;01mif\u001b[39;00m (possible_gradient_type == gradients_util.POSSIBLE_GRADIENT_TYPES_NONE\n\u001b[32m   1320\u001b[39m     \u001b[38;5;129;01mand\u001b[39;00m executing_eagerly):\n\u001b[32m   1321\u001b[39m   \u001b[38;5;66;03m# No tape is watching; skip to running the function.\u001b[39;00m\n\u001b[32m-> \u001b[39m\u001b[32m1322\u001b[39m   \u001b[38;5;28;01mreturn\u001b[39;00m \u001b[38;5;28;43mself\u001b[39;49m\u001b[43m.\u001b[49m\u001b[43m_inference_function\u001b[49m\u001b[43m.\u001b[49m\u001b[43mcall_preflattened\u001b[49m\u001b[43m(\u001b[49m\u001b[43margs\u001b[49m\u001b[43m)\u001b[49m\n\u001b[32m   1323\u001b[39m forward_backward = \u001b[38;5;28mself\u001b[39m._select_forward_and_backward_functions(\n\u001b[32m   1324\u001b[39m     args,\n\u001b[32m   1325\u001b[39m     possible_gradient_type,\n\u001b[32m   1326\u001b[39m     executing_eagerly)\n\u001b[32m   1327\u001b[39m forward_function, args_with_tangents = forward_backward.forward()\n",
            "\u001b[36mFile \u001b[39m\u001b[32m~/fuseAi/ai_ml_venv/lib/python3.12/site-packages/tensorflow/python/eager/polymorphic_function/atomic_function.py:216\u001b[39m, in \u001b[36mAtomicFunction.call_preflattened\u001b[39m\u001b[34m(self, args)\u001b[39m\n\u001b[32m    214\u001b[39m \u001b[38;5;28;01mdef\u001b[39;00m\u001b[38;5;250m \u001b[39m\u001b[34mcall_preflattened\u001b[39m(\u001b[38;5;28mself\u001b[39m, args: Sequence[core.Tensor]) -> Any:\n\u001b[32m    215\u001b[39m \u001b[38;5;250m  \u001b[39m\u001b[33;03m\"\"\"Calls with flattened tensor inputs and returns the structured output.\"\"\"\u001b[39;00m\n\u001b[32m--> \u001b[39m\u001b[32m216\u001b[39m   flat_outputs = \u001b[38;5;28;43mself\u001b[39;49m\u001b[43m.\u001b[49m\u001b[43mcall_flat\u001b[49m\u001b[43m(\u001b[49m\u001b[43m*\u001b[49m\u001b[43margs\u001b[49m\u001b[43m)\u001b[49m\n\u001b[32m    217\u001b[39m   \u001b[38;5;28;01mreturn\u001b[39;00m \u001b[38;5;28mself\u001b[39m.function_type.pack_output(flat_outputs)\n",
            "\u001b[36mFile \u001b[39m\u001b[32m~/fuseAi/ai_ml_venv/lib/python3.12/site-packages/tensorflow/python/eager/polymorphic_function/atomic_function.py:251\u001b[39m, in \u001b[36mAtomicFunction.call_flat\u001b[39m\u001b[34m(self, *args)\u001b[39m\n\u001b[32m    249\u001b[39m \u001b[38;5;28;01mwith\u001b[39;00m record.stop_recording():\n\u001b[32m    250\u001b[39m   \u001b[38;5;28;01mif\u001b[39;00m \u001b[38;5;28mself\u001b[39m._bound_context.executing_eagerly():\n\u001b[32m--> \u001b[39m\u001b[32m251\u001b[39m     outputs = \u001b[38;5;28;43mself\u001b[39;49m\u001b[43m.\u001b[49m\u001b[43m_bound_context\u001b[49m\u001b[43m.\u001b[49m\u001b[43mcall_function\u001b[49m\u001b[43m(\u001b[49m\n\u001b[32m    252\u001b[39m \u001b[43m        \u001b[49m\u001b[38;5;28;43mself\u001b[39;49m\u001b[43m.\u001b[49m\u001b[43mname\u001b[49m\u001b[43m,\u001b[49m\n\u001b[32m    253\u001b[39m \u001b[43m        \u001b[49m\u001b[38;5;28;43mlist\u001b[39;49m\u001b[43m(\u001b[49m\u001b[43margs\u001b[49m\u001b[43m)\u001b[49m\u001b[43m,\u001b[49m\n\u001b[32m    254\u001b[39m \u001b[43m        \u001b[49m\u001b[38;5;28;43mlen\u001b[39;49m\u001b[43m(\u001b[49m\u001b[38;5;28;43mself\u001b[39;49m\u001b[43m.\u001b[49m\u001b[43mfunction_type\u001b[49m\u001b[43m.\u001b[49m\u001b[43mflat_outputs\u001b[49m\u001b[43m)\u001b[49m\u001b[43m,\u001b[49m\n\u001b[32m    255\u001b[39m \u001b[43m    \u001b[49m\u001b[43m)\u001b[49m\n\u001b[32m    256\u001b[39m   \u001b[38;5;28;01melse\u001b[39;00m:\n\u001b[32m    257\u001b[39m     outputs = make_call_op_in_graph(\n\u001b[32m    258\u001b[39m         \u001b[38;5;28mself\u001b[39m,\n\u001b[32m    259\u001b[39m         \u001b[38;5;28mlist\u001b[39m(args),\n\u001b[32m    260\u001b[39m         \u001b[38;5;28mself\u001b[39m._bound_context.function_call_options.as_attrs(),\n\u001b[32m    261\u001b[39m     )\n",
            "\u001b[36mFile \u001b[39m\u001b[32m~/fuseAi/ai_ml_venv/lib/python3.12/site-packages/tensorflow/python/eager/context.py:1688\u001b[39m, in \u001b[36mContext.call_function\u001b[39m\u001b[34m(self, name, tensor_inputs, num_outputs)\u001b[39m\n\u001b[32m   1686\u001b[39m cancellation_context = cancellation.context()\n\u001b[32m   1687\u001b[39m \u001b[38;5;28;01mif\u001b[39;00m cancellation_context \u001b[38;5;129;01mis\u001b[39;00m \u001b[38;5;28;01mNone\u001b[39;00m:\n\u001b[32m-> \u001b[39m\u001b[32m1688\u001b[39m   outputs = \u001b[43mexecute\u001b[49m\u001b[43m.\u001b[49m\u001b[43mexecute\u001b[49m\u001b[43m(\u001b[49m\n\u001b[32m   1689\u001b[39m \u001b[43m      \u001b[49m\u001b[43mname\u001b[49m\u001b[43m.\u001b[49m\u001b[43mdecode\u001b[49m\u001b[43m(\u001b[49m\u001b[33;43m\"\u001b[39;49m\u001b[33;43mutf-8\u001b[39;49m\u001b[33;43m\"\u001b[39;49m\u001b[43m)\u001b[49m\u001b[43m,\u001b[49m\n\u001b[32m   1690\u001b[39m \u001b[43m      \u001b[49m\u001b[43mnum_outputs\u001b[49m\u001b[43m=\u001b[49m\u001b[43mnum_outputs\u001b[49m\u001b[43m,\u001b[49m\n\u001b[32m   1691\u001b[39m \u001b[43m      \u001b[49m\u001b[43minputs\u001b[49m\u001b[43m=\u001b[49m\u001b[43mtensor_inputs\u001b[49m\u001b[43m,\u001b[49m\n\u001b[32m   1692\u001b[39m \u001b[43m      \u001b[49m\u001b[43mattrs\u001b[49m\u001b[43m=\u001b[49m\u001b[43mattrs\u001b[49m\u001b[43m,\u001b[49m\n\u001b[32m   1693\u001b[39m \u001b[43m      \u001b[49m\u001b[43mctx\u001b[49m\u001b[43m=\u001b[49m\u001b[38;5;28;43mself\u001b[39;49m\u001b[43m,\u001b[49m\n\u001b[32m   1694\u001b[39m \u001b[43m  \u001b[49m\u001b[43m)\u001b[49m\n\u001b[32m   1695\u001b[39m \u001b[38;5;28;01melse\u001b[39;00m:\n\u001b[32m   1696\u001b[39m   outputs = execute.execute_with_cancellation(\n\u001b[32m   1697\u001b[39m       name.decode(\u001b[33m\"\u001b[39m\u001b[33mutf-8\u001b[39m\u001b[33m\"\u001b[39m),\n\u001b[32m   1698\u001b[39m       num_outputs=num_outputs,\n\u001b[32m   (...)\u001b[39m\u001b[32m   1702\u001b[39m       cancellation_manager=cancellation_context,\n\u001b[32m   1703\u001b[39m   )\n",
            "\u001b[36mFile \u001b[39m\u001b[32m~/fuseAi/ai_ml_venv/lib/python3.12/site-packages/tensorflow/python/eager/execute.py:53\u001b[39m, in \u001b[36mquick_execute\u001b[39m\u001b[34m(op_name, num_outputs, inputs, attrs, ctx, name)\u001b[39m\n\u001b[32m     51\u001b[39m \u001b[38;5;28;01mtry\u001b[39;00m:\n\u001b[32m     52\u001b[39m   ctx.ensure_initialized()\n\u001b[32m---> \u001b[39m\u001b[32m53\u001b[39m   tensors = \u001b[43mpywrap_tfe\u001b[49m\u001b[43m.\u001b[49m\u001b[43mTFE_Py_Execute\u001b[49m\u001b[43m(\u001b[49m\u001b[43mctx\u001b[49m\u001b[43m.\u001b[49m\u001b[43m_handle\u001b[49m\u001b[43m,\u001b[49m\u001b[43m \u001b[49m\u001b[43mdevice_name\u001b[49m\u001b[43m,\u001b[49m\u001b[43m \u001b[49m\u001b[43mop_name\u001b[49m\u001b[43m,\u001b[49m\n\u001b[32m     54\u001b[39m \u001b[43m                                      \u001b[49m\u001b[43minputs\u001b[49m\u001b[43m,\u001b[49m\u001b[43m \u001b[49m\u001b[43mattrs\u001b[49m\u001b[43m,\u001b[49m\u001b[43m \u001b[49m\u001b[43mnum_outputs\u001b[49m\u001b[43m)\u001b[49m\n\u001b[32m     55\u001b[39m \u001b[38;5;28;01mexcept\u001b[39;00m core._NotOkStatusException \u001b[38;5;28;01mas\u001b[39;00m e:\n\u001b[32m     56\u001b[39m   \u001b[38;5;28;01mif\u001b[39;00m name \u001b[38;5;129;01mis\u001b[39;00m \u001b[38;5;129;01mnot\u001b[39;00m \u001b[38;5;28;01mNone\u001b[39;00m:\n",
            "\u001b[31mKeyboardInterrupt\u001b[39m: "
          ]
        }
      ],
      "source": [
        "acc_list = np.zeros(shape=len(lr_grid))\n",
        "best_accuracy = 0.\n",
        "best_model = None\n",
        "for i in range(len(lr_grid)):\n",
        "    batch_size = bs_grid[i]\n",
        "    learning_rate = lr_grid[i]\n",
        "\n",
        "    model, acc = train_model(batch_size, learning_rate, epochs=2)\n",
        "    acc_list[i] = acc\n",
        "    if acc > best_accuracy:\n",
        "        best_accuracy = acc\n",
        "        best_model = model"
      ]
    },
    {
      "cell_type": "markdown",
      "metadata": {
        "id": "40WJlItxkBoi"
      },
      "source": [
        "### Plotting the grid with colors representing the accuracy"
      ]
    },
    {
      "cell_type": "code",
      "execution_count": 9,
      "metadata": {
        "colab": {
          "base_uri": "https://localhost:8080/",
          "height": 211
        },
        "id": "P2ZKrvN7kBV8",
        "outputId": "94125d18-fe48-4407-de1f-db9271376540"
      },
      "outputs": [
        {
          "data": {
            "image/png": "[encoded data removed]",
            "text/plain": [
              "<Figure size 1000x800 with 2 Axes>"
            ]
          },
          "metadata": {},
          "output_type": "display_data"
        }
      ],
      "source": [
        "import matplotlib.pyplot as plt\n",
        "\n",
        "plt.figure(figsize=(10,8))\n",
        "plt.scatter(np.log10(lr_grid), np.log2(bs_grid), c=acc_list)\n",
        "plt.yticks(np.log2(bss), labels=[i for i in bss])\n",
        "plt.xticks(np.log10(lrs), labels=[f'{i:.2e}' for i in lrs])\n",
        "plt.xlabel('Learning Rate (lr)')\n",
        "plt.ylabel('Batch Size (bs)')\n",
        "plt.colorbar()\n",
        "plt.show()"
      ]
    },
    {
      "cell_type": "code",
      "execution_count": 10,
      "metadata": {
        "colab": {
          "base_uri": "https://localhost:8080/",
          "height": 34
        },
        "id": "s0jHVWAeCOQT",
        "outputId": "7a1028cb-7f95-49bf-cad6-8ef1ba4a0ebd"
      },
      "outputs": [
        {
          "data": {
            "text/plain": [
              "0.9714000225067139"
            ]
          },
          "execution_count": 10,
          "metadata": {},
          "output_type": "execute_result"
        }
      ],
      "source": [
        "best_accuracy"
      ]
    },
    {
      "cell_type": "code",
      "execution_count": 11,
      "metadata": {
        "id": "CgOnszr8DihJ"
      },
      "outputs": [
        {
          "name": "stdout",
          "output_type": "stream",
          "text": [
            "Best accuracy 0.9714000225067139 with batch size 8 learning rate 0.0005623413251903491\n"
          ]
        }
      ],
      "source": [
        "best = acc_list.argmax()\n",
        "print(f'Best accuracy {best_accuracy} with batch size {bs_grid[best]} learning rate {lr_grid[best]}')"
      ]
    },
    {
      "cell_type": "markdown",
      "metadata": {
        "id": "9C5ihg6pABHc"
      },
      "source": [
        "## Random Search"
      ]
    },
    {
      "cell_type": "markdown",
      "metadata": {
        "id": "C4HH3wpmABHf"
      },
      "source": [
        "We can randomly search hyperparameter values as shown below."
      ]
    },
    {
      "cell_type": "code",
      "execution_count": 12,
      "metadata": {
        "id": "pwyHwRt8ABHg"
      },
      "outputs": [],
      "source": [
        "num_samples = 20\n",
        "lrs = np.random.uniform(low=0.1, high=0.0001, size=num_samples)\n",
        "# bss = np.random.uniform(low=8, high=512, size=num_samples)\n",
        "bss = np.random.randint(low=8, high=512, size=num_samples)"
      ]
    },
    {
      "cell_type": "markdown",
      "metadata": {
        "id": "wFz85I1iABHm"
      },
      "source": [
        "We can plot the grid of 2 hyperparameters in 2D plot as below."
      ]
    },
    {
      "cell_type": "code",
      "execution_count": 13,
      "metadata": {
        "colab": {
          "base_uri": "https://localhost:8080/",
          "height": 497
        },
        "id": "JWYjweaDABHn",
        "outputId": "e34f2416-d9a8-49da-a9b2-268669264763"
      },
      "outputs": [
        {
          "data": {
            "image/png": "[encoded data removed]",
            "text/plain": [
              "<Figure size 1000x800 with 1 Axes>"
            ]
          },
          "metadata": {},
          "output_type": "display_data"
        }
      ],
      "source": [
        "plt.figure(figsize=(10,8))\n",
        "plt.scatter(lrs, bss)\n",
        "eps = 1e-2\n",
        "plt.xlim((lrs.max()+eps, lrs.min()-eps))\n",
        "plt.xlabel('Learning Rate (lr)')\n",
        "plt.ylabel('Batch Size (bs)')\n",
        "plt.show()"
      ]
    },
    {
      "cell_type": "markdown",
      "metadata": {
        "id": "Tx3M_ZJFABHr"
      },
      "source": [
        "These values of hyperparameters can be used with tensorflow for finding best set of Hyperparameters. We will be using MNIST dataset. The trainng will be for 5 epochs for each set of hyperparameters."
      ]
    },
    {
      "cell_type": "markdown",
      "metadata": {
        "id": "Yefs1w8bABHs"
      },
      "source": [
        "### Now we train models with various combination of hyperparameters and save the best one."
      ]
    },
    {
      "cell_type": "code",
      "execution_count": null,
      "metadata": {
        "colab": {
          "base_uri": "https://localhost:8080/",
          "height": 1000
        },
        "id": "AZqYne5CABHt",
        "outputId": "d383e363-8da2-4aad-aaf2-2fc2231556f8"
      },
      "outputs": [
        {
          "name": "stdout",
          "output_type": "stream",
          "text": [
            "Training model with batch_size 163 and learning_rate 0.09226673501889937\n",
            "Train on 51000 samples\n",
            "Epoch 1/2\n",
            "51000/51000 [==============================] - 1s 24us/sample - loss: 2.0259 - accuracy: 0.6529\n",
            "Epoch 2/2\n",
            "51000/51000 [==============================] - 1s 25us/sample - loss: 0.6264 - accuracy: 0.7843\n",
            "10000/10000 - 1s - loss: 0.6892 - accuracy: 0.7471\n",
            "\n",
            "Training model with batch_size 162 and learning_rate 0.02524667457670461\n",
            "Train on 51000 samples\n",
            "Epoch 1/2\n",
            "51000/51000 [==============================] - 1s 26us/sample - loss: 0.3650 - accuracy: 0.9007\n",
            "Epoch 2/2\n",
            "51000/51000 [==============================] - 1s 21us/sample - loss: 0.1868 - accuracy: 0.9485\n",
            "10000/10000 - 1s - loss: 0.1686 - accuracy: 0.9522\n",
            "\n",
            "Training model with batch_size 483 and learning_rate 0.07280405103409873\n",
            "Train on 51000 samples\n",
            "Epoch 1/2\n",
            "51000/51000 [==============================] - 1s 13us/sample - loss: 3.0024 - accuracy: 0.5040\n",
            "Epoch 2/2\n",
            "51000/51000 [==============================] - 0s 8us/sample - loss: 0.6831 - accuracy: 0.7909\n",
            "10000/10000 - 1s - loss: 0.5178 - accuracy: 0.8566\n",
            "\n",
            "Training model with batch_size 104 and learning_rate 0.05020846858407485\n",
            "Train on 51000 samples\n",
            "Epoch 1/2\n",
            "51000/51000 [==============================] - 2s 33us/sample - loss: 0.6262 - accuracy: 0.8628\n",
            "Epoch 2/2\n",
            "51000/51000 [==============================] - 1s 29us/sample - loss: 0.3389 - accuracy: 0.9142\n",
            "10000/10000 - 1s - loss: 0.3151 - accuracy: 0.9175\n",
            "\n",
            "Training model with batch_size 37 and learning_rate 0.08640587477292848\n",
            "Train on 51000 samples\n",
            "Epoch 1/2\n",
            "51000/51000 [==============================] - 4s 81us/sample - loss: 1.3683 - accuracy: 0.5905\n",
            "Epoch 2/2\n",
            "51000/51000 [==============================] - 4s 76us/sample - loss: 1.2618 - accuracy: 0.5529\n",
            "10000/10000 - 1s - loss: 1.4572 - accuracy: 0.4130\n",
            "\n",
            "Training model with batch_size 430 and learning_rate 0.09828588963975464\n",
            "Train on 51000 samples\n",
            "Epoch 1/2\n",
            "51000/51000 [==============================] - 1s 14us/sample - loss: 2.5685 - accuracy: 0.6194\n",
            "Epoch 2/2\n",
            "51000/51000 [==============================] - 0s 9us/sample - loss: 0.5308 - accuracy: 0.8135\n",
            "10000/10000 - 1s - loss: 0.4538 - accuracy: 0.8474\n",
            "\n",
            "Training model with batch_size 484 and learning_rate 0.02522682413353286\n",
            "Train on 51000 samples\n",
            "Epoch 1/2\n",
            "51000/51000 [==============================] - 1s 13us/sample - loss: 0.6008 - accuracy: 0.8582\n",
            "Epoch 2/2\n",
            "51000/51000 [==============================] - 0s 8us/sample - loss: 0.1599 - accuracy: 0.9516\n",
            "10000/10000 - 1s - loss: 0.1768 - accuracy: 0.9479\n",
            "\n",
            "Training model with batch_size 346 and learning_rate 0.016722209996152593\n",
            "Train on 51000 samples\n",
            "Epoch 1/2\n",
            "51000/51000 [==============================] - 1s 15us/sample - loss: 0.3697 - accuracy: 0.8951\n",
            "Epoch 2/2\n",
            "51000/51000 [==============================] - 1s 10us/sample - loss: 0.1281 - accuracy: 0.9613\n",
            "10000/10000 - 1s - loss: 0.1436 - accuracy: 0.9558\n",
            "\n",
            "Training model with batch_size 370 and learning_rate 0.0686002745896184\n",
            "Train on 51000 samples\n",
            "Epoch 1/2\n",
            "51000/51000 [==============================] - 1s 15us/sample - loss: 1.8182 - accuracy: 0.7557\n",
            "Epoch 2/2\n",
            "51000/51000 [==============================] - 0s 10us/sample - loss: 0.3466 - accuracy: 0.9027\n",
            "10000/10000 - 1s - loss: 0.2982 - accuracy: 0.9184\n",
            "\n",
            "Training model with batch_size 373 and learning_rate 0.05940640186482038\n",
            "Train on 51000 samples\n",
            "Epoch 1/2\n",
            "51000/51000 [==============================] - 1s 15us/sample - loss: 1.2837 - accuracy: 0.8296\n",
            "Epoch 2/2\n",
            "51000/51000 [==============================] - 0s 9us/sample - loss: 0.2936 - accuracy: 0.9194\n",
            "10000/10000 - 1s - loss: 0.3243 - accuracy: 0.9169\n",
            "\n",
            "Training model with batch_size 207 and learning_rate 0.012348173411747945\n",
            "Train on 51000 samples\n",
            "Epoch 1/2\n",
            "51000/51000 [==============================] - 1s 20us/sample - loss: 0.2545 - accuracy: 0.9220\n",
            "Epoch 2/2\n",
            "51000/51000 [==============================] - 1s 16us/sample - loss: 0.1209 - accuracy: 0.9626\n",
            "10000/10000 - 1s - loss: 0.1447 - accuracy: 0.9581\n",
            "\n",
            "Training model with batch_size 459 and learning_rate 0.05483337576989181\n",
            "Train on 51000 samples\n",
            "Epoch 1/2\n",
            "51000/51000 [==============================] - 1s 14us/sample - loss: 1.5889 - accuracy: 0.7598\n",
            "Epoch 2/2\n",
            "51000/51000 [==============================] - 0s 9us/sample - loss: 0.3372 - accuracy: 0.9081\n",
            "10000/10000 - 1s - loss: 0.2867 - accuracy: 0.9207\n",
            "\n",
            "Training model with batch_size 504 and learning_rate 0.03569705216358303\n",
            "Train on 51000 samples\n",
            "Epoch 1/2\n",
            "51000/51000 [==============================] - 1s 19us/sample - loss: 0.8632 - accuracy: 0.8431\n",
            "Epoch 2/2\n",
            "51000/51000 [==============================] - 0s 8us/sample - loss: 0.1799 - accuracy: 0.9479\n",
            "10000/10000 - 1s - loss: 0.1864 - accuracy: 0.9470\n",
            "\n",
            "Training model with batch_size 389 and learning_rate 0.013873390432751168\n",
            "Train on 51000 samples\n",
            "Epoch 1/2\n",
            "51000/51000 [==============================] - 1s 15us/sample - loss: 0.3617 - accuracy: 0.8956\n",
            "Epoch 2/2\n",
            "51000/51000 [==============================] - 0s 10us/sample - loss: 0.1208 - accuracy: 0.9628\n",
            "10000/10000 - 1s - loss: 0.1064 - accuracy: 0.9698\n",
            "\n",
            "Training model with batch_size 181 and learning_rate 0.08784232708039079\n",
            "Train on 51000 samples\n",
            "Epoch 1/2\n",
            "51000/51000 [==============================] - 1s 24us/sample - loss: 1.9114 - accuracy: 0.5620\n",
            "Epoch 2/2\n",
            "51000/51000 [==============================] - 1s 18us/sample - loss: 0.7219 - accuracy: 0.7536\n",
            "10000/10000 - 1s - loss: 0.7454 - accuracy: 0.7537\n",
            "\n",
            "Training model with batch_size 424 and learning_rate 0.05576835574114069\n",
            "Train on 51000 samples\n",
            "Epoch 1/2\n",
            "51000/51000 [==============================] - 1s 14us/sample - loss: 1.6537 - accuracy: 0.8018\n",
            "Epoch 2/2\n",
            "51000/51000 [==============================] - 0s 9us/sample - loss: 0.2954 - accuracy: 0.9185\n",
            "10000/10000 - 1s - loss: 0.2977 - accuracy: 0.9172\n",
            "\n",
            "Training model with batch_size 29 and learning_rate 0.07977622408799954\n",
            "Train on 51000 samples\n",
            "Epoch 1/2\n",
            "51000/51000 [==============================] - 5s 95us/sample - loss: 1.4404 - accuracy: 0.4529\n",
            "Epoch 2/2\n",
            "51000/51000 [==============================] - 5s 93us/sample - loss: 1.3598 - accuracy: 0.4354\n",
            "10000/10000 - 1s - loss: 1.5132 - accuracy: 0.3751\n",
            "\n",
            "Training model with batch_size 148 and learning_rate 0.06869742954405367\n",
            "Train on 51000 samples\n",
            "Epoch 1/2\n",
            "51000/51000 [==============================] - 1s 25us/sample - loss: 1.0343 - accuracy: 0.8160\n",
            "Epoch 2/2\n",
            "51000/51000 [==============================] - 1s 22us/sample - loss: 0.4322 - accuracy: 0.8960\n",
            "10000/10000 - 1s - loss: 0.4360 - accuracy: 0.8980\n",
            "\n",
            "Training model with batch_size 75 and learning_rate 0.04095378376885379\n",
            "Train on 51000 samples\n",
            "Epoch 1/2\n",
            "51000/51000 [==============================] - 2s 39us/sample - loss: 0.4711 - accuracy: 0.8794\n",
            "Epoch 2/2\n",
            "51000/51000 [==============================] - 2s 35us/sample - loss: 0.3380 - accuracy: 0.9161\n",
            "10000/10000 - 1s - loss: 0.3509 - accuracy: 0.9165\n",
            "\n",
            "Training model with batch_size 312 and learning_rate 0.04084544260771861\n",
            "Train on 51000 samples\n",
            "Epoch 1/2\n",
            "51000/51000 [==============================] - 1s 15us/sample - loss: 0.6897 - accuracy: 0.8642\n",
            "Epoch 2/2\n",
            "51000/51000 [==============================] - 1s 12us/sample - loss: 0.2254 - accuracy: 0.9365\n",
            "10000/10000 - 1s - loss: 0.2121 - accuracy: 0.9405\n",
            "\n"
          ]
        }
      ],
      "source": [
        "acc_list = np.zeros(shape=len(lrs))\n",
        "best_accuracy = 0.\n",
        "best_model = None\n",
        "for i in range(len(lrs)):\n",
        "    batch_size = bss[i]\n",
        "    learning_rate = lrs[i]\n",
        "\n",
        "    model, acc = train_model(batch_size, learning_rate, epochs=2)\n",
        "    acc_list[i] = acc\n",
        "    if acc > best_accuracy:\n",
        "        best_accuracy = acc\n",
        "        best_model = model"
      ]
    },
    {
      "cell_type": "markdown",
      "metadata": {
        "id": "sU8HjvdLABHy"
      },
      "source": [
        "### Plotting the grid with colors representing the accuracy"
      ]
    },
    {
      "cell_type": "code",
      "execution_count": 14,
      "metadata": {
        "colab": {
          "base_uri": "https://localhost:8080/",
          "height": 497
        },
        "id": "yT4mMXZFABHz",
        "outputId": "53490797-d68d-477d-d8ca-bcc0af13a8c2"
      },
      "outputs": [
        {
          "data": {
            "image/png": "[encoded data removed]",
            "text/plain": [
              "<Figure size 1200x800 with 2 Axes>"
            ]
          },
          "metadata": {},
          "output_type": "display_data"
        }
      ],
      "source": [
        "plt.figure(figsize=(12,8))\n",
        "plt.scatter(lrs, bss, c=acc_list)\n",
        "plt.xlabel('Learning Rate (lr)')\n",
        "plt.ylabel('Batch Size (bs)')\n",
        "plt.colorbar()\n",
        "plt.show()"
      ]
    },
    {
      "cell_type": "code",
      "execution_count": null,
      "metadata": {
        "colab": {
          "base_uri": "https://localhost:8080/",
          "height": 34
        },
        "id": "rVhNTLvdABH3",
        "outputId": "30225ae7-80e9-4481-e81d-bd40e843fb29"
      },
      "outputs": [
        {
          "data": {
            "text/plain": [
              "0.9698"
            ]
          },
          "execution_count": 50,
          "metadata": {
            "tags": []
          },
          "output_type": "execute_result"
        }
      ],
      "source": [
        "best_accuracy"
      ]
    },
    {
      "cell_type": "code",
      "execution_count": null,
      "metadata": {
        "id": "qifbe4sdaKUU"
      },
      "outputs": [],
      "source": [
        "best = acc_list.argmax()\n",
        "print(f'Best accuracy {best_accuracy} with batch size {bss[best]} learning rate {lrs[best]}')"
      ]
    },
    {
      "cell_type": "markdown",
      "metadata": {
        "id": "cV8EJNphp77m"
      },
      "source": [
        "## Rough -> Delete for Publish"
      ]
    },
    {
      "cell_type": "markdown",
      "metadata": {
        "id": "yd5gpCPg95nJ"
      },
      "source": [
        "Recall the idea of Grid Search and problem of using grid search in Deep Learning\n",
        "\n",
        "Recall Random Search and Demonstrate an example of Random Search in ANN\n",
        "\n",
        "Recall Genetic Grid Search and Demonstrate an example of Genetic Grid Search in ANN"
      ]
    },
    {
      "cell_type": "code",
      "execution_count": null,
      "metadata": {
        "id": "WC4B41IsyCgm"
      },
      "outputs": [],
      "source": [
        "# import numpy as np\n",
        "# import matplotlib.pyplot as plt"
      ]
    },
    {
      "cell_type": "code",
      "execution_count": null,
      "metadata": {
        "colab": {
          "base_uri": "https://localhost:8080/",
          "height": 497
        },
        "id": "GuZ7C5t9YDpB",
        "outputId": "1fb60422-0f20-476f-f043-dcbe6c6a7c7c"
      },
      "outputs": [
        {
          "data": {
            "image/png": "[encoded data removed]",
            "text/plain": [
              "<Figure size 864x576 with 1 Axes>"
            ]
          },
          "metadata": {
            "tags": []
          },
          "output_type": "display_data"
        }
      ],
      "source": [
        "# ### Grid Search\n",
        "# lrs = np.linspace(0.001, 0.00001, num=10)\n",
        "# bss = np.array([i for i in range(3, 11)])\n",
        "# lr_grid, bs_grid = np.meshgrid(lrs, bss)\n",
        "\n",
        "# plt.figure(figsize=(12,8))\n",
        "# plt.scatter(lr_grid, bs_grid)\n",
        "# eps = 1e-4\n",
        "# plt.xlim((0.001+eps, 0.00001-eps))\n",
        "# plt.yticks(bss, labels=[str(2**i) for i in bss])\n",
        "# plt.xticks(lrs, labels=[f'{i:.2e}' for i in lrs])\n",
        "# plt.xlabel('Learning Rate (lr)')\n",
        "# plt.ylabel('Batch Size (bs)')\n",
        "\n",
        "# plt.show()"
      ]
    },
    {
      "cell_type": "code",
      "execution_count": null,
      "metadata": {
        "colab": {
          "base_uri": "https://localhost:8080/",
          "height": 497
        },
        "id": "o4y0W8RByGXH",
        "outputId": "2d20f567-177a-4b47-9e35-1098a9e61989"
      },
      "outputs": [
        {
          "data": {
            "image/png": "[encoded data removed]",
            "text/plain": [
              "<Figure size 576x576 with 1 Axes>"
            ]
          },
          "metadata": {
            "tags": []
          },
          "output_type": "display_data"
        }
      ],
      "source": [
        "# ### Random Search\n",
        "# num_samples = 20\n",
        "# np.random.seed(7)\n",
        "# lrs = np.random.uniform(low=0.001, high=0.00001, size=num_samples)\n",
        "# bss = np.random.uniform(low=8, high=1024, size=num_samples)\n",
        "\n",
        "# plt.figure(figsize=(8,8))\n",
        "# plt.scatter(lrs, bss)\n",
        "# # eps = 1e-4\n",
        "# plt.xlim((0.001+eps, 0.00001-eps))\n",
        "# # plt.yticks(bss, labels=[str(2**i) for i in bss])\n",
        "# # plt.xticks(lrs, labels=[i for i in lrs])\n",
        "# plt.xlabel('Learning Rate (lr)')\n",
        "# plt.ylabel('Batch Size (bs)')\n",
        "\n",
        "# plt.show()"
      ]
    },
    {
      "cell_type": "code",
      "execution_count": null,
      "metadata": {
        "id": "chl1_lc2yiMO"
      },
      "outputs": [],
      "source": []
    }
  ],
  "metadata": {
    "accelerator": "GPU",
    "colab": {
      "provenance": []
    },
    "kernelspec": {
      "display_name": "ai_ml_venv",
      "language": "python",
      "name": "python3"
    },
    "language_info": {
      "codemirror_mode": {
        "name": "ipython",
        "version": 3
      },
      "file_extension": ".py",
      "mimetype": "text/x-python",
      "name": "python",
      "nbconvert_exporter": "python",
      "pygments_lexer": "ipython3",
      "version": "3.12.3"
    }
  },
  "nbformat": 4,
  "nbformat_minor": 0
}
