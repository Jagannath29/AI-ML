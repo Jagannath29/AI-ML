{
  "cells": [
    {
      "cell_type": "markdown",
      "metadata": {
        "id": "YSJ3gA6E1pNc"
      },
      "source": [
        "\n",
        "\n",
        "## Learning Objectives:\n",
        "By the end of the lesson, all learners will be able to (minimum expected from everyone) :\n",
        "- Revise on the rate of convergence of a neural network affected by the selection of learning rates  \n",
        "- Use various learning rate scheduling methods for faster convergence of a neural network\n"
      ]
    },
    {
      "cell_type": "markdown",
      "metadata": {
        "id": "yMLjaBKLK58d"
      },
      "source": [
        "## Learning Rate Scheduling\n",
        "\n",
        "Learning Rate Scheduling is the process of changing the learning rate of a model in some prespecified timing. There are various ways in which we can change the learning rate during training of the model. Generally, we reduce the learning rate after a certain number of epochs.\n",
        "\n",
        "The learning rate can be scheduled in different ways. Following are the various types of learning rate scheduling.\n",
        "\n",
        "\n"
      ]
    },
    {
      "cell_type": "markdown",
      "metadata": {
        "id": "1X2nsUnQkFYO"
      },
      "source": [
        "### Constant Learning Rate\n",
        "\n",
        "Constant Learning Rate is the primary technique of learning rate scheduling where the learning rate is set to some constant value for all epochs, and never decayed or changed.\n",
        "\n",
        "This method is very easy to implement as the learning rate is set at the beginning and no change is needed. The problem with this method is that the same learning rate might be good for early epochs but might be high for the later epochs of training. Hence, the model training with constant learning rate might never converge.\n",
        "\n",
        "We need to preserve the weights learned from early epochs of training. This can be achieved by decreasing the learning rate in later epochs.\n",
        "\n",
        "\n",
        "\n"
      ]
    },
    {
      "cell_type": "markdown",
      "metadata": {
        "id": "-wsQWmVuNmIC",
        "tags": [
          "image"
        ]
      },
      "source": [
        "### Time based decay\n",
        "\n",
        "Time based decay is a learning rate decaying algorithm that decreases the learning rate based upon time. We can say that the learning rate at some epoch is inversely proportional to the current number of epochs. We can calculate the new learning rate from the old learning rate by using the following equation.\n",
        "\n",
        "$$lr_{n+1} = \\frac{1}{1+epoch\\times decay}lr_{n}$$\n",
        "where,\n",
        "\n",
        "$lr_{n+1}$ is the new learning rate,\n",
        "\n",
        "$lr_{n}$ is the old learning rate,\n",
        "\n",
        "$epoch$ is the current number of epoch,\n",
        "\n",
        "$decay$ is the decay factor (hyperparameter).\n",
        "<center>\n",
        "<figure>\n",
        "\n",
        "\n",
        "<p><img src=\"data:image/png;base64,iVBORw0KGgoAAAANSUhEUgAAAgQAAAFzCAYAAABBzRFyAAAABHNCSVQICAgIfAhkiAAAAAlwSFlzAAALEgAACxIB0t1+/AAAADh0RVh0U29mdHdhcmUAbWF0cGxvdGxpYiB2ZXJzaW9uMy4xLjIsIGh0dHA6Ly9tYXRwbG90bGliLm9yZy8li6FKAAAgAElEQVR4nO3deXxV9Z3/8dcnNxtrgABhC5sEEKqCRHDD4q6tleqgYtWxrUtbsXaZLvrr1HacsVPrTJ222lq31gUFpaKU0rrHnR1E2TSyBlmUPUAIST6/P+7BhpjlEnJz7vJ+Ph73kXO/55xvPl9ucnnnnO89x9wdERERSW8ZYRcgIiIi4VMgEBEREQUCERERUSAQERERFAhEREQEBQIREREBMsMuIExdu3b1/v37t1h/e/bsoV27di3WX5g0lsSTKuMAjSURpco4QGNpzIIFCz5x9271rUvrQNC/f3/mz5/fYv2VlJQwbty4FusvTBpL4kmVcYDGkohSZRygsTTGzNY2tE6nDERERESBQERERBQIREREBAUCERERQYFAREREUCAQERERFAhEREQEBQIRERFBgUBERESIcyAws/PMbKWZlZrZzfWszzGzqcH6OWbWv9a6W4L2lWZ2bq32h8xsi5m9V6evLmb2gpl9EHztHM+xiYiIpJK4BQIziwD3AOcDw4DLzWxYnc2uAba7+yDgLuCOYN9hwERgOHAe8PugP4A/B2113Qy85O5FwEvBcxEREYlBPI8QjAZK3X2Vu1cCU4DxdbYZDzwcLE8DzjQzC9qnuPt+d18NlAb94e6vAdvq+X61+3oY+HJLDqYpm3dVsGxrdWt+SxERkRYTz5sb9QbW13peBoxpaBt3rzKznUB+0D67zr69m/h+Be6+MVjeBBTUt5GZXQ9cD1BQUEBJSUmTA4nF/y2oYMW2KvJzX6agXfJPzSgvL2+xf5uwpcpYUmUcoLEkolQZB2gszZWSdzt0dzczb2DdfcB9AMXFxd5Sd5EadNxezv31KzxcmsXTN5xMblak6Z0SmO4WlnhSZRygsSSiVBkHaCzNFc8/ZTcAhbWe9wna6t3GzDKBPGBrjPvWtdnMegZ99QS2NLvyZujTuS3XHZPDso27+M+Zy1rzW4uIiByxeAaCeUCRmQ0ws2yikwRn1NlmBnB1sDwBeNndPWifGHwKYQBQBMxt4vvV7utq4NkWGMNhGdE9k2+cNpDJc9Yx452PWvvbi4iINFvcAoG7VwE3As8By4En3X2pmd1mZhcGmz0I5JtZKfB9gk8GuPtS4ElgGfAPYJK7VwOY2RPA28AQMyszs2uCvn4JnG1mHwBnBc9b3Q/OHcKofp255S9LWPVxeRgliIiIHLa4ziFw91nArDptt9ZargAuaWDf24Hb62m/vIHttwJnHkm9LSErksHvLh/JF3/7OjdMXsgzk05J+vkEIiKS+pJ/OnwC6tWpDb++dAQrNu3mP/6q+QQiIpL4FAji5PSh3fnm54/iibnreHZxU/MhRUREwqVAEEc/OGcwJ/TvzC1Pv0vpFs0nEBGRxKVAEEeZkQx+d/nx5GZFmDR5IfsqdSVDERFJTAoEcdYjL5e7LhvBys27+fmMpWGXIyIiUi8Fglbw+cHdmHT6UUydv56nF5aFXY6IiMhnKBC0ku+dNZgxA7rwk+nv8cHm3WGXIyIicggFglaSGcngt5ePpG12hBsmL2RvZVXYJYmIiHxKgaAVFXTM5f8mjqD043JufVbzCUREJHEoELSysUXd+Pbpg5i2oIyn5q9vegcREZFWoEAQgu+cNZgTB3bhp8++x/uaTyAiIglAgSAEkQzjtxNH0j4nixsmL2TPfs0nEBGRcCkQhKR7x1x+M3EEH35czk+feY/oXZ9FRETCoUAQolMGdeU7Zxbx9KINPKn5BCIiEiIFgpB9+4wiThmUz63PLmXFpl1hlyMiImlKgSBkkQzj/y4bScc20fkE5ZpPICIiIVAgSADdOuTw24kjWfPJHn4y/V3NJxARkVanQJAgTjoqn++dNZhnF3/ElHmaTyAiIq1LgSCB3HD6IMYWdeVnM5ay7CPNJxARkdajQJBAIhnGXZeNoHPbLCY9vpDdFQfCLklERNKEAkGC6do+Op9g7dY93PK05hOIiEjrUCBIQGMG5vP9swczc8lG3izdGnY5IiKSBhQIEtR1pw2ka/sc7n99VdiliIhIGlAgSFA5mRG+enI/Xn3/Y1Zu0g2QREQkvhQIEtgVY/rRJivCAzpKICIicaZAkMA6t8vm0uI+PLN4A1t2VYRdjoiIpDAFggT39VMHUFXj/PmtNWGXIiIiKUyBIMH1y2/HecN7MHnOOvboPgciIhInCgRJ4LrTBrJz3wGe0i2SRUQkThQIksDxfTszql9nHnxzNdU1ulCRiIi0PAWCJHHd2IGs37aP55ZuCrsUERFJQQoESeLsYQX0y2/Lfa+t0uWMRUSkxSkQJIlIhnHtqQNYvH4HC9ZuD7scERFJMQoESWTCqEI6t83ivtd0oSIREWlZCgRJpE12hCtP7McLyzez+pM9YZcjIiIpRIEgyfzrSf3JysjgwTd0lEBERFqOAkGS6dYhh4uP781T88vYWr4/7HJERCRFKBAkoWvHDmB/VQ2PzV4XdikiIpIiFAiS0KDuHThjaHceeXsNFQeqwy5HRERSgAJBkrp27AC27qlk+qINYZciIiIpQIEgSZ00MJ/P9e7I/a+vokaXMxYRkSOkQJCkzIzrxg5k1cd7eGXllrDLERGRJKdAkMS+cExPeuXl6kJFIiJyxBQIklhWJIOvnzqAOau3saRsR9jliIhIElMgSHKXnVBIh5xM7n99ddiliIhIElMgSHIdcrO4fExfZr27kbLte8MuR0REkpQCQQr46sn9MeBPb64JuxQREUlSCgQpoFenNnzpuF5MmbuOnfsOhF2OiIgkIQWCFHHt2AHsqazmibm6nLGIiBw+BYIUMbxXHqcMyufPb66hsqom7HJERCTJxDUQmNl5ZrbSzErN7OZ61ueY2dRg/Rwz619r3S1B+0ozO7epPs3sTDNbaGaLzewNMxsUz7ElomvHDmTTrgpmLvko7FJERCTJxC0QmFkEuAc4HxgGXG5mw+psdg2w3d0HAXcBdwT7DgMmAsOB84Dfm1mkiT7/AFzh7iOAx4F/j9fYEtW4wd0o6t6e+15bhbsuZywiIrGL5xGC0UCpu69y90pgCjC+zjbjgYeD5WnAmWZmQfsUd9/v7quB0qC/xvp0oGOwnAek3Z/JZsZ1pw1kxabdvFm6NexyREQkicQzEPQG1td6Xha01buNu1cBO4H8RvZtrM9rgVlmVgZcBfyyRUaRZMaP6EW3Djnc97ouZywiIrHLDLuAFvQ94AvuPsfMfgj8mmhIOISZXQ9cD1BQUEBJSUmLFVBeXt6i/TXXaT1q+Mv7H/PoX1+msEPzMl+ijKUlpMpYUmUcoLEkolQZB2gszRXPQLABKKz1vE/QVt82ZWaWSfRQ/9Ym9v1Mu5l1A45z9zlB+1TgH/UV5e73AfcBFBcX+7hx4w5vVI0oKSmhJftrrhGjK5n13y/zTkU+V33puGb1kShjaQmpMpZUGQdoLIkoVcYBGktzxfOUwTygyMwGmFk20UmCM+psMwO4OlieALzs0dlwM4CJwacQBgBFwNxG+twO5JnZ4KCvs4HlcRxbQuvUNptLi/vw7OINbN5VEXY5IiKSBOIWCII5ATcCzxH9z/lJd19qZreZ2YXBZg8C+WZWCnwfuDnYdynwJLCM6F/6k9y9uqE+g/brgL+Y2TtE5xD8MF5jSwZfP3UA1TXOw2+tCbsUERFJAnGdQ+Dus4BZddpurbVcAVzSwL63A7fH0mfQPh2YfoQlp4x++e04d3gPHpu9lkmnD6JdTipNFxERkZamKxWmsOtOG8iuiiqenL++6Y1FRCStKRCksOP7dqa4X2ceenM1VdW6nLGIiDRMgSDFXTt2IOu37eO5pZvDLkVERBKYAkGKO3tYAf3z23Lf67qcsYiINEyBIMVFMoxrxg7knfU7mL92e9jliIhIglIgSAMTju9D57ZZ3PeaLmcsIiL1UyBIA22yI1x1Yj9eXL6ZVR+Xh12OiIgkIAWCNHHVSf3JysjgkbfXhl2KiIgkIAWCNNGtQw7nDC/gmcUbqDhQHXY5IiKSYBQI0sjEE/qyY+8Bnlu6KexSREQkwSgQpJGTj8qnT+c2TJ2nKxeKiMihFAjSSEaGcVlxIW99uJW1W/eEXY6IiCQQBYI0c0lxIRmG7m8gIiKHUCBIMz3ycjl9SHeeml+m+xuIiMinFAjS0GUnFLJl935eWflx2KWIiEiCUCBIQ6cP7U63DjlMnbcu7FJERCRBKBCkoaxIBhNG9eHlFVvYtLMi7HJERCQBKBCkqcuKC6lx+MvCsrBLERGRBKBAkKb6d23HSQPzmTpvPTU1ui2yiEi6UyBIYxNHF7Ju215mr9oadikiIhIyBYI0du7wHuS1yeIJXblQRCTtKRCksdysCBeN7M1z721i+57KsMsREZEQKRCkuctOKKSyuobpizaEXYqIiIRIgSDNHd2zI8cVdmLqvPW4a3KhiEi6UiAQJp5QyMrNu1m8fkfYpYiISEgUCIQvHdeLttkRpszV5EIRkXSlQCC0z8nkgmN78tclH1G+vyrsckREJAQKBALAxNF92VtZzcx3Pgq7FBERCYECgQAwsrATgwvaM0XXJBARSUsKBAKAmXHZCX1ZvH4HKzbtCrscERFpZQoE8qmLRvYmO5KhyYUiImlIgUA+1aVdNucML2D6og1UVuuaBCIi6USBQA5x+ei+7Nx3gIWbq8MuRUREWpECgRzipIH5FHZpw6tlB8IuRUREWpECgRwiI8O4rLiQ5dtqWLt1T9jliIhIK1EgkM+YMKoQA6bqI4giImlDgUA+o0deLsd2i/DUgjKqqmvCLkdERFqBAoHUa1xhJh/v3s8rKz8OuxQREWkFCgRSr2O7RujeIYep89aFXYqIiLQCBQKpVyTDmDCqDy+v2MKmnRVhlyMiInGmQCANurS4kBqHvywsC7sUERGJMwUCaVD/ru04aWA+U+ato6ZGVy4UEUllCgTSqImjC1m/bR9vr9oadikiIhJHCgTSqHOH9yCvTZZuiywikuIUCKRRuVkRLhrZm+fe28T2PZVhlyMiInHSaCAws1wzm2BmvzGzp8zsETP7kZkNb60CJXyXnVBIZXUN0xdtCLsUERGJkwYDgZn9B/AmcDIwB/gj8CRQBfzSzF4ws2NbpUoJ1dE9O3JcYSemzFuHuyYXioikosxG1s119581sO7XZtYd6BuHmiQBXX5CITc//S6L1u/g+L6dwy5HRERaWINHCNz9b2YWMbP/aWD9FnefH7/SJJFccFwv2mZHmDpXkwtFRFJRo3MI3L0aOLWVapEE1j4nky8d24u/LvmI8v1VYZcjIiItLJZPGSwysxlmdpWZXXzwEffKJOFcNrqQvZXVzHzno7BLERGRFhZLIMgFtgJnAF8KHhfE0rmZnWdmK82s1Mxurmd9jplNDdbPMbP+tdbdErSvNLNzm+rTom43s/fNbLmZ3RRLjRK7kYWdGFzQnid0TQIRkZTT2KRCANz9a83p2MwiwD3A2UAZMM/MZrj7slqbXQNsd/dBZjYRuAO4zMyGAROB4UAv4EUzGxzs01CfXwUKgaHuXhNMepQWZGZMPKEvt81cxvKNuzi6Z8ewSxIRkRbSYCAws98BDX7GzN2b+gt8NFDq7quC/qYA44HagWA88PNgeRpwt5lZ0D7F3fcDq82sNOiPRvr8FvAVd68J6tvSRH3SDBeN7M0v/76CqfPW8/MLdTkKEZFU0dgRgiP9BEFvoPax5TJgTEPbuHuVme0E8oP22XX27R0sN9TnUUSPLlwEfAzc5O4f1C3KzK4HrgcoKCigpKTksAfWkPLy8hbtL0yNjWVkN+OpeWs4ud0WsiPWuoU1Q6q8LqkyDtBYElGqjAM0luZqMBC4+8OtUkHLyQEq3L04mPT4EDC27kbufh9wH0BxcbGPGzeuxQooKSmhJfsLU2NjyerzCVc8MId9+YM5Z0TverdJJKnyuqTKOEBjSUSpMg7QWJqrsSsV3m9mn2tgXTsz+7qZXdFI3xuIntM/qE/QVu82ZpYJ5BGdwNjQvo31WQY8HSxPB3QVxTg5aWA+hV3aMEXXJBARSRmNfcrgHuDWYMb+U2b2ezN7yMxeB94COhA979+QeUCRmQ0ws2yikwRn1NlmBnB1sDwBeNmj18adAUwMPoUwACgC5jbR5zPA6cHy54H3mxy9NEtGRnRy4durtrLmkz1hlyMiIi2gsVMGi4FLzaw9UAz0BPYBy919ZVMdB3MCbgSeAyLAQ+6+1MxuA+a7+wzgQeDRYNLgNqL/wRNs9yTRyYJVwKTgIknU12fwLX8JTDaz7wHlwLWH+W8hh2HCqD787/MrmTp/PT8+b2jY5YiIyBGK5WOH5UBJczp391nArDptt9ZargAuaWDf24HbY+kzaN8BfLE5dcrhK+iYyxlDC3hqfhnfO2sw2Zm6k7aISDLTu7g02xUn9uWT8v08t3RT2KWIiMgRUiCQZvt8UTcKu7Thsdlrwy5FRESOUMyBwMzaxrMQST4ZGcZXRvdjzuptfLB5d9jliIjIEWgyEJjZyWa2DFgRPD/OzH4f98okKVxa3IfsSAaT56wLuxQRETkCsRwhuAs4l+j1AXD3d4DT4lmUJI/89jl84Zge/GVBGXt0W2QRkaQV0ykDd697BZrqONQiSerKE/uxe38VM3RbZBGRpBVLIFhvZicDbmZZZvYDYHmc65IkMqpfZ4b26MBjs9cSva6UiIgkm1gCwTeBSURvLrQBGAHcEM+iJLmYGVec2I+lH+1i8fodYZcjIiLNEEsgGOLuV7h7gbt3d/crgaPjXZgkl4tG9qZddoRH9RFEEZGkFEsg+F2MbZLG2udkctHxvZm5ZCPb91SGXY6IiBymBi9dbGYnAScD3czs+7VWdSR6HwGRQ1x5Yj8em72OaQvKuO60gWGXIyIih6GxIwTZQHuioaFDrccuoncmFDnE0B4dKe7Xmclz1lJTo8mFIiLJpLG7Hb4KvGpmf3Z3nRiWmFx5Yj++O3Uxb374CWOLuoVdjoiIxCiWOQR7zexOM5tlZi8ffMS9MklK5x/Tgy7tsnn0bWVIEZFkEksgmEz0ssUDgP8A1gDz4liTJLGczAiXFhfy4vLNbNy5L+xyREQkRrEEgnx3fxA44O6vuvvXgTPiXJcksSvG9MWBJ+bWvcCliIgkqlgCwYHg60Yz+6KZjQS6xLEmSXKFXdry+cHdmDJ3HQeqa8IuR0REYhBLIPgvM8sD/g34AfAA8L24ViVJ76oT+7Fl935eWLY57FJERCQGjQYCM4sARe6+093fc/fT3X2Uu89opfokSY0b0p3endrwmK5cKCKSFBoNBO5eDVzeSrVIColkGF8Z05e3PtzKhx+Xh12OiIg0IZZTBm+a2d1mNtbMjj/4iHtlkvQuLS4kK2JMnr0u7FJERKQJDV6YqJYRwdfbarU5+qSBNKFbhxzOHd6DaQvW88Nzh9AmW1e8FhFJVE0GAnc/vTUKkdR01Yn9mLlkI3995yMuPaEw7HJERKQBsZwyEGm20QO6MLigPY/N0eRCEZFEpkAgcWVmXDGmH0vKdvLO+h1hlyMiIg1QIJC4u+j43rTJiugjiCIiCazJOQRmdnE9zTuBd919S8uXJKmmY24WXx7Zi+mLNvDvXxxGXtussEsSEZE6YjlCcA3RqxNeETzuB35M9OOIV8WxNkkhV57Yj4oDNUxbWBZ2KSIiUo9YAkEmcLS7/4u7/wswjOjHDscQDQYiTRreK4+RfTsxec5a3D3sckREpI5YAkGhu9e+IP2WoG0b/7zxkUiTrhzTj1Uf7+HtD7eGXYqIiNQRSyAoMbOZZna1mV0NPBu0tQM0bVxi9sVje9KpbRaPanKhiEjCiSUQTAL+TPSKhSOAR4BJ7r5HFy2Sw5GbFeGSUX14ftlmNu+qCLscERGppclA4FHT3P17wWOa6ySwNNMVY/pRXeNMmbs+7FJERKSWJgOBmV1sZh+Y2U4z22Vmu81sV2sUJ6mnf9d2jC3qyhNz11FVXRN2OSIiEojllMGvgAvdPc/dO7p7B3fvGO/CJHVdeWI/Nu2q4MXluoyFiEiiiCUQbHb35XGvRNLGmUO70zMvl8m6v4GISMKI5fbH881sKvAMsP9go7s/HbeqJKVlRjKYeEJf7nrxfVZ/socBXduFXZKISNqL5QhBR2AvcA7wpeBxQTyLktQ3cXQhmRnG4zpKICKSEJo8QuDuX2uNQiS9FHTM5ZzhBTw5v4x/O2cIuVmRsEsSEUlrDQYCM/uRu//KzH5H9FLFh3D3m+JamaS8K8f0Y9a7m5i5ZCMTRvUJuxwRkbTW2BGCgxMJ57dGIZJ+Tjoqn4Hd2vHY7LUKBCIiIWswELj7X4OvD7deOZJOzIwrxvTjP2cu470NO/lc77ywSxIRSVuxXJhosJndZ2bPm9nLBx+tUZykvgnH9yE3K4PHdH8DEZFQxfKxw6eAe4EHgOr4liPpJq9tFhce14tnF3/E//vi0XTMzQq7JBGRtBTLxw6r3P0P7j7X3RccfMS9MkkbV57Yj30Hqnl6QVnYpYiIpK1YAsFfzewGM+tpZl0OPuJemaSNY/t04tg+eTw2Zx26b5aISDhiCQRXAz8E3gIWBA998kBa1JVj+lG6pZzZq7aFXYqISFpqNBCYWQZwpbsPqPMY2Er1SZr40nG96JibyWO6cqGISCgaDQTuXgPc3Uq1SBprkx1hwqhCnntvExt27Au7HBGRtBPLKYOXzOxfzMziXo2ktWvGDsAM7i35MOxSRETSTiyB4BtEP3q438x2mdluM9sVS+dmdp6ZrTSzUjO7uZ71OWY2NVg/x8z611p3S9C+0szOPYw+f2tm5bHUJ4mld6c2TBjVh6nz1rNxp44SiIi0piYDgbt3cPcMd892947B845N7WdmEeAe4HxgGHC5mQ2rs9k1wHZ3HwTcBdwR7DsMmAgMB84Dfm9mkab6NLNioHOTo5aEdcO4QdS488dXV4VdiohIWonlCAFm1tnMRpvZaQcfMew2Gih191XuXglMAcbX2WY8cPDSyNOAM4NTE+OBKe6+391XA6VBfw32GYSFO4EfxTImSUyFXdpy8fG9eXzuOrbsqgi7HBGRtNHklQrN7FrgO0AfYDFwIvA2cEYTu/YG1td6XgaMaWgbd68ys51AftA+u86+vYPlhvq8EZjh7hsbm+5gZtcD1wMUFBRQUlLSxDBiV15e3qL9hSnMsRS3rWFadQ0/nfwqlx+dc8T9pcrrkirjAI0lEaXKOEBjaa5YLl38HeAEYLa7n25mQ4FfxLesw2NmvYBLgHFNbevu9wH3ARQXF/u4cU3uErOSkhJasr8whT2W2eWLmfXuRv7rypPo1uHIQkHYY2kpqTIO0FgSUaqMAzSW5orllEGFu1dAdBKgu68AhsSw3wagsNbzPkFbvduYWSaQB2xtZN+G2kcCg4BSM1sDtDWz0hhqlAR14+mDqKyq4f7XNZdARKQ1xBIIysysE/AM8IKZPQvEcvWYeUCRmQ0ws2yikwRn1NlmBtErIQJMAF726LVrZwATg08hDACKgLkN9enuf3P3Hu7e3937A3uDiYqSpAZ2a8+Fx/Xi0bfXsrV8f9jliIikvFg+ZXCRu+9w958DPwUeBL4cw35VRM/rPwcsB55096VmdpuZXRhs9iCQH/w1/33g5mDfpcCTwDLgH8Akd69uqM/DGbAkjxvPGERFVTUPvLE67FJERFJeLHMIMLNTgSJ3/5OZdSM6wa/Jd2l3nwXMqtN2a63lCqLn/uvb93bg9lj6rGeb9k3VJolvUPcOfPGYnjzy1hquHzuQzu2ywy5JRCRlNXmEwMx+BvwYuCVoygIei2dRIgfddGYReyqreVBHCURE4iqWOQQXARcCewDc/SOgQzyLEjlocEEHvnBMD/781hp27j0QdjkiIikrlkBQGUz0cwAzaxffkkQOdePpRZTvr+KhN3WUQEQkXmIJBE+a2R+BTmZ2HfAicH98yxL5p2G9OnLOsAIeenM1O/fpKIGISDzE8imD/yF6WeG/EL3+wK3u/rt4FyZS201nFrG7ooqH31oTdikiIikppk8ZuPsLwAtxrkWkQZ/rncdZR3fnwTdW87VT+tMhNyvskkREUkqDRwgO3ua4nkfMtz8WaUk3nVnEzn0HeOTtWK6LJSIih6PBQHDwNsf1PGK6/bFISzu2TydOH9KNB15fxZ79VWGXIyKSUmK6/bFIovj2mUVs33uAR2frKIGISEtSIJCkcnzfzowt6sr9r61ib6WOEoiItBQFAkk63z2riK17Knl8zrqwSxERSRkKBJJ0RvXrwimD8rn31VXsq6wOuxwRkZSgQCBJ6aYzivikfD9PzNVRAhGRlqBAIElpzMB8xgzowr2vfkjFAR0lEBE5UgoEkrS+c1YRW3bv58n568MuRUQk6SkQSNI6aWA+J/TvzB9KPmR/lY4SiIgcCQUCSVpmxk1nFrFxZwVPzS8LuxwRkaSmQCBJ7dRBXTm+byf+UPIhlVU1YZcjIpK0FAgkqR08SrBhxz6eXqijBCIizaVAIEnv84O7cVyfPO5+pZQD1TpKICLSHAoEkvQOHiUo276P6Ys2hF2OiEhSUiCQlHDG0O58rndH7nmllCodJRAROWwKBJISzIybzihi7da9zHjno7DLERFJOgoEkjLOHlbA0T07cvfLpVTXeNjliIgkFQUCSRlmxnfOHMSqT/Ywc4mOEoiIHA4FAkkp5wzrwZCCDvxORwlERA6LAoGklIwM49tnDqJ0Szl/f29j2OWIiCQNBQJJOed/rieDurfnty99QI2OEoiIxESBQFJOJMP49hmDeH9zOc8t3RR2OSIiSUGBQFLSBcf2YmDXdvzmpQ+ocR0lEBFpigKBpKRIhnHjGYNYsWk3czbq1sgiIk1RIJCUNX5Eb44r7MTjy/eztXx/2OWIiCQ0BQJJWZEM484Jx7K3Cn42Y2nY5YiIJDQFAklpgws6MH5QFjOXbKO9VnYAABcQSURBVOQf72mCoYhIQxQIJOV9YUAWw3p25KfPvseOvZVhlyMikpAUCCTlZWYYd15yLNv3VHLbzGVhlyMikpAUCCQtDO+Vx7fGHcXTCzfwyootYZcjIpJwFAgkbdx4xiAGF7Tn/01/l10VB8IuR0QkoSgQSNrIyYzwqwnHsXlXBf89a3nY5YiIJBQFAkkrIwo7cd3YgTwxdz1vfPBJ2OWIiCQMBQJJO987ezADu7bj5qeXsGd/VdjliIgkBAUCSTu5WRF+NeFYNuzYx6/+sSLsckREEoICgaSl4v5duPqk/jz89lrmrt4WdjkiIqFTIJC09aPzhlDYpQ0/mvYO+yp1AyQRSW8KBJK22mZncsfFx7Jm615+/cLKsMsREQmVAoGktZMHdeUrY/ry4BurWbhue9jliIiERoFA0t4t5w+lR8dcfjRtCfurdOpARNKTAoGkvQ65Wfzi4mMo3VLOb1/6IOxyRERCoUAgAowb0p0Jo/pw76ureG/DzrDLERFpdQoEIoGffnEY+e2y+cFT71BZVRN2OSIirSqugcDMzjOzlWZWamY317M+x8ymBuvnmFn/WutuCdpXmtm5TfVpZpOD9vfM7CEzy4rn2CT15LXN4vaLjmHFpt38oeTDsMsREWlVcQsEZhYB7gHOB4YBl5vZsDqbXQNsd/dBwF3AHcG+w4CJwHDgPOD3ZhZpos/JwFDgGKANcG28xiap6+xhBVx4XC/ufuUDVmzaFXY5IiKtJp5HCEYDpe6+yt0rgSnA+DrbjAceDpanAWeamQXtU9x9v7uvBkqD/hrs091neQCYC/SJ49gkhf38wuF0zM3ih08toapapw5EJD3EMxD0BtbXel4WtNW7jbtXATuB/Eb2bbLP4FTBVcA/jngEkpa6tMvmtvGf490NO7n/9dVhlyMi0ioywy4gDn4PvObur9e30syuB64HKCgooKSkpMW+cXl5eYv2F6Z0H0tbd0YVRPjf51eQV76WXu3Dn3+b7q9JokqVsaTKOEBjaa54BoINQGGt532Ctvq2KTOzTCAP2NrEvg32aWY/A7oB32ioKHe/D7gPoLi42MeNGxfzgJpSUlJCS/YXJo0FhhdXcM5drzFtXQ5PffNkIhnW8sUdBr0miSlVxpIq4wCNpbni+WfPPKDIzAaYWTbRSYIz6mwzA7g6WJ4AvBzMAZgBTAw+hTAAKCI6L6DBPs3sWuBc4HJ314lfOWLdO+Tysy8NY+G6Hfz5rTVhlyMiEldxCwTBnIAbgeeA5cCT7r7UzG4zswuDzR4E8s2sFPg+cHOw71LgSWAZ0bkAk9y9uqE+g77uBQqAt81ssZndGq+xSfr48ojenDG0O3c+t4K1W/eEXY6ISNzEdQ6Bu88CZtVpu7XWcgVwSQP73g7cHkufQXsqzoeQkJkZv7joGM7+9av8aNoSnrjuRDJCPnUgIhIP4c+UEklwPfJy+fcLjmbO6m1Mnrsu7HJEROJCgUAkBpcWFzK2qCu/nLWcsu17wy5HRKTFKRCIxMDM+O+LjwHgW48tZFfFgZArEhFpWQoEIjHq07ktd3/leFZs2sXX/jSPPfurwi5JRKTFKBCIHIbTh3bntxNHsmjddq57ZD4VB6rDLklEpEUoEIgcpvOP6cn/Xnocb6/ayrceW6BbJYtISlAgEGmGi0b24fYvH8MrKz/mO1MW6SZIIpL0FAhEmukrY/ry0wuG8ff3NvHDaUuoqfGwSxIRaTZdzEfkCFxz6gAqDlRz53Mryc3K4BcXHUP0Dt4iIslFgUDkCE06fRB7K6u455UPyc2KcOsFwxQKRCTpKBCItIAfnDOEvZXV/OnNNbTNjvDDc4eGXZKIyGFRIBBpAWbGrRcMo+JADfe88iFtsiLceEZR2GWJiMRMgUCkhZgZt3/5c1QcqOZ/nn+fNtmZXHPqgLDLEhGJiQKBSAvKyDDunHAsFQeq+c+Zy2iTFeErY/qGXZaISJP0sUORFpYZyeA3E0dy+pBu/OSZd5m+qCzskkREmqRAIBIH2ZkZ/OHKUZw0MJ9/e/IdZr27MeySREQapUAgEie5WRHu/9diRvbtzE1PLOLlFZvDLklEpEEKBCJx1C4nkz997QSO7tmRbz62kDdLPwm7JBGReikQiMRZx9wsHvn6aAbkt+Pah+czf822sEsSEfkMBQKRVtC5XTaPXTuGnnm5fPVP81hStiPskkREDqFAINJKunXIYfJ1Y+jUNot/fWguKzbtCrskEZFPKRCItKKeeW14/NoTyc2McOUDc/jw4/KwSxIRARQIRFpd3/y2TL5uDABX3D+H9dv2hlyRiIgCgUgojurWnkevGcO+A9VMuPctXlmxJeySRCTNKRCIhOTonh154roT6Zibxdf+PI8fPPUOO/ceCLssEUlTCgQiIRrWqyMzbzqVSacfxfRFGzj7rld5cZkuYCQirU+BQCRkOZkRfnjuUJ654RQ6t83m2kfm8/2pi9mxtzLs0kQkjSgQiCSIY/rk8ddvn8pNZwxixjsfcfZdr/H80k1hlyUiaUKBQCSBZGdm8P1zhvDMpFPo2j6H6x9dwE1PLGLbHh0tEJH4UiAQSUCf653Hs5NO4XtnDWbWuxs5565Xmb+pKuyyRCSFKRCIJKjszAy+c1YRM248lYKOudy9eD+THl/I1vL9YZcmIilIgUAkwQ3r1ZFnJp3CxUVZPL90E2ff9Rp/W7Ix7LJEJMUoEIgkgaxIBhcelc3Mb4+ld6c2THp8Id96bAEf79bRAhFpGQoEIklkSI8OTL/hZH503hBeWr6Fc+56lWcXb8Ddwy5NRJKcAoFIksmMZHDDuEH87aZT6Zvfju9MWcw3Hl3Alt0VYZcmIklMgUAkSRUVdOAv3zyJW84fSsn7H3P2r1/jmUU6WiAizaNAIJLEMiMZfOPzRzHrprEc1a0d3526mGsfns+CtdsUDETksGSGXYCIHLlB3dvz1DdP5k9vruauF97npRVbKOrenstOKOTi4/vQpV122CWKSILTEQKRFBHJMK4dO5A5PzmLX158DO1yMvmvvy3nxF+8xI2PL+TN0k+oqdFRAxGpn44QiKSY9jmZTBzdl4mj+7Ji0y6mzF3P9EUbmLlkI327tOWyEwqZMKoPBR1zwy5VRBKIjhCIpLChPTry8wuHM+f/nclvJo6gd6c23PncSk7+5ctc+/B8Xly2marqmrDLFJEEoCMEImkgNyvC+BG9GT+iN6s/2cOT89fz1PwyXly+mYKOOVwyqpBLiwvpm9827FJFJCQKBCJpZkDXdvz4vKF8/+zBvLxiC1Pnref3JaXc/Uoppw7qymUnFHLO8AJyMiNhlyoirUiBQCRNZUUyOHd4D84d3oOPduxj2oIyps5bz7efWETntllcfHwfJp5QSFFBh7BLFZFWoEAgIvTq1IabzizixtMH8UbpJ0yZt45H3l7Dg2+sZlS/zpwxtDsj+3bi2D6daJ+jtw2RVKTfbBH5VEaGcdrgbpw2uBuflO9n+sINTFtQxp3PrYyuNxhc0IGRfTsxsrAzI/t24qhu7cnIsJArF5EjpUAgIvXq2j6H604byHWnDWTH3koWr9/BonU7WLR+B39bspEn5q4HoENOJscVdoqGhL6dGFHYWRdCEklCCgQi0qRObbMZN6Q744Z0B6Cmxlm9dU80IKzbzqJ1O/h9yYdUBxc+6p/flpF9OzMiCApDe3QkO1OfchZJZAoEInLYMjKMo7q156hu7Zkwqg8AeyureLdsJ4vWR0PCm6WfMH3RBgByMjM4pndeEBA6s6u8hn2V1bTJ1icZRBKFAoGItIi22ZmMGZjPmIH5ALg7G3dW/PMowvodPDJ7LQ+8sRqAW974B53bZtEzrw29OuXSq1ObT5d75rWhZ14uPfJyyYroyIJIa1AgEJG4MDN6dWpDr05t+OKxPQGorKph+cZd/O31+eT17M9HO/axcWcFZdv3MXf1NnZVVNXpA7p3yDkkKPTq1IZeebn0DL52bZ+jSY0iLSCugcDMzgN+A0SAB9z9l3XW5wCPAKOArcBl7r4mWHcLcA1QDdzk7s811qeZDQCmAPnAAuAqd6+M5/hE5PBkZ2ZwXGEntvfKZNy4QZ9Zv2d/FRt37uOjHRVs3LmPDTsq2BiEhhWbdvPyii1UHDj0UstZEaN7h1w65GYGjyza50SX2+dm0rH285zo+oPbHnyu+Q0icQwEZhYB7gHOBsqAeWY2w92X1drsGmC7uw8ys4nAHcBlZjYMmAgMB3oBL5rZ4GCfhvq8A7jL3aeY2b1B33+I1/hEpOW1y8lkUPcODOpe/8WQ3J0dew/w0c59bNxRwUdBeNiyu4LdFVWUV1SxZXcFqz6uYndFFbv3V1FZ1fS9GrIzM+hYKyC0z8kkJyuD7EgG2Zm1vtZazgq+rl9zgHU5a8iO/LPt4CMnkkFWsE9mxIhkGBEzMoKvkYx/LmdkcEhbZoaRYYfuIxJP8TxCMBoodfdVAGY2BRgP1A4E44GfB8vTgLvNzIL2Ke6+H1htZqVBf9TXp5ktB84AvhJs83DQrwKBSAoxMzq3y6Zzu2yG98qLaZ/9VdWUV0QDQvn+IChUHPh0uXx/FbsqDhyyTXlFFdv3VLK/qobK6hoqq6KPAweXq2s4UF3rVtIrl8ZpxIeK1AkPZoYRPbViZphBRt22YPmf7RasA8PICLbbt3cvbReUAHAwekTfjvm0j+hy0FYnn9S7bT0ZxvhsY/3bNaC+jevYvWsf/7f0zSa3i7G7UPWMVDJuXOt8r3gGgt7A+lrPy4AxDW3j7lVmtpPoIf/ewOw6+/YOluvrMx/Y4e5V9Wx/CDO7HrgeoKCggJKSksMaVGPKy8tbtL8waSyJJ1XGAeGPJRvoEjwwoE3waFAGdW8OW+NOVQ3s3L2HnDbtqAqeH6iBqhoPvh58ONUONYc8PPoV8M+sO3T9Z9dFj5Y44LXqAXAc96A92J/ge3jwFaCGaMPBtgNta8iMVHw6Pq+1X922g08OrqvdXl9bY+rdzutvj7XPHKumat/uZn7zBNOuqtV+V9JuUqG73wfcB1BcXOzjWjB6lZSU0JL9hUljSTypMg7QWBJRqowDNJbmiudMmg1AYa3nfYK2ercxs0wgj+jkwob2bah9K9Ap6KOh7yUiIiINiGcgmAcUmdkAM8smOklwRp1tZgBXB8sTgJfd3YP2iWaWE3x6oAiY21CfwT6vBH0Q9PlsHMcmIiKSUuJ2yiCYE3Aj8BzRjwg+5O5Lzew2YL67zwAeBB4NJg1uI/ofPMF2TxKdgFgFTHL3aoD6+gy+5Y+BKWb2X8CioG8RERGJQVznELj7LGBWnbZbay1XAJc0sO/twO2x9Bm0r+Kfn0QQERGRw6CrcYiIiIgCgYiIiCgQiIiICAoEIiIiggKBiIiIoEAgIiIiKBCIiIgICgQiIiKCAoGIiIgA5p4M93+MDzP7GFjbgl12BT5pwf7CpLEknlQZB2gsiShVxgEaS2P6uXu3+lakdSBoaWY2392Lw66jJWgsiSdVxgEaSyJKlXGAxtJcOmUgIiIiCgQiIiKiQNDS7gu7gBaksSSeVBkHaCyJKFXGARpLs2gOgYiIiOgIgYiIiCgQNIuZnWdmK82s1Mxurmd9jplNDdbPMbP+rV9l08ys0MxeMbNlZrbUzL5TzzbjzGynmS0OHreGUWtTzGyNmb0b1Di/nvVmZr8NXpMlZnZ8GHU2xcyG1Pq3Xmxmu8zsu3W2SdjXxMweMrMtZvZerbYuZvaCmX0QfO3cwL5XB9t8YGZXt17V9WtgLHea2YrgZ2i6mXVqYN9Gfx5bUwPj+LmZbaj1M/SFBvZt9L2utTUwlqm1xrHGzBY3sG/CvCZBPfW+/4b6++LuehzGA4gAHwIDgWzgHWBYnW1uAO4NlicCU8Ouu4Gx9ASOD5Y7AO/XM5ZxwMywa41hLGuAro2s/wLwd8CAE4E5Ydccw5giwCainxtOitcEOA04HnivVtuvgJuD5ZuBO+rZrwuwKvjaOVjunIBjOQfIDJbvqG8swbpGfx4TYBw/B37QxH5NvtclwljqrP9f4NZEf02Ceup9/w3z90VHCA7faKDU3Ve5eyUwBRhfZ5vxwMPB8jTgTDOzVqwxJu6+0d0XBsu7geVA73CripvxwCMeNRvoZGY9wy6qCWcCH7p7S148K67c/TVgW53m2r8PDwNfrmfXc4EX3H2bu28HXgDOi1uhMahvLO7+vLtXBU9nA31avbDD1MBrEotY3utaVWNjCd5jLwWeaNWimqmR99/Qfl8UCA5fb2B9redlfPY/0U+3Cd48dgL5rVJdMwWnNUYCc+pZfZKZvWNmfzez4a1aWOwceN7MFpjZ9fWsj+V1SzQTafjNLRlek4MK3H1jsLwJKKhnm2R8fb5O9KhTfZr6eUwENwanPh5q4LB0sr0mY4HN7v5BA+sT9jWp8/4b2u+LAoFgZu2BvwDfdfdddVYvJHrI+jjgd8AzrV1fjE519+OB84FJZnZa2AUdCTPLBi4EnqpndbK8Jp/h0eOdSf/RJjP7CVAFTG5gk0T/efwDcBQwAthI9FB7srucxo8OJORr0tj7b2v/vigQHL4NQGGt532Ctnq3MbNMIA/Y2irVHSYzyyL6wzjZ3Z+uu97dd7l7ebA8C8gys66tXGaT3H1D8HULMJ3o4c7aYnndEsn5wEJ331x3RbK8JrVsPnh6Jvi6pZ5tkub1MbOvAhcAVwRv2J8Rw89jqNx9s7tXu3sNcD/115dMr0kmcDEwtaFtEvE1aeD9N7TfFwWCwzcPKDKzAcFfcROBGXW2mQEcnPU5AXi5oTeOMAXn3B4Elrv7rxvYpsfB+Q9mNproz0xChRsza2dmHQ4uE5349V6dzWYA/2pRJwI7ax2WS0QN/rWTDK9JHbV/H64Gnq1nm+eAc8ysc3D4+pygLaGY2XnAj4AL3X1vA9vE8vMYqjrzZy6i/vpiea9LFGcBK9y9rL6VifiaNPL+G97vS9gzLZPxQXTG+vtEZ+D+JGi7jeibBEAu0UO9pcBcYGDYNTcwjlOJHo5aAiwOHl8Avgl8M9jmRmAp0RnGs4GTw667nnEMDOp7J6j14GtSexwG3BO8Zu8CxWHX3ch42hH9Dz6vVltSvCZEQ8xG4ADR85rXEJ0/8xLwAfAi0CXYthh4oNa+Xw9+Z0qBryXoWEqJnrs9+Pty8NNEvYBZjf08Jtg4Hg1+D5YQ/Q+oZ91xBM8/816XaGMJ2v988Pej1rYJ+5oENTX0/hva74uuVCgiIiI6ZSAiIiIKBCIiIoICgYiIiKBAICIiIigQiIiICAoEIpKALHpHx5lh1yGSThQIRERERIFARJrPzK40s7nBPeb/aGYRMys3s7uCe7y/ZGbdgm1HmNns4IY60w/eUMfMBpnZi8HNmhaa2VFB9+3NbJqZrTCzyYl4x1CRVKJAICLNYmZHA5cBp7j7CKAauILolRbnu/tw4FXgZ8EujwA/dvdjiV4l72D7ZOAej96s6WSiV6KD6N3fvkv0HvEDgVPiPiiRNJYZdgEikrTOBEYB84I/3tsQvRFLDf+8ycxjwNNmlgd0cvdXg/aHgaeC68v3dvfpAO5eARD0N9eDa9Ob2WKgP/BG/Iclkp4UCESkuQx42N1vOaTR7Kd1tmvu9dH311quRu9XInGlUwYi0lwvARPMrDuAmXUxs35E31cmBNt8BXjD3XcC281sbNB+FfCqu+8Gyszsy0EfOWbWtlVHISKAEreINJO7LzOzfweeN7MMonegmwTsAUYH67YQnWcA0Vu53hv8h78K+FrQfhXwRzO7LejjklYchogEdLdDEWlRZlbu7u3DrkNEDo9OGYiIiIiOEIiIiIiOEIiIiAgKBCIiIoICgYiIiKBAICIiIigQiIiICAoEIiIiAvx/PLm4/SxPCZUAAAAASUVORK5CYII=\"   width=\"500\"></p>\n",
        "<figcaption align=\"center\">Figure 1: Time based decay</figcaption>\n",
        "</figure>\n",
        "</center>\n",
        "In the above figure, we start with initial learning rate of 0.001 and apply learning rate decay in each epoch. The decay used is 0.1 and applied for 21 epochs. The progression of learning rates at each epoch can be observed to be:\n",
        "\n",
        "$$\n",
        "0.001 \\rightarrow\n",
        " 0.00091 \\rightarrow\n",
        " 0.000758 \\rightarrow\n",
        " 0.000583 \\rightarrow\n",
        " 0.0004163 \\rightarrow\n",
        " 0.0002775 \\rightarrow\n",
        " 0.0001734 \\rightarrow\n",
        " 0.000102 \\hspace{2mm} \\cdots\n",
        "$$\n",
        "\n",
        "\n",
        "\n"
      ]
    },
    {
      "cell_type": "markdown",
      "metadata": {
        "id": "eHt8_d3fNmIG",
        "tags": [
          "image"
        ]
      },
      "source": [
        "### Step Decay\n",
        "\n",
        "Step decay is also a learning rate scheduling method in which the learning rate is decreased in stepwise fashion. The learning rate is constant for a certain number of epochs and changes to new value. This step wise decay of learning rate can be computed by using following equations.\n",
        "\n",
        "$$lr_{n} = lr_{0}\\times decay\\_factor$$\n",
        "where,\n",
        "$$\n",
        "decay\\_factor = decay\\_rate^{floor(fraction)}\n",
        "$$\n",
        "$$\n",
        "fraction = \\frac{(epoch+1) - start\\_decay\\_epoch}{decay\\_every}\n",
        "$$\n",
        "\n",
        "Here, fraction is calculated and its floor value is used to set decay factor. The factor is used to scale the initial learning rate. If we take initial learning rate of 0.001, decay every 20 epochs, with decay rate of 0.5, starting decay process at epoch 0, we get the learning rate plots as below:\n",
        "<center>\n",
        "<figure>\n",
        "\n",
        "\n",
        "<p><img src=\"data:image/png;base64,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\"   width=\"500\"></p>\n",
        " <figcaption align=\"center\">Figure 2: Step decay</figcaption>\n",
        "</figure>\n",
        "</center>\n",
        "We can observe that the learning rate decreases every 20 epochs. The progression of learning rates at every step can be observed as:\n",
        "\n",
        "$$\n",
        " 0.001 \\rightarrow\n",
        " 0.0005 \\rightarrow\n",
        " 0.00025 \\rightarrow\n",
        " 0.000125 \\rightarrow\n",
        " 6.25 \\times 10^{-5} \\rightarrow\n",
        " 3.125 \\times 10^{-5} \\rightarrow\n",
        " \\cdots\n",
        "$$\n",
        "\n",
        "\n",
        "\n"
      ]
    },
    {
      "cell_type": "markdown",
      "metadata": {
        "id": "Nx3S3jYUNmIG",
        "tags": [
          "image"
        ]
      },
      "source": [
        "### Exponential decay\n",
        "\n",
        "Exponential decay is another learning rate scheduling method. In this method we decay the learning rate in the exponential rate. This exponential decaying can be calculated as follows:\n",
        "\n",
        "$$lr_{n+1} = lr_{n} \\times e^{-(epoch+1)\\times decay}$$\n",
        "\n",
        "where,\n",
        "\n",
        "$epoch$ is the current number of epoch,\n",
        "\n",
        "$decay$ is the decay factor (hyperparameter).\n",
        "\n",
        "\n",
        "If we take the initial learning rate to be 0.001 and the decay factor to be 0.03, doing the exponential decay for 50 epochs gives us the learning rates as plotted below.\n",
        "<center>\n",
        "<figure>\n",
        "\n",
        "\n",
        "<p><img src=\"data:image/png;base64,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\"   width=\"500\"></p>\n",
        "<figcaption align=\"center\">Figure 3: Exponential decay</figcaption>\n",
        "</figure>\n",
        "</center>\n",
        "\n"
      ]
    },
    {
      "cell_type": "markdown",
      "metadata": {
        "id": "3G8WUDnANmIH",
        "tags": [
          "image"
        ]
      },
      "source": [
        "### Cyclic Learning Rate Schedule\n",
        "\n",
        "Cyclic learning rate schedule is a special type of learning rate scheduling where the learning rate varies between base learning rate and maximum learning rate in periodic fashion. The learning rate might take certain epochs to change from base to maximum learning rate.\n",
        "<center>\n",
        "<figure>\n",
        "\n",
        "\n",
        "<p><img src=\"data:image/png;base64,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\"   width=\"500\"></p>\n",
        "<figcaption align=\"center\">Figure 4: Cyclic Learning Rate</figcaption>\n",
        "</figure>\n",
        "</center>\n",
        "We have studied the decaying learning rate. This is not decaying, but is cyclic. The logic behind using cyclic learning rate is that periodic higher learning rates help models come out of any saddle points or local minima.\n",
        "\n",
        "\n",
        "\n",
        "\n",
        "\n"
      ]
    },
    {
      "cell_type": "markdown",
      "metadata": {
        "id": "d-yRRILprPhu"
      },
      "source": [
        "Real world data is irregular and random in nature. Using the constant learning rate, the model might not even converge. The model can suffer from local gradients problem. So, the main **advantage** of learning rate scheduling is to speed up the learning process and faster convergence of the model.\n",
        "\n",
        "We talked about the advantage of learning rate scheduling but sometimes it can be troubling too. The **disadvantage** of learning rate scheduling is that some data might be perfectly linear and in such cases, using the scheduling process can decrease the rate of convergence instead of improving it.\n",
        "\n",
        "But, overall their use has been proven to have a positive impact on the convergence time of a model.\n",
        "\n",
        "\n"
      ]
    },
    {
      "cell_type": "markdown",
      "metadata": {
        "id": "l39uaO_dR36R"
      },
      "source": [
        "### Limitations\n",
        "\n",
        "*   Learning rate scheduling mainly depends on hyperparameters which should define manually before training and depends upon type of problem and model.\n",
        "*   Learning rate scheduling uses the same learning rate to update all the parameters which is not good for the model having sparse data.\n",
        "\n",
        "Therefore, these limitations are solved by another optimization technique known as Adaptive Learning Rate. Some of the examples of Adaptive learning rate are AdaGrad, AdaDelta, RMSprop, Adam, etc.\n",
        "\n",
        "\n",
        "\n"
      ]
    },
    {
      "cell_type": "markdown",
      "metadata": {
        "id": "_1bh1WpLNmII",
        "tags": [
          "image"
        ]
      },
      "source": [
        "### Contrast all the learning rates\n",
        "\n",
        "Learning Rate is one of the Hyperparameters of a Neural Network. It determines the step size of gradient descent update in each iteration. We usually specify the learning rate at first and train our model with it. There are many possible outcomes with varying learning rates. We can see the various paths the error takes while using varying learning rates in the figure below.\n",
        " <center>\n",
        "<figure>\n",
        "\n",
        "\n",
        "<p><img src=\"data:image/png;base64,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\"   width=400px></p>\n",
        "<figcaption align=\"center\">Figure 5: Effect of Various Learning Rates on Error value</figcaption>\n",
        "</figure>\n",
        "</center>\n",
        "\n",
        "\n",
        "There are mainly four different distinct possible categories of learning rates. Following is the explanation of it.\n",
        "\n",
        "- **Very high learning rate:** When the learning rate is very high, the model can not learn, it will increase the error after taking gradient descent steps. The model cannot converge at the minimum error point given by the cost function, it will overshoot and time of convergence will be very high.\n",
        "\n",
        "- **High learning rate:** When the learning rate is high, the model learns but it cannot reach the minimum value. This is because the parameters jump around the minimum due to large learning rate.\n",
        "\n",
        "- **Good learning rate:** When the learning rate is good, the model improves on each iteration till it reaches minimum. It avoids the problem of slow convergence and oscillating loss around minima.\n",
        "\n",
        "- **Low learning rate:** When the learning rate is low, the decrease in error on each iteration is small. It takes a long time to reach minimum error value. It might also get stuck at local minima.\n",
        "\n",
        "\n",
        "\n",
        "\n",
        "\n"
      ]
    },
    {
      "cell_type": "markdown",
      "metadata": {
        "id": "2rO88YFhCOpn"
      },
      "source": [
        "## Learning Rate Scheduling in Pytorch\n"
      ]
    },
    {
      "cell_type": "markdown",
      "metadata": {
        "id": "eQe91sZuCaKC"
      },
      "source": [
        "### Import torch and required libraries\n"
      ]
    },
    {
      "cell_type": "code",
      "execution_count": 1,
      "metadata": {
        "id": "_bAPQeP6CgQX"
      },
      "outputs": [],
      "source": [
        "import torch\n",
        "from torch import nn\n",
        "from torch.utils.data import DataLoader\n",
        "from torchvision import datasets\n",
        "from torchvision.transforms import ToTensor, Lambda\n",
        "import numpy as np"
      ]
    },
    {
      "cell_type": "markdown",
      "metadata": {
        "id": "ByL1gGAS_Iv_"
      },
      "source": [
        "#### Preparing DataLoaders\n"
      ]
    },
    {
      "cell_type": "code",
      "execution_count": 2,
      "metadata": {
        "id": "_H1ZtzdK_Bz9"
      },
      "outputs": [
        {
          "name": "stderr",
          "output_type": "stream",
          "text": [
            "100%|██████████| 26.4M/26.4M [00:12<00:00, 2.14MB/s]\n",
            "100%|██████████| 29.5k/29.5k [00:00<00:00, 172kB/s]\n",
            "100%|██████████| 4.42M/4.42M [00:03<00:00, 1.44MB/s]\n",
            "100%|██████████| 5.15k/5.15k [00:00<00:00, 325kB/s]\n"
          ]
        }
      ],
      "source": [
        "training_data = datasets.FashionMNIST(\n",
        "    root=\"data\",\n",
        "    train=True,\n",
        "    download=True,\n",
        "    transform=ToTensor()\n",
        ")\n",
        "\n",
        "test_data = datasets.FashionMNIST(\n",
        "    root=\"data\",\n",
        "    train=False,\n",
        "    download=True,\n",
        "    transform=ToTensor()\n",
        ")\n",
        "\n",
        "train_dataloader = DataLoader(training_data, batch_size=16)\n",
        "test_dataloader = DataLoader(test_data, batch_size=16)\n",
        "# # Get cpu or gpu device for training.\n",
        "device = \"cuda\" if torch.cuda.is_available() else \"cpu\""
      ]
    },
    {
      "cell_type": "code",
      "execution_count": 3,
      "metadata": {},
      "outputs": [
        {
          "name": "stdout",
          "output_type": "stream",
          "text": [
            "cpu\n"
          ]
        }
      ],
      "source": [
        "print(device)"
      ]
    },
    {
      "cell_type": "markdown",
      "metadata": {
        "id": "rInIQbSS_SPc"
      },
      "source": [
        "#### Defining Model\n"
      ]
    },
    {
      "cell_type": "code",
      "execution_count": null,
      "metadata": {
        "id": "yQPYLEVm_XYk"
      },
      "outputs": [],
      "source": [
        "class NeuralNetwork(nn.Module):\n",
        "    def __init__(self):\n",
        "        super(NeuralNetwork, self).__init__()\n",
        "        self.flatten = nn.Flatten()\n",
        "        self.linear_relu_stack = nn.Sequential(\n",
        "            nn.Linear(28*28, 512),\n",
        "            nn.ReLU(),\n",
        "            nn.Linear(512, 512),\n",
        "            nn.ReLU(),\n",
        "            nn.Linear(512, 10),\n",
        "        )\n",
        "\n",
        "    def forward(self, x):\n",
        "        x = self.flatten(x)\n",
        "        logits = self.linear_relu_stack(x)\n",
        "        return logits\n",
        "\n",
        "model = NeuralNetwork()"
      ]
    },
    {
      "cell_type": "markdown",
      "metadata": {
        "id": "PqJqLcth_a7x"
      },
      "source": [
        "#### Implement Exponential Learning Rate Decay in optimizer\n",
        "\n",
        "exponential LR decay = old $l r * e^{-(e p o c h+1) * d e c a y_{-} r a t e}$\n"
      ]
    },
    {
      "cell_type": "code",
      "execution_count": null,
      "metadata": {
        "id": "Y7WVO1P3_rG-"
      },
      "outputs": [],
      "source": [
        "learning_rate = 1e-3\n",
        "batch_size = 16\n",
        "epochs = 5\n",
        "\n",
        "# Initialize the loss function\n",
        "loss_fn = nn.CrossEntropyLoss()\n",
        "\n",
        "optimizer = torch.optim.SGD(model.parameters(), lr=learning_rate)\n",
        "\n",
        "decayRate = 0.96\n",
        "exp_decay_lr_scheduler = torch.optim.lr_scheduler.ExponentialLR(optimizer=optimizer, gamma=decayRate)"
      ]
    },
    {
      "cell_type": "markdown",
      "metadata": {
        "id": "Xt_Uw7pU_vrF"
      },
      "source": [
        "#### Defining Training and Testing Loop\n"
      ]
    },
    {
      "cell_type": "code",
      "execution_count": null,
      "metadata": {
        "id": "mOfl3BTu_uj2"
      },
      "outputs": [],
      "source": [
        "def train_loop(dataloader, model, loss_fn, optimizer):\n",
        "    size = len(dataloader.dataset)\n",
        "    num_batches = len(dataloader)\n",
        "    train_loss = []\n",
        "    for batch, (X, y) in enumerate(dataloader):\n",
        "        # Compute prediction and loss\n",
        "        pred = model(X)\n",
        "        loss = loss_fn(pred, y)\n",
        "\n",
        "        # Backpropagation\n",
        "        optimizer.zero_grad()\n",
        "        loss.backward()\n",
        "        optimizer.step()\n",
        "\n",
        "        if batch % 100 == 0:\n",
        "            loss, current = loss.item(), batch * len(X)\n",
        "            train_loss.append(loss)\n",
        "            print(f\"loss: {loss:>7f}  [{current:>5d}/{size:>5d}]\")\n",
        "    exp_decay_lr_scheduler.step()\n",
        "    return np.average(train_loss)\n",
        "\n",
        "def test_loop(dataloader, model, loss_fn):\n",
        "    size = len(dataloader.dataset)\n",
        "    num_batches = len(dataloader)\n",
        "    test_loss, correct = 0, 0\n",
        "\n",
        "    with torch.no_grad():\n",
        "        for X, y in dataloader:\n",
        "            pred = model(X)\n",
        "            test_loss += loss_fn(pred, y).item()\n",
        "            correct += (pred.argmax(1) == y).type(torch.float).sum().item()\n",
        "\n",
        "    test_loss /= num_batches\n",
        "    correct /= size\n",
        "    print(f\"Test Error: \\n Accuracy: {(100*correct):>0.1f}%, Avg loss: {test_loss:>8f} \\n\")\n",
        "    return test_loss"
      ]
    },
    {
      "cell_type": "markdown",
      "metadata": {
        "id": "ERVHAEkP_3sC"
      },
      "source": [
        "#### Finally, Train the Model\n"
      ]
    },
    {
      "cell_type": "code",
      "execution_count": null,
      "metadata": {
        "id": "WN_5oq57_7f1"
      },
      "outputs": [],
      "source": [
        "train_losses, val_losses = [], []\n",
        "\n",
        "epochs = 5\n",
        "for t in range(epochs):\n",
        "    print(f\"Epoch {t+1}\\n-------------------------------\")\n",
        "    avg_train_loss = train_loop(train_dataloader, model, loss_fn, optimizer)\n",
        "    avg_test_loss = test_loop(test_dataloader, model, loss_fn)\n",
        "\n",
        "    train_losses.append(avg_train_loss)\n",
        "    val_losses.append(avg_test_loss)\n",
        "\n",
        "print(\"Done!\")"
      ]
    },
    {
      "cell_type": "code",
      "execution_count": null,
      "metadata": {
        "colab": {
          "base_uri": "https://localhost:8080/",
          "height": 321
        },
        "id": "LGhiP9AcALoD",
        "outputId": "d2398259-6be8-48f6-9e34-d23e04405aa8"
      },
      "outputs": [
        {
          "data": {
            "text/plain": [
              "<matplotlib.legend.Legend at 0x7f36ed18a390>"
            ]
          },
          "execution_count": 8,
          "metadata": {},
          "output_type": "execute_result"
        },
        {
          "data": {
            "image/png": "[encoded data removed]",
            "text/plain": [
              "<Figure size 432x288 with 1 Axes>"
            ]
          },
          "metadata": {},
          "output_type": "display_data"
        }
      ],
      "source": [
        "#loss plot\n",
        "import matplotlib.pyplot as plt\n",
        "plt.style.use('fivethirtyeight')\n",
        "plt.plot(train_losses,label='loss')\n",
        "plt.plot(val_losses,label='val loss')\n",
        "plt.ylabel('loss')\n",
        "plt.xlabel('epoch')\n",
        "plt.legend()"
      ]
    },
    {
      "cell_type": "markdown",
      "metadata": {
        "id": "n6Kqdt2ouO7x"
      },
      "source": [
        "## Learning Rate Scheduling in Tensorflow(Keras)\n"
      ]
    },
    {
      "cell_type": "markdown",
      "metadata": {
        "id": "T5kZfeuQulaz"
      },
      "source": [
        "### Import Tensorflow and required libraries\n"
      ]
    },
    {
      "cell_type": "code",
      "execution_count": 5,
      "metadata": {
        "colab": {
          "base_uri": "https://localhost:8080/",
          "height": 35
        },
        "id": "WIsJTBITuYHm",
        "outputId": "87f73e31-d29a-4004-9223-6b1d20a10e45"
      },
      "outputs": [
        {
          "data": {
            "text/plain": [
              "'2.19.0'"
            ]
          },
          "execution_count": 5,
          "metadata": {},
          "output_type": "execute_result"
        }
      ],
      "source": [
        "# % tensorflow_version 2.x\n",
        "import tensorflow as tf\n",
        "from sklearn import model_selection as ms\n",
        "\n",
        "# here we import Sequential where we can add or stack different layer of neural network\n",
        "from tensorflow.keras.models import Sequential\n",
        "# Dense layer implements operation = activation(dot(input,weight)+bias)\n",
        "from tensorflow.keras.layers import Dense, Softmax, Dropout\n",
        "\n",
        "tf.__version__"
      ]
    },
    {
      "cell_type": "code",
      "execution_count": null,
      "metadata": {},
      "outputs": [],
      "source": []
    },
    {
      "cell_type": "markdown",
      "metadata": {
        "id": "Axuqr6jDvAHo"
      },
      "source": [
        "### Load Dataset (Train, Test, Validation)\n"
      ]
    },
    {
      "cell_type": "code",
      "execution_count": 6,
      "metadata": {
        "id": "Vg-CiSCgu_fV"
      },
      "outputs": [
        {
          "name": "stdout",
          "output_type": "stream",
          "text": [
            "Downloading data from https://storage.googleapis.com/tensorflow/tf-keras-datasets/train-labels-idx1-ubyte.gz\n",
            "\u001b[1m29515/29515\u001b[0m \u001b[32m━━━━━━━━━━━━━━━━━━━━\u001b[0m\u001b[37m\u001b[0m \u001b[1m0s\u001b[0m 2us/step\n",
            "Downloading data from https://storage.googleapis.com/tensorflow/tf-keras-datasets/train-images-idx3-ubyte.gz\n",
            "\u001b[1m26421880/26421880\u001b[0m \u001b[32m━━━━━━━━━━━━━━━━━━━━\u001b[0m\u001b[37m\u001b[0m \u001b[1m4s\u001b[0m 0us/step\n",
            "Downloading data from https://storage.googleapis.com/tensorflow/tf-keras-datasets/t10k-labels-idx1-ubyte.gz\n",
            "\u001b[1m5148/5148\u001b[0m \u001b[32m━━━━━━━━━━━━━━━━━━━━\u001b[0m\u001b[37m\u001b[0m \u001b[1m0s\u001b[0m 0us/step\n",
            "Downloading data from https://storage.googleapis.com/tensorflow/tf-keras-datasets/t10k-images-idx3-ubyte.gz\n",
            "\u001b[1m4422102/4422102\u001b[0m \u001b[32m━━━━━━━━━━━━━━━━━━━━\u001b[0m\u001b[37m\u001b[0m \u001b[1m1s\u001b[0m 0us/step\n"
          ]
        }
      ],
      "source": [
        "(x_train, y_train), (x_test, y_test) = tf.keras.datasets.fashion_mnist.load_data()\n",
        "x_train = x_train.reshape(-1,28*28)/255\n",
        "x_test = x_test.reshape(-1,28*28)/255"
      ]
    },
    {
      "cell_type": "code",
      "execution_count": 7,
      "metadata": {
        "id": "xdfawKlOvb65"
      },
      "outputs": [],
      "source": [
        "x_train,x_val,y_train,y_val=ms.train_test_split(x_train,y_train,test_size=0.2,random_state=42)"
      ]
    },
    {
      "cell_type": "code",
      "execution_count": 8,
      "metadata": {
        "colab": {
          "base_uri": "https://localhost:8080/",
          "height": 67
        },
        "id": "gMSNfocSvjqZ",
        "outputId": "22f485f2-8d61-4249-f2b4-c868329f50cf"
      },
      "outputs": [
        {
          "name": "stdout",
          "output_type": "stream",
          "text": [
            "Train (48000, 784) (48000,)\n",
            "Test (10000, 784) (10000,)\n",
            "Validation (12000, 784) (12000,)\n"
          ]
        }
      ],
      "source": [
        "print(\"Train\",x_train.shape,y_train.shape)\n",
        "print(\"Test\",x_test.shape,y_test.shape)\n",
        "print(\"Validation\",x_val.shape,y_val.shape)"
      ]
    },
    {
      "cell_type": "markdown",
      "metadata": {
        "id": "53j0OgaLwQkn"
      },
      "source": [
        "## Define Model (classifier)\n"
      ]
    },
    {
      "cell_type": "code",
      "execution_count": 9,
      "metadata": {
        "id": "lAg9pIovwua-"
      },
      "outputs": [],
      "source": [
        "#defining number of neurons at different layer, number of layer ,input and output size\n",
        "#why input size is 784 and output is 10? discussed above\n",
        "input_size=784\n",
        "hidden_1_shape=256\n",
        "hidden_2_shape=128\n",
        "hidden_3_shape=50\n",
        "output_size=10"
      ]
    },
    {
      "cell_type": "code",
      "execution_count": 10,
      "metadata": {
        "id": "BMxs9GeewWjS"
      },
      "outputs": [
        {
          "name": "stderr",
          "output_type": "stream",
          "text": [
            "/home/jagannath/fuseAi/ai_ml_venv/lib/python3.12/site-packages/keras/src/layers/core/dense.py:93: UserWarning: Do not pass an `input_shape`/`input_dim` argument to a layer. When using Sequential models, prefer using an `Input(shape)` object as the first layer in the model instead.\n",
            "  super().__init__(activity_regularizer=activity_regularizer, **kwargs)\n",
            "2025-06-27 16:11:58.619407: E external/local_xla/xla/stream_executor/cuda/cuda_platform.cc:51] failed call to cuInit: INTERNAL: CUDA error: Failed call to cuInit: CUDA_ERROR_NO_DEVICE: no CUDA-capable device is detected\n"
          ]
        }
      ],
      "source": [
        "model=Sequential([Dense(hidden_1_shape,input_shape=(input_size,), activation=\"relu\"),\n",
        "                  Dropout(0.2),\n",
        "                  Dense(hidden_2_shape, activation=\"relu\"),\n",
        "                  Dropout(0.2),\n",
        "                  Dense(hidden_3_shape, activation=\"relu\"),\n",
        "                  Dropout(0.2),\n",
        "                  Dense(output_size),\n",
        "                  Softmax()])"
      ]
    },
    {
      "cell_type": "markdown",
      "metadata": {
        "id": "Z8vsCbbvw3d-"
      },
      "source": [
        "## Implement Exponential Learning Rate Decay in optimizer\n",
        "\n",
        "exponential LR decay = old $l r * e^{-(e p o c h+1) * d e c a y_{-} r a t e}$\n"
      ]
    },
    {
      "cell_type": "code",
      "execution_count": 11,
      "metadata": {
        "id": "w7b7RNk9wcLZ"
      },
      "outputs": [],
      "source": [
        "initial_learning_rate = 0.1\n",
        "lr_schedule = tf.keras.optimizers.schedules.ExponentialDecay(initial_learning_rate,\n",
        "                                                             decay_steps=20,\n",
        "                                                             decay_rate=0.96,   # 0.1 * 0.96 = new_learning_rate\n",
        "                                                             staircase=True)"
      ]
    },
    {
      "cell_type": "code",
      "execution_count": 12,
      "metadata": {
        "id": "jVhpFrCZw_Sd"
      },
      "outputs": [],
      "source": [
        "model.compile(optimizer=tf.keras.optimizers.SGD(learning_rate=lr_schedule),\n",
        "              loss='sparse_categorical_crossentropy',\n",
        "              metrics=['accuracy'])"
      ]
    },
    {
      "cell_type": "code",
      "execution_count": 13,
      "metadata": {
        "colab": {
          "base_uri": "https://localhost:8080/",
          "height": 418
        },
        "id": "7nPGYZbzxHfi",
        "outputId": "a7928335-b780-43d5-f4e1-ce9a94f1e933"
      },
      "outputs": [
        {
          "data": {
            "text/html": [
              "<pre style=\"white-space:pre;overflow-x:auto;line-height:normal;font-family:Menlo,'DejaVu Sans Mono',consolas,'Courier New',monospace\"><span style=\"font-weight: bold\">Model: \"sequential\"</span>\n",
              "</pre>\n"
            ],
            "text/plain": [
              "\u001b[1mModel: \"sequential\"\u001b[0m\n"
            ]
          },
          "metadata": {},
          "output_type": "display_data"
        },
        {
          "data": {
            "text/html": [
              "<pre style=\"white-space:pre;overflow-x:auto;line-height:normal;font-family:Menlo,'DejaVu Sans Mono',consolas,'Courier New',monospace\">┏━━━━━━━━━━━━━━━━━━━━━━━━━━━━━━━━━┳━━━━━━━━━━━━━━━━━━━━━━━━┳━━━━━━━━━━━━━━━┓\n",
              "┃<span style=\"font-weight: bold\"> Layer (type)                    </span>┃<span style=\"font-weight: bold\"> Output Shape           </span>┃<span style=\"font-weight: bold\">       Param # </span>┃\n",
              "┡━━━━━━━━━━━━━━━━━━━━━━━━━━━━━━━━━╇━━━━━━━━━━━━━━━━━━━━━━━━╇━━━━━━━━━━━━━━━┩\n",
              "│ dense (<span style=\"color: #0087ff; text-decoration-color: #0087ff\">Dense</span>)                   │ (<span style=\"color: #00d7ff; text-decoration-color: #00d7ff\">None</span>, <span style=\"color: #00af00; text-decoration-color: #00af00\">256</span>)            │       <span style=\"color: #00af00; text-decoration-color: #00af00\">200,960</span> │\n",
              "├─────────────────────────────────┼────────────────────────┼───────────────┤\n",
              "│ dropout (<span style=\"color: #0087ff; text-decoration-color: #0087ff\">Dropout</span>)               │ (<span style=\"color: #00d7ff; text-decoration-color: #00d7ff\">None</span>, <span style=\"color: #00af00; text-decoration-color: #00af00\">256</span>)            │             <span style=\"color: #00af00; text-decoration-color: #00af00\">0</span> │\n",
              "├─────────────────────────────────┼────────────────────────┼───────────────┤\n",
              "│ dense_1 (<span style=\"color: #0087ff; text-decoration-color: #0087ff\">Dense</span>)                 │ (<span style=\"color: #00d7ff; text-decoration-color: #00d7ff\">None</span>, <span style=\"color: #00af00; text-decoration-color: #00af00\">128</span>)            │        <span style=\"color: #00af00; text-decoration-color: #00af00\">32,896</span> │\n",
              "├─────────────────────────────────┼────────────────────────┼───────────────┤\n",
              "│ dropout_1 (<span style=\"color: #0087ff; text-decoration-color: #0087ff\">Dropout</span>)             │ (<span style=\"color: #00d7ff; text-decoration-color: #00d7ff\">None</span>, <span style=\"color: #00af00; text-decoration-color: #00af00\">128</span>)            │             <span style=\"color: #00af00; text-decoration-color: #00af00\">0</span> │\n",
              "├─────────────────────────────────┼────────────────────────┼───────────────┤\n",
              "│ dense_2 (<span style=\"color: #0087ff; text-decoration-color: #0087ff\">Dense</span>)                 │ (<span style=\"color: #00d7ff; text-decoration-color: #00d7ff\">None</span>, <span style=\"color: #00af00; text-decoration-color: #00af00\">50</span>)             │         <span style=\"color: #00af00; text-decoration-color: #00af00\">6,450</span> │\n",
              "├─────────────────────────────────┼────────────────────────┼───────────────┤\n",
              "│ dropout_2 (<span style=\"color: #0087ff; text-decoration-color: #0087ff\">Dropout</span>)             │ (<span style=\"color: #00d7ff; text-decoration-color: #00d7ff\">None</span>, <span style=\"color: #00af00; text-decoration-color: #00af00\">50</span>)             │             <span style=\"color: #00af00; text-decoration-color: #00af00\">0</span> │\n",
              "├─────────────────────────────────┼────────────────────────┼───────────────┤\n",
              "│ dense_3 (<span style=\"color: #0087ff; text-decoration-color: #0087ff\">Dense</span>)                 │ (<span style=\"color: #00d7ff; text-decoration-color: #00d7ff\">None</span>, <span style=\"color: #00af00; text-decoration-color: #00af00\">10</span>)             │           <span style=\"color: #00af00; text-decoration-color: #00af00\">510</span> │\n",
              "├─────────────────────────────────┼────────────────────────┼───────────────┤\n",
              "│ softmax (<span style=\"color: #0087ff; text-decoration-color: #0087ff\">Softmax</span>)               │ (<span style=\"color: #00d7ff; text-decoration-color: #00d7ff\">None</span>, <span style=\"color: #00af00; text-decoration-color: #00af00\">10</span>)             │             <span style=\"color: #00af00; text-decoration-color: #00af00\">0</span> │\n",
              "└─────────────────────────────────┴────────────────────────┴───────────────┘\n",
              "</pre>\n"
            ],
            "text/plain": [
              "┏━━━━━━━━━━━━━━━━━━━━━━━━━━━━━━━━━┳━━━━━━━━━━━━━━━━━━━━━━━━┳━━━━━━━━━━━━━━━┓\n",
              "┃\u001b[1m \u001b[0m\u001b[1mLayer (type)                   \u001b[0m\u001b[1m \u001b[0m┃\u001b[1m \u001b[0m\u001b[1mOutput Shape          \u001b[0m\u001b[1m \u001b[0m┃\u001b[1m \u001b[0m\u001b[1m      Param #\u001b[0m\u001b[1m \u001b[0m┃\n",
              "┡━━━━━━━━━━━━━━━━━━━━━━━━━━━━━━━━━╇━━━━━━━━━━━━━━━━━━━━━━━━╇━━━━━━━━━━━━━━━┩\n",
              "│ dense (\u001b[38;5;33mDense\u001b[0m)                   │ (\u001b[38;5;45mNone\u001b[0m, \u001b[38;5;34m256\u001b[0m)            │       \u001b[38;5;34m200,960\u001b[0m │\n",
              "├─────────────────────────────────┼────────────────────────┼───────────────┤\n",
              "│ dropout (\u001b[38;5;33mDropout\u001b[0m)               │ (\u001b[38;5;45mNone\u001b[0m, \u001b[38;5;34m256\u001b[0m)            │             \u001b[38;5;34m0\u001b[0m │\n",
              "├─────────────────────────────────┼────────────────────────┼───────────────┤\n",
              "│ dense_1 (\u001b[38;5;33mDense\u001b[0m)                 │ (\u001b[38;5;45mNone\u001b[0m, \u001b[38;5;34m128\u001b[0m)            │        \u001b[38;5;34m32,896\u001b[0m │\n",
              "├─────────────────────────────────┼────────────────────────┼───────────────┤\n",
              "│ dropout_1 (\u001b[38;5;33mDropout\u001b[0m)             │ (\u001b[38;5;45mNone\u001b[0m, \u001b[38;5;34m128\u001b[0m)            │             \u001b[38;5;34m0\u001b[0m │\n",
              "├─────────────────────────────────┼────────────────────────┼───────────────┤\n",
              "│ dense_2 (\u001b[38;5;33mDense\u001b[0m)                 │ (\u001b[38;5;45mNone\u001b[0m, \u001b[38;5;34m50\u001b[0m)             │         \u001b[38;5;34m6,450\u001b[0m │\n",
              "├─────────────────────────────────┼────────────────────────┼───────────────┤\n",
              "│ dropout_2 (\u001b[38;5;33mDropout\u001b[0m)             │ (\u001b[38;5;45mNone\u001b[0m, \u001b[38;5;34m50\u001b[0m)             │             \u001b[38;5;34m0\u001b[0m │\n",
              "├─────────────────────────────────┼────────────────────────┼───────────────┤\n",
              "│ dense_3 (\u001b[38;5;33mDense\u001b[0m)                 │ (\u001b[38;5;45mNone\u001b[0m, \u001b[38;5;34m10\u001b[0m)             │           \u001b[38;5;34m510\u001b[0m │\n",
              "├─────────────────────────────────┼────────────────────────┼───────────────┤\n",
              "│ softmax (\u001b[38;5;33mSoftmax\u001b[0m)               │ (\u001b[38;5;45mNone\u001b[0m, \u001b[38;5;34m10\u001b[0m)             │             \u001b[38;5;34m0\u001b[0m │\n",
              "└─────────────────────────────────┴────────────────────────┴───────────────┘\n"
            ]
          },
          "metadata": {},
          "output_type": "display_data"
        },
        {
          "data": {
            "text/html": [
              "<pre style=\"white-space:pre;overflow-x:auto;line-height:normal;font-family:Menlo,'DejaVu Sans Mono',consolas,'Courier New',monospace\"><span style=\"font-weight: bold\"> Total params: </span><span style=\"color: #00af00; text-decoration-color: #00af00\">240,816</span> (940.69 KB)\n",
              "</pre>\n"
            ],
            "text/plain": [
              "\u001b[1m Total params: \u001b[0m\u001b[38;5;34m240,816\u001b[0m (940.69 KB)\n"
            ]
          },
          "metadata": {},
          "output_type": "display_data"
        },
        {
          "data": {
            "text/html": [
              "<pre style=\"white-space:pre;overflow-x:auto;line-height:normal;font-family:Menlo,'DejaVu Sans Mono',consolas,'Courier New',monospace\"><span style=\"font-weight: bold\"> Trainable params: </span><span style=\"color: #00af00; text-decoration-color: #00af00\">240,816</span> (940.69 KB)\n",
              "</pre>\n"
            ],
            "text/plain": [
              "\u001b[1m Trainable params: \u001b[0m\u001b[38;5;34m240,816\u001b[0m (940.69 KB)\n"
            ]
          },
          "metadata": {},
          "output_type": "display_data"
        },
        {
          "data": {
            "text/html": [
              "<pre style=\"white-space:pre;overflow-x:auto;line-height:normal;font-family:Menlo,'DejaVu Sans Mono',consolas,'Courier New',monospace\"><span style=\"font-weight: bold\"> Non-trainable params: </span><span style=\"color: #00af00; text-decoration-color: #00af00\">0</span> (0.00 B)\n",
              "</pre>\n"
            ],
            "text/plain": [
              "\u001b[1m Non-trainable params: \u001b[0m\u001b[38;5;34m0\u001b[0m (0.00 B)\n"
            ]
          },
          "metadata": {},
          "output_type": "display_data"
        }
      ],
      "source": [
        "model.summary()"
      ]
    },
    {
      "cell_type": "markdown",
      "metadata": {
        "id": "CTdhjs5IxMyg"
      },
      "source": [
        "## Training and Evaluating Model\n"
      ]
    },
    {
      "cell_type": "code",
      "execution_count": 20,
      "metadata": {
        "colab": {
          "base_uri": "https://localhost:8080/",
          "height": 184
        },
        "id": "HLMQiXtGxREZ",
        "outputId": "d5451649-bc09-4aca-a563-a9960d8f4a03"
      },
      "outputs": [
        {
          "name": "stdout",
          "output_type": "stream",
          "text": [
            "Epoch 1/5\n",
            "\u001b[1m 26/375\u001b[0m \u001b[32m━\u001b[0m\u001b[37m━━━━━━━━━━━━━━━━━━━\u001b[0m \u001b[1m1s\u001b[0m 4ms/step - accuracy: 0.8360 - loss: 0.4770"
          ]
        },
        {
          "name": "stderr",
          "output_type": "stream",
          "text": [
            "2025-06-27 16:14:12.875696: W external/local_xla/xla/tsl/framework/cpu_allocator_impl.cc:83] Allocation of 150528000 exceeds 10% of free system memory.\n"
          ]
        },
        {
          "name": "stdout",
          "output_type": "stream",
          "text": [
            "\u001b[1m375/375\u001b[0m \u001b[32m━━━━━━━━━━━━━━━━━━━━\u001b[0m\u001b[37m\u001b[0m \u001b[1m2s\u001b[0m 5ms/step - accuracy: 0.8266 - loss: 0.5012 - val_accuracy: 0.8432 - val_loss: 0.4406\n",
            "Epoch 2/5\n",
            "\u001b[1m375/375\u001b[0m \u001b[32m━━━━━━━━━━━━━━━━━━━━\u001b[0m\u001b[37m\u001b[0m \u001b[1m2s\u001b[0m 5ms/step - accuracy: 0.8206 - loss: 0.5099 - val_accuracy: 0.8432 - val_loss: 0.4406\n",
            "Epoch 3/5\n",
            "\u001b[1m375/375\u001b[0m \u001b[32m━━━━━━━━━━━━━━━━━━━━\u001b[0m\u001b[37m\u001b[0m \u001b[1m2s\u001b[0m 5ms/step - accuracy: 0.8195 - loss: 0.5097 - val_accuracy: 0.8432 - val_loss: 0.4406\n",
            "Epoch 4/5\n",
            "\u001b[1m375/375\u001b[0m \u001b[32m━━━━━━━━━━━━━━━━━━━━\u001b[0m\u001b[37m\u001b[0m \u001b[1m2s\u001b[0m 5ms/step - accuracy: 0.8225 - loss: 0.5088 - val_accuracy: 0.8432 - val_loss: 0.4406\n",
            "Epoch 5/5\n",
            "\u001b[1m375/375\u001b[0m \u001b[32m━━━━━━━━━━━━━━━━━━━━\u001b[0m\u001b[37m\u001b[0m \u001b[1m2s\u001b[0m 5ms/step - accuracy: 0.8231 - loss: 0.5043 - val_accuracy: 0.8432 - val_loss: 0.4406\n"
          ]
        }
      ],
      "source": [
        "#training model\n",
        "history = model.fit(x_train,y_train,batch_size=128,\n",
        "          validation_data=(x_val,y_val),epochs=5)"
      ]
    },
    {
      "cell_type": "code",
      "execution_count": 21,
      "metadata": {
        "colab": {
          "base_uri": "https://localhost:8080/",
          "height": 50
        },
        "id": "yxRZMGJPyHWv",
        "outputId": "312c42f5-9fc9-43e8-be9b-1ca658bc6b36"
      },
      "outputs": [
        {
          "name": "stdout",
          "output_type": "stream",
          "text": [
            "79/79 - 0s - 3ms/step - accuracy: 0.8339 - loss: 0.4614\n",
            "loss =  0.46135619282722473 , accuracy =  0.833899974822998\n"
          ]
        }
      ],
      "source": [
        "# calculating total loss and accuracy in test set\n",
        "loss, accuracy=model.evaluate(x=x_test, y=y_test, batch_size=128,verbose=2)\n",
        "print('loss = ',loss, ', accuracy = ',accuracy)"
      ]
    },
    {
      "cell_type": "code",
      "execution_count": 22,
      "metadata": {
        "colab": {
          "base_uri": "https://localhost:8080/",
          "height": 33
        },
        "id": "kb0jDtxjymQB",
        "outputId": "95bebb4e-00bb-4528-8ce7-027723b7fbd8"
      },
      "outputs": [
        {
          "name": "stdout",
          "output_type": "stream",
          "text": [
            "\u001b[1m313/313\u001b[0m \u001b[32m━━━━━━━━━━━━━━━━━━━━\u001b[0m\u001b[37m\u001b[0m \u001b[1m1s\u001b[0m 2ms/step\n"
          ]
        },
        {
          "data": {
            "text/plain": [
              "TensorShape([10000])"
            ]
          },
          "execution_count": 22,
          "metadata": {},
          "output_type": "execute_result"
        }
      ],
      "source": [
        "# predicting value at final layer for each example\n",
        "prediction=model.predict(x_test)\n",
        "# choosing class with highest probability\n",
        "predicted=tf.argmax(prediction,axis=1)\n",
        "predicted.shape"
      ]
    },
    {
      "cell_type": "code",
      "execution_count": 23,
      "metadata": {
        "colab": {
          "base_uri": "https://localhost:8080/",
          "height": 321
        },
        "id": "7wdYVpdD2bfU",
        "outputId": "22b592b9-7ed4-43cd-89b5-c72104e313a2"
      },
      "outputs": [
        {
          "data": {
            "text/plain": [
              "<matplotlib.legend.Legend at 0x746d45f5c050>"
            ]
          },
          "execution_count": 23,
          "metadata": {},
          "output_type": "execute_result"
        },
        {
          "data": {
            "image/png": "[encoded data removed]",
            "text/plain": [
              "<Figure size 640x480 with 1 Axes>"
            ]
          },
          "metadata": {},
          "output_type": "display_data"
        }
      ],
      "source": [
        "# accuracy plots.\n",
        "import matplotlib.pyplot as plt\n",
        "plt.style.use('fivethirtyeight')\n",
        "plt.plot(history.history['accuracy'],label='accuracy')\n",
        "plt.plot(history.history['val_accuracy'],label='val accuracy')\n",
        "plt.ylabel('accuracy')\n",
        "plt.xlabel('epoch')\n",
        "plt.legend()"
      ]
    },
    {
      "cell_type": "code",
      "execution_count": 24,
      "metadata": {
        "colab": {
          "base_uri": "https://localhost:8080/",
          "height": 321
        },
        "id": "-zu6gi2I37Rd",
        "outputId": "29c599d3-fc6c-4818-d3cd-c04609a4d25f"
      },
      "outputs": [
        {
          "data": {
            "text/plain": [
              "<matplotlib.legend.Legend at 0x746d45e0a4e0>"
            ]
          },
          "execution_count": 24,
          "metadata": {},
          "output_type": "execute_result"
        },
        {
          "data": {
            "image/png": "[encoded data removed]",
            "text/plain": [
              "<Figure size 640x480 with 1 Axes>"
            ]
          },
          "metadata": {},
          "output_type": "display_data"
        }
      ],
      "source": [
        "#loss plot\n",
        "plt.plot(history.history['loss'],label='loss')\n",
        "plt.plot(history.history['val_loss'],label='val loss')\n",
        "plt.ylabel('loss')\n",
        "plt.xlabel('epoch')\n",
        "plt.legend()"
      ]
    },
    {
      "cell_type": "markdown",
      "metadata": {
        "id": "DOdxoKwEdFfL"
      },
      "source": [
        "This is how, we can implement learning rate scheduling. As you can see their is a built in function in keras to implement exponential decay.\n"
      ]
    },
    {
      "cell_type": "markdown",
      "metadata": {
        "id": "DiCeS2SCik3T"
      },
      "source": [
        "## Key Takeaways\n",
        "\n",
        "* Learning Rate Scheduling is the process of changing the learning rate of a model in some prespecified timing.\n",
        "\n",
        "* While using constant learning rate, the learning rate can be right for the initial epochs but might be higher for later epochs, so time of convergence is increased.\n",
        "\n",
        "* For faster rate of convergence, the learning rate should be decayed with no. of epochs to come.\n",
        "\n",
        "* No. of epochs are inversely proportional to the learning rate when learning rate decay is performed.\n",
        "\n",
        "* Exponential decay is a learning rate scheduling methid method where the learning rate decays in the exponential rate.\n",
        "\n",
        "* Step decay is also a learning rate scheduling method in which the learning rate is decreased in stepwise fashion. In stepwise decay, learning rate is constant for a certain number of epochs and changes to new value.\n",
        "\n",
        "* Time based decay is a learning rate decaying algorithm that decreases the learning rate based upon time.\n",
        "\n"
      ]
    }
  ],
  "metadata": {
    "colab": {
      "provenance": []
    },
    "kernelspec": {
      "display_name": "ai_ml_venv",
      "language": "python",
      "name": "python3"
    },
    "language_info": {
      "codemirror_mode": {
        "name": "ipython",
        "version": 3
      },
      "file_extension": ".py",
      "mimetype": "text/x-python",
      "name": "python",
      "nbconvert_exporter": "python",
      "pygments_lexer": "ipython3",
      "version": "3.12.3"
    }
  },
  "nbformat": 4,
  "nbformat_minor": 0
}
